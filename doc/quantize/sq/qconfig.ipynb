{
 "cells": [
  {
   "cell_type": "markdown",
   "id": "6cba7a7f",
   "metadata": {},
   "source": [
    "# QConfig"
   ]
  },
  {
   "cell_type": "code",
   "execution_count": null,
   "id": "dfad2617",
   "metadata": {},
   "outputs": [],
   "source": [
    "import torch\n",
    "from torchvision import models\n",
    "import tvm\n",
    "from tvm import relax\n",
    "from tvm.relax.frontend.torch import from_exported_program\n",
    "from torch.export import export\n",
    "\n",
    "pipeline = tvm.transform.Sequential([\n",
    "    relax.transform.FoldBatchnormToConv2D(),\n",
    "    relax.transform.FoldConstant(),\n",
    "    relax.transform.RemoveRedundantReshape(),\n",
    "    # 将 BatchNorm 转换为一组更简单的算子以进行融合\n",
    "    relax.transform.DecomposeOpsForInference(),\n",
    "    # 规范化绑定\n",
    "    relax.transform.CanonicalizeBindings(),\n",
    "\n",
    "])\n",
    "\n",
    "# 创建 PyTorch 模型\n",
    "torch_model = models.resnet18(weights=models.ResNet18_Weights.DEFAULT).eval()\n",
    "# Give an example argument to torch.export\n",
    "example_args = (torch.randn(1, 3, 224, 224, dtype=torch.float32),)\n",
    "# Convert the model to IRModule\n",
    "with torch.no_grad():\n",
    "    exported_program = export(torch_model, example_args)\n",
    "    mod = from_exported_program(exported_program, keep_params_as_input=False,)\n",
    "run_mod = pipeline(mod)\n",
    "run_mod = relax.get_pipeline(\"zero\")(run_mod)"
   ]
  },
  {
   "cell_type": "code",
   "execution_count": null,
   "id": "29b4d16e",
   "metadata": {},
   "outputs": [],
   "source": [
    "run_mod.show()"
   ]
  },
  {
   "cell_type": "code",
   "execution_count": 7,
   "id": "7f09f973",
   "metadata": {},
   "outputs": [],
   "source": [
    "from tvm.relax.frontend import nn"
   ]
  },
  {
   "cell_type": "code",
   "execution_count": 8,
   "id": "61f5d256",
   "metadata": {},
   "outputs": [
    {
     "data": {
      "text/plain": [
       "<function tvm.relax.frontend.nn.op.extern(name: str, args: Sequence[Union[tvm.relax.frontend.nn.core.Tensor, tvm.ir.expr.PrimExpr, int, float, str]], out: ~OutType) -> ~OutType>"
      ]
     },
     "execution_count": 8,
     "metadata": {},
     "output_type": "execute_result"
    }
   ],
   "source": [
    "nn.extern"
   ]
  },
  {
   "cell_type": "code",
   "execution_count": 12,
   "id": "df5db79f",
   "metadata": {},
   "outputs": [],
   "source": [
    "from tvm import te\n",
    "A = te.placeholder((128, 128), name=\"A\")\n",
    "B = te.placeholder((128, 128), name=\"B\")\n",
    "P = te.placeholder((1,), name=\"P\")\n",
    "C = te.extern(\n",
    "    (128, 128),\n",
    "    [A, B, P],\n",
    "    lambda ins, outs: tvm.tir.call_extern(\n",
    "        \"\", \"myfunc\", ins[0].data, ins[1].data, outs[0].data, ins[2][0]\n",
    "    ),\n",
    "    name=\"C\",\n",
    ")\n",
    "func = te.create_prim_func([A, B, P, C])"
   ]
  },
  {
   "cell_type": "code",
   "execution_count": 13,
   "id": "ef522b57",
   "metadata": {},
   "outputs": [
    {
     "data": {
      "text/html": [
       "<div class=\"highlight\" style=\"background: \"><pre style=\"line-height: 125%;\"><span></span><span style=\"color: #007979; font-style: italic\"># from tvm.script import tir as T</span>\n",
       "\n",
       "<span style=\"color: #A2F\">@T</span><span style=\"color: #A2F; font-weight: bold\">.</span>prim_func\n",
       "<span style=\"color: #008000; font-weight: bold\">def</span> <span style=\"color: #00F\">main</span>(var_A: T<span style=\"color: #A2F; font-weight: bold\">.</span>handle, var_B: T<span style=\"color: #A2F; font-weight: bold\">.</span>handle, var_P: T<span style=\"color: #A2F; font-weight: bold\">.</span>handle, var_C: T<span style=\"color: #A2F; font-weight: bold\">.</span>handle):\n",
       "    T<span style=\"color: #A2F; font-weight: bold\">.</span>func_attr({<span style=\"color: #BA2121\">&quot;tir.noalias&quot;</span>: <span style=\"color: #008000; font-weight: bold\">True</span>})\n",
       "    A <span style=\"color: #A2F; font-weight: bold\">=</span> T<span style=\"color: #A2F; font-weight: bold\">.</span>match_buffer(var_A, (<span style=\"color: #008000\">128</span>, <span style=\"color: #008000\">128</span>), offset_factor<span style=\"color: #A2F; font-weight: bold\">=</span><span style=\"color: #008000\">1</span>)\n",
       "    B <span style=\"color: #A2F; font-weight: bold\">=</span> T<span style=\"color: #A2F; font-weight: bold\">.</span>match_buffer(var_B, (<span style=\"color: #008000\">128</span>, <span style=\"color: #008000\">128</span>), offset_factor<span style=\"color: #A2F; font-weight: bold\">=</span><span style=\"color: #008000\">1</span>)\n",
       "    P <span style=\"color: #A2F; font-weight: bold\">=</span> T<span style=\"color: #A2F; font-weight: bold\">.</span>match_buffer(var_P, (<span style=\"color: #008000\">1</span>,), offset_factor<span style=\"color: #A2F; font-weight: bold\">=</span><span style=\"color: #008000\">1</span>)\n",
       "    C <span style=\"color: #A2F; font-weight: bold\">=</span> T<span style=\"color: #A2F; font-weight: bold\">.</span>match_buffer(var_C, (<span style=\"color: #008000\">128</span>, <span style=\"color: #008000\">128</span>), offset_factor<span style=\"color: #A2F; font-weight: bold\">=</span><span style=\"color: #008000\">1</span>)\n",
       "    <span style=\"color: #008000; font-weight: bold\">with</span> T<span style=\"color: #A2F; font-weight: bold\">.</span>block(<span style=\"color: #BA2121\">&quot;C&quot;</span>):\n",
       "        T<span style=\"color: #A2F; font-weight: bold\">.</span>reads()\n",
       "        T<span style=\"color: #A2F; font-weight: bold\">.</span>writes()\n",
       "        T<span style=\"color: #A2F; font-weight: bold\">.</span>call_extern(<span style=\"color: #BA2121\">&quot;void&quot;</span>, <span style=\"color: #BA2121\">&quot;myfunc&quot;</span>, A<span style=\"color: #A2F; font-weight: bold\">.</span>data, B<span style=\"color: #A2F; font-weight: bold\">.</span>data, C<span style=\"color: #A2F; font-weight: bold\">.</span>data, P[<span style=\"color: #008000\">0</span>])\n",
       "</pre></div>\n"
      ],
      "text/plain": [
       "<IPython.core.display.HTML object>"
      ]
     },
     "metadata": {},
     "output_type": "display_data"
    }
   ],
   "source": [
    "func.show()"
   ]
  },
  {
   "cell_type": "markdown",
   "id": "589709a9",
   "metadata": {},
   "source": []
  }
 ],
 "metadata": {
  "kernelspec": {
   "display_name": "py313",
   "language": "python",
   "name": "python3"
  },
  "language_info": {
   "codemirror_mode": {
    "name": "ipython",
    "version": 3
   },
   "file_extension": ".py",
   "mimetype": "text/x-python",
   "name": "python",
   "nbconvert_exporter": "python",
   "pygments_lexer": "ipython3",
   "version": "3.13.5"
  }
 },
 "nbformat": 4,
 "nbformat_minor": 5
}
