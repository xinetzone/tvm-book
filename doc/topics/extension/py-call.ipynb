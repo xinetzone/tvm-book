{
 "cells": [
  {
   "cell_type": "markdown",
   "metadata": {},
   "source": [
    "# TVM：Python 调用 C++\n",
    "\n",
    "下面逐步揭开 TVM 中 C++/C 与 Python 交互的机制。\n",
    "\n",
    "在 C++ 中定义加法算子："
   ]
  },
  {
   "cell_type": "markdown",
   "metadata": {},
   "source": [
    "````{tab-set-code}\n",
    "```{literalinclude} cpp/sym_add/src/sym_add.cc\n",
    ":language: c++\n",
    "```\n",
    "\n",
    "```{literalinclude} cpp/sym_add/Makefile\n",
    ":language: Makefile\n",
    "```\n",
    "````"
   ]
  },
  {
   "cell_type": "markdown",
   "metadata": {},
   "source": [
    "## Python 端加载 C++ 端动态库\n",
    "\n",
    "可以使用 {mod}`ctypes` 加载动态库："
   ]
  },
  {
   "cell_type": "code",
   "execution_count": 1,
   "metadata": {},
   "outputs": [
    {
     "ename": "OSError",
     "evalue": "outputs/libs/libtvm_ext.so: undefined symbol: _ZNK3tvm7runtime6Object11DerivedFromEj",
     "output_type": "error",
     "traceback": [
      "\u001b[0;31m---------------------------------------------------------------------------\u001b[0m",
      "\u001b[0;31mOSError\u001b[0m                                   Traceback (most recent call last)",
      "\u001b[1;32m/media/pc/data/lxw/ai/tvm/xinetzone/tvm-book/doc/topics/extension/sym-add.ipynb 单元格 4\u001b[0m line \u001b[0;36m4\n\u001b[1;32m      <a href='vscode-notebook-cell://ssh-remote%2B10.16.11.3/media/pc/data/lxw/ai/tvm/xinetzone/tvm-book/doc/topics/extension/sym-add.ipynb#X44sdnNjb2RlLXJlbW90ZQ%3D%3D?line=0'>1</a>\u001b[0m \u001b[39mimport\u001b[39;00m \u001b[39mctypes\u001b[39;00m\n\u001b[1;32m      <a href='vscode-notebook-cell://ssh-remote%2B10.16.11.3/media/pc/data/lxw/ai/tvm/xinetzone/tvm-book/doc/topics/extension/sym-add.ipynb#X44sdnNjb2RlLXJlbW90ZQ%3D%3D?line=2'>3</a>\u001b[0m \u001b[39m# 作为全局加载，使全局外部符号对其他 dll 可见。\u001b[39;00m\n\u001b[0;32m----> <a href='vscode-notebook-cell://ssh-remote%2B10.16.11.3/media/pc/data/lxw/ai/tvm/xinetzone/tvm-book/doc/topics/extension/sym-add.ipynb#X44sdnNjb2RlLXJlbW90ZQ%3D%3D?line=3'>4</a>\u001b[0m _LIB \u001b[39m=\u001b[39m ctypes\u001b[39m.\u001b[39;49mCDLL(\u001b[39m\"\u001b[39;49m\u001b[39moutputs/libs/libtvm_ext.so\u001b[39;49m\u001b[39m\"\u001b[39;49m, ctypes\u001b[39m.\u001b[39;49mRTLD_GLOBAL)\n",
      "File \u001b[0;32m/media/pc/data/tmp/cache/conda/envs/tvmz/lib/python3.10/ctypes/__init__.py:374\u001b[0m, in \u001b[0;36mCDLL.__init__\u001b[0;34m(self, name, mode, handle, use_errno, use_last_error, winmode)\u001b[0m\n\u001b[1;32m    371\u001b[0m \u001b[39mself\u001b[39m\u001b[39m.\u001b[39m_FuncPtr \u001b[39m=\u001b[39m _FuncPtr\n\u001b[1;32m    373\u001b[0m \u001b[39mif\u001b[39;00m handle \u001b[39mis\u001b[39;00m \u001b[39mNone\u001b[39;00m:\n\u001b[0;32m--> 374\u001b[0m     \u001b[39mself\u001b[39m\u001b[39m.\u001b[39m_handle \u001b[39m=\u001b[39m _dlopen(\u001b[39mself\u001b[39;49m\u001b[39m.\u001b[39;49m_name, mode)\n\u001b[1;32m    375\u001b[0m \u001b[39melse\u001b[39;00m:\n\u001b[1;32m    376\u001b[0m     \u001b[39mself\u001b[39m\u001b[39m.\u001b[39m_handle \u001b[39m=\u001b[39m handle\n",
      "\u001b[0;31mOSError\u001b[0m: outputs/libs/libtvm_ext.so: undefined symbol: _ZNK3tvm7runtime6Object11DerivedFromEj"
     ]
    }
   ],
   "source": [
    "import ctypes\n",
    "\n",
    "# 作为全局加载，使全局外部符号对其他 dll 可见。\n",
    "_LIB = ctypes.CDLL(\"outputs/libs/libtvm_ext.so\", ctypes.RTLD_GLOBAL)"
   ]
  },
  {
   "cell_type": "markdown",
   "metadata": {},
   "source": [
    "加载失败，是由于 `libtvm_ext.so` 是在 `libtvm.so` 基础上拓展的，故而需要先提前加载 `libtvm.so`，或者直接 `import tvm`："
   ]
  },
  {
   "cell_type": "code",
   "execution_count": 2,
   "metadata": {},
   "outputs": [],
   "source": [
    "import tvm\n",
    "import ctypes\n",
    "\n",
    "# 作为全局加载，使全局外部符号对其他 dll 可见。\n",
    "_LIB = ctypes.CDLL(\"outputs/libs/libtvm_ext.so\", ctypes.RTLD_GLOBAL)"
   ]
  },
  {
   "cell_type": "markdown",
   "metadata": {},
   "source": [
    "加载动态库，也可以直接使用 {func}`~tvm_book.tvm_ext.libinfo._load_lib`："
   ]
  },
  {
   "cell_type": "code",
   "execution_count": 1,
   "metadata": {},
   "outputs": [],
   "source": [
    "from tvm_book.tvm_ext.libinfo import _load_lib\n",
    "\n",
    "_LIB, _LIB_NAME = _load_lib() # 加载 libtvm_ext.so\n",
    "_LIB_EXT, _LIB_EXT_NAME = _load_lib(name=\"libtvm_ext.so\", search_path=[\"outputs/libs\"])"
   ]
  },
  {
   "cell_type": "markdown",
   "metadata": {},
   "source": [
    "回调 C++ 函数："
   ]
  },
  {
   "cell_type": "code",
   "execution_count": 3,
   "metadata": {},
   "outputs": [],
   "source": [
    "import tvm\n",
    "sym_add = tvm.get_global_func(\"tvm_ext.sym_add\")"
   ]
  },
  {
   "cell_type": "markdown",
   "metadata": {},
   "source": [
    "测试："
   ]
  },
  {
   "cell_type": "code",
   "execution_count": 4,
   "metadata": {},
   "outputs": [
    {
     "name": "stdout",
     "output_type": "stream",
     "text": [
      "x + y\n"
     ]
    }
   ],
   "source": [
    "from tvm import te\n",
    "a = te.var(\"x\")\n",
    "b = te.var(\"y\")\n",
    "c = sym_add(a, b)\n",
    "assert c.a == a and c.b == b\n",
    "print(c)"
   ]
  },
  {
   "cell_type": "markdown",
   "metadata": {},
   "source": [
    "这些调用细节可以借助 FFI 机制进行隐藏。\n",
    "\n",
    "## 使用 {func}`tvm._ffi._init_api` 管理 TVM 插件"
   ]
  },
  {
   "cell_type": "code",
   "execution_count": 1,
   "metadata": {},
   "outputs": [],
   "source": [
    "from tvm_book.tvm_ext.libinfo import _load_lib\n",
    "\n",
    "_LIB_EXT, _LIB_EXT_NAME = _load_lib(name=\"libtvm_ext.so\", search_path=[\"outputs/libs\"])"
   ]
  },
  {
   "cell_type": "code",
   "execution_count": 2,
   "metadata": {},
   "outputs": [],
   "source": [
    "import tvm\n",
    "\n",
    "tvm._ffi._init_api(\"tvm_ext\", __name__)"
   ]
  },
  {
   "cell_type": "markdown",
   "metadata": {},
   "source": [
    "下面便可以直接使用 `tvm_ext` 下的函数了："
   ]
  },
  {
   "cell_type": "code",
   "execution_count": 4,
   "metadata": {},
   "outputs": [
    {
     "data": {
      "text/plain": [
       "<tvm.runtime.packed_func.PackedFunc at 0x7fbfb4910500>"
      ]
     },
     "execution_count": 4,
     "metadata": {},
     "output_type": "execute_result"
    }
   ],
   "source": [
    "sym_add"
   ]
  },
  {
   "cell_type": "markdown",
   "metadata": {},
   "source": [
    "```{tip}\n",
    "C++ 端调用 Python 程序的示例请移步 [C++ 部署](../../tutorials/deploy/cpp)。\n",
    "```"
   ]
  },
  {
   "cell_type": "markdown",
   "metadata": {},
   "source": [
    "## 其他 C++ 打包函数的例子"
   ]
  },
  {
   "cell_type": "markdown",
   "metadata": {},
   "source": [
    "### 加法偏函数\n",
    "\n",
    "```c++\n",
    "#include <tvm/runtime/packed_func.h>\n",
    "#include <tvm/runtime/registry.h>\n",
    "\n",
    "using namespace tvm::runtime;\n",
    "\n",
    "namespace tvm_ext {\n",
    "TVM_REGISTER_GLOBAL(\"tvm_ext.bind_add\").set_body([](TVMArgs args_, TVMRetValue* rv_) {\n",
    "  PackedFunc pf = args_[0];\n",
    "  int b = args_[1];\n",
    "  *rv_ = PackedFunc([pf, b](TVMArgs args, TVMRetValue* rv) { *rv = pf(b, args[0]); });\n",
    "});\n",
    "\n",
    "} // namespace tvm_ext\n",
    "\n",
    "```"
   ]
  },
  {
   "cell_type": "code",
   "execution_count": 2,
   "metadata": {},
   "outputs": [],
   "source": [
    "import tvm\n",
    "from tvm_book.tvm_ext.libinfo import _load_lib\n",
    "\n",
    "_LIB_EXT, _LIB_EXT_NAME = _load_lib(name=\"libtvm_ext.so\", search_path=[\"outputs/libs\"])\n",
    "tvm._ffi._init_api(\"tvm_ext\", __name__)"
   ]
  },
  {
   "cell_type": "code",
   "execution_count": 4,
   "metadata": {},
   "outputs": [
    {
     "data": {
      "text/plain": [
       "<tvm.runtime.packed_func.PackedFunc at 0x7ff9bb94e240>"
      ]
     },
     "execution_count": 4,
     "metadata": {},
     "output_type": "execute_result"
    }
   ],
   "source": [
    "bind_add"
   ]
  },
  {
   "cell_type": "code",
   "execution_count": 5,
   "metadata": {},
   "outputs": [],
   "source": [
    "def add(a, b):\n",
    "    return a + b\n",
    "\n",
    "f = bind_add(add, 7)\n",
    "assert f(2) == 9"
   ]
  },
  {
   "cell_type": "markdown",
   "metadata": {},
   "source": [
    "### C++ 外部设备的例子"
   ]
  },
  {
   "cell_type": "markdown",
   "metadata": {},
   "source": [
    "```c++\n",
    "#include <tvm/runtime/device_api.h>\n",
    "#include <tvm/runtime/packed_func.h>\n",
    "#include <tvm/runtime/registry.h>\n",
    "// #include <tvm/tir/op.h>\n",
    "\n",
    "using namespace tvm::runtime;\n",
    "\n",
    "namespace tvm_ext {\n",
    "TVM_REGISTER_GLOBAL(\"device_api.ext_dev\").set_body([](TVMArgs args, TVMRetValue* rv) {\n",
    "  *rv = (*tvm::runtime::Registry::Get(\"device_api.cpu\"))();\n",
    "});\n",
    "\n",
    "} // namespace tvm_ext\n",
    "```"
   ]
  },
  {
   "cell_type": "code",
   "execution_count": 1,
   "metadata": {},
   "outputs": [],
   "source": [
    "import tvm\n",
    "from tvm_book.tvm_ext.libinfo import _load_lib\n",
    "\n",
    "_LIB_EXT, _LIB_EXT_NAME = _load_lib(name=\"libtvm_ext.so\", search_path=[\"outputs/libs\"])\n",
    "tvm._ffi._init_api(\"tvm_ext\", __name__)"
   ]
  },
  {
   "cell_type": "code",
   "execution_count": 2,
   "metadata": {},
   "outputs": [],
   "source": [
    "import numpy as np\n",
    "from tvm import te\n",
    "n = 10\n",
    "A = te.placeholder((n,), name=\"A\")\n",
    "B = te.compute((n,), lambda *i: A(*i) + 1.0, name=\"B\")\n",
    "s = te.create_schedule(B.op)\n",
    "\n",
    "def check_llvm():\n",
    "    f = tvm.build(s, [A, B], tvm.target.Target(\"ext_dev\", \"llvm\"))\n",
    "    dev = tvm.ext_dev(0)\n",
    "    # launch the kernel.\n",
    "    a = tvm.nd.array(np.random.uniform(size=n).astype(A.dtype), dev)\n",
    "    b = tvm.nd.array(np.zeros(n, dtype=B.dtype), dev)\n",
    "    f(a, b)\n",
    "    np.testing.assert_allclose(b.numpy(), a.numpy() + 1)\n",
    "\n",
    "check_llvm()"
   ]
  },
  {
   "cell_type": "markdown",
   "metadata": {},
   "source": [
    "## 回调 C++ 端外部函数"
   ]
  },
  {
   "cell_type": "markdown",
   "metadata": {},
   "source": [
    "```c++\n",
    "#include <tvm/runtime/registry.h>\n",
    "\n",
    "// 暴露给运行时的外部函数\n",
    "extern \"C\" float TVMTestAddOne(float y) { return y + 1; }\n",
    "```"
   ]
  },
  {
   "cell_type": "code",
   "execution_count": 1,
   "metadata": {},
   "outputs": [],
   "source": [
    "import tvm\n",
    "from tvm_book.tvm_ext.libinfo import _load_lib\n",
    "\n",
    "_LIB_EXT, _LIB_EXT_NAME = _load_lib(name=\"libtvm_ext.so\", search_path=[\"outputs/libs\"])\n",
    "tvm._ffi._init_api(\"tvm_ext\", __name__)"
   ]
  },
  {
   "cell_type": "code",
   "execution_count": 4,
   "metadata": {},
   "outputs": [],
   "source": [
    "import numpy as np\n",
    "from tvm import te\n",
    "n = 10\n",
    "A = te.placeholder((n,), name=\"A\")\n",
    "B = te.compute(\n",
    "    (n,), lambda *i: tvm.tir.call_extern(\"float32\", \"TVMTestAddOne\", A(*i)), name=\"B\"\n",
    ")\n",
    "s = te.create_schedule(B.op)\n",
    "\n",
    "def check_llvm():\n",
    "    f = tvm.build(s, [A, B], \"llvm\")\n",
    "    dev = tvm.cpu(0)\n",
    "    # launch the kernel.\n",
    "    a = tvm.nd.array(np.random.uniform(size=n).astype(A.dtype), dev)\n",
    "    b = tvm.nd.array(np.zeros(n, dtype=B.dtype), dev)\n",
    "    f(a, b)\n",
    "    np.testing.assert_allclose(b.numpy(), a.numpy() + 1)\n",
    "\n",
    "check_llvm()"
   ]
  },
  {
   "cell_type": "markdown",
   "metadata": {},
   "source": [
    "## 提取外部 C++ 函数"
   ]
  },
  {
   "cell_type": "markdown",
   "metadata": {},
   "source": [
    "```c++\n",
    "// 这个回调方法允许扩展，使 TVM 能够提取。\n",
    "// 当想要使用仅包含头文件的最小版本的 TVM 运行时，这种方法会很有帮助。\n",
    "extern \"C\" int TVMExtDeclare(TVMFunctionHandle pregister) {\n",
    "  const PackedFunc& fregister = GetRef<PackedFunc>(static_cast<PackedFuncObj*>(pregister));\n",
    "  // 等价于 const PackedFunc& fregister = *static_cast<PackedFunc*>(pregister);\n",
    "  auto mul = [](TVMArgs args, TVMRetValue* rv) {\n",
    "    int x = args[0];\n",
    "    int y = args[1];\n",
    "    *rv = x * y;\n",
    "  };\n",
    "  fregister(\"mul\", PackedFunc(mul));\n",
    "  return 0;\n",
    "}\n",
    "```"
   ]
  },
  {
   "cell_type": "code",
   "execution_count": 4,
   "metadata": {},
   "outputs": [],
   "source": [
    "import tvm\n",
    "from tvm_book.tvm_ext.libinfo import _load_lib\n",
    "\n",
    "_LIB, _LIB_NAME = _load_lib(name=\"libtvm_ext.so\", search_path=[\"outputs/libs\"])\n",
    "tvm._ffi._init_api(\"tvm_ext\", __name__)"
   ]
  },
  {
   "cell_type": "code",
   "execution_count": 5,
   "metadata": {},
   "outputs": [],
   "source": [
    "fdict = tvm._ffi.registry.extract_ext_funcs(_LIB.TVMExtDeclare)\n",
    "assert fdict[\"mul\"](3, 4) == 12"
   ]
  },
  {
   "cell_type": "code",
   "execution_count": null,
   "metadata": {},
   "outputs": [],
   "source": []
  }
 ],
 "metadata": {
  "kernelspec": {
   "display_name": "tvmz",
   "language": "python",
   "name": "python3"
  },
  "language_info": {
   "codemirror_mode": {
    "name": "ipython",
    "version": 3
   },
   "file_extension": ".py",
   "mimetype": "text/x-python",
   "name": "python",
   "nbconvert_exporter": "python",
   "pygments_lexer": "ipython3",
   "version": "3.10.12"
  }
 },
 "nbformat": 4,
 "nbformat_minor": 2
}
