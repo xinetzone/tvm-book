{
 "cells": [
  {
   "cell_type": "markdown",
   "metadata": {},
   "source": [
    "# TVM 拓展：Python 调用 C++\n",
    "\n",
    "下面逐步揭开 TVM 中 C++/C 与 Python 交互的机制。\n",
    "\n",
    "在 C++ 中定义加法算子："
   ]
  },
  {
   "cell_type": "markdown",
   "metadata": {},
   "source": [
    "````{tab-set-code}\n",
    "```{literalinclude} cpp/sym_add/src/tvm_ext.cc\n",
    ":language: c++\n",
    "```\n",
    "\n",
    "```{literalinclude} cpp/sym_add/Makefile\n",
    ":language: Makefile\n",
    "```\n",
    "````"
   ]
  },
  {
   "cell_type": "markdown",
   "metadata": {},
   "source": [
    "编译："
   ]
  },
  {
   "cell_type": "code",
   "execution_count": 1,
   "metadata": {},
   "outputs": [
    {
     "name": "stdout",
     "output_type": "stream",
     "text": [
      "rm -rf outputs/*\n",
      "g++ -std=c++17 -O2 -fPIC -I/media/pc/data/lxw/ai/tvm/include -I/media/pc/data/lxw/ai/tvm/3rdparty/dmlc-core/include -I/media/pc/data/lxw/ai/tvm/3rdparty/dlpack/include -Iinclude -DDMLC_USE_LOGGING_LIBRARY=\\<tvm/runtime/logging.h\\> -shared -o outputs/libs/libtvm_ext.so src/tvm_ext.cc -ldl -pthread -L/media/pc/data/lxw/ai/tvm/build\n"
     ]
    }
   ],
   "source": [
    "%%bash\n",
    "cd cpp/sym_add\n",
    "make clean\n",
    "make"
   ]
  },
  {
   "cell_type": "markdown",
   "metadata": {},
   "source": [
    "## Python 端加载 C++ 端动态库\n",
    "\n",
    "可以使用 {mod}`ctypes` 加载动态库："
   ]
  },
  {
   "cell_type": "code",
   "execution_count": 2,
   "metadata": {},
   "outputs": [
    {
     "ename": "OSError",
     "evalue": "cpp/sym_add/outputs/libs/libtvm_ext.so: undefined symbol: _ZNK3tvm7runtime6Object11DerivedFromEj",
     "output_type": "error",
     "traceback": [
      "\u001b[0;31m---------------------------------------------------------------------------\u001b[0m",
      "\u001b[0;31mOSError\u001b[0m                                   Traceback (most recent call last)",
      "Cell \u001b[0;32mIn[2], line 4\u001b[0m\n\u001b[1;32m      1\u001b[0m \u001b[38;5;28;01mimport\u001b[39;00m \u001b[38;5;21;01mctypes\u001b[39;00m\n\u001b[1;32m      3\u001b[0m \u001b[38;5;66;03m# 作为全局加载，使全局外部符号对其他 dll 可见。\u001b[39;00m\n\u001b[0;32m----> 4\u001b[0m _LIB \u001b[38;5;241m=\u001b[39m \u001b[43mctypes\u001b[49m\u001b[38;5;241;43m.\u001b[39;49m\u001b[43mCDLL\u001b[49m\u001b[43m(\u001b[49m\u001b[38;5;124;43m\"\u001b[39;49m\u001b[38;5;124;43mcpp/sym_add/outputs/libs/libtvm_ext.so\u001b[39;49m\u001b[38;5;124;43m\"\u001b[39;49m\u001b[43m,\u001b[49m\u001b[43m \u001b[49m\u001b[43mctypes\u001b[49m\u001b[38;5;241;43m.\u001b[39;49m\u001b[43mRTLD_GLOBAL\u001b[49m\u001b[43m)\u001b[49m\n",
      "File \u001b[0;32m/media/pc/data/tmp/cache/conda/envs/py311/lib/python3.11/ctypes/__init__.py:376\u001b[0m, in \u001b[0;36mCDLL.__init__\u001b[0;34m(self, name, mode, handle, use_errno, use_last_error, winmode)\u001b[0m\n\u001b[1;32m    373\u001b[0m \u001b[38;5;28mself\u001b[39m\u001b[38;5;241m.\u001b[39m_FuncPtr \u001b[38;5;241m=\u001b[39m _FuncPtr\n\u001b[1;32m    375\u001b[0m \u001b[38;5;28;01mif\u001b[39;00m handle \u001b[38;5;129;01mis\u001b[39;00m \u001b[38;5;28;01mNone\u001b[39;00m:\n\u001b[0;32m--> 376\u001b[0m     \u001b[38;5;28mself\u001b[39m\u001b[38;5;241m.\u001b[39m_handle \u001b[38;5;241m=\u001b[39m \u001b[43m_dlopen\u001b[49m\u001b[43m(\u001b[49m\u001b[38;5;28;43mself\u001b[39;49m\u001b[38;5;241;43m.\u001b[39;49m\u001b[43m_name\u001b[49m\u001b[43m,\u001b[49m\u001b[43m \u001b[49m\u001b[43mmode\u001b[49m\u001b[43m)\u001b[49m\n\u001b[1;32m    377\u001b[0m \u001b[38;5;28;01melse\u001b[39;00m:\n\u001b[1;32m    378\u001b[0m     \u001b[38;5;28mself\u001b[39m\u001b[38;5;241m.\u001b[39m_handle \u001b[38;5;241m=\u001b[39m handle\n",
      "\u001b[0;31mOSError\u001b[0m: cpp/sym_add/outputs/libs/libtvm_ext.so: undefined symbol: _ZNK3tvm7runtime6Object11DerivedFromEj"
     ]
    }
   ],
   "source": [
    "import ctypes\n",
    "\n",
    "# 作为全局加载，使全局外部符号对其他 dll 可见。\n",
    "_LIB = ctypes.CDLL(\"cpp/sym_add/outputs/libs/libtvm_ext.so\", ctypes.RTLD_GLOBAL)"
   ]
  },
  {
   "cell_type": "markdown",
   "metadata": {},
   "source": [
    "加载失败，是由于 `libtvm_ext.so` 是在 `libtvm.so` 基础上拓展的，故而需要先提前加载 `libtvm.so`，或者直接 `import tvm`："
   ]
  },
  {
   "cell_type": "code",
   "execution_count": 3,
   "metadata": {},
   "outputs": [],
   "source": [
    "import set_env\n",
    "import tvm\n",
    "import ctypes\n",
    "\n",
    "# 作为全局加载，使全局外部符号对其他 dll 可见。\n",
    "_LIB = ctypes.CDLL(\"cpp/sym_add/outputs/libs/libtvm_ext.so\", ctypes.RTLD_GLOBAL)"
   ]
  },
  {
   "cell_type": "markdown",
   "metadata": {},
   "source": [
    "加载动态库，也可以直接使用 {func}`~tvm_book.tvm_ext.libinfo._load_lib`："
   ]
  },
  {
   "cell_type": "code",
   "execution_count": 4,
   "metadata": {},
   "outputs": [],
   "source": [
    "import set_env\n",
    "from tvm_book.tvm_ext.libinfo import _load_lib\n",
    "\n",
    "_LIB_EXT, _LIB_EXT_NAME = _load_lib(name=\"libtvm_ext.so\", search_path=[\"cpp/sym_add/outputs/libs\"])"
   ]
  },
  {
   "cell_type": "markdown",
   "metadata": {},
   "source": [
    "回调 C++ 函数："
   ]
  },
  {
   "cell_type": "code",
   "execution_count": 5,
   "metadata": {},
   "outputs": [],
   "source": [
    "import tvm\n",
    "sym_add = tvm.get_global_func(\"tvm_ext.sym_add\")"
   ]
  },
  {
   "cell_type": "markdown",
   "metadata": {},
   "source": [
    "测试："
   ]
  },
  {
   "cell_type": "code",
   "execution_count": 6,
   "metadata": {},
   "outputs": [
    {
     "name": "stdout",
     "output_type": "stream",
     "text": [
      "x + y\n"
     ]
    }
   ],
   "source": [
    "from tvm import te\n",
    "a = te.var(\"x\")\n",
    "b = te.var(\"y\")\n",
    "c = sym_add(a, b)\n",
    "assert c.a == a and c.b == b\n",
    "print(c)"
   ]
  },
  {
   "cell_type": "markdown",
   "metadata": {},
   "source": [
    "这些调用细节可以借助 FFI 机制进行隐藏。\n",
    "\n",
    "## 使用 {func}`tvm._ffi._init_api` 管理 TVM 插件"
   ]
  },
  {
   "cell_type": "code",
   "execution_count": 7,
   "metadata": {},
   "outputs": [],
   "source": [
    "import set_env\n",
    "from tvm_book.tvm_ext.libinfo import _load_lib\n",
    "\n",
    "_LIB_EXT, _LIB_EXT_NAME = _load_lib(name=\"libtvm_ext.so\", search_path=[\"cpp/sym_add/outputs/libs\"])"
   ]
  },
  {
   "cell_type": "code",
   "execution_count": 8,
   "metadata": {},
   "outputs": [],
   "source": [
    "import tvm\n",
    "\n",
    "tvm._ffi._init_api(\"tvm_ext\", __name__)"
   ]
  },
  {
   "cell_type": "markdown",
   "metadata": {},
   "source": [
    "下面便可以直接使用 `tvm_ext` 下的函数了："
   ]
  },
  {
   "cell_type": "code",
   "execution_count": 9,
   "metadata": {},
   "outputs": [
    {
     "data": {
      "text/plain": [
       "<tvm.runtime.packed_func.PackedFunc at 0x7fbd04c1ce10>"
      ]
     },
     "execution_count": 9,
     "metadata": {},
     "output_type": "execute_result"
    }
   ],
   "source": [
    "sym_add"
   ]
  },
  {
   "cell_type": "markdown",
   "metadata": {},
   "source": [
    "```{tip}\n",
    "C++ 端调用 Python 程序的示例请移步 [C++ 部署](../../tutorials/deploy/cpp)。\n",
    "```"
   ]
  },
  {
   "cell_type": "markdown",
   "metadata": {},
   "source": [
    "## 其他 C++ 打包函数的例子"
   ]
  },
  {
   "cell_type": "markdown",
   "metadata": {},
   "source": [
    "### 加法偏函数\n",
    "\n",
    "```{literalinclude} cpp/bind_add/src/tvm_ext.cc\n",
    ":language: c++\n",
    "```"
   ]
  },
  {
   "cell_type": "markdown",
   "metadata": {},
   "source": [
    "编译："
   ]
  },
  {
   "cell_type": "code",
   "execution_count": 10,
   "metadata": {},
   "outputs": [
    {
     "name": "stdout",
     "output_type": "stream",
     "text": [
      "rm -rf outputs/*\n",
      "g++ -std=c++17 -O2 -fPIC -I/media/pc/data/lxw/ai/tvm/include -I/media/pc/data/lxw/ai/tvm/3rdparty/dmlc-core/include -I/media/pc/data/lxw/ai/tvm/3rdparty/dlpack/include -Iinclude -DDMLC_USE_LOGGING_LIBRARY=\\<tvm/runtime/logging.h\\> -shared -o outputs/libs/libtvm_ext.so src/tvm_ext.cc -ldl -pthread -L/media/pc/data/lxw/ai/tvm/build\n"
     ]
    }
   ],
   "source": [
    "%%bash\n",
    "cd cpp/bind_add\n",
    "make clean\n",
    "make"
   ]
  },
  {
   "cell_type": "code",
   "execution_count": 11,
   "metadata": {},
   "outputs": [],
   "source": [
    "import set_env\n",
    "from tvm_book.tvm_ext.libinfo import _load_lib\n",
    "import tvm\n",
    "_LIB_EXT, _LIB_EXT_NAME = _load_lib(name=\"libtvm_ext.so\", search_path=[\"cpp/bind_add/outputs/libs\"])\n",
    "tvm._ffi._init_api(\"tvm_ext\", __name__)"
   ]
  },
  {
   "cell_type": "code",
   "execution_count": 12,
   "metadata": {},
   "outputs": [
    {
     "data": {
      "text/plain": [
       "<tvm.runtime.packed_func.PackedFunc at 0x7fbd04c29cc0>"
      ]
     },
     "execution_count": 12,
     "metadata": {},
     "output_type": "execute_result"
    }
   ],
   "source": [
    "bind_add"
   ]
  },
  {
   "cell_type": "code",
   "execution_count": 13,
   "metadata": {},
   "outputs": [],
   "source": [
    "def add(a, b):\n",
    "    return a + b\n",
    "\n",
    "f = bind_add(add, 7)\n",
    "assert f(2) == 9"
   ]
  },
  {
   "cell_type": "markdown",
   "metadata": {},
   "source": [
    "### C++ 外部设备的例子"
   ]
  },
  {
   "cell_type": "markdown",
   "metadata": {},
   "source": [
    "```{literalinclude} cpp/device_api/src/tvm_ext.cc\n",
    ":language: c++\n",
    "```\n",
    "编译："
   ]
  },
  {
   "cell_type": "code",
   "execution_count": 14,
   "metadata": {},
   "outputs": [
    {
     "name": "stdout",
     "output_type": "stream",
     "text": [
      "rm -rf outputs/*\n",
      "g++ -std=c++17 -O2 -fPIC -I/media/pc/data/lxw/ai/tvm/include -I/media/pc/data/lxw/ai/tvm/3rdparty/dmlc-core/include -I/media/pc/data/lxw/ai/tvm/3rdparty/dlpack/include -Iinclude -DDMLC_USE_LOGGING_LIBRARY=\\<tvm/runtime/logging.h\\> -shared -o outputs/libs/libtvm_ext.so src/tvm_ext.cc -ldl -pthread -L/media/pc/data/lxw/ai/tvm/build\n"
     ]
    }
   ],
   "source": [
    "%%bash\n",
    "cd cpp/device_api\n",
    "make clean\n",
    "make"
   ]
  },
  {
   "cell_type": "code",
   "execution_count": 15,
   "metadata": {},
   "outputs": [],
   "source": [
    "import set_env\n",
    "import tvm\n",
    "from tvm_book.tvm_ext.libinfo import _load_lib\n",
    "\n",
    "_LIB_EXT, _LIB_EXT_NAME = _load_lib(name=\"libtvm_ext.so\", search_path=[\"cpp/device_api/outputs/libs\"])\n",
    "tvm._ffi._init_api(\"tvm_ext\", __name__)"
   ]
  },
  {
   "cell_type": "code",
   "execution_count": 16,
   "metadata": {},
   "outputs": [],
   "source": [
    "import numpy as np\n",
    "from tvm import te\n",
    "n = 10\n",
    "A = te.placeholder((n,), name=\"A\")\n",
    "B = te.compute((n,), lambda *i: A(*i) + 1.0, name=\"B\")\n",
    "s = te.create_schedule(B.op)\n",
    "\n",
    "def check_llvm():\n",
    "    f = tvm.build(s, [A, B], tvm.target.Target(\"ext_dev\", \"llvm\"))\n",
    "    dev = tvm.ext_dev(0)\n",
    "    # launch the kernel.\n",
    "    a = tvm.nd.array(np.random.uniform(size=n).astype(A.dtype), dev)\n",
    "    b = tvm.nd.array(np.zeros(n, dtype=B.dtype), dev)\n",
    "    f(a, b)\n",
    "    np.testing.assert_allclose(b.numpy(), a.numpy() + 1)\n",
    "\n",
    "check_llvm()"
   ]
  },
  {
   "cell_type": "markdown",
   "metadata": {},
   "source": [
    "## 回调 C++ 端外部函数"
   ]
  },
  {
   "cell_type": "markdown",
   "metadata": {},
   "source": [
    "```{literalinclude} cpp/extern_func/src/tvm_ext.cc\n",
    ":language: c++\n",
    "```\n",
    "编译："
   ]
  },
  {
   "cell_type": "code",
   "execution_count": 17,
   "metadata": {},
   "outputs": [
    {
     "name": "stdout",
     "output_type": "stream",
     "text": [
      "rm -rf outputs/*\n",
      "g++ -std=c++17 -O2 -fPIC -I/media/pc/data/lxw/ai/tvm/include -I/media/pc/data/lxw/ai/tvm/3rdparty/dmlc-core/include -I/media/pc/data/lxw/ai/tvm/3rdparty/dlpack/include -Iinclude -DDMLC_USE_LOGGING_LIBRARY=\\<tvm/runtime/logging.h\\> -shared -o outputs/libs/libtvm_ext.so src/tvm_ext.cc -ldl -pthread -L/media/pc/data/lxw/ai/tvm/build\n"
     ]
    }
   ],
   "source": [
    "%%bash\n",
    "cd cpp/extern_func\n",
    "make clean\n",
    "make"
   ]
  },
  {
   "cell_type": "code",
   "execution_count": 18,
   "metadata": {},
   "outputs": [],
   "source": [
    "import set_env\n",
    "import tvm\n",
    "from tvm_book.tvm_ext.libinfo import _load_lib\n",
    "\n",
    "_LIB_EXT, _LIB_EXT_NAME = _load_lib(name=\"libtvm_ext.so\", search_path=[\"cpp/extern_func/outputs/libs\"])\n",
    "tvm._ffi._init_api(\"tvm_ext\", __name__)"
   ]
  },
  {
   "cell_type": "code",
   "execution_count": 19,
   "metadata": {},
   "outputs": [],
   "source": [
    "import numpy as np\n",
    "from tvm import te\n",
    "n = 10\n",
    "A = te.placeholder((n,), name=\"A\")\n",
    "B = te.compute(\n",
    "    (n,), lambda *i: tvm.tir.call_extern(\"float32\", \"TVMTestAddOne\", A(*i)), name=\"B\"\n",
    ")\n",
    "s = te.create_schedule(B.op)\n",
    "\n",
    "def check_llvm():\n",
    "    f = tvm.build(s, [A, B], \"llvm\")\n",
    "    dev = tvm.cpu(0)\n",
    "    # launch the kernel.\n",
    "    a = tvm.nd.array(np.random.uniform(size=n).astype(A.dtype), dev)\n",
    "    b = tvm.nd.array(np.zeros(n, dtype=B.dtype), dev)\n",
    "    f(a, b)\n",
    "    np.testing.assert_allclose(b.numpy(), a.numpy() + 1)\n",
    "\n",
    "check_llvm()"
   ]
  },
  {
   "cell_type": "markdown",
   "metadata": {},
   "source": [
    "## 提取外部 C++ 函数"
   ]
  },
  {
   "cell_type": "markdown",
   "metadata": {},
   "source": [
    "```{literalinclude} cpp/mini_runtime/src/tvm_ext.cc\n",
    ":language: c++\n",
    "```\n",
    "编译："
   ]
  },
  {
   "cell_type": "code",
   "execution_count": 1,
   "metadata": {},
   "outputs": [
    {
     "name": "stdout",
     "output_type": "stream",
     "text": [
      "rm -rf outputs/*\n",
      "g++ -std=c++17 -O2 -fPIC -I/media/pc/data/lxw/ai/tvm/include -I/media/pc/data/lxw/ai/tvm/3rdparty/dmlc-core/include -I/media/pc/data/lxw/ai/tvm/3rdparty/dlpack/include -Iinclude -DDMLC_USE_LOGGING_LIBRARY=\\<tvm/runtime/logging.h\\> -shared -o outputs/libs/libtvm_ext.so src/tvm_ext.cc -ldl -pthread -L/media/pc/data/lxw/ai/tvm/build\n"
     ]
    }
   ],
   "source": [
    "%%bash\n",
    "cd cpp/mini_runtime\n",
    "make clean\n",
    "make"
   ]
  },
  {
   "cell_type": "code",
   "execution_count": 3,
   "metadata": {},
   "outputs": [],
   "source": [
    "import set_env\n",
    "import tvm\n",
    "from tvm_book.tvm_ext.libinfo import _load_lib\n",
    "\n",
    "_LIB, _LIB_NAME = _load_lib(name=\"libtvm_ext.so\", search_path=[\"cpp/mini_runtime/outputs/libs\"])\n",
    "tvm._ffi._init_api(\"tvm_ext\", __name__)"
   ]
  },
  {
   "cell_type": "code",
   "execution_count": 4,
   "metadata": {},
   "outputs": [],
   "source": [
    "fdict = tvm._ffi.registry.extract_ext_funcs(_LIB.TVMExtDeclare)\n",
    "assert fdict[\"mul\"](3, 4) == 12"
   ]
  },
  {
   "cell_type": "markdown",
   "metadata": {},
   "source": [
    "## 汇总 TVM 插件测试 demo\n",
    "\n",
    "将上述插件集中到：\n",
    "\n",
    "```\n",
    "extension/src\n",
    "    testing/\n",
    "        _make.cc\n",
    "        bind_add.cc\n",
    "        device_api.cc\n",
    "        extern_func.cc\n",
    "        mini_runtime.cc\n",
    "        sym_add.cc\n",
    "    tvm_ext.cc\n",
    "```\n",
    "编译："
   ]
  },
  {
   "cell_type": "code",
   "execution_count": 1,
   "metadata": {},
   "outputs": [
    {
     "name": "stdout",
     "output_type": "stream",
     "text": [
      "rm -rf outputs/*\n",
      "g++ -std=c++17 -O2 -fPIC -I/media/pc/data/lxw/ai/tvm/include -I/media/pc/data/lxw/ai/tvm/3rdparty/dmlc-core/include -I/media/pc/data/lxw/ai/tvm/3rdparty/dlpack/include -Iinclude -DDMLC_USE_LOGGING_LIBRARY=\\<tvm/runtime/logging.h\\> -shared -o outputs/libs/libtvm_ext.so src/tvm_ext.cc -ldl -pthread -L/media/pc/data/lxw/ai/tvm/build\n",
      "g++ -std=c++17 -O2 -fPIC -I/media/pc/data/lxw/ai/tvm/include -I/media/pc/data/lxw/ai/tvm/3rdparty/dmlc-core/include -I/media/pc/data/lxw/ai/tvm/3rdparty/dlpack/include -Iinclude -DDMLC_USE_LOGGING_LIBRARY=\\<tvm/runtime/logging.h\\> -shared -o outputs/libs/libtvm_plugin_module.so src/plugin_module.cc -ldl -pthread -L/media/pc/data/lxw/ai/tvm/build\n"
     ]
    }
   ],
   "source": [
    "%%bash\n",
    "make clean\n",
    "make"
   ]
  },
  {
   "cell_type": "markdown",
   "metadata": {},
   "source": [
    "代码见 ：{mod}`tvm_book.tvm_ext.testing`。"
   ]
  },
  {
   "cell_type": "code",
   "execution_count": 1,
   "metadata": {},
   "outputs": [],
   "source": [
    "import set_env\n",
    "from tvm_book.tvm_ext.libinfo import _load_lib\n",
    "_LIB, _LIB_NAME = _load_lib(name=\"libtvm_ext.so\", search_path=[\"outputs/libs\"])\n",
    "from tvm_book.tvm_ext.testing import demo"
   ]
  },
  {
   "cell_type": "markdown",
   "metadata": {},
   "source": [
    "比如：{func}`~tvm_book.tvm_ext.testing.demo.sym_add`："
   ]
  },
  {
   "cell_type": "code",
   "execution_count": 2,
   "metadata": {},
   "outputs": [
    {
     "name": "stdout",
     "output_type": "stream",
     "text": [
      "x + y\n"
     ]
    }
   ],
   "source": [
    "from tvm import te\n",
    "a = te.var(\"x\")\n",
    "b = te.var(\"y\")\n",
    "c = demo.sym_add(a, b)\n",
    "assert c.a == a and c.b == b\n",
    "print(c)"
   ]
  },
  {
   "cell_type": "code",
   "execution_count": null,
   "metadata": {},
   "outputs": [],
   "source": []
  }
 ],
 "metadata": {
  "kernelspec": {
   "display_name": "tvmz",
   "language": "python",
   "name": "python3"
  },
  "language_info": {
   "codemirror_mode": {
    "name": "ipython",
    "version": 3
   },
   "file_extension": ".py",
   "mimetype": "text/x-python",
   "name": "python",
   "nbconvert_exporter": "python",
   "pygments_lexer": "ipython3",
   "version": "3.11.7"
  }
 },
 "nbformat": 4,
 "nbformat_minor": 2
}
