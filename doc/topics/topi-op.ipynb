{
 "cells": [
  {
   "cell_type": "markdown",
   "metadata": {},
   "source": [
    "# 自定义 TOPI 算子"
   ]
  },
  {
   "cell_type": "code",
   "execution_count": 1,
   "metadata": {},
   "outputs": [],
   "source": [
    "import numpy as np\n",
    "from tvm import te, topi, tir as T, relay\n",
    "import tvm\n",
    "from tvm.topi import tag\n",
    "from tvm.relay.op.op import register_compute, register_shape_func\n",
    "from tvm.relay.op.op import register_broadcast_schedule, register_injective_schedule\n",
    "from tvm.relay.op.op import register_pattern, OpPattern\n",
    "from tvm.topi.utils import get_const_tuple\n",
    "\n",
    "@tvm.te.tag_scope(tag=tag.ELEMWISE)\n",
    "def store_multipliers_shifts(x):\n",
    "    \"\"\"存储 multipliers_shifts\"\"\"\n",
    "    # hp_dtype = \"int64\"\n",
    "    # lp_dtype = \"int32\"\n",
    "    # assert y.dtype == lp_dtype\n",
    "    # assert left_shift.dtype == lp_dtype\n",
    "    # assert right_shift.dtype == lp_dtype\n",
    "    # one = T.const(1, hp_dtype)\n",
    "    def _compute(*indices):\n",
    "        # elements = []\n",
    "        # for element in get_const_tuple(axes):\n",
    "        #     elements += [indices[element]]\n",
    "        # param_indices = tuple(elements)\n",
    "\n",
    "        # 0) 获取值\n",
    "        value = x(*indices)\n",
    "        \n",
    "        return value.astype(x.dtype)\n",
    "\n",
    "    return te.compute(x.shape, _compute)"
   ]
  },
  {
   "cell_type": "code",
   "execution_count": null,
   "metadata": {},
   "outputs": [],
   "source": []
  },
  {
   "cell_type": "code",
   "execution_count": null,
   "metadata": {},
   "outputs": [],
   "source": [
    "shape = 1, 2\n",
    "lp_dtype = \"int32\"\n",
    "hp_dtype = \"int32\"\n",
    "axes = [1]\n",
    "shift_shape = [shape[ax] for ax in axes]\n",
    "x = te.placeholder(shape, name=\"x\", dtype=lp_dtype)\n",
    "y = te.placeholder(shift_shape, name=\"y\", dtype=hp_dtype)\n",
    "left_shift = te.placeholder(shift_shape, name=\"left_shift\", dtype=hp_dtype)\n",
    "right_shift = te.placeholder(shift_shape, name=\"right_shift\", dtype=hp_dtype)\n",
    "# multipliers_shifts = te.placeholder(shape, name=\"multipliers_shifts\", dtype=\"int32\")\n",
    "z = q_multiply_shift(x, y, 8, left_shift, right_shift, is_left_shift_required=1)\n",
    "s = te.create_schedule(z.op)\n",
    "f = tvm.build(s, [x, y, left_shift, right_shift, z], \"llvm\")\n",
    "dev = tvm.cpu(0)\n",
    "a_np = np.ones(shape).astype(x.dtype) * 125\n",
    "multiplier_np = np.ones(get_const_tuple(y.shape)).astype(hp_dtype) * 36500\n",
    "ls_np = np.ones(get_const_tuple(left_shift.shape)).astype(hp_dtype) * 8\n",
    "rs_np = np.ones(get_const_tuple(right_shift.shape)).astype(hp_dtype) * 8\n",
    "a = tvm.nd.array(a_np, dev) \n",
    "multiplier = tvm.nd.array(multiplier_np, dev)\n",
    "ls = tvm.nd.array(ls_np, dev)\n",
    "rs = tvm.nd.array(rs_np, dev)\n",
    "c = tvm.nd.array(np.zeros(get_const_tuple(z.shape), dtype=z.dtype), dev)\n",
    "f(a, multiplier, ls, rs, c)\n",
    "print(a, multiplier, ls, rs, c)"
   ]
  },
  {
   "cell_type": "code",
   "execution_count": null,
   "metadata": {},
   "outputs": [],
   "source": [
    "x = relay.var(\"x\", shape=(4, 8), dtype=\"float32\")\n",
    "op0 = relay.qnn.op.quantize(x, relay.const(2.0), relay.const(10), out_dtype=\"uint8\")\n",
    "op1 = relay.qnn.op.dequantize(op0, relay.const(0.5), relay.const(5))\n",
    "relay_mod = tvm.IRModule.from_expr(op1)\n",
    "relay_mod.show()"
   ]
  },
  {
   "cell_type": "code",
   "execution_count": null,
   "metadata": {},
   "outputs": [],
   "source": [
    "input_name = \"data\"\n",
    "shape = (4, 2)\n",
    "x = relay.var(input_name, shape=shape, dtype=\"float32\")\n",
    "op0 = relay.qnn.op.quantize(x, relay.const(np.array([2.0, 2.0])), relay.const(np.array([10, 10])), axis=1, out_dtype=\"uint8\")\n",
    "op1 = relay.qnn.op.dequantize(op0, relay.const(np.array([0.5, 0.5])), relay.const(np.array([5, 5])))\n",
    "relay_mod = tvm.IRModule.from_expr(op1)\n",
    "relay_mod.show()"
   ]
  },
  {
   "cell_type": "code",
   "execution_count": null,
   "metadata": {},
   "outputs": [],
   "source": [
    "from tvm_book.tvm_utils.llvm_utils import run_llvm_graph"
   ]
  },
  {
   "cell_type": "code",
   "execution_count": null,
   "metadata": {},
   "outputs": [],
   "source": [
    "from tvm.relay.backend import Executor\n",
    "data_np = np.ones(shape)\n",
    "inputs = {input_name: data_np}\n",
    "cpu_outs = run_llvm_graph(relay_mod, {}, inputs)"
   ]
  },
  {
   "cell_type": "code",
   "execution_count": null,
   "metadata": {},
   "outputs": [],
   "source": [
    "relay_mod.show()"
   ]
  },
  {
   "cell_type": "code",
   "execution_count": null,
   "metadata": {},
   "outputs": [],
   "source": []
  }
 ],
 "metadata": {
  "kernelspec": {
   "display_name": "tvmz",
   "language": "python",
   "name": "python3"
  },
  "language_info": {
   "codemirror_mode": {
    "name": "ipython",
    "version": 3
   },
   "file_extension": ".py",
   "mimetype": "text/x-python",
   "name": "python",
   "nbconvert_exporter": "python",
   "pygments_lexer": "ipython3",
   "version": "3.10.12"
  }
 },
 "nbformat": 4,
 "nbformat_minor": 2
}
