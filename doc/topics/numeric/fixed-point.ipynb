{
 "cells": [
  {
   "attachments": {},
   "cell_type": "markdown",
   "metadata": {},
   "source": [
    "# 定点数表示法\n",
    "\n",
    "$n$ 位 $p$ 进制自然数可以表示为：\n",
    "\n",
    "$$\n",
    "\\begin{aligned}\n",
    "x &= x_0 x_1 \\cdots x_{n-1} x_{n} . x_{-1} \\cdots x_{-n+1} x_{-n}\\\\\n",
    "&= (x_0, x_1, \\cdots, x_{n-1}, x_{n}, x_{-1}, \\cdots, x_{-n+1}, x_{-n}) \\begin{bmatrix}\n",
    "p^n \\\\ p^{n-1} \\\\ \\vdots \\\\ p^1 \\\\ p^0 \\\\ p^{-1} \\\\ \\vdots \\\\ p^{-n+1} \\\\ p^{-n}\n",
    "\\end{bmatrix}\n",
    "\\end{aligned}\n",
    "$$ (FP1)\n",
    "\n",
    "这里 $p=2$。\n",
    "\n",
    "定点和浮点都是数值的表示，它们区别在于，将整数（integer）部分和小数（fractional）分开的点在哪里。定点保留特定位数整数和小数，而浮点保留特定位数的有效数字（significand）和指数（exponent）。"
   ]
  },
  {
   "attachments": {},
   "cell_type": "markdown",
   "metadata": {},
   "source": [
    "定点数指的是小数点固定的存储方式，因为小数点固定，所以不需要额外使用存储空间存储小数点，只需要约定好即可。计算机中定点数有两种类型：\n",
    "\n",
    "`定点小数`\n",
    ":   纯小数，约定的小数点位置在符号位之后、有效数值部分最高位之前。\n",
    "\n",
    "    若数据 $x=s_0.x_{-1} x_{-2} \\cdots x_{-n}$，其中 $s_0$ 为符号位，$x_{-1} \\cdots x_{-n}$ 为数值有效部分，也称为 **尾数**；$x_{-1}$ 为最高有效位。\n",
    "\n",
    "    一般说来，如果最末位 $x_{-n} = 1$，前面各位都为 $0$，则数的绝对值最小，即 $|x|_{\\min} = 2^{-n}$。如果各位均为 $1$，则数的绝对值最大，即 $|x|_{\\max} = 1-2^{-n}$。所以定点小数的表示范围是：$2^{-n} \\leq |x| \\leq 1 - 2^{-n}$。\n",
    "\n",
    "`定点整数`\n",
    ":   纯整数，约定的小数点位置在有效数值部分最低位之后。\n",
    "\n",
    "    若数据 $x=s_0x_1 x_2 \\cdots x_n$，其中 $s_0$ 为符号位，$x_1 \\cdots x_n$ 为数值有效部分，也称为 **尾数**；$x_1$ 为最高有效位。\n",
    "\n",
    "    定点整数的表示范围是：$1 \\leq |x| \\leq 2^{n} - 1$。\n",
    "\n",
    "当数据小于定点数能表示的最小值时，计算机将它们作 $0$ 处理，称为 **下溢**；大于定点数能表示的最大值时，计算机将无法表示，称为 **上溢**，上溢和下溢统称为 **溢出**。\n",
    "\n",
    "计算机采用定点数表示时，对于既有整数又有小数的原始数据，需要设定一个缩放因子，数据按其缩小成定点小数或扩大成定点整数再参加运算，运算结果，根据缩放因子，还原成实际数值。若缩放因子选择不当，往往会使运算结果产生溢出或降低数据的有效精度。\n",
    "\n",
    "用定点数进行运算处理的计算机被称为 **定点机**。"
   ]
  },
  {
   "cell_type": "markdown",
   "metadata": {},
   "source": [
    "## 定点数实例\n",
    "\n",
    "可以使用 {func}`bin` 将整数转换为二进制表示。"
   ]
  },
  {
   "cell_type": "code",
   "execution_count": 1,
   "metadata": {},
   "outputs": [
    {
     "data": {
      "text/plain": [
       "('0b0', '0b1', '0b10', '0b11', '0b100', '0b101', '0b110')"
      ]
     },
     "execution_count": 1,
     "metadata": {},
     "output_type": "execute_result"
    }
   ],
   "source": [
    "bin(0), bin(1), bin(2), bin(3), bin(4), bin(5), bin(6)"
   ]
  },
  {
   "cell_type": "markdown",
   "metadata": {},
   "source": [
    "对于 `25.125` 表示为定点整数需要如下操作：\n",
    "\n",
    "1. 将整数部分转换为定点整数："
   ]
  },
  {
   "cell_type": "code",
   "execution_count": 2,
   "metadata": {},
   "outputs": [
    {
     "data": {
      "text/plain": [
       "'0b11001'"
      ]
     },
     "execution_count": 2,
     "metadata": {},
     "output_type": "execute_result"
    }
   ],
   "source": [
    "bin(25)"
   ]
  },
  {
   "cell_type": "code",
   "execution_count": 3,
   "metadata": {},
   "outputs": [],
   "source": [
    "def fixed_inter(x):\n",
    "    L = []\n",
    "    while x != 0:\n",
    "        L.append(str(x % 2))\n",
    "        x = x // 2\n",
    "    L.reverse()\n",
    "    x = \"0b\" + \"\".join(L)\n",
    "    return x"
   ]
  },
  {
   "cell_type": "code",
   "execution_count": 4,
   "metadata": {},
   "outputs": [
    {
     "data": {
      "text/plain": [
       "'0b11001'"
      ]
     },
     "execution_count": 4,
     "metadata": {},
     "output_type": "execute_result"
    }
   ],
   "source": [
    "fixed_inter(25)"
   ]
  },
  {
   "cell_type": "markdown",
   "metadata": {},
   "source": [
    "2. 小数部分转换为定点小数："
   ]
  },
  {
   "cell_type": "code",
   "execution_count": 5,
   "metadata": {},
   "outputs": [],
   "source": [
    "import numpy as np\n",
    "\n",
    "\n",
    "def fixed_decimal(x):\n",
    "    L = []\n",
    "    while x != 0:\n",
    "        x, b = np.modf(x * 2)\n",
    "        L.append(str(int(b)))\n",
    "    x = \".\" + \"\".join(L)\n",
    "    return x"
   ]
  },
  {
   "cell_type": "code",
   "execution_count": 7,
   "metadata": {},
   "outputs": [
    {
     "data": {
      "text/plain": [
       "'.001'"
      ]
     },
     "execution_count": 7,
     "metadata": {},
     "output_type": "execute_result"
    }
   ],
   "source": [
    "x = 0.125\n",
    "fixed_decimal(x)"
   ]
  },
  {
   "cell_type": "markdown",
   "metadata": {},
   "source": [
    "拼在一起就是："
   ]
  },
  {
   "cell_type": "code",
   "execution_count": 8,
   "metadata": {},
   "outputs": [
    {
     "data": {
      "text/plain": [
       "'0b11001.001'"
      ]
     },
     "execution_count": 8,
     "metadata": {},
     "output_type": "execute_result"
    }
   ],
   "source": [
    "fixed_inter(25) + fixed_decimal(x)"
   ]
  }
 ],
 "metadata": {
  "kernelspec": {
   "display_name": "Python 3.10.4 ('tvmx': conda)",
   "language": "python",
   "name": "python3"
  },
  "language_info": {
   "codemirror_mode": {
    "name": "ipython",
    "version": 3
   },
   "file_extension": ".py",
   "mimetype": "text/x-python",
   "name": "python",
   "nbconvert_exporter": "python",
   "pygments_lexer": "ipython3",
   "version": "3.10.4"
  },
  "orig_nbformat": 4,
  "vscode": {
   "interpreter": {
    "hash": "e579259ee6098e2b9319de590d145b4b096774fe457bdf04260e3ba5c171e887"
   }
  }
 },
 "nbformat": 4,
 "nbformat_minor": 2
}
