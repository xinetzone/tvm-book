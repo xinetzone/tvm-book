{
 "cells": [
  {
   "cell_type": "markdown",
   "metadata": {},
   "source": [
    "# 测试定点乘法"
   ]
  },
  {
   "cell_type": "code",
   "execution_count": 1,
   "metadata": {},
   "outputs": [],
   "source": [
    "import numpy as np\n",
    "import tvm\n",
    "from tvm import relay, te\n",
    "from tvm.relay.backend import Executor\n",
    "\n",
    "# def get_hexagon_target(cpu_ver: str, **kwargs) -> tvm.target.Target:\n",
    "#     \"\"\"Creates a Hexagon target\"\"\"\n",
    "#     target = tvm.target.hexagon(cpu_ver, **kwargs)\n",
    "#     return tvm.target.Target(target, host=target)\n",
    "\n",
    "def build_module(relay_mod, target):\n",
    "    params = {}\n",
    "    executor = Executor(\"aot\", {\"link-params\": True})\n",
    "    lowered = tvm.relay.build(\n",
    "        relay_mod,\n",
    "        tvm.target.Target(target, host=target),\n",
    "        executor=executor,\n",
    "        params=params,\n",
    "    )\n",
    "    return lowered\n",
    "\n",
    "def run_module(mod, inputs):\n",
    "    mod.set_input(**inputs)\n",
    "    mod.run()\n",
    "    output = mod.get_output(0).numpy()\n",
    "    return output"
   ]
  },
  {
   "cell_type": "markdown",
   "metadata": {},
   "source": [
    "## 测试 `relay.fixed_point_multiply`"
   ]
  },
  {
   "cell_type": "code",
   "execution_count": 2,
   "metadata": {},
   "outputs": [
    {
     "data": {
      "text/html": [
       "<div class=\"highlight\" style=\"background: \"><pre style=\"line-height: 125%;\"><span></span><span style=\"color: #008000; font-weight: bold\">def</span> <span style=\"color: #AA22FF\">@main</span>(<span style=\"color: #AA22FF; font-weight: bold\">%</span>a: Tensor[(<span style=\"color: #008000\">6</span>, <span style=\"color: #008000\">32</span>), int32]) {\n",
       "  fixed_point_multiply(<span style=\"color: #AA22FF; font-weight: bold\">%</span>a, multiplier<span style=\"color: #AA22FF; font-weight: bold\">=</span><span style=\"color: #008000\">1288490240</span>, shift<span style=\"color: #AA22FF; font-weight: bold\">=-</span><span style=\"color: #008000\">2</span>)\n",
       "}\n",
       "</pre></div>\n"
      ],
      "text/plain": [
       "<IPython.core.display.HTML object>"
      ]
     },
     "metadata": {},
     "output_type": "display_data"
    },
    {
     "data": {
      "text/html": [
       "<div class=\"highlight\" style=\"background: \"><pre style=\"line-height: 125%;\"><span></span><span style=\"color: #008000; font-weight: bold\">def</span> <span style=\"color: #AA22FF\">@main</span>(<span style=\"color: #AA22FF; font-weight: bold\">%</span>a: Tensor[(<span style=\"color: #008000\">6</span>, <span style=\"color: #008000\">32</span>), int32]) {\n",
       "  fixed_point_multiply(<span style=\"color: #AA22FF; font-weight: bold\">%</span>a, multiplier<span style=\"color: #AA22FF; font-weight: bold\">=</span><span style=\"color: #008000\">1395864320</span>, shift<span style=\"color: #AA22FF; font-weight: bold\">=</span><span style=\"color: #008000\">1</span>)\n",
       "}\n",
       "</pre></div>\n"
      ],
      "text/plain": [
       "<IPython.core.display.HTML object>"
      ]
     },
     "metadata": {},
     "output_type": "display_data"
    },
    {
     "data": {
      "text/html": [
       "<div class=\"highlight\" style=\"background: \"><pre style=\"line-height: 125%;\"><span></span><span style=\"color: #008000; font-weight: bold\">def</span> <span style=\"color: #AA22FF\">@main</span>(<span style=\"color: #AA22FF; font-weight: bold\">%</span>a: Tensor[(<span style=\"color: #008000\">6</span>, <span style=\"color: #008000\">32</span>), int32]) {\n",
       "  fixed_point_multiply(<span style=\"color: #AA22FF; font-weight: bold\">%</span>a, multiplier<span style=\"color: #AA22FF; font-weight: bold\">=</span><span style=\"color: #008000\">1288490188</span>, shift<span style=\"color: #AA22FF; font-weight: bold\">=</span><span style=\"color: #008000\">0</span>)\n",
       "}\n",
       "</pre></div>\n"
      ],
      "text/plain": [
       "<IPython.core.display.HTML object>"
      ]
     },
     "metadata": {},
     "output_type": "display_data"
    }
   ],
   "source": [
    "ishape = (6, 32)\n",
    "a = relay.var(\"a\", relay.TensorType(ishape, \"int32\"))\n",
    "for multiplier, shift in [\n",
    "    (1288490240, -2),  # 0.15\n",
    "    (1395864320, 1),  # 1.3\n",
    "    (1288490188, 0),  # 0.6\n",
    "]:\n",
    "    fpm = relay.fixed_point_multiply(a, multiplier, shift)\n",
    "    relay_mod = tvm.IRModule.from_expr(fpm)\n",
    "    relay_mod.show()\n",
    "    with tvm.transform.PassContext(opt_level=3):\n",
    "        # Compile for LLVM...\n",
    "        llvm_lowered = build_module(relay_mod, tvm.target.Target(\"llvm\"))\n",
    "\n",
    "    data_in = np.arange(-96, 96).reshape(ishape)\n",
    "    inputs = {\"a\": data_in}\n",
    "\n",
    "    # Run llvm...\n",
    "    llvm_mod = tvm.runtime.executor.AotModule(llvm_lowered[\"default\"](tvm.cpu(0)))\n",
    "    expected_output = run_module(llvm_mod, inputs)\n",
    "    # print(expected_output)"
   ]
  },
  {
   "cell_type": "markdown",
   "metadata": {},
   "source": [
    "## 逐通道定点乘法"
   ]
  },
  {
   "cell_type": "code",
   "execution_count": 3,
   "metadata": {},
   "outputs": [],
   "source": [
    "scales = (\n",
    "    (1.3, 30.0),\n",
    "    (1.37, 1.0),\n",
    "    (0.6, 1.0),\n",
    "    ((1.7, 0.6), 1.0),\n",
    "    ((0.007, 1.9), 1.0),\n",
    ")"
   ]
  },
  {
   "cell_type": "code",
   "execution_count": 10,
   "metadata": {},
   "outputs": [
    {
     "data": {
      "text/html": [
       "<div class=\"highlight\" style=\"background: \"><pre style=\"line-height: 125%;\"><span></span><span style=\"color: #008000; font-weight: bold\">def</span> <span style=\"color: #AA22FF\">@main</span>(<span style=\"color: #AA22FF; font-weight: bold\">%</span>a: Tensor[(<span style=\"color: #008000\">1</span>, <span style=\"color: #008000\">128</span>, <span style=\"color: #008000\">56</span>, <span style=\"color: #008000\">56</span>), int32] <span style=\"color: #AA22FF; font-weight: bold\">/*</span> ty<span style=\"color: #AA22FF; font-weight: bold\">=</span>Tensor[(<span style=\"color: #008000\">1</span>, <span style=\"color: #008000\">128</span>, <span style=\"color: #008000\">56</span>, <span style=\"color: #008000\">56</span>), int32] <span style=\"color: #AA22FF; font-weight: bold\">*/</span>) <span style=\"color: #AA22FF; font-weight: bold\">-&gt;</span> Tensor[(<span style=\"color: #008000\">1</span>, <span style=\"color: #008000\">128</span>, <span style=\"color: #008000\">56</span>, <span style=\"color: #008000\">56</span>), int32] {\n",
       "  qnn<span style=\"color: #AA22FF; font-weight: bold\">.</span>requantize(<span style=\"color: #AA22FF; font-weight: bold\">%</span>a, meta[relay<span style=\"color: #AA22FF; font-weight: bold\">.</span>Constant][<span style=\"color: #008000\">0</span>] <span style=\"color: #AA22FF; font-weight: bold\">/*</span> ty<span style=\"color: #AA22FF; font-weight: bold\">=</span>Tensor[(<span style=\"color: #008000\">128</span>), float32] <span style=\"color: #AA22FF; font-weight: bold\">*/</span>, <span style=\"color: #008000\">0</span> <span style=\"color: #AA22FF; font-weight: bold\">/*</span> ty<span style=\"color: #AA22FF; font-weight: bold\">=</span>int32 <span style=\"color: #AA22FF; font-weight: bold\">*/</span>, <span style=\"color: #008000\">30</span>f <span style=\"color: #AA22FF; font-weight: bold\">/*</span> ty<span style=\"color: #AA22FF; font-weight: bold\">=</span>float32 <span style=\"color: #AA22FF; font-weight: bold\">*/</span>, <span style=\"color: #008000\">0</span> <span style=\"color: #AA22FF; font-weight: bold\">/*</span> ty<span style=\"color: #AA22FF; font-weight: bold\">=</span>int32 <span style=\"color: #AA22FF; font-weight: bold\">*/</span>, axis<span style=\"color: #AA22FF; font-weight: bold\">=</span><span style=\"color: #008000\">1</span>, out_dtype<span style=\"color: #AA22FF; font-weight: bold\">=</span><span style=\"color: #BA2121\">&quot;int32&quot;</span>) <span style=\"color: #AA22FF; font-weight: bold\">/*</span> ty<span style=\"color: #AA22FF; font-weight: bold\">=</span>Tensor[(<span style=\"color: #008000\">1</span>, <span style=\"color: #008000\">128</span>, <span style=\"color: #008000\">56</span>, <span style=\"color: #008000\">56</span>), int32] <span style=\"color: #AA22FF; font-weight: bold\">*/</span>\n",
       "}\n",
       "</pre></div>\n"
      ],
      "text/plain": [
       "<IPython.core.display.HTML object>"
      ]
     },
     "metadata": {},
     "output_type": "display_data"
    },
    {
     "data": {
      "text/html": [
       "<div class=\"highlight\" style=\"background: \"><pre style=\"line-height: 125%;\"><span></span><span style=\"color: #008000; font-weight: bold\">def</span> <span style=\"color: #AA22FF\">@main</span>(<span style=\"color: #AA22FF; font-weight: bold\">%</span>a: Tensor[(<span style=\"color: #008000\">1</span>, <span style=\"color: #008000\">128</span>, <span style=\"color: #008000\">56</span>, <span style=\"color: #008000\">56</span>), int32] <span style=\"color: #AA22FF; font-weight: bold\">/*</span> ty<span style=\"color: #AA22FF; font-weight: bold\">=</span>Tensor[(<span style=\"color: #008000\">1</span>, <span style=\"color: #008000\">128</span>, <span style=\"color: #008000\">56</span>, <span style=\"color: #008000\">56</span>), int32] <span style=\"color: #AA22FF; font-weight: bold\">*/</span>) <span style=\"color: #AA22FF; font-weight: bold\">-&gt;</span> Tensor[(<span style=\"color: #008000\">1</span>, <span style=\"color: #008000\">128</span>, <span style=\"color: #008000\">56</span>, <span style=\"color: #008000\">56</span>), int32] {\n",
       "  qnn<span style=\"color: #AA22FF; font-weight: bold\">.</span>requantize(<span style=\"color: #AA22FF; font-weight: bold\">%</span>a, meta[relay<span style=\"color: #AA22FF; font-weight: bold\">.</span>Constant][<span style=\"color: #008000\">0</span>] <span style=\"color: #AA22FF; font-weight: bold\">/*</span> ty<span style=\"color: #AA22FF; font-weight: bold\">=</span>Tensor[(<span style=\"color: #008000\">128</span>), float32] <span style=\"color: #AA22FF; font-weight: bold\">*/</span>, <span style=\"color: #008000\">0</span> <span style=\"color: #AA22FF; font-weight: bold\">/*</span> ty<span style=\"color: #AA22FF; font-weight: bold\">=</span>int32 <span style=\"color: #AA22FF; font-weight: bold\">*/</span>, <span style=\"color: #008000\">1</span>f <span style=\"color: #AA22FF; font-weight: bold\">/*</span> ty<span style=\"color: #AA22FF; font-weight: bold\">=</span>float32 <span style=\"color: #AA22FF; font-weight: bold\">*/</span>, <span style=\"color: #008000\">0</span> <span style=\"color: #AA22FF; font-weight: bold\">/*</span> ty<span style=\"color: #AA22FF; font-weight: bold\">=</span>int32 <span style=\"color: #AA22FF; font-weight: bold\">*/</span>, axis<span style=\"color: #AA22FF; font-weight: bold\">=</span><span style=\"color: #008000\">1</span>, out_dtype<span style=\"color: #AA22FF; font-weight: bold\">=</span><span style=\"color: #BA2121\">&quot;int32&quot;</span>) <span style=\"color: #AA22FF; font-weight: bold\">/*</span> ty<span style=\"color: #AA22FF; font-weight: bold\">=</span>Tensor[(<span style=\"color: #008000\">1</span>, <span style=\"color: #008000\">128</span>, <span style=\"color: #008000\">56</span>, <span style=\"color: #008000\">56</span>), int32] <span style=\"color: #AA22FF; font-weight: bold\">*/</span>\n",
       "}\n",
       "</pre></div>\n"
      ],
      "text/plain": [
       "<IPython.core.display.HTML object>"
      ]
     },
     "metadata": {},
     "output_type": "display_data"
    },
    {
     "data": {
      "text/html": [
       "<div class=\"highlight\" style=\"background: \"><pre style=\"line-height: 125%;\"><span></span><span style=\"color: #008000; font-weight: bold\">def</span> <span style=\"color: #AA22FF\">@main</span>(<span style=\"color: #AA22FF; font-weight: bold\">%</span>a: Tensor[(<span style=\"color: #008000\">1</span>, <span style=\"color: #008000\">128</span>, <span style=\"color: #008000\">56</span>, <span style=\"color: #008000\">56</span>), int32] <span style=\"color: #AA22FF; font-weight: bold\">/*</span> ty<span style=\"color: #AA22FF; font-weight: bold\">=</span>Tensor[(<span style=\"color: #008000\">1</span>, <span style=\"color: #008000\">128</span>, <span style=\"color: #008000\">56</span>, <span style=\"color: #008000\">56</span>), int32] <span style=\"color: #AA22FF; font-weight: bold\">*/</span>) <span style=\"color: #AA22FF; font-weight: bold\">-&gt;</span> Tensor[(<span style=\"color: #008000\">1</span>, <span style=\"color: #008000\">128</span>, <span style=\"color: #008000\">56</span>, <span style=\"color: #008000\">56</span>), int32] {\n",
       "  qnn<span style=\"color: #AA22FF; font-weight: bold\">.</span>requantize(<span style=\"color: #AA22FF; font-weight: bold\">%</span>a, meta[relay<span style=\"color: #AA22FF; font-weight: bold\">.</span>Constant][<span style=\"color: #008000\">0</span>] <span style=\"color: #AA22FF; font-weight: bold\">/*</span> ty<span style=\"color: #AA22FF; font-weight: bold\">=</span>Tensor[(<span style=\"color: #008000\">128</span>), float32] <span style=\"color: #AA22FF; font-weight: bold\">*/</span>, <span style=\"color: #008000\">0</span> <span style=\"color: #AA22FF; font-weight: bold\">/*</span> ty<span style=\"color: #AA22FF; font-weight: bold\">=</span>int32 <span style=\"color: #AA22FF; font-weight: bold\">*/</span>, <span style=\"color: #008000\">1</span>f <span style=\"color: #AA22FF; font-weight: bold\">/*</span> ty<span style=\"color: #AA22FF; font-weight: bold\">=</span>float32 <span style=\"color: #AA22FF; font-weight: bold\">*/</span>, <span style=\"color: #008000\">0</span> <span style=\"color: #AA22FF; font-weight: bold\">/*</span> ty<span style=\"color: #AA22FF; font-weight: bold\">=</span>int32 <span style=\"color: #AA22FF; font-weight: bold\">*/</span>, axis<span style=\"color: #AA22FF; font-weight: bold\">=</span><span style=\"color: #008000\">1</span>, out_dtype<span style=\"color: #AA22FF; font-weight: bold\">=</span><span style=\"color: #BA2121\">&quot;int32&quot;</span>) <span style=\"color: #AA22FF; font-weight: bold\">/*</span> ty<span style=\"color: #AA22FF; font-weight: bold\">=</span>Tensor[(<span style=\"color: #008000\">1</span>, <span style=\"color: #008000\">128</span>, <span style=\"color: #008000\">56</span>, <span style=\"color: #008000\">56</span>), int32] <span style=\"color: #AA22FF; font-weight: bold\">*/</span>\n",
       "}\n",
       "</pre></div>\n"
      ],
      "text/plain": [
       "<IPython.core.display.HTML object>"
      ]
     },
     "metadata": {},
     "output_type": "display_data"
    },
    {
     "data": {
      "text/html": [
       "<div class=\"highlight\" style=\"background: \"><pre style=\"line-height: 125%;\"><span></span><span style=\"color: #008000; font-weight: bold\">def</span> <span style=\"color: #AA22FF\">@main</span>(<span style=\"color: #AA22FF; font-weight: bold\">%</span>a: Tensor[(<span style=\"color: #008000\">1</span>, <span style=\"color: #008000\">128</span>, <span style=\"color: #008000\">56</span>, <span style=\"color: #008000\">56</span>), int32] <span style=\"color: #AA22FF; font-weight: bold\">/*</span> ty<span style=\"color: #AA22FF; font-weight: bold\">=</span>Tensor[(<span style=\"color: #008000\">1</span>, <span style=\"color: #008000\">128</span>, <span style=\"color: #008000\">56</span>, <span style=\"color: #008000\">56</span>), int32] <span style=\"color: #AA22FF; font-weight: bold\">*/</span>) <span style=\"color: #AA22FF; font-weight: bold\">-&gt;</span> Tensor[(<span style=\"color: #008000\">1</span>, <span style=\"color: #008000\">128</span>, <span style=\"color: #008000\">56</span>, <span style=\"color: #008000\">56</span>), int32] {\n",
       "  qnn<span style=\"color: #AA22FF; font-weight: bold\">.</span>requantize(<span style=\"color: #AA22FF; font-weight: bold\">%</span>a, meta[relay<span style=\"color: #AA22FF; font-weight: bold\">.</span>Constant][<span style=\"color: #008000\">0</span>] <span style=\"color: #AA22FF; font-weight: bold\">/*</span> ty<span style=\"color: #AA22FF; font-weight: bold\">=</span>Tensor[(<span style=\"color: #008000\">128</span>), float32] <span style=\"color: #AA22FF; font-weight: bold\">*/</span>, <span style=\"color: #008000\">0</span> <span style=\"color: #AA22FF; font-weight: bold\">/*</span> ty<span style=\"color: #AA22FF; font-weight: bold\">=</span>int32 <span style=\"color: #AA22FF; font-weight: bold\">*/</span>, <span style=\"color: #008000\">1</span>f <span style=\"color: #AA22FF; font-weight: bold\">/*</span> ty<span style=\"color: #AA22FF; font-weight: bold\">=</span>float32 <span style=\"color: #AA22FF; font-weight: bold\">*/</span>, <span style=\"color: #008000\">0</span> <span style=\"color: #AA22FF; font-weight: bold\">/*</span> ty<span style=\"color: #AA22FF; font-weight: bold\">=</span>int32 <span style=\"color: #AA22FF; font-weight: bold\">*/</span>, axis<span style=\"color: #AA22FF; font-weight: bold\">=</span><span style=\"color: #008000\">1</span>, out_dtype<span style=\"color: #AA22FF; font-weight: bold\">=</span><span style=\"color: #BA2121\">&quot;int32&quot;</span>) <span style=\"color: #AA22FF; font-weight: bold\">/*</span> ty<span style=\"color: #AA22FF; font-weight: bold\">=</span>Tensor[(<span style=\"color: #008000\">1</span>, <span style=\"color: #008000\">128</span>, <span style=\"color: #008000\">56</span>, <span style=\"color: #008000\">56</span>), int32] <span style=\"color: #AA22FF; font-weight: bold\">*/</span>\n",
       "}\n",
       "</pre></div>\n"
      ],
      "text/plain": [
       "<IPython.core.display.HTML object>"
      ]
     },
     "metadata": {},
     "output_type": "display_data"
    },
    {
     "data": {
      "text/html": [
       "<div class=\"highlight\" style=\"background: \"><pre style=\"line-height: 125%;\"><span></span><span style=\"color: #008000; font-weight: bold\">def</span> <span style=\"color: #AA22FF\">@main</span>(<span style=\"color: #AA22FF; font-weight: bold\">%</span>a: Tensor[(<span style=\"color: #008000\">1</span>, <span style=\"color: #008000\">128</span>, <span style=\"color: #008000\">56</span>, <span style=\"color: #008000\">56</span>), int32] <span style=\"color: #AA22FF; font-weight: bold\">/*</span> ty<span style=\"color: #AA22FF; font-weight: bold\">=</span>Tensor[(<span style=\"color: #008000\">1</span>, <span style=\"color: #008000\">128</span>, <span style=\"color: #008000\">56</span>, <span style=\"color: #008000\">56</span>), int32] <span style=\"color: #AA22FF; font-weight: bold\">*/</span>) <span style=\"color: #AA22FF; font-weight: bold\">-&gt;</span> Tensor[(<span style=\"color: #008000\">1</span>, <span style=\"color: #008000\">128</span>, <span style=\"color: #008000\">56</span>, <span style=\"color: #008000\">56</span>), int32] {\n",
       "  qnn<span style=\"color: #AA22FF; font-weight: bold\">.</span>requantize(<span style=\"color: #AA22FF; font-weight: bold\">%</span>a, meta[relay<span style=\"color: #AA22FF; font-weight: bold\">.</span>Constant][<span style=\"color: #008000\">0</span>] <span style=\"color: #AA22FF; font-weight: bold\">/*</span> ty<span style=\"color: #AA22FF; font-weight: bold\">=</span>Tensor[(<span style=\"color: #008000\">128</span>), float32] <span style=\"color: #AA22FF; font-weight: bold\">*/</span>, <span style=\"color: #008000\">0</span> <span style=\"color: #AA22FF; font-weight: bold\">/*</span> ty<span style=\"color: #AA22FF; font-weight: bold\">=</span>int32 <span style=\"color: #AA22FF; font-weight: bold\">*/</span>, <span style=\"color: #008000\">1</span>f <span style=\"color: #AA22FF; font-weight: bold\">/*</span> ty<span style=\"color: #AA22FF; font-weight: bold\">=</span>float32 <span style=\"color: #AA22FF; font-weight: bold\">*/</span>, <span style=\"color: #008000\">0</span> <span style=\"color: #AA22FF; font-weight: bold\">/*</span> ty<span style=\"color: #AA22FF; font-weight: bold\">=</span>int32 <span style=\"color: #AA22FF; font-weight: bold\">*/</span>, axis<span style=\"color: #AA22FF; font-weight: bold\">=</span><span style=\"color: #008000\">1</span>, out_dtype<span style=\"color: #AA22FF; font-weight: bold\">=</span><span style=\"color: #BA2121\">&quot;int32&quot;</span>) <span style=\"color: #AA22FF; font-weight: bold\">/*</span> ty<span style=\"color: #AA22FF; font-weight: bold\">=</span>Tensor[(<span style=\"color: #008000\">1</span>, <span style=\"color: #008000\">128</span>, <span style=\"color: #008000\">56</span>, <span style=\"color: #008000\">56</span>), int32] <span style=\"color: #AA22FF; font-weight: bold\">*/</span>\n",
       "}\n",
       "</pre></div>\n"
      ],
      "text/plain": [
       "<IPython.core.display.HTML object>"
      ]
     },
     "metadata": {},
     "output_type": "display_data"
    }
   ],
   "source": [
    "ishape = [1, 128, 56, 56]\n",
    "axis = 1\n",
    "a = relay.var(\"a\", shape=ishape, dtype=\"int32\")\n",
    "for in_scale_const, out_scale_const in scales:\n",
    "    # Make list of input scales from in_scale_const parameter.\n",
    "    if isinstance(in_scale_const, tuple):\n",
    "        in_scale = list(in_scale_const) * (ishape[axis] // len(in_scale_const))\n",
    "    else:\n",
    "        in_scale = [in_scale_const] * ishape[axis]\n",
    "    assert len(in_scale) == ishape[axis]\n",
    "    # qnn.requantize is lowered to fixed_point_multiply if zp == 0 and in_dtype == out_dtype.\n",
    "    iscale = relay.const(in_scale)\n",
    "    izero = relay.const(0)\n",
    "    oscale = relay.const(out_scale_const)\n",
    "    ozero = relay.const(0)\n",
    "    op = relay.qnn.op.requantize(a, iscale, izero, oscale, ozero, axis=axis, out_dtype=\"int32\")\n",
    "    mod = tvm.IRModule.from_expr(op)\n",
    "    mod = relay.transform.InferType()(mod)\n",
    "    mod.show()\n",
    "    with tvm.transform.PassContext(opt_level=3):\n",
    "        # Compile for LLVM...\n",
    "        llvm_lowered = build_module(mod, tvm.target.Target(\"llvm\"))\n",
    "\n",
    "    a_np = np.random.randint(-1000, 1000, size=np.prod(ishape)).reshape(ishape)\n",
    "    inputs = {\"a\": a_np}\n",
    "\n",
    "    # Run llvm...\n",
    "    llvm_mod = tvm.runtime.executor.AotModule(llvm_lowered[\"default\"](tvm.cpu(0)))\n",
    "    expected_output = run_module(llvm_mod, inputs)"
   ]
  },
  {
   "cell_type": "markdown",
   "metadata": {},
   "source": [
    "## fixed point multiply with vectorization\n",
    "\n",
    "Vectorization size is more than hw vector length"
   ]
  },
  {
   "cell_type": "code",
   "execution_count": 5,
   "metadata": {},
   "outputs": [],
   "source": [
    "ishape = [2, 256, 16]\n",
    "\n",
    "def q_mul_shift(shape):\n",
    "    x = te.placeholder(shape, name=\"X\", dtype=\"int32\")\n",
    "    out = te.compute(\n",
    "        shape,\n",
    "        lambda i, j, k: tvm.tir.q_multiply_shift(\n",
    "            x[i, j, k],\n",
    "            tvm.tir.const(1395864320, \"int32\"),\n",
    "            tvm.tir.const(31, \"int32\"),\n",
    "            tvm.tir.const(1, \"int32\"),\n",
    "        ),\n",
    "        name=\"compute\",\n",
    "    )\n",
    "    return te.create_prim_func([x, out])\n",
    "\n",
    "for vector_size in (32, 64, 128, 256):\n",
    "    mod = q_mul_shift(ishape)\n",
    "    # Schedule with vectorization\n",
    "    sch = tvm.tir.Schedule(mod)\n",
    "    b00 = sch.get_block(name=\"compute\", func_name=\"main\")\n",
    "    fused = sch.fuse(*sch.get_loops(block=b00))\n",
    "    _, v = sch.split(loop=fused, factors=[None, vector_size])\n",
    "    sch.vectorize(v)\n",
    "\n",
    "    with tvm.transform.PassContext(opt_level=3):\n",
    "        host_lib = tvm.build(mod, target=tvm.target.Target(\"llvm\"))\n",
    "\n",
    "    # Verify accuracy\n",
    "    a_np = np.random.randint(-1000, 1000, size=np.prod(ishape)).reshape(ishape).astype(\"int32\")\n",
    "    b_np = np.random.randint(-1000, 1000, size=np.prod(ishape)).reshape(ishape).astype(\"int32\")\n",
    "\n",
    "    host_args = [tvm.runtime.ndarray.array(arg) for arg in [a_np, b_np]]\n",
    "    host_lib(*host_args)"
   ]
  },
  {
   "cell_type": "code",
   "execution_count": 6,
   "metadata": {},
   "outputs": [],
   "source": [
    "a_shape = [2, 256, 16]\n",
    "b_shape = [256]\n",
    "\n",
    "def q_mul_shift(shape):\n",
    "    shift_shape = [shape[1]]\n",
    "    x = te.placeholder(shape, name=\"X\", dtype=\"int32\")\n",
    "    y = te.placeholder(shift_shape, name=\"X\", dtype=\"int32\")\n",
    "    l_shift = te.placeholder(shift_shape, name=\"X\", dtype=\"int32\")\n",
    "    r_shift = te.placeholder(shift_shape, name=\"X\", dtype=\"int32\")\n",
    "\n",
    "    out = te.compute(\n",
    "        shape,\n",
    "        lambda i, j, k: tvm.tir.q_multiply_shift_per_axis(\n",
    "            x[i, j, k],\n",
    "            y[j],\n",
    "            l_shift[j],\n",
    "            r_shift[j],\n",
    "            tvm.tir.const(31, \"int32\"),\n",
    "            tvm.tir.const(1, \"bool\"),\n",
    "            tvm.tir.const(0, \"bool\"),\n",
    "        ),\n",
    "        name=\"compute\",\n",
    "    )\n",
    "    return te.create_prim_func([x, y, l_shift, r_shift, out])\n",
    "\n",
    "for vector_size in (32, 64, 128, 256):\n",
    "    mod = q_mul_shift(a_shape)\n",
    "    # Schedule with vectorization\n",
    "    sch = tvm.tir.Schedule(mod)\n",
    "    b00 = sch.get_block(name=\"compute\", func_name=\"main\")\n",
    "    fused = sch.fuse(*sch.get_loops(block=b00))\n",
    "    _, v = sch.split(loop=fused, factors=[None, vector_size])\n",
    "    sch.vectorize(v)\n",
    "\n",
    "    with tvm.transform.PassContext(opt_level=3):\n",
    "        host_lib = tvm.build(mod, target=tvm.target.Target(\"llvm\"))\n",
    "\n",
    "    # Verify accuracy\n",
    "    x_np = (\n",
    "        np.random.randint(-1000, 1000, size=np.prod(a_shape)).reshape(a_shape).astype(\"int32\")\n",
    "    )\n",
    "    y_np = (\n",
    "        np.random.randint(-1000, 1000, size=np.prod(b_shape)).reshape(b_shape).astype(\"int32\")\n",
    "    )\n",
    "    lsh_np = np.random.randint(0, 10, size=np.prod(b_shape)).reshape(b_shape).astype(\"int32\")\n",
    "    rsh_np = np.random.randint(0, 10, size=np.prod(b_shape)).reshape(b_shape).astype(\"int32\")\n",
    "    b_np = (\n",
    "        np.random.randint(-1000, 1000, size=np.prod(a_shape)).reshape(a_shape).astype(\"int32\")\n",
    "    )\n",
    "    np_args = [x_np, y_np, lsh_np, rsh_np, b_np]\n",
    "    host_args = [tvm.runtime.ndarray.array(arg) for arg in np_args]\n",
    "    host_lib(*host_args)"
   ]
  },
  {
   "cell_type": "code",
   "execution_count": 8,
   "metadata": {},
   "outputs": [
    {
     "data": {
      "text/plain": [
       "<function tvm.relay.op.tensor.fixed_point_multiply(data, multiplier, shift)>"
      ]
     },
     "execution_count": 8,
     "metadata": {},
     "output_type": "execute_result"
    }
   ],
   "source": [
    "relay.fixed_point_multiply"
   ]
  },
  {
   "cell_type": "code",
   "execution_count": null,
   "metadata": {},
   "outputs": [],
   "source": []
  }
 ],
 "metadata": {
  "kernelspec": {
   "display_name": "tvmz",
   "language": "python",
   "name": "python3"
  },
  "language_info": {
   "codemirror_mode": {
    "name": "ipython",
    "version": 3
   },
   "file_extension": ".py",
   "mimetype": "text/x-python",
   "name": "python",
   "nbconvert_exporter": "python",
   "pygments_lexer": "ipython3",
   "version": "3.10.12"
  }
 },
 "nbformat": 4,
 "nbformat_minor": 2
}
