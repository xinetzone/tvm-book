{
 "cells": [
  {
   "cell_type": "markdown",
   "metadata": {},
   "source": [
    "# 拓展 TVM"
   ]
  },
  {
   "cell_type": "markdown",
   "metadata": {},
   "source": [
    "```{topic} 导航\n",
    "展示了其他库如何在 C++ 和 Python API 中扩展 TVM。\n",
    "\n",
    "- 该库扩展了 TVM 的功能。\n",
    "- Python 模块加载新的共享库，并可以使用 TVM 的 Python API 进行插值操作。\n",
    "```"
   ]
  },
  {
   "cell_type": "markdown",
   "metadata": {},
   "source": [
    "::::::{dropdown} 代码\n",
    ":::::{tab-set-code}\n",
    "\n",
    "::::{literalinclude} extension/src/tvm_ext.cc\n",
    ":language: C++\n",
    "::::\n",
    "\n",
    "::::{literalinclude} extension/tvm_ext/__init__.py\n",
    ":language: python\n",
    "::::\n",
    "\n",
    ":::::\n",
    "::::::"
   ]
  },
  {
   "cell_type": "markdown",
   "metadata": {},
   "source": [
    "编译：\n",
    "\n",
    "```bash\n",
    "make outputs/libs/libtvm_ext.so\n",
    "```"
   ]
  },
  {
   "cell_type": "code",
   "execution_count": 1,
   "metadata": {},
   "outputs": [],
   "source": [
    "import numpy as np\n",
    "import torch\n",
    "from torch import nn\n",
    "import tvm\n",
    "from tvm.ir.module import IRModule\n",
    "from tvm import te, topi, relay\n",
    "from extension import tvm_ext"
   ]
  },
  {
   "cell_type": "markdown",
   "metadata": {},
   "source": [
    "## `tvm_ext.bind_add`"
   ]
  },
  {
   "cell_type": "code",
   "execution_count": 2,
   "metadata": {},
   "outputs": [],
   "source": [
    "def add(a, b):\n",
    "    return a + b\n",
    "\n",
    "f = tvm_ext.bind_add(add, 1)\n",
    "assert f(2) == 3"
   ]
  },
  {
   "cell_type": "markdown",
   "metadata": {},
   "source": [
    "## `tvm.ext_dev`"
   ]
  },
  {
   "cell_type": "code",
   "execution_count": 14,
   "metadata": {},
   "outputs": [],
   "source": [
    "n = 10\n",
    "A = te.placeholder((n,), name=\"A\")\n",
    "B = te.compute((n,), lambda *i: A(*i) + 1.0, name=\"B\")\n",
    "s = te.create_schedule(B.op)\n",
    "\n",
    "def check_llvm():\n",
    "    f = tvm.build(s, [A, B], tvm.target.Target(\"ext_dev\", \"llvm\"))\n",
    "    dev = tvm.ext_dev(0)\n",
    "    # launch the kernel.\n",
    "    a = tvm.nd.array(np.random.uniform(size=n).astype(A.dtype), dev)\n",
    "    b = tvm.nd.array(np.zeros(n, dtype=B.dtype), dev)\n",
    "    f(a, b)\n",
    "    np.testing.assert_allclose(b.numpy(), a.numpy() + 1)\n",
    "\n",
    "check_llvm()"
   ]
  },
  {
   "cell_type": "markdown",
   "metadata": {},
   "source": [
    "## `tvm_ext.sym_add`"
   ]
  },
  {
   "cell_type": "code",
   "execution_count": 6,
   "metadata": {},
   "outputs": [],
   "source": [
    "a = te.var(\"a\")\n",
    "b = te.var(\"b\")\n",
    "c = tvm_ext.sym_add(a, b)\n",
    "assert c.a == a and c.b == b"
   ]
  },
  {
   "cell_type": "markdown",
   "metadata": {},
   "source": [
    "## `tvm_ext.ivec_create`"
   ]
  },
  {
   "cell_type": "code",
   "execution_count": 7,
   "metadata": {},
   "outputs": [],
   "source": [
    "ivec = tvm_ext.ivec_create(1, 2, 3)\n",
    "assert isinstance(ivec, tvm_ext.IntVec)\n",
    "assert ivec[0] == 1\n",
    "assert ivec[1] == 2\n",
    "\n",
    "def ivec_cb(v2):\n",
    "    assert isinstance(v2, tvm_ext.IntVec)\n",
    "    assert v2[2] == 3\n",
    "\n",
    "tvm.runtime.convert(ivec_cb)(ivec)"
   ]
  },
  {
   "cell_type": "markdown",
   "metadata": {},
   "source": [
    "## `extract_ext_funcs`"
   ]
  },
  {
   "cell_type": "code",
   "execution_count": 8,
   "metadata": {},
   "outputs": [],
   "source": [
    "fdict = tvm._ffi.registry.extract_ext_funcs(tvm_ext._LIB.TVMExtDeclare)\n",
    "assert fdict[\"mul\"](3, 4) == 12"
   ]
  },
  {
   "cell_type": "markdown",
   "metadata": {},
   "source": [
    "## `extern_call`"
   ]
  },
  {
   "cell_type": "code",
   "execution_count": 16,
   "metadata": {},
   "outputs": [],
   "source": [
    "n = 10\n",
    "A = te.placeholder((n,), name=\"A\")\n",
    "B = te.compute(\n",
    "    (n,), lambda *i: tvm.tir.call_extern(\"float32\", \"TVMTestAddOne\", A(*i)), name=\"B\"\n",
    ")\n",
    "s = te.create_schedule(B.op)\n",
    "\n",
    "def check_llvm():\n",
    "    f = tvm.build(s, [A, B], \"llvm\")\n",
    "    dev = tvm.cpu(0)\n",
    "    # launch the kernel.\n",
    "    a = tvm.nd.array(np.random.uniform(size=n).astype(A.dtype), dev)\n",
    "    b = tvm.nd.array(np.zeros(n, dtype=B.dtype), dev)\n",
    "    f(a, b)\n",
    "    np.testing.assert_allclose(b.numpy(), a.numpy() + 1)\n",
    "\n",
    "check_llvm()"
   ]
  },
  {
   "cell_type": "markdown",
   "metadata": {},
   "source": [
    "## `tvm_ext.NDSubClass`"
   ]
  },
  {
   "cell_type": "code",
   "execution_count": 17,
   "metadata": {},
   "outputs": [],
   "source": [
    "a = tvm_ext.NDSubClass.create(additional_info=3)\n",
    "b = tvm_ext.NDSubClass.create(additional_info=5)\n",
    "assert isinstance(a, tvm_ext.NDSubClass)\n",
    "c = a + b\n",
    "d = a + a\n",
    "e = b + b\n",
    "assert a.additional_info == 3\n",
    "assert b.additional_info == 5\n",
    "assert c.additional_info == 8\n",
    "assert d.additional_info == 6\n",
    "assert e.additional_info == 10"
   ]
  },
  {
   "cell_type": "code",
   "execution_count": null,
   "metadata": {},
   "outputs": [],
   "source": []
  }
 ],
 "metadata": {
  "kernelspec": {
   "display_name": "Python 3.10.4 ('tvmx': conda)",
   "language": "python",
   "name": "python3"
  },
  "language_info": {
   "codemirror_mode": {
    "name": "ipython",
    "version": 3
   },
   "file_extension": ".py",
   "mimetype": "text/x-python",
   "name": "python",
   "nbconvert_exporter": "python",
   "pygments_lexer": "ipython3",
   "version": "3.10.12"
  },
  "orig_nbformat": 4,
  "vscode": {
   "interpreter": {
    "hash": "e579259ee6098e2b9319de590d145b4b096774fe457bdf04260e3ba5c171e887"
   }
  }
 },
 "nbformat": 4,
 "nbformat_minor": 2
}
