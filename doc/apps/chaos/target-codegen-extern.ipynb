{
 "cells": [
  {
   "cell_type": "markdown",
   "metadata": {},
   "source": [
    "# 外部目标代码生成"
   ]
  },
  {
   "cell_type": "code",
   "execution_count": 1,
   "metadata": {},
   "outputs": [],
   "source": [
    "import tvm\n",
    "from tvm import te\n",
    "import numpy as np"
   ]
  },
  {
   "cell_type": "markdown",
   "metadata": {},
   "source": [
    "## add pipeline"
   ]
  },
  {
   "cell_type": "code",
   "execution_count": 2,
   "metadata": {},
   "outputs": [
    {
     "data": {
      "text/html": [
       "<div class=\"highlight\" style=\"background: \"><pre style=\"line-height: 125%;\"><span></span><span style=\"color: #007979; font-style: italic\"># from tvm.script import ir as I</span>\n",
       "<span style=\"color: #007979; font-style: italic\"># from tvm.script import tir as T</span>\n",
       "\n",
       "<span style=\"color: #AA22FF\">@I</span><span style=\"color: #AA22FF; font-weight: bold\">.</span>ir_module\n",
       "<span style=\"color: #008000; font-weight: bold\">class</span> <span style=\"color: #0000FF; font-weight: bold\">Module</span>:\n",
       "    <span style=\"color: #AA22FF\">@T</span><span style=\"color: #AA22FF; font-weight: bold\">.</span>prim_func\n",
       "    <span style=\"color: #008000; font-weight: bold\">def</span> <span style=\"color: #0000FF\">main</span>(A: T<span style=\"color: #AA22FF; font-weight: bold\">.</span>Buffer((<span style=\"color: #008000\">64</span>,), <span style=\"color: #BA2121\">&quot;float32&quot;</span>), C: T<span style=\"color: #AA22FF; font-weight: bold\">.</span>Buffer((<span style=\"color: #008000\">64</span>,), <span style=\"color: #BA2121\">&quot;float32&quot;</span>)):\n",
       "        T<span style=\"color: #AA22FF; font-weight: bold\">.</span>func_attr({<span style=\"color: #BA2121\">&quot;from_legacy_te_schedule&quot;</span>: T<span style=\"color: #AA22FF; font-weight: bold\">.</span>bool(<span style=\"color: #008000; font-weight: bold\">True</span>), <span style=\"color: #BA2121\">&quot;tir.noalias&quot;</span>: T<span style=\"color: #AA22FF; font-weight: bold\">.</span>bool(<span style=\"color: #008000; font-weight: bold\">True</span>)})\n",
       "        T<span style=\"color: #AA22FF; font-weight: bold\">.</span>attr(<span style=\"color: #008000\">0</span>, <span style=\"color: #BA2121\">&quot;extern_scope&quot;</span>, <span style=\"color: #008000\">0</span>)\n",
       "        <span style=\"color: #008000; font-weight: bold\">for</span> i <span style=\"color: #008000; font-weight: bold\">in</span> range(<span style=\"color: #008000\">32</span>):\n",
       "            cse_var_1: T<span style=\"color: #AA22FF; font-weight: bold\">.</span>int32 <span style=\"color: #AA22FF; font-weight: bold\">=</span> i <span style=\"color: #AA22FF; font-weight: bold\">*</span> <span style=\"color: #008000\">2</span>\n",
       "            C[cse_var_1:cse_var_1 <span style=\"color: #AA22FF; font-weight: bold\">+</span> <span style=\"color: #008000\">2</span>] <span style=\"color: #AA22FF; font-weight: bold\">=</span> A[cse_var_1:cse_var_1 <span style=\"color: #AA22FF; font-weight: bold\">+</span> <span style=\"color: #008000\">2</span>] <span style=\"color: #AA22FF; font-weight: bold\">+</span> T<span style=\"color: #AA22FF; font-weight: bold\">.</span>Broadcast(T<span style=\"color: #AA22FF; font-weight: bold\">.</span>float32(<span style=\"color: #008000\">1</span>), <span style=\"color: #008000\">2</span>)\n",
       "</pre></div>\n"
      ],
      "text/plain": [
       "<IPython.core.display.HTML object>"
      ]
     },
     "metadata": {},
     "output_type": "display_data"
    },
    {
     "data": {
      "text/html": [
       "<div class=\"highlight\" style=\"background: \"><pre style=\"line-height: 125%;\"><span></span><span style=\"color: #007979; font-style: italic\"># from tvm.script import ir as I</span>\n",
       "<span style=\"color: #007979; font-style: italic\"># from tvm.script import tir as T</span>\n",
       "\n",
       "<span style=\"color: #AA22FF\">@I</span><span style=\"color: #AA22FF; font-weight: bold\">.</span>ir_module\n",
       "<span style=\"color: #008000; font-weight: bold\">class</span> <span style=\"color: #0000FF; font-weight: bold\">Module</span>:\n",
       "    <span style=\"color: #AA22FF\">@T</span><span style=\"color: #AA22FF; font-weight: bold\">.</span>prim_func\n",
       "    <span style=\"color: #008000; font-weight: bold\">def</span> <span style=\"color: #0000FF\">main</span>(A: T<span style=\"color: #AA22FF; font-weight: bold\">.</span>Buffer((<span style=\"color: #008000\">64</span>,), <span style=\"color: #BA2121\">&quot;float32&quot;</span>), C: T<span style=\"color: #AA22FF; font-weight: bold\">.</span>Buffer((<span style=\"color: #008000\">64</span>,), <span style=\"color: #BA2121\">&quot;float32&quot;</span>)):\n",
       "        T<span style=\"color: #AA22FF; font-weight: bold\">.</span>func_attr({<span style=\"color: #BA2121\">&quot;from_legacy_te_schedule&quot;</span>: T<span style=\"color: #AA22FF; font-weight: bold\">.</span>bool(<span style=\"color: #008000; font-weight: bold\">True</span>), <span style=\"color: #BA2121\">&quot;tir.noalias&quot;</span>: T<span style=\"color: #AA22FF; font-weight: bold\">.</span>bool(<span style=\"color: #008000; font-weight: bold\">True</span>)})\n",
       "        T<span style=\"color: #AA22FF; font-weight: bold\">.</span>attr(<span style=\"color: #008000\">0</span>, <span style=\"color: #BA2121\">&quot;extern_scope&quot;</span>, <span style=\"color: #008000\">0</span>)\n",
       "        blockIdx_x <span style=\"color: #AA22FF; font-weight: bold\">=</span> T<span style=\"color: #AA22FF; font-weight: bold\">.</span>launch_thread(<span style=\"color: #BA2121\">&quot;blockIdx.x&quot;</span>, <span style=\"color: #008000\">16</span>)\n",
       "        threadIdx_x <span style=\"color: #AA22FF; font-weight: bold\">=</span> T<span style=\"color: #AA22FF; font-weight: bold\">.</span>launch_thread(<span style=\"color: #BA2121\">&quot;threadIdx.x&quot;</span>, <span style=\"color: #008000\">4</span>)\n",
       "        C[blockIdx_x <span style=\"color: #AA22FF; font-weight: bold\">*</span> <span style=\"color: #008000\">8</span> <span style=\"color: #AA22FF; font-weight: bold\">+</span> threadIdx_x <span style=\"color: #AA22FF; font-weight: bold\">*</span> <span style=\"color: #008000\">2</span>:blockIdx_x <span style=\"color: #AA22FF; font-weight: bold\">*</span> <span style=\"color: #008000\">8</span> <span style=\"color: #AA22FF; font-weight: bold\">+</span> threadIdx_x <span style=\"color: #AA22FF; font-weight: bold\">*</span> <span style=\"color: #008000\">2</span> <span style=\"color: #AA22FF; font-weight: bold\">+</span> <span style=\"color: #008000\">2</span>] <span style=\"color: #AA22FF; font-weight: bold\">=</span> A[blockIdx_x <span style=\"color: #AA22FF; font-weight: bold\">*</span> <span style=\"color: #008000\">8</span> <span style=\"color: #AA22FF; font-weight: bold\">+</span> threadIdx_x <span style=\"color: #AA22FF; font-weight: bold\">*</span> <span style=\"color: #008000\">2</span>:blockIdx_x <span style=\"color: #AA22FF; font-weight: bold\">*</span> <span style=\"color: #008000\">8</span> <span style=\"color: #AA22FF; font-weight: bold\">+</span> threadIdx_x <span style=\"color: #AA22FF; font-weight: bold\">*</span> <span style=\"color: #008000\">2</span> <span style=\"color: #AA22FF; font-weight: bold\">+</span> <span style=\"color: #008000\">2</span>] <span style=\"color: #AA22FF; font-weight: bold\">+</span> T<span style=\"color: #AA22FF; font-weight: bold\">.</span>Broadcast(T<span style=\"color: #AA22FF; font-weight: bold\">.</span>float32(<span style=\"color: #008000\">1</span>), <span style=\"color: #008000\">2</span>)\n",
       "</pre></div>\n"
      ],
      "text/plain": [
       "<IPython.core.display.HTML object>"
      ]
     },
     "metadata": {},
     "output_type": "display_data"
    }
   ],
   "source": [
    "nn = 64\n",
    "max_threads = 4\n",
    "n = tvm.runtime.convert(nn)\n",
    "A = te.placeholder((n,), name=\"A\")\n",
    "\n",
    "def extern_generator(ins, outs):\n",
    "    \"\"\"Manually write the IR for the extern function, add pipeline\"\"\"\n",
    "    ib = tvm.tir.ir_builder.create()\n",
    "    with ib.for_range(0, (n + 1) // 2) as i:\n",
    "        ib.emit(\n",
    "            outs[0].vstore(\n",
    "                i * 2, ins[0].vload(i * 2, \"float32x2\") + tvm.tir.const(1, \"float32x2\")\n",
    "            )\n",
    "        )\n",
    "    return ib.get()\n",
    "\n",
    "def extern_generator_gpu(ins, outs):\n",
    "    \"\"\"Manually write the IR for the extern function, add pipeline\"\"\"\n",
    "    ib = tvm.tir.ir_builder.create()\n",
    "    bx = te.thread_axis(\"blockIdx.x\")\n",
    "    tx = te.thread_axis(\"threadIdx.x\")\n",
    "    ib.scope_attr(bx, \"thread_extent\", (nn + max_threads - 1) // max_threads)\n",
    "    ib.scope_attr(tx, \"thread_extent\", max_threads)\n",
    "    idx = bx.var * max_threads + tx.var\n",
    "    with ib.if_scope(ib.likely(idx < n)):\n",
    "        ib.emit(\n",
    "            outs[0].vstore(\n",
    "                idx * 2, ins[0].vload(idx * 2, \"float32x2\") + tvm.tir.const(1, \"float32x2\")\n",
    "            )\n",
    "        )\n",
    "    return ib.get()\n",
    "\n",
    "\n",
    "C_cpu = te.extern(A.shape, [A], extern_generator, name=\"C\")\n",
    "C_gpu = te.extern(A.shape, [A], extern_generator_gpu, name=\"C\")\n",
    "s_cpu = te.create_schedule(C_cpu.op)\n",
    "s_gpu = te.create_schedule(C_gpu.op)\n",
    "tvm.lower(s_cpu, [A, C_cpu], simple_mode=True).show()\n",
    "tvm.lower(s_gpu, [A, C_gpu], simple_mode=True).show()"
   ]
  },
  {
   "cell_type": "code",
   "execution_count": 3,
   "metadata": {},
   "outputs": [],
   "source": [
    "target = \"llvm\"\n",
    "C = C_cpu\n",
    "s = s_cpu\n",
    "# build and invoke the kernel.\n",
    "f = tvm.build(s, [A, C], target)\n",
    "dev = tvm.device(target, 0)\n",
    "# launch the kernel.\n",
    "n = nn\n",
    "a = tvm.nd.array(np.random.uniform(size=n).astype(A.dtype), dev)\n",
    "c = tvm.nd.array(np.zeros(n, dtype=C.dtype), dev)\n",
    "f(a, c)\n",
    "np.testing.assert_allclose(c.numpy(), a.numpy() + 1)"
   ]
  },
  {
   "cell_type": "markdown",
   "metadata": {},
   "source": [
    "## pack_buffer_simple"
   ]
  },
  {
   "cell_type": "code",
   "execution_count": 4,
   "metadata": {},
   "outputs": [],
   "source": [
    "nn = 1024\n",
    "n = tvm.runtime.convert(nn)\n",
    "A = te.placeholder((n,), name=\"A\")\n",
    "\n",
    "def extern_generator(ins, outs):\n",
    "    \"\"\"Manually write the IR for the extern function, add pipeline.\"\"\"\n",
    "    return tvm.tir.call_packed(\"my_extern_array_func1\", ins[0], outs[0])\n",
    "\n",
    "C = te.extern(A.shape, [A], extern_generator, name=\"C\")\n",
    "s = te.create_schedule(C.op)\n",
    "\n",
    "@tvm.register_func\n",
    "def my_extern_array_func1(aa, bb):\n",
    "    aa.copyto(bb)"
   ]
  },
  {
   "cell_type": "code",
   "execution_count": 6,
   "metadata": {},
   "outputs": [],
   "source": [
    "target = \"llvm\"\n",
    "# build and invoke the kernel.\n",
    "f = tvm.build(s, [A, C], target)\n",
    "dev = tvm.cpu(0)\n",
    "# launch the kernel.\n",
    "n = nn\n",
    "a = tvm.nd.array(np.random.uniform(size=n).astype(A.dtype), dev)\n",
    "c = tvm.nd.array(np.zeros(n, dtype=C.dtype), dev)\n",
    "\n",
    "f(a, c)\n",
    "np.testing.assert_allclose(c.numpy(), a.numpy())"
   ]
  },
  {
   "cell_type": "markdown",
   "metadata": {},
   "source": [
    "## pack_buffer_intermediate"
   ]
  },
  {
   "cell_type": "code",
   "execution_count": 7,
   "metadata": {},
   "outputs": [],
   "source": [
    "nn = 1024\n",
    "n = tvm.runtime.convert(nn)\n",
    "A = te.placeholder((n,), name=\"A\")\n",
    "B = te.compute((n,), lambda i: A[i] + 1, name=\"B\")\n",
    "\n",
    "def extern_generator(ins, outs):\n",
    "    \"\"\"Manually write the IR for the extern function, add pipeline.\"\"\"\n",
    "    return tvm.tir.call_packed(\"my_extern_array_func2\", ins[0], outs[0])\n",
    "\n",
    "C = te.extern(B.shape, [B], extern_generator, name=\"C\")\n",
    "s = te.create_schedule(C.op)"
   ]
  },
  {
   "cell_type": "code",
   "execution_count": 8,
   "metadata": {},
   "outputs": [],
   "source": [
    "# build and invoke the kernel.\n",
    "f = tvm.build(s, [A, C], target)\n",
    "dev = tvm.cpu(0)\n",
    "# launch the kernel.\n",
    "n = nn\n",
    "a = tvm.nd.array(np.random.uniform(size=n).astype(A.dtype), dev)\n",
    "c = tvm.nd.array(np.zeros(n, dtype=C.dtype), dev)\n",
    "\n",
    "@tvm.register_func\n",
    "def my_extern_array_func2(aa, bb):\n",
    "    assert aa.shape == a.shape\n",
    "    np.testing.assert_allclose(aa.numpy(), a.numpy() + 1)\n",
    "    aa.copyto(bb)\n",
    "\n",
    "f(a, c)\n",
    "np.testing.assert_allclose(c.numpy(), a.numpy() + 1)"
   ]
  },
  {
   "cell_type": "code",
   "execution_count": null,
   "metadata": {},
   "outputs": [],
   "source": []
  }
 ],
 "metadata": {
  "kernelspec": {
   "display_name": "tvmz",
   "language": "python",
   "name": "python3"
  },
  "language_info": {
   "codemirror_mode": {
    "name": "ipython",
    "version": 3
   },
   "file_extension": ".py",
   "mimetype": "text/x-python",
   "name": "python",
   "nbconvert_exporter": "python",
   "pygments_lexer": "ipython3",
   "version": "3.10.12"
  }
 },
 "nbformat": 4,
 "nbformat_minor": 2
}
