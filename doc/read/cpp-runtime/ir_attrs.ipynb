{
 "cells": [
  {
   "cell_type": "markdown",
   "metadata": {},
   "source": [
    "# ir attrs"
   ]
  },
  {
   "cell_type": "code",
   "execution_count": 1,
   "metadata": {},
   "outputs": [],
   "source": [
    "import set_env"
   ]
  },
  {
   "cell_type": "code",
   "execution_count": 5,
   "metadata": {},
   "outputs": [],
   "source": [
    "import pytest"
   ]
  },
  {
   "cell_type": "markdown",
   "metadata": {},
   "source": [
    "## make attrs"
   ]
  },
  {
   "cell_type": "code",
   "execution_count": 3,
   "metadata": {},
   "outputs": [],
   "source": [
    "import tvm"
   ]
  },
  {
   "cell_type": "code",
   "execution_count": 6,
   "metadata": {},
   "outputs": [],
   "source": [
    "with pytest.raises(AttributeError):\n",
    "    x = tvm.ir.make_node(\"attrs.TestAttrs\", unknown_key=1, name=\"xx\")\n",
    "\n",
    "with pytest.raises(AttributeError):\n",
    "    x = tvm.ir.make_node(\"attrs.TestAttrs\", axis=100, name=\"xx\")"
   ]
  },
  {
   "cell_type": "code",
   "execution_count": 7,
   "metadata": {},
   "outputs": [],
   "source": [
    "x = tvm.ir.make_node(\"attrs.TestAttrs\", name=\"xx\", padding=(3, 4))\n",
    "assert x.name == \"xx\"\n",
    "assert x.padding[0].value == 3\n",
    "assert x.padding[1].value == 4\n",
    "assert x.axis == 10"
   ]
  },
  {
   "cell_type": "markdown",
   "metadata": {},
   "source": [
    "## dict attrs"
   ]
  },
  {
   "cell_type": "code",
   "execution_count": 8,
   "metadata": {},
   "outputs": [],
   "source": [
    "dattr = tvm.ir.make_node(\"DictAttrs\", x=1, y=10, name=\"xyz\", padding=(0, 0))\n",
    "assert dattr.x.value == 1\n",
    "datrr = tvm.ir.load_json(tvm.ir.save_json(dattr))\n",
    "assert dattr.name == \"xyz\"\n",
    "assert isinstance(dattr, tvm.ir.DictAttrs)\n",
    "assert \"name\" in dattr\n",
    "assert dattr[\"x\"].value == 1\n",
    "assert len(dattr) == 4\n",
    "assert len([x for x in dattr.keys()]) == 4\n",
    "assert len(dattr.items()) == 4"
   ]
  },
  {
   "cell_type": "markdown",
   "metadata": {},
   "source": [
    "## 属性相等"
   ]
  },
  {
   "cell_type": "code",
   "execution_count": 10,
   "metadata": {},
   "outputs": [],
   "source": [
    "dattr0 = tvm.ir.make_node(\"DictAttrs\", x=1, y=[10, 20])\n",
    "dattr1 = tvm.ir.make_node(\"DictAttrs\", y=[10, 20], x=1)\n",
    "dattr2 = tvm.ir.make_node(\"DictAttrs\", x=1, y=None)\n",
    "assert tvm.ir.structural_equal(dattr0, dattr1)\n",
    "assert not tvm.ir.structural_equal(dattr0, dattr2)\n",
    "assert not tvm.ir.structural_equal({\"x\": 1}, tvm.runtime.convert(1))\n",
    "assert not tvm.ir.structural_equal([1, 2], tvm.runtime.convert(1))"
   ]
  },
  {
   "cell_type": "code",
   "execution_count": null,
   "metadata": {},
   "outputs": [],
   "source": []
  }
 ],
 "metadata": {
  "kernelspec": {
   "display_name": "py311",
   "language": "python",
   "name": "python3"
  },
  "language_info": {
   "codemirror_mode": {
    "name": "ipython",
    "version": 3
   },
   "file_extension": ".py",
   "mimetype": "text/x-python",
   "name": "python",
   "nbconvert_exporter": "python",
   "pygments_lexer": "ipython3",
   "version": "3.11.7"
  }
 },
 "nbformat": 4,
 "nbformat_minor": 2
}
