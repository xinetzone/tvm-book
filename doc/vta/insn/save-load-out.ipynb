{
 "cells": [
  {
   "cell_type": "markdown",
   "metadata": {},
   "source": [
    "# VTA save/store 输出命令"
   ]
  },
  {
   "cell_type": "code",
   "execution_count": 1,
   "metadata": {},
   "outputs": [],
   "source": [
    "import numpy as np\n",
    "import tvm\n",
    "from tvm import te\n",
    "from tvm.contrib.utils import tempdir\n",
    "\n",
    "import vta\n",
    "import vta.testing\n",
    "from vta.testing import simulator\n",
    "\n",
    "np.random.seed(0xDEADB)"
   ]
  },
  {
   "cell_type": "code",
   "execution_count": 16,
   "metadata": {},
   "outputs": [
    {
     "name": "stderr",
     "output_type": "stream",
     "text": [
      "2023-09-25 11:06:04.521 INFO load_module /tmp/tmp6wck92fv/load_act.o\n"
     ]
    },
    {
     "name": "stdout",
     "output_type": "stream",
     "text": [
      "Save load execution statistics:\n",
      "\tinp_load_nbytes :                0\n",
      "\twgt_load_nbytes :                0\n",
      "\tacc_load_nbytes :             2304\n",
      "\tuop_load_nbytes :                4\n",
      "\tout_store_nbytes:              576\n",
      "\tgemm_counter    :                0\n",
      "\talu_counter     :               36\n"
     ]
    }
   ],
   "source": [
    "def _run(env, remote):\n",
    "    n = 6\n",
    "    x = te.placeholder((n, n, env.BATCH, env.BLOCK_OUT), name=\"x\", dtype=env.acc_dtype)\n",
    "    x_buf = te.compute((n, n, env.BATCH, env.BLOCK_OUT), lambda *i: x(*i), \"x_buf\")\n",
    "    # 插入不会被优化掉的 no-op\n",
    "    y_buf = te.compute((n, n, env.BATCH, env.BLOCK_OUT), lambda *i: x_buf(*i) >> 0, \"y_buf\")\n",
    "    y = te.compute(\n",
    "        (n, n, env.BATCH, env.BLOCK_OUT), lambda *i: y_buf(*i).astype(env.inp_dtype), \"y\"\n",
    "    )\n",
    "    # schedule\n",
    "    s = te.create_schedule(y.op)\n",
    "    s[x_buf].set_scope(env.acc_scope)\n",
    "    s[x_buf].pragma(x_buf.op.axis[0], env.dma_copy)\n",
    "    s[y_buf].set_scope(env.acc_scope)\n",
    "    s[y_buf].pragma(y_buf.op.axis[0], env.alu)\n",
    "    s[y].pragma(y.op.axis[0], env.dma_copy)\n",
    "\n",
    "    # 构建库\n",
    "    with vta.build_config():\n",
    "        m = vta.build(s, [x, y], tvm.target.Target(\"ext_dev\", host=env.target_host))\n",
    "\n",
    "    temp = tempdir()\n",
    "    m.save(temp.relpath(\"load_act.o\"))\n",
    "    remote.upload(temp.relpath(\"load_act.o\"))\n",
    "    f = remote.load_module(\"load_act.o\")\n",
    "    # 验证\n",
    "    dev = remote.ext_dev(0)\n",
    "    x_np = np.random.randint(1, 10, size=(n, n, env.BATCH, env.BLOCK_OUT)).astype(x.dtype)\n",
    "    y_np = x_np.astype(y.dtype)\n",
    "    x_nd = tvm.nd.array(x_np, dev)\n",
    "    y_nd = tvm.nd.empty(y_np.shape, device=dev, dtype=y_np.dtype)\n",
    "\n",
    "    assert env.TARGET in [\"sim\", \"tsim\"]\n",
    "    simulator.clear_stats()\n",
    "\n",
    "    f(x_nd, y_nd)\n",
    "\n",
    "    np.testing.assert_equal(y_np, y_nd.numpy())\n",
    "\n",
    "    sim_stats = simulator.stats()\n",
    "    print(\"Save load execution statistics:\")\n",
    "    for k, v in sim_stats.items():\n",
    "        print(\"\\t{:<16}: {:>16}\".format(k, v))\n",
    "\n",
    "vta.testing.run(_run)"
   ]
  },
  {
   "cell_type": "code",
   "execution_count": 19,
   "metadata": {},
   "outputs": [
    {
     "data": {
      "text/plain": [
       "(576, 2304)"
      ]
     },
     "execution_count": 19,
     "metadata": {},
     "output_type": "execute_result"
    }
   ],
   "source": [
    "out_store_nbytes = np.prod([n, n, env.BATCH, env.BLOCK_OUT])\n",
    "out_store_nbytes, out_store_nbytes*4"
   ]
  },
  {
   "cell_type": "code",
   "execution_count": null,
   "metadata": {},
   "outputs": [],
   "source": []
  }
 ],
 "metadata": {
  "kernelspec": {
   "display_name": "tvmz",
   "language": "python",
   "name": "python3"
  },
  "language_info": {
   "codemirror_mode": {
    "name": "ipython",
    "version": 3
   },
   "file_extension": ".py",
   "mimetype": "text/x-python",
   "name": "python",
   "nbconvert_exporter": "python",
   "pygments_lexer": "ipython3",
   "version": "3.10.12"
  },
  "orig_nbformat": 4
 },
 "nbformat": 4,
 "nbformat_minor": 2
}
