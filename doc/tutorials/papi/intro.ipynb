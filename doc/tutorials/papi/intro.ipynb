{
 "cells": [
  {
   "cell_type": "markdown",
   "metadata": {},
   "source": [
    "# PAPI 简介"
   ]
  },
  {
   "cell_type": "markdown",
   "metadata": {},
   "source": [
    "安装 PAPI: [Downloading-and-Installing-PAPI](https://github.com/icl-utk-edu/papi/wiki/Downloading-and-Installing-PAPI)\n",
    "\n",
    "要在 TVM 构建中包含 PAPI，需要在 config.cmake 中设置如下：\n",
    "```\n",
    "set(USE_PAPI ON)\n",
    "```\n",
    "\n",
    "如果 PAPI 被安装在非标准的地方，你可以像这样指定它的位置：\n",
    "```\n",
    "set(USE_PAPI path/to/papi.pc)\n",
    "```\n",
    "\n",
    "使用之前，还要配置环境：\n",
    "\n",
    "```\n",
    "export PAPI_DIR=<you location where PAPI is installed>\n",
    "export PATH=${PAPI_DIR}/bin:$PATH\n",
    "export LD_LIBRARY_PATH=${PAPI_DIR}/lib:$LD_LIBRARY_PATH\n",
    "```"
   ]
  },
  {
   "cell_type": "code",
   "execution_count": null,
   "metadata": {},
   "outputs": [],
   "source": []
  },
  {
   "cell_type": "code",
   "execution_count": 1,
   "metadata": {},
   "outputs": [],
   "source": [
    "import set_env"
   ]
  },
  {
   "cell_type": "code",
   "execution_count": 4,
   "metadata": {},
   "outputs": [
    {
     "ename": "AttributeError",
     "evalue": "module 'tvm.runtime.profiling' has no attribute 'PAPIMetricCollector'",
     "output_type": "error",
     "traceback": [
      "\u001b[0;31m---------------------------------------------------------------------------\u001b[0m",
      "\u001b[0;31mAttributeError\u001b[0m                            Traceback (most recent call last)",
      "Cell \u001b[0;32mIn[4], line 18\u001b[0m\n\u001b[1;32m     12\u001b[0m vm \u001b[38;5;241m=\u001b[39m profiler_vm\u001b[38;5;241m.\u001b[39mVirtualMachineProfiler(exe, dev)\n\u001b[1;32m     14\u001b[0m data \u001b[38;5;241m=\u001b[39m tvm\u001b[38;5;241m.\u001b[39mnd\u001b[38;5;241m.\u001b[39marray(np\u001b[38;5;241m.\u001b[39mrandom\u001b[38;5;241m.\u001b[39mrand(\u001b[38;5;241m1\u001b[39m, \u001b[38;5;241m1\u001b[39m, \u001b[38;5;241m28\u001b[39m, \u001b[38;5;241m28\u001b[39m)\u001b[38;5;241m.\u001b[39mastype(\u001b[38;5;124m\"\u001b[39m\u001b[38;5;124mfloat32\u001b[39m\u001b[38;5;124m\"\u001b[39m), device\u001b[38;5;241m=\u001b[39mdev)\n\u001b[1;32m     15\u001b[0m report \u001b[38;5;241m=\u001b[39m vm\u001b[38;5;241m.\u001b[39mprofile(\n\u001b[1;32m     16\u001b[0m     data,\n\u001b[1;32m     17\u001b[0m     func_name\u001b[38;5;241m=\u001b[39m\u001b[38;5;124m\"\u001b[39m\u001b[38;5;124mmain\u001b[39m\u001b[38;5;124m\"\u001b[39m,\n\u001b[0;32m---> 18\u001b[0m     collectors\u001b[38;5;241m=\u001b[39m[\u001b[43mtvm\u001b[49m\u001b[38;5;241;43m.\u001b[39;49m\u001b[43mruntime\u001b[49m\u001b[38;5;241;43m.\u001b[39;49m\u001b[43mprofiling\u001b[49m\u001b[38;5;241;43m.\u001b[39;49m\u001b[43mPAPIMetricCollector\u001b[49m()],\n\u001b[1;32m     19\u001b[0m )\n\u001b[1;32m     20\u001b[0m \u001b[38;5;28mprint\u001b[39m(report)\n",
      "\u001b[0;31mAttributeError\u001b[0m: module 'tvm.runtime.profiling' has no attribute 'PAPIMetricCollector'"
     ]
    }
   ],
   "source": [
    "import tvm\n",
    "from tvm import relay\n",
    "from tvm.relay.testing import mlp\n",
    "from tvm.runtime import profiler_vm\n",
    "import numpy as np\n",
    "\n",
    "target = \"llvm\"\n",
    "dev = tvm.cpu()\n",
    "mod, params = mlp.get_workload(1)\n",
    "\n",
    "exe = relay.vm.compile(mod, target, params=params)\n",
    "vm = profiler_vm.VirtualMachineProfiler(exe, dev)\n",
    "\n",
    "data = tvm.nd.array(np.random.rand(1, 1, 28, 28).astype(\"float32\"), device=dev)\n",
    "report = vm.profile(\n",
    "    data,\n",
    "    func_name=\"main\",\n",
    "    collectors=[tvm.runtime.profiling.PAPIMetricCollector()],\n",
    ")\n",
    "print(report)"
   ]
  },
  {
   "cell_type": "code",
   "execution_count": 3,
   "metadata": {},
   "outputs": [],
   "source": [
    "import tvm.runtime.profiling"
   ]
  },
  {
   "cell_type": "code",
   "execution_count": null,
   "metadata": {},
   "outputs": [],
   "source": []
  }
 ],
 "metadata": {
  "kernelspec": {
   "display_name": "py311",
   "language": "python",
   "name": "python3"
  },
  "language_info": {
   "codemirror_mode": {
    "name": "ipython",
    "version": 3
   },
   "file_extension": ".py",
   "mimetype": "text/x-python",
   "name": "python",
   "nbconvert_exporter": "python",
   "pygments_lexer": "ipython3",
   "version": "3.11.7"
  }
 },
 "nbformat": 4,
 "nbformat_minor": 2
}
