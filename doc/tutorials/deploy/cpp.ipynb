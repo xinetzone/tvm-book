{
 "cells": [
  {
   "cell_type": "markdown",
   "metadata": {},
   "source": [
    "# C++ 部署\n",
    "\n",
    "C++ 部署分为两种方式：\n",
    "\n",
    "1. 方式 A：直接利用 TVM 源码库构建的文件夹 `build/`；\n",
    "2. 方式 B：自定义 TVM 运行时打包脚本。\n",
    "\n",
    "## 方式 A\n",
    "\n",
    "为了便捷，在 TVM 源码库的 apps 下载创建目录 `deploy_cpp`。\n",
    "\n",
    "目录组织如下：\n",
    "\n",
    "![C++ 部署方式 A](images/deploy_cpp.png)"
   ]
  },
  {
   "cell_type": "markdown",
   "metadata": {},
   "source": [
    "```{note}\n",
    "- `python.ipynb` 用于编写输出动态库到 `lib/`。\n",
    "- `src/` 用于编写 C++ 用例。\n",
    "- `include/` 存储一些头文件。\n",
    "- `outputs/` 存储一些结果文件，比如 C++ 编译结果。\n",
    "- `run.sh` 定义需要处理的任务。\n",
    "- `Makefile` 提供 C++ 编译。\n",
    "```"
   ]
  },
  {
   "cell_type": "markdown",
   "metadata": {},
   "source": [
    "下面提供一个简单测试样例：\n",
    "\n",
    "````{tab-set-code}\n",
    "\n",
    "```{literalinclude} ./deploy_cpp/Makefile\n",
    ":language: Makefile\n",
    "```\n",
    "\n",
    "```{literalinclude} ./deploy_cpp/run.sh\n",
    ":language: bash\n",
    "```\n",
    "\n",
    "```{literalinclude} ./deploy_cpp/src/test_alloc_array.cc\n",
    ":language: c++\n",
    "```\n",
    "````\n",
    "\n",
    "## 方式 B\n",
    "\n",
    "同样提供简单测试样例（对方式 A 修改如下）：\n",
    "\n",
    "\n",
    "````{tab-set-code}\n",
    "\n",
    "```{literalinclude} ./deploy_cpp_pack/Makefile\n",
    ":language: Makefile\n",
    "```\n",
    "\n",
    "```{literalinclude} ./deploy_cpp_pack/src/libtvm_runtime_pack.cc\n",
    ":language: c++\n",
    "```\n",
    "````"
   ]
  },
  {
   "cell_type": "markdown",
   "metadata": {},
   "source": [
    "## Relay\n",
    "\n",
    "也可以加载 Python 端导出的动态库："
   ]
  },
  {
   "cell_type": "markdown",
   "metadata": {},
   "source": [
    "```c++\n",
    "/*!\n",
    " * \\brief 加载并运行 TVM module.s 的示例代码\n",
    " * \\file deploy_graph.cc\n",
    " */\n",
    "#include <dlpack/dlpack.h>\n",
    "#include <tvm/runtime/module.h>\n",
    "#include <tvm/runtime/packed_func.h>\n",
    "#include <tvm/runtime/registry.h>\n",
    "\n",
    "tvm::runtime::NDArray graph_executor_output(std::string fname, DLDevice dev) {\n",
    "  LOG(INFO) << \"运行 graph executor\";\n",
    "  \n",
    "  // 在库中加载\n",
    "  tvm::runtime::Module mod_factory = tvm::runtime::Module::LoadFromFile(fname);\n",
    "  // 创建 graph executor 模块\n",
    "  tvm::runtime::Module gmod = mod_factory.GetFunction(\"default\")(dev);\n",
    "  tvm::runtime::PackedFunc set_input = gmod.GetFunction(\"set_input\");\n",
    "  tvm::runtime::PackedFunc get_output = gmod.GetFunction(\"get_output\");\n",
    "  tvm::runtime::PackedFunc run = gmod.GetFunction(\"run\");\n",
    "\n",
    "  // 使用 C++ API\n",
    "  tvm::runtime::NDArray x = tvm::runtime::NDArray::Empty({2, 2}, DLDataType{kDLFloat, 32, 1}, dev);\n",
    "\n",
    "  for (int i = 0; i < 2; ++i) {\n",
    "    for (int j = 0; j < 2; ++j) {\n",
    "      static_cast<float*>(x->data)[i * 2 + j] = i * 2 + j;\n",
    "    }\n",
    "  }\n",
    "\n",
    "  // 设置正确的 input\n",
    "  set_input(\"x\", x);\n",
    "  \n",
    "  // 运行代码\n",
    "  run();\n",
    "  // 获取 output\n",
    "  return get_output(0);\n",
    "}\n",
    "\n",
    "int main() \n",
    "{\n",
    "  DLDevice dev{kDLCPU, 0};\n",
    "  tvm::runtime::NDArray y = graph_executor_output(\"lib/test_relay_add.so\", dev);\n",
    "  for (int i = 0; i < 2; ++i) {\n",
    "    for (int j = 0; j < 2; ++j) {\n",
    "      ICHECK_EQ(static_cast<float*>(y->data)[i * 2 + j], i * 2 + j + 1);\n",
    "    }\n",
    "  }\n",
    "  return 0;\n",
    "}\n",
    "```"
   ]
  }
 ],
 "metadata": {
  "kernelspec": {
   "display_name": "C++14",
   "language": "C++14",
   "name": "xcpp14"
  },
  "language_info": {
   "codemirror_mode": "text/x-c++src",
   "file_extension": ".cpp",
   "mimetype": "text/x-c++src",
   "name": "c++",
   "version": "14"
  },
  "orig_nbformat": 4,
  "vscode": {
   "interpreter": {
    "hash": "e579259ee6098e2b9319de590d145b4b096774fe457bdf04260e3ba5c171e887"
   }
  }
 },
 "nbformat": 4,
 "nbformat_minor": 2
}
