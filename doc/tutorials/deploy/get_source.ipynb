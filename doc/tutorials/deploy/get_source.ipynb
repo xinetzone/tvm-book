{
 "cells": [
  {
   "cell_type": "markdown",
   "metadata": {},
   "source": [
    "# 获取目标源码"
   ]
  },
  {
   "cell_type": "code",
   "execution_count": 2,
   "metadata": {},
   "outputs": [],
   "source": [
    "import numpy as np\n",
    "import tvm\n",
    "from tvm import relay"
   ]
  },
  {
   "cell_type": "code",
   "execution_count": 3,
   "metadata": {},
   "outputs": [
    {
     "data": {
      "text/html": [
       "<div class=\"highlight\" style=\"background: \"><pre style=\"line-height: 125%;\"><span></span><span style=\"color: #008000; font-weight: bold\">def</span> <span style=\"color: #AA22FF\">@main</span>(<span style=\"color: #AA22FF; font-weight: bold\">%</span>x: Tensor[(<span style=\"color: #008000\">1</span>), float32], <span style=\"color: #AA22FF; font-weight: bold\">%</span>y: Tensor[(<span style=\"color: #008000\">1</span>), float32]) {\n",
       "  add(<span style=\"color: #AA22FF; font-weight: bold\">%</span>x, <span style=\"color: #AA22FF; font-weight: bold\">%</span>y)\n",
       "}\n",
       "</pre></div>\n"
      ],
      "text/plain": [
       "<IPython.core.display.HTML object>"
      ]
     },
     "metadata": {},
     "output_type": "display_data"
    }
   ],
   "source": [
    "x = relay.var(\"x\", shape=(1,), dtype=\"float32\")\n",
    "y = relay.var(\"y\", shape=(1,), dtype=\"float32\")\n",
    "params = {\"y\": np.ones((1,), dtype=\"float32\")}\n",
    "mod = tvm.IRModule.from_expr(relay.Function([x, y], x + y))\n",
    "mod.show()"
   ]
  },
  {
   "attachments": {},
   "cell_type": "markdown",
   "metadata": {},
   "source": [
    "获取 C 源码："
   ]
  },
  {
   "cell_type": "code",
   "execution_count": 4,
   "metadata": {},
   "outputs": [
    {
     "name": "stdout",
     "output_type": "stream",
     "text": [
      "// tvm target: c -keys=cpu \n",
      "#define TVM_EXPORTS\n",
      "#include \"tvm/runtime/c_runtime_api.h\"\n",
      "#include \"tvm/runtime/c_backend_api.h\"\n",
      "#include <math.h>\n",
      "#include <stdbool.h>\n",
      "#ifdef __cplusplus\n",
      "extern \"C\"\n",
      "#endif\n",
      "TVM_DLL int32_t tvmgen_default_fused_add(void* args, int32_t* arg_type_ids, int32_t num_args, void* out_ret_value, int32_t* out_ret_tcode, void* resource_handle) {\n",
      "  int32_t p0_code = arg_type_ids[0];\n",
      "  int32_t p1_code = arg_type_ids[1];\n",
      "  int32_t T_add_code = arg_type_ids[2];\n",
      "  void* p0 = (((TVMValue*)args)[0].v_handle);\n",
      "  void* p1 = (((TVMValue*)args)[1].v_handle);\n",
      "  void* T_add = (((TVMValue*)args)[2].v_handle);\n",
      "  void* p0_1 = (((DLTensor*)p0)[0].data);\n",
      "  void* tvmgen_default_fused_add_p0_shape = (((DLTensor*)p0)[0].shape);\n",
      "  void* tvmgen_default_fused_add_p0_strides = (((DLTensor*)p0)[0].strides);\n",
      "  int32_t dev_id = (((DLTensor*)p0)[0].device.device_id);\n",
      "  void* p1_1 = (((DLTensor*)p1)[0].data);\n",
      "  void* tvmgen_default_fused_add_p1_shape = (((DLTensor*)p1)[0].shape);\n",
      "  void* tvmgen_default_fused_add_p1_strides = (((DLTensor*)p1)[0].strides);\n",
      "  void* T_add_1 = (((DLTensor*)T_add)[0].data);\n",
      "  void* tvmgen_default_fused_add_T_add_shape = (((DLTensor*)T_add)[0].shape);\n",
      "  void* tvmgen_default_fused_add_T_add_strides = (((DLTensor*)T_add)[0].strides);\n",
      "  if (!(tvmgen_default_fused_add_p0_strides == NULL)) {\n",
      "  }\n",
      "  if (!(tvmgen_default_fused_add_p1_strides == NULL)) {\n",
      "  }\n",
      "  if (!(tvmgen_default_fused_add_T_add_strides == NULL)) {\n",
      "  }\n",
      "  ((float*)T_add_1)[0] = (((float*)p0_1)[0] + ((float*)p1_1)[0]);\n",
      "  return 0;\n",
      "}\n",
      "\n",
      "// CodegenC: NOTE: Auto-generated entry function\n",
      "#ifdef __cplusplus\n",
      "extern \"C\"\n",
      "#endif\n",
      "TVM_DLL int32_t __tvm_main__(void* args, int* arg_type_ids, int num_args, void* out_ret_value, int* out_ret_tcode, void* resource_handle) {\n",
      "  return tvmgen_default_fused_add(args, arg_type_ids, num_args, out_ret_value, out_ret_tcode, resource_handle);\n",
      "}\n",
      "\n"
     ]
    }
   ],
   "source": [
    "compiled_module = relay.build(mod, \"c\", params=params)\n",
    "print(compiled_module.lib.get_source())"
   ]
  },
  {
   "cell_type": "code",
   "execution_count": null,
   "metadata": {},
   "outputs": [],
   "source": []
  }
 ],
 "metadata": {
  "kernelspec": {
   "display_name": "ai",
   "language": "python",
   "name": "python3"
  },
  "language_info": {
   "codemirror_mode": {
    "name": "ipython",
    "version": 3
   },
   "file_extension": ".py",
   "mimetype": "text/x-python",
   "name": "python",
   "nbconvert_exporter": "python",
   "pygments_lexer": "ipython3",
   "version": "3.10.12"
  },
  "orig_nbformat": 4,
  "vscode": {
   "interpreter": {
    "hash": "d0d307675f12182d62ca143bf4e5db321e57c24ab1edf40ce60a9751b29adda0"
   }
  }
 },
 "nbformat": 4,
 "nbformat_minor": 2
}
