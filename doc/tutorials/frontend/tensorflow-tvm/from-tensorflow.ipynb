{
  "cells": [
    {
      "attachments": {},
      "cell_type": "markdown",
      "metadata": {},
      "source": [
        "# Tensorflow1 前端\n",
        "\n",
        "参考: [TVM Tensorflow 前端](https://xinetzone.github.io/tvm/docs/arch/frontend/tensorflow.html)\n",
        "\n",
        "下面以 [mobilenet_v2 float_v2_1.4_224](https://storage.googleapis.com/mobilenet_v2/checkpoints/mobilenet_v2_1.4_224.tgz) 为例，展示 Tensorflow 前端。\n",
        "\n",
        "先运行简单的测试："
      ]
    },
    {
      "cell_type": "code",
      "execution_count": null,
      "metadata": {},
      "outputs": [],
      "source": [
        "import numpy as np\n",
        "import tensorflow as tf\n",
        "try:\n",
        "    tf1 = tf.compat.v1\n",
        "except (ImportError, AttributeError):\n",
        "    tf1 = tf\n",
        "import set_env # 加载 TVM\n",
        "import tvm.relay.testing.tf as tf_testing\n",
        "import tvm\n",
        "from tvm import relay\n",
        "from tvm.contrib import graph_executor"
      ]
    },
    {
      "cell_type": "code",
      "execution_count": null,
      "metadata": {},
      "outputs": [],
      "source": [
        "shape = 1, 224, 224, 3\n",
        "data = np.random.uniform(size=shape).astype(\"float32\")\n",
        "output_name = \"MobilenetV2/Predictions/Reshape_1\"\n",
        "input_name = \"input\"\n",
        "input_dict = {f\"{input_name}:0\": data}\n",
        "with tf.Graph().as_default():\n",
        "    graph_def = tf_testing.get_workload(\n",
        "        \"https://storage.googleapis.com/mobilenet_v2/checkpoints/mobilenet_v2_1.4_224.tgz\",\n",
        "        \"mobilenet_v2_1.4_224_frozen.pb\",\n",
        "    )\n",
        "    # 调用实用程序将图定义导入默认 graph\n",
        "    graph_def = tf_testing.ProcessGraphDefParam(graph_def)\n",
        "    with tf1.Session() as sess:\n",
        "        # 添加 shapes 到 graph\n",
        "        graph_def = tf_testing.AddShapesToGraphDef(sess, output_name)\n",
        "        # 获取 TF 结果\n",
        "        out_tensor = sess.graph.get_tensor_by_name(f\"{output_name}:0\")\n",
        "        tf_output = sess.run(out_tensor, input_dict)\n",
        "        # TVM 编译\n",
        "        mod, params = relay.frontend.from_tensorflow(\n",
        "            graph_def,\n",
        "            shape={\n",
        "                input_name: shape\n",
        "            }\n",
        "        )"
      ]
    },
    {
      "cell_type": "code",
      "execution_count": 3,
      "metadata": {},
      "outputs": [],
      "source": [
        "desired_layouts = {\n",
        "    # 'image.resize2d': ['NCHW'],\n",
        "    'nn.conv2d': ['NCHW', 'default'],\n",
        "    'nn.max_pool2d': ['NCHW', 'default'],\n",
        "    'nn.avg_pool2d': ['NCHW', 'default'],\n",
        "}\n",
        "\n",
        "# 将布局转换为 NCHW\n",
        "# RemoveUnusedFunctions 用于清理图。\n",
        "seq = tvm.transform.Sequential([relay.transform.RemoveUnusedFunctions(),\n",
        "                                relay.transform.ConvertLayout(desired_layouts)])\n",
        "with tvm.transform.PassContext(opt_level=3):\n",
        "    mod = seq(mod)"
      ]
    },
    {
      "cell_type": "code",
      "execution_count": 4,
      "metadata": {},
      "outputs": [
        {
          "name": "stderr",
          "output_type": "stream",
          "text": [
            "One or more operators have not been tuned. Please tune your model for better performance. Use DEBUG logging level to see more details.\n"
          ]
        }
      ],
      "source": [
        "target = tvm.target.Target(\"llvm\", host=\"llvm\")\n",
        "dev = tvm.cpu(0)\n",
        "with relay.build_config(opt_level=3):\n",
        "     lib = relay.build(mod, target, params=params)\n",
        "m = graph_executor.GraphModule(lib[\"default\"](dev))\n",
        "m.set_input(**{input_name: data})\n",
        "m.run()\n",
        "tvm_output = [m.get_output(kk).numpy() for kk in range(m.get_num_outputs())]\n",
        "np.testing.assert_allclose(\n",
        "    np.squeeze(tvm_output[0]), np.squeeze(tf_output[0]), rtol=1e-5, atol=1e-5\n",
        ")"
      ]
    },
    {
      "cell_type": "code",
      "execution_count": null,
      "metadata": {},
      "outputs": [],
      "source": []
    }
  ],
  "metadata": {
    "kernelspec": {
      "display_name": "Python 3",
      "language": "python",
      "name": "python3"
    },
    "language_info": {
      "codemirror_mode": {
        "name": "ipython",
        "version": 3
      },
      "file_extension": ".py",
      "mimetype": "text/x-python",
      "name": "python",
      "nbconvert_exporter": "python",
      "pygments_lexer": "ipython3",
      "version": "3.10.13"
    }
  },
  "nbformat": 4,
  "nbformat_minor": 0
}
