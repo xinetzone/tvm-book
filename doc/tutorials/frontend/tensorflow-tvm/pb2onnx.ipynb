{
 "cells": [
  {
   "attachments": {},
   "cell_type": "markdown",
   "metadata": {},
   "source": [
    "# Tensorflow(pb) 转 ONNX\n",
    "\n",
    "参考: [TVM Tensorflow 前端](https://xinetzone.github.io/tvm/docs/arch/frontend/tensorflow.html)\n",
    "\n",
    "下面以 [mobilenet_v2 float_v2_1.4_224](https://storage.googleapis.com/mobilenet_v2/checkpoints/mobilenet_v2_1.4_224.tgz) 为例，展示 Tensorflow pb 模型转换为 ONNX 模型的过程:"
   ]
  },
  {
   "cell_type": "code",
   "execution_count": 1,
   "metadata": {},
   "outputs": [
    {
     "name": "stderr",
     "output_type": "stream",
     "text": [
      "2024-01-08 20:09:39.954850: I tensorflow/core/platform/cpu_feature_guard.cc:193] This TensorFlow binary is optimized with oneAPI Deep Neural Network Library (oneDNN) to use the following CPU instructions in performance-critical operations:  AVX2 FMA\n",
      "To enable them in other operations, rebuild TensorFlow with the appropriate compiler flags.\n",
      "2024-01-08 20:09:40.104429: W tensorflow/stream_executor/platform/default/dso_loader.cc:64] Could not load dynamic library 'libcudart.so.11.0'; dlerror: libcudart.so.11.0: cannot open shared object file: No such file or directory\n",
      "2024-01-08 20:09:40.104461: I tensorflow/stream_executor/cuda/cudart_stub.cc:29] Ignore above cudart dlerror if you do not have a GPU set up on your machine.\n",
      "2024-01-08 20:09:40.139128: E tensorflow/stream_executor/cuda/cuda_blas.cc:2981] Unable to register cuBLAS factory: Attempting to register factory for plugin cuBLAS when one has already been registered\n",
      "2024-01-08 20:09:40.732640: W tensorflow/stream_executor/platform/default/dso_loader.cc:64] Could not load dynamic library 'libnvinfer.so.7'; dlerror: libnvinfer.so.7: cannot open shared object file: No such file or directory\n",
      "2024-01-08 20:09:40.732741: W tensorflow/stream_executor/platform/default/dso_loader.cc:64] Could not load dynamic library 'libnvinfer_plugin.so.7'; dlerror: libnvinfer_plugin.so.7: cannot open shared object file: No such file or directory\n",
      "2024-01-08 20:09:40.732753: W tensorflow/compiler/tf2tensorrt/utils/py_utils.cc:38] TF-TRT Warning: Cannot dlopen some TensorRT libraries. If you would like to use Nvidia GPU with TensorRT, please make sure the missing libraries mentioned above are installed properly.\n"
     ]
    }
   ],
   "source": [
    "import numpy as np\n",
    "import tensorflow as tf\n",
    "from tensorflow.core.framework.graph_pb2 import GraphDef"
   ]
  },
  {
   "cell_type": "code",
   "execution_count": 2,
   "metadata": {},
   "outputs": [],
   "source": [
    "import set_env # 加载 TVM\n",
    "import tvm.relay.testing.tf as tf_testing\n",
    "class MobilenetV2(tf.keras.Model):\n",
    "    def __init__(self, *args, **kwargs):\n",
    "        super().__init__(*args, **kwargs)\n",
    "        path_model = tf_testing.get_workload_official(\n",
    "            \"https://storage.googleapis.com/mobilenet_v2/checkpoints/mobilenet_v2_1.4_224.tgz\",\n",
    "            \"mobilenet_v2_1.4_224_frozen.pb\"\n",
    "        )\n",
    "        self.graph_def = self._read_graph_def(path_model)\n",
    "        self.output_names = ['output']\n",
    "    \n",
    "    def _read_graph_def(self, frozen_path):\n",
    "        with open(frozen_path, 'rb') as f:\n",
    "            graph_def = GraphDef()\n",
    "            graph_def.ParseFromString(f.read())\n",
    "        return graph_def\n",
    "    \n",
    "    @tf.function(input_signature=[tf.TensorSpec([1, 3, 224, 224], \n",
    "                                                 tf.float32, name=\"input\")])\n",
    "    def call(self, x):\n",
    "        x = tf.convert_to_tensor(x, tf.float32) # 确保输入是 tensor\n",
    "        x = tf.transpose(x, perm=(0, 2, 3, 1)) # NCHW -> NHWC\n",
    "        x = tf.graph_util.import_graph_def(\n",
    "            self.graph_def, input_map={'input:0': x}, \n",
    "            return_elements=['MobilenetV2/Predictions/Reshape_1:0']\n",
    "            # return_elements=[\"MobilenetV2/Logits/AvgPool:0\"]\n",
    "            # return_elements=[\"MobilenetV2/Logits/Conv2d_1c_1x1/BiasAdd:0\"]\n",
    "        )[0]\n",
    "        return x"
   ]
  },
  {
   "cell_type": "code",
   "execution_count": 3,
   "metadata": {},
   "outputs": [
    {
     "name": "stderr",
     "output_type": "stream",
     "text": [
      "2024-01-08 20:09:50.868403: W tensorflow/stream_executor/platform/default/dso_loader.cc:64] Could not load dynamic library 'libcudart.so.11.0'; dlerror: libcudart.so.11.0: cannot open shared object file: No such file or directory\n",
      "2024-01-08 20:09:50.868555: W tensorflow/stream_executor/platform/default/dso_loader.cc:64] Could not load dynamic library 'libcublas.so.11'; dlerror: libcublas.so.11: cannot open shared object file: No such file or directory\n",
      "2024-01-08 20:09:50.868644: W tensorflow/stream_executor/platform/default/dso_loader.cc:64] Could not load dynamic library 'libcublasLt.so.11'; dlerror: libcublasLt.so.11: cannot open shared object file: No such file or directory\n",
      "2024-01-08 20:09:50.911288: W tensorflow/stream_executor/platform/default/dso_loader.cc:64] Could not load dynamic library 'libcusparse.so.11'; dlerror: libcusparse.so.11: cannot open shared object file: No such file or directory\n",
      "2024-01-08 20:09:50.911367: W tensorflow/core/common_runtime/gpu/gpu_device.cc:1934] Cannot dlopen some GPU libraries. Please make sure the missing libraries mentioned above are installed properly if you would like to use GPU. Follow the guide at https://www.tensorflow.org/install/gpu for how to download and setup the required libraries for your platform.\n",
      "Skipping registering GPU devices...\n",
      "2024-01-08 20:09:50.912367: I tensorflow/core/platform/cpu_feature_guard.cc:193] This TensorFlow binary is optimized with oneAPI Deep Neural Network Library (oneDNN) to use the following CPU instructions in performance-critical operations:  AVX2 FMA\n",
      "To enable them in other operations, rebuild TensorFlow with the appropriate compiler flags.\n",
      "2024-01-08 20:09:53.929641: I tensorflow/core/grappler/devices.cc:66] Number of eligible GPUs (core count >= 8, compute capability >= 0.0): 2\n",
      "2024-01-08 20:09:53.929931: I tensorflow/core/grappler/clusters/single_machine.cc:358] Starting new session\n",
      "2024-01-08 20:09:54.247997: W tensorflow/core/common_runtime/gpu/gpu_device.cc:1934] Cannot dlopen some GPU libraries. Please make sure the missing libraries mentioned above are installed properly if you would like to use GPU. Follow the guide at https://www.tensorflow.org/install/gpu for how to download and setup the required libraries for your platform.\n",
      "Skipping registering GPU devices...\n",
      "2024-01-08 20:09:55.192422: I tensorflow/core/grappler/devices.cc:66] Number of eligible GPUs (core count >= 8, compute capability >= 0.0): 2\n",
      "2024-01-08 20:09:55.192620: I tensorflow/core/grappler/clusters/single_machine.cc:358] Starting new session\n",
      "2024-01-08 20:09:55.193352: W tensorflow/core/common_runtime/gpu/gpu_device.cc:1934] Cannot dlopen some GPU libraries. Please make sure the missing libraries mentioned above are installed properly if you would like to use GPU. Follow the guide at https://www.tensorflow.org/install/gpu for how to download and setup the required libraries for your platform.\n",
      "Skipping registering GPU devices...\n"
     ]
    }
   ],
   "source": [
    "import tf2onnx\n",
    "import onnx\n",
    "\n",
    "input_signature = [tf.TensorSpec([1, 3, 224, 224], tf.float32, name=\"data\")]\n",
    "model = MobilenetV2()\n",
    "onnx_model, _ = tf2onnx.convert.from_keras(model, input_signature)\n",
    "onnx.save(onnx_model, \".temp/mobilenet_v2_tf.onnx\")"
   ]
  },
  {
   "cell_type": "markdown",
   "metadata": {},
   "source": [
    "测试一致性:"
   ]
  },
  {
   "cell_type": "code",
   "execution_count": 4,
   "metadata": {},
   "outputs": [],
   "source": [
    "from PIL import Image\n",
    "image_size = 224\n",
    "path = 'images/Giant_Panda_in_Beijing_Zoo_1.jpg' # 将要预测的图片路径\n",
    "\n",
    "with Image.open(path) as im:\n",
    "    if im.mode != \"RGB\":\n",
    "        im.convert(\"RGB\")\n",
    "    im = im.resize((224, 224))\n",
    "    image = np.asarray(im)\n",
    "image = image/128 -1\n",
    "images = np.expand_dims(image, 0)\n",
    "images = images.transpose((0, 3, 1, 2))"
   ]
  },
  {
   "cell_type": "code",
   "execution_count": 5,
   "metadata": {},
   "outputs": [
    {
     "name": "stdout",
     "output_type": "stream",
     "text": [
      "Model: \"mobilenet_v2_1\"\n",
      "_________________________________________________________________\n",
      " Layer (type)                Output Shape              Param #   \n",
      "=================================================================\n",
      "=================================================================\n",
      "Total params: 0\n",
      "Trainable params: 0\n",
      "Non-trainable params: 0\n",
      "_________________________________________________________________\n"
     ]
    }
   ],
   "source": [
    "model = MobilenetV2()\n",
    "tf_output = model(images)\n",
    "model.summary()"
   ]
  },
  {
   "cell_type": "code",
   "execution_count": 6,
   "metadata": {},
   "outputs": [
    {
     "name": "stderr",
     "output_type": "stream",
     "text": [
      "One or more operators have not been tuned. Please tune your model for better performance. Use DEBUG logging level to see more details.\n"
     ]
    }
   ],
   "source": [
    "import set_env\n",
    "import tvm\n",
    "from tvm import relay\n",
    "from tvm.relay.frontend import from_onnx\n",
    "\n",
    "shape_dict = {\"data\": [1, 3, 224, 224]}\n",
    "mod, params = from_onnx(\n",
    "    onnx_model,\n",
    "    shape_dict,\n",
    "    freeze_params=True\n",
    ")\n",
    "with tvm.transform.PassContext(opt_level=3):\n",
    "    lib = relay.build(mod, \"llvm\", params=params)\n",
    "inputs_dict = {\"data\": images}\n",
    "mlib_proxy = tvm.contrib.graph_executor.GraphModule(lib[\"default\"](tvm.cpu()))\n",
    "mlib_proxy.run(**inputs_dict)\n",
    "np.testing.assert_allclose(\n",
    "    tf_output.numpy(), \n",
    "    mlib_proxy.get_output(0).numpy(),\n",
    "    rtol=1e-07, atol=1e-5\n",
    ")"
   ]
  },
  {
   "cell_type": "code",
   "execution_count": null,
   "metadata": {},
   "outputs": [],
   "source": []
  }
 ],
 "metadata": {
  "kernelspec": {
   "display_name": "tvmz",
   "language": "python",
   "name": "python3"
  },
  "language_info": {
   "codemirror_mode": {
    "name": "ipython",
    "version": 3
   },
   "file_extension": ".py",
   "mimetype": "text/x-python",
   "name": "python",
   "nbconvert_exporter": "python",
   "pygments_lexer": "ipython3",
   "version": "3.10.13"
  },
  "orig_nbformat": 4
 },
 "nbformat": 4,
 "nbformat_minor": 2
}
