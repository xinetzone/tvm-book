{
 "cells": [
  {
   "cell_type": "markdown",
   "metadata": {},
   "source": [
    "# 回调 Relay 全局变量\n",
    "\n",
    "{class}`tvm.relay.expr.Call` 可以在模块中回调全局变量。\n",
    "\n",
    "比如，定义 `add` 算子："
   ]
  },
  {
   "cell_type": "code",
   "execution_count": 1,
   "metadata": {},
   "outputs": [],
   "source": [
    "from tvm import relay\n",
    "from tvm.ir import IRModule\n",
    "\n",
    "data = relay.var(\"data\")\n",
    "bias = relay.var(\"bias\")\n",
    "add_op = data + bias"
   ]
  },
  {
   "cell_type": "markdown",
   "metadata": {},
   "source": [
    "初始化 Relay 模块："
   ]
  },
  {
   "cell_type": "code",
   "execution_count": 2,
   "metadata": {},
   "outputs": [],
   "source": [
    "mod = IRModule()"
   ]
  },
  {
   "cell_type": "markdown",
   "metadata": {},
   "source": [
    "创建并绑定 `add` 全局函数到 `mod`："
   ]
  },
  {
   "cell_type": "code",
   "execution_count": 3,
   "metadata": {},
   "outputs": [],
   "source": [
    "mod['AddFunc'] = relay.Function([data, bias], add_op)"
   ]
  },
  {
   "cell_type": "markdown",
   "metadata": {},
   "source": [
    "下面定义三个变量用于定义“连加”运算："
   ]
  },
  {
   "cell_type": "code",
   "execution_count": 4,
   "metadata": {},
   "outputs": [],
   "source": [
    "a, b, c = [relay.var(name) for name in \"abc\"]"
   ]
  },
  {
   "cell_type": "markdown",
   "metadata": {},
   "source": [
    "获取全局变量 `add`："
   ]
  },
  {
   "cell_type": "code",
   "execution_count": 5,
   "metadata": {},
   "outputs": [],
   "source": [
    "add_gvar = mod.get_global_var('AddFunc')"
   ]
  },
  {
   "cell_type": "markdown",
   "metadata": {},
   "source": [
    "定义“连加”运算："
   ]
  },
  {
   "cell_type": "code",
   "execution_count": 6,
   "metadata": {},
   "outputs": [],
   "source": [
    "add_01 = relay.Call(add_gvar, [a, b])\n",
    "add_012 = relay.Call(add_gvar, [c, add_01])"
   ]
  },
  {
   "cell_type": "markdown",
   "metadata": {},
   "source": [
    "绑定到 `mod`："
   ]
  },
  {
   "cell_type": "code",
   "execution_count": 7,
   "metadata": {},
   "outputs": [
    {
     "name": "stdout",
     "output_type": "stream",
     "text": [
      "def @AddFunc(%data, %bias) {\n",
      "  add(%data, %bias)\n",
      "}\n",
      "\n",
      "def @main(%a, %b, %c) {\n",
      "  %0 = @AddFunc(%a, %b);\n",
      "  @AddFunc(%c, %0)\n",
      "}\n",
      "\n"
     ]
    }
   ],
   "source": [
    "mod['main'] = relay.Function([a, b, c], add_012)\n",
    "print(mod)"
   ]
  }
 ],
 "metadata": {
  "kernelspec": {
   "display_name": "Python 3.8.13 ('py38': conda)",
   "language": "python",
   "name": "python3"
  },
  "language_info": {
   "codemirror_mode": {
    "name": "ipython",
    "version": 3
   },
   "file_extension": ".py",
   "mimetype": "text/x-python",
   "name": "python",
   "nbconvert_exporter": "python",
   "pygments_lexer": "ipython3",
   "version": "3.8.13"
  },
  "orig_nbformat": 4,
  "vscode": {
   "interpreter": {
    "hash": "28558e8daad512806f5c536a1a04c119185f99f65b79002708a12162d02a79c7"
   }
  }
 },
 "nbformat": 4,
 "nbformat_minor": 2
}
