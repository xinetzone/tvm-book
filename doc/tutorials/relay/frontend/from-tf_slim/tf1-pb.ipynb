{
 "cells": [
  {
   "attachments": {},
   "cell_type": "markdown",
   "metadata": {},
   "source": [
    "# TensorFlow1 pb 推理\n",
    "\n",
    "参考：[migrating_checkpoints](https://www.tensorflow.org/guide/migrate/migrating_checkpoints)\n",
    "\n",
    "下面以模型 [resnet_v2_50](http://download.tensorflow.org/models/resnet_v2_50_2017_04_14.tar.gz) 为例展示。\n",
    "\n",
    "需要克隆项目 [models](https://github.com/tensorflow/models)，然后执行如下操作。"
   ]
  },
  {
   "cell_type": "code",
   "execution_count": 1,
   "metadata": {},
   "outputs": [
    {
     "name": "stderr",
     "output_type": "stream",
     "text": [
      "2023-09-08 09:09:00.972799: I tensorflow/tsl/cuda/cudart_stub.cc:28] Could not find cuda drivers on your machine, GPU will not be used.\n",
      "2023-09-08 09:09:02.729455: I tensorflow/tsl/cuda/cudart_stub.cc:28] Could not find cuda drivers on your machine, GPU will not be used.\n",
      "2023-09-08 09:09:02.732683: I tensorflow/core/platform/cpu_feature_guard.cc:182] This TensorFlow binary is optimized to use available CPU instructions in performance-critical operations.\n",
      "To enable the following instructions: AVX2 FMA, in other operations, rebuild TensorFlow with the appropriate compiler flags.\n",
      "2023-09-08 09:09:21.592275: W tensorflow/compiler/tf2tensorrt/utils/py_utils.cc:38] TF-TRT Warning: Could not find TensorRT\n"
     ]
    }
   ],
   "source": [
    "import tensorflow as tf\n",
    "try:\n",
    "    tf1 = tf.compat.v1\n",
    "except (ImportError, AttributeError):\n",
    "    tf1 = tf"
   ]
  },
  {
   "cell_type": "markdown",
   "metadata": {},
   "source": [
    "切换到 `models/research/slim` 目录下："
   ]
  },
  {
   "cell_type": "code",
   "execution_count": 2,
   "metadata": {},
   "outputs": [
    {
     "name": "stdout",
     "output_type": "stream",
     "text": [
      "/media/pc/data/lxw/ai/tasks/models/research/slim\n"
     ]
    }
   ],
   "source": [
    "%cd /media/pc/data/lxw/ai/tasks/models/research/slim"
   ]
  },
  {
   "attachments": {},
   "cell_type": "markdown",
   "metadata": {},
   "source": [
    "图像预处理："
   ]
  },
  {
   "cell_type": "code",
   "execution_count": 3,
   "metadata": {},
   "outputs": [],
   "source": [
    "import tensorflow as tf\n",
    "\n",
    "\n",
    "def preprocessing(\n",
    "    image,\n",
    "    use_grayscale=False,\n",
    "    central_fraction=0.875,\n",
    "    central_crop=True,\n",
    "    height=299,\n",
    "    width=299,\n",
    "    mean: tuple[float, ...] = (0.485, 0.456, 0.406),\n",
    "    std: tuple[float, ...] = (1, 1, 1)\n",
    "):\n",
    "    # image = tf.constant(image)\n",
    "    if image.dtype != tf.float32:\n",
    "        image = tf.image.convert_image_dtype(image, dtype=tf.float32)\n",
    "    if use_grayscale:\n",
    "        image = tf.image.rgb_to_grayscale(image)\n",
    "    if central_crop and central_fraction:\n",
    "        image = tf.image.central_crop(image, central_fraction=central_fraction)\n",
    "    if height and width:\n",
    "        image = tf.expand_dims(image, 0)\n",
    "        image = tf.image.resize(image, [height, width],\n",
    "                                method='bilinear',\n",
    "                                preserve_aspect_ratio=False,\n",
    "                                antialias=False)\n",
    "        image = tf.squeeze(image, [0])\n",
    "    image = tf.subtract(image, mean)\n",
    "    image = tf.divide(image, std)\n",
    "    return image"
   ]
  },
  {
   "attachments": {},
   "cell_type": "markdown",
   "metadata": {},
   "source": [
    "将 ckpt 模型转换为 pb 模型："
   ]
  },
  {
   "cell_type": "code",
   "execution_count": 4,
   "metadata": {},
   "outputs": [],
   "source": [
    "import tensorflow as tf\n",
    "try:\n",
    "    tf1 = tf.compat.v1\n",
    "except (ImportError, AttributeError):\n",
    "    tf1 = tf\n",
    "from PIL import Image\n",
    "import numpy as np\n",
    "from nets import resnet_v2\n",
    "import tf_slim as slim\n",
    "import shutil\n",
    "from tvm_book.data.classification import ImageFolderDataset\n",
    "\n",
    "def remove_dir(path):\n",
    "    try:\n",
    "        shutil.rmtree(path)\n",
    "    except:\n",
    "        ...\n",
    "tf.get_logger().setLevel('ERROR')\n",
    "\n",
    "# 预处理\n",
    "root = \"/media/pc/data/lxw/home/data/datasets/ILSVRC/val\"\n",
    "valset = ImageFolderDataset(root)\n",
    "image, label_id = valset[1001]"
   ]
  },
  {
   "cell_type": "code",
   "execution_count": null,
   "metadata": {},
   "outputs": [],
   "source": [
    "model_dir = 'temp/resnet_v2_50'\n",
    "remove_dir(model_dir)\n",
    "checkpoints_path = \"/media/pc/data/board/arria10/lxw/tests/npu_user_demos/models/resnet50_v2_tf/weight/resnet_v2_50.ckpt\"\n",
    "with tf1.Graph().as_default() as graph:\n",
    "    processed_image = preprocessing(\n",
    "        image,\n",
    "        use_grayscale=False,\n",
    "        central_fraction=0.875,\n",
    "        central_crop=True,\n",
    "        height=299,\n",
    "        width=299,\n",
    "        mean=(0.485, 0.456, 0.406),\n",
    "        std=(1, 1, 1)\n",
    "    )\n",
    "    processed_images  = tf.expand_dims(processed_image, 0)\n",
    "    # 创建模型时，使用默认的参数范围（arg scope）来配置批归一化（batch norm）参数。\n",
    "    with slim.arg_scope(resnet_v2.resnet_arg_scope()):\n",
    "        logits, end_points = resnet_v2.resnet_v2_50(processed_images, num_classes=1001,\n",
    "                                                    global_pool=True,\n",
    "                                                    is_training=False)\n",
    "    probabilities = tf.nn.softmax(logits)\n",
    "    variables = slim.get_model_variables('resnet_v2_50')\n",
    "    init_fn = slim.assign_from_checkpoint_fn(checkpoints_path, variables)\n",
    "    with tf1.Session() as sess:\n",
    "        init_fn(sess)\n",
    "        # np_probabilities, np_processed_images = sess.run([probabilities, processed_images])\n",
    "        np_probabilities = sess.run(probabilities)\n",
    "        tf1.saved_model.simple_save(\n",
    "            sess, model_dir,\n",
    "            inputs={'inputs': processed_images},\n",
    "            outputs={'output': probabilities}\n",
    "        )"
   ]
  },
  {
   "attachments": {},
   "cell_type": "markdown",
   "metadata": {},
   "source": [
    "加载保存的模型："
   ]
  },
  {
   "cell_type": "code",
   "execution_count": null,
   "metadata": {},
   "outputs": [],
   "source": [
    "import tensorflow as tf\n",
    "try:\n",
    "    tf1 = tf.compat.v1\n",
    "except (ImportError, AttributeError):\n",
    "    tf1 = tf\n",
    "from PIL import Image\n",
    "import numpy as np\n",
    "tf.get_logger().setLevel('ERROR')\n",
    "\n",
    "# 预处理\n",
    "root = \"/media/pc/data/lxw/home/data/datasets/ILSVRC/val\"\n",
    "valset = ImageFolderDataset(root)\n",
    "image, label_id = valset[1001]\n",
    "model_dir = 'temp/resnet_v2_50'\n",
    "# remove_dir(model_dir)\n",
    "processed_image = preprocessing(\n",
    "    image,\n",
    "    use_grayscale=False,\n",
    "    central_fraction=0.875,\n",
    "    central_crop=True,\n",
    "    height=299,\n",
    "    width=299,\n",
    "    mean=(0.485, 0.456, 0.406),\n",
    "    std=(1, 1, 1)\n",
    ")\n",
    "np_processed_images = np.expand_dims(processed_image.numpy(), axis=0)\n",
    "# 加载模型\n",
    "loaded_model = tf.saved_model.load(model_dir)\n",
    "loaded_model = loaded_model.signatures[tf.saved_model.DEFAULT_SERVING_SIGNATURE_DEF_KEY]\n",
    "out = loaded_model(tf.constant(np_processed_images))['output'].numpy()"
   ]
  },
  {
   "cell_type": "markdown",
   "metadata": {},
   "source": [
    "打印标签信息："
   ]
  },
  {
   "cell_type": "code",
   "execution_count": null,
   "metadata": {},
   "outputs": [
    {
     "name": "stdout",
     "output_type": "stream",
     "text": [
      "真实标签：water ouzel, dipper\n",
      "20: water ouzel, dipper                   \t0.9207783937454224\n",
      "143: oystercatcher, oyster catcher         \t0.014078204520046711\n",
      "141: redshank, Tringa totanus              \t0.0032907347194850445\n",
      "146: albatross, mollymawk                  \t0.0032017454504966736\n",
      "139: ruddy turnstone, Arenaria interpres   \t0.002742304001003504\n"
     ]
    }
   ],
   "source": [
    "from tvm_book.data.imagenet.classification import ImageNet1kAttr\n",
    "\n",
    "imagenet1k_attr = ImageNet1kAttr()\n",
    "sorted_inds = np_probabilities[0].argsort()[::-1]\n",
    "topk = 5\n",
    "print(f\"真实标签：{imagenet1k_attr.classes_long[label_id]}\")\n",
    "for sorted_ind in sorted_inds[:topk]:\n",
    "    label = imagenet1k_attr.classes_long[sorted_ind-1]\n",
    "    print(f\"{sorted_ind-1}: {label.ljust(38)}\\t{np_probabilities[0, sorted_ind]}\")"
   ]
  },
  {
   "cell_type": "code",
   "execution_count": null,
   "metadata": {},
   "outputs": [],
   "source": []
  }
 ],
 "metadata": {
  "kernelspec": {
   "display_name": "tvmz",
   "language": "python",
   "name": "python3"
  },
  "language_info": {
   "codemirror_mode": {
    "name": "ipython",
    "version": 3
   },
   "file_extension": ".py",
   "mimetype": "text/x-python",
   "name": "python",
   "nbconvert_exporter": "python",
   "pygments_lexer": "ipython3",
   "version": "3.10.12"
  },
  "orig_nbformat": 4
 },
 "nbformat": 4,
 "nbformat_minor": 2
}
