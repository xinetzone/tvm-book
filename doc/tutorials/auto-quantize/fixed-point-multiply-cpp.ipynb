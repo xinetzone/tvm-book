{
 "cells": [
  {
   "cell_type": "markdown",
   "metadata": {},
   "source": [
    "# relay 定点乘法(C++)"
   ]
  },
  {
   "cell_type": "code",
   "execution_count": 2,
   "metadata": {},
   "outputs": [],
   "source": [
    "#include <math.h>\n",
    "#include <utility>\n",
    "#include <vector>"
   ]
  },
  {
   "cell_type": "code",
   "execution_count": 3,
   "metadata": {},
   "outputs": [
    {
     "name": "stdout",
     "output_type": "stream",
     "text": [
      "std::frexp(x, &n) => 16.4 = 0.5125 * (1 << 5)"
     ]
    }
   ],
   "source": [
    "#include <math.h>\n",
    "#include <iostream>\n",
    "\n",
    "double x, y;\n",
    "int n;\n",
    "x = 16.4;\n",
    "y = frexp(x, &n);\n",
    "std::cout << \"std::frexp(x, &n) => \" \n",
    "         << x << \" = \" << y << \" * \"\n",
    "         << \"(1 << \" << n << \")\";"
   ]
  },
  {
   "cell_type": "code",
   "execution_count": 4,
   "metadata": {},
   "outputs": [
    {
     "data": {
      "text/plain": [
       "16.400000"
      ]
     },
     "execution_count": 4,
     "metadata": {},
     "output_type": "execute_result"
    }
   ],
   "source": [
    " 0.5125 * (1 << 5)"
   ]
  },
  {
   "cell_type": "code",
   "execution_count": null,
   "metadata": {},
   "outputs": [],
   "source": [
    "std::pair<int32_t, int32_t> GetFixedPointMultiplierShift(double double_multiplier) {\n",
    "  int32_t significand, exponent;\n",
    "  if (double_multiplier == 0.) {\n",
    "    significand = 0;\n",
    "    exponent = 0;\n",
    "    return std::make_pair(significand, exponent);\n",
    "  }\n",
    "\n",
    "  // Get the significand and exponent.\n",
    "  double significand_d = std::frexp(double_multiplier, &exponent);\n",
    "\n",
    "  // Convert the double significand to int significand, i.e., convert into a\n",
    "  // integer where the decimal point is between bit 31 and 30. This is done by\n",
    "  // multiplying the double value with 2^31 and then casting to int.\n",
    "  significand_d = std::round(significand_d * (1ll << 31));\n",
    "  auto significand_int64 = static_cast<int64_t>(significand_d);\n",
    "  ICHECK_LE(significand_int64, (1ll << 31));\n",
    "  if (significand_int64 == (1ll << 31)) {\n",
    "    significand_int64 /= 2;\n",
    "    ++exponent;\n",
    "  }\n",
    "  ICHECK_LE(significand_int64, std::numeric_limits<int32_t>::max());\n",
    "  significand = static_cast<int32_t>(significand_int64);\n",
    "  return std::make_pair(significand, exponent);\n",
    "}"
   ]
  }
 ],
 "metadata": {
  "kernelspec": {
   "display_name": "C++14",
   "language": "C++14",
   "name": "xcpp14"
  },
  "language_info": {
   "codemirror_mode": "text/x-c++src",
   "file_extension": ".cpp",
   "mimetype": "text/x-c++src",
   "name": "c++",
   "version": "14"
  }
 },
 "nbformat": 4,
 "nbformat_minor": 2
}
