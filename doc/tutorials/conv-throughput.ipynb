{
 "cells": [
  {
   "cell_type": "markdown",
   "metadata": {},
   "source": [
    "# 计算卷积带宽"
   ]
  },
  {
   "cell_type": "markdown",
   "metadata": {},
   "source": [
    "假设输入数据 shape: $(b, c_i, h_i, w_i)$，卷积核为 $(c_o, c_i, h_k, w_k)$，padding 为 $(p_0, p_1, p_2, p_3)$，strides 为：$(s_h, s_w)$，则有："
   ]
  },
  {
   "cell_type": "markdown",
   "metadata": {},
   "source": [
    "$$\n",
    "\\begin{align}\n",
    "h_o = \\lfloor \\dfrac{h_i + 2 p_0 - k_h}{s_h} + 1 \\rfloor \\\\\n",
    "w_o = \\lfloor \\dfrac{w_i + 2 p_1 - k_h}{s_h} + 1 \\rfloor\n",
    "\\end{align}\n",
    "$$"
   ]
  },
  {
   "cell_type": "markdown",
   "metadata": {},
   "source": [
    "```{note}\n",
    "需要考虑一种约束：\n",
    "\n",
    "$$\n",
    "\\begin{cases}\n",
    "h_i + 2 p_0 \\ge k_h \\\\\n",
    "w_i + 2 p_1 \\ge w_h \\\\\n",
    "s_h \\ge 1 \\\\\n",
    "s_w \\ge 1\n",
    "\\end{cases}\n",
    "$$\n",
    "\n",
    "这个条件可能会被忽略。\n",
    "```"
   ]
  },
  {
   "cell_type": "markdown",
   "metadata": {},
   "source": [
    "假设水平方向滑动 $t_w$ 次，竖直方向滑动 $t_h$ 次，则输入数据总计搬运：$\\text{inp\\_load\\_nbytes} = (t_ht_w) (k_h k_w)$，重叠区域面积为：$\\text{overlap} = (k_h k_w - s_h s_w)((t_h-1) (t_w-1))$，有效输入：$((t_h - 1)*k_h + s_h)((t_w - 1)*k_w + s_w)$。"
   ]
  },
  {
   "cell_type": "code",
   "execution_count": 7,
   "metadata": {},
   "outputs": [],
   "source": [
    "from dataclasses import dataclass\n",
    "\n",
    "@dataclass\n",
    "class Conv2dThroughput:\n",
    "    k_h: int # 卷积核高度\n",
    "    k_w: int # 卷积核宽度\n",
    "    s_h: int # 卷积核纵向移动步长\n",
    "    s_w: int # 卷积核横向移动步长\n",
    "    t_h: int # 卷积核纵向移动次数\n",
    "    t_w: int # 卷积核横向移动次数\n",
    "\n",
    "    @property\n",
    "    def inp_load_nbytes(self):\n",
    "        \"\"\"输入数据搬运带宽\n",
    "\n",
    "        每次搬运数据面积为 self.k_h * self.k_w，\n",
    "        总计搬运 self.t_h * self.t_w 次\n",
    "        \"\"\"\n",
    "        return self.t_h * self.t_w * self.k_h * self.k_w\n",
    "\n",
    "    @property\n",
    "    def inp_overlap_nbytes(self):\n",
    "        \"\"\"输入数据搬运重叠带宽\n",
    "\n",
    "        考虑横纵两个方向，同时搬运一次 overlap 面积是固定的，\n",
    "        即 self.k_h * self.k_w - self.s_h * self.s_w，\n",
    "        总计搬运次数为 (self.t_h - 1) * (self.t_w - 1)\n",
    "        \"\"\"\n",
    "        overlap_block = self.k_h * self.k_w - self.s_h * self.s_w\n",
    "        time_block = (self.t_h - 1) * (self.t_w - 1)\n",
    "        return overlap_block * time_block\n",
    "\n",
    "    @property\n",
    "    def inp_valid_nbytes(self):\n",
    "        \"\"\"数据数据实际占用面积\n",
    "        \"\"\"\n",
    "        block_h = (self.t_h - 1) * self.k_h + s_h\n",
    "        block_w = (self.t_w - 1) * self.k_w + s_w\n",
    "        return block_h * block_w"
   ]
  },
  {
   "cell_type": "code",
   "execution_count": 102,
   "metadata": {},
   "outputs": [
    {
     "data": {
      "application/vnd.plotly.v1+json": {
       "config": {
        "plotlyServerURL": "https://plot.ly"
       },
       "data": [],
       "layout": {
        "height": 600,
        "shapes": [
         {
          "fillcolor": "red",
          "line": {
           "color": "red",
           "width": 7
          },
          "opacity": 0.75,
          "type": "rect",
          "x0": 2,
          "x1": 5,
          "xref": "x",
          "y0": 0,
          "y1": 3,
          "yref": "y"
         },
         {
          "fillcolor": "green",
          "line": {
           "color": "green",
           "width": 7
          },
          "opacity": 0.5,
          "type": "rect",
          "x0": 4,
          "x1": 7,
          "xref": "x",
          "y0": 0,
          "y1": 3,
          "yref": "y"
         },
         {
          "fillcolor": "red",
          "line": {
           "color": "red",
           "width": 7
          },
          "opacity": 0.5,
          "type": "rect",
          "x0": 0,
          "x1": 3,
          "xref": "x",
          "y0": 2,
          "y1": 5,
          "yref": "y"
         },
         {
          "fillcolor": "green",
          "line": {
           "color": "green",
           "width": 7
          },
          "opacity": 0.5,
          "type": "rect",
          "x0": 0,
          "x1": 3,
          "xref": "x",
          "y0": 4,
          "y1": 7,
          "yref": "y"
         },
         {
          "fillcolor": "red",
          "line": {
           "color": "red",
           "width": 7
          },
          "opacity": 0.5,
          "type": "rect",
          "x0": 2,
          "x1": 5,
          "xref": "x",
          "y0": 2,
          "y1": 5,
          "yref": "y"
         },
         {
          "fillcolor": "green",
          "line": {
           "color": "green",
           "width": 7
          },
          "opacity": 0.5,
          "type": "rect",
          "x0": 2,
          "x1": 5,
          "xref": "x",
          "y0": 4,
          "y1": 7,
          "yref": "y"
         },
         {
          "fillcolor": "red",
          "line": {
           "color": "red",
           "width": 7
          },
          "opacity": 0.5,
          "type": "rect",
          "x0": 4,
          "x1": 7,
          "xref": "x",
          "y0": 2,
          "y1": 5,
          "yref": "y"
         },
         {
          "fillcolor": "green",
          "line": {
           "color": "green",
           "width": 7
          },
          "opacity": 0.5,
          "type": "rect",
          "x0": 4,
          "x1": 7,
          "xref": "x",
          "y0": 4,
          "y1": 7,
          "yref": "y"
         },
         {
          "fillcolor": "wheat",
          "line": {
           "color": "gray",
           "width": 7
          },
          "opacity": 0.2,
          "type": "rect",
          "x0": 0,
          "x1": 7,
          "xref": "x",
          "y0": 0,
          "y1": 7,
          "yref": "y"
         },
         {
          "fillcolor": "LightSkyBlue",
          "line": {
           "color": "LightSkyBlue",
           "width": 7
          },
          "opacity": 0.5,
          "type": "rect",
          "x0": 0,
          "x1": 3,
          "xref": "x",
          "y0": 0,
          "y1": 3,
          "yref": "y"
         },
         {
          "line": {
           "color": "purple",
           "width": 5
          },
          "type": "line",
          "x0": 3,
          "x1": 3,
          "xref": "x",
          "y0": 0,
          "y1": 8,
          "yref": "y"
         },
         {
          "line": {
           "color": "purple",
           "width": 5
          },
          "type": "line",
          "x0": 6,
          "x1": 6,
          "xref": "x",
          "y0": 0,
          "y1": 8,
          "yref": "y"
         },
         {
          "line": {
           "color": "purple",
           "width": 5
          },
          "type": "line",
          "x0": 0,
          "x1": 8,
          "xref": "x",
          "y0": 3,
          "y1": 3,
          "yref": "y"
         },
         {
          "line": {
           "color": "purple",
           "width": 5
          },
          "type": "line",
          "x0": 0,
          "x1": 8,
          "xref": "x",
          "y0": 6,
          "y1": 6,
          "yref": "y"
         },
         {
          "fillcolor": "wheat",
          "line": {
           "color": "yellow",
           "width": 5
          },
          "opacity": 0.75,
          "type": "rect",
          "x0": 2,
          "x1": 3,
          "xref": "x",
          "y0": 0,
          "y1": 7,
          "yref": "y"
         },
         {
          "fillcolor": "wheat",
          "line": {
           "color": "yellow",
           "width": 5
          },
          "opacity": 0.75,
          "type": "rect",
          "x0": 5,
          "x1": 6,
          "xref": "x",
          "y0": 0,
          "y1": 7,
          "yref": "y"
         },
         {
          "fillcolor": "wheat",
          "line": {
           "color": "yellow",
           "width": 5
          },
          "opacity": 0.75,
          "type": "rect",
          "x0": 0,
          "x1": 7,
          "xref": "x",
          "y0": 2,
          "y1": 3,
          "yref": "y"
         },
         {
          "fillcolor": "wheat",
          "line": {
           "color": "yellow",
           "width": 5
          },
          "opacity": 0.7,
          "type": "rect",
          "x0": 0,
          "x1": 7,
          "xref": "x",
          "y0": 2,
          "y1": 3,
          "yref": "y"
         },
         {
          "fillcolor": "wheat",
          "line": {
           "color": "yellow",
           "width": 5
          },
          "opacity": 0.7,
          "type": "rect",
          "x0": 0,
          "x1": 7,
          "xref": "x",
          "y0": 5,
          "y1": 6,
          "yref": "y"
         }
        ],
        "template": {
         "data": {
          "bar": [
           {
            "error_x": {
             "color": "#2a3f5f"
            },
            "error_y": {
             "color": "#2a3f5f"
            },
            "marker": {
             "line": {
              "color": "#E5ECF6",
              "width": 0.5
             },
             "pattern": {
              "fillmode": "overlay",
              "size": 10,
              "solidity": 0.2
             }
            },
            "type": "bar"
           }
          ],
          "barpolar": [
           {
            "marker": {
             "line": {
              "color": "#E5ECF6",
              "width": 0.5
             },
             "pattern": {
              "fillmode": "overlay",
              "size": 10,
              "solidity": 0.2
             }
            },
            "type": "barpolar"
           }
          ],
          "carpet": [
           {
            "aaxis": {
             "endlinecolor": "#2a3f5f",
             "gridcolor": "white",
             "linecolor": "white",
             "minorgridcolor": "white",
             "startlinecolor": "#2a3f5f"
            },
            "baxis": {
             "endlinecolor": "#2a3f5f",
             "gridcolor": "white",
             "linecolor": "white",
             "minorgridcolor": "white",
             "startlinecolor": "#2a3f5f"
            },
            "type": "carpet"
           }
          ],
          "choropleth": [
           {
            "colorbar": {
             "outlinewidth": 0,
             "ticks": ""
            },
            "type": "choropleth"
           }
          ],
          "contour": [
           {
            "colorbar": {
             "outlinewidth": 0,
             "ticks": ""
            },
            "colorscale": [
             [
              0,
              "#0d0887"
             ],
             [
              0.1111111111111111,
              "#46039f"
             ],
             [
              0.2222222222222222,
              "#7201a8"
             ],
             [
              0.3333333333333333,
              "#9c179e"
             ],
             [
              0.4444444444444444,
              "#bd3786"
             ],
             [
              0.5555555555555556,
              "#d8576b"
             ],
             [
              0.6666666666666666,
              "#ed7953"
             ],
             [
              0.7777777777777778,
              "#fb9f3a"
             ],
             [
              0.8888888888888888,
              "#fdca26"
             ],
             [
              1,
              "#f0f921"
             ]
            ],
            "type": "contour"
           }
          ],
          "contourcarpet": [
           {
            "colorbar": {
             "outlinewidth": 0,
             "ticks": ""
            },
            "type": "contourcarpet"
           }
          ],
          "heatmap": [
           {
            "colorbar": {
             "outlinewidth": 0,
             "ticks": ""
            },
            "colorscale": [
             [
              0,
              "#0d0887"
             ],
             [
              0.1111111111111111,
              "#46039f"
             ],
             [
              0.2222222222222222,
              "#7201a8"
             ],
             [
              0.3333333333333333,
              "#9c179e"
             ],
             [
              0.4444444444444444,
              "#bd3786"
             ],
             [
              0.5555555555555556,
              "#d8576b"
             ],
             [
              0.6666666666666666,
              "#ed7953"
             ],
             [
              0.7777777777777778,
              "#fb9f3a"
             ],
             [
              0.8888888888888888,
              "#fdca26"
             ],
             [
              1,
              "#f0f921"
             ]
            ],
            "type": "heatmap"
           }
          ],
          "heatmapgl": [
           {
            "colorbar": {
             "outlinewidth": 0,
             "ticks": ""
            },
            "colorscale": [
             [
              0,
              "#0d0887"
             ],
             [
              0.1111111111111111,
              "#46039f"
             ],
             [
              0.2222222222222222,
              "#7201a8"
             ],
             [
              0.3333333333333333,
              "#9c179e"
             ],
             [
              0.4444444444444444,
              "#bd3786"
             ],
             [
              0.5555555555555556,
              "#d8576b"
             ],
             [
              0.6666666666666666,
              "#ed7953"
             ],
             [
              0.7777777777777778,
              "#fb9f3a"
             ],
             [
              0.8888888888888888,
              "#fdca26"
             ],
             [
              1,
              "#f0f921"
             ]
            ],
            "type": "heatmapgl"
           }
          ],
          "histogram": [
           {
            "marker": {
             "pattern": {
              "fillmode": "overlay",
              "size": 10,
              "solidity": 0.2
             }
            },
            "type": "histogram"
           }
          ],
          "histogram2d": [
           {
            "colorbar": {
             "outlinewidth": 0,
             "ticks": ""
            },
            "colorscale": [
             [
              0,
              "#0d0887"
             ],
             [
              0.1111111111111111,
              "#46039f"
             ],
             [
              0.2222222222222222,
              "#7201a8"
             ],
             [
              0.3333333333333333,
              "#9c179e"
             ],
             [
              0.4444444444444444,
              "#bd3786"
             ],
             [
              0.5555555555555556,
              "#d8576b"
             ],
             [
              0.6666666666666666,
              "#ed7953"
             ],
             [
              0.7777777777777778,
              "#fb9f3a"
             ],
             [
              0.8888888888888888,
              "#fdca26"
             ],
             [
              1,
              "#f0f921"
             ]
            ],
            "type": "histogram2d"
           }
          ],
          "histogram2dcontour": [
           {
            "colorbar": {
             "outlinewidth": 0,
             "ticks": ""
            },
            "colorscale": [
             [
              0,
              "#0d0887"
             ],
             [
              0.1111111111111111,
              "#46039f"
             ],
             [
              0.2222222222222222,
              "#7201a8"
             ],
             [
              0.3333333333333333,
              "#9c179e"
             ],
             [
              0.4444444444444444,
              "#bd3786"
             ],
             [
              0.5555555555555556,
              "#d8576b"
             ],
             [
              0.6666666666666666,
              "#ed7953"
             ],
             [
              0.7777777777777778,
              "#fb9f3a"
             ],
             [
              0.8888888888888888,
              "#fdca26"
             ],
             [
              1,
              "#f0f921"
             ]
            ],
            "type": "histogram2dcontour"
           }
          ],
          "mesh3d": [
           {
            "colorbar": {
             "outlinewidth": 0,
             "ticks": ""
            },
            "type": "mesh3d"
           }
          ],
          "parcoords": [
           {
            "line": {
             "colorbar": {
              "outlinewidth": 0,
              "ticks": ""
             }
            },
            "type": "parcoords"
           }
          ],
          "pie": [
           {
            "automargin": true,
            "type": "pie"
           }
          ],
          "scatter": [
           {
            "fillpattern": {
             "fillmode": "overlay",
             "size": 10,
             "solidity": 0.2
            },
            "type": "scatter"
           }
          ],
          "scatter3d": [
           {
            "line": {
             "colorbar": {
              "outlinewidth": 0,
              "ticks": ""
             }
            },
            "marker": {
             "colorbar": {
              "outlinewidth": 0,
              "ticks": ""
             }
            },
            "type": "scatter3d"
           }
          ],
          "scattercarpet": [
           {
            "marker": {
             "colorbar": {
              "outlinewidth": 0,
              "ticks": ""
             }
            },
            "type": "scattercarpet"
           }
          ],
          "scattergeo": [
           {
            "marker": {
             "colorbar": {
              "outlinewidth": 0,
              "ticks": ""
             }
            },
            "type": "scattergeo"
           }
          ],
          "scattergl": [
           {
            "marker": {
             "colorbar": {
              "outlinewidth": 0,
              "ticks": ""
             }
            },
            "type": "scattergl"
           }
          ],
          "scattermapbox": [
           {
            "marker": {
             "colorbar": {
              "outlinewidth": 0,
              "ticks": ""
             }
            },
            "type": "scattermapbox"
           }
          ],
          "scatterpolar": [
           {
            "marker": {
             "colorbar": {
              "outlinewidth": 0,
              "ticks": ""
             }
            },
            "type": "scatterpolar"
           }
          ],
          "scatterpolargl": [
           {
            "marker": {
             "colorbar": {
              "outlinewidth": 0,
              "ticks": ""
             }
            },
            "type": "scatterpolargl"
           }
          ],
          "scatterternary": [
           {
            "marker": {
             "colorbar": {
              "outlinewidth": 0,
              "ticks": ""
             }
            },
            "type": "scatterternary"
           }
          ],
          "surface": [
           {
            "colorbar": {
             "outlinewidth": 0,
             "ticks": ""
            },
            "colorscale": [
             [
              0,
              "#0d0887"
             ],
             [
              0.1111111111111111,
              "#46039f"
             ],
             [
              0.2222222222222222,
              "#7201a8"
             ],
             [
              0.3333333333333333,
              "#9c179e"
             ],
             [
              0.4444444444444444,
              "#bd3786"
             ],
             [
              0.5555555555555556,
              "#d8576b"
             ],
             [
              0.6666666666666666,
              "#ed7953"
             ],
             [
              0.7777777777777778,
              "#fb9f3a"
             ],
             [
              0.8888888888888888,
              "#fdca26"
             ],
             [
              1,
              "#f0f921"
             ]
            ],
            "type": "surface"
           }
          ],
          "table": [
           {
            "cells": {
             "fill": {
              "color": "#EBF0F8"
             },
             "line": {
              "color": "white"
             }
            },
            "header": {
             "fill": {
              "color": "#C8D4E3"
             },
             "line": {
              "color": "white"
             }
            },
            "type": "table"
           }
          ]
         },
         "layout": {
          "annotationdefaults": {
           "arrowcolor": "#2a3f5f",
           "arrowhead": 0,
           "arrowwidth": 1
          },
          "autotypenumbers": "strict",
          "coloraxis": {
           "colorbar": {
            "outlinewidth": 0,
            "ticks": ""
           }
          },
          "colorscale": {
           "diverging": [
            [
             0,
             "#8e0152"
            ],
            [
             0.1,
             "#c51b7d"
            ],
            [
             0.2,
             "#de77ae"
            ],
            [
             0.3,
             "#f1b6da"
            ],
            [
             0.4,
             "#fde0ef"
            ],
            [
             0.5,
             "#f7f7f7"
            ],
            [
             0.6,
             "#e6f5d0"
            ],
            [
             0.7,
             "#b8e186"
            ],
            [
             0.8,
             "#7fbc41"
            ],
            [
             0.9,
             "#4d9221"
            ],
            [
             1,
             "#276419"
            ]
           ],
           "sequential": [
            [
             0,
             "#0d0887"
            ],
            [
             0.1111111111111111,
             "#46039f"
            ],
            [
             0.2222222222222222,
             "#7201a8"
            ],
            [
             0.3333333333333333,
             "#9c179e"
            ],
            [
             0.4444444444444444,
             "#bd3786"
            ],
            [
             0.5555555555555556,
             "#d8576b"
            ],
            [
             0.6666666666666666,
             "#ed7953"
            ],
            [
             0.7777777777777778,
             "#fb9f3a"
            ],
            [
             0.8888888888888888,
             "#fdca26"
            ],
            [
             1,
             "#f0f921"
            ]
           ],
           "sequentialminus": [
            [
             0,
             "#0d0887"
            ],
            [
             0.1111111111111111,
             "#46039f"
            ],
            [
             0.2222222222222222,
             "#7201a8"
            ],
            [
             0.3333333333333333,
             "#9c179e"
            ],
            [
             0.4444444444444444,
             "#bd3786"
            ],
            [
             0.5555555555555556,
             "#d8576b"
            ],
            [
             0.6666666666666666,
             "#ed7953"
            ],
            [
             0.7777777777777778,
             "#fb9f3a"
            ],
            [
             0.8888888888888888,
             "#fdca26"
            ],
            [
             1,
             "#f0f921"
            ]
           ]
          },
          "colorway": [
           "#636efa",
           "#EF553B",
           "#00cc96",
           "#ab63fa",
           "#FFA15A",
           "#19d3f3",
           "#FF6692",
           "#B6E880",
           "#FF97FF",
           "#FECB52"
          ],
          "font": {
           "color": "#2a3f5f"
          },
          "geo": {
           "bgcolor": "white",
           "lakecolor": "white",
           "landcolor": "#E5ECF6",
           "showlakes": true,
           "showland": true,
           "subunitcolor": "white"
          },
          "hoverlabel": {
           "align": "left"
          },
          "hovermode": "closest",
          "mapbox": {
           "style": "light"
          },
          "paper_bgcolor": "white",
          "plot_bgcolor": "#E5ECF6",
          "polar": {
           "angularaxis": {
            "gridcolor": "white",
            "linecolor": "white",
            "ticks": ""
           },
           "bgcolor": "#E5ECF6",
           "radialaxis": {
            "gridcolor": "white",
            "linecolor": "white",
            "ticks": ""
           }
          },
          "scene": {
           "xaxis": {
            "backgroundcolor": "#E5ECF6",
            "gridcolor": "white",
            "gridwidth": 2,
            "linecolor": "white",
            "showbackground": true,
            "ticks": "",
            "zerolinecolor": "white"
           },
           "yaxis": {
            "backgroundcolor": "#E5ECF6",
            "gridcolor": "white",
            "gridwidth": 2,
            "linecolor": "white",
            "showbackground": true,
            "ticks": "",
            "zerolinecolor": "white"
           },
           "zaxis": {
            "backgroundcolor": "#E5ECF6",
            "gridcolor": "white",
            "gridwidth": 2,
            "linecolor": "white",
            "showbackground": true,
            "ticks": "",
            "zerolinecolor": "white"
           }
          },
          "shapedefaults": {
           "line": {
            "color": "#2a3f5f"
           }
          },
          "ternary": {
           "aaxis": {
            "gridcolor": "white",
            "linecolor": "white",
            "ticks": ""
           },
           "baxis": {
            "gridcolor": "white",
            "linecolor": "white",
            "ticks": ""
           },
           "bgcolor": "#E5ECF6",
           "caxis": {
            "gridcolor": "white",
            "linecolor": "white",
            "ticks": ""
           }
          },
          "title": {
           "x": 0.05
          },
          "xaxis": {
           "automargin": true,
           "gridcolor": "white",
           "linecolor": "white",
           "ticks": "",
           "title": {
            "standoff": 15
           },
           "zerolinecolor": "white",
           "zerolinewidth": 2
          },
          "yaxis": {
           "automargin": true,
           "gridcolor": "white",
           "linecolor": "white",
           "ticks": "",
           "title": {
            "standoff": 15
           },
           "zerolinecolor": "white",
           "zerolinewidth": 2
          }
         }
        },
        "width": 600,
        "xaxis": {
         "range": [
          0,
          8
         ],
         "showgrid": true,
         "side": "top"
        },
        "yaxis": {
         "autorange": "reversed",
         "range": [
          8,
          0
         ],
         "showgrid": true
        }
       }
      },
      "text/html": [
       "<div>                            <div id=\"e76d46f7-b5d8-44c4-a47a-537ccddba90c\" class=\"plotly-graph-div\" style=\"height:600px; width:600px;\"></div>            <script type=\"text/javascript\">                require([\"plotly\"], function(Plotly) {                    window.PLOTLYENV=window.PLOTLYENV || {};                                    if (document.getElementById(\"e76d46f7-b5d8-44c4-a47a-537ccddba90c\")) {                    Plotly.newPlot(                        \"e76d46f7-b5d8-44c4-a47a-537ccddba90c\",                        [],                        {\"template\":{\"data\":{\"histogram2dcontour\":[{\"type\":\"histogram2dcontour\",\"colorbar\":{\"outlinewidth\":0,\"ticks\":\"\"},\"colorscale\":[[0.0,\"#0d0887\"],[0.1111111111111111,\"#46039f\"],[0.2222222222222222,\"#7201a8\"],[0.3333333333333333,\"#9c179e\"],[0.4444444444444444,\"#bd3786\"],[0.5555555555555556,\"#d8576b\"],[0.6666666666666666,\"#ed7953\"],[0.7777777777777778,\"#fb9f3a\"],[0.8888888888888888,\"#fdca26\"],[1.0,\"#f0f921\"]]}],\"choropleth\":[{\"type\":\"choropleth\",\"colorbar\":{\"outlinewidth\":0,\"ticks\":\"\"}}],\"histogram2d\":[{\"type\":\"histogram2d\",\"colorbar\":{\"outlinewidth\":0,\"ticks\":\"\"},\"colorscale\":[[0.0,\"#0d0887\"],[0.1111111111111111,\"#46039f\"],[0.2222222222222222,\"#7201a8\"],[0.3333333333333333,\"#9c179e\"],[0.4444444444444444,\"#bd3786\"],[0.5555555555555556,\"#d8576b\"],[0.6666666666666666,\"#ed7953\"],[0.7777777777777778,\"#fb9f3a\"],[0.8888888888888888,\"#fdca26\"],[1.0,\"#f0f921\"]]}],\"heatmap\":[{\"type\":\"heatmap\",\"colorbar\":{\"outlinewidth\":0,\"ticks\":\"\"},\"colorscale\":[[0.0,\"#0d0887\"],[0.1111111111111111,\"#46039f\"],[0.2222222222222222,\"#7201a8\"],[0.3333333333333333,\"#9c179e\"],[0.4444444444444444,\"#bd3786\"],[0.5555555555555556,\"#d8576b\"],[0.6666666666666666,\"#ed7953\"],[0.7777777777777778,\"#fb9f3a\"],[0.8888888888888888,\"#fdca26\"],[1.0,\"#f0f921\"]]}],\"heatmapgl\":[{\"type\":\"heatmapgl\",\"colorbar\":{\"outlinewidth\":0,\"ticks\":\"\"},\"colorscale\":[[0.0,\"#0d0887\"],[0.1111111111111111,\"#46039f\"],[0.2222222222222222,\"#7201a8\"],[0.3333333333333333,\"#9c179e\"],[0.4444444444444444,\"#bd3786\"],[0.5555555555555556,\"#d8576b\"],[0.6666666666666666,\"#ed7953\"],[0.7777777777777778,\"#fb9f3a\"],[0.8888888888888888,\"#fdca26\"],[1.0,\"#f0f921\"]]}],\"contourcarpet\":[{\"type\":\"contourcarpet\",\"colorbar\":{\"outlinewidth\":0,\"ticks\":\"\"}}],\"contour\":[{\"type\":\"contour\",\"colorbar\":{\"outlinewidth\":0,\"ticks\":\"\"},\"colorscale\":[[0.0,\"#0d0887\"],[0.1111111111111111,\"#46039f\"],[0.2222222222222222,\"#7201a8\"],[0.3333333333333333,\"#9c179e\"],[0.4444444444444444,\"#bd3786\"],[0.5555555555555556,\"#d8576b\"],[0.6666666666666666,\"#ed7953\"],[0.7777777777777778,\"#fb9f3a\"],[0.8888888888888888,\"#fdca26\"],[1.0,\"#f0f921\"]]}],\"surface\":[{\"type\":\"surface\",\"colorbar\":{\"outlinewidth\":0,\"ticks\":\"\"},\"colorscale\":[[0.0,\"#0d0887\"],[0.1111111111111111,\"#46039f\"],[0.2222222222222222,\"#7201a8\"],[0.3333333333333333,\"#9c179e\"],[0.4444444444444444,\"#bd3786\"],[0.5555555555555556,\"#d8576b\"],[0.6666666666666666,\"#ed7953\"],[0.7777777777777778,\"#fb9f3a\"],[0.8888888888888888,\"#fdca26\"],[1.0,\"#f0f921\"]]}],\"mesh3d\":[{\"type\":\"mesh3d\",\"colorbar\":{\"outlinewidth\":0,\"ticks\":\"\"}}],\"scatter\":[{\"fillpattern\":{\"fillmode\":\"overlay\",\"size\":10,\"solidity\":0.2},\"type\":\"scatter\"}],\"parcoords\":[{\"type\":\"parcoords\",\"line\":{\"colorbar\":{\"outlinewidth\":0,\"ticks\":\"\"}}}],\"scatterpolargl\":[{\"type\":\"scatterpolargl\",\"marker\":{\"colorbar\":{\"outlinewidth\":0,\"ticks\":\"\"}}}],\"bar\":[{\"error_x\":{\"color\":\"#2a3f5f\"},\"error_y\":{\"color\":\"#2a3f5f\"},\"marker\":{\"line\":{\"color\":\"#E5ECF6\",\"width\":0.5},\"pattern\":{\"fillmode\":\"overlay\",\"size\":10,\"solidity\":0.2}},\"type\":\"bar\"}],\"scattergeo\":[{\"type\":\"scattergeo\",\"marker\":{\"colorbar\":{\"outlinewidth\":0,\"ticks\":\"\"}}}],\"scatterpolar\":[{\"type\":\"scatterpolar\",\"marker\":{\"colorbar\":{\"outlinewidth\":0,\"ticks\":\"\"}}}],\"histogram\":[{\"marker\":{\"pattern\":{\"fillmode\":\"overlay\",\"size\":10,\"solidity\":0.2}},\"type\":\"histogram\"}],\"scattergl\":[{\"type\":\"scattergl\",\"marker\":{\"colorbar\":{\"outlinewidth\":0,\"ticks\":\"\"}}}],\"scatter3d\":[{\"type\":\"scatter3d\",\"line\":{\"colorbar\":{\"outlinewidth\":0,\"ticks\":\"\"}},\"marker\":{\"colorbar\":{\"outlinewidth\":0,\"ticks\":\"\"}}}],\"scattermapbox\":[{\"type\":\"scattermapbox\",\"marker\":{\"colorbar\":{\"outlinewidth\":0,\"ticks\":\"\"}}}],\"scatterternary\":[{\"type\":\"scatterternary\",\"marker\":{\"colorbar\":{\"outlinewidth\":0,\"ticks\":\"\"}}}],\"scattercarpet\":[{\"type\":\"scattercarpet\",\"marker\":{\"colorbar\":{\"outlinewidth\":0,\"ticks\":\"\"}}}],\"carpet\":[{\"aaxis\":{\"endlinecolor\":\"#2a3f5f\",\"gridcolor\":\"white\",\"linecolor\":\"white\",\"minorgridcolor\":\"white\",\"startlinecolor\":\"#2a3f5f\"},\"baxis\":{\"endlinecolor\":\"#2a3f5f\",\"gridcolor\":\"white\",\"linecolor\":\"white\",\"minorgridcolor\":\"white\",\"startlinecolor\":\"#2a3f5f\"},\"type\":\"carpet\"}],\"table\":[{\"cells\":{\"fill\":{\"color\":\"#EBF0F8\"},\"line\":{\"color\":\"white\"}},\"header\":{\"fill\":{\"color\":\"#C8D4E3\"},\"line\":{\"color\":\"white\"}},\"type\":\"table\"}],\"barpolar\":[{\"marker\":{\"line\":{\"color\":\"#E5ECF6\",\"width\":0.5},\"pattern\":{\"fillmode\":\"overlay\",\"size\":10,\"solidity\":0.2}},\"type\":\"barpolar\"}],\"pie\":[{\"automargin\":true,\"type\":\"pie\"}]},\"layout\":{\"autotypenumbers\":\"strict\",\"colorway\":[\"#636efa\",\"#EF553B\",\"#00cc96\",\"#ab63fa\",\"#FFA15A\",\"#19d3f3\",\"#FF6692\",\"#B6E880\",\"#FF97FF\",\"#FECB52\"],\"font\":{\"color\":\"#2a3f5f\"},\"hovermode\":\"closest\",\"hoverlabel\":{\"align\":\"left\"},\"paper_bgcolor\":\"white\",\"plot_bgcolor\":\"#E5ECF6\",\"polar\":{\"bgcolor\":\"#E5ECF6\",\"angularaxis\":{\"gridcolor\":\"white\",\"linecolor\":\"white\",\"ticks\":\"\"},\"radialaxis\":{\"gridcolor\":\"white\",\"linecolor\":\"white\",\"ticks\":\"\"}},\"ternary\":{\"bgcolor\":\"#E5ECF6\",\"aaxis\":{\"gridcolor\":\"white\",\"linecolor\":\"white\",\"ticks\":\"\"},\"baxis\":{\"gridcolor\":\"white\",\"linecolor\":\"white\",\"ticks\":\"\"},\"caxis\":{\"gridcolor\":\"white\",\"linecolor\":\"white\",\"ticks\":\"\"}},\"coloraxis\":{\"colorbar\":{\"outlinewidth\":0,\"ticks\":\"\"}},\"colorscale\":{\"sequential\":[[0.0,\"#0d0887\"],[0.1111111111111111,\"#46039f\"],[0.2222222222222222,\"#7201a8\"],[0.3333333333333333,\"#9c179e\"],[0.4444444444444444,\"#bd3786\"],[0.5555555555555556,\"#d8576b\"],[0.6666666666666666,\"#ed7953\"],[0.7777777777777778,\"#fb9f3a\"],[0.8888888888888888,\"#fdca26\"],[1.0,\"#f0f921\"]],\"sequentialminus\":[[0.0,\"#0d0887\"],[0.1111111111111111,\"#46039f\"],[0.2222222222222222,\"#7201a8\"],[0.3333333333333333,\"#9c179e\"],[0.4444444444444444,\"#bd3786\"],[0.5555555555555556,\"#d8576b\"],[0.6666666666666666,\"#ed7953\"],[0.7777777777777778,\"#fb9f3a\"],[0.8888888888888888,\"#fdca26\"],[1.0,\"#f0f921\"]],\"diverging\":[[0,\"#8e0152\"],[0.1,\"#c51b7d\"],[0.2,\"#de77ae\"],[0.3,\"#f1b6da\"],[0.4,\"#fde0ef\"],[0.5,\"#f7f7f7\"],[0.6,\"#e6f5d0\"],[0.7,\"#b8e186\"],[0.8,\"#7fbc41\"],[0.9,\"#4d9221\"],[1,\"#276419\"]]},\"xaxis\":{\"gridcolor\":\"white\",\"linecolor\":\"white\",\"ticks\":\"\",\"title\":{\"standoff\":15},\"zerolinecolor\":\"white\",\"automargin\":true,\"zerolinewidth\":2},\"yaxis\":{\"gridcolor\":\"white\",\"linecolor\":\"white\",\"ticks\":\"\",\"title\":{\"standoff\":15},\"zerolinecolor\":\"white\",\"automargin\":true,\"zerolinewidth\":2},\"scene\":{\"xaxis\":{\"backgroundcolor\":\"#E5ECF6\",\"gridcolor\":\"white\",\"linecolor\":\"white\",\"showbackground\":true,\"ticks\":\"\",\"zerolinecolor\":\"white\",\"gridwidth\":2},\"yaxis\":{\"backgroundcolor\":\"#E5ECF6\",\"gridcolor\":\"white\",\"linecolor\":\"white\",\"showbackground\":true,\"ticks\":\"\",\"zerolinecolor\":\"white\",\"gridwidth\":2},\"zaxis\":{\"backgroundcolor\":\"#E5ECF6\",\"gridcolor\":\"white\",\"linecolor\":\"white\",\"showbackground\":true,\"ticks\":\"\",\"zerolinecolor\":\"white\",\"gridwidth\":2}},\"shapedefaults\":{\"line\":{\"color\":\"#2a3f5f\"}},\"annotationdefaults\":{\"arrowcolor\":\"#2a3f5f\",\"arrowhead\":0,\"arrowwidth\":1},\"geo\":{\"bgcolor\":\"white\",\"landcolor\":\"#E5ECF6\",\"subunitcolor\":\"white\",\"showland\":true,\"showlakes\":true,\"lakecolor\":\"white\"},\"title\":{\"x\":0.05},\"mapbox\":{\"style\":\"light\"}}},\"xaxis\":{\"range\":[0,8],\"showgrid\":true,\"side\":\"top\"},\"yaxis\":{\"range\":[8,0],\"autorange\":\"reversed\",\"showgrid\":true},\"shapes\":[{\"fillcolor\":\"red\",\"line\":{\"color\":\"red\",\"width\":7},\"opacity\":0.75,\"type\":\"rect\",\"x0\":2,\"x1\":5,\"y0\":0,\"y1\":3,\"xref\":\"x\",\"yref\":\"y\"},{\"fillcolor\":\"green\",\"line\":{\"color\":\"green\",\"width\":7},\"opacity\":0.5,\"type\":\"rect\",\"x0\":4,\"x1\":7,\"y0\":0,\"y1\":3,\"xref\":\"x\",\"yref\":\"y\"},{\"fillcolor\":\"red\",\"line\":{\"color\":\"red\",\"width\":7},\"opacity\":0.5,\"type\":\"rect\",\"x0\":0,\"x1\":3,\"y0\":2,\"y1\":5,\"xref\":\"x\",\"yref\":\"y\"},{\"fillcolor\":\"green\",\"line\":{\"color\":\"green\",\"width\":7},\"opacity\":0.5,\"type\":\"rect\",\"x0\":0,\"x1\":3,\"y0\":4,\"y1\":7,\"xref\":\"x\",\"yref\":\"y\"},{\"fillcolor\":\"red\",\"line\":{\"color\":\"red\",\"width\":7},\"opacity\":0.5,\"type\":\"rect\",\"x0\":2,\"x1\":5,\"y0\":2,\"y1\":5,\"xref\":\"x\",\"yref\":\"y\"},{\"fillcolor\":\"green\",\"line\":{\"color\":\"green\",\"width\":7},\"opacity\":0.5,\"type\":\"rect\",\"x0\":2,\"x1\":5,\"y0\":4,\"y1\":7,\"xref\":\"x\",\"yref\":\"y\"},{\"fillcolor\":\"red\",\"line\":{\"color\":\"red\",\"width\":7},\"opacity\":0.5,\"type\":\"rect\",\"x0\":4,\"x1\":7,\"y0\":2,\"y1\":5,\"xref\":\"x\",\"yref\":\"y\"},{\"fillcolor\":\"green\",\"line\":{\"color\":\"green\",\"width\":7},\"opacity\":0.5,\"type\":\"rect\",\"x0\":4,\"x1\":7,\"y0\":4,\"y1\":7,\"xref\":\"x\",\"yref\":\"y\"},{\"fillcolor\":\"wheat\",\"line\":{\"color\":\"gray\",\"width\":7},\"opacity\":0.2,\"type\":\"rect\",\"x0\":0,\"x1\":7,\"y0\":0,\"y1\":7,\"xref\":\"x\",\"yref\":\"y\"},{\"fillcolor\":\"LightSkyBlue\",\"line\":{\"color\":\"LightSkyBlue\",\"width\":7},\"opacity\":0.5,\"type\":\"rect\",\"x0\":0,\"x1\":3,\"y0\":0,\"y1\":3,\"xref\":\"x\",\"yref\":\"y\"},{\"line\":{\"color\":\"purple\",\"width\":5},\"type\":\"line\",\"x0\":3,\"x1\":3,\"y0\":0,\"y1\":8,\"xref\":\"x\",\"yref\":\"y\"},{\"line\":{\"color\":\"purple\",\"width\":5},\"type\":\"line\",\"x0\":6,\"x1\":6,\"y0\":0,\"y1\":8,\"xref\":\"x\",\"yref\":\"y\"},{\"line\":{\"color\":\"purple\",\"width\":5},\"type\":\"line\",\"x0\":0,\"x1\":8,\"y0\":3,\"y1\":3,\"xref\":\"x\",\"yref\":\"y\"},{\"line\":{\"color\":\"purple\",\"width\":5},\"type\":\"line\",\"x0\":0,\"x1\":8,\"y0\":6,\"y1\":6,\"xref\":\"x\",\"yref\":\"y\"},{\"fillcolor\":\"wheat\",\"line\":{\"color\":\"yellow\",\"width\":5},\"opacity\":0.75,\"type\":\"rect\",\"x0\":2,\"x1\":3,\"y0\":0,\"y1\":7,\"xref\":\"x\",\"yref\":\"y\"},{\"fillcolor\":\"wheat\",\"line\":{\"color\":\"yellow\",\"width\":5},\"opacity\":0.75,\"type\":\"rect\",\"x0\":5,\"x1\":6,\"y0\":0,\"y1\":7,\"xref\":\"x\",\"yref\":\"y\"},{\"fillcolor\":\"wheat\",\"line\":{\"color\":\"yellow\",\"width\":5},\"opacity\":0.75,\"type\":\"rect\",\"x0\":0,\"x1\":7,\"y0\":2,\"y1\":3,\"xref\":\"x\",\"yref\":\"y\"},{\"fillcolor\":\"wheat\",\"line\":{\"color\":\"yellow\",\"width\":5},\"opacity\":0.7,\"type\":\"rect\",\"x0\":0,\"x1\":7,\"y0\":2,\"y1\":3,\"xref\":\"x\",\"yref\":\"y\"},{\"fillcolor\":\"wheat\",\"line\":{\"color\":\"yellow\",\"width\":5},\"opacity\":0.7,\"type\":\"rect\",\"x0\":0,\"x1\":7,\"y0\":5,\"y1\":6,\"xref\":\"x\",\"yref\":\"y\"}],\"height\":600,\"width\":600},                        {\"responsive\": true}                    ).then(function(){\n",
       "                            \n",
       "var gd = document.getElementById('e76d46f7-b5d8-44c4-a47a-537ccddba90c');\n",
       "var x = new MutationObserver(function (mutations, observer) {{\n",
       "        var display = window.getComputedStyle(gd).display;\n",
       "        if (!display || display === 'none') {{\n",
       "            console.log([gd, 'removed!']);\n",
       "            Plotly.purge(gd);\n",
       "            observer.disconnect();\n",
       "        }}\n",
       "}});\n",
       "\n",
       "// Listen for the removal of the full notebook cells\n",
       "var notebookContainer = gd.closest('#notebook-container');\n",
       "if (notebookContainer) {{\n",
       "    x.observe(notebookContainer, {childList: true});\n",
       "}}\n",
       "\n",
       "// Listen for the clearing of the current output cell\n",
       "var outputEl = gd.closest('.output');\n",
       "if (outputEl) {{\n",
       "    x.observe(outputEl, {childList: true});\n",
       "}}\n",
       "\n",
       "                        })                };                });            </script>        </div>"
      ]
     },
     "metadata": {},
     "output_type": "display_data"
    }
   ],
   "source": [
    "import plotly.graph_objects as go\n",
    "\n",
    "fig = go.Figure()\n",
    "\n",
    "# fig.add_trace(go.Scatter(\n",
    "#     x=[1.5, 4.5],\n",
    "#     y=[0.75, 0.75],\n",
    "#     text=[\"Unfilled Rectangle\", \"Filled Rectangle\"],\n",
    "#     mode=\"text\",\n",
    "# ))\n",
    "\n",
    "# 设置 axes 属性\n",
    "fig.update_xaxes(range=[0, 8], showgrid=True, side=\"top\")\n",
    "fig.update_yaxes(range=[8, 0], autorange=\"reversed\", showgrid=True)\n",
    "# Add shapes\n",
    "\n",
    "fig.add_shape(type=\"rect\",\n",
    "    x0=2, y0=0, x1=5, y1=3,\n",
    "    line=dict(color=\"red\", width=7),\n",
    "    fillcolor=\"red\",\n",
    "    opacity=0.75\n",
    ")\n",
    "fig.add_shape(type=\"rect\",\n",
    "    x0=4, y0=0, x1=7, y1=3,\n",
    "    line=dict(color=\"green\", width=7),\n",
    "    fillcolor=\"green\",\n",
    "    opacity=0.5\n",
    ")\n",
    "fig.add_shape(type=\"rect\",\n",
    "    x0=0, y0=2, x1=3, y1=5,\n",
    "    line=dict(color=\"red\", width=7),\n",
    "    fillcolor=\"red\",\n",
    "    opacity=0.5\n",
    ")\n",
    "fig.add_shape(type=\"rect\",\n",
    "    x0=0, y0=4, x1=3, y1=7,\n",
    "    line=dict(color=\"green\", width=7),\n",
    "    fillcolor=\"green\",\n",
    "    opacity=0.5\n",
    ")\n",
    "fig.add_shape(type=\"rect\",\n",
    "    x0=2, y0=2, x1=5, y1=5,\n",
    "    line=dict(color=\"red\", width=7),\n",
    "    fillcolor=\"red\",\n",
    "    opacity=0.5\n",
    ")\n",
    "fig.add_shape(type=\"rect\",\n",
    "    x0=2, y0=4, x1=5, y1=7,\n",
    "    line=dict(color=\"green\", width=7),\n",
    "    fillcolor=\"green\",\n",
    "    opacity=0.5\n",
    ")\n",
    "fig.add_shape(type=\"rect\",\n",
    "    x0=4, y0=2, x1=7, y1=5,\n",
    "    line=dict(color=\"red\", width=7),\n",
    "    fillcolor=\"red\",\n",
    "    opacity=0.5\n",
    ")\n",
    "fig.add_shape(type=\"rect\",\n",
    "    x0=4, y0=4, x1=7, y1=7,\n",
    "    line=dict(color=\"green\", width=7),\n",
    "    fillcolor=\"green\",\n",
    "    opacity=0.5\n",
    ")\n",
    "fig.add_shape(type=\"rect\",\n",
    "    x0=0, y0=0, x1=7, y1=7,\n",
    "    line=dict(color=\"gray\", width=7),\n",
    "    fillcolor=\"wheat\",\n",
    "    opacity=0.2\n",
    ")\n",
    "fig.add_shape(type=\"rect\",\n",
    "    x0=0, y0=0, x1=3, y1=3,\n",
    "    line=dict(color=\"LightSkyBlue\", width=7),\n",
    "    fillcolor=\"LightSkyBlue\",\n",
    "    opacity=0.5\n",
    ")\n",
    "fig.add_shape(type=\"line\",\n",
    "              x0=3, y0=0, x1=3, y1=8,\n",
    "              line=dict(color=\"purple\", width=5))\n",
    "fig.add_shape(type=\"line\",\n",
    "              x0=6, y0=0, x1=6, y1=8,\n",
    "              line=dict(color=\"purple\", width=5))\n",
    "fig.add_shape(type=\"line\",\n",
    "              x0=0, y0=3, x1=8, y1=3,\n",
    "              line=dict(color=\"purple\", width=5))\n",
    "fig.add_shape(type=\"line\",\n",
    "              x0=0, y0=6, x1=8, y1=6,\n",
    "              line=dict(color=\"purple\", width=5))\n",
    "fig.add_shape(type=\"rect\",\n",
    "              fillcolor=\"wheat\",\n",
    "              opacity=0.75,\n",
    "              x0=2, y0=0, x1=3, y1=7,\n",
    "              line=dict(color=\"yellow\", width=5))\n",
    "fig.add_shape(type=\"rect\",\n",
    "              fillcolor=\"wheat\",\n",
    "              opacity=0.75,\n",
    "              x0=5, y0=0, x1=6, y1=7,\n",
    "              line=dict(color=\"yellow\", width=5))\n",
    "fig.add_shape(type=\"rect\",\n",
    "              fillcolor=\"wheat\",\n",
    "              opacity=0.75,\n",
    "              x0=0, y0=2, x1=7, y1=3,\n",
    "              line=dict(color=\"yellow\", width=5))\n",
    "fig.add_shape(type=\"rect\",\n",
    "              fillcolor=\"wheat\",\n",
    "              opacity=0.7,\n",
    "              x0=0, y0=2, x1=7, y1=3,\n",
    "              line=dict(color=\"yellow\", width=5))\n",
    "fig.add_shape(type=\"rect\",\n",
    "              fillcolor=\"wheat\",\n",
    "              opacity=0.7,\n",
    "              x0=0, y0=5, x1=7, y1=6,\n",
    "              line=dict(color=\"yellow\", width=5))\n",
    "fig.update_shapes(dict(xref='x', yref='y'))\n",
    "fig.update_layout(\n",
    "    height=600, \n",
    "    width=600,\n",
    ")"
   ]
  },
  {
   "cell_type": "code",
   "execution_count": null,
   "metadata": {},
   "outputs": [],
   "source": []
  },
  {
   "cell_type": "code",
   "execution_count": null,
   "metadata": {},
   "outputs": [],
   "source": []
  }
 ],
 "metadata": {
  "kernelspec": {
   "display_name": "tvmz",
   "language": "python",
   "name": "python3"
  },
  "language_info": {
   "codemirror_mode": {
    "name": "ipython",
    "version": 3
   },
   "file_extension": ".py",
   "mimetype": "text/x-python",
   "name": "python",
   "nbconvert_exporter": "python",
   "pygments_lexer": "ipython3",
   "version": "3.10.13"
  }
 },
 "nbformat": 4,
 "nbformat_minor": 2
}
