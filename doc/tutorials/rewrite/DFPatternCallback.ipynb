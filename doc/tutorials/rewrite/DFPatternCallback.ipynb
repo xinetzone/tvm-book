{
 "cells": [
  {
   "cell_type": "markdown",
   "metadata": {},
   "source": [
    "# `DFPatternCallback` \n",
    "\n",
    "参考：[DFPatternCallback](https://github.com/apache/tvm/blob/main/tests/python/relay/test_dataflow_pattern.py)"
   ]
  },
  {
   "cell_type": "code",
   "execution_count": 1,
   "metadata": {},
   "outputs": [],
   "source": [
    "import set_env"
   ]
  },
  {
   "cell_type": "code",
   "execution_count": 7,
   "metadata": {},
   "outputs": [],
   "source": [
    "import tvm\n",
    "from tvm import relay\n",
    "from tvm.relay.dataflow_pattern import (\n",
    "    DFPatternCallback, rewrite,\n",
    "    is_constant, is_op, is_tuple, wildcard, is_tuple_get_item\n",
    ")"
   ]
  },
  {
   "cell_type": "markdown",
   "metadata": {},
   "source": [
    "## 替换加法为减法"
   ]
  },
  {
   "cell_type": "code",
   "execution_count": 11,
   "metadata": {},
   "outputs": [],
   "source": [
    "x = relay.var(\"x\")\n",
    "y = relay.var(\"y\")\n",
    "add_pattern = is_op(\"add\")(wildcard(), wildcard())\n",
    "sub_pattern = is_op(\"subtract\")(wildcard(), wildcard())\n",
    "\n",
    "class TestRewrite(DFPatternCallback):\n",
    "    def __init__(self):\n",
    "        super(TestRewrite, self).__init__()\n",
    "        self.pattern = add_pattern\n",
    "\n",
    "    def callback(self, pre, post, node_map):\n",
    "        return post.args[0] - post.args[1]\n",
    "\n",
    "out = rewrite(TestRewrite(), x + y)\n",
    "assert sub_pattern.match(out)"
   ]
  },
  {
   "cell_type": "code",
   "execution_count": 13,
   "metadata": {},
   "outputs": [],
   "source": [
    "x = relay.var(\"x\")\n",
    "w = relay.var(\"w\")\n",
    "y = relay.var(\"y\")\n",
    "inpf = relay.var(\"input\")\n",
    "weightf = relay.var(\"weight\")\n",
    "func = relay.Function(\n",
    "    [inpf, weightf], relay.op.nn.relu(relay.op.nn.conv2d(inpf, weightf)), attrs=None\n",
    ")\n",
    "out = rewrite(TestRewrite(), func(x, w) + y)\n",
    "assert sub_pattern.match(out)"
   ]
  },
  {
   "cell_type": "code",
   "execution_count": 25,
   "metadata": {},
   "outputs": [],
   "source": [
    "class BatchnormCallback(DFPatternCallback):\n",
    "    def __init__(self):\n",
    "        super(BatchnormCallback, self).__init__()\n",
    "        self.x = wildcard()\n",
    "        self.var = wildcard()\n",
    "        self.mean = wildcard()\n",
    "        self.beta = wildcard()\n",
    "        self.gamma = wildcard()\n",
    "        self.eps = is_constant()\n",
    "\n",
    "        self.pattern = (\n",
    "            self.gamma * (self.x - self.mean) / is_op(\"sqrt\")(self.var + self.eps) + self.beta\n",
    "        )\n",
    "\n",
    "    def callback(self, pre, post, node_map):\n",
    "        x = node_map[self.x][0]\n",
    "        var = node_map[self.var][0]\n",
    "        mean = node_map[self.mean][0]\n",
    "        beta = node_map[self.beta][0]\n",
    "        gamma = node_map[self.gamma][0]\n",
    "        eps = node_map[self.eps][0]\n",
    "        return relay.op.nn.batch_norm(x, gamma, beta, mean, var, epsilon=eps.data.numpy().item())[0]"
   ]
  },
  {
   "cell_type": "code",
   "execution_count": 26,
   "metadata": {},
   "outputs": [
    {
     "name": "stdout",
     "output_type": "stream",
     "text": [
      "DD\n"
     ]
    }
   ],
   "source": [
    "x = relay.var(\"x\")\n",
    "var = relay.var(\"var\")\n",
    "mean = relay.var(\"mean\")\n",
    "beta = relay.var(\"beta\")\n",
    "gamma = relay.var(\"gamma\")\n",
    "\n",
    "BN = gamma * (x - mean) / relay.op.sqrt(var + relay.const(1e-5)) + beta\n",
    "\n",
    "out = rewrite(BatchnormCallback(), BN)\n",
    "assert tvm.ir.structural_equal(\n",
    "    out, relay.op.nn.batch_norm(x, gamma, beta, mean, var, epsilon=1e-5)[0]\n",
    ")"
   ]
  },
  {
   "cell_type": "code",
   "execution_count": 23,
   "metadata": {},
   "outputs": [
    {
     "name": "stdout",
     "output_type": "stream",
     "text": [
      "free_var %x;\n",
      "free_var %gamma;\n",
      "free_var %beta;\n",
      "free_var %mean;\n",
      "free_var %var;\n",
      "%0 = nn.batch_norm(%x, %gamma, %beta, %mean, %var);\n",
      "%0.0\n"
     ]
    }
   ],
   "source": [
    "print(out)"
   ]
  },
  {
   "cell_type": "code",
   "execution_count": 24,
   "metadata": {},
   "outputs": [
    {
     "name": "stdout",
     "output_type": "stream",
     "text": [
      "free_var %x;\n",
      "free_var %mean;\n",
      "free_var %gamma;\n",
      "%0 = subtract(%x, %mean);\n",
      "free_var %var;\n",
      "%1 = add(%var, 1e-05f);\n",
      "%2 = multiply(%gamma, %0);\n",
      "%3 = sqrt(%1);\n",
      "%4 = divide(%2, %3);\n",
      "free_var %beta;\n",
      "add(%4, %beta)\n"
     ]
    }
   ],
   "source": [
    "print(BN)"
   ]
  },
  {
   "cell_type": "code",
   "execution_count": null,
   "metadata": {},
   "outputs": [],
   "source": []
  }
 ],
 "metadata": {
  "kernelspec": {
   "display_name": "py311",
   "language": "python",
   "name": "python3"
  },
  "language_info": {
   "codemirror_mode": {
    "name": "ipython",
    "version": 3
   },
   "file_extension": ".py",
   "mimetype": "text/x-python",
   "name": "python",
   "nbconvert_exporter": "python",
   "pygments_lexer": "ipython3",
   "version": "3.10.13"
  }
 },
 "nbformat": 4,
 "nbformat_minor": 2
}
