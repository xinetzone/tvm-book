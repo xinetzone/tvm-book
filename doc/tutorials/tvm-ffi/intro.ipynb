{
 "cells": [
  {
   "cell_type": "markdown",
   "id": "606e8a2d",
   "metadata": {},
   "source": [
    "# TVM FFI 概述\n",
    "\n",
    "Apache TVM FFI 是专为机器学习系统设计的开放 ABI（应用程序二进制接口）和 FFI（外部函数接口）。它提供了一套最小化、与框架无关的约定，使不同的机器学习框架、内核库和编程语言之间能够实现无缝互操作。"
   ]
  },
  {
   "cell_type": "markdown",
   "id": "3e8c5641",
   "metadata": {},
   "source": [
    "TVM FFI 提供了通用约定，用于不同的机器学习组件之间的互操作：\n",
    "\n",
    "- **内核库** 发布一个支持多种框架、Python 版本和语言的安装包\n",
    "- **内核 DSL** 为 JIT 和 AOT 内核向 PyTorch、JAX 和其他 ML 运行时暴露可重用的开放 ABI\n",
    "- **机器学习框架** 连接到采用 ABI 约定的库和 DSL\n",
    "- **编码代理** 将生成的代码打包并部署到生产环境\n",
    "- **机器学习基础设施** 支持使用 Python、C++ 和 Rust 进行跨语言开发\n"
   ]
  },
  {
   "cell_type": "markdown",
   "id": "168eb6ed",
   "metadata": {},
   "source": [
    "TVM FFI 仓库的组织结构提供了完整的开发生态系统：\n",
    "```bash\n",
    "tvm-ffi/\n",
    "├── include/tvm/ffi/         # 核心 C API 头文件\n",
    "├── src/ffi/                 # C++ 实现\n",
    "├── python/tvm_ffi/          # Python 绑定\n",
    "├── rust/                    # Rust 绑定\n",
    "├── examples/                # 使用示例\n",
    "├── tests/                   # 全面测试套件\n",
    "├── docs/                    # 文档\n",
    "└── cmake/                   # 构建配置\n",
    "```"
   ]
  },
  {
   "cell_type": "markdown",
   "id": "6d989eb2",
   "metadata": {},
   "source": [
    "TVM FFI 为机器学习开发者提供了几个关键优势：\n",
    "\n",
    "- **单一分发**: 发布一个可在多个框架和 Python 版本上工作的库\n",
    "- **零拷贝集成**: 使用 DLPack 在框架之间高效共享张量\n",
    "- **语言灵活性**: 在 C++、Python 或 Rust 中开发，同时保持 ABI 兼容性\n",
    "- **框架无关**: 适用于 PyTorch、JAX、NumPy 和其他兼容 DLPack 的框架\n",
    "- **生产就绪**: 稳定的 C ABI，适合生产部署"
   ]
  },
  {
   "cell_type": "markdown",
   "id": "a148182f",
   "metadata": {},
   "source": [
    "## 安装\n",
    "\n",
    "[TVM FFI 安装指南](https://tvm.apache.org/ffi/get_started/install.html)提供了在不同平台和使用场景下设置 Apache TVM FFI 系统的全面说明。\n",
    "\n",
    "您可以使用以下方法之一安装 tvm-ffi：\n",
    "\n",
    "- 最简单的尝试方法是从 PyPI 安装：\n",
    "\n",
    "    ```bash\n",
    "    pip install apache-tvm-ffi\n",
    "    ```\n",
    "\n",
    "- 还可以从源代码构建和安装：\n",
    "\n",
    "    ```bash\n",
    "    git clone --recursive https://github.com/apache/tvm-ffi\n",
    "    cd tvm-ffi\n",
    "    pip install -ve .\n",
    "    ```\n",
    "\n",
    "安装完成后，可以运行以下命令确认安装成功：\n",
    "\n",
    "```bash\n",
    "tvm-ffi-config -h\n",
    "```\n"
   ]
  },
  {
   "cell_type": "markdown",
   "id": "bf0ca4e7",
   "metadata": {},
   "source": [
    "对于 C++ 项目，使用 tvm-ffi-config 工具获取编译器标志：\n",
    "\n",
    "```bash\n",
    "# 获取 C 编译器标志\n",
    "tvm-ffi-config --cflags\n",
    " \n",
    "# 获取链接器标志\n",
    "tvm-ffi-config --ldflags\n",
    " \n",
    "# 获取库依赖\n",
    "tvm-ffi-config --libs\n",
    "```\n",
    "\n",
    "编译示例：\n",
    "\n",
    "```bash\n",
    "gcc -shared -fPIC `tvm-ffi-config --cflags` \\\n",
    "    your_module.c -o your_module.so \\\n",
    "    `tvm-ffi-config --ldflags` `tvm-ffi-config --libs`\n",
    "```"
   ]
  }
 ],
 "metadata": {
  "kernelspec": {
   "display_name": "Python 3",
   "language": "python",
   "name": "python3"
  },
  "language_info": {
   "name": "python",
   "version": "3.13.5"
  }
 },
 "nbformat": 4,
 "nbformat_minor": 5
}
