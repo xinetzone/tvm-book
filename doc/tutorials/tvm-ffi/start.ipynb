{
 "cells": [
  {
   "cell_type": "markdown",
   "id": "606e8a2d",
   "metadata": {},
   "source": [
    "# TVM FFI 快速入门"
   ]
  }
 ],
 "metadata": {
  "kernelspec": {
   "display_name": "Python 3",
   "language": "python",
   "name": "python3"
  },
  "language_info": {
   "name": "python",
   "version": "3.13.5"
  }
 },
 "nbformat": 4,
 "nbformat_minor": 5
}
