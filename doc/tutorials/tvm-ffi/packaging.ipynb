{
 "cells": [
  {
   "cell_type": "markdown",
   "id": "9803b9b5",
   "metadata": {},
   "source": [
    "# 打包与分发\n",
    "\n",
    "本节详细说明了如何将基于 tvm-ffi 的库打包为 Python ABI 无关的 wheel 包，从而实现在不同环境中的通用部署。该打包系统具有显著优势，包括可在不同 Python 版本间使用的ABI 无关 wheel（依赖极少）和可同时部署到 Python 与非 Python 环境的通用组件。"
   ]
  },
  {
   "cell_type": "markdown",
   "id": "8d8a40c0",
   "metadata": {},
   "source": [
    "典型的基于 tvm-ffi 的项目遵循以下组织结构：\n",
    "\n",
    "```bash\n",
    "├── CMakeLists.txt          \n",
    "├── pyproject.toml          # Python 打包配置\n",
    "├── src/\n",
    "│   └── extension.cc        # C++ 源代码\n",
    "├── python/\n",
    "│   └── my_ffi_extension/\n",
    "│       ├── __init__.py     # Python 包初始化\n",
    "│       ├── base.py         # 库加载逻辑\n",
    "│       └── _ffi_api.py     # FFI API 注册\n",
    "└── README.md               # 项目文档\n",
    "```"
   ]
  },
  {
   "cell_type": "markdown",
   "id": "bbe36dd2",
   "metadata": {},
   "source": [
    "## 构建系统配置"
   ]
  },
  {
   "cell_type": "code",
   "execution_count": null,
   "id": "77da89cb",
   "metadata": {},
   "outputs": [],
   "source": []
  }
 ],
 "metadata": {
  "kernelspec": {
   "display_name": "Python 3",
   "language": "python",
   "name": "python3"
  },
  "language_info": {
   "codemirror_mode": {
    "name": "ipython",
    "version": 3
   },
   "file_extension": ".py",
   "mimetype": "text/x-python",
   "name": "python",
   "nbconvert_exporter": "python",
   "pygments_lexer": "ipython3",
   "version": "3.13.5"
  }
 },
 "nbformat": 4,
 "nbformat_minor": 5
}
