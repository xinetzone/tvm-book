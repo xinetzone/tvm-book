{
 "cells": [
  {
   "cell_type": "markdown",
   "metadata": {},
   "source": [
    "# VTA topi.dense"
   ]
  },
  {
   "cell_type": "code",
   "execution_count": 2,
   "metadata": {},
   "outputs": [],
   "source": [
    "import numpy as np\n",
    "\n",
    "import tvm\n",
    "from tvm import te\n",
    "from tvm import autotvm, rpc\n",
    "from tvm.contrib.utils import tempdir\n",
    "# from tvm.contrib.pickle_memoize import memoize\n",
    "from tvm import topi\n",
    "import tvm.topi.testing\n",
    "import vta\n",
    "import vta.testing\n",
    "from vta.testing import simulator\n",
    "\n",
    "# FIXME: 需要自定义 clip 算子来规避某种模式检测的限制。\n",
    "@tvm.te.tag_scope(tag=topi.tag.ELEMWISE)\n",
    "def my_clip(x, a_min, a_max):\n",
    "    \"\"\"与 topi 当前的 clip 不同，将最小值和最大值分为两个阶段。\"\"\"\n",
    "    const_min = tvm.tir.const(a_min, x.dtype)\n",
    "    const_max = tvm.tir.const(a_max, x.dtype)\n",
    "    x = te.compute(x.shape, lambda *i: tvm.te.min(x(*i), const_max), name=\"clipA\")\n",
    "    x = te.compute(x.shape, lambda *i: tvm.te.max(x(*i), const_min), name=\"clipB\")\n",
    "    return x"
   ]
  },
  {
   "cell_type": "code",
   "execution_count": 3,
   "metadata": {},
   "outputs": [],
   "source": [
    "env = vta.get_env()\n",
    "remote = rpc.LocalSession()\n",
    "target = env.target\n",
    "batch_size = 16\n",
    "in_feat = 512\n",
    "out_feat = 1008"
   ]
  },
  {
   "cell_type": "code",
   "execution_count": 5,
   "metadata": {},
   "outputs": [
    {
     "name": "stderr",
     "output_type": "stream",
     "text": [
      "[17:03:51] /media/pc/data/lxw/ai/tvm/src/tir/transforms/arg_binder.cc:95: Warning: Trying to bind buffer to another one with lower alignment requirement  required_alignment=256, provided_alignment=64\n"
     ]
    }
   ],
   "source": [
    "a_shape = (batch_size, in_feat)\n",
    "w_shape = (out_feat, in_feat)\n",
    "# data pack\n",
    "data_shape = (batch_size // env.BATCH, in_feat // env.BLOCK_IN, env.BATCH, env.BLOCK_IN)\n",
    "kernel_shape = (\n",
    "    out_feat // env.BLOCK_OUT,\n",
    "    in_feat // env.BLOCK_IN,\n",
    "    env.BLOCK_OUT,\n",
    "    env.BLOCK_IN,\n",
    ")\n",
    "fcompute = vta.top.dense_packed\n",
    "fschedule = vta.top.schedule_dense_packed\n",
    "# 声明计算\n",
    "data = te.placeholder(data_shape, name=\"data\", dtype=env.inp_dtype)\n",
    "kernel = te.placeholder(kernel_shape, name=\"kernel\", dtype=env.wgt_dtype)\n",
    "# 定义调度\n",
    "with target:\n",
    "    res = fcompute(data, kernel, None, env.acc_dtype)\n",
    "    res = topi.right_shift(res, 8)\n",
    "    res = my_clip(res, 0, (1 << env.OUT_WIDTH - 1) - 1)\n",
    "    res = topi.cast(res, env.out_dtype)\n",
    "    # Derive base schedule\n",
    "    s = fschedule([res])\n",
    "    # print(vta.lower(s, [data, kernel, res], simple_mode=True))\n",
    "\n",
    "num_ops = 2 * batch_size * in_feat * out_feat # 算子数量\n",
    "# @memoize(\"vta.tests.test_benchmark_topi.dense.verify\")\n",
    "def get_ref_data():\n",
    "    # derive min max for act, wgt types (max non inclusive)\n",
    "    a_min, a_max = 0 - (1 << (env.INP_WIDTH - 1)), (1 << (env.INP_WIDTH - 1))\n",
    "    w_min, w_max = 0 - (1 << (env.WGT_WIDTH - 1)), (1 << (env.WGT_WIDTH - 1))\n",
    "    a_np = np.random.randint(a_min, a_max, size=a_shape).astype(data.dtype)\n",
    "    w_np = np.random.randint(w_min, w_max, size=w_shape).astype(kernel.dtype)\n",
    "\n",
    "    r_np = np.dot(a_np.astype(env.acc_dtype), w_np.T.astype(env.acc_dtype)).astype(\n",
    "        env.acc_dtype\n",
    "    )\n",
    "    return a_np, w_np, r_np\n",
    "\n",
    "data_np, kernel_np, res_ref = get_ref_data() # 原始数据\n",
    "# 数据打包\n",
    "data_np = data_np.reshape(\n",
    "    batch_size // env.BATCH, env.BATCH, in_feat // env.BLOCK_IN, env.BLOCK_IN\n",
    ").transpose((0, 2, 1, 3))\n",
    "kernel_np = kernel_np.reshape(\n",
    "    out_feat // env.BLOCK_OUT, env.BLOCK_OUT, in_feat // env.BLOCK_IN, env.BLOCK_IN\n",
    ").transpose((0, 2, 1, 3))\n",
    "\n",
    "# 构建库\n",
    "mod = vta.build(\n",
    "    s,\n",
    "    [data, kernel, res],\n",
    "    target=tvm.target.Target(target, host=env.target_host),\n",
    "    name=\"dense\",\n",
    ")"
   ]
  },
  {
   "cell_type": "code",
   "execution_count": 6,
   "metadata": {},
   "outputs": [
    {
     "name": "stderr",
     "output_type": "stream",
     "text": [
      "2023-09-25 17:03:52.712 INFO load_module /tmp/tmpmci4zmeb/dense.o\n"
     ]
    }
   ],
   "source": [
    "temp = tempdir()\n",
    "mod.save(temp.relpath(\"dense.o\"))\n",
    "remote.upload(temp.relpath(\"dense.o\"))\n",
    "f = remote.load_module(\"dense.o\")\n",
    "dev = remote.device(str(target))\n",
    "res_np = np.zeros(topi.utils.get_const_tuple(res.shape)).astype(res.dtype)\n",
    "data_arr = tvm.nd.array(data_np, dev)\n",
    "kernel_arr = tvm.nd.array(kernel_np, dev)\n",
    "res_arr = tvm.nd.array(res_np, dev)\n",
    "time_f = f.time_evaluator(\"dense\", dev, number=4)"
   ]
  },
  {
   "cell_type": "code",
   "execution_count": 7,
   "metadata": {},
   "outputs": [
    {
     "name": "stderr",
     "output_type": "stream",
     "text": [
      "[17:03:53] /media/pc/data/lxw/ai/tvm/src/runtime/profiling.cc:101: Warning: No timer implementation for ext_dev, using default timer instead. It may be inaccurate or have extra overhead.\n"
     ]
    },
    {
     "name": "stdout",
     "output_type": "stream",
     "text": [
      "VTA DENSE TEST: Time cost = 0.0932854 sec/op,  0.177038 GOPS\n"
     ]
    }
   ],
   "source": [
    "# In vta sim mode, collect simulator runtime statistics\n",
    "simulator.clear_stats()\n",
    "cost = time_f(data_arr, kernel_arr, res_arr)\n",
    "stats = simulator.stats()\n",
    "# 验证正确性\n",
    "res_orig = res_arr.numpy()\n",
    "res_orig = res_orig.reshape(batch_size, out_feat) # 数据打包\n",
    "res_ref = res_ref >> 8\n",
    "res_ref = np.clip(res_ref, 0, (1 << env.OUT_WIDTH - 1) - 1)\n",
    "res_ref = res_ref.astype(env.out_dtype)\n",
    "correct = np.allclose(res_orig, res_ref)\n",
    "gops = (num_ops / cost.mean) / float(10**9)\n",
    "print(f\"VTA DENSE TEST: Time cost = {cost.mean:g} sec/op, {gops: g} GOPS\")"
   ]
  },
  {
   "cell_type": "code",
   "execution_count": null,
   "metadata": {},
   "outputs": [],
   "source": []
  }
 ],
 "metadata": {
  "kernelspec": {
   "display_name": "tvmz",
   "language": "python",
   "name": "python3"
  },
  "language_info": {
   "codemirror_mode": {
    "name": "ipython",
    "version": 3
   },
   "file_extension": ".py",
   "mimetype": "text/x-python",
   "name": "python",
   "nbconvert_exporter": "python",
   "pygments_lexer": "ipython3",
   "version": "3.10.12"
  },
  "orig_nbformat": 4
 },
 "nbformat": 4,
 "nbformat_minor": 2
}
