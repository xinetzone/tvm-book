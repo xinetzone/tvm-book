{
 "cells": [
  {
   "cell_type": "markdown",
   "metadata": {},
   "source": [
    "# VTA padded load"
   ]
  },
  {
   "cell_type": "code",
   "execution_count": 1,
   "metadata": {},
   "outputs": [],
   "source": [
    "import tvm\n",
    "from tvm import te\n",
    "import numpy as np\n",
    "from tvm import topi\n",
    "from tvm.contrib.utils import tempdir\n",
    "\n",
    "import vta\n",
    "import vta.testing\n",
    "from vta.testing import simulator\n",
    "\n",
    "np.random.seed(0xDEADB)"
   ]
  },
  {
   "cell_type": "code",
   "execution_count": 2,
   "metadata": {},
   "outputs": [
    {
     "name": "stderr",
     "output_type": "stream",
     "text": [
      "2023-09-25 13:10:39.193 INFO load_module /tmp/tmpxhvhkw8k/padded_load.o\n"
     ]
    },
    {
     "name": "stdout",
     "output_type": "stream",
     "text": [
      "Padded Y0 load execution statistics:\n",
      "\tinp_load_nbytes :                0\n",
      "\twgt_load_nbytes :                0\n",
      "\tacc_load_nbytes :              960\n",
      "\tuop_load_nbytes :                4\n",
      "\tout_store_nbytes:              400\n",
      "\tgemm_counter    :                0\n",
      "\talu_counter     :               25\n"
     ]
    },
    {
     "name": "stderr",
     "output_type": "stream",
     "text": [
      "2023-09-25 13:10:39.453 INFO load_module /tmp/tmpxhvhkw8k/padded_load.o\n"
     ]
    },
    {
     "name": "stdout",
     "output_type": "stream",
     "text": [
      "Padded Y1 load execution statistics:\n",
      "\tinp_load_nbytes :                0\n",
      "\twgt_load_nbytes :                0\n",
      "\tacc_load_nbytes :              960\n",
      "\tuop_load_nbytes :                4\n",
      "\tout_store_nbytes:              336\n",
      "\tgemm_counter    :                0\n",
      "\talu_counter     :               21\n"
     ]
    },
    {
     "name": "stderr",
     "output_type": "stream",
     "text": [
      "2023-09-25 13:10:39.737 INFO load_module /tmp/tmpxhvhkw8k/padded_load.o\n"
     ]
    },
    {
     "name": "stdout",
     "output_type": "stream",
     "text": [
      "Padded X0 load execution statistics:\n",
      "\tinp_load_nbytes :                0\n",
      "\twgt_load_nbytes :                0\n",
      "\tacc_load_nbytes :              960\n",
      "\tuop_load_nbytes :                4\n",
      "\tout_store_nbytes:              400\n",
      "\tgemm_counter    :                0\n",
      "\talu_counter     :               25\n"
     ]
    },
    {
     "name": "stderr",
     "output_type": "stream",
     "text": [
      "2023-09-25 13:10:39.993 INFO load_module /tmp/tmpxhvhkw8k/padded_load.o\n"
     ]
    },
    {
     "name": "stdout",
     "output_type": "stream",
     "text": [
      "Padded X1 load execution statistics:\n",
      "\tinp_load_nbytes :                0\n",
      "\twgt_load_nbytes :                0\n",
      "\tacc_load_nbytes :              960\n",
      "\tuop_load_nbytes :                4\n",
      "\tout_store_nbytes:              336\n",
      "\tgemm_counter    :                0\n",
      "\talu_counter     :               21\n"
     ]
    },
    {
     "name": "stderr",
     "output_type": "stream",
     "text": [
      "2023-09-25 13:10:40.310 INFO load_module /tmp/tmpxhvhkw8k/padded_load.o\n"
     ]
    },
    {
     "name": "stdout",
     "output_type": "stream",
     "text": [
      "Padded all load execution statistics:\n",
      "\tinp_load_nbytes :                0\n",
      "\twgt_load_nbytes :                0\n",
      "\tacc_load_nbytes :              960\n",
      "\tuop_load_nbytes :                4\n",
      "\tout_store_nbytes:              560\n",
      "\tgemm_counter    :                0\n",
      "\talu_counter     :               35\n"
     ]
    }
   ],
   "source": [
    "def _run(env, remote):\n",
    "    def check_padded_load(pad_before, pad_after, test_name=None):\n",
    "        # declare\n",
    "        n = 3\n",
    "        m = 5\n",
    "        x = te.placeholder((n, m, env.BATCH, env.BLOCK_OUT), name=\"x\", dtype=env.acc_dtype)\n",
    "        x_buf = topi.nn.pad(x, pad_before, pad_after, name=\"y\")\n",
    "        # insert no-op that won't be optimized away\n",
    "        y_buf = te.compute(\n",
    "            (\n",
    "                n + pad_before[0] + pad_after[0],\n",
    "                m + pad_before[1] + pad_after[1],\n",
    "                env.BATCH,\n",
    "                env.BLOCK_OUT,\n",
    "            ),\n",
    "            lambda *i: x_buf(*i) >> 0,\n",
    "            \"y_buf\",\n",
    "        )\n",
    "        y = te.compute(\n",
    "            (\n",
    "                n + pad_before[0] + pad_after[0],\n",
    "                m + pad_before[1] + pad_after[1],\n",
    "                env.BATCH,\n",
    "                env.BLOCK_OUT,\n",
    "            ),\n",
    "            lambda *i: y_buf(*i).astype(env.inp_dtype),\n",
    "            \"y\",\n",
    "        )\n",
    "        # schedule\n",
    "        s = te.create_schedule(y.op)\n",
    "        s[x_buf].set_scope(env.acc_scope)\n",
    "        s[x_buf].pragma(x_buf.op.axis[0], env.dma_copy)\n",
    "        s[y_buf].set_scope(env.acc_scope)\n",
    "        s[y_buf].pragma(y_buf.op.axis[0], env.alu)\n",
    "        s[y].pragma(y.op.axis[0], env.dma_copy)\n",
    "        # build\n",
    "        with vta.build_config():\n",
    "            mod = vta.build(s, [x, y], tvm.target.Target(\"ext_dev\", host=env.target_host))\n",
    "\n",
    "        if not remote:\n",
    "            return\n",
    "        temp = tempdir()\n",
    "        mod.save(temp.relpath(\"padded_load.o\"))\n",
    "        remote.upload(temp.relpath(\"padded_load.o\"))\n",
    "        f = remote.load_module(\"padded_load.o\")\n",
    "        # verify\n",
    "        dev = remote.ext_dev(0)\n",
    "        x_np = np.random.randint(0, 10, size=(n, m, env.BATCH, env.BLOCK_OUT)).astype(x.dtype)\n",
    "        y_np = np.zeros(\n",
    "            (\n",
    "                n + pad_before[0] + pad_after[0],\n",
    "                m + pad_before[1] + pad_after[1],\n",
    "                env.BATCH,\n",
    "                env.BLOCK_OUT,\n",
    "            )\n",
    "        ).astype(y.dtype)\n",
    "        y_np[pad_before[0] : pad_before[0] + n, pad_before[1] : pad_before[1] + m, :] = x_np\n",
    "        x_nd = tvm.nd.array(x_np, dev)\n",
    "        y_nd = tvm.nd.empty(y_np.shape, device=dev, dtype=y_np.dtype)\n",
    "\n",
    "        if env.TARGET in [\"sim\", \"tsim\"]:\n",
    "            simulator.clear_stats()\n",
    "\n",
    "        f(x_nd, y_nd)\n",
    "\n",
    "        np.testing.assert_equal(y_np, y_nd.numpy())\n",
    "\n",
    "        if env.TARGET in [\"sim\", \"tsim\"]:\n",
    "            sim_stats = simulator.stats()\n",
    "            print(f\"Padded {test_name} load execution statistics:\")\n",
    "            for k, v in sim_stats.items():\n",
    "                print(\"\\t{:<16}: {:>16}\".format(k, v))\n",
    "\n",
    "    check_padded_load([2, 0, 0, 0], [0, 0, 0, 0], test_name=\"Y0\")\n",
    "    check_padded_load([0, 2, 0, 0], [0, 0, 0, 0], test_name=\"Y1\")\n",
    "    check_padded_load([0, 0, 0, 0], [2, 0, 0, 0], test_name=\"X0\")\n",
    "    check_padded_load([0, 0, 0, 0], [0, 2, 0, 0], test_name=\"X1\")\n",
    "    check_padded_load([1, 1, 0, 0], [1, 1, 0, 0], test_name=\"all\")\n",
    "\n",
    "vta.testing.run(_run)"
   ]
  }
 ],
 "metadata": {
  "kernelspec": {
   "display_name": "tvmz",
   "language": "python",
   "name": "python3"
  },
  "language_info": {
   "codemirror_mode": {
    "name": "ipython",
    "version": 3
   },
   "file_extension": ".py",
   "mimetype": "text/x-python",
   "name": "python",
   "nbconvert_exporter": "python",
   "pygments_lexer": "ipython3",
   "version": "3.10.12"
  },
  "orig_nbformat": 4
 },
 "nbformat": 4,
 "nbformat_minor": 2
}
