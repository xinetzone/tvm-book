{
 "cells": [
  {
   "attachments": {},
   "cell_type": "markdown",
   "metadata": {},
   "source": [
    "# PyTorch 量化"
   ]
  },
  {
   "cell_type": "code",
   "execution_count": 1,
   "metadata": {},
   "outputs": [],
   "source": [
    "import numpy as np\n",
    "import torch\n",
    "from torch import nn\n",
    "from tqdm import tqdm\n",
    "import tvm\n",
    "from tvm import relay\n",
    "\n",
    "torch.manual_seed(0)\n",
    "torch.set_grad_enabled(False)\n",
    "\n",
    "def list_ops(expr):\n",
    "    \"\"\"list_ops\"\"\"\n",
    "\n",
    "    class OpLister(tvm.relay.ExprVisitor):\n",
    "        \"\"\"OpLister inherits from ExprVisitor\"\"\"\n",
    "\n",
    "        def visit_op(self, op):\n",
    "            if op not in self.node_set:\n",
    "                self.node_list.append(op)\n",
    "            return super().visit_op(op)\n",
    "\n",
    "        def list_nodes(self, expr):\n",
    "            self.node_set = {}\n",
    "            self.node_list = []\n",
    "            self.visit(expr)\n",
    "            return self.node_list\n",
    "\n",
    "    return OpLister().list_nodes(expr)\n",
    "\n",
    "\n",
    "class Demo(nn.Module):\n",
    "    def __init__(self) -> None:\n",
    "        super().__init__()\n",
    "        self.conv = nn.Conv2d(16, 64, 3, 1, 1, bias=False, groups=16)\n",
    "        # self.prelu = nn.PReLU(64)\n",
    "        self.relu = nn.ReLU()\n",
    "\n",
    "    def forward(self, x: torch.Tensor):\n",
    "        x = self.conv(x)\n",
    "        # x = self.prelu(x)\n",
    "        x = self.relu(x)\n",
    "        return x"
   ]
  },
  {
   "cell_type": "code",
   "execution_count": 2,
   "metadata": {},
   "outputs": [
    {
     "data": {
      "text/plain": [
       "tensor([0.4963, 0.7682])"
      ]
     },
     "execution_count": 2,
     "metadata": {},
     "output_type": "execute_result"
    }
   ],
   "source": [
    "class Add1(nn.Module):\n",
    "    def forward(self, x):\n",
    "        return x + 1\n",
    "\n",
    "input_shape = [2]\n",
    "input_data = torch.rand(input_shape).float()\n",
    "input_data"
   ]
  },
  {
   "cell_type": "code",
   "execution_count": 10,
   "metadata": {},
   "outputs": [],
   "source": [
    "compiled_input = {\"data\": input_data.numpy()}"
   ]
  },
  {
   "cell_type": "code",
   "execution_count": 11,
   "metadata": {},
   "outputs": [],
   "source": [
    "dev = tvm.cpu()\n",
    "target = \"llvm\"\n",
    "input_shapes = [(\"data\", input_shape)]\n",
    "model = Add1().float().eval()\n",
    "trace_model = torch.jit.trace(model, [input_data.clone()])\n",
    "trace_model = trace_model.float().eval()\n",
    "mod, params = relay.frontend.from_pytorch(trace_model, input_shapes)\n",
    "with tvm.transform.PassContext(opt_level=3):\n",
    "    exe = relay.create_executor(\n",
    "        \"vm\", mod=mod, params=params, device=dev, target=target\n",
    "    ).evaluate()\n",
    "    result = exe(**compiled_input)"
   ]
  },
  {
   "cell_type": "code",
   "execution_count": 12,
   "metadata": {},
   "outputs": [
    {
     "data": {
      "text/plain": [
       "<tvm.nd.NDArray shape=(2,), cpu(0)>\n",
       "array([1.4962566, 1.7682219], dtype=float32)"
      ]
     },
     "execution_count": 12,
     "metadata": {},
     "output_type": "execute_result"
    }
   ],
   "source": [
    "result"
   ]
  },
  {
   "cell_type": "code",
   "execution_count": null,
   "metadata": {},
   "outputs": [],
   "source": []
  }
 ],
 "metadata": {
  "kernelspec": {
   "display_name": "tvmz",
   "language": "python",
   "name": "python3"
  },
  "language_info": {
   "codemirror_mode": {
    "name": "ipython",
    "version": 3
   },
   "file_extension": ".py",
   "mimetype": "text/x-python",
   "name": "python",
   "nbconvert_exporter": "python",
   "pygments_lexer": "ipython3",
   "version": "3.10.11"
  },
  "orig_nbformat": 4
 },
 "nbformat": 4,
 "nbformat_minor": 2
}
