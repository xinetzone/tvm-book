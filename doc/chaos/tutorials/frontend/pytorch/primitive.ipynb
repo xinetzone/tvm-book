{
 "cells": [
  {
   "cell_type": "markdown",
   "metadata": {},
   "source": [
    "# 原语库\n",
    "\n",
    "## 深度学习框架是如何提供灵活性的？"
   ]
  },
  {
   "cell_type": "code",
   "execution_count": 1,
   "metadata": {},
   "outputs": [
    {
     "name": "stderr",
     "output_type": "stream",
     "text": [
      "STAGE:2023-07-10 13:28:17 3224314:3224314 ActivityProfilerController.cpp:311] Completed Stage: Warm Up\n",
      "STAGE:2023-07-10 13:28:26 3224314:3224314 ActivityProfilerController.cpp:317] Completed Stage: Collection\n",
      "STAGE:2023-07-10 13:28:26 3224314:3224314 ActivityProfilerController.cpp:321] Completed Stage: Post Processing\n"
     ]
    }
   ],
   "source": [
    "import torch\n",
    "from torch.autograd import Variable\n",
    "\n",
    "x = torch.randn((5),requires_grad=True)\n",
    "\n",
    "mean = torch.randn((5))\n",
    "var = torch.randn((5))\n",
    "\n",
    "with torch.autograd.profiler.profile(enabled=True, use_cuda=True) as prof:\n",
    "    y = (x-mean)/var\n",
    "    y.backward(torch.ones_like(y))\n",
    "prof.export_chrome_trace(\"profile.json\")"
   ]
  },
  {
   "cell_type": "markdown",
   "metadata": {},
   "source": [
    "这段计算是没有计算库与之对应的，深度学习框架一般的做法是先让芯片供应商提供 primitive 库，包含基本的四则运算、卷积、矩阵乘法和访存操作（事实上，primitive 越完备，可以支持的计算越多）。比如：\n",
    "\n",
    "```\n",
    "def add(a, b):\n",
    "def sub(a, b):\n",
    "def mul(a, b):\n",
    "def div(a, b):\n",
    "```\n",
    "\n",
    "有了 primitive 库，当遇到一段计算的时候，会将计算分解由 primitive 来表达。这样，尽管我们并没有直接支持这个计算，但是它可以通过我们调用 primitive 来实现。到这里，灵活性的问题基本解决了。如果没解决，那就多加 primitive，同时尝试支持 loop、recursive、branch 和 closure 等。"
   ]
  }
 ],
 "metadata": {
  "kernelspec": {
   "display_name": "tvmz",
   "language": "python",
   "name": "python3"
  },
  "language_info": {
   "codemirror_mode": {
    "name": "ipython",
    "version": 3
   },
   "file_extension": ".py",
   "mimetype": "text/x-python",
   "name": "python",
   "nbconvert_exporter": "python",
   "pygments_lexer": "ipython3",
   "version": "3.10.11"
  },
  "orig_nbformat": 4
 },
 "nbformat": 4,
 "nbformat_minor": 2
}
