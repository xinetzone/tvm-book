{
 "cells": [
  {
   "attachments": {},
   "cell_type": "markdown",
   "metadata": {},
   "source": [
    "# Relay 变量\n",
    "\n",
    "Relay 明显地区分了 AST 和文本格式之间的局部变量（{class}`~tvm.relay.expr.Var` 使用 `%` 标识）和全局变量（{class}`~tvm.ir.expr.GlobalVar` 使用 `@` 标识）。\n",
    "\n",
    "- 全局标识符总是引用在全局可见环境中包含的全局可见定义，称为 **模块** （module）。全局标识符必须是唯一的。\n",
    "- 局部标识符总是引用函数参数或被 `let` （{class}`~tvm.relay.expr.Let`） 表达式绑定的变量，并将作用于它出现的函数或被 `let` 表达式绑定之处。\n",
    "\n",
    "## 局部变量\n",
    "\n",
    "局部变量可用于声明函数的输入参数或中间变量。可由 {class}`~tvm.relay.expr.Var(name_hint, type_annotation=None)` 创建。其中\n",
    "\n",
    "- `name_hint` 指定了局部变量的名字。\n",
    "- `type_annotation` 用于局部变量的类型注解。"
   ]
  },
  {
   "cell_type": "code",
   "execution_count": 1,
   "metadata": {},
   "outputs": [
    {
     "data": {
      "text/plain": [
       "Var(x)"
      ]
     },
     "execution_count": 1,
     "metadata": {},
     "output_type": "execute_result"
    }
   ],
   "source": [
    "from tvm import relay\n",
    "\n",
    "x = relay.Var(\"x\") # 创建局部变量 x\n",
    "x"
   ]
  },
  {
   "cell_type": "markdown",
   "metadata": {},
   "source": [
    "可以查看文本表示："
   ]
  },
  {
   "cell_type": "code",
   "execution_count": 2,
   "metadata": {},
   "outputs": [
    {
     "name": "stdout",
     "output_type": "stream",
     "text": [
      "free_var %x;\n",
      "%x\n"
     ]
    }
   ],
   "source": [
    "print(x)"
   ]
  },
  {
   "cell_type": "markdown",
   "metadata": {},
   "source": [
    "如果想要声明给定 `dtype` 和形状已知的张量的类型，可以指定 `type_annotation` 参数创建："
   ]
  },
  {
   "cell_type": "code",
   "execution_count": 3,
   "metadata": {},
   "outputs": [
    {
     "data": {
      "text/plain": [
       "Var(x, ty=TensorType([5, 5], float32))"
      ]
     },
     "execution_count": 3,
     "metadata": {},
     "output_type": "execute_result"
    }
   ],
   "source": [
    "type_annotation = relay.TensorType(shape=(5, 5),\n",
    "                                   dtype=\"float32\")\n",
    "x = relay.Var(\"x\", type_annotation)\n",
    "x"
   ]
  },
  {
   "cell_type": "markdown",
   "metadata": {},
   "source": [
    "查看文本格式："
   ]
  },
  {
   "cell_type": "code",
   "execution_count": 4,
   "metadata": {},
   "outputs": [
    {
     "name": "stdout",
     "output_type": "stream",
     "text": [
      "free_var %x: Tensor[(5, 5), float32];\n",
      "%x\n"
     ]
    }
   ],
   "source": [
    "print(x)"
   ]
  },
  {
   "attachments": {},
   "cell_type": "markdown",
   "metadata": {},
   "source": [
    "也可以使用便捷函数：`tvm.relay.expr.var(name_hint, type_annotation=None, shape=None, dtype=\"float32\")`。\n",
    "\n",
    "创建变量的四种等效方式："
   ]
  },
  {
   "cell_type": "code",
   "execution_count": 5,
   "metadata": {},
   "outputs": [],
   "source": [
    "x = relay.Var(\"x\", relay.TensorType([1, 2]))\n",
    "x = relay.var(\"x\", relay.TensorType([1, 2]))\n",
    "x = relay.var(\"x\", shape=[1, 2])\n",
    "x = relay.var(\"x\", shape=[1, 2], dtype=\"float32\")"
   ]
  },
  {
   "cell_type": "markdown",
   "metadata": {},
   "source": [
    "同样，下面两列也是等效的："
   ]
  },
  {
   "cell_type": "code",
   "execution_count": 6,
   "metadata": {},
   "outputs": [],
   "source": [
    "y = relay.var(\"x\", \"float32\")\n",
    "y = relay.var(\"x\", shape=(), dtype=\"float32\")"
   ]
  }
 ],
 "metadata": {
  "kernelspec": {
   "display_name": "py310",
   "language": "python",
   "name": "python3"
  },
  "language_info": {
   "codemirror_mode": {
    "name": "ipython",
    "version": 3
   },
   "file_extension": ".py",
   "mimetype": "text/x-python",
   "name": "python",
   "nbconvert_exporter": "python",
   "pygments_lexer": "ipython3",
   "version": "3.10.8"
  },
  "orig_nbformat": 4,
  "vscode": {
   "interpreter": {
    "hash": "34e95b0948f576614c7863cc780d83f61f9551597d4ec05ab5fbb4cfe73deb20"
   }
  }
 },
 "nbformat": 4,
 "nbformat_minor": 2
}
