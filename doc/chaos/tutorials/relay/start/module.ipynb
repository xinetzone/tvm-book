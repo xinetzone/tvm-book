{
 "cells": [
  {
   "cell_type": "markdown",
   "metadata": {},
   "source": [
    "# Relay 模块\n",
    "\n",
    "Relay 保留称为 “module” 的全局数据结构（在其他函数式编程语言中通常称为 “environment”），以跟踪全局函数的定义。特别地，该模块保持全局变量到它们所表示的函数表达式的全局可访问映射。模块的实用之处在于，它允许全局函数递归地引用它们自己或任何其他全局函数（例如，在 mutual 递归中）。"
   ]
  },
  {
   "cell_type": "code",
   "execution_count": 1,
   "metadata": {},
   "outputs": [],
   "source": [
    "from tvm import relay\n",
    "\n",
    "# 定义变量\n",
    "names = \"xy\"\n",
    "x, y = [relay.var(name) for name in names]\n",
    "# 定义函数\n",
    "add_op = x + y\n",
    "add_func = relay.Function([x, y], add_op)"
   ]
  },
  {
   "cell_type": "markdown",
   "metadata": {},
   "source": [
    "声明全局变量："
   ]
  },
  {
   "cell_type": "code",
   "execution_count": 2,
   "metadata": {},
   "outputs": [
    {
     "name": "stdout",
     "output_type": "stream",
     "text": [
      "@AddFunc\n"
     ]
    }
   ],
   "source": [
    "add_gvar = relay.GlobalVar(\"AddFunc\")\n",
    "print(add_gvar)"
   ]
  },
  {
   "cell_type": "markdown",
   "metadata": {},
   "source": [
    "定义将 `add_func` 提升为全局变量："
   ]
  },
  {
   "cell_type": "code",
   "execution_count": 3,
   "metadata": {},
   "outputs": [
    {
     "name": "stdout",
     "output_type": "stream",
     "text": [
      "def @AddFunc(%x, %y) {\n",
      "  add(%x, %y)\n",
      "}\n",
      "\n"
     ]
    }
   ],
   "source": [
    "from tvm import IRModule\n",
    "\n",
    "mod = IRModule({add_gvar: add_func})\n",
    "print(mod)"
   ]
  },
  {
   "cell_type": "markdown",
   "metadata": {},
   "source": [
    "获取模块的全局变量内容："
   ]
  },
  {
   "cell_type": "code",
   "execution_count": 4,
   "metadata": {},
   "outputs": [
    {
     "data": {
      "text/plain": [
       "fn (%x, %y) {\n",
       "  add(%x, %y)\n",
       "}"
      ]
     },
     "execution_count": 4,
     "metadata": {},
     "output_type": "execute_result"
    }
   ],
   "source": [
    "mod[add_gvar]"
   ]
  },
  {
   "cell_type": "markdown",
   "metadata": {},
   "source": [
    "也可以直接借助全局变量的名字获取其内容："
   ]
  },
  {
   "cell_type": "code",
   "execution_count": 5,
   "metadata": {},
   "outputs": [
    {
     "data": {
      "text/plain": [
       "fn (%x, %y) {\n",
       "  add(%x, %y)\n",
       "}"
      ]
     },
     "execution_count": 5,
     "metadata": {},
     "output_type": "execute_result"
    }
   ],
   "source": [
    "mod[\"AddFunc\"]"
   ]
  },
  {
   "cell_type": "markdown",
   "metadata": {},
   "source": [
    "也可以分配新的全局变量给模块："
   ]
  },
  {
   "cell_type": "code",
   "execution_count": 6,
   "metadata": {},
   "outputs": [
    {
     "name": "stdout",
     "output_type": "stream",
     "text": [
      "def @AddFunc(%x, %y) {\n",
      "  add(%x, %y)\n",
      "}\n",
      "\n",
      "def @MulFunc(%x1, %y1) {\n",
      "  multiply(%x1, %y1)\n",
      "}\n",
      "\n"
     ]
    }
   ],
   "source": [
    "names = \"xy\"\n",
    "x, y = [relay.var(name) for name in names]\n",
    "# 定义函数\n",
    "mul_op = x * y\n",
    "mul_func = relay.Function([x, y], mul_op)\n",
    "mod[\"MulFunc\"] = mul_func\n",
    "\n",
    "print(mod)"
   ]
  },
  {
   "cell_type": "markdown",
   "metadata": {},
   "source": [
    "也可以通过 Python 字典更新全局变量："
   ]
  },
  {
   "cell_type": "code",
   "execution_count": 7,
   "metadata": {},
   "outputs": [
    {
     "name": "stdout",
     "output_type": "stream",
     "text": [
      "def @AddFunc(%x, %y) {\n",
      "  add(%x, %y)\n",
      "}\n",
      "\n",
      "def @MulAddFunc(%x1, %y1, %z) {\n",
      "  %0 = multiply(%x1, %y1);\n",
      "  add(%0, %z)\n",
      "}\n",
      "\n",
      "def @MulFunc(%x2, %y2) {\n",
      "  multiply(%x2, %y2)\n",
      "}\n",
      "\n"
     ]
    }
   ],
   "source": [
    "names = \"xyz\"\n",
    "x, y, z = [relay.var(name) for name in names]\n",
    "# 定义函数\n",
    "v1 = x * y\n",
    "muladd_op = v1 + z\n",
    "muladd_func = relay.Function([x, y, z], muladd_op)\n",
    "\n",
    "mod.update({\"MulAddFunc\": muladd_func})\n",
    "print(mod)"
   ]
  },
  {
   "cell_type": "markdown",
   "metadata": {},
   "source": [
    "查看所有全局变量："
   ]
  },
  {
   "cell_type": "code",
   "execution_count": 8,
   "metadata": {},
   "outputs": [
    {
     "data": {
      "text/plain": [
       "[GlobalVar(AddFunc), GlobalVar(MulFunc), GlobalVar(MulAddFunc)]"
      ]
     },
     "execution_count": 8,
     "metadata": {},
     "output_type": "execute_result"
    }
   ],
   "source": [
    "mod.get_global_vars()"
   ]
  }
 ],
 "metadata": {
  "kernelspec": {
   "display_name": "Python 3.8.13 ('py38': conda)",
   "language": "python",
   "name": "python3"
  },
  "language_info": {
   "codemirror_mode": {
    "name": "ipython",
    "version": 3
   },
   "file_extension": ".py",
   "mimetype": "text/x-python",
   "name": "python",
   "nbconvert_exporter": "python",
   "pygments_lexer": "ipython3",
   "version": "3.8.13"
  },
  "orig_nbformat": 4,
  "vscode": {
   "interpreter": {
    "hash": "28558e8daad512806f5c536a1a04c119185f99f65b79002708a12162d02a79c7"
   }
  }
 },
 "nbformat": 4,
 "nbformat_minor": 2
}
