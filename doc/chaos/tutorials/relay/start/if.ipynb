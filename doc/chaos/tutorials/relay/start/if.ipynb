{
 "cells": [
  {
   "cell_type": "markdown",
   "metadata": {},
   "source": [
    "# Relay 条件表达"
   ]
  },
  {
   "cell_type": "code",
   "execution_count": 1,
   "metadata": {},
   "outputs": [
    {
     "name": "stdout",
     "output_type": "stream",
     "text": [
      "if (False) {\n",
      "  free_var %a;\n",
      "  free_var %b;\n",
      "  add(%a, %b)\n",
      "} else {\n",
      "  multiply(%a, %b)\n",
      "}\n"
     ]
    }
   ],
   "source": [
    "from tvm import relay\n",
    "\n",
    "a, b = [relay.var(name) for name in \"ab\"]\n",
    "c = a + b\n",
    "d = a * b\n",
    "cond = relay.const(a == b)\n",
    "f = relay.If(cond, c, d)\n",
    "print(f)"
   ]
  }
 ],
 "metadata": {
  "kernelspec": {
   "display_name": "Python 3.8.13 ('py38': conda)",
   "language": "python",
   "name": "python3"
  },
  "language_info": {
   "codemirror_mode": {
    "name": "ipython",
    "version": 3
   },
   "file_extension": ".py",
   "mimetype": "text/x-python",
   "name": "python",
   "nbconvert_exporter": "python",
   "pygments_lexer": "ipython3",
   "version": "3.8.13"
  },
  "orig_nbformat": 4,
  "vscode": {
   "interpreter": {
    "hash": "28558e8daad512806f5c536a1a04c119185f99f65b79002708a12162d02a79c7"
   }
  }
 },
 "nbformat": 4,
 "nbformat_minor": 2
}
