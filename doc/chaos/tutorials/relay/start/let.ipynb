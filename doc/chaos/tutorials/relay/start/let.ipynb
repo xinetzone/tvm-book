{
 "cells": [
  {
   "cell_type": "markdown",
   "metadata": {},
   "source": [
    "# Relay `let` 绑定\n",
    "\n",
    "其实上述介绍的模块绑定属于 Relay graph 绑定，对应于计算图。\n",
    "\n",
    "let 绑定是不可变的局部变量绑定，允许用户将表达式绑定到名称。\n",
    "\n",
    "- let 绑定包含局部变量、可选类型注解、值和可以引用绑定标识符的 body 表达式。如果省略了绑定变量上的类型注释，Relay 将尝试推断该变量允许的最通用类型。\n",
    "- let 表达式中的绑定变量只作用在其 body 作用域内，除非该变量定义了函数表达式。当 let 表达式创建函数时，该变量的值也在范围内，以允许递归定义函数（请参阅前一小节）。\n",
    "- let 绑定的值是计算它所依赖的绑定后的最后一个表达式的值。"
   ]
  },
  {
   "cell_type": "code",
   "execution_count": 1,
   "metadata": {},
   "outputs": [
    {
     "data": {
      "text/plain": [
       "fn (%x) {\n",
       "  let %v1 = log(%x);\n",
       "  let %v2 = add(%v1, %v1);\n",
       "  %v2\n",
       "}"
      ]
     },
     "execution_count": 1,
     "metadata": {},
     "output_type": "execute_result"
    }
   ],
   "source": [
    "from tvm import relay\n",
    "\n",
    "x = relay.var(\"x\")\n",
    "sb = relay.ScopeBuilder()\n",
    "v1 = sb.let(\"v1\", relay.log(x))\n",
    "v2 = sb.let(\"v2\", v1 + v1)\n",
    "sb.ret(v2)\n",
    "f = relay.Function([x], sb.get())\n",
    "\n",
    "f"
   ]
  },
  {
   "cell_type": "markdown",
   "metadata": {},
   "source": [
    "也可以定义 if-else 语句："
   ]
  },
  {
   "cell_type": "code",
   "execution_count": 2,
   "metadata": {},
   "outputs": [
    {
     "data": {
      "text/plain": [
       "fn (%x, %y, %cond: bool) {\n",
       "  if (%cond) {\n",
       "    let %t1 = add(%x, 1f);\n",
       "    %t1\n",
       "  } else {\n",
       "    %y\n",
       "  }\n",
       "}"
      ]
     },
     "execution_count": 2,
     "metadata": {},
     "output_type": "execute_result"
    }
   ],
   "source": [
    "sb = relay.ScopeBuilder()\n",
    "cond = relay.var(\"cond\", 'bool')\n",
    "x = relay.var(\"x\")\n",
    "y = relay.var(\"y\")\n",
    "\n",
    "with sb.if_scope(cond):\n",
    "    one = relay.const(1, \"float32\")\n",
    "    t1 = sb.let(\"t1\", relay.add(x, one))\n",
    "    sb.ret(t1)\n",
    "with sb.else_scope():\n",
    "    sb.ret(y)\n",
    "f = relay.Function([x, y, cond], sb.get())\n",
    "f"
   ]
  }
 ],
 "metadata": {
  "kernelspec": {
   "display_name": "Python 3.8.13 ('py38': conda)",
   "language": "python",
   "name": "python3"
  },
  "language_info": {
   "codemirror_mode": {
    "name": "ipython",
    "version": 3
   },
   "file_extension": ".py",
   "mimetype": "text/x-python",
   "name": "python",
   "nbconvert_exporter": "python",
   "pygments_lexer": "ipython3",
   "version": "3.8.13"
  },
  "orig_nbformat": 4,
  "vscode": {
   "interpreter": {
    "hash": "28558e8daad512806f5c536a1a04c119185f99f65b79002708a12162d02a79c7"
   }
  }
 },
 "nbformat": 4,
 "nbformat_minor": 2
}
