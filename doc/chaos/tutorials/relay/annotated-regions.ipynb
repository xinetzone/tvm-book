{
 "cells": [
  {
   "cell_type": "markdown",
   "metadata": {},
   "source": [
    "# 注解区域"
   ]
  },
  {
   "cell_type": "code",
   "execution_count": 1,
   "metadata": {},
   "outputs": [],
   "source": [
    "import tvm\n",
    "from tvm import relay\n",
    "from tvm.relay.op.annotation import compiler_begin, compiler_end\n",
    "\n",
    "def check_region(region_set, target, args, nodes, rets):\n",
    "    region = region_set.get_region(args[0])\n",
    "    assert region\n",
    "    assert target == region.target\n",
    "    assert set(args) == set(region.args)\n",
    "    assert set(nodes) == set(region.nodes)\n",
    "    assert set(rets) == set(region.rets)"
   ]
  },
  {
   "cell_type": "markdown",
   "metadata": {},
   "source": [
    "## 菱形区域"
   ]
  },
  {
   "cell_type": "code",
   "execution_count": 2,
   "metadata": {},
   "outputs": [],
   "source": [
    "data = relay.var(\"data\", shape=(10, 10))\n",
    "cb_1 = compiler_begin(data, \"test_target\")\n",
    "O_1 = relay.abs(cb_1)\n",
    "ce_1 = compiler_end(O_1, \"test_target\")\n",
    "ce_2 = compiler_end(O_1, \"test_target\")\n",
    "cb_2 = compiler_begin(ce_1, \"test_target\")\n",
    "O_2 = relay.nn.relu(cb_2)\n",
    "ce_3 = compiler_end(O_2, \"test_target\")\n",
    "cb_d = compiler_begin(ce_2, \"default\")\n",
    "X = relay.tanh(cb_d)\n",
    "ce_d = compiler_end(X, \"default\")\n",
    "cb_3 = compiler_begin(ce_3, \"test_target\")\n",
    "cb_4 = compiler_begin(ce_d, \"test_target\")\n",
    "O_3 = relay.add(cb_3, cb_4)\n",
    "ce_4 = compiler_end(O_3, \"test_target\")\n",
    "diamond = relay.Function([data], ce_4)"
   ]
  },
  {
   "cell_type": "code",
   "execution_count": 5,
   "metadata": {},
   "outputs": [],
   "source": [
    "region_set = relay.analysis.AnnotatedRegionSet(\n",
    "    diamond,\n",
    "    relay.op.get(\"annotation.compiler_begin\"), \n",
    "    relay.op.get(\"annotation.compiler_end\")\n",
    ")"
   ]
  },
  {
   "cell_type": "code",
   "execution_count": 8,
   "metadata": {},
   "outputs": [],
   "source": [
    "assert len(region_set) == 4\n",
    "check_region(\n",
    "    region_set,\n",
    "    \"test_target\",\n",
    "    [cb_1],\n",
    "    [cb_1, O_1, ce_1, ce_2],\n",
    "    [ce_1, ce_2],\n",
    ")\n",
    "check_region(\n",
    "    region_set,\n",
    "    \"test_target\",\n",
    "    [cb_2],\n",
    "    [cb_2, O_2, ce_3],\n",
    "    [ce_3],\n",
    ")\n",
    "check_region(\n",
    "    region_set,\n",
    "    \"default\",\n",
    "    [cb_d],\n",
    "    [cb_d, X, ce_d],\n",
    "    [ce_d],\n",
    ")\n",
    "check_region(\n",
    "    region_set,\n",
    "    \"test_target\",\n",
    "    [cb_3, cb_4],\n",
    "    [cb_3, cb_4, O_3, ce_4],\n",
    "    [ce_4],\n",
    ")"
   ]
  },
  {
   "cell_type": "markdown",
   "metadata": {},
   "source": [
    "## 区域合并"
   ]
  },
  {
   "cell_type": "code",
   "execution_count": 9,
   "metadata": {},
   "outputs": [],
   "source": [
    "data = relay.var(\"data\", shape=(10, 10))\n",
    "cb_1 = compiler_begin(data, \"test_target\")\n",
    "O_1 = relay.abs(cb_1)\n",
    "ce_2 = compiler_end(O_1, \"test_target\")\n",
    "O_2 = relay.nn.relu(O_1)\n",
    "ce_3 = compiler_end(O_2, \"test_target\")\n",
    "cb_d = compiler_begin(ce_2, \"default\")\n",
    "X = relay.tanh(cb_d)\n",
    "ce_d = compiler_end(X, \"default\")\n",
    "cb_3 = compiler_begin(ce_3, \"test_target\")\n",
    "cb_4 = compiler_begin(ce_d, \"test_target\")\n",
    "O_3 = relay.add(cb_3, cb_4)\n",
    "O_4 = relay.add(cb_3, cb_4)\n",
    "O_5 = relay.Tuple([O_3, O_4])\n",
    "ce_4 = compiler_end(O_5, \"test_target\")\n",
    "merged = relay.Function([data], ce_4)"
   ]
  },
  {
   "cell_type": "code",
   "execution_count": 10,
   "metadata": {},
   "outputs": [],
   "source": [
    "region_set = relay.analysis.AnnotatedRegionSet(\n",
    "    merged, relay.op.get(\"annotation.compiler_begin\"), relay.op.get(\"annotation.compiler_end\")\n",
    ")"
   ]
  },
  {
   "cell_type": "code",
   "execution_count": 11,
   "metadata": {},
   "outputs": [],
   "source": [
    "assert len(region_set) == 3\n",
    "check_region(\n",
    "    region_set,\n",
    "    \"test_target\",\n",
    "    [cb_1],\n",
    "    [cb_1, O_1, O_2, ce_2, ce_3],\n",
    "    [ce_2, ce_3],\n",
    ")\n",
    "check_region(\n",
    "    region_set,\n",
    "    \"default\",\n",
    "    [cb_d],\n",
    "    [cb_d, X, ce_d],\n",
    "    [ce_d],\n",
    ")\n",
    "check_region(\n",
    "    region_set,\n",
    "    \"test_target\",\n",
    "    [cb_3, cb_4],\n",
    "    [cb_3, cb_4, O_3, O_4, O_5, ce_4],\n",
    "    [ce_4],\n",
    ")"
   ]
  },
  {
   "cell_type": "code",
   "execution_count": null,
   "metadata": {},
   "outputs": [],
   "source": []
  }
 ],
 "metadata": {
  "kernelspec": {
   "display_name": "tvmz",
   "language": "python",
   "name": "python3"
  },
  "language_info": {
   "codemirror_mode": {
    "name": "ipython",
    "version": 3
   },
   "file_extension": ".py",
   "mimetype": "text/x-python",
   "name": "python",
   "nbconvert_exporter": "python",
   "pygments_lexer": "ipython3",
   "version": "3.10.12"
  },
  "orig_nbformat": 4
 },
 "nbformat": 4,
 "nbformat_minor": 2
}
