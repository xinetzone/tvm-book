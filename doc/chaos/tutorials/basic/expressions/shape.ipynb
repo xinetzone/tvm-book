{
 "cells": [
  {
   "cell_type": "markdown",
   "metadata": {},
   "source": [
    "# 张量形状"
   ]
  },
  {
   "cell_type": "code",
   "execution_count": null,
   "metadata": {},
   "outputs": [],
   "source": [
    "%cd ../..\n",
    "import set_env"
   ]
  },
  {
   "cell_type": "code",
   "execution_count": 2,
   "metadata": {},
   "outputs": [],
   "source": [
    "import numpy as np\n",
    "import tvm\n",
    "from tvm import te"
   ]
  },
  {
   "cell_type": "markdown",
   "metadata": {},
   "source": [
    "## 重构形状\n",
    "\n",
    "```{note}\n",
    "$n$-D 数组在内存中实际上是作为 $1$-D 数组列出的，重构形状生成的代码并不重新排列数据序列，以提高效率。\n",
    "```"
   ]
  },
  {
   "cell_type": "markdown",
   "metadata": {},
   "source": [
    "`reshape` 运算可以抽象为以下数学形式。\n",
    "\n",
    "对于任意的 $\\mathbf{x}_i = (x_0^{i}, \\cdots, x_{n-1}^{i})^T \\in \\mathbb{R}^n$，有 $\\mathbf{X} = (\\mathbf{x}_0, \\cdots, \\mathbf{x}_{m-1})^T \\in \\mathbb{R}^{m \\times n}$，即\n",
    "\n",
    "$$\n",
    "\\mathbf{X} = \\begin{bmatrix}\n",
    "x_0^{0} & x_1^{0} & \\cdots & x_{n-1}^{0}\\\\\n",
    "x_0^{1} & x_1^{1} & \\cdots & x_{n-1}^{1}\\\\\n",
    "\\vdots & \\vdots & \\ddots & \\vdots \\\\\n",
    "x_0^{m-1} & x_1^{m-1} & \\cdots & x_{n-1}^{m-1}\\\\\n",
    "\\end{bmatrix} = (X_{ij})_{m \\times n}\n",
    "$$\n",
    "\n",
    "可以倒过来思考：存在 $\\mathbf{y} = (x_0, \\cdots, x_{k-1})^T \\in \\mathbb{R}^{k}$，将其分成 $m$ 份，便有 $\\{\\mathbf{x}_i\\}_0^{m-1}$，这样，$\\mathbf{y}$ 与 $\\mathbf{X}$ 便建立映射关系：\n",
    "\n",
    "$$\n",
    "\\mathbf{y}_t = \\mathbf{X}_{ni+j}\n",
    "$$\n",
    "\n",
    "或者索引表示为 `i, j = t//n, t%n`。"
   ]
  },
  {
   "cell_type": "markdown",
   "metadata": {},
   "source": [
    "比如，将 $(m, n)$ 矩阵重构为 $(mn,)$："
   ]
  },
  {
   "cell_type": "code",
   "execution_count": 3,
   "metadata": {},
   "outputs": [],
   "source": [
    "n = te.var('n')\n",
    "m = te.var('m')\n",
    "A = te.placeholder((m, n), name='A')\n",
    "B = te.compute((m*n,), lambda i: A[i//n, i%n], 'B')\n",
    "te_func = te.create_prim_func([A, B])\n",
    "mod = tvm.build(te_func, target=\"llvm\")"
   ]
  },
  {
   "cell_type": "code",
   "execution_count": 4,
   "metadata": {},
   "outputs": [
    {
     "data": {
      "text/plain": [
       "(array([[ 0.,  1.,  2.,  3.],\n",
       "        [ 4.,  5.,  6.,  7.],\n",
       "        [ 8.,  9., 10., 11.]], dtype=float32),\n",
       " array([ 0.,  1.,  2.,  3.,  4.,  5.,  6.,  7.,  8.,  9., 10., 11.],\n",
       "       dtype=float32))"
      ]
     },
     "execution_count": 4,
     "metadata": {},
     "output_type": "execute_result"
    }
   ],
   "source": [
    "a_np = np.arange(12, dtype='float32').reshape((3, 4))\n",
    "b_np = a_np.reshape(-1) # 基准结果\n",
    "a_np, b_np"
   ]
  },
  {
   "cell_type": "code",
   "execution_count": 5,
   "metadata": {},
   "outputs": [
    {
     "data": {
      "text/plain": [
       "<tvm.nd.NDArray shape=(12,), cpu(0)>\n",
       "array([ 0.,  1.,  2.,  3.,  4.,  5.,  6.,  7.,  8.,  9., 10., 11.],\n",
       "      dtype=float32)"
      ]
     },
     "execution_count": 5,
     "metadata": {},
     "output_type": "execute_result"
    }
   ],
   "source": [
    "a_nd = tvm.nd.array(a_np)\n",
    "b_nd = tvm.nd.empty(b_np.shape)\n",
    "mod(a_nd, b_nd)\n",
    "b_nd"
   ]
  },
  {
   "cell_type": "markdown",
   "metadata": {},
   "source": [
    "也可以实现一般的二维重构函数。"
   ]
  },
  {
   "cell_type": "code",
   "execution_count": 6,
   "metadata": {},
   "outputs": [
    {
     "data": {
      "text/html": [
       "<div class=\"highlight\" style=\"background: \"><pre style=\"line-height: 125%;\"><span></span><span style=\"color: #007979; font-style: italic\"># from tvm.script import tir as T</span>\n",
       "<span style=\"color: #AA22FF\">@T</span><span style=\"color: #AA22FF; font-weight: bold\">.</span>prim_func\n",
       "<span style=\"color: #008000; font-weight: bold\">def</span> <span style=\"color: #0000FF\">func</span>(var_A: T<span style=\"color: #AA22FF; font-weight: bold\">.</span>handle, var_B: T<span style=\"color: #AA22FF; font-weight: bold\">.</span>handle):\n",
       "    <span style=\"color: #007979; font-style: italic\"># function attr dict</span>\n",
       "    T<span style=\"color: #AA22FF; font-weight: bold\">.</span>func_attr({<span style=\"color: #BA2121\">&quot;global_symbol&quot;</span>: <span style=\"color: #BA2121\">&quot;main&quot;</span>, <span style=\"color: #BA2121\">&quot;tir.noalias&quot;</span>: <span style=\"color: #008000; font-weight: bold\">True</span>})\n",
       "    m <span style=\"color: #AA22FF; font-weight: bold\">=</span> T<span style=\"color: #AA22FF; font-weight: bold\">.</span>var(<span style=\"color: #BA2121\">&quot;int32&quot;</span>)\n",
       "    n <span style=\"color: #AA22FF; font-weight: bold\">=</span> T<span style=\"color: #AA22FF; font-weight: bold\">.</span>var(<span style=\"color: #BA2121\">&quot;int32&quot;</span>)\n",
       "    p <span style=\"color: #AA22FF; font-weight: bold\">=</span> T<span style=\"color: #AA22FF; font-weight: bold\">.</span>var(<span style=\"color: #BA2121\">&quot;int32&quot;</span>)\n",
       "    q <span style=\"color: #AA22FF; font-weight: bold\">=</span> T<span style=\"color: #AA22FF; font-weight: bold\">.</span>var(<span style=\"color: #BA2121\">&quot;int32&quot;</span>)\n",
       "    A <span style=\"color: #AA22FF; font-weight: bold\">=</span> T<span style=\"color: #AA22FF; font-weight: bold\">.</span>match_buffer(var_A, [m, n], dtype<span style=\"color: #AA22FF; font-weight: bold\">=</span><span style=\"color: #BA2121\">&quot;float32&quot;</span>)\n",
       "    B <span style=\"color: #AA22FF; font-weight: bold\">=</span> T<span style=\"color: #AA22FF; font-weight: bold\">.</span>match_buffer(var_B, [p, q], dtype<span style=\"color: #AA22FF; font-weight: bold\">=</span><span style=\"color: #BA2121\">&quot;float32&quot;</span>)\n",
       "    <span style=\"color: #007979; font-style: italic\"># body</span>\n",
       "    <span style=\"color: #007979; font-style: italic\"># with T.block(&quot;root&quot;)</span>\n",
       "    <span style=\"color: #008000; font-weight: bold\">for</span> i0, i1 <span style=\"color: #008000; font-weight: bold\">in</span> T<span style=\"color: #AA22FF; font-weight: bold\">.</span>grid(p, q):\n",
       "        <span style=\"color: #008000; font-weight: bold\">with</span> T<span style=\"color: #AA22FF; font-weight: bold\">.</span>block(<span style=\"color: #BA2121\">&quot;B&quot;</span>):\n",
       "            i, j <span style=\"color: #AA22FF; font-weight: bold\">=</span> T<span style=\"color: #AA22FF; font-weight: bold\">.</span>axis<span style=\"color: #AA22FF; font-weight: bold\">.</span>remap(<span style=\"color: #BA2121\">&quot;SS&quot;</span>, [i0, i1])\n",
       "            T<span style=\"color: #AA22FF; font-weight: bold\">.</span>reads(A[(i <span style=\"color: #AA22FF; font-weight: bold\">*</span> q <span style=\"color: #AA22FF; font-weight: bold\">+</span> j) <span style=\"color: #AA22FF; font-weight: bold\">//</span> n, (i <span style=\"color: #AA22FF; font-weight: bold\">*</span> q <span style=\"color: #AA22FF; font-weight: bold\">+</span> j) <span style=\"color: #AA22FF; font-weight: bold\">%</span> n])\n",
       "            T<span style=\"color: #AA22FF; font-weight: bold\">.</span>writes(B[i, j])\n",
       "            B[i, j] <span style=\"color: #AA22FF; font-weight: bold\">=</span> A[(i <span style=\"color: #AA22FF; font-weight: bold\">*</span> q <span style=\"color: #AA22FF; font-weight: bold\">+</span> j) <span style=\"color: #AA22FF; font-weight: bold\">//</span> n, (i <span style=\"color: #AA22FF; font-weight: bold\">*</span> q <span style=\"color: #AA22FF; font-weight: bold\">+</span> j) <span style=\"color: #AA22FF; font-weight: bold\">%</span> n]\n",
       "</pre></div>\n"
      ],
      "text/plain": [
       "<IPython.core.display.HTML object>"
      ]
     },
     "metadata": {},
     "output_type": "display_data"
    }
   ],
   "source": [
    "p, q = te.var('p'), te.var('q')\n",
    "B = te.compute((p, q), lambda i, j: A[(i*q+j)//n, (i*q+j)%n], name='B')\n",
    "te_func = te.create_prim_func([A, B])\n",
    "rt_lib = tvm.build(te_func, target=\"llvm\")\n",
    "te_func.show()"
   ]
  },
  {
   "cell_type": "code",
   "execution_count": 7,
   "metadata": {},
   "outputs": [
    {
     "data": {
      "text/plain": [
       "<tvm.nd.NDArray shape=(4, 3), cpu(0)>\n",
       "array([[ 0.,  1.,  2.],\n",
       "       [ 3.,  4.,  5.],\n",
       "       [ 6.,  7.,  8.],\n",
       "       [ 9., 10., 11.]], dtype=float32)"
      ]
     },
     "execution_count": 7,
     "metadata": {},
     "output_type": "execute_result"
    }
   ],
   "source": [
    "b_np = a_np.reshape(4, 3) # 基准结果\n",
    "a_nd = tvm.nd.array(a_np)\n",
    "b_nd = tvm.nd.empty(b_np.shape, dtype=\"float32\")\n",
    "\n",
    "rt_lib(a_nd, b_nd)\n",
    "b_nd"
   ]
  },
  {
   "cell_type": "markdown",
   "metadata": {},
   "source": [
    "```{warning}\n",
    "在测试结果时，应该意识到，没有对输出形状施加约束，它可以有任意形状 `(p, q)`，因此 TVM 将无法检查 $qp = nm$。例如，在下面的例子中，创建了 `b`，其尺寸 (20) 比 `a` (12) 大，那么 `b` 中只有前 12 个元素来自 `a` ，其他的都是未初始化的值。\n",
    "```"
   ]
  },
  {
   "cell_type": "code",
   "execution_count": 8,
   "metadata": {},
   "outputs": [
    {
     "name": "stdout",
     "output_type": "stream",
     "text": [
      "[[0.0000000e+00 1.0000000e+00 2.0000000e+00 3.0000000e+00]\n",
      " [4.0000000e+00 5.0000000e+00 6.0000000e+00 7.0000000e+00]\n",
      " [8.0000000e+00 9.0000000e+00 1.0000000e+01 1.1000000e+01]\n",
      " [2.7418247e-27 3.0614168e-41 1.5834673e-43 0.0000000e+00]\n",
      " [2.8213425e-27 3.0614168e-41 9.9344688e+32 4.5815453e-41]]\n"
     ]
    }
   ],
   "source": [
    "a_np = np.arange(12, dtype='float32').reshape((3, 4))\n",
    "a_nd = tvm.nd.array(a_np)\n",
    "b_nd = tvm.nd.empty((5, 4), dtype=\"float32\")\n",
    "rt_lib(a_nd, b_nd)\n",
    "print(b_nd)"
   ]
  },
  {
   "cell_type": "markdown",
   "metadata": {},
   "source": [
    "## 切片\n",
    "\n",
    "考虑特殊的切片算子 `a[bi::si, bj::sj]`，其中 `bi`，`bj`，`si` 和 `sj` 可以稍后指定。现在需要根据参数计算输出形状。此外，需要在编译模块时将变量 `bi`，`bj`，`si` 和 `sj` 作为参数传递。"
   ]
  },
  {
   "cell_type": "code",
   "execution_count": 9,
   "metadata": {},
   "outputs": [
    {
     "data": {
      "text/html": [
       "<div class=\"highlight\" style=\"background: \"><pre style=\"line-height: 125%;\"><span></span><span style=\"color: #007979; font-style: italic\"># from tvm.script import tir as T</span>\n",
       "<span style=\"color: #AA22FF\">@T</span><span style=\"color: #AA22FF; font-weight: bold\">.</span>prim_func\n",
       "<span style=\"color: #008000; font-weight: bold\">def</span> <span style=\"color: #0000FF\">func</span>(var_A: T<span style=\"color: #AA22FF; font-weight: bold\">.</span>handle, var_B: T<span style=\"color: #AA22FF; font-weight: bold\">.</span>handle):\n",
       "    <span style=\"color: #007979; font-style: italic\"># function attr dict</span>\n",
       "    T<span style=\"color: #AA22FF; font-weight: bold\">.</span>func_attr({<span style=\"color: #BA2121\">&quot;global_symbol&quot;</span>: <span style=\"color: #BA2121\">&quot;main&quot;</span>, <span style=\"color: #BA2121\">&quot;tir.noalias&quot;</span>: <span style=\"color: #008000; font-weight: bold\">True</span>})\n",
       "    bi <span style=\"color: #AA22FF; font-weight: bold\">=</span> T<span style=\"color: #AA22FF; font-weight: bold\">.</span>var(<span style=\"color: #BA2121\">&quot;int32&quot;</span>)\n",
       "    bj <span style=\"color: #AA22FF; font-weight: bold\">=</span> T<span style=\"color: #AA22FF; font-weight: bold\">.</span>var(<span style=\"color: #BA2121\">&quot;int32&quot;</span>)\n",
       "    m <span style=\"color: #AA22FF; font-weight: bold\">=</span> T<span style=\"color: #AA22FF; font-weight: bold\">.</span>var(<span style=\"color: #BA2121\">&quot;int32&quot;</span>)\n",
       "    n <span style=\"color: #AA22FF; font-weight: bold\">=</span> T<span style=\"color: #AA22FF; font-weight: bold\">.</span>var(<span style=\"color: #BA2121\">&quot;int32&quot;</span>)\n",
       "    si <span style=\"color: #AA22FF; font-weight: bold\">=</span> T<span style=\"color: #AA22FF; font-weight: bold\">.</span>var(<span style=\"color: #BA2121\">&quot;int32&quot;</span>)\n",
       "    sj <span style=\"color: #AA22FF; font-weight: bold\">=</span> T<span style=\"color: #AA22FF; font-weight: bold\">.</span>var(<span style=\"color: #BA2121\">&quot;int32&quot;</span>)\n",
       "    A <span style=\"color: #AA22FF; font-weight: bold\">=</span> T<span style=\"color: #AA22FF; font-weight: bold\">.</span>match_buffer(var_A, [m, n], dtype<span style=\"color: #AA22FF; font-weight: bold\">=</span><span style=\"color: #BA2121\">&quot;float32&quot;</span>)\n",
       "    B <span style=\"color: #AA22FF; font-weight: bold\">=</span> T<span style=\"color: #AA22FF; font-weight: bold\">.</span>match_buffer(var_B, [(m <span style=\"color: #AA22FF; font-weight: bold\">-</span> bi) <span style=\"color: #AA22FF; font-weight: bold\">//</span> si, (n <span style=\"color: #AA22FF; font-weight: bold\">-</span> bj) <span style=\"color: #AA22FF; font-weight: bold\">//</span> sj], dtype<span style=\"color: #AA22FF; font-weight: bold\">=</span><span style=\"color: #BA2121\">&quot;float32&quot;</span>)\n",
       "    <span style=\"color: #007979; font-style: italic\"># body</span>\n",
       "    <span style=\"color: #007979; font-style: italic\"># with T.block(&quot;root&quot;)</span>\n",
       "    <span style=\"color: #008000; font-weight: bold\">for</span> i0, i1 <span style=\"color: #008000; font-weight: bold\">in</span> T<span style=\"color: #AA22FF; font-weight: bold\">.</span>grid((m <span style=\"color: #AA22FF; font-weight: bold\">-</span> bi) <span style=\"color: #AA22FF; font-weight: bold\">//</span> si, (n <span style=\"color: #AA22FF; font-weight: bold\">-</span> bj) <span style=\"color: #AA22FF; font-weight: bold\">//</span> sj):\n",
       "        <span style=\"color: #008000; font-weight: bold\">with</span> T<span style=\"color: #AA22FF; font-weight: bold\">.</span>block(<span style=\"color: #BA2121\">&quot;B&quot;</span>):\n",
       "            i, j <span style=\"color: #AA22FF; font-weight: bold\">=</span> T<span style=\"color: #AA22FF; font-weight: bold\">.</span>axis<span style=\"color: #AA22FF; font-weight: bold\">.</span>remap(<span style=\"color: #BA2121\">&quot;SS&quot;</span>, [i0, i1])\n",
       "            T<span style=\"color: #AA22FF; font-weight: bold\">.</span>reads(A[i <span style=\"color: #AA22FF; font-weight: bold\">*</span> si <span style=\"color: #AA22FF; font-weight: bold\">+</span> bi, j <span style=\"color: #AA22FF; font-weight: bold\">*</span> sj <span style=\"color: #AA22FF; font-weight: bold\">+</span> bj])\n",
       "            T<span style=\"color: #AA22FF; font-weight: bold\">.</span>writes(B[i, j])\n",
       "            B[i, j] <span style=\"color: #AA22FF; font-weight: bold\">=</span> A[i <span style=\"color: #AA22FF; font-weight: bold\">*</span> si <span style=\"color: #AA22FF; font-weight: bold\">+</span> bi, j <span style=\"color: #AA22FF; font-weight: bold\">*</span> sj <span style=\"color: #AA22FF; font-weight: bold\">+</span> bj]\n",
       "</pre></div>\n"
      ],
      "text/plain": [
       "<IPython.core.display.HTML object>"
      ]
     },
     "metadata": {},
     "output_type": "display_data"
    }
   ],
   "source": [
    "bi, bj = te.var(\"bi\"), te.var(\"bj\")\n",
    "si, sj = te.var(\"si\"), te.var(\"sj\")\n",
    "B = te.compute(((m-bi)//si, (n-bj)//sj),\n",
    "               lambda i, j: A[i*si+bi, j*sj+bj],\n",
    "               name='B')\n",
    "te_func = te.create_prim_func([A, B])\n",
    "te_func.show()"
   ]
  },
  {
   "cell_type": "code",
   "execution_count": 10,
   "metadata": {},
   "outputs": [],
   "source": [
    "sch = te.create_schedule(B.op)\n",
    "mod = tvm.build(sch, [A, B, bi, si, bj, sj])\n",
    "b_nd = tvm.nd.array(np.empty((1, 3), dtype='float32'))\n",
    "mod(a_nd, b_nd, 1, 2, 1, 1)\n",
    "np.testing.assert_equal(b_nd.numpy(), a_nd.numpy()[1::2, 1::1])\n",
    "\n",
    "b_nd = tvm.nd.array(np.empty((1, 2), dtype='float32'))\n",
    "mod(a_nd, b_nd, 2, 1, 0, 2)\n",
    "np.testing.assert_equal(b_nd.numpy(), a_nd.numpy()[2::1, 0::2])"
   ]
  }
 ],
 "metadata": {
  "kernelspec": {
   "display_name": "Python 3.10.4 ('tvmx': conda)",
   "language": "python",
   "name": "python3"
  },
  "language_info": {
   "codemirror_mode": {
    "name": "ipython",
    "version": 3
   },
   "file_extension": ".py",
   "mimetype": "text/x-python",
   "name": "python",
   "nbconvert_exporter": "python",
   "pygments_lexer": "ipython3",
   "version": "3.10.4"
  },
  "orig_nbformat": 4,
  "vscode": {
   "interpreter": {
    "hash": "e579259ee6098e2b9319de590d145b4b096774fe457bdf04260e3ba5c171e887"
   }
  }
 },
 "nbformat": 4,
 "nbformat_minor": 2
}
