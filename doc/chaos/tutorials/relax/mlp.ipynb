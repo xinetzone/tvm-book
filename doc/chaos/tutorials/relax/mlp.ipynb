{
 "cells": [
  {
   "cell_type": "markdown",
   "metadata": {},
   "source": [
    "# MLP Relax 模型"
   ]
  },
  {
   "cell_type": "code",
   "execution_count": null,
   "metadata": {},
   "outputs": [],
   "source": [
    "import tvm\n",
    "from tvm import relax, tir, topi\n",
    "import numpy as np\n",
    "\n",
    "\n",
    "def build_mlp(data, weight):\n",
    "    bb = relax.BlockBuilder()\n",
    "\n",
    "    with bb.function(\"mlp\", [data, weight]):\n",
    "        gv0 = bb.emit_te(tvm.contrib.cblas.matmul, data, weight, transa=False, transb=False)\n",
    "        gv1 = bb.emit_te(topi.nn.relu, gv0)\n",
    "        bb.emit_func_output(gv1)\n",
    "\n",
    "    mod = bb.get()\n",
    "    return mod"
   ]
  },
  {
   "cell_type": "code",
   "execution_count": null,
   "metadata": {},
   "outputs": [],
   "source": [
    "# symbolic dimensions\n",
    "n, m = tir.Var(\"n\", \"int64\"), tir.Var(\"m\", \"int64\")\n",
    "# create data and weight variables\n",
    "data = relax.Var(\"data\", relax.TensorStructInfo([n, m], \"float32\"))\n",
    "weight = relax.Var(\"weight\", relax.TensorStructInfo([m, n], \"float32\"))\n",
    "\n",
    "# construct a mlp model\n",
    "mod = build_mlp(data, weight)\n",
    "\n",
    "# build and create vm executor\n",
    "target = tvm.target.Target(\"llvm\", host=\"llvm\")\n",
    "ex = relax.build(mod, target)\n",
    "vm = relax.VirtualMachine(ex, tvm.cpu())\n",
    "\n",
    "# run the mlp model on relax vm\n",
    "data = tvm.nd.array(np.random.rand(16, 32).astype(np.float32))\n",
    "weight = tvm.nd.array(np.random.rand(32, 16).astype(np.float32))\n",
    "res = vm[\"mlp\"](data, weight)\n",
    "print(res)"
   ]
  }
 ],
 "metadata": {
  "kernelspec": {
   "display_name": "tvmx",
   "language": "python",
   "name": "python3"
  },
  "language_info": {
   "codemirror_mode": {
    "name": "ipython",
    "version": 3
   },
   "file_extension": ".py",
   "mimetype": "text/x-python",
   "name": "python",
   "nbconvert_exporter": "python",
   "pygments_lexer": "ipython3",
   "version": "3.10.9"
  },
  "orig_nbformat": 4
 },
 "nbformat": 4,
 "nbformat_minor": 2
}
