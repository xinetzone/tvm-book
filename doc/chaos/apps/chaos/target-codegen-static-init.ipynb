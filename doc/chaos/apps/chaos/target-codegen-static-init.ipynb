{
 "cells": [
  {
   "cell_type": "markdown",
   "metadata": {},
   "source": [
    "# target-codegen-static-init"
   ]
  },
  {
   "cell_type": "code",
   "execution_count": 1,
   "metadata": {},
   "outputs": [],
   "source": [
    "import tvm\n",
    "from tvm import te\n",
    "import ctypes\n",
    "import numpy as np"
   ]
  },
  {
   "cell_type": "markdown",
   "metadata": {},
   "source": [
    "## static_callback"
   ]
  },
  {
   "cell_type": "code",
   "execution_count": 2,
   "metadata": {},
   "outputs": [],
   "source": [
    "dtype = \"int64\"\n",
    "n = te.size_var(\"n\")\n",
    "Ab = tvm.tir.decl_buffer((n,), dtype)\n",
    "i = te.size_var(\"i\")\n",
    "ib = tvm.tir.ir_builder.create()\n",
    "A = ib.buffer_ptr(Ab)\n",
    "cp = te.thread_axis((0, 1), \"cop\")\n",
    "finit = tvm.tir.StringImm(\"TVMBackendRunOnce\")\n",
    "ib.scope_attr(cp, \"coproc_uop_scope\", finit)\n",
    "with ib.for_range(0, n, \"i\", kind=\"parallel\") as i:\n",
    "    A[i] = A[i] + 1\n",
    "stmt = ib.get()\n",
    "\n",
    "mod = tvm.IRModule.from_expr(tvm.tir.PrimFunc([Ab], stmt).with_attr(\"global_symbol\", \"ramp\"))\n",
    "f = tvm.driver.build(mod, target=\"llvm\")\n",
    "a = tvm.nd.array(np.zeros(10, dtype=dtype))\n",
    "f(a)\n",
    "f(a)\n",
    "np.testing.assert_equal(a.numpy(), np.ones(a.shape[0]))"
   ]
  },
  {
   "cell_type": "markdown",
   "metadata": {},
   "source": [
    "## static_init"
   ]
  },
  {
   "cell_type": "code",
   "execution_count": 3,
   "metadata": {},
   "outputs": [],
   "source": [
    "dtype = \"int64\"\n",
    "n = te.size_var(\"n\")\n",
    "Ab = tvm.tir.decl_buffer((n,), dtype)\n",
    "i = te.size_var(\"i\")\n",
    "ib = tvm.tir.ir_builder.create()\n",
    "handle = tvm.tir.call_intrin(\"handle\", \"tir.tvm_static_handle\")\n",
    "ib.emit(tvm.tir.call_packed(\"test_static_callback\", handle, Ab))\n",
    "\n",
    "@tvm.register_func(\"test_static_callback\")\n",
    "def test_cb(sh, A):\n",
    "    assert isinstance(sh, ctypes.c_void_p)\n",
    "    return sh\n",
    "\n",
    "stmt = ib.get()\n",
    "mod = tvm.IRModule.from_expr(tvm.tir.PrimFunc([Ab], stmt).with_attr(\"global_symbol\", \"ramp\"))\n",
    "f = tvm.driver.build(mod, target=\"llvm\")\n",
    "a = tvm.nd.array(np.zeros(10, dtype=dtype))\n",
    "f(a)"
   ]
  },
  {
   "cell_type": "code",
   "execution_count": null,
   "metadata": {},
   "outputs": [],
   "source": []
  }
 ],
 "metadata": {
  "kernelspec": {
   "display_name": "tvmz",
   "language": "python",
   "name": "python3"
  },
  "language_info": {
   "codemirror_mode": {
    "name": "ipython",
    "version": 3
   },
   "file_extension": ".py",
   "mimetype": "text/x-python",
   "name": "python",
   "nbconvert_exporter": "python",
   "pygments_lexer": "ipython3",
   "version": "3.10.12"
  }
 },
 "nbformat": 4,
 "nbformat_minor": 2
}
