{
 "cells": [
  {
   "cell_type": "markdown",
   "metadata": {},
   "source": [
    "# 分析 TVM 自动量化结果"
   ]
  },
  {
   "cell_type": "code",
   "execution_count": null,
   "metadata": {},
   "outputs": [],
   "source": [
    "import numpy as np\n",
    "from tvm import relay\n",
    "import tvm\n",
    "from tvm_book.tvm_utils.llvm_utils import run_llvm_graph\n",
    "from tqdm import tqdm\n",
    "from tvm_book.tvm_utils.relay_pattern import *\n",
    "\n",
    "def load_model(input_shape=[1, 3, 224, 224]):\n",
    "    \"\"\"加载前端模型\"\"\"\n",
    "    import torch\n",
    "    from torchvision.models import mobilenet_v2 as model\n",
    "    from torchvision.models.mobilenet import MobileNet_V2_Weights\n",
    "    model = model(weights=MobileNet_V2_Weights.IMAGENET1K_V1)\n",
    "    data = torch.randn(*input_shape)\n",
    "    return torch.jit.trace(model.eval(), data)\n",
    "\n",
    "size = 224, 224\n",
    "input_shape = (1, 3, *size)\n",
    "input_name = \"data\"\n",
    "traced_model = load_model(input_shape).eval()\n",
    "# 将前端模型翻译为 relay 模型\n",
    "origin_mod, origin_params = relay.frontend.from_pytorch(traced_model, [(input_name, input_shape)])"
   ]
  },
  {
   "cell_type": "markdown",
   "metadata": {},
   "source": [
    "先以 `mod` 子图为例研究定义量化过程："
   ]
  },
  {
   "cell_type": "code",
   "execution_count": null,
   "metadata": {},
   "outputs": [],
   "source": [
    "from tvm_book.tvm_utils.split_graph import graph_split\n",
    "\n",
    "split_conf = [{\"op_name\": \"clip\", \"op_index\": 1}]\n",
    "mod = graph_split(origin_mod[\"main\"], split_conf)[0]\n",
    "print(mod[\"main\"])"
   ]
  },
  {
   "cell_type": "markdown",
   "metadata": {},
   "source": [
    "记录量化过程："
   ]
  },
  {
   "cell_type": "code",
   "execution_count": null,
   "metadata": {},
   "outputs": [],
   "source": [
    "# 定义校准数据集\n",
    "def data_iter(input_name, input_shape, num=1):\n",
    "    for _ in range(num):\n",
    "        yield {input_name: np.random.normal(size=input_shape)}\n",
    "\n",
    "dataset = data_iter(input_name, input_shape)\n",
    "\n",
    "calibrate_pass = tvm.transform.module_pass(\n",
    "    relay.quantize.calibrate(dataset), opt_level=1, name=\"QuantizeCalibrate\"\n",
    ")\n",
    "\n",
    "with tvm.transform.PassContext(opt_level=3):\n",
    "    with relay.quantize.qconfig(\n",
    "        calibrate_mode=\"kl_divergence\",\n",
    "        weight_scale=\"max\",\n",
    "        skip_conv_layers=[],\n",
    "        skip_dense_layer=False\n",
    "    ):\n",
    "        # 量化前准备\n",
    "        opt_mod = relay.quantize.prerequisite_optimize(mod, origin_params)\n",
    "        # 划分计算图\n",
    "        partition_mod = relay.quantize.partition()(opt_mod)\n",
    "        # 注解计算图\n",
    "        annotate_mod = relay.quantize.annotate()(partition_mod)\n",
    "        # 校准量化\n",
    "        calibrate_mod = calibrate_pass(annotate_mod)\n",
    "        # 量化实现\n",
    "        qmod = relay.quantize.realize()(calibrate_mod)"
   ]
  },
  {
   "cell_type": "markdown",
   "metadata": {},
   "source": [
    "定义融合规则："
   ]
  },
  {
   "cell_type": "code",
   "execution_count": null,
   "metadata": {},
   "outputs": [],
   "source": [
    "\n",
    "# 配置融合规则\n",
    "compiler_name = \"ccompiler\"\n",
    "pattern_table = [\n",
    "    (f\"{compiler_name}.conv_add_relu_max_pool2d\", make_conv_add_relu_max_pool2d_pattern()),\n",
    "    (f\"{compiler_name}.conv2d_transpose_add_activate\", make_conv2d_transpose_add_activate_pattern()),\n",
    "    (f\"{compiler_name}.conv_add_activate\", make_conv_add_activate_pattern()),\n",
    "    (f\"{compiler_name}.max_pool2d\", make_max_pool2d_pattern()),\n",
    "    (f\"{compiler_name}.dense_add\", make_dense_add_pattern()),\n",
    "    (f\"{compiler_name}.adaptive_avg_pool2d\", make_adaptive_avg_pool2d_pattern()),\n",
    "    (f\"{compiler_name}.avg_pool2dd\", make_avg_pool2d_pattern()),\n",
    "    (f\"{compiler_name}.add_multiply_add\", make_add_multiply_add_pattern()),\n",
    "    (f\"{compiler_name}.add\", make_add_pattern()),\n",
    "    (f\"{compiler_name}.multiply\", make_multiply_pattern()),\n",
    "    # (f\"{compiler_name}.strided_slice\", make_strided_slice_pattern()),\n",
    "]\n",
    "merge_passes = tvm.transform.Sequential([\n",
    "    relay.transform.InferType(),\n",
    "    relay.transform.MergeComposite(pattern_table),\n",
    "    # relay.transform.ToANormalForm(),\n",
    "    # relay.transform.ToGraphNormalForm(),\n",
    "])\n",
    "with tvm.transform.PassContext(opt_level=3):\n",
    "    partition_mod_f = merge_passes(partition_mod)\n",
    "    calibrate_mod_f = merge_passes(calibrate_mod)"
   ]
  },
  {
   "cell_type": "code",
   "execution_count": null,
   "metadata": {},
   "outputs": [],
   "source": [
    "print(calibrate_mod_f)"
   ]
  },
  {
   "cell_type": "code",
   "execution_count": null,
   "metadata": {},
   "outputs": [],
   "source": [
    "print(partition_mod_f[\"main\"])"
   ]
  },
  {
   "cell_type": "markdown",
   "metadata": {},
   "source": [
    "## 部分量化"
   ]
  },
  {
   "cell_type": "code",
   "execution_count": null,
   "metadata": {},
   "outputs": [],
   "source": [
    "from tvm.relay.testing import run_opt_pass\n",
    "from tvm.relay.expr import Constant, Call, Let\n",
    "from tvm.relay.function import Function, FunctionWithFields\n",
    "from tvm.relay import GlobalVar\n",
    "from tvm.relay.op.annotation import compiler_begin, compiler_end\n",
    "\n",
    "class DefuseMutator(tvm.relay.ExprMutator):\n",
    "    def __init__(self, mod):\n",
    "        super().__init__()\n",
    "        self.mod = mod\n",
    "        self.bind_params = {}\n",
    "    \n",
    "    # def visit_let(self, let):\n",
    "    #     new_var = self.visit(let.var)\n",
    "    #     new_val = self.visit(let.value)\n",
    "    #     new_body = self.visit(let.body)\n",
    "    #     if new_var == let.var and new_val == let.value and new_body == let.body:\n",
    "    #         new_let = let\n",
    "    #     else:\n",
    "    #         new_let = Let(new_var, new_val, new_body)\n",
    "    #     return new_let\n",
    "\n",
    "    def visit_call(self, call):\n",
    "        new_fn = self.visit(call.op)\n",
    "        new_args = [self.visit(arg) for arg in call.args]\n",
    "        \n",
    "        if isinstance(new_fn, GlobalVar):\n",
    "            self.bind_params[new_fn.name_hint] = new_args\n",
    "            new_fn = self.mod[new_fn.name_hint].body\n",
    "            new_fn = run_opt_pass(new_fn, relay.transform.DefuseOps())\n",
    "            # _bind_dict = dict(zip(new_fn.params, new_args))\n",
    "            # new_fn = relay.bind(new_fn, _bind_dict)\n",
    "        new_call = Call(new_fn, new_args, call.attrs, call.type_args, call.span)\n",
    "        return new_call\n",
    "\n",
    "@tvm.relay.transform.function_pass(opt_level=1)\n",
    "class CalibrateGraphTransform:\n",
    "    def __init__(self, compiler):\n",
    "        self.reset()\n",
    "        self.compiler = compiler\n",
    "        \n",
    "    def reset(self):\n",
    "        self._func_index = 0\n",
    "        self.bind_dict = {}\n",
    "        self.nodes = []\n",
    "\n",
    "    def transform_function(self, func, mod, ctx):\n",
    "        obj = self\n",
    "        class Replace(tvm.relay.ExprMutator):\n",
    "            def visit_call(self, call):\n",
    "                new_fn = self.visit(call.op)\n",
    "                new_args = [self.visit(arg) for arg in call.args]\n",
    "                \n",
    "                if isinstance(new_fn, Function):\n",
    "                    compiler = obj.compiler\n",
    "                    func_name = f\"f_{obj._func_index:04d}\"\n",
    "                    # obj.nodes.append(call)\n",
    "                    new_args = [compiler_begin(arg, obj.compiler) for arg in new_args]\n",
    "                    # obj.bind_dict[func_name] = new_args\n",
    "                    # _bind_dict = dict(zip(new_fn.params, new_args))\n",
    "                    # new_fn = relay.bind(new_fn, _bind_dict)\n",
    "                    \n",
    "                    # if new_fn.attrs:\n",
    "                    #     name = new_fn.attrs[\"PartitionedFromPattern\"].replace(\"relay.op.annotation.simulated_quantize_\", \"\").replace(\"annotation.cast_hint_\", \"\")\n",
    "                    #     if \"conv\" in name:\n",
    "                    #         data = new_args[0]\n",
    "                    #         old_data = new_fn.params[0]\n",
    "                    #         body = new_fn.body\n",
    "                    #         if data.op.name == \"relay.op.annotation.simulated_quantize\":\n",
    "                    #             ...\n",
    "                    \n",
    "                    # mod[func_name] = new_fn\n",
    "                    # # # new_args = new_fn.params\n",
    "                    # new_fn = mod.get_global_var(func_name)\n",
    "                    # obj._func_index += 1\n",
    "                else:\n",
    "                    compiler = \"default\"\n",
    "                call = Call(new_fn, new_args, call.attrs, call.type_args, call.span)\n",
    "                return compiler_end(call, compiler)\n",
    "        return Replace().visit(func)\n",
    "\n",
    "@tvm.relay.transform.function_pass(opt_level=1)\n",
    "class PartitionGraphTransform:\n",
    "    def __init__(self):\n",
    "        self.reset()\n",
    "        \n",
    "    def reset(self):\n",
    "        self._func_index = 0\n",
    "        self.bind_dict = {}\n",
    "\n",
    "    def transform_function(self, func, mod, ctx):\n",
    "        obj = self\n",
    "        class Replace(tvm.relay.ExprMutator):\n",
    "            def visit_call(self, call):\n",
    "                new_fn = self.visit(call.op)\n",
    "                new_args = [self.visit(arg) for arg in call.args]\n",
    "                \n",
    "                if isinstance(call.op, Function):\n",
    "                    func_name = f\"f_{obj._func_index:04d}\"\n",
    "                    _bind_dict = dict(zip(new_fn.params, new_args))\n",
    "                    _new_fn = relay.bind(new_fn, _bind_dict)\n",
    "                    _new_fn = run_opt_pass(_new_fn, relay.transform.DefuseOps())\n",
    "                    obj.bind_dict[func_name] = _new_fn\n",
    "                    obj._func_index += 1\n",
    "                call = Call(new_fn, new_args, call.attrs, call.type_args, call.span)\n",
    "                return call\n",
    "        return Replace().visit(func)\n"
   ]
  },
  {
   "cell_type": "code",
   "execution_count": null,
   "metadata": {},
   "outputs": [],
   "source": [
    "calibrate_transform = CalibrateGraphTransform(\"test\")\n",
    "# partition_transform = PartitionGraphTransform()\n",
    "with tvm.transform.PassContext(opt_level=3):\n",
    "    calibrate_mod_t = calibrate_transform(calibrate_mod_f)\n",
    "    # partition_mod_t = partition_transform(partition_mod_f)"
   ]
  },
  {
   "cell_type": "code",
   "execution_count": null,
   "metadata": {},
   "outputs": [],
   "source": [
    "# call = relay.Tuple(calibrate_transform.nodes)\n",
    "# call = run_opt_pass(call, relay.transform.DefuseOps())"
   ]
  },
  {
   "cell_type": "code",
   "execution_count": null,
   "metadata": {},
   "outputs": [],
   "source": [
    "run_mod = relay.transform.ToANormalForm()(calibrate_mod_f)"
   ]
  },
  {
   "cell_type": "code",
   "execution_count": 101,
   "metadata": {},
   "outputs": [],
   "source": [
    "from tvm.relay.expr import Var\n",
    "\n",
    "@tvm.relay.transform.function_pass(opt_level=1)\n",
    "class CalibrateGraphTransform:\n",
    "    def __init__(self, compiler):\n",
    "        self.reset()\n",
    "        self.compiler = compiler\n",
    "        \n",
    "    def reset(self):\n",
    "        self._func_index = 0\n",
    "        self.bind_dict = {}\n",
    "        self.nodes = []\n",
    "\n",
    "    def transform_function(self, func, mod, ctx):\n",
    "        obj = self\n",
    "        class Replace(tvm.relay.ExprMutator):\n",
    "            def visit_call(self, call):\n",
    "                new_fn = self.visit(call.op)\n",
    "                new_args = [self.visit(arg) for arg in call.args]\n",
    "                # print(type(new_fn))\n",
    "                \n",
    "                if isinstance(new_fn, Var):\n",
    "                    compiler = obj.compiler\n",
    "                    func_name = f\"f_{obj._func_index:04d}\"\n",
    "                    obj.nodes.append(call)\n",
    "                    new_args = [compiler_begin(arg, compiler) for arg in new_args]\n",
    "                    # new_fn = run_opt_pass(new_fn, relay.transform.DefuseOps())\n",
    "                    # obj.bind_dict[func_name] = new_args\n",
    "                    # _bind_dict = dict(zip(new_fn.params, new_args))\n",
    "                    # new_fn = relay.bind(new_fn, _bind_dict)\n",
    "                    \n",
    "                    # if new_fn.attrs:\n",
    "                    #     name = new_fn.attrs[\"PartitionedFromPattern\"].replace(\"relay.op.annotation.simulated_quantize_\", \"\").replace(\"annotation.cast_hint_\", \"\")\n",
    "                    #     if \"conv\" in name:\n",
    "                    #         data = new_args[0]\n",
    "                    #         old_data = new_fn.params[0]\n",
    "                    #         body = new_fn.body\n",
    "                    #         if data.op.name == \"relay.op.annotation.simulated_quantize\":\n",
    "                    #             ...\n",
    "                    new_fn = compiler_begin(new_fn, compiler)\n",
    "                    # mod[func_name] = new_fn\n",
    "                    # # # new_args = new_fn.params\n",
    "                    # new_fn = mod.get_global_var(func_name)\n",
    "                    # obj._func_index += 1\n",
    "                else:\n",
    "                    compiler = \"default\"\n",
    "                call = Call(new_fn, new_args, call.attrs, call.type_args, call.span)\n",
    "                return compiler_end(call, compiler)\n",
    "        return Replace().visit(func)\n",
    "            # def visit_let(self, let):\n",
    "            #     new_var = self.visit(let.var)\n",
    "            #     new_val = self.visit(let.value)\n",
    "            #     new_body = self.visit(let.body)\n",
    "            #     if new_var == let.var and new_val == let.value and new_body == let.body:\n",
    "            #         new_let = let\n",
    "            #     else:\n",
    "            #         new_let = Let(new_var, new_val, new_body)\n",
    "            #     if isinstance(let.value, Function):\n",
    "            #         func_name = f\"f_{obj._func_index:04d}\"\n",
    "            #         obj.nodes.append(let)\n",
    "            #         # mod[func_name] = tvm.IRModule.from_expr(let.body)[\"main\"]\n",
    "            #         obj._func_index += 1\n",
    "            #         # new_val, new_body = new_body, new_val\n",
    "            #     return new_let\n",
    "        return Replace().visit(func)"
   ]
  },
  {
   "cell_type": "code",
   "execution_count": 102,
   "metadata": {},
   "outputs": [],
   "source": [
    "calibrate_transform = CalibrateGraphTransform(\"test\")\n",
    "with tvm.transform.PassContext(opt_level=3):\n",
    "    calibrate_mod_t = calibrate_transform(run_mod)"
   ]
  },
  {
   "cell_type": "code",
   "execution_count": 103,
   "metadata": {},
   "outputs": [],
   "source": [
    "nodes = calibrate_transform.nodes\n",
    "node = nodes[0]"
   ]
  },
  {
   "cell_type": "code",
   "execution_count": 104,
   "metadata": {},
   "outputs": [
    {
     "ename": "InternalError",
     "evalue": "Traceback (most recent call last):\n  104: tvm::runtime::PackedFuncObj::Extractor<tvm::runtime::PackedFuncSubObj<tvm::runtime::TypedPackedFunc<tvm::IRModule (tvm::transform::Pass, tvm::IRModule)>::AssignTypedLambda<tvm::transform::{lambda(tvm::transform::Pass, tvm::IRModule)#7}>(tvm::transform::{lambda(tvm::transform::Pass, tvm::IRModule)#7}, std::__cxx11::basic_string<char, std::char_traits<char>, std::allocator<char> >)::{lambda(tvm::runtime::TVMArgs const&, tvm::runtime::TVMRetValue*)#1}> >::Call(tvm::runtime::PackedFuncObj const*, tvm::runtime::TVMArgs, tvm::runtime::TVMRetValue*)\n  103: tvm::transform::Pass::operator()(tvm::IRModule) const\n  102: tvm::transform::Pass::operator()(tvm::IRModule, tvm::transform::PassContext const&) const\n  101: tvm::transform::SequentialNode::operator()(tvm::IRModule, tvm::transform::PassContext const&) const\n  100: tvm::transform::Pass::operator()(tvm::IRModule, tvm::transform::PassContext const&) const\n  99: tvm::transform::ModulePassNode::operator()(tvm::IRModule, tvm::transform::PassContext const&) const\n  98: _ZN3tvm7runtime13PackedFuncObj\n  97: tvm::runtime::TypedPackedFunc<tvm::IRModule (tvm::IRModule, tvm::transform::PassContext)>::AssignTypedLambda<tvm::relay::transform::PartitionGraph(tvm::runtime::String, bool)::{lambda(tvm::IRModule, tvm::transform::PassContext)#3}>(tvm::relay::transform::PartitionGraph(tvm::runtime::String, bool)::{lambda(tvm::IRModule, tvm::transform::PassContext)#3})::{lambda(tvm::runtime::TVMArgs const&, tvm::runtime::TVMRetValue*)#1}::operator()(tvm::runtime::TVMArgs const&, tvm::runtime::TVMRetValue*) const\n  96: tvm::relay::partitioning::Partitioner::Partition()\n  95: tvm::relay::MixedModeMutator::VisitExpr(tvm::RelayExpr const&)\n  94: void tvm::relay::ExpandDataflow<tvm::relay::MixedModeMutator::VisitExpr(tvm::RelayExpr const&)::{lambda(tvm::RelayExpr const&)#1}, tvm::relay::MixedModeMutator::VisitExpr(tvm::RelayExpr const&)::{lambda(tvm::RelayExpr const&)#2}, tvm::relay::ExpandDataflow<tvm::relay::MixedModeMutator::VisitExpr(tvm::RelayExpr const&)::{lambda(tvm::RelayExpr const&)#1}, tvm::relay::MixedModeMutator::VisitExpr(tvm::RelayExpr const&)::{lambda(tvm::RelayExpr const&)#2}>(tvm::RelayExpr, tvm::relay::MixedModeMutator::VisitExpr(tvm::RelayExpr const&)::{lambda(tvm::RelayExpr const&)#1}, tvm::relay::MixedModeMutator::VisitExpr(tvm::RelayExpr const&)::{lambda(tvm::RelayExpr const&)#2})::{lambda(tvm::RelayExpr const&)#1}>(tvm::RelayExpr, tvm::relay::MixedModeMutator::VisitExpr(tvm::RelayExpr const&)::{lambda(tvm::RelayExpr const&)#1}, tvm::relay::MixedModeMutator::VisitExpr(tvm::RelayExpr const&)::{lambda(tvm::RelayExpr const&)#2}, tvm::relay::ExpandDataflow<tvm::relay::MixedModeMutator::VisitExpr(tvm::RelayExpr const&)::{lambda(tvm::RelayExpr const&)#1}, tvm::relay::MixedModeMutator::VisitExpr(tvm::RelayExpr const&)::{lambda(tvm::RelayExpr const&)#2}>(tvm::RelayExpr, tvm::relay::MixedModeMutator::VisitExpr(tvm::RelayExpr const&)::{lambda(tvm::RelayExpr const&)#1}, tvm::relay::MixedModeMutator::VisitExpr(tvm::RelayExpr const&)::{lambda(tvm::RelayExpr const&)#2})::{lambda(tvm::RelayExpr const&)#1}) [clone .isra.0]\n  93: tvm::relay::MixedModeMutator::VisitLeaf(tvm::RelayExpr const&)\n  92: _ZN3tvm5relay16MixedModeMutator17DispatchVisitExprERKNS_9RelayExp\n  91: tvm::relay::ExprMutator::VisitExpr(tvm::RelayExpr const&)\n  90: _ZZN3tvm5relay11ExprFunctorIFNS_9RelayExprERKS2_EE10InitVTableEvENUlRKNS_7r\n  89: tvm::relay::ExprMutator::VisitExpr_(tvm::relay::LetNode const*)\n  88: tvm::relay::MixedModeMutator::VisitExpr(tvm::RelayExpr const&)\n  87: void tvm::relay::ExpandDataflow<tvm::relay::MixedModeMutator::VisitExpr(tvm::RelayExpr const&)::{lambda(tvm::RelayExpr const&)#1}, tvm::relay::MixedModeMutator::VisitExpr(tvm::RelayExpr const&)::{lambda(tvm::RelayExpr const&)#2}, tvm::relay::ExpandDataflow<tvm::relay::MixedModeMutator::VisitExpr(tvm::RelayExpr const&)::{lambda(tvm::RelayExpr const&)#1}, tvm::relay::MixedModeMutator::VisitExpr(tvm::RelayExpr const&)::{lambda(tvm::RelayExpr const&)#2}>(tvm::RelayExpr, tvm::relay::MixedModeMutator::VisitExpr(tvm::RelayExpr const&)::{lambda(tvm::RelayExpr const&)#1}, tvm::relay::MixedModeMutator::VisitExpr(tvm::RelayExpr const&)::{lambda(tvm::RelayExpr const&)#2})::{lambda(tvm::RelayExpr const&)#1}>(tvm::RelayExpr, tvm::relay::MixedModeMutator::VisitExpr(tvm::RelayExpr const&)::{lambda(tvm::RelayExpr const&)#1}, tvm::relay::MixedModeMutator::VisitExpr(tvm::RelayExpr const&)::{lambda(tvm::RelayExpr const&)#2}, tvm::relay::ExpandDataflow<tvm::relay::MixedModeMutator::VisitExpr(tvm::RelayExpr const&)::{lambda(tvm::RelayExpr const&)#1}, tvm::relay::MixedModeMutator::VisitExpr(tvm::RelayExpr const&)::{lambda(tvm::RelayExpr const&)#2}>(tvm::RelayExpr, tvm::relay::MixedModeMutator::VisitExpr(tvm::RelayExpr const&)::{lambda(tvm::RelayExpr const&)#1}, tvm::relay::MixedModeMutator::VisitExpr(tvm::RelayExpr const&)::{lambda(tvm::RelayExpr const&)#2})::{lambda(tvm::RelayExpr const&)#1}) [clone .isra.0]\n  86: tvm::relay::MixedModeMutator::VisitLeaf(tvm::RelayExpr const&)\n  85: _ZN3tvm5relay16MixedModeMutator17DispatchVisitExprERKNS_9RelayExp\n  84: tvm::relay::ExprMutator::VisitExpr(tvm::RelayExpr const&)\n  83: _ZZN3tvm5relay11ExprFunctorIFNS_9RelayExprERKS2_EE10InitVTableEvENUlRKNS_7r\n  82: tvm::relay::ExprMutator::VisitExpr_(tvm::relay::LetNode const*)\n  81: tvm::relay::MixedModeMutator::VisitExpr(tvm::RelayExpr const&)\n  80: void tvm::relay::ExpandDataflow<tvm::relay::MixedModeMutator::VisitExpr(tvm::RelayExpr const&)::{lambda(tvm::RelayExpr const&)#1}, tvm::relay::MixedModeMutator::VisitExpr(tvm::RelayExpr const&)::{lambda(tvm::RelayExpr const&)#2}, tvm::relay::ExpandDataflow<tvm::relay::MixedModeMutator::VisitExpr(tvm::RelayExpr const&)::{lambda(tvm::RelayExpr const&)#1}, tvm::relay::MixedModeMutator::VisitExpr(tvm::RelayExpr const&)::{lambda(tvm::RelayExpr const&)#2}>(tvm::RelayExpr, tvm::relay::MixedModeMutator::VisitExpr(tvm::RelayExpr const&)::{lambda(tvm::RelayExpr const&)#1}, tvm::relay::MixedModeMutator::VisitExpr(tvm::RelayExpr const&)::{lambda(tvm::RelayExpr const&)#2})::{lambda(tvm::RelayExpr const&)#1}>(tvm::RelayExpr, tvm::relay::MixedModeMutator::VisitExpr(tvm::RelayExpr const&)::{lambda(tvm::RelayExpr const&)#1}, tvm::relay::MixedModeMutator::VisitExpr(tvm::RelayExpr const&)::{lambda(tvm::RelayExpr const&)#2}, tvm::relay::ExpandDataflow<tvm::relay::MixedModeMutator::VisitExpr(tvm::RelayExpr const&)::{lambda(tvm::RelayExpr const&)#1}, tvm::relay::MixedModeMutator::VisitExpr(tvm::RelayExpr const&)::{lambda(tvm::RelayExpr const&)#2}>(tvm::RelayExpr, tvm::relay::MixedModeMutator::VisitExpr(tvm::RelayExpr const&)::{lambda(tvm::RelayExpr const&)#1}, tvm::relay::MixedModeMutator::VisitExpr(tvm::RelayExpr const&)::{lambda(tvm::RelayExpr const&)#2})::{lambda(tvm::RelayExpr const&)#1}) [clone .isra.0]\n  79: tvm::relay::MixedModeMutator::VisitLeaf(tvm::RelayExpr const&)\n  78: _ZN3tvm5relay16MixedModeMutator17DispatchVisitExprERKNS_9RelayExp\n  77: tvm::relay::ExprMutator::VisitExpr(tvm::RelayExpr const&)\n  76: _ZZN3tvm5relay11ExprFunctorIFNS_9RelayExprERKS2_EE10InitVTableEvENUlRKNS_7r\n  75: tvm::relay::ExprMutator::VisitExpr_(tvm::relay::LetNode const*)\n  74: tvm::relay::MixedModeMutator::VisitExpr(tvm::RelayExpr const&)\n  73: void tvm::relay::ExpandDataflow<tvm::relay::MixedModeMutator::VisitExpr(tvm::RelayExpr const&)::{lambda(tvm::RelayExpr const&)#1}, tvm::relay::MixedModeMutator::VisitExpr(tvm::RelayExpr const&)::{lambda(tvm::RelayExpr const&)#2}, tvm::relay::ExpandDataflow<tvm::relay::MixedModeMutator::VisitExpr(tvm::RelayExpr const&)::{lambda(tvm::RelayExpr const&)#1}, tvm::relay::MixedModeMutator::VisitExpr(tvm::RelayExpr const&)::{lambda(tvm::RelayExpr const&)#2}>(tvm::RelayExpr, tvm::relay::MixedModeMutator::VisitExpr(tvm::RelayExpr const&)::{lambda(tvm::RelayExpr const&)#1}, tvm::relay::MixedModeMutator::VisitExpr(tvm::RelayExpr const&)::{lambda(tvm::RelayExpr const&)#2})::{lambda(tvm::RelayExpr const&)#1}>(tvm::RelayExpr, tvm::relay::MixedModeMutator::VisitExpr(tvm::RelayExpr const&)::{lambda(tvm::RelayExpr const&)#1}, tvm::relay::MixedModeMutator::VisitExpr(tvm::RelayExpr const&)::{lambda(tvm::RelayExpr const&)#2}, tvm::relay::ExpandDataflow<tvm::relay::MixedModeMutator::VisitExpr(tvm::RelayExpr const&)::{lambda(tvm::RelayExpr const&)#1}, tvm::relay::MixedModeMutator::VisitExpr(tvm::RelayExpr const&)::{lambda(tvm::RelayExpr const&)#2}>(tvm::RelayExpr, tvm::relay::MixedModeMutator::VisitExpr(tvm::RelayExpr const&)::{lambda(tvm::RelayExpr const&)#1}, tvm::relay::MixedModeMutator::VisitExpr(tvm::RelayExpr const&)::{lambda(tvm::RelayExpr const&)#2})::{lambda(tvm::RelayExpr const&)#1}) [clone .isra.0]\n  72: tvm::relay::MixedModeMutator::VisitLeaf(tvm::RelayExpr const&)\n  71: _ZN3tvm5relay16MixedModeMutator17DispatchVisitExprERKNS_9RelayExp\n  70: tvm::relay::ExprMutator::VisitExpr(tvm::RelayExpr const&)\n  69: _ZZN3tvm5relay11ExprFunctorIFNS_9RelayExprERKS2_EE10InitVTableEvENUlRKNS_7r\n  68: tvm::relay::ExprMutator::VisitExpr_(tvm::relay::LetNode const*)\n  67: tvm::relay::MixedModeMutator::VisitExpr(tvm::RelayExpr const&)\n  66: void tvm::relay::ExpandDataflow<tvm::relay::MixedModeMutator::VisitExpr(tvm::RelayExpr const&)::{lambda(tvm::RelayExpr const&)#1}, tvm::relay::MixedModeMutator::VisitExpr(tvm::RelayExpr const&)::{lambda(tvm::RelayExpr const&)#2}, tvm::relay::ExpandDataflow<tvm::relay::MixedModeMutator::VisitExpr(tvm::RelayExpr const&)::{lambda(tvm::RelayExpr const&)#1}, tvm::relay::MixedModeMutator::VisitExpr(tvm::RelayExpr const&)::{lambda(tvm::RelayExpr const&)#2}>(tvm::RelayExpr, tvm::relay::MixedModeMutator::VisitExpr(tvm::RelayExpr const&)::{lambda(tvm::RelayExpr const&)#1}, tvm::relay::MixedModeMutator::VisitExpr(tvm::RelayExpr const&)::{lambda(tvm::RelayExpr const&)#2})::{lambda(tvm::RelayExpr const&)#1}>(tvm::RelayExpr, tvm::relay::MixedModeMutator::VisitExpr(tvm::RelayExpr const&)::{lambda(tvm::RelayExpr const&)#1}, tvm::relay::MixedModeMutator::VisitExpr(tvm::RelayExpr const&)::{lambda(tvm::RelayExpr const&)#2}, tvm::relay::ExpandDataflow<tvm::relay::MixedModeMutator::VisitExpr(tvm::RelayExpr const&)::{lambda(tvm::RelayExpr const&)#1}, tvm::relay::MixedModeMutator::VisitExpr(tvm::RelayExpr const&)::{lambda(tvm::RelayExpr const&)#2}>(tvm::RelayExpr, tvm::relay::MixedModeMutator::VisitExpr(tvm::RelayExpr const&)::{lambda(tvm::RelayExpr const&)#1}, tvm::relay::MixedModeMutator::VisitExpr(tvm::RelayExpr const&)::{lambda(tvm::RelayExpr const&)#2})::{lambda(tvm::RelayExpr const&)#1}) [clone .isra.0]\n  65: tvm::relay::MixedModeMutator::VisitLeaf(tvm::RelayExpr const&)\n  64: _ZN3tvm5relay16MixedModeMutator17DispatchVisitExprERKNS_9RelayExp\n  63: tvm::relay::ExprMutator::VisitExpr(tvm::RelayExpr const&)\n  62: _ZZN3tvm5relay11ExprFunctorIFNS_9RelayExprERKS2_EE10InitVTableEvENUlRKNS_7r\n  61: tvm::relay::ExprMutator::VisitExpr_(tvm::relay::LetNode const*)\n  60: tvm::relay::MixedModeMutator::VisitExpr(tvm::RelayExpr const&)\n  59: void tvm::relay::ExpandDataflow<tvm::relay::MixedModeMutator::VisitExpr(tvm::RelayExpr const&)::{lambda(tvm::RelayExpr const&)#1}, tvm::relay::MixedModeMutator::VisitExpr(tvm::RelayExpr const&)::{lambda(tvm::RelayExpr const&)#2}, tvm::relay::ExpandDataflow<tvm::relay::MixedModeMutator::VisitExpr(tvm::RelayExpr const&)::{lambda(tvm::RelayExpr const&)#1}, tvm::relay::MixedModeMutator::VisitExpr(tvm::RelayExpr const&)::{lambda(tvm::RelayExpr const&)#2}>(tvm::RelayExpr, tvm::relay::MixedModeMutator::VisitExpr(tvm::RelayExpr const&)::{lambda(tvm::RelayExpr const&)#1}, tvm::relay::MixedModeMutator::VisitExpr(tvm::RelayExpr const&)::{lambda(tvm::RelayExpr const&)#2})::{lambda(tvm::RelayExpr const&)#1}>(tvm::RelayExpr, tvm::relay::MixedModeMutator::VisitExpr(tvm::RelayExpr const&)::{lambda(tvm::RelayExpr const&)#1}, tvm::relay::MixedModeMutator::VisitExpr(tvm::RelayExpr const&)::{lambda(tvm::RelayExpr const&)#2}, tvm::relay::ExpandDataflow<tvm::relay::MixedModeMutator::VisitExpr(tvm::RelayExpr const&)::{lambda(tvm::RelayExpr const&)#1}, tvm::relay::MixedModeMutator::VisitExpr(tvm::RelayExpr const&)::{lambda(tvm::RelayExpr const&)#2}>(tvm::RelayExpr, tvm::relay::MixedModeMutator::VisitExpr(tvm::RelayExpr const&)::{lambda(tvm::RelayExpr const&)#1}, tvm::relay::MixedModeMutator::VisitExpr(tvm::RelayExpr const&)::{lambda(tvm::RelayExpr const&)#2})::{lambda(tvm::RelayExpr const&)#1}) [clone .isra.0]\n  58: tvm::relay::MixedModeMutator::VisitLeaf(tvm::RelayExpr const&)\n  57: _ZN3tvm5relay16MixedModeMutator17DispatchVisitExprERKNS_9RelayExp\n  56: tvm::relay::ExprMutator::VisitExpr(tvm::RelayExpr const&)\n  55: _ZZN3tvm5relay11ExprFunctorIFNS_9RelayExprERKS2_EE10InitVTableEvENUlRKNS_7r\n  54: tvm::relay::ExprMutator::VisitExpr_(tvm::relay::LetNode const*)\n  53: tvm::relay::MixedModeMutator::VisitExpr(tvm::RelayExpr const&)\n  52: void tvm::relay::ExpandDataflow<tvm::relay::MixedModeMutator::VisitExpr(tvm::RelayExpr const&)::{lambda(tvm::RelayExpr const&)#1}, tvm::relay::MixedModeMutator::VisitExpr(tvm::RelayExpr const&)::{lambda(tvm::RelayExpr const&)#2}, tvm::relay::ExpandDataflow<tvm::relay::MixedModeMutator::VisitExpr(tvm::RelayExpr const&)::{lambda(tvm::RelayExpr const&)#1}, tvm::relay::MixedModeMutator::VisitExpr(tvm::RelayExpr const&)::{lambda(tvm::RelayExpr const&)#2}>(tvm::RelayExpr, tvm::relay::MixedModeMutator::VisitExpr(tvm::RelayExpr const&)::{lambda(tvm::RelayExpr const&)#1}, tvm::relay::MixedModeMutator::VisitExpr(tvm::RelayExpr const&)::{lambda(tvm::RelayExpr const&)#2})::{lambda(tvm::RelayExpr const&)#1}>(tvm::RelayExpr, tvm::relay::MixedModeMutator::VisitExpr(tvm::RelayExpr const&)::{lambda(tvm::RelayExpr const&)#1}, tvm::relay::MixedModeMutator::VisitExpr(tvm::RelayExpr const&)::{lambda(tvm::RelayExpr const&)#2}, tvm::relay::ExpandDataflow<tvm::relay::MixedModeMutator::VisitExpr(tvm::RelayExpr const&)::{lambda(tvm::RelayExpr const&)#1}, tvm::relay::MixedModeMutator::VisitExpr(tvm::RelayExpr const&)::{lambda(tvm::RelayExpr const&)#2}>(tvm::RelayExpr, tvm::relay::MixedModeMutator::VisitExpr(tvm::RelayExpr const&)::{lambda(tvm::RelayExpr const&)#1}, tvm::relay::MixedModeMutator::VisitExpr(tvm::RelayExpr const&)::{lambda(tvm::RelayExpr const&)#2})::{lambda(tvm::RelayExpr const&)#1}) [clone .isra.0]\n  51: tvm::relay::MixedModeMutator::VisitLeaf(tvm::RelayExpr const&)\n  50: _ZN3tvm5relay16MixedModeMutator17DispatchVisitExprERKNS_9RelayExp\n  49: tvm::relay::ExprMutator::VisitExpr(tvm::RelayExpr const&)\n  48: _ZZN3tvm5relay11ExprFunctorIFNS_9RelayExprERKS2_EE10InitVTableEvENUlRKNS_7r\n  47: tvm::relay::ExprMutator::VisitExpr_(tvm::relay::LetNode const*)\n  46: tvm::relay::MixedModeMutator::VisitExpr(tvm::RelayExpr const&)\n  45: void tvm::relay::ExpandDataflow<tvm::relay::MixedModeMutator::VisitExpr(tvm::RelayExpr const&)::{lambda(tvm::RelayExpr const&)#1}, tvm::relay::MixedModeMutator::VisitExpr(tvm::RelayExpr const&)::{lambda(tvm::RelayExpr const&)#2}, tvm::relay::ExpandDataflow<tvm::relay::MixedModeMutator::VisitExpr(tvm::RelayExpr const&)::{lambda(tvm::RelayExpr const&)#1}, tvm::relay::MixedModeMutator::VisitExpr(tvm::RelayExpr const&)::{lambda(tvm::RelayExpr const&)#2}>(tvm::RelayExpr, tvm::relay::MixedModeMutator::VisitExpr(tvm::RelayExpr const&)::{lambda(tvm::RelayExpr const&)#1}, tvm::relay::MixedModeMutator::VisitExpr(tvm::RelayExpr const&)::{lambda(tvm::RelayExpr const&)#2})::{lambda(tvm::RelayExpr const&)#1}>(tvm::RelayExpr, tvm::relay::MixedModeMutator::VisitExpr(tvm::RelayExpr const&)::{lambda(tvm::RelayExpr const&)#1}, tvm::relay::MixedModeMutator::VisitExpr(tvm::RelayExpr const&)::{lambda(tvm::RelayExpr const&)#2}, tvm::relay::ExpandDataflow<tvm::relay::MixedModeMutator::VisitExpr(tvm::RelayExpr const&)::{lambda(tvm::RelayExpr const&)#1}, tvm::relay::MixedModeMutator::VisitExpr(tvm::RelayExpr const&)::{lambda(tvm::RelayExpr const&)#2}>(tvm::RelayExpr, tvm::relay::MixedModeMutator::VisitExpr(tvm::RelayExpr const&)::{lambda(tvm::RelayExpr const&)#1}, tvm::relay::MixedModeMutator::VisitExpr(tvm::RelayExpr const&)::{lambda(tvm::RelayExpr const&)#2})::{lambda(tvm::RelayExpr const&)#1}) [clone .isra.0]\n  44: tvm::relay::MixedModeMutator::VisitLeaf(tvm::RelayExpr const&)\n  43: _ZN3tvm5relay16MixedModeMutator17DispatchVisitExprERKNS_9RelayExp\n  42: tvm::relay::ExprMutator::VisitExpr(tvm::RelayExpr const&)\n  41: _ZZN3tvm5relay11ExprFunctorIFNS_9RelayExprERKS2_EE10InitVTableEvENUlRKNS_7r\n  40: tvm::relay::ExprMutator::VisitExpr_(tvm::relay::LetNode const*)\n  39: tvm::relay::MixedModeMutator::VisitExpr(tvm::RelayExpr const&)\n  38: void tvm::relay::ExpandDataflow<tvm::relay::MixedModeMutator::VisitExpr(tvm::RelayExpr const&)::{lambda(tvm::RelayExpr const&)#1}, tvm::relay::MixedModeMutator::VisitExpr(tvm::RelayExpr const&)::{lambda(tvm::RelayExpr const&)#2}, tvm::relay::ExpandDataflow<tvm::relay::MixedModeMutator::VisitExpr(tvm::RelayExpr const&)::{lambda(tvm::RelayExpr const&)#1}, tvm::relay::MixedModeMutator::VisitExpr(tvm::RelayExpr const&)::{lambda(tvm::RelayExpr const&)#2}>(tvm::RelayExpr, tvm::relay::MixedModeMutator::VisitExpr(tvm::RelayExpr const&)::{lambda(tvm::RelayExpr const&)#1}, tvm::relay::MixedModeMutator::VisitExpr(tvm::RelayExpr const&)::{lambda(tvm::RelayExpr const&)#2})::{lambda(tvm::RelayExpr const&)#1}>(tvm::RelayExpr, tvm::relay::MixedModeMutator::VisitExpr(tvm::RelayExpr const&)::{lambda(tvm::RelayExpr const&)#1}, tvm::relay::MixedModeMutator::VisitExpr(tvm::RelayExpr const&)::{lambda(tvm::RelayExpr const&)#2}, tvm::relay::ExpandDataflow<tvm::relay::MixedModeMutator::VisitExpr(tvm::RelayExpr const&)::{lambda(tvm::RelayExpr const&)#1}, tvm::relay::MixedModeMutator::VisitExpr(tvm::RelayExpr const&)::{lambda(tvm::RelayExpr const&)#2}>(tvm::RelayExpr, tvm::relay::MixedModeMutator::VisitExpr(tvm::RelayExpr const&)::{lambda(tvm::RelayExpr const&)#1}, tvm::relay::MixedModeMutator::VisitExpr(tvm::RelayExpr const&)::{lambda(tvm::RelayExpr const&)#2})::{lambda(tvm::RelayExpr const&)#1}) [clone .isra.0]\n  37: tvm::relay::MixedModeMutator::VisitLeaf(tvm::RelayExpr const&)\n  36: _ZN3tvm5relay16MixedModeMutator17DispatchVisitExprERKNS_9RelayExp\n  35: tvm::relay::ExprMutator::VisitExpr(tvm::RelayExpr const&)\n  34: _ZZN3tvm5relay11ExprFunctorIFNS_9RelayExprERKS2_EE10InitVTableEvENUlRKNS_7r\n  33: tvm::relay::ExprMutator::VisitExpr_(tvm::relay::LetNode const*)\n  32: tvm::relay::MixedModeMutator::VisitExpr(tvm::RelayExpr const&)\n  31: void tvm::relay::ExpandDataflow<tvm::relay::MixedModeMutator::VisitExpr(tvm::RelayExpr const&)::{lambda(tvm::RelayExpr const&)#1}, tvm::relay::MixedModeMutator::VisitExpr(tvm::RelayExpr const&)::{lambda(tvm::RelayExpr const&)#2}, tvm::relay::ExpandDataflow<tvm::relay::MixedModeMutator::VisitExpr(tvm::RelayExpr const&)::{lambda(tvm::RelayExpr const&)#1}, tvm::relay::MixedModeMutator::VisitExpr(tvm::RelayExpr const&)::{lambda(tvm::RelayExpr const&)#2}>(tvm::RelayExpr, tvm::relay::MixedModeMutator::VisitExpr(tvm::RelayExpr const&)::{lambda(tvm::RelayExpr const&)#1}, tvm::relay::MixedModeMutator::VisitExpr(tvm::RelayExpr const&)::{lambda(tvm::RelayExpr const&)#2})::{lambda(tvm::RelayExpr const&)#1}>(tvm::RelayExpr, tvm::relay::MixedModeMutator::VisitExpr(tvm::RelayExpr const&)::{lambda(tvm::RelayExpr const&)#1}, tvm::relay::MixedModeMutator::VisitExpr(tvm::RelayExpr const&)::{lambda(tvm::RelayExpr const&)#2}, tvm::relay::ExpandDataflow<tvm::relay::MixedModeMutator::VisitExpr(tvm::RelayExpr const&)::{lambda(tvm::RelayExpr const&)#1}, tvm::relay::MixedModeMutator::VisitExpr(tvm::RelayExpr const&)::{lambda(tvm::RelayExpr const&)#2}>(tvm::RelayExpr, tvm::relay::MixedModeMutator::VisitExpr(tvm::RelayExpr const&)::{lambda(tvm::RelayExpr const&)#1}, tvm::relay::MixedModeMutator::VisitExpr(tvm::RelayExpr const&)::{lambda(tvm::RelayExpr const&)#2})::{lambda(tvm::RelayExpr const&)#1}) [clone .isra.0]\n  30: tvm::relay::MixedModeMutator::VisitLeaf(tvm::RelayExpr const&)\n  29: _ZN3tvm5relay16MixedModeMutator17DispatchVisitExprERKNS_9RelayExp\n  28: tvm::relay::ExprMutator::VisitExpr(tvm::RelayExpr const&)\n  27: _ZZN3tvm5relay11ExprFunctorIFNS_9RelayExprERKS2_EE10InitVTableEvENUlRKNS_7r\n  26: tvm::relay::ExprMutator::VisitExpr_(tvm::relay::LetNode const*)\n  25: tvm::relay::MixedModeMutator::VisitExpr(tvm::RelayExpr const&)\n  24: void tvm::relay::ExpandDataflow<tvm::relay::MixedModeMutator::VisitExpr(tvm::RelayExpr const&)::{lambda(tvm::RelayExpr const&)#1}, tvm::relay::MixedModeMutator::VisitExpr(tvm::RelayExpr const&)::{lambda(tvm::RelayExpr const&)#2}, tvm::relay::ExpandDataflow<tvm::relay::MixedModeMutator::VisitExpr(tvm::RelayExpr const&)::{lambda(tvm::RelayExpr const&)#1}, tvm::relay::MixedModeMutator::VisitExpr(tvm::RelayExpr const&)::{lambda(tvm::RelayExpr const&)#2}>(tvm::RelayExpr, tvm::relay::MixedModeMutator::VisitExpr(tvm::RelayExpr const&)::{lambda(tvm::RelayExpr const&)#1}, tvm::relay::MixedModeMutator::VisitExpr(tvm::RelayExpr const&)::{lambda(tvm::RelayExpr const&)#2})::{lambda(tvm::RelayExpr const&)#1}>(tvm::RelayExpr, tvm::relay::MixedModeMutator::VisitExpr(tvm::RelayExpr const&)::{lambda(tvm::RelayExpr const&)#1}, tvm::relay::MixedModeMutator::VisitExpr(tvm::RelayExpr const&)::{lambda(tvm::RelayExpr const&)#2}, tvm::relay::ExpandDataflow<tvm::relay::MixedModeMutator::VisitExpr(tvm::RelayExpr const&)::{lambda(tvm::RelayExpr const&)#1}, tvm::relay::MixedModeMutator::VisitExpr(tvm::RelayExpr const&)::{lambda(tvm::RelayExpr const&)#2}>(tvm::RelayExpr, tvm::relay::MixedModeMutator::VisitExpr(tvm::RelayExpr const&)::{lambda(tvm::RelayExpr const&)#1}, tvm::relay::MixedModeMutator::VisitExpr(tvm::RelayExpr const&)::{lambda(tvm::RelayExpr const&)#2})::{lambda(tvm::RelayExpr const&)#1}) [clone .isra.0]\n  23: tvm::relay::MixedModeMutator::VisitLeaf(tvm::RelayExpr const&)\n  22: _ZN3tvm5relay16MixedModeMutator17DispatchVisitExprERKNS_9RelayExp\n  21: tvm::relay::ExprMutator::VisitExpr(tvm::RelayExpr const&)\n  20: _ZZN3tvm5relay11ExprFunctorIFNS_9RelayExprERKS2_EE10InitVTableEvENUlRKNS_7r\n  19: tvm::relay::ExprMutator::VisitExpr_(tvm::relay::LetNode const*)\n  18: tvm::relay::MixedModeMutator::VisitExpr(tvm::RelayExpr const&)\n  17: void tvm::relay::ExpandDataflow<tvm::relay::MixedModeMutator::VisitExpr(tvm::RelayExpr const&)::{lambda(tvm::RelayExpr const&)#1}, tvm::relay::MixedModeMutator::VisitExpr(tvm::RelayExpr const&)::{lambda(tvm::RelayExpr const&)#2}, tvm::relay::ExpandDataflow<tvm::relay::MixedModeMutator::VisitExpr(tvm::RelayExpr const&)::{lambda(tvm::RelayExpr const&)#1}, tvm::relay::MixedModeMutator::VisitExpr(tvm::RelayExpr const&)::{lambda(tvm::RelayExpr const&)#2}>(tvm::RelayExpr, tvm::relay::MixedModeMutator::VisitExpr(tvm::RelayExpr const&)::{lambda(tvm::RelayExpr const&)#1}, tvm::relay::MixedModeMutator::VisitExpr(tvm::RelayExpr const&)::{lambda(tvm::RelayExpr const&)#2})::{lambda(tvm::RelayExpr const&)#1}>(tvm::RelayExpr, tvm::relay::MixedModeMutator::VisitExpr(tvm::RelayExpr const&)::{lambda(tvm::RelayExpr const&)#1}, tvm::relay::MixedModeMutator::VisitExpr(tvm::RelayExpr const&)::{lambda(tvm::RelayExpr const&)#2}, tvm::relay::ExpandDataflow<tvm::relay::MixedModeMutator::VisitExpr(tvm::RelayExpr const&)::{lambda(tvm::RelayExpr const&)#1}, tvm::relay::MixedModeMutator::VisitExpr(tvm::RelayExpr const&)::{lambda(tvm::RelayExpr const&)#2}>(tvm::RelayExpr, tvm::relay::MixedModeMutator::VisitExpr(tvm::RelayExpr const&)::{lambda(tvm::RelayExpr const&)#1}, tvm::relay::MixedModeMutator::VisitExpr(tvm::RelayExpr const&)::{lambda(tvm::RelayExpr const&)#2})::{lambda(tvm::RelayExpr const&)#1}) [clone .isra.0]\n  16: tvm::relay::MixedModeMutator::VisitLeaf(tvm::RelayExpr const&)\n  15: _ZN3tvm5relay16MixedModeMutator17DispatchVisitExprERKNS_9RelayExp\n  14: tvm::relay::ExprMutator::VisitExpr(tvm::RelayExpr const&)\n  13: _ZZN3tvm5relay11ExprFunctorIFNS_9RelayExprERKS2_EE10InitVTableEvENUlRKNS_7r\n  12: tvm::relay::ExprMutator::VisitExpr_(tvm::relay::LetNode const*)\n  11: tvm::relay::MixedModeMutator::VisitExpr(tvm::RelayExpr const&)\n  10: void tvm::relay::ExpandDataflow<tvm::relay::MixedModeMutator::VisitExpr(tvm::RelayExpr const&)::{lambda(tvm::RelayExpr const&)#1}, tvm::relay::MixedModeMutator::VisitExpr(tvm::RelayExpr const&)::{lambda(tvm::RelayExpr const&)#2}, tvm::relay::ExpandDataflow<tvm::relay::MixedModeMutator::VisitExpr(tvm::RelayExpr const&)::{lambda(tvm::RelayExpr const&)#1}, tvm::relay::MixedModeMutator::VisitExpr(tvm::RelayExpr const&)::{lambda(tvm::RelayExpr const&)#2}>(tvm::RelayExpr, tvm::relay::MixedModeMutator::VisitExpr(tvm::RelayExpr const&)::{lambda(tvm::RelayExpr const&)#1}, tvm::relay::MixedModeMutator::VisitExpr(tvm::RelayExpr const&)::{lambda(tvm::RelayExpr const&)#2})::{lambda(tvm::RelayExpr const&)#1}>(tvm::RelayExpr, tvm::relay::MixedModeMutator::VisitExpr(tvm::RelayExpr const&)::{lambda(tvm::RelayExpr const&)#1}, tvm::relay::MixedModeMutator::VisitExpr(tvm::RelayExpr const&)::{lambda(tvm::RelayExpr const&)#2}, tvm::relay::ExpandDataflow<tvm::relay::MixedModeMutator::VisitExpr(tvm::RelayExpr const&)::{lambda(tvm::RelayExpr const&)#1}, tvm::relay::MixedModeMutator::VisitExpr(tvm::RelayExpr const&)::{lambda(tvm::RelayExpr const&)#2}>(tvm::RelayExpr, tvm::relay::MixedModeMutator::VisitExpr(tvm::RelayExpr const&)::{lambda(tvm::RelayExpr const&)#1}, tvm::relay::MixedModeMutator::VisitExpr(tvm::RelayExpr const&)::{lambda(tvm::RelayExpr const&)#2})::{lambda(tvm::RelayExpr const&)#1}) [clone .isra.0]\n  9: tvm::relay::MixedModeMutator::VisitLeaf(tvm::RelayExpr const&)\n  8: _ZN3tvm5relay16MixedModeMutator17DispatchVisitExprERKNS_9RelayExp\n  7: tvm::relay::ExprMutator::VisitExpr(tvm::RelayExpr const&)\n  6: _ZZN3tvm5relay11ExprFunctorIFNS_9RelayExprERKS2_EE10InitVTableEvENUlRKNS_7r\n  5: tvm::relay::MixedModeMutator::VisitExpr_(tvm::relay::CallNode const*)\n  4: tvm::relay::partitioning::Partitioner::Rewrite_(tvm::relay::CallNode const*, tvm::RelayExpr const&)\n  3: tvm::relay::partitioning::Partitioner::CreateFunction(tvm::relay::AnnotatedRegion, tvm::relay::CallNode const*)\n  2: tvm::relay::partitioning::Partitioner::CreateRegionCall(tvm::relay::AnnotatedRegion, tvm::runtime::Array<tvm::RelayExpr, void> const&, tvm::relay::CallNode const*)\n  1: tvm::IRModuleNode::Add(tvm::GlobalVar const&, tvm::BaseFunc const&, bool)\n  0: tvm::runtime::PackedFuncObj::Extractor<tvm::runtime::PackedFuncSubObj<tvm::runtime::TypedPackedFunc<void (tvm::IRModule const&, tvm::BaseFunc const&)>::AssignTypedLambda<tvm::relay::{lambda(tvm::IRModule const&, tvm::BaseFunc const&)#3}>(tvm::relay::{lambda(tvm::IRModule const&, tvm::BaseFunc const&)#3}, std::__cxx11::basic_string<char, std::char_traits<char>, std::allocator<char> >)::{lambda(tvm::runtime::TVMArgs const&, tvm::runtime::TVMRetValue*)#1}> >::Call(tvm::runtime::PackedFuncObj const*, tvm::runtime::TVMArgs, tvm::runtime::TVMRetValue*)\n  File \"/media/pc/data/lxw/ai/tvm/src/relay/ir/function.cc\", line 156\nInternalError: Check failed: fv.size() == 0 (1 vs. 0) : Function:\nfn (%test_1_i0: Tensor[(1, 3, 224, 224), float32], %test_1_i1: Tensor[(32, 3, 3, 3), float32], %test_1_i2: Tensor[(32, 1, 1), float32], global_symbol=\"test_main_1\", Primitive=1, Compiler=\"test\", Inline=1) -> Tensor[(1, 32, 112, 112), float32] {\n  free_var %test_0_i0: fn (Tensor[(1, 3, 224, 224), float32], Tensor[(32, 3, 3, 3), float32], Tensor[(32, 1, 1), float32]) -> Tensor[(1, 32, 112, 112), float32];\n  %test_0_i0(%test_1_i0, %test_1_i1, %test_1_i2) /* ty=Tensor[(1, 32, 112, 112), float32] */\n}\ncontains free variables: [Var(test_0_i0, ty=I.FuncType([], [I.TensorType([1, 3, 224, 224], \"float32\"), I.TensorType([32, 3, 3, 3], \"float32\"), I.TensorType([32, 1, 1], \"float32\")], I.TensorType([1, 32, 112, 112], \"float32\")))]",
     "output_type": "error",
     "traceback": [
      "\u001b[0;31m---------------------------------------------------------------------------\u001b[0m",
      "\u001b[0;31mInternalError\u001b[0m                             Traceback (most recent call last)",
      "\u001b[1;32m/media/pc/data/lxw/ai/tvm/xinetzone/tvm-book/doc/quantize/analysis.ipynb 单元格 19\u001b[0m line \u001b[0;36m1\n\u001b[0;32m----> <a href='vscode-notebook-cell://ssh-remote%2B10.16.11.3/media/pc/data/lxw/ai/tvm/xinetzone/tvm-book/doc/quantize/analysis.ipynb#X63sdnNjb2RlLXJlbW90ZQ%3D%3D?line=0'>1</a>\u001b[0m \u001b[39mprint\u001b[39m(relay\u001b[39m.\u001b[39;49mtransform\u001b[39m.\u001b[39;49mPartitionGraph()(calibrate_mod_t))\n",
      "File \u001b[0;32m/media/pc/data/lxw/ai/tvm/xinetzone/__pypackages__/3.10/lib/tvm/ir/transform.py:238\u001b[0m, in \u001b[0;36mPass.__call__\u001b[0;34m(self, mod)\u001b[0m\n\u001b[1;32m    224\u001b[0m \u001b[39mdef\u001b[39;00m \u001b[39m__call__\u001b[39m(\u001b[39mself\u001b[39m, mod):\n\u001b[1;32m    225\u001b[0m \u001b[39m    \u001b[39m\u001b[39m\"\"\"Execute the pass. Note that for sequential pass, the dependency among\u001b[39;00m\n\u001b[1;32m    226\u001b[0m \u001b[39m    different passes will be resolved in the backend.\u001b[39;00m\n\u001b[1;32m    227\u001b[0m \n\u001b[0;32m   (...)\u001b[0m\n\u001b[1;32m    236\u001b[0m \u001b[39m        The updated module after applying this pass.\u001b[39;00m\n\u001b[1;32m    237\u001b[0m \u001b[39m    \"\"\"\u001b[39;00m\n\u001b[0;32m--> 238\u001b[0m     \u001b[39mreturn\u001b[39;00m _ffi_transform_api\u001b[39m.\u001b[39;49mRunPass(\u001b[39mself\u001b[39;49m, mod)\n",
      "File \u001b[0;32m/media/pc/data/lxw/ai/tvm/xinetzone/__pypackages__/3.10/lib/tvm/_ffi/_ctypes/packed_func.py:239\u001b[0m, in \u001b[0;36mPackedFuncBase.__call__\u001b[0;34m(self, *args)\u001b[0m\n\u001b[1;32m    227\u001b[0m ret_tcode \u001b[39m=\u001b[39m ctypes\u001b[39m.\u001b[39mc_int()\n\u001b[1;32m    228\u001b[0m \u001b[39mif\u001b[39;00m (\n\u001b[1;32m    229\u001b[0m     _LIB\u001b[39m.\u001b[39mTVMFuncCall(\n\u001b[1;32m    230\u001b[0m         \u001b[39mself\u001b[39m\u001b[39m.\u001b[39mhandle,\n\u001b[0;32m   (...)\u001b[0m\n\u001b[1;32m    237\u001b[0m     \u001b[39m!=\u001b[39m \u001b[39m0\u001b[39m\n\u001b[1;32m    238\u001b[0m ):\n\u001b[0;32m--> 239\u001b[0m     raise_last_ffi_error()\n\u001b[1;32m    240\u001b[0m _ \u001b[39m=\u001b[39m temp_args\n\u001b[1;32m    241\u001b[0m _ \u001b[39m=\u001b[39m args\n",
      "File \u001b[0;32m/media/pc/data/lxw/ai/tvm/xinetzone/__pypackages__/3.10/lib/tvm/_ffi/base.py:476\u001b[0m, in \u001b[0;36mraise_last_ffi_error\u001b[0;34m()\u001b[0m\n\u001b[1;32m    470\u001b[0m \u001b[39m# The exception PyObject may contain a large amount of state,\u001b[39;00m\n\u001b[1;32m    471\u001b[0m \u001b[39m# including all stack frames that may be inspected in a later\u001b[39;00m\n\u001b[1;32m    472\u001b[0m \u001b[39m# PDB post-mortem.  Therefore, we must make sure to remove the\u001b[39;00m\n\u001b[1;32m    473\u001b[0m \u001b[39m# underlying PyObject* from the C++ side after we retrieve it.\u001b[39;00m\n\u001b[1;32m    474\u001b[0m _LIB\u001b[39m.\u001b[39mTVMDropLastPythonError()\n\u001b[0;32m--> 476\u001b[0m \u001b[39mraise\u001b[39;00m py_err\n",
      "\u001b[0;31mInternalError\u001b[0m: Traceback (most recent call last):\n  104: tvm::runtime::PackedFuncObj::Extractor<tvm::runtime::PackedFuncSubObj<tvm::runtime::TypedPackedFunc<tvm::IRModule (tvm::transform::Pass, tvm::IRModule)>::AssignTypedLambda<tvm::transform::{lambda(tvm::transform::Pass, tvm::IRModule)#7}>(tvm::transform::{lambda(tvm::transform::Pass, tvm::IRModule)#7}, std::__cxx11::basic_string<char, std::char_traits<char>, std::allocator<char> >)::{lambda(tvm::runtime::TVMArgs const&, tvm::runtime::TVMRetValue*)#1}> >::Call(tvm::runtime::PackedFuncObj const*, tvm::runtime::TVMArgs, tvm::runtime::TVMRetValue*)\n  103: tvm::transform::Pass::operator()(tvm::IRModule) const\n  102: tvm::transform::Pass::operator()(tvm::IRModule, tvm::transform::PassContext const&) const\n  101: tvm::transform::SequentialNode::operator()(tvm::IRModule, tvm::transform::PassContext const&) const\n  100: tvm::transform::Pass::operator()(tvm::IRModule, tvm::transform::PassContext const&) const\n  99: tvm::transform::ModulePassNode::operator()(tvm::IRModule, tvm::transform::PassContext const&) const\n  98: _ZN3tvm7runtime13PackedFuncObj\n  97: tvm::runtime::TypedPackedFunc<tvm::IRModule (tvm::IRModule, tvm::transform::PassContext)>::AssignTypedLambda<tvm::relay::transform::PartitionGraph(tvm::runtime::String, bool)::{lambda(tvm::IRModule, tvm::transform::PassContext)#3}>(tvm::relay::transform::PartitionGraph(tvm::runtime::String, bool)::{lambda(tvm::IRModule, tvm::transform::PassContext)#3})::{lambda(tvm::runtime::TVMArgs const&, tvm::runtime::TVMRetValue*)#1}::operator()(tvm::runtime::TVMArgs const&, tvm::runtime::TVMRetValue*) const\n  96: tvm::relay::partitioning::Partitioner::Partition()\n  95: tvm::relay::MixedModeMutator::VisitExpr(tvm::RelayExpr const&)\n  94: void tvm::relay::ExpandDataflow<tvm::relay::MixedModeMutator::VisitExpr(tvm::RelayExpr const&)::{lambda(tvm::RelayExpr const&)#1}, tvm::relay::MixedModeMutator::VisitExpr(tvm::RelayExpr const&)::{lambda(tvm::RelayExpr const&)#2}, tvm::relay::ExpandDataflow<tvm::relay::MixedModeMutator::VisitExpr(tvm::RelayExpr const&)::{lambda(tvm::RelayExpr const&)#1}, tvm::relay::MixedModeMutator::VisitExpr(tvm::RelayExpr const&)::{lambda(tvm::RelayExpr const&)#2}>(tvm::RelayExpr, tvm::relay::MixedModeMutator::VisitExpr(tvm::RelayExpr const&)::{lambda(tvm::RelayExpr const&)#1}, tvm::relay::MixedModeMutator::VisitExpr(tvm::RelayExpr const&)::{lambda(tvm::RelayExpr const&)#2})::{lambda(tvm::RelayExpr const&)#1}>(tvm::RelayExpr, tvm::relay::MixedModeMutator::VisitExpr(tvm::RelayExpr const&)::{lambda(tvm::RelayExpr const&)#1}, tvm::relay::MixedModeMutator::VisitExpr(tvm::RelayExpr const&)::{lambda(tvm::RelayExpr const&)#2}, tvm::relay::ExpandDataflow<tvm::relay::MixedModeMutator::VisitExpr(tvm::RelayExpr const&)::{lambda(tvm::RelayExpr const&)#1}, tvm::relay::MixedModeMutator::VisitExpr(tvm::RelayExpr const&)::{lambda(tvm::RelayExpr const&)#2}>(tvm::RelayExpr, tvm::relay::MixedModeMutator::VisitExpr(tvm::RelayExpr const&)::{lambda(tvm::RelayExpr const&)#1}, tvm::relay::MixedModeMutator::VisitExpr(tvm::RelayExpr const&)::{lambda(tvm::RelayExpr const&)#2})::{lambda(tvm::RelayExpr const&)#1}) [clone .isra.0]\n  93: tvm::relay::MixedModeMutator::VisitLeaf(tvm::RelayExpr const&)\n  92: _ZN3tvm5relay16MixedModeMutator17DispatchVisitExprERKNS_9RelayExp\n  91: tvm::relay::ExprMutator::VisitExpr(tvm::RelayExpr const&)\n  90: _ZZN3tvm5relay11ExprFunctorIFNS_9RelayExprERKS2_EE10InitVTableEvENUlRKNS_7r\n  89: tvm::relay::ExprMutator::VisitExpr_(tvm::relay::LetNode const*)\n  88: tvm::relay::MixedModeMutator::VisitExpr(tvm::RelayExpr const&)\n  87: void tvm::relay::ExpandDataflow<tvm::relay::MixedModeMutator::VisitExpr(tvm::RelayExpr const&)::{lambda(tvm::RelayExpr const&)#1}, tvm::relay::MixedModeMutator::VisitExpr(tvm::RelayExpr const&)::{lambda(tvm::RelayExpr const&)#2}, tvm::relay::ExpandDataflow<tvm::relay::MixedModeMutator::VisitExpr(tvm::RelayExpr const&)::{lambda(tvm::RelayExpr const&)#1}, tvm::relay::MixedModeMutator::VisitExpr(tvm::RelayExpr const&)::{lambda(tvm::RelayExpr const&)#2}>(tvm::RelayExpr, tvm::relay::MixedModeMutator::VisitExpr(tvm::RelayExpr const&)::{lambda(tvm::RelayExpr const&)#1}, tvm::relay::MixedModeMutator::VisitExpr(tvm::RelayExpr const&)::{lambda(tvm::RelayExpr const&)#2})::{lambda(tvm::RelayExpr const&)#1}>(tvm::RelayExpr, tvm::relay::MixedModeMutator::VisitExpr(tvm::RelayExpr const&)::{lambda(tvm::RelayExpr const&)#1}, tvm::relay::MixedModeMutator::VisitExpr(tvm::RelayExpr const&)::{lambda(tvm::RelayExpr const&)#2}, tvm::relay::ExpandDataflow<tvm::relay::MixedModeMutator::VisitExpr(tvm::RelayExpr const&)::{lambda(tvm::RelayExpr const&)#1}, tvm::relay::MixedModeMutator::VisitExpr(tvm::RelayExpr const&)::{lambda(tvm::RelayExpr const&)#2}>(tvm::RelayExpr, tvm::relay::MixedModeMutator::VisitExpr(tvm::RelayExpr const&)::{lambda(tvm::RelayExpr const&)#1}, tvm::relay::MixedModeMutator::VisitExpr(tvm::RelayExpr const&)::{lambda(tvm::RelayExpr const&)#2})::{lambda(tvm::RelayExpr const&)#1}) [clone .isra.0]\n  86: tvm::relay::MixedModeMutator::VisitLeaf(tvm::RelayExpr const&)\n  85: _ZN3tvm5relay16MixedModeMutator17DispatchVisitExprERKNS_9RelayExp\n  84: tvm::relay::ExprMutator::VisitExpr(tvm::RelayExpr const&)\n  83: _ZZN3tvm5relay11ExprFunctorIFNS_9RelayExprERKS2_EE10InitVTableEvENUlRKNS_7r\n  82: tvm::relay::ExprMutator::VisitExpr_(tvm::relay::LetNode const*)\n  81: tvm::relay::MixedModeMutator::VisitExpr(tvm::RelayExpr const&)\n  80: void tvm::relay::ExpandDataflow<tvm::relay::MixedModeMutator::VisitExpr(tvm::RelayExpr const&)::{lambda(tvm::RelayExpr const&)#1}, tvm::relay::MixedModeMutator::VisitExpr(tvm::RelayExpr const&)::{lambda(tvm::RelayExpr const&)#2}, tvm::relay::ExpandDataflow<tvm::relay::MixedModeMutator::VisitExpr(tvm::RelayExpr const&)::{lambda(tvm::RelayExpr const&)#1}, tvm::relay::MixedModeMutator::VisitExpr(tvm::RelayExpr const&)::{lambda(tvm::RelayExpr const&)#2}>(tvm::RelayExpr, tvm::relay::MixedModeMutator::VisitExpr(tvm::RelayExpr const&)::{lambda(tvm::RelayExpr const&)#1}, tvm::relay::MixedModeMutator::VisitExpr(tvm::RelayExpr const&)::{lambda(tvm::RelayExpr const&)#2})::{lambda(tvm::RelayExpr const&)#1}>(tvm::RelayExpr, tvm::relay::MixedModeMutator::VisitExpr(tvm::RelayExpr const&)::{lambda(tvm::RelayExpr const&)#1}, tvm::relay::MixedModeMutator::VisitExpr(tvm::RelayExpr const&)::{lambda(tvm::RelayExpr const&)#2}, tvm::relay::ExpandDataflow<tvm::relay::MixedModeMutator::VisitExpr(tvm::RelayExpr const&)::{lambda(tvm::RelayExpr const&)#1}, tvm::relay::MixedModeMutator::VisitExpr(tvm::RelayExpr const&)::{lambda(tvm::RelayExpr const&)#2}>(tvm::RelayExpr, tvm::relay::MixedModeMutator::VisitExpr(tvm::RelayExpr const&)::{lambda(tvm::RelayExpr const&)#1}, tvm::relay::MixedModeMutator::VisitExpr(tvm::RelayExpr const&)::{lambda(tvm::RelayExpr const&)#2})::{lambda(tvm::RelayExpr const&)#1}) [clone .isra.0]\n  79: tvm::relay::MixedModeMutator::VisitLeaf(tvm::RelayExpr const&)\n  78: _ZN3tvm5relay16MixedModeMutator17DispatchVisitExprERKNS_9RelayExp\n  77: tvm::relay::ExprMutator::VisitExpr(tvm::RelayExpr const&)\n  76: _ZZN3tvm5relay11ExprFunctorIFNS_9RelayExprERKS2_EE10InitVTableEvENUlRKNS_7r\n  75: tvm::relay::ExprMutator::VisitExpr_(tvm::relay::LetNode const*)\n  74: tvm::relay::MixedModeMutator::VisitExpr(tvm::RelayExpr const&)\n  73: void tvm::relay::ExpandDataflow<tvm::relay::MixedModeMutator::VisitExpr(tvm::RelayExpr const&)::{lambda(tvm::RelayExpr const&)#1}, tvm::relay::MixedModeMutator::VisitExpr(tvm::RelayExpr const&)::{lambda(tvm::RelayExpr const&)#2}, tvm::relay::ExpandDataflow<tvm::relay::MixedModeMutator::VisitExpr(tvm::RelayExpr const&)::{lambda(tvm::RelayExpr const&)#1}, tvm::relay::MixedModeMutator::VisitExpr(tvm::RelayExpr const&)::{lambda(tvm::RelayExpr const&)#2}>(tvm::RelayExpr, tvm::relay::MixedModeMutator::VisitExpr(tvm::RelayExpr const&)::{lambda(tvm::RelayExpr const&)#1}, tvm::relay::MixedModeMutator::VisitExpr(tvm::RelayExpr const&)::{lambda(tvm::RelayExpr const&)#2})::{lambda(tvm::RelayExpr const&)#1}>(tvm::RelayExpr, tvm::relay::MixedModeMutator::VisitExpr(tvm::RelayExpr const&)::{lambda(tvm::RelayExpr const&)#1}, tvm::relay::MixedModeMutator::VisitExpr(tvm::RelayExpr const&)::{lambda(tvm::RelayExpr const&)#2}, tvm::relay::ExpandDataflow<tvm::relay::MixedModeMutator::VisitExpr(tvm::RelayExpr const&)::{lambda(tvm::RelayExpr const&)#1}, tvm::relay::MixedModeMutator::VisitExpr(tvm::RelayExpr const&)::{lambda(tvm::RelayExpr const&)#2}>(tvm::RelayExpr, tvm::relay::MixedModeMutator::VisitExpr(tvm::RelayExpr const&)::{lambda(tvm::RelayExpr const&)#1}, tvm::relay::MixedModeMutator::VisitExpr(tvm::RelayExpr const&)::{lambda(tvm::RelayExpr const&)#2})::{lambda(tvm::RelayExpr const&)#1}) [clone .isra.0]\n  72: tvm::relay::MixedModeMutator::VisitLeaf(tvm::RelayExpr const&)\n  71: _ZN3tvm5relay16MixedModeMutator17DispatchVisitExprERKNS_9RelayExp\n  70: tvm::relay::ExprMutator::VisitExpr(tvm::RelayExpr const&)\n  69: _ZZN3tvm5relay11ExprFunctorIFNS_9RelayExprERKS2_EE10InitVTableEvENUlRKNS_7r\n  68: tvm::relay::ExprMutator::VisitExpr_(tvm::relay::LetNode const*)\n  67: tvm::relay::MixedModeMutator::VisitExpr(tvm::RelayExpr const&)\n  66: void tvm::relay::ExpandDataflow<tvm::relay::MixedModeMutator::VisitExpr(tvm::RelayExpr const&)::{lambda(tvm::RelayExpr const&)#1}, tvm::relay::MixedModeMutator::VisitExpr(tvm::RelayExpr const&)::{lambda(tvm::RelayExpr const&)#2}, tvm::relay::ExpandDataflow<tvm::relay::MixedModeMutator::VisitExpr(tvm::RelayExpr const&)::{lambda(tvm::RelayExpr const&)#1}, tvm::relay::MixedModeMutator::VisitExpr(tvm::RelayExpr const&)::{lambda(tvm::RelayExpr const&)#2}>(tvm::RelayExpr, tvm::relay::MixedModeMutator::VisitExpr(tvm::RelayExpr const&)::{lambda(tvm::RelayExpr const&)#1}, tvm::relay::MixedModeMutator::VisitExpr(tvm::RelayExpr const&)::{lambda(tvm::RelayExpr const&)#2})::{lambda(tvm::RelayExpr const&)#1}>(tvm::RelayExpr, tvm::relay::MixedModeMutator::VisitExpr(tvm::RelayExpr const&)::{lambda(tvm::RelayExpr const&)#1}, tvm::relay::MixedModeMutator::VisitExpr(tvm::RelayExpr const&)::{lambda(tvm::RelayExpr const&)#2}, tvm::relay::ExpandDataflow<tvm::relay::MixedModeMutator::VisitExpr(tvm::RelayExpr const&)::{lambda(tvm::RelayExpr const&)#1}, tvm::relay::MixedModeMutator::VisitExpr(tvm::RelayExpr const&)::{lambda(tvm::RelayExpr const&)#2}>(tvm::RelayExpr, tvm::relay::MixedModeMutator::VisitExpr(tvm::RelayExpr const&)::{lambda(tvm::RelayExpr const&)#1}, tvm::relay::MixedModeMutator::VisitExpr(tvm::RelayExpr const&)::{lambda(tvm::RelayExpr const&)#2})::{lambda(tvm::RelayExpr const&)#1}) [clone .isra.0]\n  65: tvm::relay::MixedModeMutator::VisitLeaf(tvm::RelayExpr const&)\n  64: _ZN3tvm5relay16MixedModeMutator17DispatchVisitExprERKNS_9RelayExp\n  63: tvm::relay::ExprMutator::VisitExpr(tvm::RelayExpr const&)\n  62: _ZZN3tvm5relay11ExprFunctorIFNS_9RelayExprERKS2_EE10InitVTableEvENUlRKNS_7r\n  61: tvm::relay::ExprMutator::VisitExpr_(tvm::relay::LetNode const*)\n  60: tvm::relay::MixedModeMutator::VisitExpr(tvm::RelayExpr const&)\n  59: void tvm::relay::ExpandDataflow<tvm::relay::MixedModeMutator::VisitExpr(tvm::RelayExpr const&)::{lambda(tvm::RelayExpr const&)#1}, tvm::relay::MixedModeMutator::VisitExpr(tvm::RelayExpr const&)::{lambda(tvm::RelayExpr const&)#2}, tvm::relay::ExpandDataflow<tvm::relay::MixedModeMutator::VisitExpr(tvm::RelayExpr const&)::{lambda(tvm::RelayExpr const&)#1}, tvm::relay::MixedModeMutator::VisitExpr(tvm::RelayExpr const&)::{lambda(tvm::RelayExpr const&)#2}>(tvm::RelayExpr, tvm::relay::MixedModeMutator::VisitExpr(tvm::RelayExpr const&)::{lambda(tvm::RelayExpr const&)#1}, tvm::relay::MixedModeMutator::VisitExpr(tvm::RelayExpr const&)::{lambda(tvm::RelayExpr const&)#2})::{lambda(tvm::RelayExpr const&)#1}>(tvm::RelayExpr, tvm::relay::MixedModeMutator::VisitExpr(tvm::RelayExpr const&)::{lambda(tvm::RelayExpr const&)#1}, tvm::relay::MixedModeMutator::VisitExpr(tvm::RelayExpr const&)::{lambda(tvm::RelayExpr const&)#2}, tvm::relay::ExpandDataflow<tvm::relay::MixedModeMutator::VisitExpr(tvm::RelayExpr const&)::{lambda(tvm::RelayExpr const&)#1}, tvm::relay::MixedModeMutator::VisitExpr(tvm::RelayExpr const&)::{lambda(tvm::RelayExpr const&)#2}>(tvm::RelayExpr, tvm::relay::MixedModeMutator::VisitExpr(tvm::RelayExpr const&)::{lambda(tvm::RelayExpr const&)#1}, tvm::relay::MixedModeMutator::VisitExpr(tvm::RelayExpr const&)::{lambda(tvm::RelayExpr const&)#2})::{lambda(tvm::RelayExpr const&)#1}) [clone .isra.0]\n  58: tvm::relay::MixedModeMutator::VisitLeaf(tvm::RelayExpr const&)\n  57: _ZN3tvm5relay16MixedModeMutator17DispatchVisitExprERKNS_9RelayExp\n  56: tvm::relay::ExprMutator::VisitExpr(tvm::RelayExpr const&)\n  55: _ZZN3tvm5relay11ExprFunctorIFNS_9RelayExprERKS2_EE10InitVTableEvENUlRKNS_7r\n  54: tvm::relay::ExprMutator::VisitExpr_(tvm::relay::LetNode const*)\n  53: tvm::relay::MixedModeMutator::VisitExpr(tvm::RelayExpr const&)\n  52: void tvm::relay::ExpandDataflow<tvm::relay::MixedModeMutator::VisitExpr(tvm::RelayExpr const&)::{lambda(tvm::RelayExpr const&)#1}, tvm::relay::MixedModeMutator::VisitExpr(tvm::RelayExpr const&)::{lambda(tvm::RelayExpr const&)#2}, tvm::relay::ExpandDataflow<tvm::relay::MixedModeMutator::VisitExpr(tvm::RelayExpr const&)::{lambda(tvm::RelayExpr const&)#1}, tvm::relay::MixedModeMutator::VisitExpr(tvm::RelayExpr const&)::{lambda(tvm::RelayExpr const&)#2}>(tvm::RelayExpr, tvm::relay::MixedModeMutator::VisitExpr(tvm::RelayExpr const&)::{lambda(tvm::RelayExpr const&)#1}, tvm::relay::MixedModeMutator::VisitExpr(tvm::RelayExpr const&)::{lambda(tvm::RelayExpr const&)#2})::{lambda(tvm::RelayExpr const&)#1}>(tvm::RelayExpr, tvm::relay::MixedModeMutator::VisitExpr(tvm::RelayExpr const&)::{lambda(tvm::RelayExpr const&)#1}, tvm::relay::MixedModeMutator::VisitExpr(tvm::RelayExpr const&)::{lambda(tvm::RelayExpr const&)#2}, tvm::relay::ExpandDataflow<tvm::relay::MixedModeMutator::VisitExpr(tvm::RelayExpr const&)::{lambda(tvm::RelayExpr const&)#1}, tvm::relay::MixedModeMutator::VisitExpr(tvm::RelayExpr const&)::{lambda(tvm::RelayExpr const&)#2}>(tvm::RelayExpr, tvm::relay::MixedModeMutator::VisitExpr(tvm::RelayExpr const&)::{lambda(tvm::RelayExpr const&)#1}, tvm::relay::MixedModeMutator::VisitExpr(tvm::RelayExpr const&)::{lambda(tvm::RelayExpr const&)#2})::{lambda(tvm::RelayExpr const&)#1}) [clone .isra.0]\n  51: tvm::relay::MixedModeMutator::VisitLeaf(tvm::RelayExpr const&)\n  50: _ZN3tvm5relay16MixedModeMutator17DispatchVisitExprERKNS_9RelayExp\n  49: tvm::relay::ExprMutator::VisitExpr(tvm::RelayExpr const&)\n  48: _ZZN3tvm5relay11ExprFunctorIFNS_9RelayExprERKS2_EE10InitVTableEvENUlRKNS_7r\n  47: tvm::relay::ExprMutator::VisitExpr_(tvm::relay::LetNode const*)\n  46: tvm::relay::MixedModeMutator::VisitExpr(tvm::RelayExpr const&)\n  45: void tvm::relay::ExpandDataflow<tvm::relay::MixedModeMutator::VisitExpr(tvm::RelayExpr const&)::{lambda(tvm::RelayExpr const&)#1}, tvm::relay::MixedModeMutator::VisitExpr(tvm::RelayExpr const&)::{lambda(tvm::RelayExpr const&)#2}, tvm::relay::ExpandDataflow<tvm::relay::MixedModeMutator::VisitExpr(tvm::RelayExpr const&)::{lambda(tvm::RelayExpr const&)#1}, tvm::relay::MixedModeMutator::VisitExpr(tvm::RelayExpr const&)::{lambda(tvm::RelayExpr const&)#2}>(tvm::RelayExpr, tvm::relay::MixedModeMutator::VisitExpr(tvm::RelayExpr const&)::{lambda(tvm::RelayExpr const&)#1}, tvm::relay::MixedModeMutator::VisitExpr(tvm::RelayExpr const&)::{lambda(tvm::RelayExpr const&)#2})::{lambda(tvm::RelayExpr const&)#1}>(tvm::RelayExpr, tvm::relay::MixedModeMutator::VisitExpr(tvm::RelayExpr const&)::{lambda(tvm::RelayExpr const&)#1}, tvm::relay::MixedModeMutator::VisitExpr(tvm::RelayExpr const&)::{lambda(tvm::RelayExpr const&)#2}, tvm::relay::ExpandDataflow<tvm::relay::MixedModeMutator::VisitExpr(tvm::RelayExpr const&)::{lambda(tvm::RelayExpr const&)#1}, tvm::relay::MixedModeMutator::VisitExpr(tvm::RelayExpr const&)::{lambda(tvm::RelayExpr const&)#2}>(tvm::RelayExpr, tvm::relay::MixedModeMutator::VisitExpr(tvm::RelayExpr const&)::{lambda(tvm::RelayExpr const&)#1}, tvm::relay::MixedModeMutator::VisitExpr(tvm::RelayExpr const&)::{lambda(tvm::RelayExpr const&)#2})::{lambda(tvm::RelayExpr const&)#1}) [clone .isra.0]\n  44: tvm::relay::MixedModeMutator::VisitLeaf(tvm::RelayExpr const&)\n  43: _ZN3tvm5relay16MixedModeMutator17DispatchVisitExprERKNS_9RelayExp\n  42: tvm::relay::ExprMutator::VisitExpr(tvm::RelayExpr const&)\n  41: _ZZN3tvm5relay11ExprFunctorIFNS_9RelayExprERKS2_EE10InitVTableEvENUlRKNS_7r\n  40: tvm::relay::ExprMutator::VisitExpr_(tvm::relay::LetNode const*)\n  39: tvm::relay::MixedModeMutator::VisitExpr(tvm::RelayExpr const&)\n  38: void tvm::relay::ExpandDataflow<tvm::relay::MixedModeMutator::VisitExpr(tvm::RelayExpr const&)::{lambda(tvm::RelayExpr const&)#1}, tvm::relay::MixedModeMutator::VisitExpr(tvm::RelayExpr const&)::{lambda(tvm::RelayExpr const&)#2}, tvm::relay::ExpandDataflow<tvm::relay::MixedModeMutator::VisitExpr(tvm::RelayExpr const&)::{lambda(tvm::RelayExpr const&)#1}, tvm::relay::MixedModeMutator::VisitExpr(tvm::RelayExpr const&)::{lambda(tvm::RelayExpr const&)#2}>(tvm::RelayExpr, tvm::relay::MixedModeMutator::VisitExpr(tvm::RelayExpr const&)::{lambda(tvm::RelayExpr const&)#1}, tvm::relay::MixedModeMutator::VisitExpr(tvm::RelayExpr const&)::{lambda(tvm::RelayExpr const&)#2})::{lambda(tvm::RelayExpr const&)#1}>(tvm::RelayExpr, tvm::relay::MixedModeMutator::VisitExpr(tvm::RelayExpr const&)::{lambda(tvm::RelayExpr const&)#1}, tvm::relay::MixedModeMutator::VisitExpr(tvm::RelayExpr const&)::{lambda(tvm::RelayExpr const&)#2}, tvm::relay::ExpandDataflow<tvm::relay::MixedModeMutator::VisitExpr(tvm::RelayExpr const&)::{lambda(tvm::RelayExpr const&)#1}, tvm::relay::MixedModeMutator::VisitExpr(tvm::RelayExpr const&)::{lambda(tvm::RelayExpr const&)#2}>(tvm::RelayExpr, tvm::relay::MixedModeMutator::VisitExpr(tvm::RelayExpr const&)::{lambda(tvm::RelayExpr const&)#1}, tvm::relay::MixedModeMutator::VisitExpr(tvm::RelayExpr const&)::{lambda(tvm::RelayExpr const&)#2})::{lambda(tvm::RelayExpr const&)#1}) [clone .isra.0]\n  37: tvm::relay::MixedModeMutator::VisitLeaf(tvm::RelayExpr const&)\n  36: _ZN3tvm5relay16MixedModeMutator17DispatchVisitExprERKNS_9RelayExp\n  35: tvm::relay::ExprMutator::VisitExpr(tvm::RelayExpr const&)\n  34: _ZZN3tvm5relay11ExprFunctorIFNS_9RelayExprERKS2_EE10InitVTableEvENUlRKNS_7r\n  33: tvm::relay::ExprMutator::VisitExpr_(tvm::relay::LetNode const*)\n  32: tvm::relay::MixedModeMutator::VisitExpr(tvm::RelayExpr const&)\n  31: void tvm::relay::ExpandDataflow<tvm::relay::MixedModeMutator::VisitExpr(tvm::RelayExpr const&)::{lambda(tvm::RelayExpr const&)#1}, tvm::relay::MixedModeMutator::VisitExpr(tvm::RelayExpr const&)::{lambda(tvm::RelayExpr const&)#2}, tvm::relay::ExpandDataflow<tvm::relay::MixedModeMutator::VisitExpr(tvm::RelayExpr const&)::{lambda(tvm::RelayExpr const&)#1}, tvm::relay::MixedModeMutator::VisitExpr(tvm::RelayExpr const&)::{lambda(tvm::RelayExpr const&)#2}>(tvm::RelayExpr, tvm::relay::MixedModeMutator::VisitExpr(tvm::RelayExpr const&)::{lambda(tvm::RelayExpr const&)#1}, tvm::relay::MixedModeMutator::VisitExpr(tvm::RelayExpr const&)::{lambda(tvm::RelayExpr const&)#2})::{lambda(tvm::RelayExpr const&)#1}>(tvm::RelayExpr, tvm::relay::MixedModeMutator::VisitExpr(tvm::RelayExpr const&)::{lambda(tvm::RelayExpr const&)#1}, tvm::relay::MixedModeMutator::VisitExpr(tvm::RelayExpr const&)::{lambda(tvm::RelayExpr const&)#2}, tvm::relay::ExpandDataflow<tvm::relay::MixedModeMutator::VisitExpr(tvm::RelayExpr const&)::{lambda(tvm::RelayExpr const&)#1}, tvm::relay::MixedModeMutator::VisitExpr(tvm::RelayExpr const&)::{lambda(tvm::RelayExpr const&)#2}>(tvm::RelayExpr, tvm::relay::MixedModeMutator::VisitExpr(tvm::RelayExpr const&)::{lambda(tvm::RelayExpr const&)#1}, tvm::relay::MixedModeMutator::VisitExpr(tvm::RelayExpr const&)::{lambda(tvm::RelayExpr const&)#2})::{lambda(tvm::RelayExpr const&)#1}) [clone .isra.0]\n  30: tvm::relay::MixedModeMutator::VisitLeaf(tvm::RelayExpr const&)\n  29: _ZN3tvm5relay16MixedModeMutator17DispatchVisitExprERKNS_9RelayExp\n  28: tvm::relay::ExprMutator::VisitExpr(tvm::RelayExpr const&)\n  27: _ZZN3tvm5relay11ExprFunctorIFNS_9RelayExprERKS2_EE10InitVTableEvENUlRKNS_7r\n  26: tvm::relay::ExprMutator::VisitExpr_(tvm::relay::LetNode const*)\n  25: tvm::relay::MixedModeMutator::VisitExpr(tvm::RelayExpr const&)\n  24: void tvm::relay::ExpandDataflow<tvm::relay::MixedModeMutator::VisitExpr(tvm::RelayExpr const&)::{lambda(tvm::RelayExpr const&)#1}, tvm::relay::MixedModeMutator::VisitExpr(tvm::RelayExpr const&)::{lambda(tvm::RelayExpr const&)#2}, tvm::relay::ExpandDataflow<tvm::relay::MixedModeMutator::VisitExpr(tvm::RelayExpr const&)::{lambda(tvm::RelayExpr const&)#1}, tvm::relay::MixedModeMutator::VisitExpr(tvm::RelayExpr const&)::{lambda(tvm::RelayExpr const&)#2}>(tvm::RelayExpr, tvm::relay::MixedModeMutator::VisitExpr(tvm::RelayExpr const&)::{lambda(tvm::RelayExpr const&)#1}, tvm::relay::MixedModeMutator::VisitExpr(tvm::RelayExpr const&)::{lambda(tvm::RelayExpr const&)#2})::{lambda(tvm::RelayExpr const&)#1}>(tvm::RelayExpr, tvm::relay::MixedModeMutator::VisitExpr(tvm::RelayExpr const&)::{lambda(tvm::RelayExpr const&)#1}, tvm::relay::MixedModeMutator::VisitExpr(tvm::RelayExpr const&)::{lambda(tvm::RelayExpr const&)#2}, tvm::relay::ExpandDataflow<tvm::relay::MixedModeMutator::VisitExpr(tvm::RelayExpr const&)::{lambda(tvm::RelayExpr const&)#1}, tvm::relay::MixedModeMutator::VisitExpr(tvm::RelayExpr const&)::{lambda(tvm::RelayExpr const&)#2}>(tvm::RelayExpr, tvm::relay::MixedModeMutator::VisitExpr(tvm::RelayExpr const&)::{lambda(tvm::RelayExpr const&)#1}, tvm::relay::MixedModeMutator::VisitExpr(tvm::RelayExpr const&)::{lambda(tvm::RelayExpr const&)#2})::{lambda(tvm::RelayExpr const&)#1}) [clone .isra.0]\n  23: tvm::relay::MixedModeMutator::VisitLeaf(tvm::RelayExpr const&)\n  22: _ZN3tvm5relay16MixedModeMutator17DispatchVisitExprERKNS_9RelayExp\n  21: tvm::relay::ExprMutator::VisitExpr(tvm::RelayExpr const&)\n  20: _ZZN3tvm5relay11ExprFunctorIFNS_9RelayExprERKS2_EE10InitVTableEvENUlRKNS_7r\n  19: tvm::relay::ExprMutator::VisitExpr_(tvm::relay::LetNode const*)\n  18: tvm::relay::MixedModeMutator::VisitExpr(tvm::RelayExpr const&)\n  17: void tvm::relay::ExpandDataflow<tvm::relay::MixedModeMutator::VisitExpr(tvm::RelayExpr const&)::{lambda(tvm::RelayExpr const&)#1}, tvm::relay::MixedModeMutator::VisitExpr(tvm::RelayExpr const&)::{lambda(tvm::RelayExpr const&)#2}, tvm::relay::ExpandDataflow<tvm::relay::MixedModeMutator::VisitExpr(tvm::RelayExpr const&)::{lambda(tvm::RelayExpr const&)#1}, tvm::relay::MixedModeMutator::VisitExpr(tvm::RelayExpr const&)::{lambda(tvm::RelayExpr const&)#2}>(tvm::RelayExpr, tvm::relay::MixedModeMutator::VisitExpr(tvm::RelayExpr const&)::{lambda(tvm::RelayExpr const&)#1}, tvm::relay::MixedModeMutator::VisitExpr(tvm::RelayExpr const&)::{lambda(tvm::RelayExpr const&)#2})::{lambda(tvm::RelayExpr const&)#1}>(tvm::RelayExpr, tvm::relay::MixedModeMutator::VisitExpr(tvm::RelayExpr const&)::{lambda(tvm::RelayExpr const&)#1}, tvm::relay::MixedModeMutator::VisitExpr(tvm::RelayExpr const&)::{lambda(tvm::RelayExpr const&)#2}, tvm::relay::ExpandDataflow<tvm::relay::MixedModeMutator::VisitExpr(tvm::RelayExpr const&)::{lambda(tvm::RelayExpr const&)#1}, tvm::relay::MixedModeMutator::VisitExpr(tvm::RelayExpr const&)::{lambda(tvm::RelayExpr const&)#2}>(tvm::RelayExpr, tvm::relay::MixedModeMutator::VisitExpr(tvm::RelayExpr const&)::{lambda(tvm::RelayExpr const&)#1}, tvm::relay::MixedModeMutator::VisitExpr(tvm::RelayExpr const&)::{lambda(tvm::RelayExpr const&)#2})::{lambda(tvm::RelayExpr const&)#1}) [clone .isra.0]\n  16: tvm::relay::MixedModeMutator::VisitLeaf(tvm::RelayExpr const&)\n  15: _ZN3tvm5relay16MixedModeMutator17DispatchVisitExprERKNS_9RelayExp\n  14: tvm::relay::ExprMutator::VisitExpr(tvm::RelayExpr const&)\n  13: _ZZN3tvm5relay11ExprFunctorIFNS_9RelayExprERKS2_EE10InitVTableEvENUlRKNS_7r\n  12: tvm::relay::ExprMutator::VisitExpr_(tvm::relay::LetNode const*)\n  11: tvm::relay::MixedModeMutator::VisitExpr(tvm::RelayExpr const&)\n  10: void tvm::relay::ExpandDataflow<tvm::relay::MixedModeMutator::VisitExpr(tvm::RelayExpr const&)::{lambda(tvm::RelayExpr const&)#1}, tvm::relay::MixedModeMutator::VisitExpr(tvm::RelayExpr const&)::{lambda(tvm::RelayExpr const&)#2}, tvm::relay::ExpandDataflow<tvm::relay::MixedModeMutator::VisitExpr(tvm::RelayExpr const&)::{lambda(tvm::RelayExpr const&)#1}, tvm::relay::MixedModeMutator::VisitExpr(tvm::RelayExpr const&)::{lambda(tvm::RelayExpr const&)#2}>(tvm::RelayExpr, tvm::relay::MixedModeMutator::VisitExpr(tvm::RelayExpr const&)::{lambda(tvm::RelayExpr const&)#1}, tvm::relay::MixedModeMutator::VisitExpr(tvm::RelayExpr const&)::{lambda(tvm::RelayExpr const&)#2})::{lambda(tvm::RelayExpr const&)#1}>(tvm::RelayExpr, tvm::relay::MixedModeMutator::VisitExpr(tvm::RelayExpr const&)::{lambda(tvm::RelayExpr const&)#1}, tvm::relay::MixedModeMutator::VisitExpr(tvm::RelayExpr const&)::{lambda(tvm::RelayExpr const&)#2}, tvm::relay::ExpandDataflow<tvm::relay::MixedModeMutator::VisitExpr(tvm::RelayExpr const&)::{lambda(tvm::RelayExpr const&)#1}, tvm::relay::MixedModeMutator::VisitExpr(tvm::RelayExpr const&)::{lambda(tvm::RelayExpr const&)#2}>(tvm::RelayExpr, tvm::relay::MixedModeMutator::VisitExpr(tvm::RelayExpr const&)::{lambda(tvm::RelayExpr const&)#1}, tvm::relay::MixedModeMutator::VisitExpr(tvm::RelayExpr const&)::{lambda(tvm::RelayExpr const&)#2})::{lambda(tvm::RelayExpr const&)#1}) [clone .isra.0]\n  9: tvm::relay::MixedModeMutator::VisitLeaf(tvm::RelayExpr const&)\n  8: _ZN3tvm5relay16MixedModeMutator17DispatchVisitExprERKNS_9RelayExp\n  7: tvm::relay::ExprMutator::VisitExpr(tvm::RelayExpr const&)\n  6: _ZZN3tvm5relay11ExprFunctorIFNS_9RelayExprERKS2_EE10InitVTableEvENUlRKNS_7r\n  5: tvm::relay::MixedModeMutator::VisitExpr_(tvm::relay::CallNode const*)\n  4: tvm::relay::partitioning::Partitioner::Rewrite_(tvm::relay::CallNode const*, tvm::RelayExpr const&)\n  3: tvm::relay::partitioning::Partitioner::CreateFunction(tvm::relay::AnnotatedRegion, tvm::relay::CallNode const*)\n  2: tvm::relay::partitioning::Partitioner::CreateRegionCall(tvm::relay::AnnotatedRegion, tvm::runtime::Array<tvm::RelayExpr, void> const&, tvm::relay::CallNode const*)\n  1: tvm::IRModuleNode::Add(tvm::GlobalVar const&, tvm::BaseFunc const&, bool)\n  0: tvm::runtime::PackedFuncObj::Extractor<tvm::runtime::PackedFuncSubObj<tvm::runtime::TypedPackedFunc<void (tvm::IRModule const&, tvm::BaseFunc const&)>::AssignTypedLambda<tvm::relay::{lambda(tvm::IRModule const&, tvm::BaseFunc const&)#3}>(tvm::relay::{lambda(tvm::IRModule const&, tvm::BaseFunc const&)#3}, std::__cxx11::basic_string<char, std::char_traits<char>, std::allocator<char> >)::{lambda(tvm::runtime::TVMArgs const&, tvm::runtime::TVMRetValue*)#1}> >::Call(tvm::runtime::PackedFuncObj const*, tvm::runtime::TVMArgs, tvm::runtime::TVMRetValue*)\n  File \"/media/pc/data/lxw/ai/tvm/src/relay/ir/function.cc\", line 156\nInternalError: Check failed: fv.size() == 0 (1 vs. 0) : Function:\nfn (%test_1_i0: Tensor[(1, 3, 224, 224), float32], %test_1_i1: Tensor[(32, 3, 3, 3), float32], %test_1_i2: Tensor[(32, 1, 1), float32], global_symbol=\"test_main_1\", Primitive=1, Compiler=\"test\", Inline=1) -> Tensor[(1, 32, 112, 112), float32] {\n  free_var %test_0_i0: fn (Tensor[(1, 3, 224, 224), float32], Tensor[(32, 3, 3, 3), float32], Tensor[(32, 1, 1), float32]) -> Tensor[(1, 32, 112, 112), float32];\n  %test_0_i0(%test_1_i0, %test_1_i1, %test_1_i2) /* ty=Tensor[(1, 32, 112, 112), float32] */\n}\ncontains free variables: [Var(test_0_i0, ty=I.FuncType([], [I.TensorType([1, 3, 224, 224], \"float32\"), I.TensorType([32, 3, 3, 3], \"float32\"), I.TensorType([32, 1, 1], \"float32\")], I.TensorType([1, 32, 112, 112], \"float32\")))]"
     ]
    }
   ],
   "source": [
    "print(relay.transform.PartitionGraph()(calibrate_mod_t))"
   ]
  },
  {
   "cell_type": "code",
   "execution_count": null,
   "metadata": {},
   "outputs": [],
   "source": []
  },
  {
   "cell_type": "code",
   "execution_count": 105,
   "metadata": {},
   "outputs": [
    {
     "name": "stdout",
     "output_type": "stream",
     "text": [
      "def @main(%data: Tensor[(1, 3, 224, 224), float32] /* ty=Tensor[(1, 3, 224, 224), float32] span=aten::_convolution_0.data:0:0 */) -> Tensor[(1, 32, 112, 112), float32] {\n",
      "  let %x_417: float32 /* ty=float32 */ = 0.0340509f /* ty=float32 */;\n",
      "  let %x_418: float32 /* ty=float32 */ = -127f /* ty=float32 */;\n",
      "  let %x_419: float32 /* ty=float32 */ = 127f /* ty=float32 */;\n",
      "  %0 = relay.op.annotation.simulated_quantize(%data, %x_417, %x_418, %x_419, kind=1) /* ty=Tensor[(1, 3, 224, 224), float32] */;\n",
      "  let %x_420: Tensor[(1, 3, 224, 224), float32] /* ty=Tensor[(1, 3, 224, 224), float32] */ = annotation.compiler_end(%0, compiler=\"default\") /* ty=Tensor[(1, 3, 224, 224), float32] */;\n",
      "  let %x_421: Tensor[(32, 3, 3, 3), float32] /* ty=Tensor[(32, 3, 3, 3), float32] */ = meta[relay.Constant][0] /* ty=Tensor[(32, 3, 3, 3), float32] */;\n",
      "  let %x_422: float32 /* ty=float32 */ = 0.00283333f /* ty=float32 */;\n",
      "  let %x_423: float32 /* ty=float32 */ = -127f /* ty=float32 */;\n",
      "  let %x_424: float32 /* ty=float32 */ = 127f /* ty=float32 */;\n",
      "  %1 = relay.op.annotation.simulated_quantize(%x_421, %x_422, %x_423, %x_424, kind=2) /* ty=Tensor[(32, 3, 3, 3), float32] */;\n",
      "  let %x_425: Tensor[(32, 3, 3, 3), float32] /* ty=Tensor[(32, 3, 3, 3), float32] */ = annotation.compiler_end(%1, compiler=\"default\") /* ty=Tensor[(32, 3, 3, 3), float32] */;\n",
      "  let %x_426: Tensor[(32, 1, 1), float32] /* ty=Tensor[(32, 1, 1), float32] */ = meta[relay.Constant][1] /* ty=Tensor[(32, 1, 1), float32] */;\n",
      "  let %x_439: fn (Tensor[(1, 3, 224, 224), float32], Tensor[(32, 3, 3, 3), float32], Tensor[(32, 1, 1), float32]) -> Tensor[(1, 32, 112, 112), float32] /* ty=fn (Tensor[(1, 3, 224, 224), float32], Tensor[(32, 3, 3, 3), float32], Tensor[(32, 1, 1), float32]) -> Tensor[(1, 32, 112, 112), float32] */ = fn (%FunctionVar_1_0: Tensor[(1, 3, 224, 224), float32] /* ty=Tensor[(1, 3, 224, 224), float32] */, %FunctionVar_1_1: Tensor[(32, 3, 3, 3), float32] /* ty=Tensor[(32, 3, 3, 3), float32] */, %FunctionVar_1_2: Tensor[(32, 1, 1), float32] /* ty=Tensor[(32, 1, 1), float32] */, PartitionedFromPattern=\"nn.conv2d_relay.op.annotation.simulated_quantize_add_clip_relay.op.annotation.simulated_quantize_annotation.cast_hint_\", Composite=\"ccompiler.conv_add_activate\") -> Tensor[(1, 32, 112, 112), float32] {\n",
      "    %2 = nn.conv2d(%FunctionVar_1_0, %FunctionVar_1_1, strides=[2, 2], padding=[1, 1, 1, 1], channels=32, kernel_size=[3, 3]) /* ty=Tensor[(1, 32, 112, 112), float32] */;\n",
      "    let %x_427: Tensor[(1, 32, 112, 112), float32] /* ty=Tensor[(1, 32, 112, 112), float32] */ = annotation.compiler_end(%2, compiler=\"default\") /* ty=Tensor[(1, 32, 112, 112), float32] */;\n",
      "    let %x_428: float32 /* ty=float32 */ = 0.00756057f /* ty=float32 */;\n",
      "    let %x_429: float32 /* ty=float32 */ = -127f /* ty=float32 */;\n",
      "    let %x_430: float32 /* ty=float32 */ = 127f /* ty=float32 */;\n",
      "    %3 = relay.op.annotation.simulated_quantize(%FunctionVar_1_2, %x_428, %x_429, %x_430, kind=2) /* ty=Tensor[(32, 1, 1), float32] */;\n",
      "    let %x_431: Tensor[(32, 1, 1), float32] /* ty=Tensor[(32, 1, 1), float32] */ = annotation.compiler_end(%3, compiler=\"default\") /* ty=Tensor[(32, 1, 1), float32] */;\n",
      "    %4 = add(%x_427, %x_431) /* ty=Tensor[(1, 32, 112, 112), float32] */;\n",
      "    let %x_432: Tensor[(1, 32, 112, 112), float32] /* ty=Tensor[(1, 32, 112, 112), float32] */ = annotation.compiler_end(%4, compiler=\"default\") /* ty=Tensor[(1, 32, 112, 112), float32] */;\n",
      "    %5 = clip(%x_432, a_min=0f, a_max=6f) /* ty=Tensor[(1, 32, 112, 112), float32] */;\n",
      "    let %x_433: Tensor[(1, 32, 112, 112), float32] /* ty=Tensor[(1, 32, 112, 112), float32] */ = annotation.compiler_end(%5, compiler=\"default\") /* ty=Tensor[(1, 32, 112, 112), float32] */;\n",
      "    let %x_434: float32 /* ty=float32 */ = 0.0150701f /* ty=float32 */;\n",
      "    let %x_435: float32 /* ty=float32 */ = -127f /* ty=float32 */;\n",
      "    let %x_436: float32 /* ty=float32 */ = 127f /* ty=float32 */;\n",
      "    %6 = relay.op.annotation.simulated_quantize(%x_433, %x_434, %x_435, %x_436, kind=1) /* ty=Tensor[(1, 32, 112, 112), float32] */;\n",
      "    let %x_437: Tensor[(1, 32, 112, 112), float32] /* ty=Tensor[(1, 32, 112, 112), float32] */ = annotation.compiler_end(%6, compiler=\"default\") /* ty=Tensor[(1, 32, 112, 112), float32] */;\n",
      "    %7 = annotation.cast_hint(%x_437, dtype=\"int8\") /* ty=Tensor[(1, 32, 112, 112), float32] */;\n",
      "    let %x_438: Tensor[(1, 32, 112, 112), float32] /* ty=Tensor[(1, 32, 112, 112), float32] */ = annotation.compiler_end(%7, compiler=\"default\") /* ty=Tensor[(1, 32, 112, 112), float32] */;\n",
      "    %x_438\n",
      "  } /* ty=fn (Tensor[(1, 3, 224, 224), float32], Tensor[(32, 3, 3, 3), float32], Tensor[(32, 1, 1), float32]) -> Tensor[(1, 32, 112, 112), float32] */;\n",
      "  %8 = annotation.compiler_begin(%x_420, compiler=\"test\") /* ty=Tensor[(1, 3, 224, 224), float32] */;\n",
      "  %9 = annotation.compiler_begin(%x_425, compiler=\"test\") /* ty=Tensor[(32, 3, 3, 3), float32] */;\n",
      "  %10 = annotation.compiler_begin(%x_426, compiler=\"test\") /* ty=Tensor[(32, 1, 1), float32] */;\n",
      "  %11 = annotation.compiler_begin(%x_439, compiler=\"test\") /* ty=fn (Tensor[(1, 3, 224, 224), float32], Tensor[(32, 3, 3, 3), float32], Tensor[(32, 1, 1), float32]) -> Tensor[(1, 32, 112, 112), float32] */;\n",
      "  %12 = %11(%8, %9, %10) /* ty=Tensor[(1, 32, 112, 112), float32] */;\n",
      "  let %x_440: Tensor[(1, 32, 112, 112), float32] /* ty=Tensor[(1, 32, 112, 112), float32] */ = annotation.compiler_end(%12, compiler=\"test\") /* ty=Tensor[(1, 32, 112, 112), float32] */;\n",
      "  %13 = annotation.stop_fusion(%x_440) /* ty=Tensor[(1, 32, 112, 112), float32] */;\n",
      "  let %x_441: Tensor[(1, 32, 112, 112), float32] /* ty=Tensor[(1, 32, 112, 112), float32] */ = annotation.compiler_end(%13, compiler=\"default\") /* ty=Tensor[(1, 32, 112, 112), float32] */;\n",
      "  let %x_442: Tensor[(32, 1, 3, 3), float32] /* ty=Tensor[(32, 1, 3, 3), float32] */ = meta[relay.Constant][2] /* ty=Tensor[(32, 1, 3, 3), float32] */;\n",
      "  let %x_443: float32 /* ty=float32 */ = 0.117756f /* ty=float32 */;\n",
      "  let %x_444: float32 /* ty=float32 */ = -127f /* ty=float32 */;\n",
      "  let %x_445: float32 /* ty=float32 */ = 127f /* ty=float32 */;\n",
      "  %14 = relay.op.annotation.simulated_quantize(%x_442, %x_443, %x_444, %x_445, kind=2) /* ty=Tensor[(32, 1, 3, 3), float32] */;\n",
      "  let %x_446: Tensor[(32, 1, 3, 3), float32] /* ty=Tensor[(32, 1, 3, 3), float32] */ = annotation.compiler_end(%14, compiler=\"default\") /* ty=Tensor[(32, 1, 3, 3), float32] */;\n",
      "  let %x_447: Tensor[(32, 1, 1), float32] /* ty=Tensor[(32, 1, 1), float32] */ = meta[relay.Constant][3] /* ty=Tensor[(32, 1, 1), float32] */;\n",
      "  let %x_460: fn (Tensor[(1, 32, 112, 112), float32], Tensor[(32, 1, 3, 3), float32], Tensor[(32, 1, 1), float32]) -> Tensor[(1, 32, 112, 112), float32] /* ty=fn (Tensor[(1, 32, 112, 112), float32], Tensor[(32, 1, 3, 3), float32], Tensor[(32, 1, 1), float32]) -> Tensor[(1, 32, 112, 112), float32] */ = fn (%FunctionVar_0_0: Tensor[(1, 32, 112, 112), float32] /* ty=Tensor[(1, 32, 112, 112), float32] */, %FunctionVar_0_1: Tensor[(32, 1, 3, 3), float32] /* ty=Tensor[(32, 1, 3, 3), float32] */, %FunctionVar_0_2: Tensor[(32, 1, 1), float32] /* ty=Tensor[(32, 1, 1), float32] */, PartitionedFromPattern=\"nn.conv2d_relay.op.annotation.simulated_quantize_add_clip_relay.op.annotation.simulated_quantize_annotation.cast_hint_\", Composite=\"ccompiler.conv_add_activate\") -> Tensor[(1, 32, 112, 112), float32] {\n",
      "    %15 = nn.conv2d(%FunctionVar_0_0, %FunctionVar_0_1, padding=[1, 1, 1, 1], groups=32, channels=32, kernel_size=[3, 3]) /* ty=Tensor[(1, 32, 112, 112), float32] */;\n",
      "    let %x_448: Tensor[(1, 32, 112, 112), float32] /* ty=Tensor[(1, 32, 112, 112), float32] */ = annotation.compiler_end(%15, compiler=\"default\") /* ty=Tensor[(1, 32, 112, 112), float32] */;\n",
      "    let %x_449: float32 /* ty=float32 */ = 0.0291522f /* ty=float32 */;\n",
      "    let %x_450: float32 /* ty=float32 */ = -127f /* ty=float32 */;\n",
      "    let %x_451: float32 /* ty=float32 */ = 127f /* ty=float32 */;\n",
      "    %16 = relay.op.annotation.simulated_quantize(%FunctionVar_0_2, %x_449, %x_450, %x_451, kind=2) /* ty=Tensor[(32, 1, 1), float32] */;\n",
      "    let %x_452: Tensor[(32, 1, 1), float32] /* ty=Tensor[(32, 1, 1), float32] */ = annotation.compiler_end(%16, compiler=\"default\") /* ty=Tensor[(32, 1, 1), float32] */;\n",
      "    %17 = add(%x_448, %x_452) /* ty=Tensor[(1, 32, 112, 112), float32] */;\n",
      "    let %x_453: Tensor[(1, 32, 112, 112), float32] /* ty=Tensor[(1, 32, 112, 112), float32] */ = annotation.compiler_end(%17, compiler=\"default\") /* ty=Tensor[(1, 32, 112, 112), float32] */;\n",
      "    %18 = clip(%x_453, a_min=0f, a_max=6f) /* ty=Tensor[(1, 32, 112, 112), float32] */;\n",
      "    let %x_454: Tensor[(1, 32, 112, 112), float32] /* ty=Tensor[(1, 32, 112, 112), float32] */ = annotation.compiler_end(%18, compiler=\"default\") /* ty=Tensor[(1, 32, 112, 112), float32] */;\n",
      "    let %x_455: float32 /* ty=float32 */ = 0.0460431f /* ty=float32 */;\n",
      "    let %x_456: float32 /* ty=float32 */ = -127f /* ty=float32 */;\n",
      "    let %x_457: float32 /* ty=float32 */ = 127f /* ty=float32 */;\n",
      "    %19 = relay.op.annotation.simulated_quantize(%x_454, %x_455, %x_456, %x_457, kind=1) /* ty=Tensor[(1, 32, 112, 112), float32] */;\n",
      "    let %x_458: Tensor[(1, 32, 112, 112), float32] /* ty=Tensor[(1, 32, 112, 112), float32] */ = annotation.compiler_end(%19, compiler=\"default\") /* ty=Tensor[(1, 32, 112, 112), float32] */;\n",
      "    %20 = annotation.cast_hint(%x_458, dtype=\"int8\") /* ty=Tensor[(1, 32, 112, 112), float32] */;\n",
      "    let %x_459: Tensor[(1, 32, 112, 112), float32] /* ty=Tensor[(1, 32, 112, 112), float32] */ = annotation.compiler_end(%20, compiler=\"default\") /* ty=Tensor[(1, 32, 112, 112), float32] */;\n",
      "    %x_459\n",
      "  } /* ty=fn (Tensor[(1, 32, 112, 112), float32], Tensor[(32, 1, 3, 3), float32], Tensor[(32, 1, 1), float32]) -> Tensor[(1, 32, 112, 112), float32] */;\n",
      "  %21 = annotation.compiler_begin(%x_441, compiler=\"test\") /* ty=Tensor[(1, 32, 112, 112), float32] */;\n",
      "  %22 = annotation.compiler_begin(%x_446, compiler=\"test\") /* ty=Tensor[(32, 1, 3, 3), float32] */;\n",
      "  %23 = annotation.compiler_begin(%x_447, compiler=\"test\") /* ty=Tensor[(32, 1, 1), float32] */;\n",
      "  %24 = annotation.compiler_begin(%x_460, compiler=\"test\") /* ty=fn (Tensor[(1, 32, 112, 112), float32], Tensor[(32, 1, 3, 3), float32], Tensor[(32, 1, 1), float32]) -> Tensor[(1, 32, 112, 112), float32] */;\n",
      "  %25 = %24(%21, %22, %23) /* ty=Tensor[(1, 32, 112, 112), float32] */;\n",
      "  let %x_461: Tensor[(1, 32, 112, 112), float32] /* ty=Tensor[(1, 32, 112, 112), float32] */ = annotation.compiler_end(%25, compiler=\"test\") /* ty=Tensor[(1, 32, 112, 112), float32] */;\n",
      "  %26 = annotation.stop_fusion(%x_461) /* ty=Tensor[(1, 32, 112, 112), float32] */;\n",
      "  let %x_462: Tensor[(1, 32, 112, 112), float32] /* ty=Tensor[(1, 32, 112, 112), float32] */ = annotation.compiler_end(%26, compiler=\"default\") /* ty=Tensor[(1, 32, 112, 112), float32] */;\n",
      "  %x_462\n",
      "}\n",
      "\n",
      "\n"
     ]
    }
   ],
   "source": [
    "print(calibrate_mod_t)"
   ]
  },
  {
   "cell_type": "code",
   "execution_count": null,
   "metadata": {},
   "outputs": [],
   "source": [
    "node.op"
   ]
  },
  {
   "cell_type": "code",
   "execution_count": null,
   "metadata": {},
   "outputs": [],
   "source": [
    "func_id = 0\n",
    "call = calibrate_transform.nodes[func_id]\n",
    "new_fn = call.op\n",
    "new_args = new_fn.params\n",
    "call = run_opt_pass(call, relay.transform.DefuseOps())\n",
    "print(call)\n",
    "new_fn = tvm.IRModule.from_expr(call)[\"main\"]\n",
    "call = Call(new_fn.body, new_fn.params, attrs=new_fn.attrs, type_args=new_fn.type_params, span=new_fn.span)\n",
    "# call = run_opt_pass(call, relay.transform.DefuseOps())\n",
    "# new_args = [relay.var(f\"x_{func_id:03}_{ind:03d}\") for ind, arg in enumerate(new_fn.params)]\n",
    "# _bind_dict = dict(zip(new_fn.params, new_args))\n",
    "# new_fn = relay.bind(new_fn, _bind_dict)"
   ]
  },
  {
   "cell_type": "code",
   "execution_count": null,
   "metadata": {},
   "outputs": [],
   "source": [
    "print(call)"
   ]
  },
  {
   "cell_type": "code",
   "execution_count": null,
   "metadata": {},
   "outputs": [],
   "source": [
    "g_var_names = []\n",
    "for arg in calibrate_mod_t.get_global_vars():\n",
    "    if arg.name_hint == \"main\":\n",
    "        continue\n",
    "    new_fn = calibrate_mod_t[arg]\n",
    "    # 过滤不需要的函数\n",
    "    name = new_fn.attrs[\"PartitionedFromPattern\"].replace(\"relay.op.annotation.simulated_quantize_\", \"\").replace(\"annotation.cast_hint_\", \"\")\n",
    "    if \"squeeze\" in name:\n",
    "        continue\n",
    "    g_var_names.append(arg.name_hint)\n",
    "g_var_names.sort()\n"
   ]
  },
  {
   "cell_type": "code",
   "execution_count": null,
   "metadata": {},
   "outputs": [],
   "source": [
    "float_mod = tvm.IRModule()\n",
    "for func_name in g_var_names:\n",
    "    new_fn = partition_transform.bind_dict[func_name]\n",
    "    float_mod[func_name] = new_fn\n",
    "\n",
    "q_mod = tvm.IRModule()\n",
    "for func_name in g_var_names:\n",
    "    new_fn = calibrate_mod_t[func_name]\n",
    "    new_fn = DefuseMutator(float_mod).visit(new_fn)\n",
    "    q_mod[func_name] = new_fn"
   ]
  },
  {
   "cell_type": "code",
   "execution_count": null,
   "metadata": {},
   "outputs": [],
   "source": [
    "# partial_quant_outputs = []\n",
    "# for func_name in tqdm(g_var_names):\n",
    "#     new_fn = calibrate_mod_t[func_name]\n",
    "#     new_fn = DefuseMutator(float_mod).visit(new_fn)\n",
    "#     run_mod = tvm.IRModule.from_expr(new_fn)\n",
    "#     # partial_quant_output = run_llvm_graph(\n",
    "#     #     run_mod,\n",
    "#     #     origin_params,\n",
    "#     #     {\"data\": np.random.normal(size=input_shape)}\n",
    "#     # )\n",
    "#     # partial_quant_outputs.append(partial_quant_output)\n",
    "#     break"
   ]
  },
  {
   "cell_type": "code",
   "execution_count": null,
   "metadata": {},
   "outputs": [],
   "source": [
    "float_mod_t = tvm.IRModule()\n",
    "main_args = mod[\"main\"].params\n",
    "main_fns = []\n",
    "for k, func_name in enumerate(g_var_names):\n",
    "    new_fn = float_mod[func_name]\n",
    "    new_args = [relay.var(f\"x_{k:03}_{ind:03d}\") for ind, arg in enumerate(new_fn.params)]\n",
    "    _bind_dict = dict(zip(new_fn.params, new_args))\n",
    "    new_fn = relay.bind(new_fn, _bind_dict)\n",
    "    float_mod_t[func_name] = new_fn\n",
    "    call = Call(new_fn, main_args, attrs=new_fn.attrs, type_args=new_fn.type_params, span=new_fn.span)\n",
    "    main_fns.append(call)\n",
    "new_fn = run_opt_pass(relay.Tuple(main_fns), relay.transform.DefuseOps())\n",
    "float_mod_t = tvm.IRModule.from_expr(new_fn)"
   ]
  },
  {
   "cell_type": "code",
   "execution_count": null,
   "metadata": {},
   "outputs": [],
   "source": [
    "float_outputs = run_llvm_graph(\n",
    "    float_mod_t,\n",
    "    origin_params,\n",
    "    {\"data\": np.random.normal(size=input_shape)}\n",
    ")"
   ]
  },
  {
   "cell_type": "code",
   "execution_count": null,
   "metadata": {},
   "outputs": [],
   "source": [
    "partial_quant_outputs = run_llvm_graph(\n",
    "    float_mod_t,\n",
    "    origin_params,\n",
    "    {\"data\": np.random.normal(size=input_shape)}\n",
    ")"
   ]
  },
  {
   "cell_type": "code",
   "execution_count": null,
   "metadata": {},
   "outputs": [],
   "source": [
    "partial_quant_outputs = []\n",
    "\n",
    "for func_name in tqdm(g_var_names):\n",
    "    new_fn = calibrate_mod_t[func_name]\n",
    "    new_params = transform.bind_params[func_name]\n",
    "    _bind_dict = dict(zip(new_fn.params, new_params))\n",
    "    new_fn = relay.bind(new_fn, _bind_dict)\n",
    "    new_fn = DefuseTransform(partition_mod_t).visit(new_fn)\n",
    "    new_fn = run_opt_pass(new_fn, relay.transform.DefuseOps())\n",
    "    print(f\"部分量化 {func_name}:\\n{new_fn}\")\n",
    "    run_mod = tvm.IRModule.from_expr(new_fn)\n",
    "    # 部分量化模型输出\n",
    "    partial_quant_output = run_llvm_graph(\n",
    "        run_mod,\n",
    "        origin_params,\n",
    "        {\"data\": np.random.normal(size=input_shape)}\n",
    "    )\n",
    "    partial_quant_outputs.append(partial_quant_output[0])\n",
    "    # if func_name == \"f_0002\":\n",
    "    #     break\n"
   ]
  },
  {
   "cell_type": "code",
   "execution_count": null,
   "metadata": {},
   "outputs": [],
   "source": [
    "partial_quant_outputs[0].shape"
   ]
  },
  {
   "cell_type": "code",
   "execution_count": 17,
   "metadata": {},
   "outputs": [],
   "source": []
  },
  {
   "cell_type": "code",
   "execution_count": 18,
   "metadata": {},
   "outputs": [
    {
     "name": "stdout",
     "output_type": "stream",
     "text": [
      "fn (%data: Tensor[(1, 3, 16, 16), float32] /* ty=Tensor[(1, 3, 16, 16), float32] span=aten::_convolution_0.data:0:0 */) -> Tensor[(1, 16, 17, 17), float32] {\n",
      "  %1 = fn (%FunctionVar_0_0: Tensor[(1, 3, 16, 16), float32] /* ty=Tensor[(1, 3, 16, 16), float32] */, %FunctionVar_0_1: Tensor[(16, 3, 1, 1), float32] /* ty=Tensor[(16, 3, 1, 1), float32] */, PartitionedFromPattern=\"nn.conv2d_nn.max_pool2d_\", Composite=\"ccompiler.conv_add_relu_max_pool2d\") -> Tensor[(1, 16, 17, 17), float32] {\n",
      "    %0 = nn.conv2d(%FunctionVar_0_0, %FunctionVar_0_1, padding=[1, 1, 1, 1], channels=16, kernel_size=[1, 1]) /* ty=Tensor[(1, 16, 18, 18), float32] span=aten::_convolution_0:0:0 */;\n",
      "    nn.max_pool2d(%0, pool_size=[2, 2], padding=[0, 0, 0, 0], ceil_mode=True) /* ty=Tensor[(1, 16, 17, 17), float32] span=aten::max_pool2d_0:0:0 */\n",
      "  } /* ty=fn (Tensor[(1, 3, 16, 16), float32], Tensor[(16, 3, 1, 1), float32]) -> Tensor[(1, 16, 17, 17), float32] */;\n",
      "  %1(%data, meta[relay.Constant][0] /* ty=Tensor[(16, 3, 1, 1), float32] */) /* ty=Tensor[(1, 16, 17, 17), float32] */\n",
      "} /* ty=fn (Tensor[(1, 3, 16, 16), float32]) -> Tensor[(1, 16, 17, 17), float32] */\n",
      "\n"
     ]
    }
   ],
   "source": []
  },
  {
   "cell_type": "code",
   "execution_count": null,
   "metadata": {},
   "outputs": [],
   "source": []
  }
 ],
 "metadata": {
  "kernelspec": {
   "display_name": "tvmz",
   "language": "python",
   "name": "python3"
  },
  "language_info": {
   "codemirror_mode": {
    "name": "ipython",
    "version": 3
   },
   "file_extension": ".py",
   "mimetype": "text/x-python",
   "name": "python",
   "nbconvert_exporter": "python",
   "pygments_lexer": "ipython3",
   "version": "3.10.12"
  },
  "orig_nbformat": 4
 },
 "nbformat": 4,
 "nbformat_minor": 2
}
