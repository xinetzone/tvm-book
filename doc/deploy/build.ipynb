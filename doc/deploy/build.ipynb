{
 "cells": [
  {
   "cell_type": "markdown",
   "metadata": {},
   "source": [
    "# 部署 TVM 模块\n",
    "\n",
    "TVM 提供了两种使用编译库的方法。\n",
    "\n",
    "- 将库存储为共享库，并将库动态加载到项目中。\n",
    "- 以系统模块（module）模式将编译后的库捆绑到项目中。\n",
    "\n",
    "动态加载更加灵活，可以动态加载新模块。系统模块是更 static 的方法。可以在禁止动态库加载的地方使用系统模块。"
   ]
  },
  {
   "cell_type": "code",
   "execution_count": 1,
   "metadata": {},
   "outputs": [
    {
     "name": "stdout",
     "output_type": "stream",
     "text": [
      "/media/pc/data/lxw/ai/tvm\n"
     ]
    }
   ],
   "source": [
    "import set_env # 加载 TVM Python 环境"
   ]
  },
  {
   "cell_type": "markdown",
   "metadata": {},
   "source": [
    "加载 Python 模块："
   ]
  },
  {
   "cell_type": "code",
   "execution_count": null,
   "metadata": {},
   "outputs": [],
   "source": [
    "import tvm\n",
    "import numpy as np\n",
    "from tvm import te\n",
    "from tvm import relay\n",
    "from pathlib import Path"
   ]
  },
  {
   "cell_type": "markdown",
   "metadata": {},
   "source": [
    "下面分别以 TVM 和 Relay 为例，说明如何构建 TVM 模块。\n",
    "\n",
    "## TVM 构建"
   ]
  },
  {
   "cell_type": "code",
   "execution_count": null,
   "metadata": {},
   "outputs": [],
   "source": [
    "n = te.var(\"n\")\n",
    "A = te.placeholder((n,), name=\"A\")\n",
    "B = te.compute(A.shape, lambda *i: A(*i) + 1.0, name=\"B\")\n",
    "s = te.create_schedule(B.op)"
   ]
  },
  {
   "cell_type": "markdown",
   "metadata": {},
   "source": [
    "定义输出库的根目录："
   ]
  },
  {
   "cell_type": "code",
   "execution_count": null,
   "metadata": {},
   "outputs": [],
   "source": [
    "base_dir = Path(\"libs\")\n",
    "base_dir.mkdir()"
   ]
  },
  {
   "cell_type": "markdown",
   "metadata": {},
   "source": [
    "编译为动态库："
   ]
  },
  {
   "cell_type": "code",
   "execution_count": null,
   "metadata": {},
   "outputs": [],
   "source": [
    "fadd_dylib = tvm.build(s, [A, B], \"llvm\", name=\"addone\")\n",
    "dylib_path = str(base_dir/\"test_addone_dll.so\")\n",
    "fadd_dylib.export_library(dylib_path)"
   ]
  },
  {
   "cell_type": "markdown",
   "metadata": {},
   "source": [
    "在系统库模式下编译库："
   ]
  },
  {
   "cell_type": "code",
   "execution_count": null,
   "metadata": {},
   "outputs": [],
   "source": [
    "fadd_syslib = tvm.build(s, [A, B], \"llvm\", name=\"addonesys\")\n",
    "syslib_path = str(base_dir/\"test_addone_sys.o\")\n",
    "fadd_syslib.save(syslib_path)"
   ]
  },
  {
   "cell_type": "markdown",
   "metadata": {},
   "source": [
    "## Relay 构建\n",
    "\n",
    "定义 Relay 模块："
   ]
  },
  {
   "cell_type": "code",
   "execution_count": null,
   "metadata": {},
   "outputs": [],
   "source": [
    "x = relay.var(\"x\", shape=(2, 2), dtype=\"float32\")\n",
    "y = relay.var(\"y\", shape=(2, 2), dtype=\"float32\")\n",
    "params = {\"y\": np.ones((2, 2), dtype=\"float32\")}\n",
    "mod = tvm.IRModule.from_expr(relay.Function([x, y], x + y))"
   ]
  },
  {
   "cell_type": "markdown",
   "metadata": {},
   "source": [
    "构建模块："
   ]
  },
  {
   "cell_type": "code",
   "execution_count": null,
   "metadata": {},
   "outputs": [],
   "source": [
    "compiled_lib = relay.build(mod, tvm.target.Target(\"llvm\"), params=params)"
   ]
  },
  {
   "cell_type": "markdown",
   "metadata": {},
   "source": [
    "将其导出为共享库："
   ]
  },
  {
   "cell_type": "code",
   "execution_count": null,
   "metadata": {},
   "outputs": [],
   "source": [
    "dylib_path = str(base_dir/\"test_relay_add.so\")\n",
    "compiled_lib.export_library(dylib_path)"
   ]
  },
  {
   "cell_type": "markdown",
   "metadata": {},
   "source": [
    "```{note}\n",
    "如果正在运行交叉编译，还可以考虑导出到 tar 并稍后调用主机编译器。\n",
    "```"
   ]
  },
  {
   "cell_type": "code",
   "execution_count": null,
   "metadata": {},
   "outputs": [],
   "source": [
    "print(compiled_lib.lib.get_source())"
   ]
  }
 ],
 "metadata": {
  "kernelspec": {
   "display_name": "ai",
   "language": "python",
   "name": "python3"
  },
  "language_info": {
   "codemirror_mode": {
    "name": "ipython",
    "version": 3
   },
   "file_extension": ".py",
   "mimetype": "text/x-python",
   "name": "python",
   "nbconvert_exporter": "python",
   "pygments_lexer": "ipython3",
   "version": "3.10.12"
  },
  "orig_nbformat": 4,
  "vscode": {
   "interpreter": {
    "hash": "d0d307675f12182d62ca143bf4e5db321e57c24ab1edf40ce60a9751b29adda0"
   }
  }
 },
 "nbformat": 4,
 "nbformat_minor": 2
}
