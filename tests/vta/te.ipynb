{
 "cells": [
  {
   "attachments": {},
   "cell_type": "markdown",
   "metadata": {},
   "source": [
    "# TVM 张量表达式"
   ]
  },
  {
   "cell_type": "code",
   "execution_count": 1,
   "metadata": {},
   "outputs": [],
   "source": [
    "import numpy as np\n",
    "import tvm\n",
    "from tvm import te"
   ]
  },
  {
   "cell_type": "code",
   "execution_count": 2,
   "metadata": {},
   "outputs": [
    {
     "data": {
      "text/html": [
       "<div class=\"highlight\" style=\"background: \"><pre style=\"line-height: 125%;\"><span></span><span style=\"color: #007979; font-style: italic\"># from tvm.script import ir as I</span>\n",
       "<span style=\"color: #007979; font-style: italic\"># from tvm.script import tir as T</span>\n",
       "\n",
       "\n",
       "<span style=\"color: #AA22FF\">@I</span><span style=\"color: #AA22FF; font-weight: bold\">.</span>ir_module\n",
       "<span style=\"color: #008000; font-weight: bold\">class</span> <span style=\"color: #0000FF; font-weight: bold\">Module</span>:\n",
       "    <span style=\"color: #AA22FF\">@T</span><span style=\"color: #AA22FF; font-weight: bold\">.</span>prim_func\n",
       "    <span style=\"color: #008000; font-weight: bold\">def</span> <span style=\"color: #0000FF\">main</span>(\n",
       "        A: T<span style=\"color: #AA22FF; font-weight: bold\">.</span>Buffer((<span style=\"color: #008000\">1024</span>,), <span style=\"color: #BA2121\">&quot;float32&quot;</span>),\n",
       "        B: T<span style=\"color: #AA22FF; font-weight: bold\">.</span>Buffer((<span style=\"color: #008000\">1024</span>,), <span style=\"color: #BA2121\">&quot;float32&quot;</span>),\n",
       "        C: T<span style=\"color: #AA22FF; font-weight: bold\">.</span>Buffer((<span style=\"color: #008000\">1024</span>,), <span style=\"color: #BA2121\">&quot;float32&quot;</span>),\n",
       "    ):\n",
       "        T<span style=\"color: #AA22FF; font-weight: bold\">.</span>func_attr(\n",
       "            {\n",
       "                <span style=\"color: #BA2121\">&quot;from_legacy_te_schedule&quot;</span>: T<span style=\"color: #AA22FF; font-weight: bold\">.</span>bool(<span style=\"color: #008000; font-weight: bold\">True</span>),\n",
       "                <span style=\"color: #BA2121\">&quot;global_symbol&quot;</span>: <span style=\"color: #BA2121\">&quot;main&quot;</span>,\n",
       "                <span style=\"color: #BA2121\">&quot;tir.noalias&quot;</span>: T<span style=\"color: #AA22FF; font-weight: bold\">.</span>bool(<span style=\"color: #008000; font-weight: bold\">True</span>),\n",
       "            }\n",
       "        )\n",
       "        <span style=\"color: #008000; font-weight: bold\">for</span> i_outer <span style=\"color: #008000; font-weight: bold\">in</span> T<span style=\"color: #AA22FF; font-weight: bold\">.</span>parallel(<span style=\"color: #008000\">64</span>):\n",
       "            cse_var_1: T<span style=\"color: #AA22FF; font-weight: bold\">.</span>int32 <span style=\"color: #AA22FF; font-weight: bold\">=</span> i_outer <span style=\"color: #AA22FF; font-weight: bold\">*</span> <span style=\"color: #008000\">16</span>\n",
       "            C_1 <span style=\"color: #AA22FF; font-weight: bold\">=</span> T<span style=\"color: #AA22FF; font-weight: bold\">.</span>Buffer((<span style=\"color: #008000\">1024</span>,), data<span style=\"color: #AA22FF; font-weight: bold\">=</span>C<span style=\"color: #AA22FF; font-weight: bold\">.</span>data)\n",
       "            A_1 <span style=\"color: #AA22FF; font-weight: bold\">=</span> T<span style=\"color: #AA22FF; font-weight: bold\">.</span>Buffer((<span style=\"color: #008000\">1024</span>,), data<span style=\"color: #AA22FF; font-weight: bold\">=</span>A<span style=\"color: #AA22FF; font-weight: bold\">.</span>data)\n",
       "            B_1 <span style=\"color: #AA22FF; font-weight: bold\">=</span> T<span style=\"color: #AA22FF; font-weight: bold\">.</span>Buffer((<span style=\"color: #008000\">1024</span>,), data<span style=\"color: #AA22FF; font-weight: bold\">=</span>B<span style=\"color: #AA22FF; font-weight: bold\">.</span>data)\n",
       "            C_1[cse_var_1 : cse_var_1 <span style=\"color: #AA22FF; font-weight: bold\">+</span> <span style=\"color: #008000\">16</span>] <span style=\"color: #AA22FF; font-weight: bold\">=</span> (\n",
       "                A_1[cse_var_1 : cse_var_1 <span style=\"color: #AA22FF; font-weight: bold\">+</span> <span style=\"color: #008000\">16</span>] <span style=\"color: #AA22FF; font-weight: bold\">+</span> B_1[cse_var_1 : cse_var_1 <span style=\"color: #AA22FF; font-weight: bold\">+</span> <span style=\"color: #008000\">16</span>]\n",
       "            )\n",
       "</pre></div>\n"
      ],
      "text/plain": [
       "<IPython.core.display.HTML object>"
      ]
     },
     "metadata": {},
     "output_type": "display_data"
    }
   ],
   "source": [
    "# n = te.var(\"n\")\n",
    "n = tvm.runtime.convert(1024)\n",
    "A = te.placeholder((n,), name=\"A\")\n",
    "B = te.placeholder((n,), name=\"B\")\n",
    "C = te.compute(A.shape, lambda i: A[i] + B[i], name=\"C\")\n",
    "s = te.create_schedule(C.op)\n",
    "s[C].parallel(C.op.axis[0])\n",
    "# 这个 factor 应该被选择来匹配适合你的 CPU 的线程数。\n",
    "# 这将根据架构的不同而变化，\n",
    "# 但一个好的规则是将这个 factor 设置为等于可用的 CPU 内核数。\n",
    "factor = 16\n",
    "outer, inner = s[C].split(C.op.axis[0], factor=factor)\n",
    "s[C].parallel(outer)\n",
    "s[C].vectorize(inner)\n",
    "tvm.lower(s, [A, B, C], simple_mode=True).show()"
   ]
  },
  {
   "cell_type": "code",
   "execution_count": 3,
   "metadata": {},
   "outputs": [],
   "source": [
    "tgt = tvm.target.Target(target=\"llvm\", host=\"llvm\")\n",
    "dev = tvm.device(tgt.kind.name, 0)\n",
    "n = 1024\n",
    "a = tvm.nd.array(np.random.uniform(size=n).astype(A.dtype), dev)\n",
    "b = tvm.nd.array(np.random.uniform(size=n).astype(B.dtype), dev)\n",
    "c = tvm.nd.array(np.zeros(n, dtype=C.dtype), dev)\n",
    "func = tvm.build(s, [A, B, C], tgt, name=\"myadd\")\n",
    "func(a, b, c)\n",
    "np.testing.assert_allclose(c.numpy(), a.numpy() + b.numpy())\n",
    "evaluator = func.time_evaluator(func.entry_name, dev, number=10)\n",
    "evaluator(a, b, c)\n",
    "temp = tvm.contrib.utils.tempdir()\n",
    "func.export_library(temp.relpath(\"myadd_pack.so\"))\n",
    "f = tvm.runtime.load_module(temp.relpath(\"myadd_pack.so\"))\n",
    "f(a, b, c)\n",
    "np.testing.assert_allclose(c.numpy(), a.numpy() + b.numpy())"
   ]
  },
  {
   "cell_type": "markdown",
   "metadata": {},
   "source": [
    "## 矩阵乘法"
   ]
  },
  {
   "cell_type": "code",
   "execution_count": 10,
   "metadata": {},
   "outputs": [
    {
     "data": {
      "text/plain": [
       "BenchmarkResult(min=0.2685959028, mean=0.2685959028, median=0.2685959028, max=0.2685959028, std=0.0, results=(0.2685959028,))"
      ]
     },
     "execution_count": 10,
     "metadata": {},
     "output_type": "execute_result"
    }
   ],
   "source": [
    "import numpy as np\n",
    "\n",
    "M = 256\n",
    "K = 1024\n",
    "N = 512\n",
    "\n",
    "# The default tensor data type in tvm\n",
    "dtype = \"float32\"\n",
    "# TVM Matrix Multiplication using TE\n",
    "k = te.reduce_axis((0, K), \"k\")\n",
    "A = te.placeholder((M, K), name=\"A\")\n",
    "B = te.placeholder((K, N), name=\"B\")\n",
    "C = te.compute((M, N), lambda x, y: te.sum(A[x, k] * B[k, y], axis=k), name=\"C\")\n",
    "\n",
    "# Default schedule\n",
    "s = te.create_schedule(C.op)\n",
    "target = tvm.target.Target(target=\"llvm\", host=\"llvm\")\n",
    "dev = tvm.device(target.kind.name, 0)\n",
    "func = tvm.build(s, [A, B, C], target=target, name=\"mmult\")\n",
    "\n",
    "a = tvm.nd.array(np.random.rand(M, K).astype(dtype), dev)\n",
    "b = tvm.nd.array(np.random.rand(K, N).astype(dtype), dev)\n",
    "c = tvm.nd.array(np.zeros((M, N), dtype=dtype), dev)\n",
    "func(a, b, c)\n",
    "answer = np.dot(a.numpy(), b.numpy())\n",
    "np.testing.assert_allclose(c.numpy(), answer, rtol=1e-5)\n",
    "\n",
    "evaluator = func.time_evaluator(func.entry_name, dev, number=10)\n",
    "evaluator(a, b, c)"
   ]
  },
  {
   "cell_type": "code",
   "execution_count": 13,
   "metadata": {},
   "outputs": [],
   "source": [
    "# TVM Matrix Multiplication using TE\n",
    "k = te.reduce_axis((0, K), \"k\")\n",
    "A = te.placeholder((M, K), name=\"A\")\n",
    "B = te.placeholder((K, N), name=\"B\")\n",
    "C = te.compute((M, N), lambda x, y: te.sum(A[x, k] * B[k, y], axis=k), name=\"C\")"
   ]
  },
  {
   "attachments": {},
   "cell_type": "markdown",
   "metadata": {},
   "source": [
    "默认调度:"
   ]
  },
  {
   "cell_type": "code",
   "execution_count": 14,
   "metadata": {},
   "outputs": [
    {
     "data": {
      "text/html": [
       "<div class=\"highlight\" style=\"background: \"><pre style=\"line-height: 125%;\"><span></span><span style=\"color: #007979; font-style: italic\"># from tvm.script import ir as I</span>\n",
       "<span style=\"color: #007979; font-style: italic\"># from tvm.script import tir as T</span>\n",
       "\n",
       "\n",
       "<span style=\"color: #AA22FF\">@I</span><span style=\"color: #AA22FF; font-weight: bold\">.</span>ir_module\n",
       "<span style=\"color: #008000; font-weight: bold\">class</span> <span style=\"color: #0000FF; font-weight: bold\">Module</span>:\n",
       "    <span style=\"color: #AA22FF\">@T</span><span style=\"color: #AA22FF; font-weight: bold\">.</span>prim_func\n",
       "    <span style=\"color: #008000; font-weight: bold\">def</span> <span style=\"color: #0000FF\">main</span>(\n",
       "        A: T<span style=\"color: #AA22FF; font-weight: bold\">.</span>Buffer((<span style=\"color: #008000\">256</span>, <span style=\"color: #008000\">1024</span>), <span style=\"color: #BA2121\">&quot;float32&quot;</span>),\n",
       "        B: T<span style=\"color: #AA22FF; font-weight: bold\">.</span>Buffer((<span style=\"color: #008000\">1024</span>, <span style=\"color: #008000\">512</span>), <span style=\"color: #BA2121\">&quot;float32&quot;</span>),\n",
       "        C: T<span style=\"color: #AA22FF; font-weight: bold\">.</span>Buffer((<span style=\"color: #008000\">256</span>, <span style=\"color: #008000\">512</span>), <span style=\"color: #BA2121\">&quot;float32&quot;</span>),\n",
       "    ):\n",
       "        T<span style=\"color: #AA22FF; font-weight: bold\">.</span>func_attr(\n",
       "            {\n",
       "                <span style=\"color: #BA2121\">&quot;from_legacy_te_schedule&quot;</span>: T<span style=\"color: #AA22FF; font-weight: bold\">.</span>bool(<span style=\"color: #008000; font-weight: bold\">True</span>),\n",
       "                <span style=\"color: #BA2121\">&quot;global_symbol&quot;</span>: <span style=\"color: #BA2121\">&quot;main&quot;</span>,\n",
       "                <span style=\"color: #BA2121\">&quot;tir.noalias&quot;</span>: T<span style=\"color: #AA22FF; font-weight: bold\">.</span>bool(<span style=\"color: #008000; font-weight: bold\">True</span>),\n",
       "            }\n",
       "        )\n",
       "        <span style=\"color: #008000; font-weight: bold\">for</span> x, y <span style=\"color: #008000; font-weight: bold\">in</span> T<span style=\"color: #AA22FF; font-weight: bold\">.</span>grid(<span style=\"color: #008000\">256</span>, <span style=\"color: #008000\">512</span>):\n",
       "            C_1 <span style=\"color: #AA22FF; font-weight: bold\">=</span> T<span style=\"color: #AA22FF; font-weight: bold\">.</span>Buffer((<span style=\"color: #008000\">131072</span>,), data<span style=\"color: #AA22FF; font-weight: bold\">=</span>C<span style=\"color: #AA22FF; font-weight: bold\">.</span>data)\n",
       "            C_1[x <span style=\"color: #AA22FF; font-weight: bold\">*</span> <span style=\"color: #008000\">512</span> <span style=\"color: #AA22FF; font-weight: bold\">+</span> y] <span style=\"color: #AA22FF; font-weight: bold\">=</span> T<span style=\"color: #AA22FF; font-weight: bold\">.</span>float32(<span style=\"color: #008000\">0</span>)\n",
       "            <span style=\"color: #008000; font-weight: bold\">for</span> k <span style=\"color: #008000; font-weight: bold\">in</span> range(<span style=\"color: #008000\">1024</span>):\n",
       "                cse_var_1: T<span style=\"color: #AA22FF; font-weight: bold\">.</span>int32 <span style=\"color: #AA22FF; font-weight: bold\">=</span> x <span style=\"color: #AA22FF; font-weight: bold\">*</span> <span style=\"color: #008000\">512</span> <span style=\"color: #AA22FF; font-weight: bold\">+</span> y\n",
       "                A_1 <span style=\"color: #AA22FF; font-weight: bold\">=</span> T<span style=\"color: #AA22FF; font-weight: bold\">.</span>Buffer((<span style=\"color: #008000\">262144</span>,), data<span style=\"color: #AA22FF; font-weight: bold\">=</span>A<span style=\"color: #AA22FF; font-weight: bold\">.</span>data)\n",
       "                B_1 <span style=\"color: #AA22FF; font-weight: bold\">=</span> T<span style=\"color: #AA22FF; font-weight: bold\">.</span>Buffer((<span style=\"color: #008000\">524288</span>,), data<span style=\"color: #AA22FF; font-weight: bold\">=</span>B<span style=\"color: #AA22FF; font-weight: bold\">.</span>data)\n",
       "                C_1[cse_var_1] <span style=\"color: #AA22FF; font-weight: bold\">=</span> C_1[cse_var_1] <span style=\"color: #AA22FF; font-weight: bold\">+</span> A_1[x <span style=\"color: #AA22FF; font-weight: bold\">*</span> <span style=\"color: #008000\">1024</span> <span style=\"color: #AA22FF; font-weight: bold\">+</span> k] <span style=\"color: #AA22FF; font-weight: bold\">*</span> B_1[k <span style=\"color: #AA22FF; font-weight: bold\">*</span> <span style=\"color: #008000\">512</span> <span style=\"color: #AA22FF; font-weight: bold\">+</span> y]\n",
       "</pre></div>\n"
      ],
      "text/plain": [
       "<IPython.core.display.HTML object>"
      ]
     },
     "metadata": {},
     "output_type": "display_data"
    }
   ],
   "source": [
    "s = te.create_schedule(C.op)\n",
    "tvm.lower(s, [A, B, C], simple_mode=True).show()"
   ]
  },
  {
   "attachments": {},
   "cell_type": "markdown",
   "metadata": {},
   "source": [
    "循环分块:"
   ]
  },
  {
   "cell_type": "code",
   "execution_count": 17,
   "metadata": {},
   "outputs": [
    {
     "data": {
      "text/html": [
       "<div class=\"highlight\" style=\"background: \"><pre style=\"line-height: 125%;\"><span></span><span style=\"color: #007979; font-style: italic\"># from tvm.script import ir as I</span>\n",
       "<span style=\"color: #007979; font-style: italic\"># from tvm.script import tir as T</span>\n",
       "\n",
       "\n",
       "<span style=\"color: #AA22FF\">@I</span><span style=\"color: #AA22FF; font-weight: bold\">.</span>ir_module\n",
       "<span style=\"color: #008000; font-weight: bold\">class</span> <span style=\"color: #0000FF; font-weight: bold\">Module</span>:\n",
       "    <span style=\"color: #AA22FF\">@T</span><span style=\"color: #AA22FF; font-weight: bold\">.</span>prim_func\n",
       "    <span style=\"color: #008000; font-weight: bold\">def</span> <span style=\"color: #0000FF\">main</span>(\n",
       "        A: T<span style=\"color: #AA22FF; font-weight: bold\">.</span>Buffer((<span style=\"color: #008000\">256</span>, <span style=\"color: #008000\">1024</span>), <span style=\"color: #BA2121\">&quot;float32&quot;</span>),\n",
       "        B: T<span style=\"color: #AA22FF; font-weight: bold\">.</span>Buffer((<span style=\"color: #008000\">1024</span>, <span style=\"color: #008000\">512</span>), <span style=\"color: #BA2121\">&quot;float32&quot;</span>),\n",
       "        C: T<span style=\"color: #AA22FF; font-weight: bold\">.</span>Buffer((<span style=\"color: #008000\">256</span>, <span style=\"color: #008000\">512</span>), <span style=\"color: #BA2121\">&quot;float32&quot;</span>),\n",
       "    ):\n",
       "        T<span style=\"color: #AA22FF; font-weight: bold\">.</span>func_attr(\n",
       "            {\n",
       "                <span style=\"color: #BA2121\">&quot;from_legacy_te_schedule&quot;</span>: T<span style=\"color: #AA22FF; font-weight: bold\">.</span>bool(<span style=\"color: #008000; font-weight: bold\">True</span>),\n",
       "                <span style=\"color: #BA2121\">&quot;global_symbol&quot;</span>: <span style=\"color: #BA2121\">&quot;main&quot;</span>,\n",
       "                <span style=\"color: #BA2121\">&quot;tir.noalias&quot;</span>: T<span style=\"color: #AA22FF; font-weight: bold\">.</span>bool(<span style=\"color: #008000; font-weight: bold\">True</span>),\n",
       "            }\n",
       "        )\n",
       "        <span style=\"color: #008000; font-weight: bold\">for</span> x_outer, y_outer, x_inner, y_inner <span style=\"color: #008000; font-weight: bold\">in</span> T<span style=\"color: #AA22FF; font-weight: bold\">.</span>grid(<span style=\"color: #008000\">8</span>, <span style=\"color: #008000\">32</span>, <span style=\"color: #008000\">32</span>, <span style=\"color: #008000\">16</span>):\n",
       "            C_1 <span style=\"color: #AA22FF; font-weight: bold\">=</span> T<span style=\"color: #AA22FF; font-weight: bold\">.</span>Buffer((<span style=\"color: #008000\">131072</span>,), data<span style=\"color: #AA22FF; font-weight: bold\">=</span>C<span style=\"color: #AA22FF; font-weight: bold\">.</span>data)\n",
       "            C_1[x_outer <span style=\"color: #AA22FF; font-weight: bold\">*</span> <span style=\"color: #008000\">16384</span> <span style=\"color: #AA22FF; font-weight: bold\">+</span> x_inner <span style=\"color: #AA22FF; font-weight: bold\">*</span> <span style=\"color: #008000\">512</span> <span style=\"color: #AA22FF; font-weight: bold\">+</span> y_outer <span style=\"color: #AA22FF; font-weight: bold\">*</span> <span style=\"color: #008000\">16</span> <span style=\"color: #AA22FF; font-weight: bold\">+</span> y_inner] <span style=\"color: #AA22FF; font-weight: bold\">=</span> T<span style=\"color: #AA22FF; font-weight: bold\">.</span>float32(<span style=\"color: #008000\">0</span>)\n",
       "            <span style=\"color: #008000; font-weight: bold\">for</span> k <span style=\"color: #008000; font-weight: bold\">in</span> range(<span style=\"color: #008000\">1024</span>):\n",
       "                cse_var_2: T<span style=\"color: #AA22FF; font-weight: bold\">.</span>int32 <span style=\"color: #AA22FF; font-weight: bold\">=</span> y_outer <span style=\"color: #AA22FF; font-weight: bold\">*</span> <span style=\"color: #008000\">16</span>\n",
       "                cse_var_1: T<span style=\"color: #AA22FF; font-weight: bold\">.</span>int32 <span style=\"color: #AA22FF; font-weight: bold\">=</span> (\n",
       "                    x_outer <span style=\"color: #AA22FF; font-weight: bold\">*</span> <span style=\"color: #008000\">16384</span> <span style=\"color: #AA22FF; font-weight: bold\">+</span> x_inner <span style=\"color: #AA22FF; font-weight: bold\">*</span> <span style=\"color: #008000\">512</span> <span style=\"color: #AA22FF; font-weight: bold\">+</span> cse_var_2 <span style=\"color: #AA22FF; font-weight: bold\">+</span> y_inner\n",
       "                )\n",
       "                A_1 <span style=\"color: #AA22FF; font-weight: bold\">=</span> T<span style=\"color: #AA22FF; font-weight: bold\">.</span>Buffer((<span style=\"color: #008000\">262144</span>,), data<span style=\"color: #AA22FF; font-weight: bold\">=</span>A<span style=\"color: #AA22FF; font-weight: bold\">.</span>data)\n",
       "                B_1 <span style=\"color: #AA22FF; font-weight: bold\">=</span> T<span style=\"color: #AA22FF; font-weight: bold\">.</span>Buffer((<span style=\"color: #008000\">524288</span>,), data<span style=\"color: #AA22FF; font-weight: bold\">=</span>B<span style=\"color: #AA22FF; font-weight: bold\">.</span>data)\n",
       "                C_1[cse_var_1] <span style=\"color: #AA22FF; font-weight: bold\">=</span> (\n",
       "                    C_1[cse_var_1]\n",
       "                    <span style=\"color: #AA22FF; font-weight: bold\">+</span> A_1[x_outer <span style=\"color: #AA22FF; font-weight: bold\">*</span> <span style=\"color: #008000\">32768</span> <span style=\"color: #AA22FF; font-weight: bold\">+</span> x_inner <span style=\"color: #AA22FF; font-weight: bold\">*</span> <span style=\"color: #008000\">1024</span> <span style=\"color: #AA22FF; font-weight: bold\">+</span> k]\n",
       "                    <span style=\"color: #AA22FF; font-weight: bold\">*</span> B_1[k <span style=\"color: #AA22FF; font-weight: bold\">*</span> <span style=\"color: #008000\">512</span> <span style=\"color: #AA22FF; font-weight: bold\">+</span> cse_var_2 <span style=\"color: #AA22FF; font-weight: bold\">+</span> y_inner]\n",
       "                )\n",
       "</pre></div>\n"
      ],
      "text/plain": [
       "<IPython.core.display.HTML object>"
      ]
     },
     "metadata": {},
     "output_type": "display_data"
    }
   ],
   "source": [
    "s = te.create_schedule(C.op)\n",
    "xo, yo, xi, yi = s[C].tile(C.op.axis[0], C.op.axis[1], 32, 16)\n",
    "tvm.lower(s, [A, B, C], simple_mode=True).show()"
   ]
  },
  {
   "attachments": {},
   "cell_type": "markdown",
   "metadata": {},
   "source": [
    "分割规约轴:"
   ]
  },
  {
   "cell_type": "code",
   "execution_count": 26,
   "metadata": {},
   "outputs": [
    {
     "data": {
      "text/html": [
       "<div class=\"highlight\" style=\"background: \"><pre style=\"line-height: 125%;\"><span></span><span style=\"color: #007979; font-style: italic\"># from tvm.script import ir as I</span>\n",
       "<span style=\"color: #007979; font-style: italic\"># from tvm.script import tir as T</span>\n",
       "\n",
       "\n",
       "<span style=\"color: #AA22FF\">@I</span><span style=\"color: #AA22FF; font-weight: bold\">.</span>ir_module\n",
       "<span style=\"color: #008000; font-weight: bold\">class</span> <span style=\"color: #0000FF; font-weight: bold\">Module</span>:\n",
       "    <span style=\"color: #AA22FF\">@T</span><span style=\"color: #AA22FF; font-weight: bold\">.</span>prim_func\n",
       "    <span style=\"color: #008000; font-weight: bold\">def</span> <span style=\"color: #0000FF\">main</span>(\n",
       "        A: T<span style=\"color: #AA22FF; font-weight: bold\">.</span>Buffer((<span style=\"color: #008000\">256</span>, <span style=\"color: #008000\">1024</span>), <span style=\"color: #BA2121\">&quot;float32&quot;</span>),\n",
       "        B: T<span style=\"color: #AA22FF; font-weight: bold\">.</span>Buffer((<span style=\"color: #008000\">1024</span>, <span style=\"color: #008000\">512</span>), <span style=\"color: #BA2121\">&quot;float32&quot;</span>),\n",
       "        C: T<span style=\"color: #AA22FF; font-weight: bold\">.</span>Buffer((<span style=\"color: #008000\">256</span>, <span style=\"color: #008000\">512</span>), <span style=\"color: #BA2121\">&quot;float32&quot;</span>),\n",
       "    ):\n",
       "        T<span style=\"color: #AA22FF; font-weight: bold\">.</span>func_attr(\n",
       "            {\n",
       "                <span style=\"color: #BA2121\">&quot;from_legacy_te_schedule&quot;</span>: T<span style=\"color: #AA22FF; font-weight: bold\">.</span>bool(<span style=\"color: #008000; font-weight: bold\">True</span>),\n",
       "                <span style=\"color: #BA2121\">&quot;global_symbol&quot;</span>: <span style=\"color: #BA2121\">&quot;main&quot;</span>,\n",
       "                <span style=\"color: #BA2121\">&quot;tir.noalias&quot;</span>: T<span style=\"color: #AA22FF; font-weight: bold\">.</span>bool(<span style=\"color: #008000; font-weight: bold\">True</span>),\n",
       "            }\n",
       "        )\n",
       "        <span style=\"color: #008000; font-weight: bold\">for</span> x_outer, y_outer, x_inner, y_inner <span style=\"color: #008000; font-weight: bold\">in</span> T<span style=\"color: #AA22FF; font-weight: bold\">.</span>grid(<span style=\"color: #008000\">8</span>, <span style=\"color: #008000\">32</span>, <span style=\"color: #008000\">32</span>, <span style=\"color: #008000\">16</span>):\n",
       "            C_1 <span style=\"color: #AA22FF; font-weight: bold\">=</span> T<span style=\"color: #AA22FF; font-weight: bold\">.</span>Buffer((<span style=\"color: #008000\">131072</span>,), data<span style=\"color: #AA22FF; font-weight: bold\">=</span>C<span style=\"color: #AA22FF; font-weight: bold\">.</span>data)\n",
       "            C_1[x_outer <span style=\"color: #AA22FF; font-weight: bold\">*</span> <span style=\"color: #008000\">16384</span> <span style=\"color: #AA22FF; font-weight: bold\">+</span> x_inner <span style=\"color: #AA22FF; font-weight: bold\">*</span> <span style=\"color: #008000\">512</span> <span style=\"color: #AA22FF; font-weight: bold\">+</span> y_outer <span style=\"color: #AA22FF; font-weight: bold\">*</span> <span style=\"color: #008000\">16</span> <span style=\"color: #AA22FF; font-weight: bold\">+</span> y_inner] <span style=\"color: #AA22FF; font-weight: bold\">=</span> T<span style=\"color: #AA22FF; font-weight: bold\">.</span>float32(<span style=\"color: #008000\">0</span>)\n",
       "            <span style=\"color: #008000; font-weight: bold\">for</span> k_outer, k_inner <span style=\"color: #008000; font-weight: bold\">in</span> T<span style=\"color: #AA22FF; font-weight: bold\">.</span>grid(<span style=\"color: #008000\">64</span>, <span style=\"color: #008000\">16</span>):\n",
       "                cse_var_2: T<span style=\"color: #AA22FF; font-weight: bold\">.</span>int32 <span style=\"color: #AA22FF; font-weight: bold\">=</span> y_outer <span style=\"color: #AA22FF; font-weight: bold\">*</span> <span style=\"color: #008000\">16</span>\n",
       "                cse_var_1: T<span style=\"color: #AA22FF; font-weight: bold\">.</span>int32 <span style=\"color: #AA22FF; font-weight: bold\">=</span> (\n",
       "                    x_outer <span style=\"color: #AA22FF; font-weight: bold\">*</span> <span style=\"color: #008000\">16384</span> <span style=\"color: #AA22FF; font-weight: bold\">+</span> x_inner <span style=\"color: #AA22FF; font-weight: bold\">*</span> <span style=\"color: #008000\">512</span> <span style=\"color: #AA22FF; font-weight: bold\">+</span> cse_var_2 <span style=\"color: #AA22FF; font-weight: bold\">+</span> y_inner\n",
       "                )\n",
       "                A_1 <span style=\"color: #AA22FF; font-weight: bold\">=</span> T<span style=\"color: #AA22FF; font-weight: bold\">.</span>Buffer((<span style=\"color: #008000\">262144</span>,), data<span style=\"color: #AA22FF; font-weight: bold\">=</span>A<span style=\"color: #AA22FF; font-weight: bold\">.</span>data)\n",
       "                B_1 <span style=\"color: #AA22FF; font-weight: bold\">=</span> T<span style=\"color: #AA22FF; font-weight: bold\">.</span>Buffer((<span style=\"color: #008000\">524288</span>,), data<span style=\"color: #AA22FF; font-weight: bold\">=</span>B<span style=\"color: #AA22FF; font-weight: bold\">.</span>data)\n",
       "                C_1[cse_var_1] <span style=\"color: #AA22FF; font-weight: bold\">=</span> (\n",
       "                    C_1[cse_var_1]\n",
       "                    <span style=\"color: #AA22FF; font-weight: bold\">+</span> A_1[x_outer <span style=\"color: #AA22FF; font-weight: bold\">*</span> <span style=\"color: #008000\">32768</span> <span style=\"color: #AA22FF; font-weight: bold\">+</span> x_inner <span style=\"color: #AA22FF; font-weight: bold\">*</span> <span style=\"color: #008000\">1024</span> <span style=\"color: #AA22FF; font-weight: bold\">+</span> k_outer <span style=\"color: #AA22FF; font-weight: bold\">*</span> <span style=\"color: #008000\">16</span> <span style=\"color: #AA22FF; font-weight: bold\">+</span> k_inner]\n",
       "                    <span style=\"color: #AA22FF; font-weight: bold\">*</span> B_1[k_outer <span style=\"color: #AA22FF; font-weight: bold\">*</span> <span style=\"color: #008000\">8192</span> <span style=\"color: #AA22FF; font-weight: bold\">+</span> k_inner <span style=\"color: #AA22FF; font-weight: bold\">*</span> <span style=\"color: #008000\">512</span> <span style=\"color: #AA22FF; font-weight: bold\">+</span> cse_var_2 <span style=\"color: #AA22FF; font-weight: bold\">+</span> y_inner]\n",
       "                )\n",
       "</pre></div>\n"
      ],
      "text/plain": [
       "<IPython.core.display.HTML object>"
      ]
     },
     "metadata": {},
     "output_type": "display_data"
    }
   ],
   "source": [
    "s = te.create_schedule(C.op)\n",
    "xo, yo, xi, yi = s[C].tile(C.op.axis[0], C.op.axis[1], 32, 16)\n",
    "(k,) = s[C].op.reduce_axis\n",
    "ko, ki = s[C].split(k, factor=16)\n",
    "tvm.lower(s, [A, B, C], simple_mode=True).show()"
   ]
  },
  {
   "attachments": {},
   "cell_type": "markdown",
   "metadata": {},
   "source": [
    "重排轴顺序:"
   ]
  },
  {
   "cell_type": "code",
   "execution_count": 27,
   "metadata": {},
   "outputs": [
    {
     "data": {
      "text/html": [
       "<div class=\"highlight\" style=\"background: \"><pre style=\"line-height: 125%;\"><span></span><span style=\"color: #007979; font-style: italic\"># from tvm.script import ir as I</span>\n",
       "<span style=\"color: #007979; font-style: italic\"># from tvm.script import tir as T</span>\n",
       "\n",
       "\n",
       "<span style=\"color: #AA22FF\">@I</span><span style=\"color: #AA22FF; font-weight: bold\">.</span>ir_module\n",
       "<span style=\"color: #008000; font-weight: bold\">class</span> <span style=\"color: #0000FF; font-weight: bold\">Module</span>:\n",
       "    <span style=\"color: #AA22FF\">@T</span><span style=\"color: #AA22FF; font-weight: bold\">.</span>prim_func\n",
       "    <span style=\"color: #008000; font-weight: bold\">def</span> <span style=\"color: #0000FF\">main</span>(\n",
       "        A: T<span style=\"color: #AA22FF; font-weight: bold\">.</span>Buffer((<span style=\"color: #008000\">256</span>, <span style=\"color: #008000\">1024</span>), <span style=\"color: #BA2121\">&quot;float32&quot;</span>),\n",
       "        B: T<span style=\"color: #AA22FF; font-weight: bold\">.</span>Buffer((<span style=\"color: #008000\">1024</span>, <span style=\"color: #008000\">512</span>), <span style=\"color: #BA2121\">&quot;float32&quot;</span>),\n",
       "        C: T<span style=\"color: #AA22FF; font-weight: bold\">.</span>Buffer((<span style=\"color: #008000\">256</span>, <span style=\"color: #008000\">512</span>), <span style=\"color: #BA2121\">&quot;float32&quot;</span>),\n",
       "    ):\n",
       "        T<span style=\"color: #AA22FF; font-weight: bold\">.</span>func_attr(\n",
       "            {\n",
       "                <span style=\"color: #BA2121\">&quot;from_legacy_te_schedule&quot;</span>: T<span style=\"color: #AA22FF; font-weight: bold\">.</span>bool(<span style=\"color: #008000; font-weight: bold\">True</span>),\n",
       "                <span style=\"color: #BA2121\">&quot;global_symbol&quot;</span>: <span style=\"color: #BA2121\">&quot;main&quot;</span>,\n",
       "                <span style=\"color: #BA2121\">&quot;tir.noalias&quot;</span>: T<span style=\"color: #AA22FF; font-weight: bold\">.</span>bool(<span style=\"color: #008000; font-weight: bold\">True</span>),\n",
       "            }\n",
       "        )\n",
       "        <span style=\"color: #008000; font-weight: bold\">for</span> x_outer, y_outer <span style=\"color: #008000; font-weight: bold\">in</span> T<span style=\"color: #AA22FF; font-weight: bold\">.</span>grid(<span style=\"color: #008000\">8</span>, <span style=\"color: #008000\">32</span>):\n",
       "            C_1 <span style=\"color: #AA22FF; font-weight: bold\">=</span> T<span style=\"color: #AA22FF; font-weight: bold\">.</span>Buffer((<span style=\"color: #008000\">131072</span>,), data<span style=\"color: #AA22FF; font-weight: bold\">=</span>C<span style=\"color: #AA22FF; font-weight: bold\">.</span>data)\n",
       "            <span style=\"color: #008000; font-weight: bold\">for</span> x_inner_init, y_inner_init <span style=\"color: #008000; font-weight: bold\">in</span> T<span style=\"color: #AA22FF; font-weight: bold\">.</span>grid(<span style=\"color: #008000\">32</span>, <span style=\"color: #008000\">16</span>):\n",
       "                C_1[\n",
       "                    x_outer <span style=\"color: #AA22FF; font-weight: bold\">*</span> <span style=\"color: #008000\">16384</span> <span style=\"color: #AA22FF; font-weight: bold\">+</span> x_inner_init <span style=\"color: #AA22FF; font-weight: bold\">*</span> <span style=\"color: #008000\">512</span> <span style=\"color: #AA22FF; font-weight: bold\">+</span> y_outer <span style=\"color: #AA22FF; font-weight: bold\">*</span> <span style=\"color: #008000\">16</span> <span style=\"color: #AA22FF; font-weight: bold\">+</span> y_inner_init\n",
       "                ] <span style=\"color: #AA22FF; font-weight: bold\">=</span> T<span style=\"color: #AA22FF; font-weight: bold\">.</span>float32(<span style=\"color: #008000\">0</span>)\n",
       "            <span style=\"color: #008000; font-weight: bold\">for</span> k_outer, k_inner, x_inner, y_inner <span style=\"color: #008000; font-weight: bold\">in</span> T<span style=\"color: #AA22FF; font-weight: bold\">.</span>grid(<span style=\"color: #008000\">64</span>, <span style=\"color: #008000\">16</span>, <span style=\"color: #008000\">32</span>, <span style=\"color: #008000\">16</span>):\n",
       "                cse_var_2: T<span style=\"color: #AA22FF; font-weight: bold\">.</span>int32 <span style=\"color: #AA22FF; font-weight: bold\">=</span> y_outer <span style=\"color: #AA22FF; font-weight: bold\">*</span> <span style=\"color: #008000\">16</span>\n",
       "                cse_var_1: T<span style=\"color: #AA22FF; font-weight: bold\">.</span>int32 <span style=\"color: #AA22FF; font-weight: bold\">=</span> (\n",
       "                    x_outer <span style=\"color: #AA22FF; font-weight: bold\">*</span> <span style=\"color: #008000\">16384</span> <span style=\"color: #AA22FF; font-weight: bold\">+</span> x_inner <span style=\"color: #AA22FF; font-weight: bold\">*</span> <span style=\"color: #008000\">512</span> <span style=\"color: #AA22FF; font-weight: bold\">+</span> cse_var_2 <span style=\"color: #AA22FF; font-weight: bold\">+</span> y_inner\n",
       "                )\n",
       "                A_1 <span style=\"color: #AA22FF; font-weight: bold\">=</span> T<span style=\"color: #AA22FF; font-weight: bold\">.</span>Buffer((<span style=\"color: #008000\">262144</span>,), data<span style=\"color: #AA22FF; font-weight: bold\">=</span>A<span style=\"color: #AA22FF; font-weight: bold\">.</span>data)\n",
       "                B_1 <span style=\"color: #AA22FF; font-weight: bold\">=</span> T<span style=\"color: #AA22FF; font-weight: bold\">.</span>Buffer((<span style=\"color: #008000\">524288</span>,), data<span style=\"color: #AA22FF; font-weight: bold\">=</span>B<span style=\"color: #AA22FF; font-weight: bold\">.</span>data)\n",
       "                C_1[cse_var_1] <span style=\"color: #AA22FF; font-weight: bold\">=</span> (\n",
       "                    C_1[cse_var_1]\n",
       "                    <span style=\"color: #AA22FF; font-weight: bold\">+</span> A_1[x_outer <span style=\"color: #AA22FF; font-weight: bold\">*</span> <span style=\"color: #008000\">32768</span> <span style=\"color: #AA22FF; font-weight: bold\">+</span> x_inner <span style=\"color: #AA22FF; font-weight: bold\">*</span> <span style=\"color: #008000\">1024</span> <span style=\"color: #AA22FF; font-weight: bold\">+</span> k_outer <span style=\"color: #AA22FF; font-weight: bold\">*</span> <span style=\"color: #008000\">16</span> <span style=\"color: #AA22FF; font-weight: bold\">+</span> k_inner]\n",
       "                    <span style=\"color: #AA22FF; font-weight: bold\">*</span> B_1[k_outer <span style=\"color: #AA22FF; font-weight: bold\">*</span> <span style=\"color: #008000\">8192</span> <span style=\"color: #AA22FF; font-weight: bold\">+</span> k_inner <span style=\"color: #AA22FF; font-weight: bold\">*</span> <span style=\"color: #008000\">512</span> <span style=\"color: #AA22FF; font-weight: bold\">+</span> cse_var_2 <span style=\"color: #AA22FF; font-weight: bold\">+</span> y_inner]\n",
       "                )\n",
       "</pre></div>\n"
      ],
      "text/plain": [
       "<IPython.core.display.HTML object>"
      ]
     },
     "metadata": {},
     "output_type": "display_data"
    }
   ],
   "source": [
    "s = te.create_schedule(C.op)\n",
    "xo, yo, xi, yi = s[C].tile(C.op.axis[0], C.op.axis[1], 32, 16)\n",
    "(k,) = s[C].op.reduce_axis\n",
    "ko, ki = s[C].split(k, factor=16)\n",
    "s[C].reorder(xo, yo, ko, ki, xi, yi)\n",
    "tvm.lower(s, [A, B, C], simple_mode=True).show()"
   ]
  },
  {
   "attachments": {},
   "cell_type": "markdown",
   "metadata": {},
   "source": [
    "向量化:"
   ]
  },
  {
   "cell_type": "code",
   "execution_count": 28,
   "metadata": {},
   "outputs": [
    {
     "data": {
      "text/html": [
       "<div class=\"highlight\" style=\"background: \"><pre style=\"line-height: 125%;\"><span></span><span style=\"color: #007979; font-style: italic\"># from tvm.script import ir as I</span>\n",
       "<span style=\"color: #007979; font-style: italic\"># from tvm.script import tir as T</span>\n",
       "\n",
       "\n",
       "<span style=\"color: #AA22FF\">@I</span><span style=\"color: #AA22FF; font-weight: bold\">.</span>ir_module\n",
       "<span style=\"color: #008000; font-weight: bold\">class</span> <span style=\"color: #0000FF; font-weight: bold\">Module</span>:\n",
       "    <span style=\"color: #AA22FF\">@T</span><span style=\"color: #AA22FF; font-weight: bold\">.</span>prim_func\n",
       "    <span style=\"color: #008000; font-weight: bold\">def</span> <span style=\"color: #0000FF\">main</span>(\n",
       "        A: T<span style=\"color: #AA22FF; font-weight: bold\">.</span>Buffer((<span style=\"color: #008000\">256</span>, <span style=\"color: #008000\">1024</span>), <span style=\"color: #BA2121\">&quot;float32&quot;</span>),\n",
       "        B: T<span style=\"color: #AA22FF; font-weight: bold\">.</span>Buffer((<span style=\"color: #008000\">1024</span>, <span style=\"color: #008000\">512</span>), <span style=\"color: #BA2121\">&quot;float32&quot;</span>),\n",
       "        C: T<span style=\"color: #AA22FF; font-weight: bold\">.</span>Buffer((<span style=\"color: #008000\">256</span>, <span style=\"color: #008000\">512</span>), <span style=\"color: #BA2121\">&quot;float32&quot;</span>),\n",
       "    ):\n",
       "        T<span style=\"color: #AA22FF; font-weight: bold\">.</span>func_attr(\n",
       "            {\n",
       "                <span style=\"color: #BA2121\">&quot;from_legacy_te_schedule&quot;</span>: T<span style=\"color: #AA22FF; font-weight: bold\">.</span>bool(<span style=\"color: #008000; font-weight: bold\">True</span>),\n",
       "                <span style=\"color: #BA2121\">&quot;global_symbol&quot;</span>: <span style=\"color: #BA2121\">&quot;main&quot;</span>,\n",
       "                <span style=\"color: #BA2121\">&quot;tir.noalias&quot;</span>: T<span style=\"color: #AA22FF; font-weight: bold\">.</span>bool(<span style=\"color: #008000; font-weight: bold\">True</span>),\n",
       "            }\n",
       "        )\n",
       "        <span style=\"color: #008000; font-weight: bold\">for</span> x_outer, y_outer <span style=\"color: #008000; font-weight: bold\">in</span> T<span style=\"color: #AA22FF; font-weight: bold\">.</span>grid(<span style=\"color: #008000\">8</span>, <span style=\"color: #008000\">32</span>):\n",
       "            C_1 <span style=\"color: #AA22FF; font-weight: bold\">=</span> T<span style=\"color: #AA22FF; font-weight: bold\">.</span>Buffer((<span style=\"color: #008000\">131072</span>,), data<span style=\"color: #AA22FF; font-weight: bold\">=</span>C<span style=\"color: #AA22FF; font-weight: bold\">.</span>data)\n",
       "            <span style=\"color: #008000; font-weight: bold\">for</span> x_inner_init <span style=\"color: #008000; font-weight: bold\">in</span> range(<span style=\"color: #008000\">32</span>):\n",
       "                C_1[\n",
       "                    x_outer <span style=\"color: #AA22FF; font-weight: bold\">*</span> <span style=\"color: #008000\">16384</span>\n",
       "                    <span style=\"color: #AA22FF; font-weight: bold\">+</span> x_inner_init <span style=\"color: #AA22FF; font-weight: bold\">*</span> <span style=\"color: #008000\">512</span>\n",
       "                    <span style=\"color: #AA22FF; font-weight: bold\">+</span> y_outer <span style=\"color: #AA22FF; font-weight: bold\">*</span> <span style=\"color: #008000\">16</span> : x_outer <span style=\"color: #AA22FF; font-weight: bold\">*</span> <span style=\"color: #008000\">16384</span>\n",
       "                    <span style=\"color: #AA22FF; font-weight: bold\">+</span> x_inner_init <span style=\"color: #AA22FF; font-weight: bold\">*</span> <span style=\"color: #008000\">512</span>\n",
       "                    <span style=\"color: #AA22FF; font-weight: bold\">+</span> y_outer <span style=\"color: #AA22FF; font-weight: bold\">*</span> <span style=\"color: #008000\">16</span>\n",
       "                    <span style=\"color: #AA22FF; font-weight: bold\">+</span> <span style=\"color: #008000\">16</span>\n",
       "                ] <span style=\"color: #AA22FF; font-weight: bold\">=</span> T<span style=\"color: #AA22FF; font-weight: bold\">.</span>Broadcast(T<span style=\"color: #AA22FF; font-weight: bold\">.</span>float32(<span style=\"color: #008000\">0</span>), <span style=\"color: #008000\">16</span>)\n",
       "            <span style=\"color: #008000; font-weight: bold\">for</span> k_outer, k_inner, x_inner <span style=\"color: #008000; font-weight: bold\">in</span> T<span style=\"color: #AA22FF; font-weight: bold\">.</span>grid(<span style=\"color: #008000\">64</span>, <span style=\"color: #008000\">16</span>, <span style=\"color: #008000\">32</span>):\n",
       "                cse_var_2: T<span style=\"color: #AA22FF; font-weight: bold\">.</span>int32 <span style=\"color: #AA22FF; font-weight: bold\">=</span> y_outer <span style=\"color: #AA22FF; font-weight: bold\">*</span> <span style=\"color: #008000\">16</span>\n",
       "                cse_var_1: T<span style=\"color: #AA22FF; font-weight: bold\">.</span>int32 <span style=\"color: #AA22FF; font-weight: bold\">=</span> x_outer <span style=\"color: #AA22FF; font-weight: bold\">*</span> <span style=\"color: #008000\">16384</span> <span style=\"color: #AA22FF; font-weight: bold\">+</span> x_inner <span style=\"color: #AA22FF; font-weight: bold\">*</span> <span style=\"color: #008000\">512</span> <span style=\"color: #AA22FF; font-weight: bold\">+</span> cse_var_2\n",
       "                A_1 <span style=\"color: #AA22FF; font-weight: bold\">=</span> T<span style=\"color: #AA22FF; font-weight: bold\">.</span>Buffer((<span style=\"color: #008000\">262144</span>,), data<span style=\"color: #AA22FF; font-weight: bold\">=</span>A<span style=\"color: #AA22FF; font-weight: bold\">.</span>data)\n",
       "                B_1 <span style=\"color: #AA22FF; font-weight: bold\">=</span> T<span style=\"color: #AA22FF; font-weight: bold\">.</span>Buffer((<span style=\"color: #008000\">524288</span>,), data<span style=\"color: #AA22FF; font-weight: bold\">=</span>B<span style=\"color: #AA22FF; font-weight: bold\">.</span>data)\n",
       "                C_1[cse_var_1 : cse_var_1 <span style=\"color: #AA22FF; font-weight: bold\">+</span> <span style=\"color: #008000\">16</span>] <span style=\"color: #AA22FF; font-weight: bold\">=</span> (\n",
       "                    C_1[cse_var_1 : cse_var_1 <span style=\"color: #AA22FF; font-weight: bold\">+</span> <span style=\"color: #008000\">16</span>]\n",
       "                    <span style=\"color: #AA22FF; font-weight: bold\">+</span> T<span style=\"color: #AA22FF; font-weight: bold\">.</span>Broadcast(\n",
       "                        A_1[x_outer <span style=\"color: #AA22FF; font-weight: bold\">*</span> <span style=\"color: #008000\">32768</span> <span style=\"color: #AA22FF; font-weight: bold\">+</span> x_inner <span style=\"color: #AA22FF; font-weight: bold\">*</span> <span style=\"color: #008000\">1024</span> <span style=\"color: #AA22FF; font-weight: bold\">+</span> k_outer <span style=\"color: #AA22FF; font-weight: bold\">*</span> <span style=\"color: #008000\">16</span> <span style=\"color: #AA22FF; font-weight: bold\">+</span> k_inner],\n",
       "                        <span style=\"color: #008000\">16</span>,\n",
       "                    )\n",
       "                    <span style=\"color: #AA22FF; font-weight: bold\">*</span> B_1[\n",
       "                        k_outer <span style=\"color: #AA22FF; font-weight: bold\">*</span> <span style=\"color: #008000\">8192</span>\n",
       "                        <span style=\"color: #AA22FF; font-weight: bold\">+</span> k_inner <span style=\"color: #AA22FF; font-weight: bold\">*</span> <span style=\"color: #008000\">512</span>\n",
       "                        <span style=\"color: #AA22FF; font-weight: bold\">+</span> cse_var_2 : k_outer <span style=\"color: #AA22FF; font-weight: bold\">*</span> <span style=\"color: #008000\">8192</span>\n",
       "                        <span style=\"color: #AA22FF; font-weight: bold\">+</span> k_inner <span style=\"color: #AA22FF; font-weight: bold\">*</span> <span style=\"color: #008000\">512</span>\n",
       "                        <span style=\"color: #AA22FF; font-weight: bold\">+</span> cse_var_2\n",
       "                        <span style=\"color: #AA22FF; font-weight: bold\">+</span> <span style=\"color: #008000\">16</span>\n",
       "                    ]\n",
       "                )\n",
       "</pre></div>\n"
      ],
      "text/plain": [
       "<IPython.core.display.HTML object>"
      ]
     },
     "metadata": {},
     "output_type": "display_data"
    }
   ],
   "source": [
    "s = te.create_schedule(C.op)\n",
    "xo, yo, xi, yi = s[C].tile(C.op.axis[0], C.op.axis[1], 32, 16)\n",
    "(k,) = s[C].op.reduce_axis\n",
    "ko, ki = s[C].split(k, factor=16)\n",
    "s[C].reorder(xo, yo, ko, ki, xi, yi)\n",
    "s[C].vectorize(yi)\n",
    "tvm.lower(s, [A, B, C], simple_mode=True).show()"
   ]
  },
  {
   "attachments": {},
   "cell_type": "markdown",
   "metadata": {},
   "source": [
    "数组打包:"
   ]
  },
  {
   "cell_type": "code",
   "execution_count": 30,
   "metadata": {},
   "outputs": [
    {
     "data": {
      "text/html": [
       "<div class=\"highlight\" style=\"background: \"><pre style=\"line-height: 125%;\"><span></span><span style=\"color: #007979; font-style: italic\"># from tvm.script import ir as I</span>\n",
       "<span style=\"color: #007979; font-style: italic\"># from tvm.script import tir as T</span>\n",
       "\n",
       "\n",
       "<span style=\"color: #AA22FF\">@I</span><span style=\"color: #AA22FF; font-weight: bold\">.</span>ir_module\n",
       "<span style=\"color: #008000; font-weight: bold\">class</span> <span style=\"color: #0000FF; font-weight: bold\">Module</span>:\n",
       "    <span style=\"color: #AA22FF\">@T</span><span style=\"color: #AA22FF; font-weight: bold\">.</span>prim_func\n",
       "    <span style=\"color: #008000; font-weight: bold\">def</span> <span style=\"color: #0000FF\">main</span>(\n",
       "        A: T<span style=\"color: #AA22FF; font-weight: bold\">.</span>Buffer((<span style=\"color: #008000\">256</span>, <span style=\"color: #008000\">1024</span>), <span style=\"color: #BA2121\">&quot;float32&quot;</span>),\n",
       "        B: T<span style=\"color: #AA22FF; font-weight: bold\">.</span>Buffer((<span style=\"color: #008000\">1024</span>, <span style=\"color: #008000\">512</span>), <span style=\"color: #BA2121\">&quot;float32&quot;</span>),\n",
       "        C: T<span style=\"color: #AA22FF; font-weight: bold\">.</span>Buffer((<span style=\"color: #008000\">256</span>, <span style=\"color: #008000\">512</span>), <span style=\"color: #BA2121\">&quot;float32&quot;</span>),\n",
       "    ):\n",
       "        T<span style=\"color: #AA22FF; font-weight: bold\">.</span>func_attr(\n",
       "            {\n",
       "                <span style=\"color: #BA2121\">&quot;from_legacy_te_schedule&quot;</span>: T<span style=\"color: #AA22FF; font-weight: bold\">.</span>bool(<span style=\"color: #008000; font-weight: bold\">True</span>),\n",
       "                <span style=\"color: #BA2121\">&quot;global_symbol&quot;</span>: <span style=\"color: #BA2121\">&quot;main&quot;</span>,\n",
       "                <span style=\"color: #BA2121\">&quot;tir.noalias&quot;</span>: T<span style=\"color: #AA22FF; font-weight: bold\">.</span>bool(<span style=\"color: #008000; font-weight: bold\">True</span>),\n",
       "            }\n",
       "        )\n",
       "        packedB <span style=\"color: #AA22FF; font-weight: bold\">=</span> T<span style=\"color: #AA22FF; font-weight: bold\">.</span>allocate([<span style=\"color: #008000\">16384</span>], <span style=\"color: #BA2121\">&quot;float32x32&quot;</span>, <span style=\"color: #BA2121\">&quot;global&quot;</span>)\n",
       "        packedB_1 <span style=\"color: #AA22FF; font-weight: bold\">=</span> T<span style=\"color: #AA22FF; font-weight: bold\">.</span>Buffer((<span style=\"color: #008000\">16384</span>,), <span style=\"color: #BA2121\">&quot;float32x32&quot;</span>, data<span style=\"color: #AA22FF; font-weight: bold\">=</span>packedB)\n",
       "        <span style=\"color: #008000; font-weight: bold\">for</span> x <span style=\"color: #008000; font-weight: bold\">in</span> T<span style=\"color: #AA22FF; font-weight: bold\">.</span>parallel(<span style=\"color: #008000\">16</span>):\n",
       "            <span style=\"color: #008000; font-weight: bold\">for</span> y <span style=\"color: #008000; font-weight: bold\">in</span> range(<span style=\"color: #008000\">1024</span>):\n",
       "                B_1 <span style=\"color: #AA22FF; font-weight: bold\">=</span> T<span style=\"color: #AA22FF; font-weight: bold\">.</span>Buffer((<span style=\"color: #008000\">524288</span>,), data<span style=\"color: #AA22FF; font-weight: bold\">=</span>B<span style=\"color: #AA22FF; font-weight: bold\">.</span>data)\n",
       "                packedB_1[x <span style=\"color: #AA22FF; font-weight: bold\">*</span> <span style=\"color: #008000\">1024</span> <span style=\"color: #AA22FF; font-weight: bold\">+</span> y] <span style=\"color: #AA22FF; font-weight: bold\">=</span> B_1[y <span style=\"color: #AA22FF; font-weight: bold\">*</span> <span style=\"color: #008000\">512</span> <span style=\"color: #AA22FF; font-weight: bold\">+</span> x <span style=\"color: #AA22FF; font-weight: bold\">*</span> <span style=\"color: #008000\">32</span> : y <span style=\"color: #AA22FF; font-weight: bold\">*</span> <span style=\"color: #008000\">512</span> <span style=\"color: #AA22FF; font-weight: bold\">+</span> x <span style=\"color: #AA22FF; font-weight: bold\">*</span> <span style=\"color: #008000\">32</span> <span style=\"color: #AA22FF; font-weight: bold\">+</span> <span style=\"color: #008000\">32</span>]\n",
       "        <span style=\"color: #008000; font-weight: bold\">for</span> x_outer, y_outer <span style=\"color: #008000; font-weight: bold\">in</span> T<span style=\"color: #AA22FF; font-weight: bold\">.</span>grid(<span style=\"color: #008000\">8</span>, <span style=\"color: #008000\">16</span>):\n",
       "            C_1 <span style=\"color: #AA22FF; font-weight: bold\">=</span> T<span style=\"color: #AA22FF; font-weight: bold\">.</span>Buffer((<span style=\"color: #008000\">131072</span>,), data<span style=\"color: #AA22FF; font-weight: bold\">=</span>C<span style=\"color: #AA22FF; font-weight: bold\">.</span>data)\n",
       "            <span style=\"color: #008000; font-weight: bold\">for</span> x_inner_init <span style=\"color: #008000; font-weight: bold\">in</span> range(<span style=\"color: #008000\">32</span>):\n",
       "                C_1[\n",
       "                    x_outer <span style=\"color: #AA22FF; font-weight: bold\">*</span> <span style=\"color: #008000\">16384</span>\n",
       "                    <span style=\"color: #AA22FF; font-weight: bold\">+</span> x_inner_init <span style=\"color: #AA22FF; font-weight: bold\">*</span> <span style=\"color: #008000\">512</span>\n",
       "                    <span style=\"color: #AA22FF; font-weight: bold\">+</span> y_outer <span style=\"color: #AA22FF; font-weight: bold\">*</span> <span style=\"color: #008000\">32</span> : x_outer <span style=\"color: #AA22FF; font-weight: bold\">*</span> <span style=\"color: #008000\">16384</span>\n",
       "                    <span style=\"color: #AA22FF; font-weight: bold\">+</span> x_inner_init <span style=\"color: #AA22FF; font-weight: bold\">*</span> <span style=\"color: #008000\">512</span>\n",
       "                    <span style=\"color: #AA22FF; font-weight: bold\">+</span> y_outer <span style=\"color: #AA22FF; font-weight: bold\">*</span> <span style=\"color: #008000\">32</span>\n",
       "                    <span style=\"color: #AA22FF; font-weight: bold\">+</span> <span style=\"color: #008000\">32</span>\n",
       "                ] <span style=\"color: #AA22FF; font-weight: bold\">=</span> T<span style=\"color: #AA22FF; font-weight: bold\">.</span>Broadcast(T<span style=\"color: #AA22FF; font-weight: bold\">.</span>float32(<span style=\"color: #008000\">0</span>), <span style=\"color: #008000\">32</span>)\n",
       "            <span style=\"color: #008000; font-weight: bold\">for</span> k_outer, x_inner, k_inner <span style=\"color: #008000; font-weight: bold\">in</span> T<span style=\"color: #AA22FF; font-weight: bold\">.</span>grid(<span style=\"color: #008000\">256</span>, <span style=\"color: #008000\">32</span>, <span style=\"color: #008000\">4</span>):\n",
       "                cse_var_2: T<span style=\"color: #AA22FF; font-weight: bold\">.</span>int32 <span style=\"color: #AA22FF; font-weight: bold\">=</span> k_outer <span style=\"color: #AA22FF; font-weight: bold\">*</span> <span style=\"color: #008000\">4</span>\n",
       "                cse_var_1: T<span style=\"color: #AA22FF; font-weight: bold\">.</span>int32 <span style=\"color: #AA22FF; font-weight: bold\">=</span> x_outer <span style=\"color: #AA22FF; font-weight: bold\">*</span> <span style=\"color: #008000\">16384</span> <span style=\"color: #AA22FF; font-weight: bold\">+</span> x_inner <span style=\"color: #AA22FF; font-weight: bold\">*</span> <span style=\"color: #008000\">512</span> <span style=\"color: #AA22FF; font-weight: bold\">+</span> y_outer <span style=\"color: #AA22FF; font-weight: bold\">*</span> <span style=\"color: #008000\">32</span>\n",
       "                A_1 <span style=\"color: #AA22FF; font-weight: bold\">=</span> T<span style=\"color: #AA22FF; font-weight: bold\">.</span>Buffer((<span style=\"color: #008000\">262144</span>,), data<span style=\"color: #AA22FF; font-weight: bold\">=</span>A<span style=\"color: #AA22FF; font-weight: bold\">.</span>data)\n",
       "                C_1[cse_var_1 : cse_var_1 <span style=\"color: #AA22FF; font-weight: bold\">+</span> <span style=\"color: #008000\">32</span>] <span style=\"color: #AA22FF; font-weight: bold\">=</span> (\n",
       "                    C_1[cse_var_1 : cse_var_1 <span style=\"color: #AA22FF; font-weight: bold\">+</span> <span style=\"color: #008000\">32</span>]\n",
       "                    <span style=\"color: #AA22FF; font-weight: bold\">+</span> T<span style=\"color: #AA22FF; font-weight: bold\">.</span>Broadcast(\n",
       "                        A_1[x_outer <span style=\"color: #AA22FF; font-weight: bold\">*</span> <span style=\"color: #008000\">32768</span> <span style=\"color: #AA22FF; font-weight: bold\">+</span> x_inner <span style=\"color: #AA22FF; font-weight: bold\">*</span> <span style=\"color: #008000\">1024</span> <span style=\"color: #AA22FF; font-weight: bold\">+</span> cse_var_2 <span style=\"color: #AA22FF; font-weight: bold\">+</span> k_inner], <span style=\"color: #008000\">32</span>\n",
       "                    )\n",
       "                    <span style=\"color: #AA22FF; font-weight: bold\">*</span> packedB_1[y_outer <span style=\"color: #AA22FF; font-weight: bold\">*</span> <span style=\"color: #008000\">1024</span> <span style=\"color: #AA22FF; font-weight: bold\">+</span> cse_var_2 <span style=\"color: #AA22FF; font-weight: bold\">+</span> k_inner]\n",
       "                )\n",
       "</pre></div>\n"
      ],
      "text/plain": [
       "<IPython.core.display.HTML object>"
      ]
     },
     "metadata": {},
     "output_type": "display_data"
    }
   ],
   "source": [
    "# 必须重写算法。\n",
    "bn = 32\n",
    "packedB = te.compute((N / bn, K, bn), lambda x, y, z: B[y, x * bn + z], name=\"packedB\")\n",
    "C = te.compute(\n",
    "    (M, N),\n",
    "    lambda x, y: te.sum(A[x, k] * packedB[y // bn, k, tvm.tir.indexmod(y, bn)], axis=k),\n",
    "    name=\"C\",\n",
    ")\n",
    "\n",
    "s = te.create_schedule(C.op)\n",
    "\n",
    "xo, yo, xi, yi = s[C].tile(C.op.axis[0], C.op.axis[1], bn, bn)\n",
    "(k,) = s[C].op.reduce_axis\n",
    "ko, ki = s[C].split(k, factor=4)\n",
    "\n",
    "s[C].reorder(xo, yo, ko, xi, ki, yi)\n",
    "s[C].vectorize(yi)\n",
    "\n",
    "x, y, z = s[packedB].op.axis\n",
    "s[packedB].vectorize(z)\n",
    "s[packedB].parallel(x)\n",
    "\n",
    "# Here is the generated IR after array packing.\n",
    "tvm.lower(s, [A, B, C], simple_mode=True).show()"
   ]
  },
  {
   "cell_type": "code",
   "execution_count": 8,
   "metadata": {},
   "outputs": [],
   "source": [
    "# from vta.testing import simulator\n",
    "# simulator.clear_stats()\n",
    "# cost = evaluator(a, b, c)\n",
    "# stats = simulator.stats()"
   ]
  },
  {
   "cell_type": "code",
   "execution_count": null,
   "metadata": {},
   "outputs": [],
   "source": []
  }
 ],
 "metadata": {
  "kernelspec": {
   "display_name": "xx",
   "language": "python",
   "name": "python3"
  },
  "language_info": {
   "codemirror_mode": {
    "name": "ipython",
    "version": 3
   },
   "file_extension": ".py",
   "mimetype": "text/x-python",
   "name": "python",
   "nbconvert_exporter": "python",
   "pygments_lexer": "ipython3",
   "version": "3.10.10"
  },
  "orig_nbformat": 4
 },
 "nbformat": 4,
 "nbformat_minor": 2
}
