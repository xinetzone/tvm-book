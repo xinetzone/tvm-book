{
 "cells": [
  {
   "attachments": {},
   "cell_type": "markdown",
   "metadata": {},
   "source": [
    "# 目标代码生成\n",
    "\n",
    "## 目标代码静态初始化与回调"
   ]
  },
  {
   "cell_type": "code",
   "execution_count": null,
   "metadata": {},
   "outputs": [],
   "source": [
    "import tvm\n",
    "from tvm import te\n",
    "import ctypes\n",
    "import numpy as np"
   ]
  },
  {
   "attachments": {},
   "cell_type": "markdown",
   "metadata": {},
   "source": [
    "静态初始化："
   ]
  },
  {
   "cell_type": "code",
   "execution_count": null,
   "metadata": {},
   "outputs": [],
   "source": [
    "dtype = \"int64\"\n",
    "n = te.size_var(\"n\")\n",
    "Ab = tvm.tir.decl_buffer((n,), dtype)\n",
    "i = te.size_var(\"i\")\n",
    "ib = tvm.tir.ir_builder.create()\n",
    "A = ib.buffer_ptr(Ab)\n",
    "cp = te.thread_axis((0, 1), \"cop\")\n",
    "finit = tvm.tir.StringImm(\"TVMBackendRunOnce\")\n",
    "ib.scope_attr(cp, \"coproc_uop_scope\", finit)\n",
    "with ib.for_range(0, n, \"i\", kind=\"parallel\") as i:\n",
    "    A[i] = A[i] + 1\n",
    "stmt = ib.get()\n",
    "\n",
    "mod = tvm.IRModule.from_expr(tvm.tir.PrimFunc([Ab], stmt).with_attr(\"global_symbol\", \"ramp\"))\n",
    "f = tvm.driver.build(mod, target=\"llvm\")\n",
    "a = tvm.nd.array(np.zeros(10, dtype=dtype))\n",
    "f(a)\n",
    "f(a)\n",
    "np.testing.assert_equal(a.numpy(), np.ones(a.shape[0]))"
   ]
  },
  {
   "attachments": {},
   "cell_type": "markdown",
   "metadata": {},
   "source": [
    "静态回调："
   ]
  },
  {
   "cell_type": "code",
   "execution_count": null,
   "metadata": {},
   "outputs": [],
   "source": [
    "dtype = \"int64\"\n",
    "n = te.size_var(\"n\")\n",
    "Ab = tvm.tir.decl_buffer((n,), dtype)\n",
    "i = te.size_var(\"i\")\n",
    "ib = tvm.tir.ir_builder.create()\n",
    "handle = tvm.tir.call_intrin(\"handle\", \"tir.tvm_static_handle\")\n",
    "ib.emit(tvm.tir.call_packed(\"test_static_callback\", handle, Ab))\n",
    "\n",
    "@tvm.register_func(\"test_static_callback\")\n",
    "def test_cb(sh, A):\n",
    "    assert isinstance(sh, ctypes.c_void_p)\n",
    "    return sh\n",
    "\n",
    "stmt = ib.get()\n",
    "mod = tvm.IRModule.from_expr(tvm.tir.PrimFunc([Ab], stmt).with_attr(\"global_symbol\", \"ramp\"))\n",
    "f = tvm.driver.build(mod, target=\"llvm\")\n",
    "a = tvm.nd.array(np.zeros(10, dtype=dtype))\n",
    "f(a)"
   ]
  },
  {
   "attachments": {},
   "cell_type": "markdown",
   "metadata": {},
   "source": [
    "## 简单的 pack"
   ]
  },
  {
   "cell_type": "code",
   "execution_count": 1,
   "metadata": {},
   "outputs": [],
   "source": [
    "import tvm\n",
    "from tvm import te\n",
    "import numpy as np"
   ]
  },
  {
   "cell_type": "code",
   "execution_count": 2,
   "metadata": {},
   "outputs": [],
   "source": [
    "def extern_generator(ins, outs):\n",
    "    \"\"\"手动写 IR 为 extern 函数，并流程化。\"\"\"\n",
    "    return tvm.tir.call_packed(\"my_extern_array_func1\", ins[0], outs[0])\n",
    "\n",
    "@tvm.register_func\n",
    "def my_extern_array_func1(aa, bb):\n",
    "    aa.copyto(bb)"
   ]
  },
  {
   "cell_type": "code",
   "execution_count": 3,
   "metadata": {},
   "outputs": [],
   "source": [
    "nn = 1024\n",
    "n = tvm.runtime.convert(nn)\n",
    "A = te.placeholder((n,), name=\"A\")\n",
    "C = te.extern(A.shape, [A], extern_generator, name=\"C\")\n",
    "s = te.create_schedule(C.op)\n",
    "\n",
    "# 构建并调用 kernel\n",
    "f = tvm.build(s, [A, C], \"llvm\")\n",
    "dev = tvm.cpu(0)\n",
    "# 启动 kernel\n",
    "n = nn\n",
    "a = tvm.nd.array(np.random.uniform(size=n).astype(A.dtype), dev)\n",
    "c = tvm.nd.array(np.zeros(n, dtype=C.dtype), dev)\n",
    "\n",
    "f(a, c)\n",
    "np.testing.assert_allclose(c.numpy(), a.numpy())"
   ]
  },
  {
   "cell_type": "code",
   "execution_count": 5,
   "metadata": {},
   "outputs": [],
   "source": [
    "def extern_generator(ins, outs):\n",
    "    \"\"\"手动写 IR 为 extern 函数，添加管道。\"\"\"\n",
    "    return tvm.tir.call_packed(\"my_extern_array_func2\", ins[0], outs[0])\n",
    "\n",
    "@tvm.register_func\n",
    "def my_extern_array_func2(aa, bb):\n",
    "    assert aa.shape == a.shape\n",
    "    np.testing.assert_allclose(aa.numpy(), a.numpy() + 1)\n",
    "    aa.copyto(bb)"
   ]
  },
  {
   "cell_type": "code",
   "execution_count": 6,
   "metadata": {},
   "outputs": [],
   "source": [
    "nn = 1024\n",
    "n = tvm.runtime.convert(nn)\n",
    "A = te.placeholder((n,), name=\"A\")\n",
    "B = te.compute((n,), lambda i: A[i] + 1, name=\"B\")\n",
    "C = te.extern(B.shape, [B], extern_generator, name=\"C\")\n",
    "s = te.create_schedule(C.op)"
   ]
  },
  {
   "cell_type": "code",
   "execution_count": 8,
   "metadata": {},
   "outputs": [],
   "source": [
    "# 构建并调用 kernel\n",
    "f = tvm.build(s, [A, C], \"llvm\")\n",
    "dev = tvm.cpu(0)\n",
    "# 启动 kernel\n",
    "n = nn\n",
    "a = tvm.nd.array(np.random.uniform(size=n).astype(A.dtype), dev)\n",
    "c = tvm.nd.array(np.zeros(n, dtype=C.dtype), dev)\n",
    "\n",
    "f(a, c)\n",
    "np.testing.assert_allclose(c.numpy(), a.numpy() + 1)"
   ]
  },
  {
   "cell_type": "code",
   "execution_count": null,
   "metadata": {},
   "outputs": [],
   "source": []
  }
 ],
 "metadata": {
  "kernelspec": {
   "display_name": "xx",
   "language": "python",
   "name": "python3"
  },
  "language_info": {
   "codemirror_mode": {
    "name": "ipython",
    "version": 3
   },
   "file_extension": ".py",
   "mimetype": "text/x-python",
   "name": "python",
   "nbconvert_exporter": "python",
   "pygments_lexer": "ipython3",
   "version": "3.10.10"
  },
  "orig_nbformat": 4
 },
 "nbformat": 4,
 "nbformat_minor": 2
}
