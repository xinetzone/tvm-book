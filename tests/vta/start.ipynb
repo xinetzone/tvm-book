{
  "cells": [
    {
      "attachments": {},
      "cell_type": "markdown",
      "metadata": {},
      "source": [
        "# VTA 简单入门"
      ]
    },
    {
      "cell_type": "code",
      "execution_count": 1,
      "metadata": {
        "collapsed": false
      },
      "outputs": [],
      "source": [
        "import tvm\n",
        "from tvm import te\n",
        "import vta\n",
        "from tvm.ir.module import IRModule\n",
        "from tvm.script import tir as T\n",
        "import numpy as np\n",
        "from vta.testing import simulator # 此处一定要有"
      ]
    },
    {
      "cell_type": "code",
      "execution_count": 2,
      "metadata": {
        "collapsed": false
      },
      "outputs": [],
      "source": [
        "env = vta.get_env()\n",
        "remote = tvm.rpc.LocalSession()"
      ]
    },
    {
      "cell_type": "code",
      "execution_count": 3,
      "metadata": {},
      "outputs": [],
      "source": [
        "m = 1\n",
        "n = 1024\n",
        "A_orig = np.random.randint(-128, 128, size=(m, n)).astype(env.acc_dtype)\n",
        "B_orig = np.random.randint(-128, 128, size=(m, n)).astype(env.acc_dtype)"
      ]
    },
    {
      "attachments": {},
      "cell_type": "markdown",
      "metadata": {},
      "source": [
        "为了适应于 VTA 设备，需要应用 packing，将 A 和 B 数组从 2D 到 4D packed layout："
      ]
    },
    {
      "cell_type": "code",
      "execution_count": 4,
      "metadata": {},
      "outputs": [],
      "source": [
        "A_packed = A_orig.reshape(m//env.BATCH, env.BATCH, n//env.BLOCK_OUT, env.BLOCK_OUT).transpose((0, 2, 1, 3))\n",
        "B_packed = B_orig.reshape(m//env.BATCH, env.BATCH, n//env.BLOCK_OUT, env.BLOCK_OUT).transpose((0, 2, 1, 3))"
      ]
    },
    {
      "cell_type": "code",
      "execution_count": 5,
      "metadata": {},
      "outputs": [],
      "source": [
        "# 输出通道因子 m -总共 64 x 16 = 1024 输出通道\n",
        "_m = n//env.BLOCK_OUT\n",
        "# Batch 因子 o - 总共 16 x 1 = 1\n",
        "_o = m//env.BATCH\n",
        "# VTA 向量数据 shape\n",
        "shape = (_o, _m, env.BATCH, env.BLOCK_OUT)\n",
        "# 平铺 A, B 占位符张量数据\n",
        "A = te.placeholder(shape, name=\"A\", dtype=env.acc_dtype)\n",
        "B = te.placeholder(shape, name=\"B\", dtype=env.acc_dtype)\n",
        "# A copy buffer\n",
        "A_buf = te.compute(shape, lambda *i: A[i], \"A_buf\")\n",
        "# B copy buffer\n",
        "B_buf = te.compute(shape, lambda *i: B[i], \"B_buf\")\n",
        "# 描述 VTA 中的 ALU 加法\n",
        "fcompute = lambda *i: A_buf[i].astype(env.acc_dtype) + B_buf[i].astype(env.acc_dtype)\n",
        "C_buf = te.compute(shape, fcompute, name=\"C_buf\")\n",
        "# 转换为输出类型，并发送到 main memory\n",
        "fcompute = lambda *i: C_buf[i].astype(env.inp_dtype)\n",
        "C = te.compute(shape, fcompute, name=\"C\")\n",
        "s = te.create_schedule(C.op)\n",
        "s[A_buf].set_scope(env.acc_scope)\n",
        "s[B_buf].set_scope(env.acc_scope)\n",
        "s[C_buf].set_scope(env.acc_scope)\n",
        "s[A_buf].pragma(s[A_buf].op.axis[0], env.dma_copy)\n",
        "s[B_buf].pragma(s[B_buf].op.axis[0], env.dma_copy)\n",
        "s[C].pragma(s[C].op.axis[0], env.dma_copy)\n",
        "s[C_buf].pragma(C_buf.op.axis[0], env.alu)"
      ]
    },
    {
      "cell_type": "code",
      "execution_count": 6,
      "metadata": {
        "collapsed": false
      },
      "outputs": [
        {
          "data": {
            "text/html": [
              "<div class=\"highlight\" style=\"background: \"><pre style=\"line-height: 125%;\"><span></span><span style=\"color: #007979; font-style: italic\"># from tvm.script import ir as I</span>\n",
              "<span style=\"color: #007979; font-style: italic\"># from tvm.script import tir as T</span>\n",
              "\n",
              "\n",
              "<span style=\"color: #AA22FF\">@I</span><span style=\"color: #AA22FF; font-weight: bold\">.</span>ir_module\n",
              "<span style=\"color: #008000; font-weight: bold\">class</span> <span style=\"color: #0000FF; font-weight: bold\">Module</span>:\n",
              "    <span style=\"color: #AA22FF\">@T</span><span style=\"color: #AA22FF; font-weight: bold\">.</span>prim_func\n",
              "    <span style=\"color: #008000; font-weight: bold\">def</span> <span style=\"color: #0000FF\">main</span>(\n",
              "        A: T<span style=\"color: #AA22FF; font-weight: bold\">.</span>Buffer((<span style=\"color: #008000\">1</span>, <span style=\"color: #008000\">64</span>, <span style=\"color: #008000\">1</span>, <span style=\"color: #008000\">16</span>), <span style=\"color: #BA2121\">&quot;int32&quot;</span>),\n",
              "        B: T<span style=\"color: #AA22FF; font-weight: bold\">.</span>Buffer((<span style=\"color: #008000\">1</span>, <span style=\"color: #008000\">64</span>, <span style=\"color: #008000\">1</span>, <span style=\"color: #008000\">16</span>), <span style=\"color: #BA2121\">&quot;int32&quot;</span>),\n",
              "        C: T<span style=\"color: #AA22FF; font-weight: bold\">.</span>Buffer((<span style=\"color: #008000\">1</span>, <span style=\"color: #008000\">64</span>, <span style=\"color: #008000\">1</span>, <span style=\"color: #008000\">16</span>), <span style=\"color: #BA2121\">&quot;int8&quot;</span>),\n",
              "    ):\n",
              "        T<span style=\"color: #AA22FF; font-weight: bold\">.</span>func_attr(\n",
              "            {\n",
              "                <span style=\"color: #BA2121\">&quot;from_legacy_te_schedule&quot;</span>: T<span style=\"color: #AA22FF; font-weight: bold\">.</span>bool(<span style=\"color: #008000; font-weight: bold\">True</span>),\n",
              "                <span style=\"color: #BA2121\">&quot;global_symbol&quot;</span>: <span style=\"color: #BA2121\">&quot;main&quot;</span>,\n",
              "                <span style=\"color: #BA2121\">&quot;tir.noalias&quot;</span>: T<span style=\"color: #AA22FF; font-weight: bold\">.</span>bool(<span style=\"color: #008000; font-weight: bold\">True</span>),\n",
              "            }\n",
              "        )\n",
              "        A_buf <span style=\"color: #AA22FF; font-weight: bold\">=</span> T<span style=\"color: #AA22FF; font-weight: bold\">.</span>allocate([<span style=\"color: #008000\">2048</span>], <span style=\"color: #BA2121\">&quot;int32&quot;</span>, <span style=\"color: #BA2121\">&quot;local.acc_buffer&quot;</span>)\n",
              "        i0 <span style=\"color: #AA22FF; font-weight: bold\">=</span> T<span style=\"color: #AA22FF; font-weight: bold\">.</span>int32()\n",
              "        A_buf_1 <span style=\"color: #AA22FF; font-weight: bold\">=</span> T<span style=\"color: #AA22FF; font-weight: bold\">.</span>Buffer(\n",
              "            (<span style=\"color: #008000\">1024</span>,), <span style=\"color: #BA2121\">&quot;int32&quot;</span>, data<span style=\"color: #AA22FF; font-weight: bold\">=</span>A_buf, scope<span style=\"color: #AA22FF; font-weight: bold\">=</span><span style=\"color: #BA2121\">&quot;local.acc_buffer&quot;</span>, align<span style=\"color: #AA22FF; font-weight: bold\">=</span><span style=\"color: #008000\">16</span>\n",
              "        )\n",
              "        <span style=\"color: #008000; font-weight: bold\">with</span> T<span style=\"color: #AA22FF; font-weight: bold\">.</span>attr(T<span style=\"color: #AA22FF; font-weight: bold\">.</span>iter_var(i0, <span style=\"color: #008000; font-weight: bold\">None</span>, <span style=\"color: #BA2121\">&quot;DataPar&quot;</span>, <span style=\"color: #BA2121\">&quot;&quot;</span>), <span style=\"color: #BA2121\">&quot;pragma_dma_copy&quot;</span>, <span style=\"color: #008000\">1</span>):\n",
              "            <span style=\"color: #008000; font-weight: bold\">for</span> i1, i3 <span style=\"color: #008000; font-weight: bold\">in</span> T<span style=\"color: #AA22FF; font-weight: bold\">.</span>grid(<span style=\"color: #008000\">64</span>, <span style=\"color: #008000\">16</span>):\n",
              "                cse_var_1: T<span style=\"color: #AA22FF; font-weight: bold\">.</span>int32 <span style=\"color: #AA22FF; font-weight: bold\">=</span> i1 <span style=\"color: #AA22FF; font-weight: bold\">*</span> <span style=\"color: #008000\">16</span> <span style=\"color: #AA22FF; font-weight: bold\">+</span> i3\n",
              "                A_1 <span style=\"color: #AA22FF; font-weight: bold\">=</span> T<span style=\"color: #AA22FF; font-weight: bold\">.</span>Buffer((<span style=\"color: #008000\">1024</span>,), <span style=\"color: #BA2121\">&quot;int32&quot;</span>, data<span style=\"color: #AA22FF; font-weight: bold\">=</span>A<span style=\"color: #AA22FF; font-weight: bold\">.</span>data)\n",
              "                A_buf_1[cse_var_1] <span style=\"color: #AA22FF; font-weight: bold\">=</span> A_1[cse_var_1]\n",
              "        i0_1 <span style=\"color: #AA22FF; font-weight: bold\">=</span> T<span style=\"color: #AA22FF; font-weight: bold\">.</span>int32()\n",
              "        A_buf_2 <span style=\"color: #AA22FF; font-weight: bold\">=</span> T<span style=\"color: #AA22FF; font-weight: bold\">.</span>Buffer(\n",
              "            (<span style=\"color: #008000\">1024</span>,), <span style=\"color: #BA2121\">&quot;int32&quot;</span>, data<span style=\"color: #AA22FF; font-weight: bold\">=</span>A_buf, scope<span style=\"color: #AA22FF; font-weight: bold\">=</span><span style=\"color: #BA2121\">&quot;local.acc_buffer&quot;</span>, align<span style=\"color: #AA22FF; font-weight: bold\">=</span><span style=\"color: #008000\">16</span>\n",
              "        )\n",
              "        <span style=\"color: #008000; font-weight: bold\">with</span> T<span style=\"color: #AA22FF; font-weight: bold\">.</span>attr(T<span style=\"color: #AA22FF; font-weight: bold\">.</span>iter_var(i0_1, <span style=\"color: #008000; font-weight: bold\">None</span>, <span style=\"color: #BA2121\">&quot;DataPar&quot;</span>, <span style=\"color: #BA2121\">&quot;&quot;</span>), <span style=\"color: #BA2121\">&quot;pragma_dma_copy&quot;</span>, <span style=\"color: #008000\">1</span>):\n",
              "            <span style=\"color: #008000; font-weight: bold\">for</span> i1, i3 <span style=\"color: #008000; font-weight: bold\">in</span> T<span style=\"color: #AA22FF; font-weight: bold\">.</span>grid(<span style=\"color: #008000\">64</span>, <span style=\"color: #008000\">16</span>):\n",
              "                cse_var_2: T<span style=\"color: #AA22FF; font-weight: bold\">.</span>int32 <span style=\"color: #AA22FF; font-weight: bold\">=</span> i1 <span style=\"color: #AA22FF; font-weight: bold\">*</span> <span style=\"color: #008000\">16</span> <span style=\"color: #AA22FF; font-weight: bold\">+</span> i3\n",
              "                B_1 <span style=\"color: #AA22FF; font-weight: bold\">=</span> T<span style=\"color: #AA22FF; font-weight: bold\">.</span>Buffer((<span style=\"color: #008000\">1024</span>,), <span style=\"color: #BA2121\">&quot;int32&quot;</span>, data<span style=\"color: #AA22FF; font-weight: bold\">=</span>B<span style=\"color: #AA22FF; font-weight: bold\">.</span>data)\n",
              "                A_buf_2[cse_var_2 <span style=\"color: #AA22FF; font-weight: bold\">+</span> <span style=\"color: #008000\">1024</span>] <span style=\"color: #AA22FF; font-weight: bold\">=</span> B_1[cse_var_2]\n",
              "        i0_2 <span style=\"color: #AA22FF; font-weight: bold\">=</span> T<span style=\"color: #AA22FF; font-weight: bold\">.</span>int32()\n",
              "        A_buf_3 <span style=\"color: #AA22FF; font-weight: bold\">=</span> T<span style=\"color: #AA22FF; font-weight: bold\">.</span>Buffer(\n",
              "            (<span style=\"color: #008000\">1024</span>,), <span style=\"color: #BA2121\">&quot;int32&quot;</span>, data<span style=\"color: #AA22FF; font-weight: bold\">=</span>A_buf, scope<span style=\"color: #AA22FF; font-weight: bold\">=</span><span style=\"color: #BA2121\">&quot;local.acc_buffer&quot;</span>, align<span style=\"color: #AA22FF; font-weight: bold\">=</span><span style=\"color: #008000\">16</span>\n",
              "        )\n",
              "        <span style=\"color: #008000; font-weight: bold\">with</span> T<span style=\"color: #AA22FF; font-weight: bold\">.</span>attr(T<span style=\"color: #AA22FF; font-weight: bold\">.</span>iter_var(i0_2, <span style=\"color: #008000; font-weight: bold\">None</span>, <span style=\"color: #BA2121\">&quot;DataPar&quot;</span>, <span style=\"color: #BA2121\">&quot;&quot;</span>), <span style=\"color: #BA2121\">&quot;pragma_alu&quot;</span>, <span style=\"color: #008000\">1</span>):\n",
              "            <span style=\"color: #008000; font-weight: bold\">for</span> i1, i3 <span style=\"color: #008000; font-weight: bold\">in</span> T<span style=\"color: #AA22FF; font-weight: bold\">.</span>grid(<span style=\"color: #008000\">64</span>, <span style=\"color: #008000\">16</span>):\n",
              "                cse_var_3: T<span style=\"color: #AA22FF; font-weight: bold\">.</span>int32 <span style=\"color: #AA22FF; font-weight: bold\">=</span> i1 <span style=\"color: #AA22FF; font-weight: bold\">*</span> <span style=\"color: #008000\">16</span> <span style=\"color: #AA22FF; font-weight: bold\">+</span> i3\n",
              "                A_buf_3[cse_var_3] <span style=\"color: #AA22FF; font-weight: bold\">=</span> A_buf_1[cse_var_3] <span style=\"color: #AA22FF; font-weight: bold\">+</span> A_buf_2[cse_var_3 <span style=\"color: #AA22FF; font-weight: bold\">+</span> <span style=\"color: #008000\">1024</span>]\n",
              "        i0_3 <span style=\"color: #AA22FF; font-weight: bold\">=</span> T<span style=\"color: #AA22FF; font-weight: bold\">.</span>int32()\n",
              "        T<span style=\"color: #AA22FF; font-weight: bold\">.</span>attr(T<span style=\"color: #AA22FF; font-weight: bold\">.</span>iter_var(i0_3, <span style=\"color: #008000; font-weight: bold\">None</span>, <span style=\"color: #BA2121\">&quot;DataPar&quot;</span>, <span style=\"color: #BA2121\">&quot;&quot;</span>), <span style=\"color: #BA2121\">&quot;pragma_dma_copy&quot;</span>, <span style=\"color: #008000\">1</span>)\n",
              "        <span style=\"color: #008000; font-weight: bold\">for</span> i1, i3 <span style=\"color: #008000; font-weight: bold\">in</span> T<span style=\"color: #AA22FF; font-weight: bold\">.</span>grid(<span style=\"color: #008000\">64</span>, <span style=\"color: #008000\">16</span>):\n",
              "            cse_var_4: T<span style=\"color: #AA22FF; font-weight: bold\">.</span>int32 <span style=\"color: #AA22FF; font-weight: bold\">=</span> i1 <span style=\"color: #AA22FF; font-weight: bold\">*</span> <span style=\"color: #008000\">16</span> <span style=\"color: #AA22FF; font-weight: bold\">+</span> i3\n",
              "            C_1 <span style=\"color: #AA22FF; font-weight: bold\">=</span> T<span style=\"color: #AA22FF; font-weight: bold\">.</span>Buffer((<span style=\"color: #008000\">1024</span>,), <span style=\"color: #BA2121\">&quot;int8&quot;</span>, data<span style=\"color: #AA22FF; font-weight: bold\">=</span>C<span style=\"color: #AA22FF; font-weight: bold\">.</span>data)\n",
              "            C_1[cse_var_4] <span style=\"color: #AA22FF; font-weight: bold\">=</span> T<span style=\"color: #AA22FF; font-weight: bold\">.</span>Cast(<span style=\"color: #BA2121\">&quot;int8&quot;</span>, A_buf_3[cse_var_4])\n",
              "</pre></div>\n"
            ],
            "text/plain": [
              "<IPython.core.display.HTML object>"
            ]
          },
          "metadata": {},
          "output_type": "display_data"
        }
      ],
      "source": [
        "# 查看最终的 schedule\n",
        "tvm.lower(s, [A, B, C], simple_mode=True).show()"
      ]
    },
    {
      "cell_type": "code",
      "execution_count": 7,
      "metadata": {},
      "outputs": [
        {
          "name": "stderr",
          "output_type": "stream",
          "text": [
            "2023-04-17 09:09:29.921 INFO load_module /tmp/tmpe_ff8p1d/vadd.o\n"
          ]
        },
        {
          "name": "stdout",
          "output_type": "stream",
          "text": [
            "ALU 加法测试成功！\n"
          ]
        }
      ],
      "source": [
        "from tvm.topi.utils import get_const_tuple\n",
        "\n",
        "# ctx = tvm.target.Target(\"ext_dev\", host=env.target_host)\n",
        "target = \"ext_dev\"\n",
        "my_vadd = vta.build(s, [A, B, C], target=target, name=\"my_vadd\")\n",
        "temp = tvm.contrib.utils.tempdir()\n",
        "my_vadd.save(temp.relpath(\"vadd.o\"))\n",
        "remote.upload(temp.relpath(\"vadd.o\"))\n",
        "f = remote.load_module(\"vadd.o\")\n",
        "ctx = remote.ext_dev(0)\n",
        "A_nd = tvm.nd.array(A_packed, ctx)\n",
        "B_nd = tvm.nd.array(B_packed, ctx)\n",
        "C_nd = tvm.nd.empty(get_const_tuple(C.shape), C.dtype, ctx)\n",
        "f(A_nd, B_nd, C_nd)\n",
        "C_ref = (A_orig.astype(env.acc_dtype) + B_orig.astype(env.acc_dtype)).astype(C.dtype)\n",
        "C_ref = C_ref.reshape(m//env.BATCH, env.BATCH, n//env.BLOCK_OUT, env.BLOCK_OUT).transpose((0, 2, 1, 3))\n",
        "np.testing.assert_equal(C_ref, C_nd.numpy())\n",
        "print(\"ALU 加法测试成功！\")"
      ]
    },
    {
      "cell_type": "code",
      "execution_count": 8,
      "metadata": {},
      "outputs": [
        {
          "name": "stderr",
          "output_type": "stream",
          "text": [
            "[09:09:29] /media/pc/data/lxw/ai/tvm/src/runtime/profiling.cc:101: Warning: No timer implementation for ext_dev, using default timer instead. It may be inaccurate or have extra overhead.\n"
          ]
        }
      ],
      "source": [
        "# 获取 ALU 数据搬运情况\n",
        "time_f = f.time_evaluator(f.entry_name, ctx, number=20)\n",
        "simulator.clear_stats()\n",
        "cost = time_f(A_nd, B_nd, C_nd)\n",
        "stats = simulator.stats()"
      ]
    },
    {
      "cell_type": "code",
      "execution_count": 9,
      "metadata": {},
      "outputs": [
        {
          "data": {
            "text/plain": [
              "{'inp_load_nbytes': 0,\n",
              " 'wgt_load_nbytes': 0,\n",
              " 'acc_load_nbytes': 172032,\n",
              " 'uop_load_nbytes': 84,\n",
              " 'out_store_nbytes': 21504,\n",
              " 'gemm_counter': 0,\n",
              " 'alu_counter': 1344}"
            ]
          },
          "execution_count": 9,
          "metadata": {},
          "output_type": "execute_result"
        }
      ],
      "source": [
        "stats"
      ]
    },
    {
      "cell_type": "code",
      "execution_count": 1,
      "metadata": {},
      "outputs": [
        {
          "data": {
            "text/plain": [
              "21504"
            ]
          },
          "execution_count": 1,
          "metadata": {},
          "output_type": "execute_result"
        }
      ],
      "source": [
        "1344 * 16"
      ]
    },
    {
      "cell_type": "code",
      "execution_count": 4,
      "metadata": {},
      "outputs": [
        {
          "data": {
            "text/plain": [
              "2688.0"
            ]
          },
          "execution_count": 4,
          "metadata": {},
          "output_type": "execute_result"
        }
      ],
      "source": [
        "172032/64"
      ]
    },
    {
      "cell_type": "code",
      "execution_count": 5,
      "metadata": {},
      "outputs": [],
      "source": [
        "from tvm import relay\n",
        "from tvm.ir import IRModule\n",
        "\n",
        "data = relay.var(\"data\")\n",
        "bias = relay.var(\"bias\")\n",
        "add_op = data + bias"
      ]
    },
    {
      "cell_type": "code",
      "execution_count": 12,
      "metadata": {},
      "outputs": [
        {
          "name": "stdout",
          "output_type": "stream",
          "text": [
            "def @AddFunc(%data, %bias) {\n",
            "  add(%data, %bias)\n",
            "}\n",
            "\n",
            "def @main(%a, %b, %c) {\n",
            "  %0 = @AddFunc(%a, %b);\n",
            "  @AddFunc(%c, %0)\n",
            "}\n",
            "\n"
          ]
        }
      ],
      "source": [
        "mod = IRModule()\n",
        "mod['AddFunc'] = relay.Function([data, bias], add_op)\n",
        "a, b, c = [relay.var(name) for name in \"abc\"]\n",
        "add_gvar = mod.get_global_var('AddFunc')\n",
        "add_01 = relay.Call(add_gvar, [a, b])\n",
        "add_012 = relay.Call(add_gvar, [c, add_01])\n",
        "mod['main'] = relay.Function([a, b, c], add_012)\n",
        "print(mod)"
      ]
    },
    {
      "cell_type": "code",
      "execution_count": null,
      "metadata": {},
      "outputs": [],
      "source": []
    }
  ],
  "metadata": {
    "kernelspec": {
      "display_name": "Python 3.8.13 ('xc': conda)",
      "language": "python",
      "name": "python3"
    },
    "language_info": {
      "codemirror_mode": {
        "name": "ipython",
        "version": 3
      },
      "file_extension": ".py",
      "mimetype": "text/x-python",
      "name": "python",
      "nbconvert_exporter": "python",
      "pygments_lexer": "ipython3",
      "version": "3.10.10"
    },
    "vscode": {
      "interpreter": {
        "hash": "f4772b2d9fb5f4e213cea28dc6a0e63daacdc3e8a701d5a5063e88b8cfe3308a"
      }
    }
  },
  "nbformat": 4,
  "nbformat_minor": 0
}
