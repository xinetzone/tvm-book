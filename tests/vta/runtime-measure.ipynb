{
 "cells": [
  {
   "cell_type": "markdown",
   "metadata": {},
   "source": [
    "# runtime measure"
   ]
  },
  {
   "cell_type": "code",
   "execution_count": 1,
   "metadata": {},
   "outputs": [],
   "source": [
    "import time\n",
    "import ctypes\n",
    "\n",
    "import tvm\n",
    "from tvm import te\n",
    "from tvm.contrib.utils import tempdir\n",
    "from tvm.runtime.module import BenchmarkResult"
   ]
  },
  {
   "cell_type": "code",
   "execution_count": 2,
   "metadata": {},
   "outputs": [],
   "source": [
    "tmp = tempdir()\n",
    "filename = tmp.relpath(\"log\")\n",
    "\n",
    "@tvm.register_func\n",
    "def my_debug(filename):\n",
    "    \"\"\"one call lasts for 100 ms and writes one character to a file\"\"\"\n",
    "    time.sleep(0.1)\n",
    "    with open(filename, \"a\") as fout:\n",
    "        fout.write(\"c\")\n",
    "\n",
    "X = te.compute((), lambda: tvm.tir.call_packed(\"my_debug\", filename))\n",
    "s = te.create_schedule(X.op)\n",
    "func = tvm.build(s, [X])\n",
    "\n",
    "x = tvm.nd.empty((), dtype=\"int32\")\n",
    "ftimer = func.time_evaluator(func.entry_name, tvm.cpu(), number=1, repeat=1)\n",
    "ftimer(x)\n",
    "\n",
    "with open(filename, \"r\") as fin:\n",
    "    ct = len(fin.readline())\n",
    "\n",
    "assert ct == 2\n",
    "\n",
    "ftimer = func.time_evaluator(func.entry_name, tvm.cpu(), number=1, repeat=1, min_repeat_ms=1000)\n",
    "ftimer(x)\n",
    "\n",
    "# make sure we get more than 10 calls\n",
    "with open(filename, \"r\") as fin:\n",
    "    ct = len(fin.readline())\n",
    "\n",
    "assert ct > 10 + 2"
   ]
  },
  {
   "cell_type": "code",
   "execution_count": null,
   "metadata": {},
   "outputs": [],
   "source": []
  }
 ],
 "metadata": {
  "kernelspec": {
   "display_name": "tt",
   "language": "python",
   "name": "python3"
  },
  "language_info": {
   "codemirror_mode": {
    "name": "ipython",
    "version": 3
   },
   "file_extension": ".py",
   "mimetype": "text/x-python",
   "name": "python",
   "nbconvert_exporter": "python",
   "pygments_lexer": "ipython3",
   "version": "3.10.10"
  },
  "orig_nbformat": 4
 },
 "nbformat": 4,
 "nbformat_minor": 2
}
