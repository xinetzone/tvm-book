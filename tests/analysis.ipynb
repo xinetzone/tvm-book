{
 "cells": [
  {
   "cell_type": "markdown",
   "metadata": {},
   "source": [
    "# TVM 分析\n",
    "\n",
    "导入可视化工具："
   ]
  },
  {
   "cell_type": "code",
   "execution_count": null,
   "metadata": {},
   "outputs": [],
   "source": [
    "from graphviz import Digraph\n",
    "from IPython.display import display_svg\n",
    "from tvm.contrib.relay_viz import RelayVisualizer\n",
    "from tvm.contrib.relay_viz.dot import DotPlotter\n",
    "\n",
    "\n",
    "class Visualizer(RelayVisualizer):\n",
    "    def graph(self, graph_name):\n",
    "        return self._plotter._name_to_graph[graph_name]\n",
    "\n",
    "    def display(self, graph_name):\n",
    "        graph = self.graph(graph_name)\n",
    "        return graph.digraph\n",
    "\n",
    "    def display_all(self, format=\"svg\",\n",
    "                    filename=None,\n",
    "                    directory=\"images\"):\n",
    "        root_graph = Digraph(format=format,\n",
    "                             filename=filename,\n",
    "                             directory=directory)\n",
    "        for graph in self._plotter._name_to_graph.values():\n",
    "            root_graph.subgraph(graph.digraph)\n",
    "        return root_graph\n",
    "\n",
    "\n",
    "graph_attr = {\"color\": \"red\"}\n",
    "node_attr = {\"color\": \"blue\"}\n",
    "edge_attr = {\"color\": \"black\"}\n",
    "\n",
    "# 添加颜色\n",
    "dot_plotter = DotPlotter(\n",
    "    graph_attr=graph_attr,\n",
    "    node_attr=node_attr,\n",
    "    edge_attr=edge_attr)"
   ]
  },
  {
   "cell_type": "markdown",
   "metadata": {},
   "source": [
    "## 计算 MACs\n",
    "\n",
    "参考：[How to get number of MAC counts from IRModule](https://discuss.tvm.apache.org/t/how-to-get-number-of-mac-counts-from-irmodule/8960/3)"
   ]
  },
  {
   "cell_type": "code",
   "execution_count": null,
   "metadata": {},
   "outputs": [],
   "source": [
    "import mxnet as mx\n",
    "import numpy as np\n",
    "from mxnet.gluon.model_zoo.vision import get_model\n",
    "\n",
    "from tvm import relay\n",
    "from tvm.relay.analysis import get_total_mac_number\n",
    "\n",
    "\n",
    "shape_dict = {\"data\": (1, 3, 224, 224)}\n",
    "block = get_model(\"resnet18_v1\", pretrained=True)\n",
    "mod, params = relay.frontend.from_mxnet(block, shape_dict)\n",
    "mod = relay.transform.InferType()(mod)\n",
    "compute_count = get_total_mac_number(mod[\"main\"])\n",
    "macs = compute_count/(2 ** 30)\n",
    "print(f\"MACs: {macs:.2g}GB\")"
   ]
  },
  {
   "cell_type": "markdown",
   "metadata": {},
   "source": [
    "## 校准数据\n",
    "\n",
    "{func}`tvm.relay.analysis.get_calibration_data` 获得给定 Relay 图的校准数据。\n",
    "\n",
    "该 Pass 使用 graph executor 来获取模块的校准数据，其中包括每个函数的输入和输出值。返回的数据使用每个函数的 `GlobalVar` 作为键。用户可以使用 `inputs` 或 `outputs` 作为键来进一步访问输入和输出。\n",
    "\n",
    "以下是一些限制：\n",
    "\n",
    "- 输入模块(graph)不能有控制流。\n",
    "- 每个函数的输入参数不能是元组（输出可以是元组）。\n",
    "- 只处理 top-level 函数（即不处理嵌套函数）。\n",
    "- 只处理设置了 `Compiler` 属性的函数。\n",
    "\n",
    "参数：\n",
    "\n",
    "- `mod` （{class}`tvm.IRModule`）：收集标定数据的输入模块。\n",
    "- `data` （`Dict[str, NDArray]`）：运行的模块的输入数据。\n",
    "        \n",
    "返回校准数据：\n",
    "\n",
    "- `data`：`Dict[tvm.relay.GlobalVar, Dict[str, NDArray]]`\n",
    "\n",
    "下面以示例解释。\n",
    "\n",
    "### 创建包含两个子图的模块\n",
    "\n",
    "首先，构建单个子图："
   ]
  },
  {
   "cell_type": "code",
   "execution_count": null,
   "metadata": {},
   "outputs": [],
   "source": [
    "from tvm.ir import IRModule\n",
    "\n",
    "mod = IRModule()\n",
    "\n",
    "x0 = relay.var(\"x0\", shape=(8, 8))\n",
    "y0 = relay.var(\"y0\", shape=(8, 8))\n",
    "z0 = x0 + y0\n",
    "z1 = x0 - y0\n",
    "z2 = relay.Tuple((z0, z1))\n",
    "f0 = relay.Function([x0, y0], z2)\n",
    "f0 = f0.with_attr(\"Compiler\", \"test_graph\")\n",
    "g0 = relay.GlobalVar(\"g0\")\n",
    "mod[g0] = f0\n",
    "mod = relay.transform.InferType()(mod)"
   ]
  },
  {
   "cell_type": "markdown",
   "metadata": {},
   "source": [
    "查看 `mod` 结构："
   ]
  },
  {
   "cell_type": "code",
   "execution_count": null,
   "metadata": {},
   "outputs": [],
   "source": [
    "viz = Visualizer(mod, plotter=dot_plotter)\n",
    "graph = viz.display_all()\n",
    "display_svg(graph)"
   ]
  },
  {
   "cell_type": "markdown",
   "metadata": {},
   "source": [
    "添加新的子图："
   ]
  },
  {
   "cell_type": "code",
   "execution_count": null,
   "metadata": {},
   "outputs": [],
   "source": [
    "x1 = relay.var(\"x1\", shape=(8, 8))\n",
    "y1 = relay.var(\"y1\", shape=(8, 8))\n",
    "z1 = x1 - y1\n",
    "f1 = relay.Function([x1, y1], z1)\n",
    "f1 = f1.with_attr(\"Compiler\", \"test_graph\")\n",
    "g1 = relay.GlobalVar(\"g1\")\n",
    "mod[g1] = f1\n",
    "mod = relay.transform.InferType()(mod)"
   ]
  },
  {
   "cell_type": "markdown",
   "metadata": {},
   "source": [
    "查看完整计算图："
   ]
  },
  {
   "cell_type": "code",
   "execution_count": null,
   "metadata": {},
   "outputs": [],
   "source": [
    "viz = Visualizer(mod, plotter=dot_plotter)\n",
    "graph = viz.display_all()\n",
    "display_svg(graph)"
   ]
  },
  {
   "cell_type": "markdown",
   "metadata": {},
   "source": [
    "将两个子图建立联系："
   ]
  },
  {
   "cell_type": "code",
   "execution_count": null,
   "metadata": {},
   "outputs": [],
   "source": [
    "x = relay.var(\"x\", shape=(8, 8))\n",
    "y = relay.var(\"y\", shape=(8, 8))\n",
    "z = relay.var(\"z\", shape=(8, 8))\n",
    "c0 = relay.Call(g0, [x, y])\n",
    "c1 = relay.Call(g1, [relay.TupleGetItem(c0, 0), z])\n",
    "fm = relay.Function([x, y, z], c1)\n",
    "mod[\"main\"] = fm\n",
    "mod = relay.transform.InferType()(mod)"
   ]
  },
  {
   "cell_type": "markdown",
   "metadata": {},
   "source": [
    "仅仅查看 `main` 函数："
   ]
  },
  {
   "cell_type": "code",
   "execution_count": null,
   "metadata": {},
   "outputs": [],
   "source": [
    "viz = Visualizer(mod, plotter=dot_plotter)\n",
    "graph = viz.display(\"main\")\n",
    "display_svg(graph)"
   ]
  },
  {
   "cell_type": "markdown",
   "metadata": {},
   "source": [
    "模拟数据："
   ]
  },
  {
   "cell_type": "code",
   "execution_count": null,
   "metadata": {},
   "outputs": [],
   "source": [
    "from tvm.relay.analysis import get_calibration_data\n",
    "\n",
    "x_data = np.random.rand(8, 8).astype(\"float32\")\n",
    "y_data = np.random.rand(8, 8).astype(\"float32\")\n",
    "z_data = np.random.rand(8, 8).astype(\"float32\")\n",
    "data = get_calibration_data(mod, {\"x\": x_data, \"y\": y_data, \"z\": z_data})"
   ]
  },
  {
   "cell_type": "markdown",
   "metadata": {},
   "source": [
    "定义审查函数："
   ]
  },
  {
   "cell_type": "code",
   "execution_count": null,
   "metadata": {},
   "outputs": [],
   "source": [
    "def check_data_size(mod, data):\n",
    "    assert len(data) == len(mod.functions) - 1\n",
    "    for key, value in mod.functions.items():\n",
    "        if key.name_hint != \"main\":\n",
    "            assert len(data[key][\"inputs\"]) == len(value.params)\n",
    "            if isinstance(value.body, relay.Tuple):\n",
    "                assert len(data[key][\"outputs\"]) == len(value.body.fields)\n",
    "            else:\n",
    "                assert len(data[key][\"outputs\"]) == 1"
   ]
  },
  {
   "cell_type": "markdown",
   "metadata": {},
   "source": [
    "核对数据："
   ]
  },
  {
   "cell_type": "code",
   "execution_count": null,
   "metadata": {},
   "outputs": [],
   "source": [
    "check_data_size(mod, data)\n",
    "np.testing.assert_allclose(data[g0][\"inputs\"][0].numpy(), x_data)\n",
    "np.testing.assert_allclose(data[g0][\"inputs\"][1].numpy(), y_data)\n",
    "np.testing.assert_allclose(data[g0][\"outputs\"][0].numpy(), x_data + y_data)\n",
    "np.testing.assert_allclose(data[g0][\"outputs\"][1].numpy(), x_data - y_data)\n",
    "np.testing.assert_allclose(data[g1][\"inputs\"][0].numpy(), x_data + y_data)\n",
    "np.testing.assert_allclose(data[g1][\"inputs\"][1].numpy(), z_data)\n",
    "np.testing.assert_allclose(data[g1][\"outputs\"][0].numpy(), x_data + y_data - z_data)"
   ]
  },
  {
   "cell_type": "markdown",
   "metadata": {},
   "source": [
    "## 注解区域\n",
    "\n",
    "{func}`tvm.relay.op.annotation.compiler_begin`(data, compiler) {func}`tvm.relay.op.annotation.compiler_end`(data, compiler) 注解释表达式，以指示它是将由给定 `compiler` 处理的区域的开始与结束。参数如下：\n",
    "\n",
    "- `data` （{data}`tvm.relay.Expr`）：要注解的表达式。\n",
    "- `compiler` （ Str）：用于生成带注解区域的代码的编译器。"
   ]
  },
  {
   "cell_type": "code",
   "execution_count": null,
   "metadata": {},
   "outputs": [],
   "source": [
    "from tvm.relay.op.annotation import compiler_begin, compiler_end\n",
    "\n",
    "def check_region(region_set, target, args, nodes, rets):\n",
    "    region = region_set.get_region(args[0])\n",
    "    assert region\n",
    "    assert target == region.target\n",
    "    assert set(args) == set(region.args)\n",
    "    assert set(nodes) == set(region.nodes)\n",
    "    assert set(rets) == set(region.rets)"
   ]
  },
  {
   "cell_type": "code",
   "execution_count": null,
   "metadata": {},
   "outputs": [],
   "source": [
    "data = relay.var(\"data\", shape=(10, 10))\n",
    "cb_1 = compiler_begin(data, \"test_target\")\n",
    "O_1 = relay.abs(cb_1)\n",
    "ce_1 = compiler_end(O_1, \"test_target\")\n",
    "ce_2 = compiler_end(O_1, \"test_target\")\n",
    "cb_2 = compiler_begin(ce_1, \"test_target\")\n",
    "O_2 = relay.nn.relu(cb_2)\n",
    "ce_3 = compiler_end(O_2, \"test_target\")\n",
    "cb_d = compiler_begin(ce_2, \"default\")\n",
    "X = relay.tanh(cb_d)\n",
    "ce_d = compiler_end(X, \"default\")\n",
    "cb_3 = compiler_begin(ce_3, \"test_target\")\n",
    "cb_4 = compiler_begin(ce_d, \"test_target\")\n",
    "O_3 = relay.add(cb_3, cb_4)\n",
    "ce_4 = compiler_end(O_3, \"test_target\")\n",
    "diamond = relay.Function([data], ce_4)"
   ]
  },
  {
   "cell_type": "code",
   "execution_count": null,
   "metadata": {},
   "outputs": [],
   "source": [
    "mod = IRModule.from_expr(diamond)\n",
    "viz = Visualizer(mod, plotter=dot_plotter)\n",
    "graph = viz.display(\"main\")\n",
    "display_svg(graph)"
   ]
  },
  {
   "cell_type": "code",
   "execution_count": null,
   "metadata": {},
   "outputs": [],
   "source": [
    "# Licensed to the Apache Software Foundation (ASF) under one\n",
    "# or more contributor license agreements.  See the NOTICE file\n",
    "# distributed with this work for additional information\n",
    "# regarding copyright ownership.  The ASF licenses this file\n",
    "# to you under the Apache License, Version 2.0 (the\n",
    "# \"License\"); you may not use this file except in compliance\n",
    "# with the License.  You may obtain a copy of the License at\n",
    "#\n",
    "#   http://www.apache.org/licenses/LICENSE-2.0\n",
    "#\n",
    "# Unless required by applicable law or agreed to in writing,\n",
    "# software distributed under the License is distributed on an\n",
    "# \"AS IS\" BASIS, WITHOUT WARRANTIES OR CONDITIONS OF ANY\n",
    "# KIND, either express or implied.  See the License for the\n",
    "# specific language governing permissions and limitations\n",
    "# under the License.\n",
    "# pylint: disable=no-else-return, unidiomatic-typecheck, invalid-name\n",
    "import tvm\n",
    "from tvm import relay\n",
    "from tvm.relay.op.annotation import compiler_begin, compiler_end\n",
    "\n",
    "\n",
    "def check_region(region_set, target, args, nodes, rets):\n",
    "    region = region_set.get_region(args[0])\n",
    "    assert region\n",
    "    assert target == region.target\n",
    "    assert set(args) == set(region.args)\n",
    "    assert set(nodes) == set(region.nodes)\n",
    "    assert set(rets) == set(region.rets)\n",
    "\n",
    "\n",
    "def test_region_set_creator_diamond():\n",
    "    data = relay.var(\"data\", shape=(10, 10))\n",
    "    cb_1 = compiler_begin(data, \"test_target\")\n",
    "    O_1 = relay.abs(cb_1)\n",
    "    ce_1 = compiler_end(O_1, \"test_target\")\n",
    "    ce_2 = compiler_end(O_1, \"test_target\")\n",
    "    cb_2 = compiler_begin(ce_1, \"test_target\")\n",
    "    O_2 = relay.nn.relu(cb_2)\n",
    "    ce_3 = compiler_end(O_2, \"test_target\")\n",
    "    cb_d = compiler_begin(ce_2, \"default\")\n",
    "    X = relay.tanh(cb_d)\n",
    "    ce_d = compiler_end(X, \"default\")\n",
    "    cb_3 = compiler_begin(ce_3, \"test_target\")\n",
    "    cb_4 = compiler_begin(ce_d, \"test_target\")\n",
    "    O_3 = relay.add(cb_3, cb_4)\n",
    "    ce_4 = compiler_end(O_3, \"test_target\")\n",
    "    diamond = relay.Function([data], ce_4)\n",
    "\n",
    "    region_set = relay.analysis.AnnotatedRegionSet(\n",
    "        diamond, relay.op.get(\"annotation.compiler_begin\"), relay.op.get(\"annotation.compiler_end\")\n",
    "    )\n",
    "    assert len(region_set) == 4\n",
    "    check_region(\n",
    "        region_set,\n",
    "        \"test_target\",\n",
    "        [cb_1],\n",
    "        [cb_1, O_1, ce_1, ce_2],\n",
    "        [ce_1, ce_2],\n",
    "    )\n",
    "    check_region(\n",
    "        region_set,\n",
    "        \"test_target\",\n",
    "        [cb_2],\n",
    "        [cb_2, O_2, ce_3],\n",
    "        [ce_3],\n",
    "    )\n",
    "    check_region(\n",
    "        region_set,\n",
    "        \"default\",\n",
    "        [cb_d],\n",
    "        [cb_d, X, ce_d],\n",
    "        [ce_d],\n",
    "    )\n",
    "    check_region(\n",
    "        region_set,\n",
    "        \"test_target\",\n",
    "        [cb_3, cb_4],\n",
    "        [cb_3, cb_4, O_3, ce_4],\n",
    "        [ce_4],\n",
    "    )\n",
    "\n",
    "\n",
    "def test_region_set_creator_merged():\n",
    "    data = relay.var(\"data\", shape=(10, 10))\n",
    "    cb_1 = compiler_begin(data, \"test_target\")\n",
    "    O_1 = relay.abs(cb_1)\n",
    "    ce_2 = compiler_end(O_1, \"test_target\")\n",
    "    O_2 = relay.nn.relu(O_1)\n",
    "    ce_3 = compiler_end(O_2, \"test_target\")\n",
    "    cb_d = compiler_begin(ce_2, \"default\")\n",
    "    X = relay.tanh(cb_d)\n",
    "    ce_d = compiler_end(X, \"default\")\n",
    "    cb_3 = compiler_begin(ce_3, \"test_target\")\n",
    "    cb_4 = compiler_begin(ce_d, \"test_target\")\n",
    "    O_3 = relay.add(cb_3, cb_4)\n",
    "    O_4 = relay.add(cb_3, cb_4)\n",
    "    O_5 = relay.Tuple([O_3, O_4])\n",
    "    ce_4 = compiler_end(O_5, \"test_target\")\n",
    "    merged = relay.Function([data], ce_4)\n",
    "\n",
    "    region_set = relay.analysis.AnnotatedRegionSet(\n",
    "        merged, relay.op.get(\"annotation.compiler_begin\"), relay.op.get(\"annotation.compiler_end\")\n",
    "    )\n",
    "    assert len(region_set) == 3\n",
    "    check_region(\n",
    "        region_set,\n",
    "        \"test_target\",\n",
    "        [cb_1],\n",
    "        [cb_1, O_1, O_2, ce_2, ce_3],\n",
    "        [ce_2, ce_3],\n",
    "    )\n",
    "    check_region(\n",
    "        region_set,\n",
    "        \"default\",\n",
    "        [cb_d],\n",
    "        [cb_d, X, ce_d],\n",
    "        [ce_d],\n",
    "    )\n",
    "    check_region(\n",
    "        region_set,\n",
    "        \"test_target\",\n",
    "        [cb_3, cb_4],\n",
    "        [cb_3, cb_4, O_3, O_4, O_5, ce_4],\n",
    "        [ce_4],\n",
    "    )\n",
    "\n",
    "\n",
    "if __name__ == \"__main__\":\n",
    "    test_region_set_creator_diamond()\n",
    "    test_region_set_creator_merged()\n"
   ]
  }
 ],
 "metadata": {
  "kernelspec": {
   "display_name": "Python 3.10.4 ('mx': conda)",
   "language": "python",
   "name": "python3"
  },
  "language_info": {
   "codemirror_mode": {
    "name": "ipython",
    "version": 3
   },
   "file_extension": ".py",
   "mimetype": "text/x-python",
   "name": "python",
   "nbconvert_exporter": "python",
   "pygments_lexer": "ipython3",
   "version": "3.10.12"
  },
  "orig_nbformat": 4,
  "vscode": {
   "interpreter": {
    "hash": "6ab843168d80d896ff230380afa7f24ef0bc94d0d31e7cbe07a4717b9b9b5212"
   }
  }
 },
 "nbformat": 4,
 "nbformat_minor": 2
}
