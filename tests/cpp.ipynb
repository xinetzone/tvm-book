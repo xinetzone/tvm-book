{
 "cells": [
  {
   "cell_type": "markdown",
   "metadata": {},
   "source": [
    "# C++ 测试"
   ]
  },
  {
   "cell_type": "code",
   "execution_count": 1,
   "metadata": {},
   "outputs": [],
   "source": [
    "#include <cassert>\n",
    "#include <iostream>\n",
    "#include <sstream>\n",
    "#include <vector>\n",
    "\n",
    "typedef int32_t index_t;   // 用于标识张量索引的类型\n",
    "typedef uint32_t shape_t;  // 用于标识张量形状的类型"
   ]
  },
  {
   "cell_type": "code",
   "execution_count": 2,
   "metadata": {},
   "outputs": [],
   "source": [
    "// 内部函数\n",
    "std::vector<shape_t> cumrod(std::vector<shape_t> shape) {\n",
    "  // ----------- 累积乘法-----------\n",
    "  std::vector<shape_t> factors = {};\n",
    "  index_t factor = 1;\n",
    "  for (auto i : shape) {\n",
    "    factor *= i;\n",
    "    factors.push_back(factor);\n",
    "  }\n",
    "  return factors;\n",
    "}"
   ]
  },
  {
   "cell_type": "code",
   "execution_count": 3,
   "metadata": {},
   "outputs": [],
   "source": [
    "std::vector<shape_t> shape_step(std::vector<shape_t> shape) {\n",
    "  // 计算 reshape 对应维度的跨步\n",
    "  std::vector<shape_t> factors{shape.rbegin(), shape.rend() - 1};  // 切片, 倒序\n",
    "  std::vector<shape_t> out = cumrod(factors);\n",
    "  std::vector<shape_t> factors2{out.rbegin(), out.rend()};\n",
    "  factors2.push_back(1);\n",
    "  return factors2;\n",
    "}"
   ]
  },
  {
   "cell_type": "code",
   "execution_count": 4,
   "metadata": {},
   "outputs": [],
   "source": [
    "shape_t dot_shape(std::vector<shape_t> shape, std::vector<shape_t> shape2) {\n",
    "  // 形状内积\n",
    "  shape_t index = 0;\n",
    "  for (shape_t t = 0; t < shape.size(); t++) {\n",
    "    index += shape[t] * shape2[t];\n",
    "  }\n",
    "  return index;\n",
    "}"
   ]
  },
  {
   "cell_type": "code",
   "execution_count": 5,
   "metadata": {},
   "outputs": [],
   "source": [
    "std::vector<int8_t> processing(int8_t* src_addr, uint32_t pad_top, uint32_t pad_left,\n",
    "                               std::vector<shape_t> src_shape, std::vector<shape_t> src_steps,\n",
    "                               std::vector<shape_t> shape, std::vector<shape_t> steps,\n",
    "                               std::vector<int8_t> data) {\n",
    "  for (shape_t b = 0; b < src_shape[0]; b++) {\n",
    "    for (shape_t c = 0; c < src_shape[1]; c++) {\n",
    "      for (shape_t i = 0; i < src_shape[2]; i++) {\n",
    "        for (shape_t j = 0; j < src_shape[3]; j++) {\n",
    "          for (shape_t block_b = 0; block_b < src_shape[4]; block_b++) {\n",
    "            for (shape_t block_c = 0; block_c < src_shape[5]; block_c++) {\n",
    "              data[dot_shape({b, c, i + pad_top, j + pad_left, block_b, block_c}, steps)] =\n",
    "                  src_addr[dot_shape({b, c, i, j, block_b, block_c}, src_steps)];\n",
    "            }\n",
    "          }\n",
    "        }\n",
    "      }\n",
    "    }\n",
    "  }\n",
    "  return data;\n",
    "}"
   ]
  },
  {
   "cell_type": "code",
   "execution_count": 6,
   "metadata": {},
   "outputs": [],
   "source": [
    "int trans_fixed_point_multiply_uint8(int8_t* shift, int32_t* pos_rounding_value)\n",
    "{\n",
    "\t*shift = -*shift;\t\t\n",
    "\t*shift = 8+*shift;\n",
    "\t//assert(*shift >= 0);\n",
    "\t*pos_rounding_value = (*shift >= 1) ? (1<< (*shift - 1)):0;\t\n",
    "\treturn 0;\n",
    "}"
   ]
  },
  {
   "cell_type": "code",
   "execution_count": null,
   "metadata": {},
   "outputs": [],
   "source": [
    "int8_t shift = 1;\n"
   ]
  },
  {
   "cell_type": "code",
   "execution_count": 7,
   "metadata": {},
   "outputs": [],
   "source": [
    "int trans_fixed_point_multiply_int8(int8_t* shift, int32_t* pos_rounding_value)\n",
    "{\n",
    "\t*shift = -*shift;\t\t\n",
    "\t*shift =  7 + *shift;\n",
    "\t*pos_rounding_value = (*shift >= 1) ? (1<< (*shift - 1)):0;\n",
    "\treturn 0;\n",
    "}"
   ]
  },
  {
   "cell_type": "code",
   "execution_count": 8,
   "metadata": {},
   "outputs": [],
   "source": [
    "int trans_fixed_point_multiply_shift(int32_t multiply_shift, uint8_t* multiply, int8_t* shift, int32_t* pos_rounding_value, int ms_nums=1)\n",
    "{\n",
    "\t*shift = (multiply_shift & 0xff);\n",
    "  *multiply = (multiply_shift >> 8) & 0xff;\n",
    "\tif (*multiply == 1 && *shift == 0){\n",
    "    *pos_rounding_value = 0;\n",
    "\t} \n",
    "  else {\n",
    "    //逐通道量化时硬件目前只支持multiply数据类型为int8, 逐tensor时可以支持uint8\n",
    "    if (ms_nums > 1) {\n",
    "      trans_fixed_point_multiply_int8(shift, pos_rounding_value);\n",
    "    }\n",
    "    else {\n",
    "      trans_fixed_point_multiply_uint8(shift, pos_rounding_value);\n",
    "    }\n",
    "    \n",
    "  }\n",
    "  return 0;\n",
    "}"
   ]
  },
  {
   "cell_type": "code",
   "execution_count": null,
   "metadata": {},
   "outputs": [],
   "source": []
  }
 ],
 "metadata": {
  "kernelspec": {
   "display_name": "C++14",
   "language": "C++14",
   "name": "xcpp14"
  },
  "language_info": {
   "codemirror_mode": "text/x-c++src",
   "file_extension": ".cpp",
   "mimetype": "text/x-c++src",
   "name": "c++",
   "version": "14"
  }
 },
 "nbformat": 4,
 "nbformat_minor": 2
}
