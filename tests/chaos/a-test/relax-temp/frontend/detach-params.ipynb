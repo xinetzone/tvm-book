{
 "cells": [
  {
   "cell_type": "markdown",
   "metadata": {},
   "source": [
    "# 分离参数"
   ]
  },
  {
   "cell_type": "code",
   "execution_count": 1,
   "metadata": {},
   "outputs": [],
   "source": [
    "import numpy as np\n",
    "import tvm\n",
    "from tvm.relax.frontend import detach_params\n",
    "from tvm.script.parser import relax as R"
   ]
  },
  {
   "cell_type": "code",
   "execution_count": 2,
   "metadata": {},
   "outputs": [],
   "source": [
    "@R.function\n",
    "def func(x: R.Tensor((2, 3), \"float32\")):\n",
    "    return x"
   ]
  },
  {
   "cell_type": "code",
   "execution_count": 4,
   "metadata": {},
   "outputs": [],
   "source": [
    "param = tvm.nd.empty((3,), \"float32\")\n",
    "mod = tvm.IRModule({\"func\": func.with_attr(\"params\", [param])})\n",
    "detached_mod, detached_params = detach_params(mod)\n",
    "tvm.ir.assert_structural_equal(detached_mod, tvm.IRModule({\"func\": func}))\n",
    "assert len(detached_params) == 1\n",
    "assert \"func\" in detached_params\n",
    "assert isinstance(detached_params[\"func\"], list)\n",
    "assert len(detached_params[\"func\"]) == 1\n",
    "np.testing.assert_allclose(detached_params[\"func\"][0].numpy(), param.numpy())"
   ]
  },
  {
   "cell_type": "code",
   "execution_count": null,
   "metadata": {},
   "outputs": [],
   "source": []
  }
 ],
 "metadata": {
  "kernelspec": {
   "display_name": "tvmx",
   "language": "python",
   "name": "python3"
  },
  "language_info": {
   "codemirror_mode": {
    "name": "ipython",
    "version": 3
   },
   "file_extension": ".py",
   "mimetype": "text/x-python",
   "name": "python",
   "nbconvert_exporter": "python",
   "pygments_lexer": "ipython3",
   "version": "3.10.9"
  },
  "orig_nbformat": 4
 },
 "nbformat": 4,
 "nbformat_minor": 2
}
