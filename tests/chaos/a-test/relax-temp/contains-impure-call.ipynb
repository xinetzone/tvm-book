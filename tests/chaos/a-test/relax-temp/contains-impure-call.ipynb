{
 "cells": [
  {
   "cell_type": "markdown",
   "metadata": {},
   "source": [
    "# `contains_impure_call`"
   ]
  },
  {
   "cell_type": "code",
   "execution_count": 1,
   "metadata": {},
   "outputs": [],
   "source": [
    "import tvm\n",
    "from tvm import relax as rx\n",
    "from tvm.relax.analysis import contains_impure_call\n",
    "from tvm.script import relax as R"
   ]
  },
  {
   "cell_type": "code",
   "execution_count": 2,
   "metadata": {},
   "outputs": [
    {
     "data": {
      "text/html": [
       "<div class=\"highlight\" style=\"background: \"><pre style=\"line-height: 125%;\"><span></span><span style=\"color: #007979; font-style: italic\"># from tvm.script import ir as I</span>\n",
       "<span style=\"color: #007979; font-style: italic\"># from tvm.script import relax as R</span>\n",
       "\n",
       "\n",
       "<span style=\"color: #AA22FF\">@I</span><span style=\"color: #AA22FF; font-weight: bold\">.</span>ir_module\n",
       "<span style=\"color: #008000; font-weight: bold\">class</span> <span style=\"color: #0000FF; font-weight: bold\">Module</span>:\n",
       "    <span style=\"color: #AA22FF\">@R</span><span style=\"color: #AA22FF; font-weight: bold\">.</span>function\n",
       "    <span style=\"color: #008000; font-weight: bold\">def</span> <span style=\"color: #0000FF\">pure_func</span>(x: R<span style=\"color: #AA22FF; font-weight: bold\">.</span>Tensor((), dtype<span style=\"color: #AA22FF; font-weight: bold\">=</span><span style=\"color: #BA2121\">&quot;int32&quot;</span>)) <span style=\"color: #AA22FF; font-weight: bold\">-&gt;</span> R<span style=\"color: #AA22FF; font-weight: bold\">.</span>Tensor((), dtype<span style=\"color: #AA22FF; font-weight: bold\">=</span><span style=\"color: #BA2121\">&quot;int32&quot;</span>):\n",
       "        y: R<span style=\"color: #AA22FF; font-weight: bold\">.</span>Tensor((), dtype<span style=\"color: #AA22FF; font-weight: bold\">=</span><span style=\"color: #BA2121\">&quot;int32&quot;</span>) <span style=\"color: #AA22FF; font-weight: bold\">=</span> R<span style=\"color: #AA22FF; font-weight: bold\">.</span>add(x, x)\n",
       "        z: R<span style=\"color: #AA22FF; font-weight: bold\">.</span>Tensor((), dtype<span style=\"color: #AA22FF; font-weight: bold\">=</span><span style=\"color: #BA2121\">&quot;int32&quot;</span>) <span style=\"color: #AA22FF; font-weight: bold\">=</span> R<span style=\"color: #AA22FF; font-weight: bold\">.</span>multiply(x, y)\n",
       "        gv2: R<span style=\"color: #AA22FF; font-weight: bold\">.</span>Tensor((), dtype<span style=\"color: #AA22FF; font-weight: bold\">=</span><span style=\"color: #BA2121\">&quot;int32&quot;</span>) <span style=\"color: #AA22FF; font-weight: bold\">=</span> R<span style=\"color: #AA22FF; font-weight: bold\">.</span>add(z, R<span style=\"color: #AA22FF; font-weight: bold\">.</span>const(<span style=\"color: #008000\">1</span>, <span style=\"color: #BA2121\">&quot;int32&quot;</span>))\n",
       "        <span style=\"color: #008000; font-weight: bold\">return</span> gv2\n",
       "</pre></div>\n"
      ],
      "text/plain": [
       "<IPython.core.display.HTML object>"
      ]
     },
     "metadata": {},
     "output_type": "display_data"
    }
   ],
   "source": [
    "@tvm.script.ir_module\n",
    "class PureTest:\n",
    "    @R.function\n",
    "    def pure_func(x: R.Tensor((), \"int32\")) -> R.Tensor((), \"int32\"):\n",
    "        y = R.add(x, x)\n",
    "        z = R.multiply(x, y)\n",
    "        return R.add(z, R.const(1, \"int32\"))\n",
    "\n",
    "PureTest.show()\n",
    "assert not contains_impure_call(PureTest[\"pure_func\"])"
   ]
  },
  {
   "cell_type": "code",
   "execution_count": 6,
   "metadata": {},
   "outputs": [],
   "source": [
    "@tvm.script.ir_module\n",
    "class ImpureTest:\n",
    "    @R.function(pure=False)\n",
    "    def impure_func() -> R.Object:\n",
    "        y = R.print(format=\"I am a message\")\n",
    "        return y\n",
    "\n",
    "assert contains_impure_call(ImpureTest[\"impure_func\"])"
   ]
  },
  {
   "cell_type": "code",
   "execution_count": 7,
   "metadata": {},
   "outputs": [],
   "source": [
    "@tvm.script.ir_module\n",
    "class NestedTest:\n",
    "    @R.function\n",
    "    def pure_with_impure_nested() -> R.Tensor((), \"int32\"):\n",
    "        # unused\n",
    "        @R.function(pure=False)\n",
    "        def impure_inner() -> R.Object:\n",
    "            y = R.print(format=\"Another, worse, message\")\n",
    "            return y\n",
    "\n",
    "        x = R.const(0, dtype=\"int32\")\n",
    "        return R.add(x, x)\n",
    "\n",
    "assert not contains_impure_call(NestedTest[\"pure_with_impure_nested\"])\n",
    "assert contains_impure_call(\n",
    "    NestedTest[\"pure_with_impure_nested\"].body.blocks[0].bindings[0].value\n",
    ")"
   ]
  },
  {
   "cell_type": "code",
   "execution_count": 6,
   "metadata": {},
   "outputs": [],
   "source": [
    "# Ignoring a recursive call. This can be useful if some transformation\n",
    "# removes an impure operation and the compiler needs to check if the impure\n",
    "# function has become pure\n",
    "# 忽略递归调用。\n",
    "# 如果某些转换删除了 impure 的运算，并且编译器需要检查 impure 的函数是否已变为纯净，则此方法很有用。\n",
    "@tvm.script.ir_module\n",
    "class RecursiveTest:\n",
    "    @R.function(pure=False)\n",
    "    def recursive_impure() -> R.Object:\n",
    "        x = R.const(1, \"int32\")\n",
    "        y = R.add(x, x)\n",
    "        z = R.print(x, y, format=\"{} {}\")\n",
    "        w = RecursiveTest.recursive_impure()\n",
    "        return w\n",
    "\n",
    "assert contains_impure_call(RecursiveTest[\"recursive_impure\"])\n",
    "# but if we remove the impure call...\n",
    "body = RecursiveTest[\"recursive_impure\"].body\n",
    "own_name = body.blocks[0].bindings[-1].value.op\n",
    "# skipping the call to print...\n",
    "new_bindings = [\n",
    "    body.blocks[0].bindings[0],\n",
    "    body.blocks[0].bindings[1],\n",
    "    body.blocks[0].bindings[-1],\n",
    "]\n",
    "# Note: we construct the function in this way so that we keep the old vars\n",
    "# with their current StructInfo. That would get fixed during normalization.\n",
    "# However, this situation is meant to correspond to an intermediate state\n",
    "# that might arise within a pass.\n",
    "new_body = rx.SeqExpr([rx.BindingBlock(new_bindings)], body.body)\n",
    "\n",
    "# if we didn't ignore the recursive call, the fact the var's StructInfo\n",
    "# calls it impure would throw it off\n",
    "assert not contains_impure_call(new_body, own_name=own_name)\n",
    "assert contains_impure_call(new_body)"
   ]
  },
  {
   "cell_type": "code",
   "execution_count": null,
   "metadata": {},
   "outputs": [],
   "source": []
  }
 ],
 "metadata": {
  "kernelspec": {
   "display_name": "tvmx",
   "language": "python",
   "name": "python3"
  },
  "language_info": {
   "codemirror_mode": {
    "name": "ipython",
    "version": 3
   },
   "file_extension": ".py",
   "mimetype": "text/x-python",
   "name": "python",
   "nbconvert_exporter": "python",
   "pygments_lexer": "ipython3",
   "version": "3.10.9"
  },
  "orig_nbformat": 4
 },
 "nbformat": 4,
 "nbformat_minor": 2
}
