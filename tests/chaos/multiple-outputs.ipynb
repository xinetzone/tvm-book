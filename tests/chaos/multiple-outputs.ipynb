{
 "cells": [
  {
   "cell_type": "markdown",
   "metadata": {},
   "source": [
    "# 多输出\n",
    "\n",
    "参考：[Generate sub graphs from existing graph](https://discuss.tvm.apache.org/t/relay-generate-sub-graphs-from-existing-graph/11594/3)"
   ]
  },
  {
   "cell_type": "code",
   "execution_count": 1,
   "metadata": {},
   "outputs": [],
   "source": [
    "from tvm import relay\n",
    "from tvm.tir import IntImm\n",
    "from tvm.ir import IRModule, structural_equal\n",
    "from tvm.relay.op.annotation import compiler_begin, compiler_end\n",
    "\n",
    "\n",
    "def set_func_attr(func, compile_name, symbol_name):\n",
    "    func = func.with_attr(\"Primitive\", IntImm(\"int32\", 1))\n",
    "    func = func.with_attr(\"Inline\", IntImm(\"int32\", 1))\n",
    "    func = func.with_attr(\"Compiler\", compile_name)\n",
    "    func = func.with_attr(\"global_symbol\", symbol_name)\n",
    "    return func\n",
    "\n",
    "\n",
    "def create_graph():\n",
    "    data = relay.var(\"data\", relay.TensorType((1, 3, 224, 224), \"float32\"))\n",
    "    weight = relay.var(\"weight\", relay.TensorType((16, 3, 3, 3), \"float32\"))\n",
    "    bn_gamma = relay.var(\"bn_gamma\", relay.TensorType((16,), \"float32\"))\n",
    "    bn_beta = relay.var(\"bn_beta\", relay.TensorType((16,), \"float32\"))\n",
    "    bn_mean = relay.var(\"bn_mean\", relay.TensorType((16,), \"float32\"))\n",
    "    bn_var = relay.var(\"bn_var\", relay.TensorType((16,), \"float32\"))\n",
    "\n",
    "    data_cb = compiler_begin(data, \"test_target\")\n",
    "    weight_cb = compiler_begin(weight, \"test_target\")\n",
    "    bn_gamma_cb = compiler_begin(bn_gamma, \"test_target\")\n",
    "    bn_beta_cb = compiler_begin(bn_beta, \"test_target\")\n",
    "    bn_mean_cb = compiler_begin(bn_mean, \"test_target\")\n",
    "    bn_var_cb = compiler_begin(bn_var, \"test_target\")\n",
    "\n",
    "    conv_o = relay.nn.conv2d(data=data_cb,\n",
    "                             weight=weight_cb,\n",
    "                             kernel_size=(3, 3),\n",
    "                             channels=16,\n",
    "                             padding=(1, 1))\n",
    "\n",
    "    bn_o = relay.nn.batch_norm(conv_o,\n",
    "                               bn_gamma_cb,\n",
    "                               bn_beta_cb,\n",
    "                               bn_mean_cb,\n",
    "                               bn_var_cb)\n",
    "\n",
    "    relu_o = relay.nn.relu(bn_o[0])\n",
    "    relu_o_ce = compiler_end(relu_o, \"test_target\")\n",
    "\n",
    "    bn_omean = bn_o[1]\n",
    "    rebn_omean_ce = compiler_end(bn_omean, \"test_target\")\n",
    "    bn_ovar = bn_o[2]\n",
    "    bn_ovar_ce = compiler_end(bn_ovar, \"test_target\")\n",
    "    dummy_mean_abs = relay.abs(rebn_omean_ce)\n",
    "    dummy_ovar_abs = relay.abs(bn_ovar_ce)\n",
    "    dummy_tuple = relay.Tuple((relu_o_ce,\n",
    "                               dummy_mean_abs,\n",
    "                               dummy_ovar_abs))\n",
    "\n",
    "    func = relay.Function([data,\n",
    "                           weight,\n",
    "                           bn_gamma,\n",
    "                           bn_beta,\n",
    "                           bn_mean,\n",
    "                           bn_var],\n",
    "                          dummy_tuple)\n",
    "    return func\n",
    "\n",
    "\n",
    "def expected():\n",
    "    mod = IRModule()\n",
    "    # function 0\n",
    "    data = relay.var(\"test_target_0_i0\", relay.TensorType(\n",
    "        (1, 3, 224, 224), \"float32\"))\n",
    "    weight = relay.var(\"test_target_0_i1\",\n",
    "                       relay.TensorType((16, 3, 3, 3), \"float32\"))\n",
    "    bn_gamma = relay.var(\"test_target_0_i2\",\n",
    "                         relay.TensorType((16,), \"float32\"))\n",
    "    bn_beta = relay.var(\"test_target_0_i3\",\n",
    "                        relay.TensorType((16,), \"float32\"))\n",
    "    bn_mean = relay.var(\"test_target_0_i4\",\n",
    "                        relay.TensorType((16,), \"float32\"))\n",
    "    bn_var = relay.var(\"test_target_0_i5\",\n",
    "                       relay.TensorType((16,), \"float32\"))\n",
    "\n",
    "    conv_o = relay.nn.conv2d(\n",
    "        data=data,\n",
    "        weight=weight,\n",
    "        kernel_size=(3, 3),\n",
    "        channels=16,\n",
    "        padding=(1, 1)\n",
    "    )\n",
    "\n",
    "    bn_o = relay.nn.batch_norm(conv_o, bn_gamma, bn_beta, bn_mean, bn_var)\n",
    "\n",
    "    relu_o = relay.nn.relu(bn_o[0])\n",
    "    tuple_o = relay.Tuple((relu_o, bn_o[1], bn_o[2]))\n",
    "\n",
    "    func0 = relay.Function(\n",
    "        [data, weight, bn_gamma, bn_beta, bn_mean, bn_var], tuple_o)\n",
    "    func0 = set_func_attr(func0, \"test_target\",\n",
    "                          \"tvmgen_default_test_target_main_0\")\n",
    "    gv0 = relay.GlobalVar(\"tvmgen_default_test_target_main_0\")\n",
    "    mod[gv0] = func0\n",
    "    mod = relay.transform.InferType()(mod)\n",
    "\n",
    "    # body\n",
    "    data = relay.var(\"data\", relay.TensorType((1, 3, 224, 224), \"float32\"))\n",
    "    weight = relay.var(\"weight\", relay.TensorType(\n",
    "        (16, 3, 3, 3), \"float32\"))\n",
    "    bn_gamma = relay.var(\"bn_gamma\", relay.TensorType((16,), \"float32\"))\n",
    "    bn_beta = relay.var(\"bn_beta\", relay.TensorType((16,), \"float32\"))\n",
    "    bn_mean = relay.var(\"bn_mean\", relay.TensorType((16,), \"float32\"))\n",
    "    bn_var = relay.var(\"bn_var\", relay.TensorType((16,), \"float32\"))\n",
    "\n",
    "    f0_o = gv0(data, weight, bn_gamma, bn_beta, bn_mean, bn_var)\n",
    "    f0_relu_o = relay.TupleGetItem(f0_o, 0)\n",
    "    f0_mean_o = relay.TupleGetItem(f0_o, 1)\n",
    "    f0_var_o = relay.TupleGetItem(f0_o, 2)\n",
    "\n",
    "    f0_mean_abs = relay.abs(f0_mean_o)\n",
    "    f0_var_abs = relay.abs(f0_var_o)\n",
    "    main_tuple = relay.Tuple((f0_relu_o, f0_mean_abs, f0_var_abs))\n",
    "\n",
    "    func = relay.Function(\n",
    "        [data, weight, bn_gamma, bn_beta, bn_mean, bn_var], main_tuple)\n",
    "    mod[\"main\"] = func\n",
    "    mod = relay.transform.InferType()(mod)\n",
    "    return mod\n"
   ]
  },
  {
   "cell_type": "code",
   "execution_count": 2,
   "metadata": {},
   "outputs": [],
   "source": [
    "mod = IRModule()\n",
    "mod[\"main\"] = create_graph()\n",
    "ref_mod = expected()\n",
    "\n",
    "partitioned = relay.transform.PartitionGraph()(mod)\n",
    "assert structural_equal(partitioned, ref_mod, map_free_vars=True)"
   ]
  },
  {
   "cell_type": "code",
   "execution_count": 5,
   "metadata": {},
   "outputs": [],
   "source": [
    "from tvm_book.testing.relay.viz import graphviz_relay"
   ]
  },
  {
   "cell_type": "code",
   "execution_count": 8,
   "metadata": {},
   "outputs": [
    {
     "data": {
      "image/svg+xml": "<?xml version=\"1.0\" encoding=\"UTF-8\" standalone=\"no\"?>\n<!DOCTYPE svg PUBLIC \"-//W3C//DTD SVG 1.1//EN\"\n \"http://www.w3.org/Graphics/SVG/1.1/DTD/svg11.dtd\">\n<!-- Generated by graphviz version 2.43.0 (0)\n -->\n<!-- Title: cluster_main Pages: 1 -->\n<svg width=\"1542pt\" height=\"953pt\"\n viewBox=\"0.00 0.00 1541.66 953.33\" xmlns=\"http://www.w3.org/2000/svg\" xmlns:xlink=\"http://www.w3.org/1999/xlink\">\n<g id=\"graph0\" class=\"graph\" transform=\"scale(1 1) rotate(0) translate(4 949.33)\">\n<title>cluster_main</title>\n<polygon fill=\"white\" stroke=\"transparent\" points=\"-4,4 -4,-949.33 1537.66,-949.33 1537.66,4 -4,4\"/>\n<text text-anchor=\"middle\" x=\"766.83\" y=\"-7.8\" font-family=\"Times,serif\" font-size=\"14.00\">main</text>\n<!-- 0 -->\n<g id=\"node1\" class=\"node\">\n<title>0</title>\n<ellipse fill=\"none\" stroke=\"blue\" cx=\"125.16\" cy=\"-897.25\" rx=\"125.32\" ry=\"48.17\"/>\n<text text-anchor=\"middle\" x=\"125.16\" y=\"-916.05\" font-family=\"Times,serif\" font-size=\"14.00\">Var(Input)</text>\n<text text-anchor=\"middle\" x=\"125.16\" y=\"-901.05\" font-family=\"Times,serif\" font-size=\"14.00\">name_hint: data</text>\n<text text-anchor=\"middle\" x=\"125.16\" y=\"-886.05\" font-family=\"Times,serif\" font-size=\"14.00\">shape: (1, 3, 224, 224)</text>\n<text text-anchor=\"middle\" x=\"125.16\" y=\"-871.05\" font-family=\"Times,serif\" font-size=\"14.00\">dtype: float32</text>\n</g>\n<!-- 11 -->\n<g id=\"node7\" class=\"node\">\n<title>11</title>\n<polygon fill=\"none\" stroke=\"blue\" points=\"244.66,-784.08 5.66,-784.08 5.66,-746.08 244.66,-746.08 244.66,-784.08\"/>\n<text text-anchor=\"middle\" x=\"125.16\" y=\"-768.88\" font-family=\"Times,serif\" font-size=\"14.00\">Call annotation.compiler_begin</text>\n<text text-anchor=\"middle\" x=\"125.16\" y=\"-753.88\" font-family=\"Times,serif\" font-size=\"14.00\">compiler: test_target</text>\n</g>\n<!-- 0&#45;&gt;11 -->\n<g id=\"edge1\" class=\"edge\">\n<title>0&#45;&gt;11</title>\n<path fill=\"none\" stroke=\"black\" d=\"M125.16,-848.89C125.16,-830.7 125.16,-810.51 125.16,-794.62\"/>\n<polygon fill=\"black\" stroke=\"black\" points=\"128.66,-794.38 125.16,-784.38 121.66,-794.38 128.66,-794.38\"/>\n</g>\n<!-- 1 -->\n<g id=\"node2\" class=\"node\">\n<title>1</title>\n<ellipse fill=\"none\" stroke=\"blue\" cx=\"382.16\" cy=\"-897.25\" rx=\"106.13\" ry=\"48.17\"/>\n<text text-anchor=\"middle\" x=\"382.16\" y=\"-916.05\" font-family=\"Times,serif\" font-size=\"14.00\">Var(Input)</text>\n<text text-anchor=\"middle\" x=\"382.16\" y=\"-901.05\" font-family=\"Times,serif\" font-size=\"14.00\">name_hint: weight</text>\n<text text-anchor=\"middle\" x=\"382.16\" y=\"-886.05\" font-family=\"Times,serif\" font-size=\"14.00\">shape: (16, 3, 3, 3)</text>\n<text text-anchor=\"middle\" x=\"382.16\" y=\"-871.05\" font-family=\"Times,serif\" font-size=\"14.00\">dtype: float32</text>\n</g>\n<!-- 12 -->\n<g id=\"node8\" class=\"node\">\n<title>12</title>\n<polygon fill=\"none\" stroke=\"blue\" points=\"501.66,-784.08 262.66,-784.08 262.66,-746.08 501.66,-746.08 501.66,-784.08\"/>\n<text text-anchor=\"middle\" x=\"382.16\" y=\"-768.88\" font-family=\"Times,serif\" font-size=\"14.00\">Call annotation.compiler_begin</text>\n<text text-anchor=\"middle\" x=\"382.16\" y=\"-753.88\" font-family=\"Times,serif\" font-size=\"14.00\">compiler: test_target</text>\n</g>\n<!-- 1&#45;&gt;12 -->\n<g id=\"edge2\" class=\"edge\">\n<title>1&#45;&gt;12</title>\n<path fill=\"none\" stroke=\"black\" d=\"M382.16,-848.89C382.16,-830.7 382.16,-810.51 382.16,-794.62\"/>\n<polygon fill=\"black\" stroke=\"black\" points=\"385.66,-794.38 382.16,-784.38 378.66,-794.38 385.66,-794.38\"/>\n</g>\n<!-- 2 -->\n<g id=\"node3\" class=\"node\">\n<title>2</title>\n<ellipse fill=\"none\" stroke=\"blue\" cx=\"645.16\" cy=\"-765.08\" rx=\"125.32\" ry=\"48.17\"/>\n<text text-anchor=\"middle\" x=\"645.16\" y=\"-783.88\" font-family=\"Times,serif\" font-size=\"14.00\">Var(Input)</text>\n<text text-anchor=\"middle\" x=\"645.16\" y=\"-768.88\" font-family=\"Times,serif\" font-size=\"14.00\">name_hint: bn_gamma</text>\n<text text-anchor=\"middle\" x=\"645.16\" y=\"-753.88\" font-family=\"Times,serif\" font-size=\"14.00\">shape: (16,)</text>\n<text text-anchor=\"middle\" x=\"645.16\" y=\"-738.88\" font-family=\"Times,serif\" font-size=\"14.00\">dtype: float32</text>\n</g>\n<!-- 14 -->\n<g id=\"node10\" class=\"node\">\n<title>14</title>\n<polygon fill=\"none\" stroke=\"blue\" points=\"762.66,-613.5 523.66,-613.5 523.66,-575.5 762.66,-575.5 762.66,-613.5\"/>\n<text text-anchor=\"middle\" x=\"643.16\" y=\"-598.3\" font-family=\"Times,serif\" font-size=\"14.00\">Call annotation.compiler_begin</text>\n<text text-anchor=\"middle\" x=\"643.16\" y=\"-583.3\" font-family=\"Times,serif\" font-size=\"14.00\">compiler: test_target</text>\n</g>\n<!-- 2&#45;&gt;14 -->\n<g id=\"edge5\" class=\"edge\">\n<title>2&#45;&gt;14</title>\n<path fill=\"none\" stroke=\"black\" d=\"M644.6,-716.67C644.24,-686.68 643.79,-648.92 643.49,-623.6\"/>\n<polygon fill=\"black\" stroke=\"black\" points=\"646.99,-623.52 643.37,-613.56 639.99,-623.6 646.99,-623.52\"/>\n</g>\n<!-- 3 -->\n<g id=\"node4\" class=\"node\">\n<title>3</title>\n<ellipse fill=\"none\" stroke=\"blue\" cx=\"900.16\" cy=\"-765.08\" rx=\"110.12\" ry=\"48.17\"/>\n<text text-anchor=\"middle\" x=\"900.16\" y=\"-783.88\" font-family=\"Times,serif\" font-size=\"14.00\">Var(Input)</text>\n<text text-anchor=\"middle\" x=\"900.16\" y=\"-768.88\" font-family=\"Times,serif\" font-size=\"14.00\">name_hint: bn_beta</text>\n<text text-anchor=\"middle\" x=\"900.16\" y=\"-753.88\" font-family=\"Times,serif\" font-size=\"14.00\">shape: (16,)</text>\n<text text-anchor=\"middle\" x=\"900.16\" y=\"-738.88\" font-family=\"Times,serif\" font-size=\"14.00\">dtype: float32</text>\n</g>\n<!-- 15 -->\n<g id=\"node11\" class=\"node\">\n<title>15</title>\n<polygon fill=\"none\" stroke=\"blue\" points=\"1019.66,-613.5 780.66,-613.5 780.66,-575.5 1019.66,-575.5 1019.66,-613.5\"/>\n<text text-anchor=\"middle\" x=\"900.16\" y=\"-598.3\" font-family=\"Times,serif\" font-size=\"14.00\">Call annotation.compiler_begin</text>\n<text text-anchor=\"middle\" x=\"900.16\" y=\"-583.3\" font-family=\"Times,serif\" font-size=\"14.00\">compiler: test_target</text>\n</g>\n<!-- 3&#45;&gt;15 -->\n<g id=\"edge6\" class=\"edge\">\n<title>3&#45;&gt;15</title>\n<path fill=\"none\" stroke=\"black\" d=\"M900.16,-716.67C900.16,-686.68 900.16,-648.92 900.16,-623.6\"/>\n<polygon fill=\"black\" stroke=\"black\" points=\"903.66,-623.56 900.16,-613.56 896.66,-623.56 903.66,-623.56\"/>\n</g>\n<!-- 4 -->\n<g id=\"node5\" class=\"node\">\n<title>4</title>\n<ellipse fill=\"none\" stroke=\"blue\" cx=\"1157.16\" cy=\"-765.08\" rx=\"115.93\" ry=\"48.17\"/>\n<text text-anchor=\"middle\" x=\"1157.16\" y=\"-783.88\" font-family=\"Times,serif\" font-size=\"14.00\">Var(Input)</text>\n<text text-anchor=\"middle\" x=\"1157.16\" y=\"-768.88\" font-family=\"Times,serif\" font-size=\"14.00\">name_hint: bn_mean</text>\n<text text-anchor=\"middle\" x=\"1157.16\" y=\"-753.88\" font-family=\"Times,serif\" font-size=\"14.00\">shape: (16,)</text>\n<text text-anchor=\"middle\" x=\"1157.16\" y=\"-738.88\" font-family=\"Times,serif\" font-size=\"14.00\">dtype: float32</text>\n</g>\n<!-- 16 -->\n<g id=\"node12\" class=\"node\">\n<title>16</title>\n<polygon fill=\"none\" stroke=\"blue\" points=\"1276.66,-613.5 1037.66,-613.5 1037.66,-575.5 1276.66,-575.5 1276.66,-613.5\"/>\n<text text-anchor=\"middle\" x=\"1157.16\" y=\"-598.3\" font-family=\"Times,serif\" font-size=\"14.00\">Call annotation.compiler_begin</text>\n<text text-anchor=\"middle\" x=\"1157.16\" y=\"-583.3\" font-family=\"Times,serif\" font-size=\"14.00\">compiler: test_target</text>\n</g>\n<!-- 4&#45;&gt;16 -->\n<g id=\"edge7\" class=\"edge\">\n<title>4&#45;&gt;16</title>\n<path fill=\"none\" stroke=\"black\" d=\"M1157.16,-716.67C1157.16,-686.68 1157.16,-648.92 1157.16,-623.6\"/>\n<polygon fill=\"black\" stroke=\"black\" points=\"1160.66,-623.56 1157.16,-613.56 1153.66,-623.56 1160.66,-623.56\"/>\n</g>\n<!-- 5 -->\n<g id=\"node6\" class=\"node\">\n<title>5</title>\n<ellipse fill=\"none\" stroke=\"blue\" cx=\"1414.16\" cy=\"-765.08\" rx=\"104.8\" ry=\"48.17\"/>\n<text text-anchor=\"middle\" x=\"1414.16\" y=\"-783.88\" font-family=\"Times,serif\" font-size=\"14.00\">Var(Input)</text>\n<text text-anchor=\"middle\" x=\"1414.16\" y=\"-768.88\" font-family=\"Times,serif\" font-size=\"14.00\">name_hint: bn_var</text>\n<text text-anchor=\"middle\" x=\"1414.16\" y=\"-753.88\" font-family=\"Times,serif\" font-size=\"14.00\">shape: (16,)</text>\n<text text-anchor=\"middle\" x=\"1414.16\" y=\"-738.88\" font-family=\"Times,serif\" font-size=\"14.00\">dtype: float32</text>\n</g>\n<!-- 17 -->\n<g id=\"node13\" class=\"node\">\n<title>17</title>\n<polygon fill=\"none\" stroke=\"blue\" points=\"1533.66,-613.5 1294.66,-613.5 1294.66,-575.5 1533.66,-575.5 1533.66,-613.5\"/>\n<text text-anchor=\"middle\" x=\"1414.16\" y=\"-598.3\" font-family=\"Times,serif\" font-size=\"14.00\">Call annotation.compiler_begin</text>\n<text text-anchor=\"middle\" x=\"1414.16\" y=\"-583.3\" font-family=\"Times,serif\" font-size=\"14.00\">compiler: test_target</text>\n</g>\n<!-- 5&#45;&gt;17 -->\n<g id=\"edge8\" class=\"edge\">\n<title>5&#45;&gt;17</title>\n<path fill=\"none\" stroke=\"black\" d=\"M1414.16,-716.67C1414.16,-686.68 1414.16,-648.92 1414.16,-623.6\"/>\n<polygon fill=\"black\" stroke=\"black\" points=\"1417.66,-623.56 1414.16,-613.56 1410.66,-623.56 1417.66,-623.56\"/>\n</g>\n<!-- 13 -->\n<g id=\"node9\" class=\"node\">\n<title>13</title>\n<polygon fill=\"none\" stroke=\"blue\" points=\"464.16,-681 300.16,-681 300.16,-508 464.16,-508 464.16,-681\"/>\n<text text-anchor=\"middle\" x=\"382.16\" y=\"-665.8\" font-family=\"Times,serif\" font-size=\"14.00\">Call nn.conv2d</text>\n<text text-anchor=\"middle\" x=\"382.16\" y=\"-650.8\" font-family=\"Times,serif\" font-size=\"14.00\">strides: [1, 1]</text>\n<text text-anchor=\"middle\" x=\"382.16\" y=\"-635.8\" font-family=\"Times,serif\" font-size=\"14.00\">padding: [1, 1, 1, 1]</text>\n<text text-anchor=\"middle\" x=\"382.16\" y=\"-620.8\" font-family=\"Times,serif\" font-size=\"14.00\">dilation: [1, 1]</text>\n<text text-anchor=\"middle\" x=\"382.16\" y=\"-605.8\" font-family=\"Times,serif\" font-size=\"14.00\">groups: 1</text>\n<text text-anchor=\"middle\" x=\"382.16\" y=\"-590.8\" font-family=\"Times,serif\" font-size=\"14.00\">channels: 16</text>\n<text text-anchor=\"middle\" x=\"382.16\" y=\"-575.8\" font-family=\"Times,serif\" font-size=\"14.00\">kernel_size: [3, 3]</text>\n<text text-anchor=\"middle\" x=\"382.16\" y=\"-560.8\" font-family=\"Times,serif\" font-size=\"14.00\">data_layout: NCHW</text>\n<text text-anchor=\"middle\" x=\"382.16\" y=\"-545.8\" font-family=\"Times,serif\" font-size=\"14.00\">kernel_layout: OIHW</text>\n<text text-anchor=\"middle\" x=\"382.16\" y=\"-530.8\" font-family=\"Times,serif\" font-size=\"14.00\">out_layout: </text>\n<text text-anchor=\"middle\" x=\"382.16\" y=\"-515.8\" font-family=\"Times,serif\" font-size=\"14.00\">out_dtype: </text>\n</g>\n<!-- 11&#45;&gt;13 -->\n<g id=\"edge3\" class=\"edge\">\n<title>11&#45;&gt;13</title>\n<path fill=\"none\" stroke=\"black\" d=\"M152.66,-746.04C185.65,-724.4 242.63,-687.03 291.56,-654.93\"/>\n<polygon fill=\"black\" stroke=\"black\" points=\"293.52,-657.83 299.96,-649.42 289.68,-651.98 293.52,-657.83\"/>\n</g>\n<!-- 12&#45;&gt;13 -->\n<g id=\"edge4\" class=\"edge\">\n<title>12&#45;&gt;13</title>\n<path fill=\"none\" stroke=\"black\" d=\"M382.16,-746.04C382.16,-732.33 382.16,-712.3 382.16,-691.3\"/>\n<polygon fill=\"black\" stroke=\"black\" points=\"385.66,-691.27 382.16,-681.27 378.66,-691.27 385.66,-691.27\"/>\n</g>\n<!-- 18 -->\n<g id=\"node14\" class=\"node\">\n<title>18</title>\n<polygon fill=\"none\" stroke=\"blue\" points=\"977.66,-472 822.66,-472 822.66,-389 977.66,-389 977.66,-472\"/>\n<text text-anchor=\"middle\" x=\"900.16\" y=\"-456.8\" font-family=\"Times,serif\" font-size=\"14.00\">Call nn.batch_norm</text>\n<text text-anchor=\"middle\" x=\"900.16\" y=\"-441.8\" font-family=\"Times,serif\" font-size=\"14.00\">axis: 1</text>\n<text text-anchor=\"middle\" x=\"900.16\" y=\"-426.8\" font-family=\"Times,serif\" font-size=\"14.00\">epsilon: 1e&#45;05</text>\n<text text-anchor=\"middle\" x=\"900.16\" y=\"-411.8\" font-family=\"Times,serif\" font-size=\"14.00\">center: 1</text>\n<text text-anchor=\"middle\" x=\"900.16\" y=\"-396.8\" font-family=\"Times,serif\" font-size=\"14.00\">scale: 1</text>\n</g>\n<!-- 13&#45;&gt;18 -->\n<g id=\"edge9\" class=\"edge\">\n<title>13&#45;&gt;18</title>\n<path fill=\"none\" stroke=\"black\" d=\"M464.35,-533.98C480.61,-524.16 497.98,-514.94 515.16,-508 612.72,-468.61 732.64,-448.9 812.47,-439.47\"/>\n<polygon fill=\"black\" stroke=\"black\" points=\"812.95,-442.94 822.48,-438.32 812.15,-435.98 812.95,-442.94\"/>\n</g>\n<!-- 14&#45;&gt;18 -->\n<g id=\"edge10\" class=\"edge\">\n<title>14&#45;&gt;18</title>\n<path fill=\"none\" stroke=\"black\" d=\"M669.6,-575.45C695.52,-557.89 736.24,-530.62 772.16,-508 788.29,-497.84 805.74,-487.19 822.41,-477.18\"/>\n<polygon fill=\"black\" stroke=\"black\" points=\"824.26,-480.15 831.04,-472.01 820.67,-474.14 824.26,-480.15\"/>\n</g>\n<!-- 15&#45;&gt;18 -->\n<g id=\"edge11\" class=\"edge\">\n<title>15&#45;&gt;18</title>\n<path fill=\"none\" stroke=\"black\" d=\"M900.16,-575.23C900.16,-552.83 900.16,-513.94 900.16,-482.26\"/>\n<polygon fill=\"black\" stroke=\"black\" points=\"903.66,-482.25 900.16,-472.25 896.66,-482.25 903.66,-482.25\"/>\n</g>\n<!-- 16&#45;&gt;18 -->\n<g id=\"edge12\" class=\"edge\">\n<title>16&#45;&gt;18</title>\n<path fill=\"none\" stroke=\"black\" d=\"M1130.95,-575.4C1105.27,-557.8 1064.89,-530.5 1029.16,-508 1013.02,-497.84 995.56,-487.23 978.86,-477.26\"/>\n<polygon fill=\"black\" stroke=\"black\" points=\"980.58,-474.22 970.2,-472.11 977,-480.23 980.58,-474.22\"/>\n</g>\n<!-- 17&#45;&gt;18 -->\n<g id=\"edge13\" class=\"edge\">\n<title>17&#45;&gt;18</title>\n<path fill=\"none\" stroke=\"black\" d=\"M1392.58,-575.16C1368.3,-555.5 1326.9,-524.86 1286.16,-508 1188.54,-467.61 1068.01,-448.1 987.87,-438.99\"/>\n<polygon fill=\"black\" stroke=\"black\" points=\"988.14,-435.5 977.81,-437.87 987.37,-442.45 988.14,-435.5\"/>\n</g>\n<!-- 19 -->\n<g id=\"node15\" class=\"node\">\n<title>19</title>\n<polygon fill=\"none\" stroke=\"blue\" points=\"800.66,-353 685.66,-353 685.66,-315 800.66,-315 800.66,-353\"/>\n<text text-anchor=\"middle\" x=\"743.16\" y=\"-337.8\" font-family=\"Times,serif\" font-size=\"14.00\">TupleGetItem</text>\n<text text-anchor=\"middle\" x=\"743.16\" y=\"-322.8\" font-family=\"Times,serif\" font-size=\"14.00\">idx: 0</text>\n</g>\n<!-- 18&#45;&gt;19 -->\n<g id=\"edge14\" class=\"edge\">\n<title>18&#45;&gt;19</title>\n<path fill=\"none\" stroke=\"black\" d=\"M832.66,-388.88C815.3,-378.42 797.19,-367.52 781.85,-358.29\"/>\n<polygon fill=\"black\" stroke=\"black\" points=\"783.53,-355.22 773.16,-353.06 779.92,-361.22 783.53,-355.22\"/>\n</g>\n<!-- 23 -->\n<g id=\"node18\" class=\"node\">\n<title>23</title>\n<polygon fill=\"none\" stroke=\"blue\" points=\"957.66,-353 842.66,-353 842.66,-315 957.66,-315 957.66,-353\"/>\n<text text-anchor=\"middle\" x=\"900.16\" y=\"-337.8\" font-family=\"Times,serif\" font-size=\"14.00\">TupleGetItem</text>\n<text text-anchor=\"middle\" x=\"900.16\" y=\"-322.8\" font-family=\"Times,serif\" font-size=\"14.00\">idx: 1</text>\n</g>\n<!-- 18&#45;&gt;23 -->\n<g id=\"edge17\" class=\"edge\">\n<title>18&#45;&gt;23</title>\n<path fill=\"none\" stroke=\"black\" d=\"M900.16,-388.88C900.16,-380.35 900.16,-371.52 900.16,-363.55\"/>\n<polygon fill=\"black\" stroke=\"black\" points=\"903.66,-363.3 900.16,-353.3 896.66,-363.3 903.66,-363.3\"/>\n</g>\n<!-- 26 -->\n<g id=\"node21\" class=\"node\">\n<title>26</title>\n<polygon fill=\"none\" stroke=\"blue\" points=\"1145.66,-353 1030.66,-353 1030.66,-315 1145.66,-315 1145.66,-353\"/>\n<text text-anchor=\"middle\" x=\"1088.16\" y=\"-337.8\" font-family=\"Times,serif\" font-size=\"14.00\">TupleGetItem</text>\n<text text-anchor=\"middle\" x=\"1088.16\" y=\"-322.8\" font-family=\"Times,serif\" font-size=\"14.00\">idx: 2</text>\n</g>\n<!-- 18&#45;&gt;26 -->\n<g id=\"edge20\" class=\"edge\">\n<title>18&#45;&gt;26</title>\n<path fill=\"none\" stroke=\"black\" d=\"M977.71,-390.52C999.89,-379.37 1023.33,-367.59 1042.88,-357.76\"/>\n<polygon fill=\"black\" stroke=\"black\" points=\"1044.49,-360.87 1051.86,-353.25 1041.35,-354.61 1044.49,-360.87\"/>\n</g>\n<!-- 20 -->\n<g id=\"node16\" class=\"node\">\n<title>20</title>\n<polygon fill=\"none\" stroke=\"blue\" points=\"769.16,-278 669.16,-278 669.16,-242 769.16,-242 769.16,-278\"/>\n<text text-anchor=\"middle\" x=\"719.16\" y=\"-256.3\" font-family=\"Times,serif\" font-size=\"14.00\">Call nn.relu</text>\n</g>\n<!-- 19&#45;&gt;20 -->\n<g id=\"edge15\" class=\"edge\">\n<title>19&#45;&gt;20</title>\n<path fill=\"none\" stroke=\"black\" d=\"M737.1,-314.83C734.4,-306.72 731.16,-296.99 728.17,-288.05\"/>\n<polygon fill=\"black\" stroke=\"black\" points=\"731.45,-286.8 724.96,-278.42 724.81,-289.01 731.45,-286.8\"/>\n</g>\n<!-- 21 -->\n<g id=\"node17\" class=\"node\">\n<title>21</title>\n<polygon fill=\"none\" stroke=\"blue\" points=\"838.66,-205 613.66,-205 613.66,-167 838.66,-167 838.66,-205\"/>\n<text text-anchor=\"middle\" x=\"726.16\" y=\"-189.8\" font-family=\"Times,serif\" font-size=\"14.00\">Call annotation.compiler_end</text>\n<text text-anchor=\"middle\" x=\"726.16\" y=\"-174.8\" font-family=\"Times,serif\" font-size=\"14.00\">compiler: test_target</text>\n</g>\n<!-- 20&#45;&gt;21 -->\n<g id=\"edge16\" class=\"edge\">\n<title>20&#45;&gt;21</title>\n<path fill=\"none\" stroke=\"black\" d=\"M720.82,-241.94C721.59,-233.99 722.53,-224.31 723.41,-215.31\"/>\n<polygon fill=\"black\" stroke=\"black\" points=\"726.9,-215.49 724.39,-205.2 719.94,-214.81 726.9,-215.49\"/>\n</g>\n<!-- 29 -->\n<g id=\"node24\" class=\"node\">\n<title>29</title>\n<polygon fill=\"none\" stroke=\"blue\" points=\"928.16,-131 872.16,-131 872.16,-95 928.16,-95 928.16,-131\"/>\n<text text-anchor=\"middle\" x=\"900.16\" y=\"-109.3\" font-family=\"Times,serif\" font-size=\"14.00\">Tuple</text>\n</g>\n<!-- 21&#45;&gt;29 -->\n<g id=\"edge23\" class=\"edge\">\n<title>21&#45;&gt;29</title>\n<path fill=\"none\" stroke=\"black\" d=\"M770.52,-166.9C798.94,-155.3 835.44,-140.41 862.46,-129.38\"/>\n<polygon fill=\"black\" stroke=\"black\" points=\"864.02,-132.53 871.96,-125.51 861.38,-126.05 864.02,-132.53\"/>\n</g>\n<!-- 24 -->\n<g id=\"node19\" class=\"node\">\n<title>24</title>\n<polygon fill=\"none\" stroke=\"blue\" points=\"1012.66,-279 787.66,-279 787.66,-241 1012.66,-241 1012.66,-279\"/>\n<text text-anchor=\"middle\" x=\"900.16\" y=\"-263.8\" font-family=\"Times,serif\" font-size=\"14.00\">Call annotation.compiler_end</text>\n<text text-anchor=\"middle\" x=\"900.16\" y=\"-248.8\" font-family=\"Times,serif\" font-size=\"14.00\">compiler: test_target</text>\n</g>\n<!-- 23&#45;&gt;24 -->\n<g id=\"edge18\" class=\"edge\">\n<title>23&#45;&gt;24</title>\n<path fill=\"none\" stroke=\"black\" d=\"M900.16,-314.83C900.16,-307.13 900.16,-297.97 900.16,-289.42\"/>\n<polygon fill=\"black\" stroke=\"black\" points=\"903.66,-289.41 900.16,-279.41 896.66,-289.41 903.66,-289.41\"/>\n</g>\n<!-- 25 -->\n<g id=\"node20\" class=\"node\">\n<title>25</title>\n<polygon fill=\"none\" stroke=\"blue\" points=\"937.16,-204 863.16,-204 863.16,-168 937.16,-168 937.16,-204\"/>\n<text text-anchor=\"middle\" x=\"900.16\" y=\"-182.3\" font-family=\"Times,serif\" font-size=\"14.00\">Call abs</text>\n</g>\n<!-- 24&#45;&gt;25 -->\n<g id=\"edge19\" class=\"edge\">\n<title>24&#45;&gt;25</title>\n<path fill=\"none\" stroke=\"black\" d=\"M900.16,-240.83C900.16,-232.89 900.16,-223.41 900.16,-214.63\"/>\n<polygon fill=\"black\" stroke=\"black\" points=\"903.66,-214.42 900.16,-204.42 896.66,-214.42 903.66,-214.42\"/>\n</g>\n<!-- 25&#45;&gt;29 -->\n<g id=\"edge24\" class=\"edge\">\n<title>25&#45;&gt;29</title>\n<path fill=\"none\" stroke=\"black\" d=\"M900.16,-167.81C900.16,-159.79 900.16,-150.05 900.16,-141.07\"/>\n<polygon fill=\"black\" stroke=\"black\" points=\"903.66,-141.03 900.16,-131.03 896.66,-141.03 903.66,-141.03\"/>\n</g>\n<!-- 27 -->\n<g id=\"node22\" class=\"node\">\n<title>27</title>\n<polygon fill=\"none\" stroke=\"blue\" points=\"1255.66,-279 1030.66,-279 1030.66,-241 1255.66,-241 1255.66,-279\"/>\n<text text-anchor=\"middle\" x=\"1143.16\" y=\"-263.8\" font-family=\"Times,serif\" font-size=\"14.00\">Call annotation.compiler_end</text>\n<text text-anchor=\"middle\" x=\"1143.16\" y=\"-248.8\" font-family=\"Times,serif\" font-size=\"14.00\">compiler: test_target</text>\n</g>\n<!-- 26&#45;&gt;27 -->\n<g id=\"edge21\" class=\"edge\">\n<title>26&#45;&gt;27</title>\n<path fill=\"none\" stroke=\"black\" d=\"M1102.04,-314.83C1108.37,-306.54 1116,-296.56 1122.95,-287.45\"/>\n<polygon fill=\"black\" stroke=\"black\" points=\"1125.8,-289.48 1129.09,-279.41 1120.24,-285.24 1125.8,-289.48\"/>\n</g>\n<!-- 28 -->\n<g id=\"node23\" class=\"node\">\n<title>28</title>\n<polygon fill=\"none\" stroke=\"blue\" points=\"1104.16,-204 1030.16,-204 1030.16,-168 1104.16,-168 1104.16,-204\"/>\n<text text-anchor=\"middle\" x=\"1067.16\" y=\"-182.3\" font-family=\"Times,serif\" font-size=\"14.00\">Call abs</text>\n</g>\n<!-- 27&#45;&gt;28 -->\n<g id=\"edge22\" class=\"edge\">\n<title>27&#45;&gt;28</title>\n<path fill=\"none\" stroke=\"black\" d=\"M1123.98,-240.83C1114.52,-231.87 1102.98,-220.93 1092.77,-211.26\"/>\n<polygon fill=\"black\" stroke=\"black\" points=\"1094.95,-208.51 1085.28,-204.17 1090.14,-213.59 1094.95,-208.51\"/>\n</g>\n<!-- 28&#45;&gt;29 -->\n<g id=\"edge25\" class=\"edge\">\n<title>28&#45;&gt;29</title>\n<path fill=\"none\" stroke=\"black\" d=\"M1030.1,-169.24C1002.59,-157.55 965.22,-141.66 937.62,-129.93\"/>\n<polygon fill=\"black\" stroke=\"black\" points=\"938.87,-126.66 928.3,-125.96 936.13,-133.1 938.87,-126.66\"/>\n</g>\n<!-- 30 -->\n<g id=\"node25\" class=\"node\">\n<title>30</title>\n<polygon fill=\"none\" stroke=\"blue\" points=\"928.16,-59 872.16,-59 872.16,-23 928.16,-23 928.16,-59\"/>\n<text text-anchor=\"middle\" x=\"900.16\" y=\"-37.3\" font-family=\"Times,serif\" font-size=\"14.00\">Func </text>\n</g>\n<!-- 29&#45;&gt;30 -->\n<g id=\"edge26\" class=\"edge\">\n<title>29&#45;&gt;30</title>\n<path fill=\"none\" stroke=\"black\" d=\"M900.16,-94.7C900.16,-86.98 900.16,-77.71 900.16,-69.11\"/>\n<polygon fill=\"black\" stroke=\"black\" points=\"903.66,-69.1 900.16,-59.1 896.66,-69.1 903.66,-69.1\"/>\n</g>\n</g>\n</svg>\n",
      "text/plain": [
       "<graphviz.dot.Digraph at 0x7f51d0bef2e0>"
      ]
     },
     "execution_count": 8,
     "metadata": {},
     "output_type": "execute_result"
    }
   ],
   "source": [
    "graphviz_relay(mod, \"main\")"
   ]
  },
  {
   "cell_type": "code",
   "execution_count": 10,
   "metadata": {},
   "outputs": [
    {
     "data": {
      "text/plain": [
       "[GlobalVar(main), GlobalVar(tvmgen_default_test_target_main_0)]"
      ]
     },
     "execution_count": 10,
     "metadata": {},
     "output_type": "execute_result"
    }
   ],
   "source": [
    "partitioned.get_global_vars()"
   ]
  },
  {
   "cell_type": "code",
   "execution_count": 6,
   "metadata": {},
   "outputs": [
    {
     "data": {
      "image/svg+xml": "<?xml version=\"1.0\" encoding=\"UTF-8\" standalone=\"no\"?>\n<!DOCTYPE svg PUBLIC \"-//W3C//DTD SVG 1.1//EN\"\n \"http://www.w3.org/Graphics/SVG/1.1/DTD/svg11.dtd\">\n<!-- Generated by graphviz version 2.43.0 (0)\n -->\n<!-- Title: cluster_main Pages: 1 -->\n<svg width=\"1472pt\" height=\"509pt\"\n viewBox=\"0.00 0.00 1471.81 508.91\" xmlns=\"http://www.w3.org/2000/svg\" xmlns:xlink=\"http://www.w3.org/1999/xlink\">\n<g id=\"graph0\" class=\"graph\" transform=\"scale(1 1) rotate(0) translate(4 504.91)\">\n<title>cluster_main</title>\n<polygon fill=\"white\" stroke=\"transparent\" points=\"-4,4 -4,-504.91 1467.81,-504.91 1467.81,4 -4,4\"/>\n<text text-anchor=\"middle\" x=\"731.9\" y=\"-7.8\" font-family=\"Times,serif\" font-size=\"14.00\">main</text>\n<!-- 0 -->\n<g id=\"node1\" class=\"node\">\n<title>0</title>\n<ellipse fill=\"none\" stroke=\"blue\" cx=\"125.16\" cy=\"-452.82\" rx=\"125.32\" ry=\"48.17\"/>\n<text text-anchor=\"middle\" x=\"125.16\" y=\"-471.62\" font-family=\"Times,serif\" font-size=\"14.00\">Var(Input)</text>\n<text text-anchor=\"middle\" x=\"125.16\" y=\"-456.62\" font-family=\"Times,serif\" font-size=\"14.00\">name_hint: data</text>\n<text text-anchor=\"middle\" x=\"125.16\" y=\"-441.62\" font-family=\"Times,serif\" font-size=\"14.00\">shape: (1, 3, 224, 224)</text>\n<text text-anchor=\"middle\" x=\"125.16\" y=\"-426.62\" font-family=\"Times,serif\" font-size=\"14.00\">dtype: float32</text>\n</g>\n<!-- 7 -->\n<g id=\"node7\" class=\"node\">\n<title>7</title>\n<ellipse fill=\"none\" stroke=\"blue\" cx=\"749.16\" cy=\"-341.87\" rx=\"301.87\" ry=\"26.74\"/>\n<text text-anchor=\"middle\" x=\"749.16\" y=\"-345.67\" font-family=\"Times,serif\" font-size=\"14.00\">Call GlobalVar</text>\n<text text-anchor=\"middle\" x=\"749.16\" y=\"-330.67\" font-family=\"Times,serif\" font-size=\"14.00\">GlobalVar.name_hint: tvmgen_default_test_target_main_0</text>\n</g>\n<!-- 0&#45;&gt;7 -->\n<g id=\"edge1\" class=\"edge\">\n<title>0&#45;&gt;7</title>\n<path fill=\"none\" stroke=\"black\" d=\"M212.3,-418.21C227.74,-413.12 243.8,-408.36 259.16,-404.74 343.46,-384.85 437.53,-371.02 520.53,-361.57\"/>\n<polygon fill=\"black\" stroke=\"black\" points=\"521.05,-365.03 530.6,-360.44 520.27,-358.08 521.05,-365.03\"/>\n</g>\n<!-- 1 -->\n<g id=\"node2\" class=\"node\">\n<title>1</title>\n<ellipse fill=\"none\" stroke=\"blue\" cx=\"374.16\" cy=\"-452.82\" rx=\"106.13\" ry=\"48.17\"/>\n<text text-anchor=\"middle\" x=\"374.16\" y=\"-471.62\" font-family=\"Times,serif\" font-size=\"14.00\">Var(Input)</text>\n<text text-anchor=\"middle\" x=\"374.16\" y=\"-456.62\" font-family=\"Times,serif\" font-size=\"14.00\">name_hint: weight</text>\n<text text-anchor=\"middle\" x=\"374.16\" y=\"-441.62\" font-family=\"Times,serif\" font-size=\"14.00\">shape: (16, 3, 3, 3)</text>\n<text text-anchor=\"middle\" x=\"374.16\" y=\"-426.62\" font-family=\"Times,serif\" font-size=\"14.00\">dtype: float32</text>\n</g>\n<!-- 1&#45;&gt;7 -->\n<g id=\"edge2\" class=\"edge\">\n<title>1&#45;&gt;7</title>\n<path fill=\"none\" stroke=\"black\" d=\"M449.63,-418.99C462.68,-413.86 476.22,-408.9 489.16,-404.74 531.88,-391 579.43,-378.81 622.06,-368.97\"/>\n<polygon fill=\"black\" stroke=\"black\" points=\"622.97,-372.35 631.93,-366.71 621.41,-365.53 622.97,-372.35\"/>\n</g>\n<!-- 2 -->\n<g id=\"node3\" class=\"node\">\n<title>2</title>\n<ellipse fill=\"none\" stroke=\"blue\" cx=\"623.16\" cy=\"-452.82\" rx=\"125.32\" ry=\"48.17\"/>\n<text text-anchor=\"middle\" x=\"623.16\" y=\"-471.62\" font-family=\"Times,serif\" font-size=\"14.00\">Var(Input)</text>\n<text text-anchor=\"middle\" x=\"623.16\" y=\"-456.62\" font-family=\"Times,serif\" font-size=\"14.00\">name_hint: bn_gamma</text>\n<text text-anchor=\"middle\" x=\"623.16\" y=\"-441.62\" font-family=\"Times,serif\" font-size=\"14.00\">shape: (16,)</text>\n<text text-anchor=\"middle\" x=\"623.16\" y=\"-426.62\" font-family=\"Times,serif\" font-size=\"14.00\">dtype: float32</text>\n</g>\n<!-- 2&#45;&gt;7 -->\n<g id=\"edge3\" class=\"edge\">\n<title>2&#45;&gt;7</title>\n<path fill=\"none\" stroke=\"black\" d=\"M673.32,-408.45C686.04,-397.45 699.49,-385.81 711.48,-375.45\"/>\n<polygon fill=\"black\" stroke=\"black\" points=\"713.85,-378.03 719.12,-368.84 709.27,-372.74 713.85,-378.03\"/>\n</g>\n<!-- 3 -->\n<g id=\"node4\" class=\"node\">\n<title>3</title>\n<ellipse fill=\"none\" stroke=\"blue\" cx=\"876.16\" cy=\"-452.82\" rx=\"110.12\" ry=\"48.17\"/>\n<text text-anchor=\"middle\" x=\"876.16\" y=\"-471.62\" font-family=\"Times,serif\" font-size=\"14.00\">Var(Input)</text>\n<text text-anchor=\"middle\" x=\"876.16\" y=\"-456.62\" font-family=\"Times,serif\" font-size=\"14.00\">name_hint: bn_beta</text>\n<text text-anchor=\"middle\" x=\"876.16\" y=\"-441.62\" font-family=\"Times,serif\" font-size=\"14.00\">shape: (16,)</text>\n<text text-anchor=\"middle\" x=\"876.16\" y=\"-426.62\" font-family=\"Times,serif\" font-size=\"14.00\">dtype: float32</text>\n</g>\n<!-- 3&#45;&gt;7 -->\n<g id=\"edge4\" class=\"edge\">\n<title>3&#45;&gt;7</title>\n<path fill=\"none\" stroke=\"black\" d=\"M827.06,-409.7C813.76,-398.29 799.58,-386.13 787.01,-375.34\"/>\n<polygon fill=\"black\" stroke=\"black\" points=\"789.28,-372.68 779.41,-368.82 784.72,-377.99 789.28,-372.68\"/>\n</g>\n<!-- 4 -->\n<g id=\"node5\" class=\"node\">\n<title>4</title>\n<ellipse fill=\"none\" stroke=\"blue\" cx=\"1120.16\" cy=\"-452.82\" rx=\"115.93\" ry=\"48.17\"/>\n<text text-anchor=\"middle\" x=\"1120.16\" y=\"-471.62\" font-family=\"Times,serif\" font-size=\"14.00\">Var(Input)</text>\n<text text-anchor=\"middle\" x=\"1120.16\" y=\"-456.62\" font-family=\"Times,serif\" font-size=\"14.00\">name_hint: bn_mean</text>\n<text text-anchor=\"middle\" x=\"1120.16\" y=\"-441.62\" font-family=\"Times,serif\" font-size=\"14.00\">shape: (16,)</text>\n<text text-anchor=\"middle\" x=\"1120.16\" y=\"-426.62\" font-family=\"Times,serif\" font-size=\"14.00\">dtype: float32</text>\n</g>\n<!-- 4&#45;&gt;7 -->\n<g id=\"edge5\" class=\"edge\">\n<title>4&#45;&gt;7</title>\n<path fill=\"none\" stroke=\"black\" d=\"M1037.24,-419.09C1023.29,-414.01 1008.88,-409.03 995.16,-404.74 953.53,-391.71 907.28,-379.5 866.22,-369.43\"/>\n<polygon fill=\"black\" stroke=\"black\" points=\"867,-366.01 856.45,-367.05 865.34,-372.81 867,-366.01\"/>\n</g>\n<!-- 5 -->\n<g id=\"node6\" class=\"node\">\n<title>5</title>\n<ellipse fill=\"none\" stroke=\"blue\" cx=\"1359.16\" cy=\"-452.82\" rx=\"104.8\" ry=\"48.17\"/>\n<text text-anchor=\"middle\" x=\"1359.16\" y=\"-471.62\" font-family=\"Times,serif\" font-size=\"14.00\">Var(Input)</text>\n<text text-anchor=\"middle\" x=\"1359.16\" y=\"-456.62\" font-family=\"Times,serif\" font-size=\"14.00\">name_hint: bn_var</text>\n<text text-anchor=\"middle\" x=\"1359.16\" y=\"-441.62\" font-family=\"Times,serif\" font-size=\"14.00\">shape: (16,)</text>\n<text text-anchor=\"middle\" x=\"1359.16\" y=\"-426.62\" font-family=\"Times,serif\" font-size=\"14.00\">dtype: float32</text>\n</g>\n<!-- 5&#45;&gt;7 -->\n<g id=\"edge6\" class=\"edge\">\n<title>5&#45;&gt;7</title>\n<path fill=\"none\" stroke=\"black\" d=\"M1285.95,-418.23C1272.59,-413.07 1258.62,-408.29 1245.16,-404.74 1164.19,-383.38 1073.78,-369.34 992.57,-360.12\"/>\n<polygon fill=\"black\" stroke=\"black\" points=\"992.52,-356.6 982.2,-358.97 991.75,-363.55 992.52,-356.6\"/>\n</g>\n<!-- 8 -->\n<g id=\"node8\" class=\"node\">\n<title>8</title>\n<polygon fill=\"none\" stroke=\"blue\" points=\"720.66,-205 605.66,-205 605.66,-167 720.66,-167 720.66,-205\"/>\n<text text-anchor=\"middle\" x=\"663.16\" y=\"-189.8\" font-family=\"Times,serif\" font-size=\"14.00\">TupleGetItem</text>\n<text text-anchor=\"middle\" x=\"663.16\" y=\"-174.8\" font-family=\"Times,serif\" font-size=\"14.00\">idx: 0</text>\n</g>\n<!-- 7&#45;&gt;8 -->\n<g id=\"edge7\" class=\"edge\">\n<title>7&#45;&gt;8</title>\n<path fill=\"none\" stroke=\"black\" d=\"M713.17,-315C701.64,-304.99 689.87,-292.65 682.16,-279 671.11,-259.44 666.45,-234.3 664.5,-215.24\"/>\n<polygon fill=\"black\" stroke=\"black\" points=\"667.97,-214.76 663.66,-205.08 661,-215.34 667.97,-214.76\"/>\n</g>\n<!-- 10 -->\n<g id=\"node9\" class=\"node\">\n<title>10</title>\n<polygon fill=\"none\" stroke=\"blue\" points=\"806.66,-279 691.66,-279 691.66,-241 806.66,-241 806.66,-279\"/>\n<text text-anchor=\"middle\" x=\"749.16\" y=\"-263.8\" font-family=\"Times,serif\" font-size=\"14.00\">TupleGetItem</text>\n<text text-anchor=\"middle\" x=\"749.16\" y=\"-248.8\" font-family=\"Times,serif\" font-size=\"14.00\">idx: 1</text>\n</g>\n<!-- 7&#45;&gt;10 -->\n<g id=\"edge8\" class=\"edge\">\n<title>7&#45;&gt;10</title>\n<path fill=\"none\" stroke=\"black\" d=\"M749.16,-314.72C749.16,-306.53 749.16,-297.46 749.16,-289.14\"/>\n<polygon fill=\"black\" stroke=\"black\" points=\"752.66,-289.12 749.16,-279.12 745.66,-289.12 752.66,-289.12\"/>\n</g>\n<!-- 12 -->\n<g id=\"node11\" class=\"node\">\n<title>12</title>\n<polygon fill=\"none\" stroke=\"blue\" points=\"939.66,-279 824.66,-279 824.66,-241 939.66,-241 939.66,-279\"/>\n<text text-anchor=\"middle\" x=\"882.16\" y=\"-263.8\" font-family=\"Times,serif\" font-size=\"14.00\">TupleGetItem</text>\n<text text-anchor=\"middle\" x=\"882.16\" y=\"-248.8\" font-family=\"Times,serif\" font-size=\"14.00\">idx: 2</text>\n</g>\n<!-- 7&#45;&gt;12 -->\n<g id=\"edge10\" class=\"edge\">\n<title>7&#45;&gt;12</title>\n<path fill=\"none\" stroke=\"black\" d=\"M791.97,-315.16C808.5,-305.23 827.28,-293.96 843.4,-284.27\"/>\n<polygon fill=\"black\" stroke=\"black\" points=\"845.29,-287.22 852.06,-279.08 841.68,-281.22 845.29,-287.22\"/>\n</g>\n<!-- 14 -->\n<g id=\"node13\" class=\"node\">\n<title>14</title>\n<polygon fill=\"none\" stroke=\"blue\" points=\"804.16,-131 748.16,-131 748.16,-95 804.16,-95 804.16,-131\"/>\n<text text-anchor=\"middle\" x=\"776.16\" y=\"-109.3\" font-family=\"Times,serif\" font-size=\"14.00\">Tuple</text>\n</g>\n<!-- 8&#45;&gt;14 -->\n<g id=\"edge12\" class=\"edge\">\n<title>8&#45;&gt;14</title>\n<path fill=\"none\" stroke=\"black\" d=\"M691.96,-166.9C706.61,-157.7 724.56,-146.42 740.12,-136.64\"/>\n<polygon fill=\"black\" stroke=\"black\" points=\"742.35,-139.37 748.96,-131.09 738.63,-133.45 742.35,-139.37\"/>\n</g>\n<!-- 11 -->\n<g id=\"node10\" class=\"node\">\n<title>11</title>\n<polygon fill=\"none\" stroke=\"blue\" points=\"813.16,-204 739.16,-204 739.16,-168 813.16,-168 813.16,-204\"/>\n<text text-anchor=\"middle\" x=\"776.16\" y=\"-182.3\" font-family=\"Times,serif\" font-size=\"14.00\">Call abs</text>\n</g>\n<!-- 10&#45;&gt;11 -->\n<g id=\"edge9\" class=\"edge\">\n<title>10&#45;&gt;11</title>\n<path fill=\"none\" stroke=\"black\" d=\"M755.97,-240.83C759.01,-232.72 762.66,-222.99 766.01,-214.05\"/>\n<polygon fill=\"black\" stroke=\"black\" points=\"769.39,-215.01 769.63,-204.42 762.84,-212.55 769.39,-215.01\"/>\n</g>\n<!-- 11&#45;&gt;14 -->\n<g id=\"edge13\" class=\"edge\">\n<title>11&#45;&gt;14</title>\n<path fill=\"none\" stroke=\"black\" d=\"M776.16,-167.81C776.16,-159.79 776.16,-150.05 776.16,-141.07\"/>\n<polygon fill=\"black\" stroke=\"black\" points=\"779.66,-141.03 776.16,-131.03 772.66,-141.03 779.66,-141.03\"/>\n</g>\n<!-- 13 -->\n<g id=\"node12\" class=\"node\">\n<title>13</title>\n<polygon fill=\"none\" stroke=\"blue\" points=\"912.16,-204 838.16,-204 838.16,-168 912.16,-168 912.16,-204\"/>\n<text text-anchor=\"middle\" x=\"875.16\" y=\"-182.3\" font-family=\"Times,serif\" font-size=\"14.00\">Call abs</text>\n</g>\n<!-- 12&#45;&gt;13 -->\n<g id=\"edge11\" class=\"edge\">\n<title>12&#45;&gt;13</title>\n<path fill=\"none\" stroke=\"black\" d=\"M880.39,-240.83C879.62,-232.89 878.7,-223.41 877.84,-214.63\"/>\n<polygon fill=\"black\" stroke=\"black\" points=\"881.3,-214.03 876.85,-204.42 874.34,-214.71 881.3,-214.03\"/>\n</g>\n<!-- 13&#45;&gt;14 -->\n<g id=\"edge14\" class=\"edge\">\n<title>13&#45;&gt;14</title>\n<path fill=\"none\" stroke=\"black\" d=\"M851.44,-167.99C838.56,-158.75 822.44,-147.19 808.43,-137.14\"/>\n<polygon fill=\"black\" stroke=\"black\" points=\"810.19,-134.1 800.02,-131.11 806.11,-139.79 810.19,-134.1\"/>\n</g>\n<!-- 15 -->\n<g id=\"node14\" class=\"node\">\n<title>15</title>\n<polygon fill=\"none\" stroke=\"blue\" points=\"804.16,-59 748.16,-59 748.16,-23 804.16,-23 804.16,-59\"/>\n<text text-anchor=\"middle\" x=\"776.16\" y=\"-37.3\" font-family=\"Times,serif\" font-size=\"14.00\">Func </text>\n</g>\n<!-- 14&#45;&gt;15 -->\n<g id=\"edge15\" class=\"edge\">\n<title>14&#45;&gt;15</title>\n<path fill=\"none\" stroke=\"black\" d=\"M776.16,-94.7C776.16,-86.98 776.16,-77.71 776.16,-69.11\"/>\n<polygon fill=\"black\" stroke=\"black\" points=\"779.66,-69.1 776.16,-59.1 772.66,-69.1 779.66,-69.1\"/>\n</g>\n</g>\n</svg>\n",
      "text/plain": [
       "<graphviz.dot.Digraph at 0x7f52f6dca500>"
      ]
     },
     "execution_count": 6,
     "metadata": {},
     "output_type": "execute_result"
    }
   ],
   "source": [
    "graphviz_relay(partitioned, \"main\")"
   ]
  },
  {
   "cell_type": "code",
   "execution_count": 11,
   "metadata": {},
   "outputs": [
    {
     "data": {
      "image/svg+xml": "<?xml version=\"1.0\" encoding=\"UTF-8\" standalone=\"no\"?>\n<!DOCTYPE svg PUBLIC \"-//W3C//DTD SVG 1.1//EN\"\n \"http://www.w3.org/Graphics/SVG/1.1/DTD/svg11.dtd\">\n<!-- Generated by graphviz version 2.43.0 (0)\n -->\n<!-- Title: cluster_tvmgen_default_test_target_main_0 Pages: 1 -->\n<svg width=\"1691pt\" height=\"794pt\"\n viewBox=\"0.00 0.00 1691.06 794.17\" xmlns=\"http://www.w3.org/2000/svg\" xmlns:xlink=\"http://www.w3.org/1999/xlink\">\n<g id=\"graph0\" class=\"graph\" transform=\"scale(1 1) rotate(0) translate(4 790.17)\">\n<title>cluster_tvmgen_default_test_target_main_0</title>\n<polygon fill=\"white\" stroke=\"transparent\" points=\"-4,4 -4,-790.17 1687.06,-790.17 1687.06,4 -4,4\"/>\n<text text-anchor=\"middle\" x=\"841.53\" y=\"-7.8\" font-family=\"Times,serif\" font-size=\"14.00\">tvmgen_default_test_target_main_0</text>\n<!-- 16 -->\n<g id=\"node1\" class=\"node\">\n<title>16</title>\n<ellipse fill=\"none\" stroke=\"blue\" cx=\"152.03\" cy=\"-738.08\" rx=\"152.06\" ry=\"48.17\"/>\n<text text-anchor=\"middle\" x=\"152.03\" y=\"-756.88\" font-family=\"Times,serif\" font-size=\"14.00\">Var(Input)</text>\n<text text-anchor=\"middle\" x=\"152.03\" y=\"-741.88\" font-family=\"Times,serif\" font-size=\"14.00\">name_hint: test_target_0_i0</text>\n<text text-anchor=\"middle\" x=\"152.03\" y=\"-726.88\" font-family=\"Times,serif\" font-size=\"14.00\">shape: (1, 3, 224, 224)</text>\n<text text-anchor=\"middle\" x=\"152.03\" y=\"-711.88\" font-family=\"Times,serif\" font-size=\"14.00\">dtype: float32</text>\n</g>\n<!-- 25 -->\n<g id=\"node7\" class=\"node\">\n<title>25</title>\n<polygon fill=\"none\" stroke=\"blue\" points=\"395.03,-654 231.03,-654 231.03,-481 395.03,-481 395.03,-654\"/>\n<text text-anchor=\"middle\" x=\"313.03\" y=\"-638.8\" font-family=\"Times,serif\" font-size=\"14.00\">Call nn.conv2d</text>\n<text text-anchor=\"middle\" x=\"313.03\" y=\"-623.8\" font-family=\"Times,serif\" font-size=\"14.00\">strides: [1, 1]</text>\n<text text-anchor=\"middle\" x=\"313.03\" y=\"-608.8\" font-family=\"Times,serif\" font-size=\"14.00\">padding: [1, 1, 1, 1]</text>\n<text text-anchor=\"middle\" x=\"313.03\" y=\"-593.8\" font-family=\"Times,serif\" font-size=\"14.00\">dilation: [1, 1]</text>\n<text text-anchor=\"middle\" x=\"313.03\" y=\"-578.8\" font-family=\"Times,serif\" font-size=\"14.00\">groups: 1</text>\n<text text-anchor=\"middle\" x=\"313.03\" y=\"-563.8\" font-family=\"Times,serif\" font-size=\"14.00\">channels: 16</text>\n<text text-anchor=\"middle\" x=\"313.03\" y=\"-548.8\" font-family=\"Times,serif\" font-size=\"14.00\">kernel_size: [3, 3]</text>\n<text text-anchor=\"middle\" x=\"313.03\" y=\"-533.8\" font-family=\"Times,serif\" font-size=\"14.00\">data_layout: NCHW</text>\n<text text-anchor=\"middle\" x=\"313.03\" y=\"-518.8\" font-family=\"Times,serif\" font-size=\"14.00\">kernel_layout: OIHW</text>\n<text text-anchor=\"middle\" x=\"313.03\" y=\"-503.8\" font-family=\"Times,serif\" font-size=\"14.00\">out_layout: </text>\n<text text-anchor=\"middle\" x=\"313.03\" y=\"-488.8\" font-family=\"Times,serif\" font-size=\"14.00\">out_dtype: </text>\n</g>\n<!-- 16&#45;&gt;25 -->\n<g id=\"edge1\" class=\"edge\">\n<title>16&#45;&gt;25</title>\n<path fill=\"none\" stroke=\"black\" d=\"M195.17,-691.91C204.25,-682.4 214.15,-672.03 224.22,-661.49\"/>\n<polygon fill=\"black\" stroke=\"black\" points=\"226.84,-663.81 231.22,-654.17 221.78,-658.98 226.84,-663.81\"/>\n</g>\n<!-- 17 -->\n<g id=\"node2\" class=\"node\">\n<title>17</title>\n<ellipse fill=\"none\" stroke=\"blue\" cx=\"474.03\" cy=\"-738.08\" rx=\"152.06\" ry=\"48.17\"/>\n<text text-anchor=\"middle\" x=\"474.03\" y=\"-756.88\" font-family=\"Times,serif\" font-size=\"14.00\">Var(Input)</text>\n<text text-anchor=\"middle\" x=\"474.03\" y=\"-741.88\" font-family=\"Times,serif\" font-size=\"14.00\">name_hint: test_target_0_i1</text>\n<text text-anchor=\"middle\" x=\"474.03\" y=\"-726.88\" font-family=\"Times,serif\" font-size=\"14.00\">shape: (16, 3, 3, 3)</text>\n<text text-anchor=\"middle\" x=\"474.03\" y=\"-711.88\" font-family=\"Times,serif\" font-size=\"14.00\">dtype: float32</text>\n</g>\n<!-- 17&#45;&gt;25 -->\n<g id=\"edge2\" class=\"edge\">\n<title>17&#45;&gt;25</title>\n<path fill=\"none\" stroke=\"black\" d=\"M430.88,-691.91C421.8,-682.4 411.9,-672.03 401.83,-661.49\"/>\n<polygon fill=\"black\" stroke=\"black\" points=\"404.28,-658.98 394.84,-654.17 399.22,-663.81 404.28,-658.98\"/>\n</g>\n<!-- 18 -->\n<g id=\"node3\" class=\"node\">\n<title>18</title>\n<ellipse fill=\"none\" stroke=\"blue\" cx=\"565.03\" cy=\"-567.5\" rx=\"152.06\" ry=\"48.17\"/>\n<text text-anchor=\"middle\" x=\"565.03\" y=\"-586.3\" font-family=\"Times,serif\" font-size=\"14.00\">Var(Input)</text>\n<text text-anchor=\"middle\" x=\"565.03\" y=\"-571.3\" font-family=\"Times,serif\" font-size=\"14.00\">name_hint: test_target_0_i2</text>\n<text text-anchor=\"middle\" x=\"565.03\" y=\"-556.3\" font-family=\"Times,serif\" font-size=\"14.00\">shape: (16,)</text>\n<text text-anchor=\"middle\" x=\"565.03\" y=\"-541.3\" font-family=\"Times,serif\" font-size=\"14.00\">dtype: float32</text>\n</g>\n<!-- 26 -->\n<g id=\"node8\" class=\"node\">\n<title>26</title>\n<polygon fill=\"none\" stroke=\"blue\" points=\"964.53,-445 809.53,-445 809.53,-362 964.53,-362 964.53,-445\"/>\n<text text-anchor=\"middle\" x=\"887.03\" y=\"-429.8\" font-family=\"Times,serif\" font-size=\"14.00\">Call nn.batch_norm</text>\n<text text-anchor=\"middle\" x=\"887.03\" y=\"-414.8\" font-family=\"Times,serif\" font-size=\"14.00\">axis: 1</text>\n<text text-anchor=\"middle\" x=\"887.03\" y=\"-399.8\" font-family=\"Times,serif\" font-size=\"14.00\">epsilon: 1e&#45;05</text>\n<text text-anchor=\"middle\" x=\"887.03\" y=\"-384.8\" font-family=\"Times,serif\" font-size=\"14.00\">center: 1</text>\n<text text-anchor=\"middle\" x=\"887.03\" y=\"-369.8\" font-family=\"Times,serif\" font-size=\"14.00\">scale: 1</text>\n</g>\n<!-- 18&#45;&gt;26 -->\n<g id=\"edge4\" class=\"edge\">\n<title>18&#45;&gt;26</title>\n<path fill=\"none\" stroke=\"black\" d=\"M640.43,-525.57C667.31,-511.21 697.89,-495.15 726.03,-481 749.93,-468.98 776.05,-456.36 800.17,-444.9\"/>\n<polygon fill=\"black\" stroke=\"black\" points=\"801.76,-448.02 809.3,-440.58 798.77,-441.69 801.76,-448.02\"/>\n</g>\n<!-- 19 -->\n<g id=\"node4\" class=\"node\">\n<title>19</title>\n<ellipse fill=\"none\" stroke=\"blue\" cx=\"887.03\" cy=\"-567.5\" rx=\"152.06\" ry=\"48.17\"/>\n<text text-anchor=\"middle\" x=\"887.03\" y=\"-586.3\" font-family=\"Times,serif\" font-size=\"14.00\">Var(Input)</text>\n<text text-anchor=\"middle\" x=\"887.03\" y=\"-571.3\" font-family=\"Times,serif\" font-size=\"14.00\">name_hint: test_target_0_i3</text>\n<text text-anchor=\"middle\" x=\"887.03\" y=\"-556.3\" font-family=\"Times,serif\" font-size=\"14.00\">shape: (16,)</text>\n<text text-anchor=\"middle\" x=\"887.03\" y=\"-541.3\" font-family=\"Times,serif\" font-size=\"14.00\">dtype: float32</text>\n</g>\n<!-- 19&#45;&gt;26 -->\n<g id=\"edge5\" class=\"edge\">\n<title>19&#45;&gt;26</title>\n<path fill=\"none\" stroke=\"black\" d=\"M887.03,-519.21C887.03,-499.15 887.03,-475.75 887.03,-455.32\"/>\n<polygon fill=\"black\" stroke=\"black\" points=\"890.53,-455.26 887.03,-445.26 883.53,-455.26 890.53,-455.26\"/>\n</g>\n<!-- 20 -->\n<g id=\"node5\" class=\"node\">\n<title>20</title>\n<ellipse fill=\"none\" stroke=\"blue\" cx=\"1209.03\" cy=\"-567.5\" rx=\"152.06\" ry=\"48.17\"/>\n<text text-anchor=\"middle\" x=\"1209.03\" y=\"-586.3\" font-family=\"Times,serif\" font-size=\"14.00\">Var(Input)</text>\n<text text-anchor=\"middle\" x=\"1209.03\" y=\"-571.3\" font-family=\"Times,serif\" font-size=\"14.00\">name_hint: test_target_0_i4</text>\n<text text-anchor=\"middle\" x=\"1209.03\" y=\"-556.3\" font-family=\"Times,serif\" font-size=\"14.00\">shape: (16,)</text>\n<text text-anchor=\"middle\" x=\"1209.03\" y=\"-541.3\" font-family=\"Times,serif\" font-size=\"14.00\">dtype: float32</text>\n</g>\n<!-- 20&#45;&gt;26 -->\n<g id=\"edge6\" class=\"edge\">\n<title>20&#45;&gt;26</title>\n<path fill=\"none\" stroke=\"black\" d=\"M1133.63,-525.57C1106.75,-511.21 1076.16,-495.15 1048.03,-481 1024.12,-468.98 998,-456.36 973.89,-444.9\"/>\n<polygon fill=\"black\" stroke=\"black\" points=\"975.29,-441.69 964.76,-440.58 972.29,-448.02 975.29,-441.69\"/>\n</g>\n<!-- 21 -->\n<g id=\"node6\" class=\"node\">\n<title>21</title>\n<ellipse fill=\"none\" stroke=\"blue\" cx=\"1531.03\" cy=\"-567.5\" rx=\"152.06\" ry=\"48.17\"/>\n<text text-anchor=\"middle\" x=\"1531.03\" y=\"-586.3\" font-family=\"Times,serif\" font-size=\"14.00\">Var(Input)</text>\n<text text-anchor=\"middle\" x=\"1531.03\" y=\"-571.3\" font-family=\"Times,serif\" font-size=\"14.00\">name_hint: test_target_0_i5</text>\n<text text-anchor=\"middle\" x=\"1531.03\" y=\"-556.3\" font-family=\"Times,serif\" font-size=\"14.00\">shape: (16,)</text>\n<text text-anchor=\"middle\" x=\"1531.03\" y=\"-541.3\" font-family=\"Times,serif\" font-size=\"14.00\">dtype: float32</text>\n</g>\n<!-- 21&#45;&gt;26 -->\n<g id=\"edge7\" class=\"edge\">\n<title>21&#45;&gt;26</title>\n<path fill=\"none\" stroke=\"black\" d=\"M1463.53,-524.24C1435.54,-508.44 1402.14,-491.74 1370.03,-481 1236.46,-436.35 1073.2,-417.44 974.8,-409.67\"/>\n<polygon fill=\"black\" stroke=\"black\" points=\"974.84,-406.16 964.6,-408.88 974.3,-413.14 974.84,-406.16\"/>\n</g>\n<!-- 25&#45;&gt;26 -->\n<g id=\"edge3\" class=\"edge\">\n<title>25&#45;&gt;26</title>\n<path fill=\"none\" stroke=\"black\" d=\"M395.08,-485.82C398.03,-484.09 401.01,-482.48 404.03,-481 471.9,-447.74 679.03,-423.74 798.85,-412.21\"/>\n<polygon fill=\"black\" stroke=\"black\" points=\"799.48,-415.66 809.1,-411.23 798.82,-408.69 799.48,-415.66\"/>\n</g>\n<!-- 27 -->\n<g id=\"node9\" class=\"node\">\n<title>27</title>\n<polygon fill=\"none\" stroke=\"blue\" points=\"838.53,-326 723.53,-326 723.53,-288 838.53,-288 838.53,-326\"/>\n<text text-anchor=\"middle\" x=\"781.03\" y=\"-310.8\" font-family=\"Times,serif\" font-size=\"14.00\">TupleGetItem</text>\n<text text-anchor=\"middle\" x=\"781.03\" y=\"-295.8\" font-family=\"Times,serif\" font-size=\"14.00\">idx: 0</text>\n</g>\n<!-- 26&#45;&gt;27 -->\n<g id=\"edge8\" class=\"edge\">\n<title>26&#45;&gt;27</title>\n<path fill=\"none\" stroke=\"black\" d=\"M841.46,-361.88C830.39,-352.01 818.88,-341.75 808.91,-332.86\"/>\n<polygon fill=\"black\" stroke=\"black\" points=\"811.08,-330.1 801.29,-326.06 806.42,-335.33 811.08,-330.1\"/>\n</g>\n<!-- 29 -->\n<g id=\"node11\" class=\"node\">\n<title>29</title>\n<polygon fill=\"none\" stroke=\"blue\" points=\"944.53,-252 829.53,-252 829.53,-214 944.53,-214 944.53,-252\"/>\n<text text-anchor=\"middle\" x=\"887.03\" y=\"-236.8\" font-family=\"Times,serif\" font-size=\"14.00\">TupleGetItem</text>\n<text text-anchor=\"middle\" x=\"887.03\" y=\"-221.8\" font-family=\"Times,serif\" font-size=\"14.00\">idx: 1</text>\n</g>\n<!-- 26&#45;&gt;29 -->\n<g id=\"edge10\" class=\"edge\">\n<title>26&#45;&gt;29</title>\n<path fill=\"none\" stroke=\"black\" d=\"M887.03,-361.71C887.03,-330.93 887.03,-289.49 887.03,-262.27\"/>\n<polygon fill=\"black\" stroke=\"black\" points=\"890.53,-262.25 887.03,-252.25 883.53,-262.25 890.53,-262.25\"/>\n</g>\n<!-- 30 -->\n<g id=\"node12\" class=\"node\">\n<title>30</title>\n<polygon fill=\"none\" stroke=\"blue\" points=\"1030.53,-326 915.53,-326 915.53,-288 1030.53,-288 1030.53,-326\"/>\n<text text-anchor=\"middle\" x=\"973.03\" y=\"-310.8\" font-family=\"Times,serif\" font-size=\"14.00\">TupleGetItem</text>\n<text text-anchor=\"middle\" x=\"973.03\" y=\"-295.8\" font-family=\"Times,serif\" font-size=\"14.00\">idx: 2</text>\n</g>\n<!-- 26&#45;&gt;30 -->\n<g id=\"edge11\" class=\"edge\">\n<title>26&#45;&gt;30</title>\n<path fill=\"none\" stroke=\"black\" d=\"M924,-361.88C932.64,-352.38 941.62,-342.51 949.49,-333.86\"/>\n<polygon fill=\"black\" stroke=\"black\" points=\"952.23,-336.06 956.37,-326.3 947.05,-331.34 952.23,-336.06\"/>\n</g>\n<!-- 28 -->\n<g id=\"node10\" class=\"node\">\n<title>28</title>\n<polygon fill=\"none\" stroke=\"blue\" points=\"811.03,-251 711.03,-251 711.03,-215 811.03,-215 811.03,-251\"/>\n<text text-anchor=\"middle\" x=\"761.03\" y=\"-229.3\" font-family=\"Times,serif\" font-size=\"14.00\">Call nn.relu</text>\n</g>\n<!-- 27&#45;&gt;28 -->\n<g id=\"edge9\" class=\"edge\">\n<title>27&#45;&gt;28</title>\n<path fill=\"none\" stroke=\"black\" d=\"M775.98,-287.83C773.75,-279.81 771.08,-270.2 768.62,-261.34\"/>\n<polygon fill=\"black\" stroke=\"black\" points=\"771.92,-260.12 765.87,-251.42 765.17,-261.99 771.92,-260.12\"/>\n</g>\n<!-- 31 -->\n<g id=\"node13\" class=\"node\">\n<title>31</title>\n<polygon fill=\"none\" stroke=\"blue\" points=\"915.03,-178 859.03,-178 859.03,-142 915.03,-142 915.03,-178\"/>\n<text text-anchor=\"middle\" x=\"887.03\" y=\"-156.3\" font-family=\"Times,serif\" font-size=\"14.00\">Tuple</text>\n</g>\n<!-- 28&#45;&gt;31 -->\n<g id=\"edge12\" class=\"edge\">\n<title>28&#45;&gt;31</title>\n<path fill=\"none\" stroke=\"black\" d=\"M791.21,-214.99C808.85,-205.05 831.26,-192.42 849.97,-181.88\"/>\n<polygon fill=\"black\" stroke=\"black\" points=\"851.83,-184.85 858.82,-176.89 848.39,-178.75 851.83,-184.85\"/>\n</g>\n<!-- 29&#45;&gt;31 -->\n<g id=\"edge13\" class=\"edge\">\n<title>29&#45;&gt;31</title>\n<path fill=\"none\" stroke=\"black\" d=\"M887.03,-213.72C887.03,-205.97 887.03,-196.79 887.03,-188.27\"/>\n<polygon fill=\"black\" stroke=\"black\" points=\"890.53,-188 887.03,-178 883.53,-188 890.53,-188\"/>\n</g>\n<!-- 30&#45;&gt;31 -->\n<g id=\"edge14\" class=\"edge\">\n<title>30&#45;&gt;31</title>\n<path fill=\"none\" stroke=\"black\" d=\"M972.87,-287.72C971.92,-268.12 968.07,-236.77 954.03,-214 946.39,-201.61 934.75,-190.92 923.31,-182.46\"/>\n<polygon fill=\"black\" stroke=\"black\" points=\"925.28,-179.57 915.07,-176.7 921.26,-185.3 925.28,-179.57\"/>\n</g>\n<!-- 32 -->\n<g id=\"node14\" class=\"node\">\n<title>32</title>\n<polygon fill=\"none\" stroke=\"blue\" points=\"1077.53,-106 696.53,-106 696.53,-23 1077.53,-23 1077.53,-106\"/>\n<text text-anchor=\"middle\" x=\"887.03\" y=\"-90.8\" font-family=\"Times,serif\" font-size=\"14.00\">Func </text>\n<text text-anchor=\"middle\" x=\"887.03\" y=\"-75.8\" font-family=\"Times,serif\" font-size=\"14.00\">Inline: 1</text>\n<text text-anchor=\"middle\" x=\"887.03\" y=\"-60.8\" font-family=\"Times,serif\" font-size=\"14.00\">Compiler: test_target</text>\n<text text-anchor=\"middle\" x=\"887.03\" y=\"-45.8\" font-family=\"Times,serif\" font-size=\"14.00\">global_symbol: tvmgen_default_test_target_main_0</text>\n<text text-anchor=\"middle\" x=\"887.03\" y=\"-30.8\" font-family=\"Times,serif\" font-size=\"14.00\">Primitive: 1</text>\n</g>\n<!-- 31&#45;&gt;32 -->\n<g id=\"edge15\" class=\"edge\">\n<title>31&#45;&gt;32</title>\n<path fill=\"none\" stroke=\"black\" d=\"M887.03,-141.85C887.03,-134.49 887.03,-125.48 887.03,-116.25\"/>\n<polygon fill=\"black\" stroke=\"black\" points=\"890.53,-116.23 887.03,-106.23 883.53,-116.23 890.53,-116.23\"/>\n</g>\n</g>\n</svg>\n",
      "text/plain": [
       "<graphviz.dot.Digraph at 0x7f51d0bd9c30>"
      ]
     },
     "execution_count": 11,
     "metadata": {},
     "output_type": "execute_result"
    }
   ],
   "source": [
    "graphviz_relay(partitioned, \"tvmgen_default_test_target_main_0\")"
   ]
  },
  {
   "cell_type": "code",
   "execution_count": null,
   "metadata": {},
   "outputs": [],
   "source": [
    "graphviz_relay(partitioned, \"main\")"
   ]
  },
  {
   "cell_type": "code",
   "execution_count": 17,
   "metadata": {},
   "outputs": [],
   "source": [
    "import numpy as np\n",
    "\n",
    "import tvm\n",
    "from tvm.relay.backend import te_compiler\n",
    "from tvm.relay.backend.runtime import Runtime\n",
    "import tvm.relay.testing\n",
    "import tvm.relay.op as reg\n",
    "from tvm import relay\n",
    "from tvm import runtime as tvm_runtime\n",
    "from tvm.relay import transform\n",
    "from tvm.relay.testing import byoc\n",
    "from tvm.contrib import utils\n",
    "from tvm.relay.expr_functor import ExprMutator\n",
    "from tvm.relay.op.annotation import compiler_begin, compiler_end\n",
    "from tvm.relay.op.contrib.register import get_pattern_table\n",
    "from tvm.relay.build_module import bind_params_by_name\n",
    "\n",
    "# Leverage the pass manager to write a simple allowed list based annotator\n",
    "@transform.function_pass(opt_level=0)\n",
    "class AllowedListAnnotator:\n",
    "    def __init__(self, op_list, compiler):\n",
    "        assert isinstance(op_list, (list, tuple, set))\n",
    "        self.op_list = op_list\n",
    "        self.compiler = compiler\n",
    "\n",
    "    def transform_function(self, func, mod, dev):\n",
    "\n",
    "        annotator = self\n",
    "\n",
    "        class Annotator(tvm.relay.ExprMutator):\n",
    "            def visit_call(self, call):\n",
    "                op_name = call.op.name\n",
    "                if op_name in annotator.op_list:\n",
    "                    new_args = []\n",
    "                    for arg in call.args:\n",
    "                        ann = compiler_begin(super().visit(arg), annotator.compiler)\n",
    "                        new_args.append(ann)\n",
    "                    new_call = relay.Call(call.op, new_args, call.attrs, call.type_args)\n",
    "                    return compiler_end(new_call, annotator.compiler)\n",
    "                else:\n",
    "                    return super().visit_call(call)\n",
    "\n",
    "        return Annotator().visit(func)"
   ]
  },
  {
   "cell_type": "code",
   "execution_count": 21,
   "metadata": {},
   "outputs": [],
   "source": [
    "def create_graph():\n",
    "    data = relay.var(\"data\", shape=(10, 10))\n",
    "\n",
    "    cb_1 = compiler_begin(data, \"test_target\")\n",
    "    O_1 = relay.abs(cb_1)\n",
    "    ce_2 = compiler_end(O_1, \"test_target\")\n",
    "    O_2 = relay.nn.relu(O_1)\n",
    "    ce_3 = compiler_end(O_2, \"test_target\")\n",
    "\n",
    "    X = relay.tanh(ce_2)\n",
    "\n",
    "    cb_3 = compiler_begin(ce_3, \"test_target\")\n",
    "    cb_4 = compiler_begin(X, \"test_target\")\n",
    "    O_3 = relay.add(cb_3, cb_4)\n",
    "    ce_4 = compiler_end(O_3, \"test_target\")\n",
    "\n",
    "    func = relay.Function([data], ce_4)\n",
    "    return func\n",
    "\n",
    "def expected():\n",
    "    mod = tvm.IRModule()\n",
    "\n",
    "    # function 1\n",
    "    f1_cb1 = relay.var(\"test_target_0_i0\", shape=(10, 10))\n",
    "    f1_O_1 = relay.abs(f1_cb1)\n",
    "    f1_O_2 = relay.nn.relu(f1_O_1)\n",
    "    f1_out = relay.Tuple((f1_O_2, f1_O_1))\n",
    "    func1 = relay.Function([f1_cb1], f1_out)\n",
    "    func1 = set_func_attr(func1, \"test_target\", \"tvmgen_default_test_target_main_0\")\n",
    "    gv1 = relay.GlobalVar(\"tvmgen_default_test_target_main_0\")\n",
    "    mod[gv1] = func1\n",
    "    mod = relay.transform.InferType()(mod)\n",
    "\n",
    "    # function 0\n",
    "    f2_cb3 = relay.var(\"test_target_1_i0\", shape=(10, 10))\n",
    "    f2_cb4 = relay.var(\"test_target_1_i1\", shape=(10, 10))\n",
    "    f2_O_3 = relay.add(f2_cb3, f2_cb4)\n",
    "    func0 = relay.Function([f2_cb3, f2_cb4], f2_O_3)\n",
    "    func0 = set_func_attr(func0, \"test_target\", \"tvmgen_default_test_target_main_1\")\n",
    "    gv0 = relay.GlobalVar(\"tvmgen_default_test_target_main_1\")\n",
    "    mod[gv0] = func0\n",
    "    mod = relay.transform.InferType()(mod)\n",
    "\n",
    "    # body\n",
    "    data = relay.var(\"data\", shape=(10, 10))\n",
    "    tuple_out = gv1(data)\n",
    "    ce_2 = relay.TupleGetItem(tuple_out, 1)\n",
    "    ce_3 = relay.TupleGetItem(tuple_out, 0)\n",
    "\n",
    "    X = relay.tanh(ce_2)\n",
    "    ce_4 = gv0(ce_3, X)\n",
    "    func = relay.Function([data], ce_4)\n",
    "    mod[\"main\"] = func\n",
    "    mod = relay.transform.InferType()(mod)\n",
    "    return mod\n",
    "\n",
    "mod = tvm.IRModule()\n",
    "mod[\"main\"] = create_graph()\n",
    "mod = transform.InferType()(mod)\n",
    "\n",
    "ref_mod = expected()\n",
    "\n",
    "partitioned = transform.PartitionGraph()(mod)\n",
    "assert tvm.ir.structural_equal(partitioned, ref_mod, map_free_vars=True)"
   ]
  },
  {
   "cell_type": "code",
   "execution_count": 23,
   "metadata": {},
   "outputs": [
    {
     "data": {
      "image/svg+xml": "<?xml version=\"1.0\" encoding=\"UTF-8\" standalone=\"no\"?>\n<!DOCTYPE svg PUBLIC \"-//W3C//DTD SVG 1.1//EN\"\n \"http://www.w3.org/Graphics/SVG/1.1/DTD/svg11.dtd\">\n<!-- Generated by graphviz version 2.43.0 (0)\n -->\n<!-- Title: cluster_main Pages: 1 -->\n<svg width=\"504pt\" height=\"713pt\"\n viewBox=\"0.00 0.00 504.00 713.17\" xmlns=\"http://www.w3.org/2000/svg\" xmlns:xlink=\"http://www.w3.org/1999/xlink\">\n<g id=\"graph0\" class=\"graph\" transform=\"scale(1 1) rotate(0) translate(4 709.17)\">\n<title>cluster_main</title>\n<polygon fill=\"white\" stroke=\"transparent\" points=\"-4,4 -4,-709.17 500,-709.17 500,4 -4,4\"/>\n<text text-anchor=\"middle\" x=\"248\" y=\"-7.8\" font-family=\"Times,serif\" font-size=\"14.00\">main</text>\n<!-- 0 -->\n<g id=\"node1\" class=\"node\">\n<title>0</title>\n<ellipse fill=\"none\" stroke=\"blue\" cx=\"266.5\" cy=\"-657.08\" rx=\"92.76\" ry=\"48.17\"/>\n<text text-anchor=\"middle\" x=\"266.5\" y=\"-675.88\" font-family=\"Times,serif\" font-size=\"14.00\">Var(Input)</text>\n<text text-anchor=\"middle\" x=\"266.5\" y=\"-660.88\" font-family=\"Times,serif\" font-size=\"14.00\">name_hint: data</text>\n<text text-anchor=\"middle\" x=\"266.5\" y=\"-645.88\" font-family=\"Times,serif\" font-size=\"14.00\">shape: (10, 10)</text>\n<text text-anchor=\"middle\" x=\"266.5\" y=\"-630.88\" font-family=\"Times,serif\" font-size=\"14.00\">dtype: float32</text>\n</g>\n<!-- 6 -->\n<g id=\"node2\" class=\"node\">\n<title>6</title>\n<polygon fill=\"none\" stroke=\"blue\" points=\"386,-573 147,-573 147,-535 386,-535 386,-573\"/>\n<text text-anchor=\"middle\" x=\"266.5\" y=\"-557.8\" font-family=\"Times,serif\" font-size=\"14.00\">Call annotation.compiler_begin</text>\n<text text-anchor=\"middle\" x=\"266.5\" y=\"-542.8\" font-family=\"Times,serif\" font-size=\"14.00\">compiler: test_target</text>\n</g>\n<!-- 0&#45;&gt;6 -->\n<g id=\"edge1\" class=\"edge\">\n<title>0&#45;&gt;6</title>\n<path fill=\"none\" stroke=\"black\" d=\"M266.5,-608.8C266.5,-600.18 266.5,-591.43 266.5,-583.57\"/>\n<polygon fill=\"black\" stroke=\"black\" points=\"270,-583.48 266.5,-573.48 263,-583.48 270,-583.48\"/>\n</g>\n<!-- 7 -->\n<g id=\"node3\" class=\"node\">\n<title>7</title>\n<polygon fill=\"none\" stroke=\"blue\" points=\"303.5,-499 229.5,-499 229.5,-463 303.5,-463 303.5,-499\"/>\n<text text-anchor=\"middle\" x=\"266.5\" y=\"-477.3\" font-family=\"Times,serif\" font-size=\"14.00\">Call abs</text>\n</g>\n<!-- 6&#45;&gt;7 -->\n<g id=\"edge2\" class=\"edge\">\n<title>6&#45;&gt;7</title>\n<path fill=\"none\" stroke=\"black\" d=\"M266.5,-534.72C266.5,-526.97 266.5,-517.79 266.5,-509.27\"/>\n<polygon fill=\"black\" stroke=\"black\" points=\"270,-509 266.5,-499 263,-509 270,-509\"/>\n</g>\n<!-- 8 -->\n<g id=\"node4\" class=\"node\">\n<title>8</title>\n<polygon fill=\"none\" stroke=\"blue\" points=\"226.5,-426 126.5,-426 126.5,-390 226.5,-390 226.5,-426\"/>\n<text text-anchor=\"middle\" x=\"176.5\" y=\"-404.3\" font-family=\"Times,serif\" font-size=\"14.00\">Call nn.relu</text>\n</g>\n<!-- 7&#45;&gt;8 -->\n<g id=\"edge3\" class=\"edge\">\n<title>7&#45;&gt;8</title>\n<path fill=\"none\" stroke=\"black\" d=\"M244.71,-462.81C233.11,-453.66 218.66,-442.26 206.06,-432.32\"/>\n<polygon fill=\"black\" stroke=\"black\" points=\"208.1,-429.47 198.09,-426.03 203.77,-434.97 208.1,-429.47\"/>\n</g>\n<!-- 12 -->\n<g id=\"node7\" class=\"node\">\n<title>12</title>\n<polygon fill=\"none\" stroke=\"blue\" points=\"479,-427 254,-427 254,-389 479,-389 479,-427\"/>\n<text text-anchor=\"middle\" x=\"366.5\" y=\"-411.8\" font-family=\"Times,serif\" font-size=\"14.00\">Call annotation.compiler_end</text>\n<text text-anchor=\"middle\" x=\"366.5\" y=\"-396.8\" font-family=\"Times,serif\" font-size=\"14.00\">compiler: test_target</text>\n</g>\n<!-- 7&#45;&gt;12 -->\n<g id=\"edge6\" class=\"edge\">\n<title>7&#45;&gt;12</title>\n<path fill=\"none\" stroke=\"black\" d=\"M290.45,-462.99C303.08,-454.02 318.8,-442.87 332.65,-433.03\"/>\n<polygon fill=\"black\" stroke=\"black\" points=\"334.87,-435.75 340.99,-427.11 330.81,-430.04 334.87,-435.75\"/>\n</g>\n<!-- 9 -->\n<g id=\"node5\" class=\"node\">\n<title>9</title>\n<polygon fill=\"none\" stroke=\"blue\" points=\"270,-353 45,-353 45,-315 270,-315 270,-353\"/>\n<text text-anchor=\"middle\" x=\"157.5\" y=\"-337.8\" font-family=\"Times,serif\" font-size=\"14.00\">Call annotation.compiler_end</text>\n<text text-anchor=\"middle\" x=\"157.5\" y=\"-322.8\" font-family=\"Times,serif\" font-size=\"14.00\">compiler: test_target</text>\n</g>\n<!-- 8&#45;&gt;9 -->\n<g id=\"edge4\" class=\"edge\">\n<title>8&#45;&gt;9</title>\n<path fill=\"none\" stroke=\"black\" d=\"M172,-389.94C169.88,-381.9 167.29,-372.1 164.89,-363.02\"/>\n<polygon fill=\"black\" stroke=\"black\" points=\"168.24,-361.98 162.3,-353.2 161.47,-363.76 168.24,-361.98\"/>\n</g>\n<!-- 10 -->\n<g id=\"node6\" class=\"node\">\n<title>10</title>\n<polygon fill=\"none\" stroke=\"blue\" points=\"239,-279 0,-279 0,-241 239,-241 239,-279\"/>\n<text text-anchor=\"middle\" x=\"119.5\" y=\"-263.8\" font-family=\"Times,serif\" font-size=\"14.00\">Call annotation.compiler_begin</text>\n<text text-anchor=\"middle\" x=\"119.5\" y=\"-248.8\" font-family=\"Times,serif\" font-size=\"14.00\">compiler: test_target</text>\n</g>\n<!-- 9&#45;&gt;10 -->\n<g id=\"edge5\" class=\"edge\">\n<title>9&#45;&gt;10</title>\n<path fill=\"none\" stroke=\"black\" d=\"M147.91,-314.83C143.67,-306.79 138.59,-297.17 133.9,-288.29\"/>\n<polygon fill=\"black\" stroke=\"black\" points=\"136.98,-286.62 129.22,-279.41 130.79,-289.89 136.98,-286.62\"/>\n</g>\n<!-- 15 -->\n<g id=\"node10\" class=\"node\">\n<title>15</title>\n<polygon fill=\"none\" stroke=\"blue\" points=\"285,-205 210,-205 210,-169 285,-169 285,-205\"/>\n<text text-anchor=\"middle\" x=\"247.5\" y=\"-183.3\" font-family=\"Times,serif\" font-size=\"14.00\">Call add</text>\n</g>\n<!-- 10&#45;&gt;15 -->\n<g id=\"edge9\" class=\"edge\">\n<title>10&#45;&gt;15</title>\n<path fill=\"none\" stroke=\"black\" d=\"M152.13,-240.9C169.03,-231.52 189.82,-220 207.66,-210.1\"/>\n<polygon fill=\"black\" stroke=\"black\" points=\"209.64,-213 216.69,-205.09 206.25,-206.88 209.64,-213\"/>\n</g>\n<!-- 13 -->\n<g id=\"node8\" class=\"node\">\n<title>13</title>\n<polygon fill=\"none\" stroke=\"blue\" points=\"412,-352 331,-352 331,-316 412,-316 412,-352\"/>\n<text text-anchor=\"middle\" x=\"371.5\" y=\"-330.3\" font-family=\"Times,serif\" font-size=\"14.00\">Call tanh</text>\n</g>\n<!-- 12&#45;&gt;13 -->\n<g id=\"edge7\" class=\"edge\">\n<title>12&#45;&gt;13</title>\n<path fill=\"none\" stroke=\"black\" d=\"M367.76,-388.83C368.31,-380.89 368.97,-371.41 369.58,-362.63\"/>\n<polygon fill=\"black\" stroke=\"black\" points=\"373.09,-362.64 370.29,-352.42 366.11,-362.15 373.09,-362.64\"/>\n</g>\n<!-- 14 -->\n<g id=\"node9\" class=\"node\">\n<title>14</title>\n<polygon fill=\"none\" stroke=\"blue\" points=\"496,-279 257,-279 257,-241 496,-241 496,-279\"/>\n<text text-anchor=\"middle\" x=\"376.5\" y=\"-263.8\" font-family=\"Times,serif\" font-size=\"14.00\">Call annotation.compiler_begin</text>\n<text text-anchor=\"middle\" x=\"376.5\" y=\"-248.8\" font-family=\"Times,serif\" font-size=\"14.00\">compiler: test_target</text>\n</g>\n<!-- 13&#45;&gt;14 -->\n<g id=\"edge8\" class=\"edge\">\n<title>13&#45;&gt;14</title>\n<path fill=\"none\" stroke=\"black\" d=\"M372.68,-315.94C373.24,-307.99 373.91,-298.31 374.53,-289.31\"/>\n<polygon fill=\"black\" stroke=\"black\" points=\"378.03,-289.42 375.24,-279.2 371.05,-288.93 378.03,-289.42\"/>\n</g>\n<!-- 14&#45;&gt;15 -->\n<g id=\"edge10\" class=\"edge\">\n<title>14&#45;&gt;15</title>\n<path fill=\"none\" stroke=\"black\" d=\"M343.61,-240.9C326.58,-231.52 305.63,-220 287.65,-210.1\"/>\n<polygon fill=\"black\" stroke=\"black\" points=\"289,-206.85 278.55,-205.09 285.62,-212.98 289,-206.85\"/>\n</g>\n<!-- 16 -->\n<g id=\"node11\" class=\"node\">\n<title>16</title>\n<polygon fill=\"none\" stroke=\"blue\" points=\"360,-133 135,-133 135,-95 360,-95 360,-133\"/>\n<text text-anchor=\"middle\" x=\"247.5\" y=\"-117.8\" font-family=\"Times,serif\" font-size=\"14.00\">Call annotation.compiler_end</text>\n<text text-anchor=\"middle\" x=\"247.5\" y=\"-102.8\" font-family=\"Times,serif\" font-size=\"14.00\">compiler: test_target</text>\n</g>\n<!-- 15&#45;&gt;16 -->\n<g id=\"edge11\" class=\"edge\">\n<title>15&#45;&gt;16</title>\n<path fill=\"none\" stroke=\"black\" d=\"M247.5,-168.81C247.5,-161.11 247.5,-151.82 247.5,-143.15\"/>\n<polygon fill=\"black\" stroke=\"black\" points=\"251,-143.02 247.5,-133.02 244,-143.02 251,-143.02\"/>\n</g>\n<!-- 17 -->\n<g id=\"node12\" class=\"node\">\n<title>17</title>\n<polygon fill=\"none\" stroke=\"blue\" points=\"275.5,-59 219.5,-59 219.5,-23 275.5,-23 275.5,-59\"/>\n<text text-anchor=\"middle\" x=\"247.5\" y=\"-37.3\" font-family=\"Times,serif\" font-size=\"14.00\">Func </text>\n</g>\n<!-- 16&#45;&gt;17 -->\n<g id=\"edge12\" class=\"edge\">\n<title>16&#45;&gt;17</title>\n<path fill=\"none\" stroke=\"black\" d=\"M247.5,-94.72C247.5,-86.97 247.5,-77.79 247.5,-69.27\"/>\n<polygon fill=\"black\" stroke=\"black\" points=\"251,-69 247.5,-59 244,-69 251,-69\"/>\n</g>\n</g>\n</svg>\n",
      "text/plain": [
       "<graphviz.dot.Digraph at 0x7f51cffb0760>"
      ]
     },
     "execution_count": 23,
     "metadata": {},
     "output_type": "execute_result"
    }
   ],
   "source": [
    "graphviz_relay(mod, \"main\")"
   ]
  },
  {
   "cell_type": "code",
   "execution_count": 24,
   "metadata": {},
   "outputs": [
    {
     "data": {
      "image/svg+xml": "<?xml version=\"1.0\" encoding=\"UTF-8\" standalone=\"no\"?>\n<!DOCTYPE svg PUBLIC \"-//W3C//DTD SVG 1.1//EN\"\n \"http://www.w3.org/Graphics/SVG/1.1/DTD/svg11.dtd\">\n<!-- Generated by graphviz version 2.43.0 (0)\n -->\n<!-- Title: cluster_main Pages: 1 -->\n<svg width=\"612pt\" height=\"527pt\"\n viewBox=\"0.00 0.00 611.87 526.65\" xmlns=\"http://www.w3.org/2000/svg\" xmlns:xlink=\"http://www.w3.org/1999/xlink\">\n<g id=\"graph0\" class=\"graph\" transform=\"scale(1 1) rotate(0) translate(4 522.65)\">\n<title>cluster_main</title>\n<polygon fill=\"white\" stroke=\"transparent\" points=\"-4,4 -4,-522.65 607.87,-522.65 607.87,4 -4,4\"/>\n<text text-anchor=\"middle\" x=\"301.93\" y=\"-7.8\" font-family=\"Times,serif\" font-size=\"14.00\">main</text>\n<!-- 0 -->\n<g id=\"node1\" class=\"node\">\n<title>0</title>\n<ellipse fill=\"none\" stroke=\"blue\" cx=\"301.93\" cy=\"-470.56\" rx=\"92.76\" ry=\"48.17\"/>\n<text text-anchor=\"middle\" x=\"301.93\" y=\"-489.36\" font-family=\"Times,serif\" font-size=\"14.00\">Var(Input)</text>\n<text text-anchor=\"middle\" x=\"301.93\" y=\"-474.36\" font-family=\"Times,serif\" font-size=\"14.00\">name_hint: data</text>\n<text text-anchor=\"middle\" x=\"301.93\" y=\"-459.36\" font-family=\"Times,serif\" font-size=\"14.00\">shape: (10, 10)</text>\n<text text-anchor=\"middle\" x=\"301.93\" y=\"-444.36\" font-family=\"Times,serif\" font-size=\"14.00\">dtype: float32</text>\n</g>\n<!-- 3 -->\n<g id=\"node2\" class=\"node\">\n<title>3</title>\n<ellipse fill=\"none\" stroke=\"blue\" cx=\"301.93\" cy=\"-359.61\" rx=\"301.87\" ry=\"26.74\"/>\n<text text-anchor=\"middle\" x=\"301.93\" y=\"-363.41\" font-family=\"Times,serif\" font-size=\"14.00\">Call GlobalVar</text>\n<text text-anchor=\"middle\" x=\"301.93\" y=\"-348.41\" font-family=\"Times,serif\" font-size=\"14.00\">GlobalVar.name_hint: tvmgen_default_test_target_main_0</text>\n</g>\n<!-- 0&#45;&gt;3 -->\n<g id=\"edge1\" class=\"edge\">\n<title>0&#45;&gt;3</title>\n<path fill=\"none\" stroke=\"black\" d=\"M301.93,-422.41C301.93,-413.75 301.93,-404.85 301.93,-396.59\"/>\n<polygon fill=\"black\" stroke=\"black\" points=\"305.43,-396.54 301.93,-386.54 298.43,-396.54 305.43,-396.54\"/>\n</g>\n<!-- 4 -->\n<g id=\"node3\" class=\"node\">\n<title>4</title>\n<polygon fill=\"none\" stroke=\"blue\" points=\"301.43,-222.74 186.43,-222.74 186.43,-184.74 301.43,-184.74 301.43,-222.74\"/>\n<text text-anchor=\"middle\" x=\"243.93\" y=\"-207.54\" font-family=\"Times,serif\" font-size=\"14.00\">TupleGetItem</text>\n<text text-anchor=\"middle\" x=\"243.93\" y=\"-192.54\" font-family=\"Times,serif\" font-size=\"14.00\">idx: 0</text>\n</g>\n<!-- 3&#45;&gt;4 -->\n<g id=\"edge2\" class=\"edge\">\n<title>3&#45;&gt;4</title>\n<path fill=\"none\" stroke=\"black\" d=\"M292.1,-332.51C281.62,-304.71 265.1,-260.89 254.39,-232.48\"/>\n<polygon fill=\"black\" stroke=\"black\" points=\"257.53,-230.9 250.73,-222.77 250.98,-233.36 257.53,-230.9\"/>\n</g>\n<!-- 6 -->\n<g id=\"node4\" class=\"node\">\n<title>6</title>\n<polygon fill=\"none\" stroke=\"blue\" points=\"409.43,-296.74 294.43,-296.74 294.43,-258.74 409.43,-258.74 409.43,-296.74\"/>\n<text text-anchor=\"middle\" x=\"351.93\" y=\"-281.54\" font-family=\"Times,serif\" font-size=\"14.00\">TupleGetItem</text>\n<text text-anchor=\"middle\" x=\"351.93\" y=\"-266.54\" font-family=\"Times,serif\" font-size=\"14.00\">idx: 1</text>\n</g>\n<!-- 3&#45;&gt;6 -->\n<g id=\"edge3\" class=\"edge\">\n<title>3&#45;&gt;6</title>\n<path fill=\"none\" stroke=\"black\" d=\"M318.31,-332.46C323.72,-323.81 329.74,-314.19 335.18,-305.5\"/>\n<polygon fill=\"black\" stroke=\"black\" points=\"338.25,-307.2 340.59,-296.86 332.32,-303.48 338.25,-307.2\"/>\n</g>\n<!-- 8 -->\n<g id=\"node6\" class=\"node\">\n<title>8</title>\n<ellipse fill=\"none\" stroke=\"blue\" cx=\"301.93\" cy=\"-121.87\" rx=\"301.87\" ry=\"26.74\"/>\n<text text-anchor=\"middle\" x=\"301.93\" y=\"-125.67\" font-family=\"Times,serif\" font-size=\"14.00\">Call GlobalVar</text>\n<text text-anchor=\"middle\" x=\"301.93\" y=\"-110.67\" font-family=\"Times,serif\" font-size=\"14.00\">GlobalVar.name_hint: tvmgen_default_test_target_main_1</text>\n</g>\n<!-- 4&#45;&gt;8 -->\n<g id=\"edge5\" class=\"edge\">\n<title>4&#45;&gt;8</title>\n<path fill=\"none\" stroke=\"black\" d=\"M257.1,-184.62C263.04,-176.43 270.27,-166.48 277.17,-156.98\"/>\n<polygon fill=\"black\" stroke=\"black\" points=\"280.06,-158.94 283.11,-148.8 274.4,-154.83 280.06,-158.94\"/>\n</g>\n<!-- 7 -->\n<g id=\"node5\" class=\"node\">\n<title>7</title>\n<polygon fill=\"none\" stroke=\"blue\" points=\"400.43,-221.74 319.43,-221.74 319.43,-185.74 400.43,-185.74 400.43,-221.74\"/>\n<text text-anchor=\"middle\" x=\"359.93\" y=\"-200.04\" font-family=\"Times,serif\" font-size=\"14.00\">Call tanh</text>\n</g>\n<!-- 6&#45;&gt;7 -->\n<g id=\"edge4\" class=\"edge\">\n<title>6&#45;&gt;7</title>\n<path fill=\"none\" stroke=\"black\" d=\"M353.95,-258.57C354.84,-250.63 355.89,-241.15 356.86,-232.37\"/>\n<polygon fill=\"black\" stroke=\"black\" points=\"360.37,-232.48 358,-222.16 353.42,-231.71 360.37,-232.48\"/>\n</g>\n<!-- 7&#45;&gt;8 -->\n<g id=\"edge6\" class=\"edge\">\n<title>7&#45;&gt;8</title>\n<path fill=\"none\" stroke=\"black\" d=\"M347.35,-185.41C341.37,-177.18 334.01,-167.03 326.96,-157.33\"/>\n<polygon fill=\"black\" stroke=\"black\" points=\"329.6,-155.01 320.89,-148.97 323.93,-159.12 329.6,-155.01\"/>\n</g>\n<!-- 9 -->\n<g id=\"node7\" class=\"node\">\n<title>9</title>\n<polygon fill=\"none\" stroke=\"blue\" points=\"329.93,-59 273.93,-59 273.93,-23 329.93,-23 329.93,-59\"/>\n<text text-anchor=\"middle\" x=\"301.93\" y=\"-37.3\" font-family=\"Times,serif\" font-size=\"14.00\">Func </text>\n</g>\n<!-- 8&#45;&gt;9 -->\n<g id=\"edge7\" class=\"edge\">\n<title>8&#45;&gt;9</title>\n<path fill=\"none\" stroke=\"black\" d=\"M301.93,-94.61C301.93,-86.51 301.93,-77.57 301.93,-69.39\"/>\n<polygon fill=\"black\" stroke=\"black\" points=\"305.43,-69.22 301.93,-59.22 298.43,-69.22 305.43,-69.22\"/>\n</g>\n</g>\n</svg>\n",
      "text/plain": [
       "<graphviz.dot.Digraph at 0x7f51cffb27d0>"
      ]
     },
     "execution_count": 24,
     "metadata": {},
     "output_type": "execute_result"
    }
   ],
   "source": [
    "graphviz_relay(partitioned, \"main\")"
   ]
  }
 ],
 "metadata": {
  "kernelspec": {
   "display_name": "Python 3.10.4 ('mxnetx')",
   "language": "python",
   "name": "python3"
  },
  "language_info": {
   "codemirror_mode": {
    "name": "ipython",
    "version": 3
   },
   "file_extension": ".py",
   "mimetype": "text/x-python",
   "name": "python",
   "nbconvert_exporter": "python",
   "pygments_lexer": "ipython3",
   "version": "3.10.4"
  },
  "orig_nbformat": 4,
  "vscode": {
   "interpreter": {
    "hash": "aa67ff675248b5ab29dcd2f00c1422844307085c8ca7c8ce7eddecd21b9c2975"
   }
  }
 },
 "nbformat": 4,
 "nbformat_minor": 2
}
