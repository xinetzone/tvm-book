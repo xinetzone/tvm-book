{
 "cells": [
  {
   "cell_type": "code",
   "execution_count": 1,
   "metadata": {},
   "outputs": [],
   "source": [
    "import tvm\n",
    "import numpy as np"
   ]
  },
  {
   "cell_type": "code",
   "execution_count": 2,
   "metadata": {},
   "outputs": [],
   "source": [
    "@tvm.register_func(\"tvm.tir.trace_change_int_first\")\n",
    "def trace_buffer(x):\n",
    "    return x + 1\n",
    "\n",
    "@tvm.register_func(\"tvm.tir.trace_change_int_second\")\n",
    "def trace_buffer(x):\n",
    "    return x + 2"
   ]
  },
  {
   "cell_type": "code",
   "execution_count": 3,
   "metadata": {},
   "outputs": [],
   "source": [
    "dtype = \"int64\"\n",
    "n = 4\n",
    "x = tvm.te.placeholder((n,), name=\"X\", dtype=dtype)\n",
    "y = tvm.te.compute(x.shape, lambda i: tvm.tir.trace([x[i]], \"tvm.tir.trace_change_int_first\"))\n",
    "z = tvm.te.compute(x.shape, lambda i: tvm.tir.trace([y[i]], \"tvm.tir.trace_change_int_second\"))\n",
    "s = tvm.te.create_schedule(z.op)\n",
    "f = tvm.build(s, [x, y, z], \"llvm\")\n",
    "\n",
    "xnd = tvm.nd.array(np.ones((n,), dtype=x.dtype))\n",
    "ynd = tvm.nd.array(np.zeros((n,), dtype=y.dtype))\n",
    "znd = tvm.nd.array(np.zeros((n,), dtype=z.dtype))\n",
    "f(xnd, ynd, znd)"
   ]
  },
  {
   "cell_type": "code",
   "execution_count": 9,
   "metadata": {},
   "outputs": [
    {
     "data": {
      "text/plain": [
       "(<tvm.nd.NDArray shape=(4,), cpu(0)>\n",
       " array([1, 1, 1, 1]),\n",
       " <tvm.nd.NDArray shape=(4,), cpu(0)>\n",
       " array([2, 2, 2, 2]),\n",
       " <tvm.nd.NDArray shape=(4,), cpu(0)>\n",
       " array([4, 4, 4, 4]))"
      ]
     },
     "execution_count": 9,
     "metadata": {},
     "output_type": "execute_result"
    }
   ],
   "source": [
    "xnd, ynd, znd"
   ]
  },
  {
   "cell_type": "markdown",
   "metadata": {},
   "source": [
    "## 测试"
   ]
  },
  {
   "cell_type": "code",
   "execution_count": 6,
   "metadata": {},
   "outputs": [],
   "source": [
    "from tvm.ir import IRModule, structural_equal\n",
    "from tvm import relay\n",
    "from tvm.relay.transform import SimplifyInference, InferType\n",
    "\n",
    "\n",
    "def test_simplify_batchnorm(dtype=\"float32\"):\n",
    "    rly = relay\n",
    "    def simple_bn(x, gamma, beta, moving_mean, moving_var, axis=1, epsilon=1e-5, shape=None):\n",
    "        # expect = (x - moving_mean) / sqrt(moving_var + eps) * gamma + beta\n",
    "        scale = rly.multiply(\n",
    "            rly.const(1, dtype) / rly.sqrt(moving_var + rly.const(epsilon, dtype)), gamma\n",
    "        )\n",
    "        shift = rly.add(rly.multiply(rly.negative(moving_mean), scale), beta)\n",
    "        num_newaxis = len(shape) - (axis + 1)\n",
    "        if num_newaxis:\n",
    "            scale = rly.expand_dims(scale, axis=1, num_newaxis=num_newaxis)\n",
    "            shift = rly.expand_dims(shift, axis=1, num_newaxis=num_newaxis)\n",
    "        return x * scale + shift\n",
    "\n",
    "    def check(dim, axis, nstep):\n",
    "        eps = 0.01\n",
    "        ttype1 = rly.TensorType(tuple(10 for i in range(dim)), dtype)\n",
    "        ttype2 = rly.TensorType((10,), dtype)\n",
    "        x = rly.var(\"x\", ttype1)\n",
    "        beta = rly.var(\"beta\", ttype2)\n",
    "        gamma = rly.var(\"gamma\", ttype2)\n",
    "        moving_var = rly.var(\"moving_var\", ttype2)\n",
    "        moving_mean = rly.var(\"moving_mean\", ttype2)\n",
    "        y1, y2 = x, x\n",
    "\n",
    "        for _ in range(nstep):\n",
    "            y1, _, _ = rly.nn.batch_norm(\n",
    "                y1 + rly.const(1, dtype),\n",
    "                gamma,\n",
    "                beta,\n",
    "                moving_mean,\n",
    "                moving_var,\n",
    "                epsilon=eps,\n",
    "                axis=axis,\n",
    "            )\n",
    "            y1 = rly.nn.dropout(y1)\n",
    "            y2 = simple_bn(\n",
    "                y2 + rly.const(1, dtype),\n",
    "                gamma,\n",
    "                beta,\n",
    "                moving_mean,\n",
    "                moving_var,\n",
    "                epsilon=eps,\n",
    "                axis=axis,\n",
    "                shape=ttype1.shape,\n",
    "            )\n",
    "\n",
    "        mod = IRModule.from_expr(y1)\n",
    "\n",
    "        simplify = SimplifyInference()\n",
    "        mod = InferType()(mod)\n",
    "        mod = simplify(mod)\n",
    "        y1 = mod[\"main\"].body\n",
    "\n",
    "        assert structural_equal(y1, y2, map_free_vars=True)\n",
    "\n",
    "    check(2, 1, 1)\n",
    "    check(4, 1, 1)\n",
    "    check(4, 0, 3)\n",
    "\n",
    "\n",
    "if __name__ == \"__main__\":\n",
    "    test_simplify_batchnorm(dtype=\"float32\")\n",
    "    test_simplify_batchnorm(dtype=\"float16\")"
   ]
  },
  {
   "cell_type": "code",
   "execution_count": 12,
   "metadata": {},
   "outputs": [],
   "source": [
    "import numpy as np\n",
    "import tvm\n",
    "from tvm import relay\n",
    "\n",
    "def run_opt_pass(expr: tvm.IRModule, opt_pass: tvm.transform.Pass):\n",
    "    mod = tvm.IRModule.from_expr(expr)\n",
    "    mod = relay.transform.InferType()(mod)\n",
    "    mod = opt_pass(mod)\n",
    "    entry = mod[\"main\"]\n",
    "    return entry if isinstance(expr, relay.Function) else entry.body"
   ]
  },
  {
   "cell_type": "code",
   "execution_count": 16,
   "metadata": {},
   "outputs": [],
   "source": [
    "import time\n",
    "import ctypes\n",
    "\n",
    "import tvm\n",
    "from tvm import te\n",
    "from tvm.contrib.utils import tempdir\n",
    "from tvm.runtime.module import BenchmarkResult"
   ]
  },
  {
   "cell_type": "code",
   "execution_count": null,
   "metadata": {},
   "outputs": [],
   "source": []
  }
 ],
 "metadata": {
  "kernelspec": {
   "display_name": "xi",
   "language": "python",
   "name": "python3"
  },
  "language_info": {
   "codemirror_mode": {
    "name": "ipython",
    "version": 3
   },
   "file_extension": ".py",
   "mimetype": "text/x-python",
   "name": "python",
   "nbconvert_exporter": "python",
   "pygments_lexer": "ipython3",
   "version": "3.10.9"
  },
  "orig_nbformat": 4,
  "vscode": {
   "interpreter": {
    "hash": "2ff70049156c99889cdb7b812ffa2c809878d32476c41823da8cb3a409231f9f"
   }
  }
 },
 "nbformat": 4,
 "nbformat_minor": 2
}
