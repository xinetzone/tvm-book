{
 "cells": [
  {
   "cell_type": "markdown",
   "metadata": {},
   "source": [
    "# TVM 执行器"
   ]
  },
  {
   "cell_type": "code",
   "execution_count": 1,
   "metadata": {},
   "outputs": [],
   "source": [
    "from tvm.relay.backend import Executor\n",
    "\n",
    "def test_create_executor():\n",
    "    executor = Executor(\"aot\")\n",
    "    assert executor.name == \"aot\"\n",
    "\n",
    "\n",
    "def test_create_executor_with_options():\n",
    "    executor = Executor(\"aot\", {\"interface-api\": \"c\"})\n",
    "    assert executor.name == \"aot\"\n",
    "    assert executor[\"interface-api\"] == \"c\"\n",
    "\n",
    "\n",
    "def test_create_executor_with_default():\n",
    "    executor = Executor(\"graph\")\n",
    "    assert not executor[\"link-params\"]\n",
    "\n",
    "\n",
    "def test_attr_check():\n",
    "    executor = Executor(\"aot\", {\"interface-api\": \"c\"})\n",
    "    assert \"woof\" not in executor\n",
    "    assert \"interface-api\" in executor"
   ]
  },
  {
   "cell_type": "code",
   "execution_count": 2,
   "metadata": {},
   "outputs": [],
   "source": [
    "from tvm.relay import var, const, create_executor\n",
    "from tvm.relay.op import debug\n",
    "\n",
    "\n",
    "_test_debug_hit = False\n",
    "\n",
    "\n",
    "def test_debug():\n",
    "    global _test_debug_hit\n",
    "    x = var(\"x\", shape=(), dtype=\"int32\")\n",
    "    _test_debug_hit = False\n",
    "\n",
    "    def did_exec(x):\n",
    "        global _test_debug_hit\n",
    "        _test_debug_hit = True\n",
    "\n",
    "    prog = debug(x, debug_func=did_exec)\n",
    "    result = create_executor().evaluate(prog, {x: const(1, \"int32\")})\n",
    "    assert _test_debug_hit\n",
    "    assert result.numpy() == 1\n",
    "\n",
    "def test_debug_with_expr():\n",
    "    global _test_debug_hit\n",
    "    _test_debug_hit = False\n",
    "    x = var(\"x\", shape=(), dtype=\"int32\")\n",
    "    _test_debug_hit = False\n",
    "\n",
    "    def did_exec(x):\n",
    "        global _test_debug_hit\n",
    "        _test_debug_hit = True\n",
    "\n",
    "    prog = debug(x + x * x, debug_func=did_exec)\n",
    "    result = create_executor().evaluate(prog, {x: const(2, \"int32\")})\n",
    "    assert _test_debug_hit\n",
    "    assert result.numpy() == 6"
   ]
  },
  {
   "cell_type": "code",
   "execution_count": null,
   "metadata": {},
   "outputs": [],
   "source": [
    "test_debug()\n",
    "test_debug_with_expr()"
   ]
  },
  {
   "cell_type": "code",
   "execution_count": null,
   "metadata": {},
   "outputs": [],
   "source": []
  }
 ],
 "metadata": {
  "kernelspec": {
   "display_name": "Python 3.8.13 ('py38': conda)",
   "language": "python",
   "name": "python3"
  },
  "language_info": {
   "codemirror_mode": {
    "name": "ipython",
    "version": 3
   },
   "file_extension": ".py",
   "mimetype": "text/x-python",
   "name": "python",
   "nbconvert_exporter": "python",
   "pygments_lexer": "ipython3",
   "version": "3.8.13"
  },
  "orig_nbformat": 4,
  "vscode": {
   "interpreter": {
    "hash": "28558e8daad512806f5c536a1a04c119185f99f65b79002708a12162d02a79c7"
   }
  }
 },
 "nbformat": 4,
 "nbformat_minor": 2
}
