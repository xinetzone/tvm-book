{
 "cells": [
  {
   "cell_type": "markdown",
   "metadata": {},
   "source": [
    "# TVM 调试器\n",
    "\n",
    "```{admonition} TVM 配置\n",
    "- 在 `config.cmake` 中设置 `USE_PROFILER` 为 `ON`。\n",
    "- 执行 `make tvm`，这样它就会生成 `libtvm_runtime.so`。\n",
    "```\n",
    "\n",
    "先载入一些库："
   ]
  },
  {
   "cell_type": "code",
   "execution_count": 1,
   "metadata": {},
   "outputs": [],
   "source": [
    "import logging\n",
    "from dataclasses import dataclass\n",
    "from typing import Sequence\n",
    "from PIL import Image\n",
    "import numpy as np\n",
    "import mxnet as mx\n",
    "from mxnet.gluon.model_zoo.vision import get_model\n",
    "import tvm\n",
    "from tvm import relay\n",
    "\n",
    "\n",
    "def transform_image(image):\n",
    "    \"\"\"简单的数据预处理\"\"\"\n",
    "    image = np.array(image) - np.array([123.0, 117.0, 104.0])\n",
    "    image /= np.array([58.395, 57.12, 57.375])\n",
    "    image = image.transpose((2, 0, 1))\n",
    "    image = image[np.newaxis, :]\n",
    "    return image"
   ]
  },
  {
   "cell_type": "markdown",
   "metadata": {},
   "source": [
    "配置超参数："
   ]
  },
  {
   "cell_type": "code",
   "execution_count": 2,
   "metadata": {},
   "outputs": [],
   "source": [
    "@dataclass\n",
    "class Argument:\n",
    "    dshape: Sequence[int] = 1, 3, 224, 224\n",
    "    data_path: str = \"../data/test/cat.png\"\n",
    "    log_path = \"../.tmp/tvm.log\"\n",
    "    dump_root: str = \"../.tmp/tvmdbg\"\n",
    "    model_name: str = \"resnet18_v1\"\n",
    "    tvm_input_name: str = \"data\""
   ]
  },
  {
   "cell_type": "markdown",
   "metadata": {},
   "source": [
    "配置日志："
   ]
  },
  {
   "cell_type": "code",
   "execution_count": 3,
   "metadata": {},
   "outputs": [],
   "source": [
    "args = Argument()\n",
    "logging.basicConfig(filename=args.log_path, filemode=\"w\", level=logging.INFO)"
   ]
  },
  {
   "cell_type": "markdown",
   "metadata": {},
   "source": [
    "数据预处理："
   ]
  },
  {
   "cell_type": "code",
   "execution_count": 4,
   "metadata": {},
   "outputs": [],
   "source": [
    "with Image.open(args.data_path) as im:\n",
    "    im = im.resize((224, 224))\n",
    "    data = transform_image(im)"
   ]
  },
  {
   "cell_type": "markdown",
   "metadata": {},
   "source": [
    "加载模型："
   ]
  },
  {
   "cell_type": "code",
   "execution_count": 5,
   "metadata": {},
   "outputs": [],
   "source": [
    "block = get_model(args.model_name, pretrained=True)\n",
    "shape_dict = {args.tvm_input_name: data.shape}\n",
    "mod, params = relay.frontend.from_mxnet(block, shape_dict)"
   ]
  },
  {
   "cell_type": "markdown",
   "metadata": {},
   "source": [
    "定义 `softmax`："
   ]
  },
  {
   "cell_type": "code",
   "execution_count": 6,
   "metadata": {},
   "outputs": [],
   "source": [
    "func = mod[\"main\"]\n",
    "func = relay.Function(\n",
    "    func.params, relay.nn.softmax(func.body), None, func.type_params, func.attrs\n",
    ")"
   ]
  },
  {
   "cell_type": "markdown",
   "metadata": {},
   "source": [
    "模型编译："
   ]
  },
  {
   "cell_type": "code",
   "execution_count": null,
   "metadata": {},
   "outputs": [],
   "source": [
    "out_shape = (1, 1000)\n",
    "target = tvm.target.Target(\"llvm\", host=\"llvm\")\n",
    "ctx = tvm.cpu(0)\n",
    "dtype = \"float32\"\n",
    "\n",
    "with tvm.transform.PassContext(opt_level=3):\n",
    "    lib = relay.build(mod, target=target, params=params)"
   ]
  },
  {
   "cell_type": "markdown",
   "metadata": {},
   "source": [
    "创建运行时："
   ]
  },
  {
   "cell_type": "code",
   "execution_count": 8,
   "metadata": {},
   "outputs": [],
   "source": [
    "mode = \"debug\" # \"normal\", \"debug\"\n",
    "if mode == \"normal\":\n",
    "    from tvm.contrib.graph_executor import GraphModule\n",
    "    exe = lib[\"default\"](ctx)\n",
    "    mlib_proxy = GraphModule(exe)\n",
    "elif mode == \"debug\":\n",
    "    from tvm.contrib.debugger.debug_executor import GraphModuleDebug\n",
    "    exe = lib[\"debug_create\"](\"default\", ctx)\n",
    "    mlib_proxy = GraphModuleDebug(exe, [ctx], lib.graph_json, dump_root=args.dump_root)\n",
    "else:\n",
    "    from tvm.contrib.graph_executor import create\n",
    "    mlib_proxy = create(lib.graph_json, lib, ctx, dump_root=args.dump_root)"
   ]
  },
  {
   "cell_type": "markdown",
   "metadata": {},
   "source": [
    "前向推理："
   ]
  },
  {
   "cell_type": "code",
   "execution_count": null,
   "metadata": {},
   "outputs": [],
   "source": [
    "mlib_proxy.set_input(**params)\n",
    "mlib_proxy.run(data=tvm.nd.array(data.astype(dtype)))\n",
    "tvm_out = mlib_proxy.get_output(0).asnumpy()"
   ]
  },
  {
   "cell_type": "markdown",
   "metadata": {},
   "source": [
    "## 节点剖析"
   ]
  },
  {
   "cell_type": "code",
   "execution_count": 10,
   "metadata": {},
   "outputs": [
    {
     "name": "stdout",
     "output_type": "stream",
     "text": [
      "\u001b[0;31mSignature:\u001b[0m \u001b[0mmlib_proxy\u001b[0m\u001b[0;34m.\u001b[0m\u001b[0mdebug_get_output\u001b[0m\u001b[0;34m(\u001b[0m\u001b[0mnode\u001b[0m\u001b[0;34m,\u001b[0m \u001b[0mout\u001b[0m\u001b[0;34m=\u001b[0m\u001b[0;32mNone\u001b[0m\u001b[0;34m)\u001b[0m\u001b[0;34m\u001b[0m\u001b[0;34m\u001b[0m\u001b[0m\n",
      "\u001b[0;31mDocstring:\u001b[0m\n",
      "Run graph up to node and get the output to out\n",
      "\n",
      "Parameters\n",
      "----------\n",
      "node : int / str\n",
      "    The node index or name\n",
      "\n",
      "out : NDArray\n",
      "    The output array container\n",
      "\u001b[0;31mFile:\u001b[0m      /media/pc/data/4tb/lxw/libs/anaconda3/envs/py38/lib/python3.8/site-packages/tvm/contrib/debugger/debug_executor.py\n",
      "\u001b[0;31mType:\u001b[0m      method\n"
     ]
    }
   ],
   "source": [
    "mlib_proxy.debug_get_output?"
   ]
  },
  {
   "cell_type": "markdown",
   "metadata": {},
   "source": [
    "## 缓存与输出\n",
    "\n",
    "缓存追踪数据："
   ]
  },
  {
   "cell_type": "code",
   "execution_count": 11,
   "metadata": {},
   "outputs": [],
   "source": [
    "mlib_proxy.debug_datum.dump_chrome_trace()"
   ]
  },
  {
   "cell_type": "markdown",
   "metadata": {},
   "source": [
    "缓存全部节点的输出："
   ]
  },
  {
   "cell_type": "code",
   "execution_count": 12,
   "metadata": {},
   "outputs": [],
   "source": [
    "mlib_proxy.debug_datum.dump_output_tensor()"
   ]
  },
  {
   "cell_type": "markdown",
   "metadata": {},
   "source": [
    "加载缓存的节点输出："
   ]
  },
  {
   "cell_type": "code",
   "execution_count": 13,
   "metadata": {},
   "outputs": [],
   "source": [
    "params_path = f\"{mlib_proxy._dump_path}/output_tensors.params\"\n",
    "with open(params_path, \"rb\") as fp:\n",
    "    loaded_params = bytearray(fp.read())\n",
    "mlib_proxy.load_params(loaded_params)"
   ]
  },
  {
   "cell_type": "markdown",
   "metadata": {},
   "source": [
    "以 `numpy` 格式获得全部节点的输出张量："
   ]
  },
  {
   "cell_type": "code",
   "execution_count": 14,
   "metadata": {},
   "outputs": [],
   "source": [
    "output_tensors = mlib_proxy.debug_datum.get_output_tensors()"
   ]
  },
  {
   "cell_type": "markdown",
   "metadata": {},
   "source": [
    "打印调试结果："
   ]
  },
  {
   "cell_type": "code",
   "execution_count": 15,
   "metadata": {},
   "outputs": [
    {
     "name": "stdout",
     "output_type": "stream",
     "text": [
      "Node Name                                                       Ops                                                             Time(us)  Time(%)  Shape                 Inputs  Outputs  Measurements(us)  \n",
      "---------                                                       ---                                                             --------  -------  -----                 ------  -------  ----------------  \n",
      "tvmgen_default_fused_nn_contrib_conv2d_NCHWc_add_nn_relu_5      tvmgen_default_fused_nn_contrib_conv2d_NCHWc_add_nn_relu_5      1021.114  7.966    (1, 16, 14, 14, 16)   3       1        [1021.114]        \n",
      "tvmgen_default_fused_nn_contrib_conv2d_NCHWc_add_1              tvmgen_default_fused_nn_contrib_conv2d_NCHWc_add_1              978.964   7.637    (1, 16, 14, 14, 16)   3       1        [978.964]         \n",
      "tvmgen_default_fused_nn_contrib_conv2d_NCHWc_add                tvmgen_default_fused_nn_contrib_conv2d_NCHWc_add                944.494   7.368    (1, 4, 28, 28, 32)    3       1        [944.494]         \n",
      "tvmgen_default_fused_nn_contrib_conv2d_NCHWc_add_nn_relu        tvmgen_default_fused_nn_contrib_conv2d_NCHWc_add_nn_relu        796.57    6.214    (1, 2, 112, 112, 32)  3       1        [796.57]          \n",
      "tvmgen_default_fused_nn_contrib_conv2d_NCHWc_add_add_nn_relu    tvmgen_default_fused_nn_contrib_conv2d_NCHWc_add_add_nn_relu    789.586   6.159    (1, 2, 56, 56, 32)    4       1        [789.586]         \n",
      "tvmgen_default_fused_nn_contrib_conv2d_NCHWc_add_nn_relu_11     tvmgen_default_fused_nn_contrib_conv2d_NCHWc_add_nn_relu_1      783.799   6.114    (1, 2, 56, 56, 32)    3       1        [783.799]         \n",
      "tvmgen_default_fused_nn_contrib_conv2d_NCHWc_add_nn_relu_1      tvmgen_default_fused_nn_contrib_conv2d_NCHWc_add_nn_relu_1      783.104   6.109    (1, 2, 56, 56, 32)    3       1        [783.104]         \n",
      "tvmgen_default_fused_nn_contrib_conv2d_NCHWc_add_add_nn_relu1   tvmgen_default_fused_nn_contrib_conv2d_NCHWc_add_add_nn_relu    782.382   6.103    (1, 2, 56, 56, 32)    4       1        [782.382]         \n",
      "tvmgen_default_fused_nn_contrib_conv2d_NCHWc_add_nn_relu_3      tvmgen_default_fused_nn_contrib_conv2d_NCHWc_add_nn_relu_3      689.662   5.38     (1, 4, 28, 28, 32)    3       1        [689.663]         \n",
      "tvmgen_default_fused_nn_contrib_conv2d_NCHWc_add_add_nn_relu_2  tvmgen_default_fused_nn_contrib_conv2d_NCHWc_add_add_nn_relu_2  689.258   5.377    (1, 4, 28, 28, 32)    4       1        [689.258]         \n",
      "tvmgen_default_fused_nn_contrib_conv2d_NCHWc_add_add_nn_relu_4  tvmgen_default_fused_nn_contrib_conv2d_NCHWc_add_add_nn_relu_4  679.98    5.304    (1, 16, 14, 14, 16)   4       1        [679.98]          \n",
      "tvmgen_default_fused_nn_contrib_conv2d_NCHWc_add_nn_relu_4      tvmgen_default_fused_nn_contrib_conv2d_NCHWc_add_nn_relu_4      669.927   5.226    (1, 8, 14, 14, 32)    3       1        [669.927]         \n",
      "tvmgen_default_fused_nn_contrib_conv2d_NCHWc_add_add_nn_relu_6  tvmgen_default_fused_nn_contrib_conv2d_NCHWc_add_add_nn_relu_6  661.383   5.159    (1, 16, 7, 7, 32)     4       1        [661.383]         \n",
      "tvmgen_default_fused_nn_contrib_conv2d_NCHWc_add_nn_relu_2      tvmgen_default_fused_nn_contrib_conv2d_NCHWc_add_nn_relu_2      642.244   5.01     (1, 2, 28, 28, 64)    3       1        [642.244]         \n",
      "tvmgen_default_fused_nn_contrib_conv2d_NCHWc_add_nn_relu_7      tvmgen_default_fused_nn_contrib_conv2d_NCHWc_add_nn_relu_7      615.144   4.799    (1, 16, 7, 7, 32)     3       1        [615.144]         \n",
      "tvmgen_default_fused_nn_contrib_conv2d_NCHWc_add_2              tvmgen_default_fused_nn_contrib_conv2d_NCHWc_add_2              614.841   4.796    (1, 16, 7, 7, 32)     3       1        [614.841]         \n",
      "tvmgen_default_fused_nn_contrib_conv2d_NCHWc_add_nn_relu_6      tvmgen_default_fused_nn_contrib_conv2d_NCHWc_add_nn_relu_6      368.045   2.871    (1, 16, 7, 7, 32)     3       1        [368.045]         \n",
      "tvmgen_default_fused_nn_contrib_conv2d_NCHWc_add_add_nn_relu_3  tvmgen_default_fused_nn_contrib_conv2d_NCHWc_add_add_nn_relu_3  56.25     0.439    (1, 16, 14, 14, 16)   4       1        [56.25]           \n",
      "tvmgen_default_fused_nn_contrib_conv2d_NCHWc_add_add_nn_relu_1  tvmgen_default_fused_nn_contrib_conv2d_NCHWc_add_add_nn_relu_1  47.487    0.37     (1, 4, 28, 28, 32)    4       1        [47.487]          \n",
      "tvmgen_default_fused_nn_contrib_conv2d_NCHWc_add_add_nn_relu_5  tvmgen_default_fused_nn_contrib_conv2d_NCHWc_add_add_nn_relu_5  39.733    0.31     (1, 16, 7, 7, 32)     4       1        [39.733]          \n",
      "tvmgen_default_fused_nn_max_pool2d                              tvmgen_default_fused_nn_max_pool2d                              16.245    0.127    (1, 2, 56, 56, 32)    1       1        [16.245]          \n",
      "tvmgen_default_fused_nn_global_avg_pool2d                       tvmgen_default_fused_nn_global_avg_pool2d                       12.244    0.096    (1, 16, 1, 1, 32)     1       1        [12.244]          \n",
      "tvmgen_default_fused_nn_contrib_dense_pack_add                  tvmgen_default_fused_nn_contrib_dense_pack_add                  10.502    0.082    (1, 1000)             3       1        [10.502]          \n",
      "tvmgen_default_fused_layout_transform                           tvmgen_default_fused_layout_transform                           9.743     0.076    (1, 1, 224, 224, 3)   1       1        [9.743]           \n",
      "tvmgen_default_fused_layout_transform_2                         tvmgen_default_fused_layout_transform_2                         8.103     0.063    (1, 8, 56, 56, 8)     1       1        [8.103]           \n",
      "tvmgen_default_fused_layout_transform_6                         tvmgen_default_fused_layout_transform_6                         7.626     0.059    (1, 16, 28, 28, 8)    1       1        [7.626]           \n",
      "tvmgen_default_fused_layout_transform_11                        tvmgen_default_fused_layout_transform_1                         7.609     0.059    (1, 1, 56, 56, 64)    1       1        [7.609]           \n",
      "tvmgen_default_fused_layout_transform_1                         tvmgen_default_fused_layout_transform_1                         7.487     0.058    (1, 1, 56, 56, 64)    1       1        [7.487]           \n",
      "tvmgen_default_fused_layout_transform_3                         tvmgen_default_fused_layout_transform_3                         7.478     0.058    (1, 1, 28, 28, 128)   1       1        [7.478]           \n",
      "tvmgen_default_fused_layout_transform_12                        tvmgen_default_fused_layout_transform_1                         7.405     0.058    (1, 1, 56, 56, 64)    1       1        [7.405]           \n",
      "tvmgen_default_fused_layout_transform_13                        tvmgen_default_fused_layout_transform_1                         7.261     0.057    (1, 1, 56, 56, 64)    1       1        [7.261]           \n",
      "tvmgen_default_fused_layout_transform_7                         tvmgen_default_fused_layout_transform_7                         6.284     0.049    (1, 2, 14, 14, 128)   1       1        [6.284]           \n",
      "tvmgen_default_fused_layout_transform_4                         tvmgen_default_fused_layout_transform_4                         6.275     0.049    (1, 1, 28, 28, 128)   1       1        [6.275]           \n",
      "tvmgen_default_fused_layout_transform_41                        tvmgen_default_fused_layout_transform_4                         6.098     0.048    (1, 1, 28, 28, 128)   1       1        [6.098]           \n",
      "tvmgen_default_fused_layout_transform_8                         tvmgen_default_fused_layout_transform_8                         5.939     0.046    (1, 2, 14, 14, 128)   1       1        [5.939]           \n",
      "tvmgen_default_fused_layout_transform_9                         tvmgen_default_fused_layout_transform_9                         5.753     0.045    (1, 32, 14, 14, 8)    1       1        [5.753]           \n",
      "tvmgen_default_fused_layout_transform_5                         tvmgen_default_fused_layout_transform_5                         5.727     0.045    (1, 2, 28, 28, 64)    1       1        [5.727]           \n",
      "tvmgen_default_fused_layout_transform_81                        tvmgen_default_fused_layout_transform_8                         5.432     0.042    (1, 2, 14, 14, 128)   1       1        [5.432]           \n",
      "tvmgen_default_fused_layout_transform_102                       tvmgen_default_fused_layout_transform_10                        5.34      0.042    (1, 1, 7, 7, 512)     1       1        [5.34]            \n",
      "tvmgen_default_fused_layout_transform_101                       tvmgen_default_fused_layout_transform_10                        5.338     0.042    (1, 1, 7, 7, 512)     1       1        [5.338]           \n",
      "tvmgen_default_fused_layout_transform_82                        tvmgen_default_fused_layout_transform_8                         5.332     0.042    (1, 2, 14, 14, 128)   1       1        [5.332]           \n",
      "tvmgen_default_fused_layout_transform_10                        tvmgen_default_fused_layout_transform_10                        5.254     0.041    (1, 1, 7, 7, 512)     1       1        [5.254]           \n",
      "tvmgen_default_fused_layout_transform_nn_batch_flatten          tvmgen_default_fused_layout_transform_nn_batch_flatten          0.728     0.006    (1, 512)              1       1        [0.728]           \n",
      "Total_time                                                      -                                                               12819.17  -        -                     -       -        -                 \n"
     ]
    }
   ],
   "source": [
    "mlib_proxy.debug_datum.display_debug_result()"
   ]
  },
  {
   "cell_type": "markdown",
   "metadata": {},
   "source": [
    "移除缓存信息："
   ]
  },
  {
   "cell_type": "code",
   "execution_count": 16,
   "metadata": {},
   "outputs": [],
   "source": [
    "mlib_proxy.exit()"
   ]
  },
  {
   "cell_type": "markdown",
   "metadata": {},
   "source": [
    "## 度量单个节点\n",
    "\n",
    "获取节点数："
   ]
  },
  {
   "cell_type": "code",
   "execution_count": 17,
   "metadata": {},
   "outputs": [
    {
     "data": {
      "text/plain": [
       "86"
      ]
     },
     "execution_count": 17,
     "metadata": {},
     "output_type": "execute_result"
    }
   ],
   "source": [
    "len(mlib_proxy.debug_datum.get_graph_nodes())"
   ]
  },
  {
   "cell_type": "markdown",
   "metadata": {},
   "source": [
    "```{rubric} 对序列化计算图中的单个节点进行基准测试\n",
    "```\n",
    "\n",
    "这并不进行任何数据传输，而是使用设备上已经存在的数组。\n",
    "\n",
    "参数：\n",
    "\n",
    "- `index`：对应于 `debug_datum.get_graph_nodes` 的节点索引。\n",
    "- `number`: 运行此函数取平均值的次数。这些运行称为度量的单次 `repeat`。\n",
    "- `repeat` （可选）：重复度量的次数。总的来说，函数将被调用 (1 + number x repeat) 次，其中第一个函数将被预热并将被丢弃。返回的结果包含 `repeat` 开销，每个开销都是 `number` 开销的平均值。\n",
    "- `min_repeat_ms` （可选）：单次 `repeat` 的最小持续时间，以毫秒为单位。默认情况下，单次 `repeat` 包含 `number` 运行。设置该参数后，参数 `number` 会动态调整，以满足单次 `repeat` 的最小持续时间要求。即，当单次 `repeat` 的运行时间低于此时间时，`number` 参数将自动增加。\n",
    "- `cooldown_interval_ms` （可选）：由 `repeats_to_cooldown` 定义的重复次数之间的冷却间隔，以毫秒为单位。\n",
    "- `repeats_to_cooldown`：激活 cooldown 前的重复次数。\n",
    "\n",
    "运行没有关联函数的节点应该立即返回，并且 runtime 为 `0`："
   ]
  },
  {
   "cell_type": "code",
   "execution_count": 18,
   "metadata": {},
   "outputs": [
    {
     "data": {
      "text/plain": [
       "True"
      ]
     },
     "execution_count": 18,
     "metadata": {},
     "output_type": "execute_result"
    }
   ],
   "source": [
    "mlib_proxy.run_individual_node(0, number=1).mean == 0"
   ]
  },
  {
   "cell_type": "markdown",
   "metadata": {},
   "source": [
    "与此同时，实际的函数需要一些时间，如果您运行它多次，则需要更多的时间："
   ]
  },
  {
   "cell_type": "code",
   "execution_count": 19,
   "metadata": {},
   "outputs": [],
   "source": [
    "repeat_1_result = mlib_proxy.run_individual_node(1, repeat=1)\n",
    "assert repeat_1_result.mean > 0"
   ]
  },
  {
   "cell_type": "markdown",
   "metadata": {},
   "source": [
    "运行多次(10 次)需要的时间应该超过运行 1 次的时间："
   ]
  },
  {
   "cell_type": "code",
   "execution_count": 20,
   "metadata": {},
   "outputs": [],
   "source": [
    "repeat_3_results = mlib_proxy.run_individual_node(1, repeat=3)\n",
    "assert sum(repeat_3_results.results) > sum(repeat_1_result.results)"
   ]
  },
  {
   "cell_type": "markdown",
   "metadata": {},
   "source": [
    "增加重复次数应该会得到所需结果的数量："
   ]
  },
  {
   "cell_type": "code",
   "execution_count": 21,
   "metadata": {},
   "outputs": [],
   "source": [
    "assert len(mlib_proxy.run_individual_node(1, repeat=10).results) == 10"
   ]
  },
  {
   "cell_type": "markdown",
   "metadata": {},
   "source": [
    "执行 `repeat_ms` 应该使运行时间大于所要求的量 `start = time.time()`："
   ]
  },
  {
   "cell_type": "code",
   "execution_count": 22,
   "metadata": {},
   "outputs": [],
   "source": [
    "import time\n",
    "start = time.time()\n",
    "mlib_proxy.run_individual_node(1, min_repeat_ms=500)\n",
    "end = time.time()\n",
    "elapsed_time_in_seconds = end - start\n",
    "assert elapsed_time_in_seconds >= 0.5"
   ]
  },
  {
   "cell_type": "markdown",
   "metadata": {},
   "source": [
    "执行 `cooldown_interval_ms` 会增加执行时间："
   ]
  },
  {
   "cell_type": "code",
   "execution_count": 23,
   "metadata": {},
   "outputs": [],
   "source": [
    "start = time.time()\n",
    "mlib_proxy.run_individual_node(1, repeat=2, min_repeat_ms=500, cooldown_interval_ms=1000)\n",
    "end = time.time()\n",
    "elapsed_time_in_seconds_with_def_rep = end - start\n",
    "assert elapsed_time_in_seconds_with_def_rep >= 3"
   ]
  },
  {
   "cell_type": "markdown",
   "metadata": {},
   "source": [
    "如果 `repeats_to_cooldown` 不等于 1，则不会在每次重复后触发冷却时间："
   ]
  },
  {
   "cell_type": "code",
   "execution_count": 24,
   "metadata": {},
   "outputs": [],
   "source": [
    "start = time.time()\n",
    "mlib_proxy.run_individual_node(\n",
    "    1, repeat=2, min_repeat_ms=500, cooldown_interval_ms=1000, repeats_to_cooldown=2\n",
    ")\n",
    "end = time.time()\n",
    "elapsed_time_in_seconds_with_rep_2 = end - start\n",
    "assert elapsed_time_in_seconds_with_rep_2 >= 2 and (\n",
    "    elapsed_time_in_seconds_with_rep_2 < elapsed_time_in_seconds_with_def_rep\n",
    ")"
   ]
  },
  {
   "cell_type": "code",
   "execution_count": null,
   "metadata": {},
   "outputs": [],
   "source": []
  }
 ],
 "metadata": {
  "kernelspec": {
   "display_name": "Python 3.8.13 64-bit",
   "language": "python",
   "name": "python3"
  },
  "language_info": {
   "codemirror_mode": {
    "name": "ipython",
    "version": 3
   },
   "file_extension": ".py",
   "mimetype": "text/x-python",
   "name": "python",
   "nbconvert_exporter": "python",
   "pygments_lexer": "ipython3",
   "version": "3.8.13"
  },
  "orig_nbformat": 4,
  "vscode": {
   "interpreter": {
    "hash": "949777d72b0d2535278d3dc13498b2535136f6dfe0678499012e853ee9abcab1"
   }
  }
 },
 "nbformat": 4,
 "nbformat_minor": 2
}
