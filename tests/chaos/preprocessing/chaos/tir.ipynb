{
 "cells": [
  {
   "attachments": {},
   "cell_type": "markdown",
   "metadata": {},
   "source": [
    "# TensorIR (draft)"
   ]
  },
  {
   "cell_type": "code",
   "execution_count": 4,
   "metadata": {},
   "outputs": [],
   "source": [
    "import tvm\n",
    "from tvm import te\n",
    "import numpy as np\n",
    "\n",
    "def test_const_saveload_json():\n",
    "    # save load json\n",
    "    x = tvm.tir.const(1, \"int32\")\n",
    "    y = tvm.tir.const(10, \"int32\")\n",
    "    z = x + y\n",
    "    z = z + z\n",
    "    json_str = tvm.ir.save_json(z)\n",
    "    zz = tvm.ir.load_json(json_str)\n",
    "    tvm.ir.assert_structural_equal(zz, z, map_free_vars=True)\n",
    "\n",
    "def _test_infinity_value(value, dtype):\n",
    "    x = tvm.tir.const(value, dtype)\n",
    "    json_str = tvm.ir.save_json(x)\n",
    "    tvm.ir.assert_structural_equal(x, tvm.ir.load_json(json_str))\n",
    "\n",
    "\n",
    "def test_infinity_value():\n",
    "    _test_infinity_value(float(\"inf\"), \"float64\")\n",
    "    _test_infinity_value(float(\"-inf\"), \"float64\")\n",
    "    _test_infinity_value(float(\"inf\"), \"float32\")\n",
    "    _test_infinity_value(float(\"-inf\"), \"float32\")\n",
    "\n",
    "\n",
    "def _test_minmax_value(value):\n",
    "    json_str = tvm.ir.save_json(value)\n",
    "    tvm.ir.assert_structural_equal(value, tvm.ir.load_json(json_str))\n",
    "\n",
    "\n",
    "def test_minmax_value():\n",
    "    _test_minmax_value(tvm.tir.min_value(\"float32\"))\n",
    "    _test_minmax_value(tvm.tir.max_value(\"float32\"))\n",
    "\n",
    "\n",
    "def test_make_smap():\n",
    "    # save load json\n",
    "    x = tvm.tir.const(1, \"int32\")\n",
    "    y = tvm.tir.const(10, \"int32\")\n",
    "    z = tvm.tir.Add(x, y)\n",
    "    smap = tvm.runtime.convert({\"z\": z, \"x\": x})\n",
    "    json_str = tvm.ir.save_json(tvm.runtime.convert([smap]))\n",
    "    arr = tvm.ir.load_json(json_str)\n",
    "    assert len(arr) == 1\n",
    "    assert arr[0][\"z\"].a == arr[0][\"x\"]\n",
    "    tvm.ir.assert_structural_equal(arr, [smap], map_free_vars=True)\n",
    "    \n",
    "def test_make_node():\n",
    "    x = tvm.ir.make_node(\"IntImm\", dtype=\"int32\", value=10, span=None)\n",
    "    assert isinstance(x, tvm.tir.IntImm)\n",
    "    assert x.value == 10\n",
    "    A = te.placeholder((10,), name=\"A\")\n",
    "    AA = tvm.ir.make_node(\n",
    "        \"Tensor\", shape=A.shape, dtype=A.dtype, op=A.op, value_index=A.value_index\n",
    "    )\n",
    "    assert AA.op == A.op\n",
    "    assert AA.value_index == A.value_index\n",
    "\n",
    "    y = tvm.ir.make_node(\"IntImm\", dtype=tvm.runtime.String(\"int32\"), value=10, span=None)\n",
    "    \n",
    "def test_make_sum():\n",
    "    A = te.placeholder((2, 10), name=\"A\")\n",
    "    k = te.reduce_axis((0, 10), \"k\")\n",
    "    B = te.compute((2,), lambda i: te.sum(A[i, k], axis=k), name=\"B\")\n",
    "    json_str = tvm.ir.save_json(B)\n",
    "    BB = tvm.ir.load_json(json_str)\n",
    "    assert B.op.body[0].combiner is not None\n",
    "    assert BB.op.body[0].combiner is not None"
   ]
  },
  {
   "cell_type": "code",
   "execution_count": 22,
   "metadata": {},
   "outputs": [],
   "source": [
    "A = te.placeholder((2, 10), name=\"A\")\n",
    "k = te.reduce_axis((0, 10), \"k\")\n",
    "B = te.compute((2,), lambda i: te.sum(A[i, k], axis=k), name=\"B\")"
   ]
  },
  {
   "cell_type": "code",
   "execution_count": 31,
   "metadata": {},
   "outputs": [
    {
     "name": "stdout",
     "output_type": "stream",
     "text": [
      "comm_reducer(result=[(x + y)], lhs=[x], rhs=[y], identity_element=[0f])\n"
     ]
    }
   ],
   "source": [
    "print(B.op.body[0].combiner)"
   ]
  },
  {
   "cell_type": "code",
   "execution_count": null,
   "metadata": {},
   "outputs": [],
   "source": []
  }
 ],
 "metadata": {
  "kernelspec": {
   "display_name": "ai",
   "language": "python",
   "name": "python3"
  },
  "language_info": {
   "codemirror_mode": {
    "name": "ipython",
    "version": 3
   },
   "file_extension": ".py",
   "mimetype": "text/x-python",
   "name": "python",
   "nbconvert_exporter": "python",
   "pygments_lexer": "ipython3",
   "version": "3.10.8 (main, Nov 24 2022, 14:13:03) [GCC 11.2.0]"
  },
  "orig_nbformat": 4,
  "vscode": {
   "interpreter": {
    "hash": "d0d307675f12182d62ca143bf4e5db321e57c24ab1edf40ce60a9751b29adda0"
   }
  }
 },
 "nbformat": 4,
 "nbformat_minor": 2
}
