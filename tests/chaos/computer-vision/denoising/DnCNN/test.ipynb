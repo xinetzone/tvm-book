{
 "cells": [
  {
   "cell_type": "markdown",
   "metadata": {},
   "source": [
    "# 测试"
   ]
  },
  {
   "cell_type": "code",
   "execution_count": null,
   "metadata": {},
   "outputs": [],
   "source": [
    "from dataclasses import dataclass\n",
    "import time\n",
    "import logging\n",
    "import numpy as np\n",
    "from matplotlib import pyplot as plt\n",
    "from torch.utils.data import DataLoader\n",
    "import torch\n",
    "from torch import optim\n",
    "from torch.optim.lr_scheduler import MultiStepLR\n",
    "from utils.loader import data_generator, DenoisingDataset\n",
    "from utils.run import DnCNN, sum_squared_error\n",
    "\n",
    "\n",
    "logging.basicConfig(filename='logs/test.log',\n",
    "                    filemode=\"w\",\n",
    "                    format='%(asctime)s - %(name)s - %(levelname)s - %(message)s-%(funcName)s',\n",
    "                    level=logging.DEBUG)"
   ]
  },
  {
   "cell_type": "code",
   "execution_count": null,
   "metadata": {},
   "outputs": [],
   "source": [
    "@dataclass\n",
    "class Config:\n",
    "    epochs: int = 180\n",
    "    root: str = \"data/Train400\"\n",
    "    lr: float = 1e-3\n",
    "    batch_size: int = 128\n",
    "    sigma: int = 25 # noise level\n",
    "\n",
    "config = Config()"
   ]
  },
  {
   "cell_type": "code",
   "execution_count": null,
   "metadata": {},
   "outputs": [],
   "source": [
    "cuda = torch.cuda.is_available()\n",
    "model = DnCNN()\n",
    "model.train()\n",
    "# criterion = nn.MSELoss(reduction = 'sum')  # PyTorch 0.4.1\n",
    "criterion = sum_squared_error()\n",
    "if cuda:\n",
    "    model = model.cuda()\n",
    "\n",
    "data = data_generator(config.root, batch_size=config.batch_size)\n",
    "xs = data.astype('float32')/255.0\n",
    "xs = torch.from_numpy(xs.transpose((0, 3, 1, 2)))  # tensor of the clean patches, NXCXHXW\n",
    "DDataset = DenoisingDataset(xs, config.sigma)\n",
    "DLoader = DataLoader(dataset=DDataset, num_workers=4, drop_last=True, batch_size=config.batch_size, shuffle=True)\n",
    "optimizer = optim.Adam(model.parameters(), lr=config.lr)\n",
    "scheduler = MultiStepLR(optimizer, milestones=[30, 60, 90], gamma=0.2)  # learning rates"
   ]
  },
  {
   "cell_type": "code",
   "execution_count": 4,
   "metadata": {},
   "outputs": [],
   "source": [
    "for epoch in range(config.epochs):\n",
    "    epoch_loss = 0\n",
    "    start_time = time.time()\n",
    "    for n_count, batch_yx in enumerate(DLoader):\n",
    "        optimizer.zero_grad()\n",
    "        if cuda:\n",
    "            batch_x, batch_y = batch_yx[1].cuda(), batch_yx[0].cuda()\n",
    "        else:\n",
    "            batch_x, batch_y = batch_yx[1], batch_yx[0]\n",
    "        loss = criterion(model(batch_y), batch_x)\n",
    "        epoch_loss += loss.item()\n",
    "        loss.backward()\n",
    "        optimizer.step()\n",
    "        if n_count % 10 == 0:\n",
    "            logging.info(f'{epoch+1:4d} {n_count:4d} / {xs.size(0)//config.batch_size:4d} loss = {loss.item()/config.batch_size:2.4f}')\n",
    "    # scheduler.step(epoch)  # step to the learning rate in this epcoh\n",
    "    elapsed_time = time.time() - start_time\n",
    "    logging.info(f'epcoh = {epoch+1:4d} , loss =  {epoch_loss/n_count:4.4f} , time = {elapsed_time:4.2f} s')\n",
    "    np.savetxt('build/train_result.txt', np.hstack((epoch+1, epoch_loss/n_count, elapsed_time)), fmt='%2.4f')\n",
    "    # torch.save(model.state_dict(), os.path.join(save_dir, 'model_%03d.pth' % (epoch+1)))\n",
    "    torch.save(model, f\"models/model_{epoch:03d}.pth\")"
   ]
  },
  {
   "cell_type": "code",
   "execution_count": null,
   "metadata": {},
   "outputs": [],
   "source": []
  },
  {
   "cell_type": "code",
   "execution_count": null,
   "metadata": {},
   "outputs": [],
   "source": []
  },
  {
   "cell_type": "code",
   "execution_count": null,
   "metadata": {},
   "outputs": [],
   "source": []
  }
 ],
 "metadata": {
  "kernelspec": {
   "display_name": "Python 3.10.4 ('tvmx': conda)",
   "language": "python",
   "name": "python3"
  },
  "language_info": {
   "codemirror_mode": {
    "name": "ipython",
    "version": 3
   },
   "file_extension": ".py",
   "mimetype": "text/x-python",
   "name": "python",
   "nbconvert_exporter": "python",
   "pygments_lexer": "ipython3",
   "version": "3.10.4"
  },
  "orig_nbformat": 4,
  "vscode": {
   "interpreter": {
    "hash": "e579259ee6098e2b9319de590d145b4b096774fe457bdf04260e3ba5c171e887"
   }
  }
 },
 "nbformat": 4,
 "nbformat_minor": 2
}
