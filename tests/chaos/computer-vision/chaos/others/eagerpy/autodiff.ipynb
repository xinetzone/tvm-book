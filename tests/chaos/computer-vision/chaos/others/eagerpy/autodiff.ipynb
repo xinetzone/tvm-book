{
 "cells": [
  {
   "cell_type": "markdown",
   "metadata": {},
   "source": [
    "# EagerPy 中的自动微分\n",
    "\n",
    "EagerPy 使用函数方法来自动微分。首先定义函数，然后对它的输入进行微分。然后将此函数传递给 `ep.value_and_grad` 来计算函数和它的梯度。更一般地，如果函数有额外的辅助输出，也可以使用 `ep.value_aux_and_grad` 并且如果你想要梯度函数，而不需要在某个点 `x` 立即计算它，可以使用 `ep.value_and_grad_fn`。\n",
    "\n",
    "在 EagerPy 中使用 `ep.value_and_grad` 进行自动微分："
   ]
  },
  {
   "cell_type": "code",
   "execution_count": 1,
   "metadata": {},
   "outputs": [],
   "source": [
    "import torch\n",
    "x = torch.tensor([1., 2., 3.])"
   ]
  },
  {
   "cell_type": "markdown",
   "metadata": {},
   "source": [
    "下面的代码适用于任何框架，而不仅仅是 Pytorch！"
   ]
  },
  {
   "cell_type": "code",
   "execution_count": 2,
   "metadata": {},
   "outputs": [],
   "source": [
    "import eagerpy as ep\n",
    "\n",
    "\n",
    "def loss_fn(x):\n",
    "    x, restore_type = ep.astensor_(x)\n",
    "    # 接受并返回 EagerPy 张量\n",
    "    out = x.square().sum()\n",
    "    return restore_type(out)"
   ]
  },
  {
   "cell_type": "markdown",
   "metadata": {},
   "source": [
    "打印结果："
   ]
  },
  {
   "cell_type": "code",
   "execution_count": 3,
   "metadata": {},
   "outputs": [
    {
     "name": "stdout",
     "output_type": "stream",
     "text": [
      "tensor(14.)\n",
      "(PyTorchTensor(tensor(14.)), PyTorchTensor(tensor([2., 4., 6.])))\n"
     ]
    }
   ],
   "source": [
    "print(loss_fn(x))\n",
    "print(ep.value_and_grad(loss_fn, ep.astensor(x)))"
   ]
  }
 ],
 "metadata": {
  "interpreter": {
   "hash": "7a45eadec1f9f49b0fdfd1bc7d360ac982412448ce738fa321afc640e3212175"
  },
  "kernelspec": {
   "display_name": "Python 3.10.4 ('torchx')",
   "language": "python",
   "name": "python3"
  },
  "language_info": {
   "codemirror_mode": {
    "name": "ipython",
    "version": 3
   },
   "file_extension": ".py",
   "mimetype": "text/x-python",
   "name": "python",
   "nbconvert_exporter": "python",
   "pygments_lexer": "ipython3",
   "version": "3.10.4"
  },
  "orig_nbformat": 4
 },
 "nbformat": 4,
 "nbformat_minor": 2
}
