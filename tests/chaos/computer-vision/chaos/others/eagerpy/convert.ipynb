{
 "cells": [
  {
   "cell_type": "markdown",
   "metadata": {},
   "source": [
    "(eagerpy:convert)=\n",
    "# EagerPy 和 Native 张量之间的变换\n",
    "\n",
    "原生张量可以是 PyTorch GPU 或 CPU 张量、TensorFlow 张量、JAX 数组或 NumPy 数组。\n",
    "\n",
    "```{rubric} 原生的 PyTorch 张量\n",
    "```"
   ]
  },
  {
   "cell_type": "code",
   "execution_count": 1,
   "metadata": {},
   "outputs": [
    {
     "data": {
      "text/plain": [
       "tensor([1., 2., 3., 4., 5., 6.])"
      ]
     },
     "execution_count": 1,
     "metadata": {},
     "output_type": "execute_result"
    }
   ],
   "source": [
    "import torch\n",
    "x = torch.tensor([1., 2., 3., 4., 5., 6.])\n",
    "x"
   ]
  },
  {
   "cell_type": "markdown",
   "metadata": {},
   "source": [
    "```{rubric} 原生的 TensorFlow 张量\n",
    "```"
   ]
  },
  {
   "cell_type": "code",
   "execution_count": 1,
   "metadata": {},
   "outputs": [
    {
     "data": {
      "text/plain": [
       "<tf.Tensor: shape=(6,), dtype=float32, numpy=array([1., 2., 3., 4., 5., 6.], dtype=float32)>"
      ]
     },
     "execution_count": 1,
     "metadata": {},
     "output_type": "execute_result"
    }
   ],
   "source": [
    "import tensorflow as tf\n",
    "x = tf.constant([1., 2., 3., 4., 5., 6.])\n",
    "x"
   ]
  },
  {
   "cell_type": "markdown",
   "metadata": {},
   "source": [
    "```{rubric} 原生的 JAX 数组\n",
    "```"
   ]
  },
  {
   "cell_type": "code",
   "execution_count": 3,
   "metadata": {},
   "outputs": [
    {
     "data": {
      "text/plain": [
       "DeviceArray([1., 2., 3., 4., 5., 6.], dtype=float32)"
      ]
     },
     "execution_count": 3,
     "metadata": {},
     "output_type": "execute_result"
    }
   ],
   "source": [
    "import jax.numpy as np\n",
    "x = np.array([1., 2., 3., 4., 5., 6.])\n",
    "x"
   ]
  },
  {
   "cell_type": "markdown",
   "metadata": {},
   "source": [
    "```{rubric} 原生的 NumPy 数组\n",
    "```"
   ]
  },
  {
   "cell_type": "code",
   "execution_count": 4,
   "metadata": {},
   "outputs": [
    {
     "data": {
      "text/plain": [
       "array([1., 2., 3., 4., 5., 6.])"
      ]
     },
     "execution_count": 4,
     "metadata": {},
     "output_type": "execute_result"
    }
   ],
   "source": [
    "import numpy as np\n",
    "x = np.array([1., 2., 3., 4., 5., 6.])\n",
    "x"
   ]
  },
  {
   "cell_type": "markdown",
   "metadata": {},
   "source": [
    "无论你有哪个原生张量，它总是可以通过 `ep.astensor` 转换成相应的 `EagerPy` 张量。这将自动使用正确的 `EagerPy` 张量类包装原生张量。原始的原生张量总是可以使用 `.raw` 属性访问。"
   ]
  },
  {
   "cell_type": "code",
   "execution_count": 1,
   "metadata": {},
   "outputs": [
    {
     "data": {
      "text/plain": [
       "tensor([ 1.,  4.,  9., 16., 25., 36.])"
      ]
     },
     "execution_count": 1,
     "metadata": {},
     "output_type": "execute_result"
    }
   ],
   "source": [
    "# x 应该是原生张量(参见上面)\n",
    "# 例如:\n",
    "import torch\n",
    "x = torch.tensor([1., 2., 3., 4., 5., 6.])\n",
    "\n",
    "# 任何原生张量都可以很容易地转化为 EagerPy 张量\n",
    "import eagerpy as ep\n",
    "x = ep.astensor(x)\n",
    "\n",
    "# 可以执行任何 EagerPy 运算\n",
    "x = x.square()\n",
    "\n",
    "# 然后把 EagerPy 张量转换回原生张量\n",
    "x = x.raw\n",
    "# x 现在将再次是原生张量(例如 PyTorch 张量)\n",
    "x"
   ]
  },
  {
   "cell_type": "markdown",
   "metadata": {},
   "source": [
    "特别是在函数中，将所有输入转换为 EagerPy 张量是很常见的。这可以通过单独调用 `ep.astensor` 来完成，但是用 `ep.astensors` 可以写得更紧凑。"
   ]
  },
  {
   "cell_type": "code",
   "execution_count": 2,
   "metadata": {},
   "outputs": [],
   "source": [
    "# x，y 应该是原生张量(参见上面)\n",
    "# 例如:\n",
    "import torch\n",
    "x = torch.tensor([1., 2., 3.])\n",
    "y = torch.tensor([4., 5., 6.])\n",
    "\n",
    "import eagerpy as ep\n",
    "x, y = ep.astensors(x, y)  # 适用于任何数量的输入"
   ]
  }
 ],
 "metadata": {
  "interpreter": {
   "hash": "7a45eadec1f9f49b0fdfd1bc7d360ac982412448ce738fa321afc640e3212175"
  },
  "kernelspec": {
   "display_name": "Python 3.10.4 ('torchx')",
   "language": "python",
   "name": "python3"
  },
  "language_info": {
   "codemirror_mode": {
    "name": "ipython",
    "version": 3
   },
   "file_extension": ".py",
   "mimetype": "text/x-python",
   "name": "python",
   "nbconvert_exporter": "python",
   "pygments_lexer": "ipython3",
   "version": "3.10.4"
  },
  "orig_nbformat": 4
 },
 "nbformat": 4,
 "nbformat_minor": 2
}
