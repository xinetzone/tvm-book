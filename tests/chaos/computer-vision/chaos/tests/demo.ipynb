{
 "cells": [
  {
   "cell_type": "markdown",
   "metadata": {},
   "source": [
    "# TVM 操练场\n",
    "\n",
    "测试一些代码："
   ]
  },
  {
   "cell_type": "code",
   "execution_count": 1,
   "metadata": {},
   "outputs": [
    {
     "name": "stdout",
     "output_type": "stream",
     "text": [
      "Python: 3.10.4\n",
      "TVM: 0.9.dev0\n"
     ]
    }
   ],
   "source": [
    "def set_env(num, current_path='.'):\n",
    "    import sys\n",
    "    from pathlib import Path\n",
    "\n",
    "    ROOT = Path(current_path).resolve().parents[num]\n",
    "    sys.path.extend([str(ROOT/'src')]) # 设置 `tvm_book` 环境\n",
    "    from tvm_book.contrib.tvm import set_env # 设置 TVM 环境\n",
    "\n",
    "set_env(1)\n",
    "from tvm_book.contrib import d2ltvm"
   ]
  },
  {
   "cell_type": "code",
   "execution_count": 2,
   "metadata": {},
   "outputs": [],
   "source": [
    "import tvm"
   ]
  },
  {
   "cell_type": "code",
   "execution_count": 15,
   "metadata": {},
   "outputs": [],
   "source": [
    "import mxnet as mx\n",
    "\n",
    "model_name = 'mobilenet1.0'\n",
    "gluon_model = mx.gluon.model_zoo.vision.get_model(model_name, pretrained=True)"
   ]
  },
  {
   "cell_type": "code",
   "execution_count": 16,
   "metadata": {},
   "outputs": [
    {
     "name": "stdout",
     "output_type": "stream",
     "text": [
      "--------------------------------------------------------------------------------\n",
      "        Layer (type)                                Output Shape         Param #\n",
      "================================================================================\n",
      "               Input                            (1, 3, 224, 224)               0\n",
      "            Conv2D-1                           (1, 32, 112, 112)             864\n",
      "         BatchNorm-2                           (1, 32, 112, 112)             128\n",
      "        Activation-3                           (1, 32, 112, 112)               0\n",
      "            Conv2D-4                           (1, 32, 112, 112)             288\n",
      "         BatchNorm-5                           (1, 32, 112, 112)             128\n",
      "        Activation-6                           (1, 32, 112, 112)               0\n",
      "            Conv2D-7                           (1, 64, 112, 112)            2048\n",
      "         BatchNorm-8                           (1, 64, 112, 112)             256\n",
      "        Activation-9                           (1, 64, 112, 112)               0\n",
      "           Conv2D-10                             (1, 64, 56, 56)             576\n",
      "        BatchNorm-11                             (1, 64, 56, 56)             256\n",
      "       Activation-12                             (1, 64, 56, 56)               0\n",
      "           Conv2D-13                            (1, 128, 56, 56)            8192\n",
      "        BatchNorm-14                            (1, 128, 56, 56)             512\n",
      "       Activation-15                            (1, 128, 56, 56)               0\n",
      "           Conv2D-16                            (1, 128, 56, 56)            1152\n",
      "        BatchNorm-17                            (1, 128, 56, 56)             512\n",
      "       Activation-18                            (1, 128, 56, 56)               0\n",
      "           Conv2D-19                            (1, 128, 56, 56)           16384\n",
      "        BatchNorm-20                            (1, 128, 56, 56)             512\n",
      "       Activation-21                            (1, 128, 56, 56)               0\n",
      "           Conv2D-22                            (1, 128, 28, 28)            1152\n",
      "        BatchNorm-23                            (1, 128, 28, 28)             512\n",
      "       Activation-24                            (1, 128, 28, 28)               0\n",
      "           Conv2D-25                            (1, 256, 28, 28)           32768\n",
      "        BatchNorm-26                            (1, 256, 28, 28)            1024\n",
      "       Activation-27                            (1, 256, 28, 28)               0\n",
      "           Conv2D-28                            (1, 256, 28, 28)            2304\n",
      "        BatchNorm-29                            (1, 256, 28, 28)            1024\n",
      "       Activation-30                            (1, 256, 28, 28)               0\n",
      "           Conv2D-31                            (1, 256, 28, 28)           65536\n",
      "        BatchNorm-32                            (1, 256, 28, 28)            1024\n",
      "       Activation-33                            (1, 256, 28, 28)               0\n",
      "           Conv2D-34                            (1, 256, 14, 14)            2304\n",
      "        BatchNorm-35                            (1, 256, 14, 14)            1024\n",
      "       Activation-36                            (1, 256, 14, 14)               0\n",
      "           Conv2D-37                            (1, 512, 14, 14)          131072\n",
      "        BatchNorm-38                            (1, 512, 14, 14)            2048\n",
      "       Activation-39                            (1, 512, 14, 14)               0\n",
      "           Conv2D-40                            (1, 512, 14, 14)            4608\n",
      "        BatchNorm-41                            (1, 512, 14, 14)            2048\n",
      "       Activation-42                            (1, 512, 14, 14)               0\n",
      "           Conv2D-43                            (1, 512, 14, 14)          262144\n",
      "        BatchNorm-44                            (1, 512, 14, 14)            2048\n",
      "       Activation-45                            (1, 512, 14, 14)               0\n",
      "           Conv2D-46                            (1, 512, 14, 14)            4608\n",
      "        BatchNorm-47                            (1, 512, 14, 14)            2048\n",
      "       Activation-48                            (1, 512, 14, 14)               0\n",
      "           Conv2D-49                            (1, 512, 14, 14)          262144\n",
      "        BatchNorm-50                            (1, 512, 14, 14)            2048\n",
      "       Activation-51                            (1, 512, 14, 14)               0\n",
      "           Conv2D-52                            (1, 512, 14, 14)            4608\n",
      "        BatchNorm-53                            (1, 512, 14, 14)            2048\n",
      "       Activation-54                            (1, 512, 14, 14)               0\n",
      "           Conv2D-55                            (1, 512, 14, 14)          262144\n",
      "        BatchNorm-56                            (1, 512, 14, 14)            2048\n",
      "       Activation-57                            (1, 512, 14, 14)               0\n",
      "           Conv2D-58                            (1, 512, 14, 14)            4608\n",
      "        BatchNorm-59                            (1, 512, 14, 14)            2048\n",
      "       Activation-60                            (1, 512, 14, 14)               0\n",
      "           Conv2D-61                            (1, 512, 14, 14)          262144\n",
      "        BatchNorm-62                            (1, 512, 14, 14)            2048\n",
      "       Activation-63                            (1, 512, 14, 14)               0\n",
      "           Conv2D-64                            (1, 512, 14, 14)            4608\n",
      "        BatchNorm-65                            (1, 512, 14, 14)            2048\n",
      "       Activation-66                            (1, 512, 14, 14)               0\n",
      "           Conv2D-67                            (1, 512, 14, 14)          262144\n",
      "        BatchNorm-68                            (1, 512, 14, 14)            2048\n",
      "       Activation-69                            (1, 512, 14, 14)               0\n",
      "           Conv2D-70                              (1, 512, 7, 7)            4608\n",
      "        BatchNorm-71                              (1, 512, 7, 7)            2048\n",
      "       Activation-72                              (1, 512, 7, 7)               0\n",
      "           Conv2D-73                             (1, 1024, 7, 7)          524288\n",
      "        BatchNorm-74                             (1, 1024, 7, 7)            4096\n",
      "       Activation-75                             (1, 1024, 7, 7)               0\n",
      "           Conv2D-76                             (1, 1024, 7, 7)            9216\n",
      "        BatchNorm-77                             (1, 1024, 7, 7)            4096\n",
      "       Activation-78                             (1, 1024, 7, 7)               0\n",
      "           Conv2D-79                             (1, 1024, 7, 7)         1048576\n",
      "        BatchNorm-80                             (1, 1024, 7, 7)            4096\n",
      "       Activation-81                             (1, 1024, 7, 7)               0\n",
      "  GlobalAvgPool2D-82                             (1, 1024, 1, 1)               0\n",
      "          Flatten-83                                   (1, 1024)               0\n",
      "            Dense-84                                   (1, 1000)         1025000\n",
      "        MobileNet-85                                   (1, 1000)               0\n",
      "================================================================================\n",
      "Parameters in forward computation graph, duplicate included\n",
      "   Total params: 4253864\n",
      "   Trainable params: 4231976\n",
      "   Non-trainable params: 21888\n",
      "Shared params in forward computation graph: 0\n",
      "Unique parameters in model: 4253864\n",
      "--------------------------------------------------------------------------------\n"
     ]
    }
   ],
   "source": [
    "x = mx.nd.ones((1, 3, 224, 224))\n",
    "gluon_model.summary(x)"
   ]
  },
  {
   "cell_type": "code",
   "execution_count": null,
   "metadata": {},
   "outputs": [],
   "source": []
  }
 ],
 "metadata": {
  "interpreter": {
   "hash": "c5da9a0f788eed7217a47307962fe48acfe4cb9e61df4f497bb59be4e46ad699"
  },
  "kernelspec": {
   "display_name": "Python 3.8.12 ('py38': conda)",
   "language": "python",
   "name": "python3"
  },
  "language_info": {
   "codemirror_mode": {
    "name": "ipython",
    "version": 3
   },
   "file_extension": ".py",
   "mimetype": "text/x-python",
   "name": "python",
   "nbconvert_exporter": "python",
   "pygments_lexer": "ipython3",
   "version": "3.10.4"
  },
  "orig_nbformat": 4
 },
 "nbformat": 4,
 "nbformat_minor": 2
}
