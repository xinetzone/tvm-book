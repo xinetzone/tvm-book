{
 "cells": [
  {
   "cell_type": "markdown",
   "metadata": {},
   "source": [
    "# VTA 仿真"
   ]
  },
  {
   "cell_type": "code",
   "execution_count": null,
   "metadata": {},
   "outputs": [],
   "source": [
    "def set_env(num, current_path='.'):\n",
    "    import sys\n",
    "    from pathlib import Path\n",
    "\n",
    "    ROOT = Path(current_path).resolve().parents[num]\n",
    "    sys.path.extend([str(ROOT/'src')]) # 设置 `tvm_book` 环境\n",
    "    from tvm_book.contrib.tvm import set_env # 设置 TVM 环境\n",
    "\n",
    "set_env(1)\n",
    "from tvm_book.contrib import d2ltvm"
   ]
  },
  {
   "cell_type": "code",
   "execution_count": null,
   "metadata": {},
   "outputs": [],
   "source": [
    "import os\n",
    "import logging\n",
    "import json\n",
    "import numpy as np\n",
    "import mxnet as mx\n",
    "# from mxnet import init\n",
    "# from mxnet.gluon import nn\n",
    "from PIL import Image\n",
    "\n",
    "import toml\n",
    "import tvm\n",
    "from tvm import autotvm, relay\n",
    "import vta\n",
    "from vta.top import graph_pack\n",
    "\n",
    "input_name = 'data'\n",
    "export_root = 'src/bin' # '/media/pc/data/4tb/lxw/tvm/apps/howto_deploy_cross_sim_pack' # 'src'\n",
    "# lib_path = f\"{export_root}/{model_name}.so\"\n",
    "lib_path = f\"{export_root}/model.so\"\n",
    "tune_path = f\"{export_root}/tune.log\"\n",
    "graph_root = 'graph_info'\n",
    "model_name = \"resnet18_v2\"\n",
    "logfile = f'outputs/{model_name}.log'\n",
    "logging.basicConfig(filename=logfile,\n",
    "                    # encoding='utf-8',\n",
    "                    level=logging.DEBUG)\n",
    "\n",
    "env = vta.get_env()\n",
    "target = env.target\n",
    "shape = (env.BATCH, 3, 224, 224)\n",
    "\n",
    "model = mx.gluon.model_zoo.vision.get_model(model_name, pretrained=True)\n",
    "relay_mod, relay_params = relay.frontend.from_mxnet(model, {input_name: shape})\n",
    "with tvm.transform.PassContext(opt_level=3):\n",
    "    #量化\n",
    "    with relay.quantize.qconfig(global_scale=8.0, skip_conv_layers=[0], skip_dense_layer=False):\n",
    "        relay_mod = relay.quantize.quantize(relay_mod, params=relay_params)\n",
    "        logging.info(\"quantize mod: {mod['main']}\")"
   ]
  },
  {
   "cell_type": "code",
   "execution_count": null,
   "metadata": {},
   "outputs": [],
   "source": [
    "# 字典查找何时开始/结束 bit packing\n",
    "pack_dict = {\n",
    "    \"resnet18_v1\": [\"nn.max_pool2d\", \"nn.global_avg_pool2d\"],\n",
    "    \"resnet34_v1\": [\"nn.max_pool2d\", \"nn.global_avg_pool2d\"],\n",
    "    \"resnet18_v2\": [\"nn.max_pool2d\", \"nn.global_avg_pool2d\"],\n",
    "    \"resnet34_v2\": [\"nn.max_pool2d\", \"nn.global_avg_pool2d\"],\n",
    "    \"resnet50_v2\": [\"nn.max_pool2d\", \"nn.global_avg_pool2d\"],\n",
    "    \"resnet101_v2\": [\"nn.max_pool2d\", \"nn.global_avg_pool2d\"],\n",
    "}"
   ]
  },
  {
   "cell_type": "code",
   "execution_count": null,
   "metadata": {},
   "outputs": [],
   "source": [
    "with tvm.transform.PassContext(opt_level=3):\n",
    "    assert env.BLOCK_IN == env.BLOCK_OUT\n",
    "    #Perform graph packing and constant folding for VTA target\n",
    "    relay_prog = graph_pack(\n",
    "        relay_mod[\"main\"],\n",
    "        env.BATCH,\n",
    "        env.BLOCK_OUT,\n",
    "        env.WGT_WIDTH,\n",
    "        start_name=pack_dict[model_name][0],\n",
    "        stop_name=pack_dict[model_name][1],\n",
    "        # device_annot=(env.TARGET == \"intelfocl\"),\n",
    "    )\n",
    "    lib = relay.build(relay_prog, target=tvm.target.Target(target, host=env.target_host), params=relay_params)"
   ]
  },
  {
   "cell_type": "code",
   "execution_count": null,
   "metadata": {},
   "outputs": [],
   "source": []
  }
 ],
 "metadata": {
  "interpreter": {
   "hash": "f0a0fcc4cb7375f8ee907b3c51d5b9d65107fda1aab037a85df7b0c09b870b98"
  },
  "kernelspec": {
   "display_name": "Python 3.10.4 ('tvm-mxnet': conda)",
   "language": "python",
   "name": "python3"
  },
  "language_info": {
   "codemirror_mode": {
    "name": "ipython",
    "version": 3
   },
   "file_extension": ".py",
   "mimetype": "text/x-python",
   "name": "python",
   "nbconvert_exporter": "python",
   "pygments_lexer": "ipython3",
   "version": "3.10.4"
  },
  "orig_nbformat": 4
 },
 "nbformat": 4,
 "nbformat_minor": 2
}
