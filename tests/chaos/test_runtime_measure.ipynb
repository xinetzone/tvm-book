{
 "cells": [
  {
   "cell_type": "markdown",
   "metadata": {},
   "source": [
    "# test_runtime_profiling"
   ]
  },
  {
   "cell_type": "code",
   "execution_count": 1,
   "metadata": {},
   "outputs": [],
   "source": [
    "import time\n",
    "import tvm\n",
    "from tvm.contrib.utils import tempdir\n",
    "from tvm.runtime.module import BenchmarkResult"
   ]
  },
  {
   "cell_type": "code",
   "execution_count": 2,
   "metadata": {},
   "outputs": [
    {
     "data": {
      "text/plain": [
       "BenchmarkResult(min=1, mean=2.5, median=2.0, max=5, std=1.5, results=[1, 2, 2, 5])"
      ]
     },
     "execution_count": 2,
     "metadata": {},
     "output_type": "execute_result"
    }
   ],
   "source": [
    "r = BenchmarkResult([1, 2, 2, 5])\n",
    "r"
   ]
  },
  {
   "cell_type": "code",
   "execution_count": 3,
   "metadata": {},
   "outputs": [],
   "source": [
    "tmp = tempdir()\n",
    "filename = tmp.relpath(\"log\")"
   ]
  },
  {
   "cell_type": "code",
   "execution_count": 4,
   "metadata": {},
   "outputs": [],
   "source": [
    "@tvm.register_func\n",
    "def my_debug(filename):\n",
    "    \"\"\"one call lasts for 100 ms and writes one character to a file\"\"\"\n",
    "    time.sleep(0.1)\n",
    "    with open(filename, \"a\") as fout:\n",
    "        fout.write(\"c\")"
   ]
  },
  {
   "cell_type": "code",
   "execution_count": 6,
   "metadata": {},
   "outputs": [],
   "source": [
    "X = tvm.te.compute((), lambda: tvm.tir.call_packed(\"my_debug\", filename))\n",
    "s = tvm.te.create_schedule(X.op)\n",
    "func = tvm.build(s, [X])"
   ]
  },
  {
   "cell_type": "code",
   "execution_count": 7,
   "metadata": {},
   "outputs": [
    {
     "data": {
      "text/plain": [
       "BenchmarkResult(min=0.10030457400000001, mean=0.10030457400000001, median=0.10030457400000001, max=0.10030457400000001, std=0.0, results=(0.10030457400000001,))"
      ]
     },
     "execution_count": 7,
     "metadata": {},
     "output_type": "execute_result"
    }
   ],
   "source": [
    "x = tvm.nd.empty((), dtype=\"int32\")\n",
    "ftimer = func.time_evaluator(func.entry_name, tvm.cpu(), number=1, repeat=1)\n",
    "ftimer(x)"
   ]
  },
  {
   "cell_type": "code",
   "execution_count": null,
   "metadata": {},
   "outputs": [],
   "source": [
    "with open(filename, \"r\") as fin:\n",
    "    ct = len(fin.readline())\n",
    "assert ct == 2"
   ]
  },
  {
   "cell_type": "code",
   "execution_count": null,
   "metadata": {},
   "outputs": [],
   "source": [
    "ftimer = func.time_evaluator(func.entry_name, tvm.cpu(), number=1, repeat=1, min_repeat_ms=1000)\n",
    "ftimer(x)\n",
    "# make sure we get more than 10 calls\n",
    "with open(filename, \"r\") as fin:\n",
    "    ct = len(fin.readline())\n",
    "\n",
    "assert ct > 10 + 2"
   ]
  },
  {
   "cell_type": "code",
   "execution_count": null,
   "metadata": {},
   "outputs": [],
   "source": []
  }
 ],
 "metadata": {
  "kernelspec": {
   "display_name": "xi",
   "language": "python",
   "name": "python3"
  },
  "language_info": {
   "codemirror_mode": {
    "name": "ipython",
    "version": 3
   },
   "file_extension": ".py",
   "mimetype": "text/x-python",
   "name": "python",
   "nbconvert_exporter": "python",
   "pygments_lexer": "ipython3",
   "version": "3.10.9"
  },
  "orig_nbformat": 4
 },
 "nbformat": 4,
 "nbformat_minor": 2
}
