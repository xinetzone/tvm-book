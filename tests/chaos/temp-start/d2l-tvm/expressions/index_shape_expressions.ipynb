{
 "cells": [
  {
   "cell_type": "markdown",
   "metadata": {
    "origin_pos": 0
   },
   "source": [
    "# 索引和形状表达式\n",
    "\n",
    "你已经知道形状可以是符号元组，例如 `(n, m)`，元素可以通过索引访问，例如 `a[i, j]`。在实践中，形状和索引都可以通过复杂的表达式来计算。"
   ]
  },
  {
   "cell_type": "code",
   "execution_count": 1,
   "metadata": {
    "origin_pos": 1,
    "tab": [
     "tvm"
    ]
   },
   "outputs": [],
   "source": [
    "# from tvm_book.contrib import d2ltvm\n",
    "import numpy as np\n",
    "import tvm\n",
    "from tvm import te"
   ]
  },
  {
   "cell_type": "markdown",
   "metadata": {
    "origin_pos": 2
   },
   "source": [
    "## 转置(te)\n",
    "\n",
    "第一个例子是矩阵转置 `a.T`，按列访问 `a` 中的元素。"
   ]
  },
  {
   "cell_type": "code",
   "execution_count": 2,
   "metadata": {
    "attributes": {
     "classes": [],
     "id": "",
     "n": "16"
    },
    "origin_pos": 3,
    "tab": [
     "tvm"
    ]
   },
   "outputs": [
    {
     "data": {
      "text/plain": [
       "PrimFunc([a, b]) attrs={\"from_legacy_te_schedule\": (bool)1, \"global_symbol\": \"main\", \"tir.noalias\": (bool)1} {\n",
       "  for (i, 0, m) {\n",
       "    for (j, 0, n) {\n",
       "      b[((i*stride) + (j*stride))] = a[((j*stride) + (i*stride))]\n",
       "    }\n",
       "  }\n",
       "}"
      ]
     },
     "execution_count": 2,
     "metadata": {},
     "output_type": "execute_result"
    }
   ],
   "source": [
    "n = te.var('n')\n",
    "m = te.var('m')\n",
    "A = te.placeholder((n, m), name='a')\n",
    "B = te.compute((m, n), lambda i, j: A[j, i], 'b')\n",
    "s = te.create_schedule(B.op)\n",
    "ir_mod = tvm.lower(s, [A, B], simple_mode=True)\n",
    "ir_mod['main']"
   ]
  },
  {
   "cell_type": "markdown",
   "metadata": {
    "origin_pos": 4
   },
   "source": [
    "注意 2-D 索引，例如 `b[i,j]`  按照 C 约定折叠到（collapsed） 1-D 索引 `b[((i*n) + j)]`。\n",
    "\n",
    "验证结果。"
   ]
  },
  {
   "cell_type": "code",
   "execution_count": 3,
   "metadata": {
    "attributes": {
     "classes": [],
     "id": "",
     "n": "21"
    },
    "origin_pos": 5,
    "tab": [
     "tvm"
    ]
   },
   "outputs": [
    {
     "data": {
      "text/plain": [
       "(<tvm.nd.NDArray shape=(3, 4), cpu(0)>\n",
       " array([[ 0.,  1.,  2.,  3.],\n",
       "        [ 4.,  5.,  6.,  7.],\n",
       "        [ 8.,  9., 10., 11.]], dtype=float32),\n",
       " <tvm.nd.NDArray shape=(4, 3), cpu(0)>\n",
       " array([[ 0.,  4.,  8.],\n",
       "        [ 1.,  5.,  9.],\n",
       "        [ 2.,  6., 10.],\n",
       "        [ 3.,  7., 11.]], dtype=float32))"
      ]
     },
     "execution_count": 3,
     "metadata": {},
     "output_type": "execute_result"
    }
   ],
   "source": [
    "a = np.arange(12, dtype='float32').reshape((3, 4))\n",
    "b = np.empty((4, 3), dtype='float32')\n",
    "a, b = tvm.nd.array(a), tvm.nd.array(b)\n",
    "\n",
    "mod = tvm.build(ir_mod)\n",
    "mod(a, b)\n",
    "a, b"
   ]
  },
  {
   "cell_type": "markdown",
   "metadata": {
    "origin_pos": 6
   },
   "source": [
    "## `reshape`\n",
    "\n",
    "接下来使用表达式进行索引。下面的代码块将2-D 数组 `a`（上面定义的 $n \\times m$）重构为 1-D（就像 NumPy 中的`a.reshape(-1)`）。注意如何将 1-D 索引 `i` 转换为 2-D 索引 `[i//m, i%m]`。"
   ]
  },
  {
   "cell_type": "code",
   "execution_count": 4,
   "metadata": {
    "attributes": {
     "classes": [],
     "id": "",
     "n": "28"
    },
    "origin_pos": 7,
    "tab": [
     "tvm"
    ]
   },
   "outputs": [
    {
     "data": {
      "text/plain": [
       "PrimFunc([a, b]) attrs={\"from_legacy_te_schedule\": (bool)1, \"global_symbol\": \"main\", \"tir.noalias\": (bool)1} {\n",
       "  for (i, 0, (m*n)) {\n",
       "    b[i] = a[((floordiv(i, m)*stride) + (floormod(i, m)*stride))]\n",
       "  }\n",
       "}"
      ]
     },
     "execution_count": 4,
     "metadata": {},
     "output_type": "execute_result"
    }
   ],
   "source": [
    "B = te.compute((m*n, ), lambda i: A[i//m, i%m], name='b')\n",
    "s = te.create_schedule(B.op)\n",
    "ir_mod = tvm.lower(s, [A, B], simple_mode=True)\n",
    "ir_mod['main']"
   ]
  },
  {
   "cell_type": "markdown",
   "metadata": {
    "origin_pos": 8
   },
   "source": [
    "由于 $n$-D 数组在内存中实际上是作为 1-D 数组列出的，因此生成的代码并不重新排列数据序列，而是将索引表达式从 2-D (`(i//m)*m + i%m`) 简化为 1-D (`i`)，以提高效率。\n",
    "\n",
    "也可以实现一般的二维重构函数。"
   ]
  },
  {
   "cell_type": "code",
   "execution_count": 5,
   "metadata": {
    "attributes": {
     "classes": [],
     "id": "",
     "n": "31"
    },
    "origin_pos": 9,
    "tab": [
     "tvm"
    ]
   },
   "outputs": [
    {
     "data": {
      "text/plain": [
       "PrimFunc([a, b]) attrs={\"from_legacy_te_schedule\": (bool)1, \"global_symbol\": \"main\", \"tir.noalias\": (bool)1} {\n",
       "  for (i, 0, p) {\n",
       "    for (j, 0, q) {\n",
       "      b[((i*stride) + (j*stride))] = a[((floordiv(((i*q) + j), m)*stride) + (floormod(((i*q) + j), m)*stride))]\n",
       "    }\n",
       "  }\n",
       "}"
      ]
     },
     "execution_count": 5,
     "metadata": {},
     "output_type": "execute_result"
    }
   ],
   "source": [
    "p, q = te.var('p'), te.var('q')\n",
    "B = te.compute((p, q), lambda i, j: A[(i*q+j)//m, (i*q+j)%m], name='b')\n",
    "s = te.create_schedule(B.op)\n",
    "ir_mod = tvm.lower(s, [A, B], simple_mode=True)\n",
    "ir_mod[\"main\"]"
   ]
  },
  {
   "cell_type": "markdown",
   "metadata": {
    "origin_pos": 10
   },
   "source": [
    "在测试结果时，应该意识到，没有对输出形状施加约束，它可以有任意形状 `(p, q)`，因此 TVM 将无法检查 $qp = nm$。例如，在下面的例子中，创建了 `b`，其尺寸 (20) 比 `a` (12) 大，那么 `b` 中只有前 12 个元素来自 `a` ，其他的都是未初始化的值。"
   ]
  },
  {
   "cell_type": "code",
   "execution_count": 6,
   "metadata": {
    "origin_pos": 11,
    "tab": [
     "tvm"
    ]
   },
   "outputs": [
    {
     "name": "stdout",
     "output_type": "stream",
     "text": [
      "[[ 0.0000000e+00  1.0000000e+00  2.0000000e+00  3.0000000e+00]\n",
      " [ 4.0000000e+00  5.0000000e+00  6.0000000e+00  7.0000000e+00]\n",
      " [ 8.0000000e+00  9.0000000e+00  1.0000000e+01  1.1000000e+01]\n",
      " [-2.7943063e-24  3.0936466e-41  1.5834673e-43  0.0000000e+00]\n",
      " [-2.4915414e-24  3.0936466e-41 -2.4883166e-24  3.0936466e-41]]\n"
     ]
    }
   ],
   "source": [
    "mod = tvm.build(ir_mod)\n",
    "a = np.arange(12, dtype='float32').reshape((3, 4))\n",
    "b = np.zeros((5, 4), dtype='float32')\n",
    "a, b = tvm.nd.array(a), tvm.nd.array(b)\n",
    "\n",
    "mod(a, b)\n",
    "print(b)"
   ]
  },
  {
   "cell_type": "markdown",
   "metadata": {
    "origin_pos": 12
   },
   "source": [
    "## 张量切片（te）\n",
    "\n",
    "考虑特殊的切片算子 `a[bi::si, bj::sj]`，其中 `bi`，`bj`，`si` 和 `sj` 可以稍后指定。现在需要根据参数计算输出形状。此外，需要在编译模块时将变量 `bi`，`bj`，`si` 和 `sj` 作为参数传递。"
   ]
  },
  {
   "cell_type": "code",
   "execution_count": 7,
   "metadata": {
    "origin_pos": 13,
    "tab": [
     "tvm"
    ]
   },
   "outputs": [],
   "source": [
    "bi, bj, si, sj = [te.var(name) for name in ['bi', 'bj', 'si', 'sj']]\n",
    "B = te.compute(((n-bi)//si, (m-bj)//sj),\n",
    "               lambda i, j: A[i*si+bi, j*sj+bj],\n",
    "               name='b')\n",
    "s = te.create_schedule(B.op)\n",
    "mod = tvm.build(s, [A, B, bi, si, bj, sj])"
   ]
  },
  {
   "cell_type": "markdown",
   "metadata": {
    "origin_pos": 14
   },
   "source": [
    "现在测试两个案例来验证正确性。"
   ]
  },
  {
   "cell_type": "code",
   "execution_count": 8,
   "metadata": {
    "origin_pos": 15,
    "tab": [
     "tvm"
    ]
   },
   "outputs": [],
   "source": [
    "b = tvm.nd.array(np.empty((1, 3), dtype='float32'))\n",
    "mod(a, b, 1, 2, 1, 1)\n",
    "np.testing.assert_equal(b.numpy(), a.numpy()[1::2, 1::1])\n",
    "\n",
    "b = tvm.nd.array(np.empty((1, 2), dtype='float32'))\n",
    "mod(a, b, 2, 1, 0, 2)\n",
    "np.testing.assert_equal(b.numpy(), a.numpy()[2::1, 0::2])"
   ]
  },
  {
   "cell_type": "markdown",
   "metadata": {
    "origin_pos": 16
   },
   "source": [
    "## 小结\n",
    "\n",
    "- 形状维度和索引都可以是带有变量的表达式。\n",
    "- 如果变量不仅出现在形状元组中，那么需要在编译时将其作为参数传递。"
   ]
  }
 ],
 "metadata": {
  "kernelspec": {
   "display_name": "Python 3.10.4 ('tvmx': conda)",
   "language": "python",
   "name": "python3"
  },
  "language_info": {
   "codemirror_mode": {
    "name": "ipython",
    "version": 3
   },
   "file_extension": ".py",
   "mimetype": "text/x-python",
   "name": "python",
   "nbconvert_exporter": "python",
   "pygments_lexer": "ipython3",
   "version": "3.10.4"
  },
  "vscode": {
   "interpreter": {
    "hash": "e579259ee6098e2b9319de590d145b4b096774fe457bdf04260e3ba5c171e887"
   }
  }
 },
 "nbformat": 4,
 "nbformat_minor": 4
}
