{
 "cells": [
  {
   "attachments": {},
   "cell_type": "markdown",
   "metadata": {
    "origin_pos": 0
   },
   "source": [
    "(ch_shapes)=\n",
    "# 形状\n",
    "\n",
    "在 {ref}`ch_vector_add_te` 中定义的向量加法模块只接受长度为 100 的向量。对于输入可以具有任意形状的实际场景来说，这种限制太过严格。在本节中，我们将展示如何放松这个约束来处理一般情况。\n",
    "\n",
    "## 形状变量\n",
    "\n",
    "记住，我们为张量 `A` 和 `B` 创建了符号（symbolic）占位符，这样我们以后就可以 feed 数据。我们也可以对这个形状做同样的事情。特别地，下面的代码块使用 `te.var` 来为 `int32` 标量创建符号变量（symbolic variable），其值可以稍后指定。"
   ]
  },
  {
   "cell_type": "code",
   "execution_count": 1,
   "metadata": {
    "attributes": {
     "classes": [],
     "id": "",
     "n": "1"
    },
    "origin_pos": 1,
    "tab": [
     "tvm"
    ]
   },
   "outputs": [],
   "source": [
    "from tvm_book.contrib import d2ltvm\n",
    "\n",
    "import numpy as np\n",
    "import tvm\n",
    "from tvm import te"
   ]
  },
  {
   "cell_type": "code",
   "execution_count": 2,
   "metadata": {},
   "outputs": [
    {
     "data": {
      "text/plain": [
       "(tvm.tir.expr.Var, 'int32')"
      ]
     },
     "execution_count": 2,
     "metadata": {},
     "output_type": "execute_result"
    }
   ],
   "source": [
    "n = te.var(name='n')\n",
    "type(n), n.dtype"
   ]
  },
  {
   "cell_type": "markdown",
   "metadata": {
    "origin_pos": 2
   },
   "source": [
    "可以使用 `(n,)` 为任意长度的向量创建占位符。"
   ]
  },
  {
   "cell_type": "code",
   "execution_count": 3,
   "metadata": {
    "attributes": {
     "classes": [],
     "id": "",
     "n": "3"
    },
    "origin_pos": 3,
    "tab": [
     "tvm"
    ]
   },
   "outputs": [
    {
     "data": {
      "text/plain": [
       "PrimFunc([a, b, c]) attrs={\"from_legacy_te_schedule\": (bool)1, \"global_symbol\": \"main\", \"tir.noalias\": (bool)1} {\n",
       "  for (i, 0, n) {\n",
       "    c[(i*stride)] = (a[(i*stride)] + b[(i*stride)])\n",
       "  }\n",
       "}"
      ]
     },
     "execution_count": 3,
     "metadata": {},
     "output_type": "execute_result"
    }
   ],
   "source": [
    "A = te.placeholder((n,), name='a')\n",
    "B = te.placeholder((n,), name='b')\n",
    "C = te.compute(A.shape, lambda i: A[i] + B[i], name='c')\n",
    "s = te.create_schedule(C.op)\n",
    "m = tvm.lower(s, [A, B, C], simple_mode=True)\n",
    "m[\"main\"]"
   ]
  },
  {
   "attachments": {},
   "cell_type": "markdown",
   "metadata": {
    "origin_pos": 4
   },
   "source": [
    "与 {ref}`ch_vector_add_te` 中生成的伪代码相比，可以看到 for 循环的上限值从 100 变为了 `n`。\n",
    "\n",
    "现在，我们像之前一样定义类似的测试函数，以验证编译后的模块能够正确地在不同长度的输入向量上执行。"
   ]
  },
  {
   "cell_type": "code",
   "execution_count": 4,
   "metadata": {
    "attributes": {
     "classes": [],
     "id": "",
     "n": "4"
    },
    "origin_pos": 5,
    "tab": [
     "tvm"
    ]
   },
   "outputs": [
    {
     "name": "stdout",
     "output_type": "stream",
     "text": [
      "c.shape: (5,)\n",
      "c.shape: (1000,)\n"
     ]
    }
   ],
   "source": [
    "def test_mod(mod, n):\n",
    "    a, b, c = d2ltvm.get_abc(n, tvm.nd.array)\n",
    "    mod(a, b, c)\n",
    "    print('c.shape:', c.shape)\n",
    "    np.testing.assert_equal(c.numpy(), a.numpy() + b.numpy())\n",
    "\n",
    "mod = tvm.build(m)\n",
    "test_mod(mod, 5)\n",
    "test_mod(mod, 1000)"
   ]
  },
  {
   "cell_type": "markdown",
   "metadata": {},
   "source": [
    "但请注意，我们仍然设置了约束条件，即 `A`、`B` 和 `C` 必须处于相同的形状。因此，如果不满足，就会出现错误。\n",
    "\n",
    "## 多维的形状\n",
    "\n",
    "您可能已经注意到形状是以元组的形式呈现的。单个元素元组意味着一维张量，或者向量。我们可以通过在形状元组中添加变量将其扩展到多维张量。\n",
    "\n",
    "下面的方法构建了用于多维张量加法的模块，维数由 `ndim` 指定。对于二维张量，可以通过 `A[i,j]` 来访问它的元素，类似地，对于三维张量，可以通过 `A[i,j,k]` 来访问它的元素。注意，在下面的代码中，使用 `*i` 来处理一般的多维情况。"
   ]
  },
  {
   "cell_type": "code",
   "execution_count": 5,
   "metadata": {
    "attributes": {
     "classes": [],
     "id": "",
     "n": "5"
    },
    "origin_pos": 7,
    "tab": [
     "tvm"
    ]
   },
   "outputs": [],
   "source": [
    "def tvm_vector_add(ndim):\n",
    "    A = te.placeholder([te.var() for _ in range(ndim)])\n",
    "    B = te.placeholder(A.shape)\n",
    "    C = te.compute(A.shape, lambda *i: A[i] + B[i])\n",
    "    s = te.create_schedule(C.op)\n",
    "    m = tvm.lower(s, [A, B, C])\n",
    "    return tvm.build(m)"
   ]
  },
  {
   "cell_type": "markdown",
   "metadata": {
    "origin_pos": 8
   },
   "source": [
    "验证它是否适用于向量以外的情况。"
   ]
  },
  {
   "cell_type": "code",
   "execution_count": 6,
   "metadata": {
    "origin_pos": 9,
    "tab": [
     "tvm"
    ]
   },
   "outputs": [
    {
     "name": "stdout",
     "output_type": "stream",
     "text": [
      "c.shape: (2, 2)\n",
      "c.shape: (2, 3, 4, 5)\n"
     ]
    }
   ],
   "source": [
    "mod = tvm_vector_add(2)\n",
    "test_mod(mod, (2, 2))\n",
    "\n",
    "mod = tvm_vector_add(4)\n",
    "test_mod(mod, (2, 3, 4, 5))"
   ]
  },
  {
   "cell_type": "markdown",
   "metadata": {
    "origin_pos": 10
   },
   "source": [
    "## 小结\n",
    "\n",
    "- 当在执行前不知道具体的数据形状时，可以使用 `te.var()` 来指定形状的维数。\n",
    "- $n$ 维张量的形状被表示为 $n$ 长度的元组。"
   ]
  }
 ],
 "metadata": {
  "kernelspec": {
   "display_name": "ai",
   "language": "python",
   "name": "python3"
  },
  "language_info": {
   "codemirror_mode": {
    "name": "ipython",
    "version": 3
   },
   "file_extension": ".py",
   "mimetype": "text/x-python",
   "name": "python",
   "nbconvert_exporter": "python",
   "pygments_lexer": "ipython3",
   "version": "3.10.8 (main, Nov 24 2022, 14:13:03) [GCC 11.2.0]"
  },
  "vscode": {
   "interpreter": {
    "hash": "d0d307675f12182d62ca143bf4e5db321e57c24ab1edf40ce60a9751b29adda0"
   }
  }
 },
 "nbformat": 4,
 "nbformat_minor": 4
}
