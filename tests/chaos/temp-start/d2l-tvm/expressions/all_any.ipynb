{
 "cells": [
  {
   "cell_type": "markdown",
   "metadata": {
    "origin_pos": 0
   },
   "source": [
    "(ch_all_any)=\n",
    "# 真值测试：`all` 和 `any`\n",
    "\n",
    "在 Python 中，可以使用 `all` 和 `any` 来获取值列表的布尔值返回值。`all` 返回逻辑 `and` 结果，而 `any` 返回逻辑 `or` 结果。"
   ]
  },
  {
   "cell_type": "code",
   "execution_count": 1,
   "metadata": {
    "origin_pos": 1,
    "tab": [
     "tvm"
    ]
   },
   "outputs": [
    {
     "data": {
      "text/plain": [
       "(True, False)"
      ]
     },
     "execution_count": 1,
     "metadata": {},
     "output_type": "execute_result"
    }
   ],
   "source": [
    "import numpy as np\n",
    "import tvm\n",
    "from tvm import te\n",
    "\n",
    "any((0, 1, 2)), all((0, 1, 2))"
   ]
  },
  {
   "cell_type": "markdown",
   "metadata": {
    "origin_pos": 2
   },
   "source": [
    "TVM提供类似的 `te.all` 和 `te.any`，这对于构造 `te.if_then_else` 的复杂条件表达式很有用。\n",
    "\n",
    "将使用的例子是用 0 填充矩阵 `a`。"
   ]
  },
  {
   "cell_type": "code",
   "execution_count": 2,
   "metadata": {
    "attributes": {
     "classes": [],
     "id": "",
     "n": "3"
    },
    "origin_pos": 3,
    "tab": [
     "tvm"
    ]
   },
   "outputs": [
    {
     "name": "stdout",
     "output_type": "stream",
     "text": [
      "[[0. 0. 0. 0. 0. 0.]\n",
      " [0. 1. 1. 1. 1. 0.]\n",
      " [0. 1. 1. 1. 1. 0.]\n",
      " [0. 1. 1. 1. 1. 0.]\n",
      " [0. 0. 0. 0. 0. 0.]]\n"
     ]
    }
   ],
   "source": [
    "a = np.ones((3, 4), dtype='float32')\n",
    "# applying a zero padding of size 1 to a\n",
    "b = np.zeros((5, 6), dtype='float32')\n",
    "b[1:-1,1:-1] = a\n",
    "print(b)"
   ]
  },
  {
   "cell_type": "markdown",
   "metadata": {
    "origin_pos": 4
   },
   "source": [
    "在 TVM 中实现它。注意，将这四个条件值传递给 `tvm.any`。"
   ]
  },
  {
   "cell_type": "code",
   "execution_count": 3,
   "metadata": {
    "origin_pos": 5,
    "tab": [
     "tvm"
    ]
   },
   "outputs": [],
   "source": [
    "p = 1 # padding size\n",
    "n, m = te.var('n'), te.var('m')\n",
    "A = te.placeholder((n, m), name='a')\n",
    "B = te.compute((n+p*2, m+p*2),\n",
    "                lambda i, j: te.if_then_else(\n",
    "                    te.any(i<p, i>=n+p, j<p, j>=m+p), 0, A[i-p, j-p]),\n",
    "                name='b')"
   ]
  },
  {
   "cell_type": "markdown",
   "metadata": {
    "origin_pos": 6
   },
   "source": [
    "验证结果。"
   ]
  },
  {
   "cell_type": "code",
   "execution_count": 4,
   "metadata": {
    "origin_pos": 7,
    "tab": [
     "tvm"
    ]
   },
   "outputs": [
    {
     "name": "stdout",
     "output_type": "stream",
     "text": [
      "[[0. 0. 0. 0. 0. 0.]\n",
      " [0. 1. 1. 1. 1. 0.]\n",
      " [0. 1. 1. 1. 1. 0.]\n",
      " [0. 1. 1. 1. 1. 0.]\n",
      " [0. 0. 0. 0. 0. 0.]]\n"
     ]
    }
   ],
   "source": [
    "s = te.create_schedule(B.op)\n",
    "ir_mod = tvm.lower(s, [A, B])\n",
    "mod = tvm.build(ir_mod)\n",
    "c = tvm.nd.array(np.empty_like(b))\n",
    "mod(tvm.nd.array(a), c)\n",
    "print(c)"
   ]
  },
  {
   "cell_type": "code",
   "execution_count": 5,
   "metadata": {},
   "outputs": [
    {
     "data": {
      "text/plain": [
       "PrimFunc([a, b]) attrs={\"from_legacy_te_schedule\": (bool)1, \"global_symbol\": \"main\", \"tir.noalias\": (bool)1} {\n",
       "  for (i, 0, (n + 2)) {\n",
       "    for (j, 0, (m + 2)) {\n",
       "      b[((i*(m + 2)) + j)] = tir.if_then_else(((((i < 1) || ((n + 1) <= i)) || (j < 1)) || ((m + 1) <= j)), 0f, a[(((i - 1)*stride) + ((j - 1)*stride))])\n",
       "    }\n",
       "  }\n",
       "}"
      ]
     },
     "execution_count": 5,
     "metadata": {},
     "output_type": "execute_result"
    }
   ],
   "source": [
    "ir_mod[\"main\"]"
   ]
  },
  {
   "cell_type": "markdown",
   "metadata": {
    "origin_pos": 8
   },
   "source": [
    "## 小结\n",
    "\n",
    "- 可以用 {func}`tvm.te.any` 和 {func}`tvm.te.all` 来构造复杂的条件表达式。"
   ]
  }
 ],
 "metadata": {
  "interpreter": {
   "hash": "113215d72022e03bdca1057c7933c75a3969a189b0b522e71371adf999f86f27"
  },
  "kernelspec": {
   "display_name": "Python 3.10.4 ('py310': conda)",
   "language": "python",
   "name": "python3"
  },
  "language_info": {
   "codemirror_mode": {
    "name": "ipython",
    "version": 3
   },
   "file_extension": ".py",
   "mimetype": "text/x-python",
   "name": "python",
   "nbconvert_exporter": "python",
   "pygments_lexer": "ipython3",
   "version": "3.10.4"
  }
 },
 "nbformat": 4,
 "nbformat_minor": 4
}
