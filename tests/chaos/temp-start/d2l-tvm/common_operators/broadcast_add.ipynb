{
 "cells": [
  {
   "cell_type": "markdown",
   "metadata": {
    "origin_pos": 0
   },
   "source": [
    "(ch_bcast_add)=\n",
    "# 广播加法(`te`)\n",
    "\n",
    "广播算子处理两个不同形状的张量。通常，其中一个操作数的特定维度为 1，该维度将沿着另一个算子的相应维度广播，以执行给定的计算。普通标量计算都可以广播，如基本算术和逻辑运算。{ref}`fig_bcast_add` 说明了两个二维张量之间的广播加法案例。Broadcast 算子在深度学习工作负载（workload）中很常见，如 [batch normalization](http://d2l.ai/chapter_convolutional-modern/batch-norm.html)。\n",
    "\n",
    "(fig_bcast_add)=\n",
    "```{figure} ../img/bcast_add.svg\n",
    "二维张量间广播相加的一种情况\n",
    "```\n",
    "\n",
    "在本节中，将演示如何在两个二维张量之间进行广播相加。下面的代码定义了计算。"
   ]
  },
  {
   "cell_type": "code",
   "execution_count": 1,
   "metadata": {
    "attributes": {
     "classes": [],
     "id": "",
     "n": "1"
    },
    "origin_pos": 1,
    "tab": [
     "tvm"
    ]
   },
   "outputs": [],
   "source": [
    "import numpy as np\n",
    "import tvm\n",
    "from tvm import te\n",
    "\n",
    "# Save to the d2ltvm package.\n",
    "def broadcast_add(shape1, shape2):\n",
    "    \"\"\"Broadcast add between two 2-dimensional tensors\n",
    "\n",
    "    shape1, shape2 : the shapes of the input tensors\n",
    "    \"\"\"\n",
    "    assert len(shape1) == 2 and len(shape2) == 2, \\\n",
    "        \"broadcast tensors should both be 2-dimension\"\n",
    "    for i in range(len(shape1)):\n",
    "        assert shape1[i] == shape2[i] or shape1[i] == 1 or shape2[i] == 1, \\\n",
    "            \"tensor shapes do not fit for broadcasting\"\n",
    "    A = te.placeholder(shape1, name='A')\n",
    "    B = te.placeholder(shape2, name='B')\n",
    "    m = shape1[0] if shape2[0] == 1 else shape2[0]\n",
    "    n = shape1[1] if shape2[1] == 1 else shape2[1]\n",
    "    f = lambda x, y: A[0 if shape1[0]==1 else x, 0 if shape1[1]==1 else y] + \\\n",
    "        B[0 if shape2[0]==1 else x, 0 if shape2[1]==1 else y]\n",
    "    C = te.compute((m, n), f, name='C')\n",
    "    return A, B, C"
   ]
  },
  {
   "cell_type": "markdown",
   "metadata": {
    "origin_pos": 2
   },
   "source": [
    "然后使用它来执行广播加法："
   ]
  },
  {
   "cell_type": "code",
   "execution_count": 5,
   "metadata": {
    "attributes": {
     "classes": [],
     "id": "",
     "n": "2"
    },
    "origin_pos": 3,
    "tab": [
     "tvm"
    ]
   },
   "outputs": [
    {
     "data": {
      "text/plain": [
       "PrimFunc([A, B]) attrs={\"from_legacy_te_schedule\": (bool)1, \"global_symbol\": \"main\", \"tir.noalias\": (bool)1} {\n",
       "  allocate C[float32 * 12], storage_scope = global\n",
       "  for (x, 0, 3) {\n",
       "    for (y, 0, 4) {\n",
       "      let cse_var_1 = ((x*4) + y)\n",
       "      C[cse_var_1] = (A[x] + B[cse_var_1])\n",
       "    }\n",
       "  }\n",
       "}"
      ]
     },
     "execution_count": 5,
     "metadata": {},
     "output_type": "execute_result"
    }
   ],
   "source": [
    "m = 3\n",
    "n = 4\n",
    "shape1 = (m, 1)\n",
    "shape2 = (m, n)\n",
    "A, B, C = broadcast_add(shape1, shape2)\n",
    "s = te.create_schedule(C.op)\n",
    "m = tvm.lower(s, [A, B], simple_mode=True)\n",
    "mod = tvm.build(m)\n",
    "m[\"main\"]"
   ]
  },
  {
   "cell_type": "markdown",
   "metadata": {
    "origin_pos": 4
   },
   "source": [
    "打印的伪代码清楚地描述了广播相加的过程。验证结果如下。"
   ]
  },
  {
   "cell_type": "code",
   "execution_count": 3,
   "metadata": {
    "attributes": {
     "classes": [],
     "id": "",
     "n": "3"
    },
    "origin_pos": 5,
    "tab": [
     "tvm"
    ]
   },
   "outputs": [],
   "source": [
    "# Save to the d2ltvm package.\n",
    "def get_bcast_data(shape1, shape2, constructor=None):\n",
    "    \"\"\"Return random tensors a, b \n",
    "    and empty tensor c to store broadcast results between a and b\n",
    "\n",
    "    shape1, shape2: shapes of input tensors\n",
    "    constructor : user-defined tensor constructor\n",
    "    \"\"\"\n",
    "    np.random.seed(0)\n",
    "    a = np.random.normal(size=shape1).astype(\"float32\")\n",
    "    b = np.random.normal(size=shape2).astype(\"float32\")\n",
    "    out_shape = (shape1[0] if shape2[0] == 1 else shape2[0], \n",
    "                 shape1[1] if shape2[1] == 1 else shape2[1])\n",
    "    c = np.empty(out_shape, dtype='float32')\n",
    "    if constructor:\n",
    "        a, b, c = [constructor(x) for x in (a, b, c)]\n",
    "    return a, b, c\n",
    "a, b, c = get_bcast_data(shape1, shape2, tvm.nd.array)\n",
    "mod(a, b, c)\n",
    "np.testing.assert_allclose(np.add(a.asnumpy(), b.asnumpy()), c.asnumpy(), atol=1e-5)"
   ]
  },
  {
   "cell_type": "markdown",
   "metadata": {
    "origin_pos": 6
   },
   "source": [
    "注意，广播是允许沿着多个维度执行的。"
   ]
  },
  {
   "cell_type": "code",
   "execution_count": 4,
   "metadata": {
    "attributes": {
     "classes": [],
     "id": "",
     "n": "4"
    },
    "origin_pos": 7,
    "tab": [
     "tvm"
    ]
   },
   "outputs": [
    {
     "name": "stdout",
     "output_type": "stream",
     "text": [
      "(3, 1) (1, 4) (3, 4)\n"
     ]
    }
   ],
   "source": [
    "shape1 = (m, 1)\n",
    "shape2 = (1, n)\n",
    "A, B, C = broadcast_add(shape1, shape2)\n",
    "s = te.create_schedule(C.op)\n",
    "mod = tvm.build(s, [A, B, C])\n",
    "a, b, c = get_bcast_data(shape1, shape2, tvm.nd.array)\n",
    "mod(a, b, c)\n",
    "np.testing.assert_allclose(np.add(a.asnumpy(), b.asnumpy()), c.asnumpy(), atol=1e-5)\n",
    "print(a.shape, b.shape, c.shape)"
   ]
  },
  {
   "cell_type": "markdown",
   "metadata": {
    "origin_pos": 8
   },
   "source": [
    "最后，很容易注意到，当两个输入张量的形状相同时，广播相加归约为元素级相加。\n",
    "\n",
    "## 小结\n",
    "\n",
    "- 可以在 TVM 中定义广播算子。\n",
    "- 广播可以沿着多个维度进行。"
   ]
  }
 ],
 "metadata": {
  "kernelspec": {
   "display_name": "Python 3.10.4 ('tvmx': conda)",
   "language": "python",
   "name": "python3"
  },
  "language_info": {
   "codemirror_mode": {
    "name": "ipython",
    "version": 3
   },
   "file_extension": ".py",
   "mimetype": "text/x-python",
   "name": "python",
   "nbconvert_exporter": "python",
   "pygments_lexer": "ipython3",
   "version": "3.10.4"
  },
  "vscode": {
   "interpreter": {
    "hash": "e579259ee6098e2b9319de590d145b4b096774fe457bdf04260e3ba5c171e887"
   }
  }
 },
 "nbformat": 4,
 "nbformat_minor": 4
}
