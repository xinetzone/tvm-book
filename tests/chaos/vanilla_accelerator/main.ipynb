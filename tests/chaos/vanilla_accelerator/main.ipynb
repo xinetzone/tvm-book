{
 "cells": [
  {
   "cell_type": "markdown",
   "metadata": {},
   "source": [
    "# 测试"
   ]
  },
  {
   "cell_type": "code",
   "execution_count": 1,
   "metadata": {},
   "outputs": [],
   "source": [
    "import set_env"
   ]
  },
  {
   "cell_type": "code",
   "execution_count": null,
   "metadata": {},
   "outputs": [],
   "source": [
    "from tvm.micro.testing.aot_test_utils import AOT_DEFAULT_RUNNER\n",
    "import tvm\n",
    "from tvm import relay\n",
    "from backend import VanillaAcceleratorBackend\n",
    "from collections import OrderedDict\n",
    "import numpy as np\n",
    "\n",
    "\n",
    "from tvm.testing.aot import (\n",
    "    AOTTestModel as AOTModel,\n",
    "    AOTTestRunner as AOTRunner,\n",
    "    generate_ref_data,\n",
    "    compile_and_run,\n",
    ")\n",
    "\n",
    "\n",
    "def create_conv2d(groups=1, runner=AOT_DEFAULT_RUNNER, weight_shape=32):\n",
    "    dtype = \"float32\"\n",
    "    ishape = (1, 32, 14, 14)\n",
    "    wshape = (32, weight_shape, 3, 3)\n",
    "    pass_config = {\"tir.usmp.enable\": True}\n",
    "    runner = AOTRunner(\n",
    "        makefile=runner.makefile,\n",
    "        prologue=runner.prologue,\n",
    "        epilogue=runner.epilogue,\n",
    "        includes=runner.includes,\n",
    "        parameters=runner.parameters,\n",
    "        pass_config=pass_config,\n",
    "    )\n",
    "    data0 = relay.var(\"data\", shape=ishape, dtype=dtype)\n",
    "    weight0 = relay.var(\"weight\", shape=wshape, dtype=dtype)\n",
    "    out = relay.nn.conv2d(data0, weight0, kernel_size=(3, 3), padding=(1, 1), groups=groups)\n",
    "    main_f = relay.Function([data0, weight0], out)\n",
    "    mod = tvm.IRModule()\n",
    "    mod[\"main\"] = main_f\n",
    "    mod = relay.transform.InferType()(mod)\n",
    "    i_data = np.random.uniform(0, 1, ishape).astype(dtype)\n",
    "    w1_data = np.random.uniform(0, 1, wshape).astype(dtype)\n",
    "    inputs = OrderedDict([(\"data\", i_data), (\"weight\", w1_data)])\n",
    "    output_list = generate_ref_data(mod, inputs)\n",
    "    return mod, inputs, output_list, runner"
   ]
  },
  {
   "cell_type": "code",
   "execution_count": 2,
   "metadata": {},
   "outputs": [
    {
     "name": "stderr",
     "output_type": "stream",
     "text": [
      "One or more operators have not been tuned. Please tune your model for better performance. Use DEBUG logging level to see more details.\n"
     ]
    },
    {
     "name": "stdout",
     "output_type": "stream",
     "text": [
      "Generated files are in /tmp/tvm-debug-mode-tempdirs/2023-10-07T17-06-12___mqkeh54a/00000\n"
     ]
    },
    {
     "name": "stderr",
     "output_type": "stream",
     "text": [
      "conv2d is not optimized for this platform.\n"
     ]
    },
    {
     "data": {
      "text/plain": [
       "True"
      ]
     },
     "execution_count": 2,
     "metadata": {},
     "output_type": "execute_result"
    }
   ],
   "source": [
    "mod, inputs, output_list, runner = create_conv2d()\n",
    "\n",
    "uma_backend = VanillaAcceleratorBackend()\n",
    "uma_backend.register()\n",
    "mod = uma_backend.partition(mod)\n",
    "target = tvm.target.Target(\"vanilla_accelerator\", host=tvm.target.Target(\"c\"))\n",
    "\n",
    "export_directory = tvm.contrib.utils.tempdir(keep_for_debug=True).path\n",
    "print(f\"Generated files are in {export_directory}\")\n",
    "compile_and_run(\n",
    "    AOTModel(module=mod, inputs=inputs, outputs=output_list),\n",
    "    runner,\n",
    "    interface_api=\"c\",\n",
    "    use_unpacked_api=True,\n",
    "    target=target,\n",
    "    test_dir=str(export_directory),\n",
    ")\n"
   ]
  },
  {
   "cell_type": "code",
   "execution_count": null,
   "metadata": {},
   "outputs": [],
   "source": []
  }
 ],
 "metadata": {
  "kernelspec": {
   "display_name": "tvmz",
   "language": "python",
   "name": "python3"
  },
  "language_info": {
   "codemirror_mode": {
    "name": "ipython",
    "version": 3
   },
   "file_extension": ".py",
   "mimetype": "text/x-python",
   "name": "python",
   "nbconvert_exporter": "python",
   "pygments_lexer": "ipython3",
   "version": "3.10.12"
  }
 },
 "nbformat": 4,
 "nbformat_minor": 2
}
