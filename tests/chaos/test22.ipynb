{
 "cells": [
  {
   "cell_type": "markdown",
   "metadata": {},
   "source": [
    "# 测试"
   ]
  },
  {
   "cell_type": "code",
   "execution_count": null,
   "metadata": {},
   "outputs": [],
   "source": [
    "import tvm"
   ]
  },
  {
   "cell_type": "code",
   "execution_count": null,
   "metadata": {},
   "outputs": [],
   "source": [
    "import numpy as np\n",
    "from IPython.display import display_svg\n",
    "from tvm import te, build, lower\n",
    "from tvm_book.testing.relay.viz import graphviz_relay\n",
    "from tvm.contrib import tedd"
   ]
  },
  {
   "cell_type": "code",
   "execution_count": null,
   "metadata": {},
   "outputs": [],
   "source": [
    "A = te.placeholder((1,), name=\"A\")\n",
    "B = te.placeholder((1,), name=\"B\")\n",
    "C = te.compute(A.shape, lambda i: A[i] + B[i], name=\"C\")\n",
    "sch = te.create_schedule(C.op)\n",
    "ir_mod = lower(sch, [A, B, C], name=\"test_add\")\n",
    "rt_mod = build(ir_mod, target=\"llvm\")\n",
    "func = te.create_prim_func([A, B, C])\n",
    "print(func.script())"
   ]
  },
  {
   "cell_type": "code",
   "execution_count": null,
   "metadata": {},
   "outputs": [],
   "source": [
    "graph = tedd.viz_dataflow_graph(sch, show_svg=True)\n",
    "display_svg(graph)"
   ]
  },
  {
   "cell_type": "code",
   "execution_count": null,
   "metadata": {},
   "outputs": [],
   "source": [
    "sch = sch.normalize()\n",
    "tree = tedd.viz_schedule_tree(sch, show_svg=True)\n",
    "\n",
    "# tedd.viz_schedule_tree(s, dot_file_path=\"/tmp/scheduletree.dot\")\n",
    "display_svg(tree)"
   ]
  },
  {
   "cell_type": "code",
   "execution_count": null,
   "metadata": {},
   "outputs": [],
   "source": [
    "from graphviz import Source\n",
    "# tedd.viz_itervar_relationship_graph(s, dot_file_path=\"/tmp/itervar.dot\")\n",
    "dot_string = tedd.viz_itervar_relationship_graph(sch, output_dot_string=True)\n",
    "src = Source(dot_string)\n",
    "display_svg(src)"
   ]
  },
  {
   "cell_type": "markdown",
   "metadata": {},
   "source": [
    "## `te.scan`"
   ]
  },
  {
   "cell_type": "code",
   "execution_count": null,
   "metadata": {},
   "outputs": [],
   "source": [
    "m = te.var(\"m\")\n",
    "n = te.var(\"n\")\n",
    "X = te.placeholder((m, n), name=\"X\")\n",
    "s_state = te.placeholder((m, n))\n",
    "s_init = te.compute((1, n), lambda _, i: X[0, i])\n",
    "s_update = te.compute((m, n), lambda t, i: s_state[t-1, i] + X[t, i])\n",
    "res = te.scan(s_init, s_update, s_state, X)\n",
    "sch = te.create_schedule(res.op)\n",
    "sch = sch.normalize() # 类型和 shape 推断"
   ]
  },
  {
   "cell_type": "code",
   "execution_count": null,
   "metadata": {},
   "outputs": [],
   "source": [
    "from graphviz import Source\n",
    "# tedd.viz_itervar_relationship_graph(s, dot_file_path=\"/tmp/itervar.dot\")\n",
    "dot_string = tedd.viz_itervar_relationship_graph(sch, output_dot_string=True)\n",
    "src = Source(dot_string)\n",
    "display_svg(src)"
   ]
  },
  {
   "cell_type": "code",
   "execution_count": null,
   "metadata": {},
   "outputs": [],
   "source": [
    "tree = tedd.viz_schedule_tree(sch, show_svg=True)\n",
    "\n",
    "# tedd.viz_schedule_tree(s, dot_file_path=\"/tmp/scheduletree.dot\")\n",
    "display_svg(tree)"
   ]
  },
  {
   "cell_type": "code",
   "execution_count": null,
   "metadata": {},
   "outputs": [],
   "source": [
    "graph = tedd.viz_dataflow_graph(sch, show_svg=True)\n",
    "display_svg(graph)"
   ]
  },
  {
   "cell_type": "markdown",
   "metadata": {},
   "source": [
    "## 向量加法"
   ]
  },
  {
   "cell_type": "code",
   "execution_count": null,
   "metadata": {},
   "outputs": [],
   "source": [
    "from tvm_book.contrib.d2ltvm import get_abc"
   ]
  },
  {
   "cell_type": "code",
   "execution_count": null,
   "metadata": {},
   "outputs": [],
   "source": [
    "a, b, c = get_abc(shape=(1,))"
   ]
  },
  {
   "cell_type": "code",
   "execution_count": null,
   "metadata": {},
   "outputs": [],
   "source": [
    "def vector_add(a, b, c):\n",
    "    n = len(a)\n",
    "    for i in range(n):\n",
    "        c[i] = a[i] + b[i]"
   ]
  },
  {
   "cell_type": "code",
   "execution_count": null,
   "metadata": {},
   "outputs": [],
   "source": [
    "vector_add(a, b, c)"
   ]
  },
  {
   "cell_type": "code",
   "execution_count": null,
   "metadata": {},
   "outputs": [],
   "source": [
    "from tvm.runtime import load_module"
   ]
  },
  {
   "cell_type": "code",
   "execution_count": null,
   "metadata": {},
   "outputs": [],
   "source": [
    "mod_fname = \"add.tar\"\n",
    "rt_mod.export_library(mod_fname) # 保存\n",
    "loaded_mod = load_module(mod_fname) # 加载"
   ]
  },
  {
   "cell_type": "markdown",
   "metadata": {},
   "source": [
    "## 神经网络"
   ]
  },
  {
   "cell_type": "code",
   "execution_count": 1,
   "metadata": {},
   "outputs": [
    {
     "name": "stderr",
     "output_type": "stream",
     "text": [
      "2023-06-17 14:48:41.952203: I tensorflow/tsl/cuda/cudart_stub.cc:28] Could not find cuda drivers on your machine, GPU will not be used.\n",
      "2023-06-17 14:48:42.012931: I tensorflow/tsl/cuda/cudart_stub.cc:28] Could not find cuda drivers on your machine, GPU will not be used.\n",
      "2023-06-17 14:48:42.019192: I tensorflow/core/platform/cpu_feature_guard.cc:182] This TensorFlow binary is optimized to use available CPU instructions in performance-critical operations.\n",
      "To enable the following instructions: AVX2 FMA, in other operations, rebuild TensorFlow with the appropriate compiler flags.\n",
      "2023-06-17 14:48:42.952345: W tensorflow/compiler/tf2tensorrt/utils/py_utils.cc:38] TF-TRT Warning: Could not find TensorRT\n"
     ]
    }
   ],
   "source": [
    "import tensorflow as tf"
   ]
  },
  {
   "cell_type": "code",
   "execution_count": null,
   "metadata": {},
   "outputs": [],
   "source": [
    "tf.test.is_gpu_available()"
   ]
  }
 ],
 "metadata": {
  "kernelspec": {
   "display_name": "Python 3.10.4 ('mxnetx')",
   "language": "python",
   "name": "python3"
  },
  "language_info": {
   "codemirror_mode": {
    "name": "ipython",
    "version": 3
   },
   "file_extension": ".py",
   "mimetype": "text/x-python",
   "name": "python",
   "nbconvert_exporter": "python",
   "pygments_lexer": "ipython3",
   "version": "3.10.11"
  },
  "orig_nbformat": 4,
  "vscode": {
   "interpreter": {
    "hash": "aa67ff675248b5ab29dcd2f00c1422844307085c8ca7c8ce7eddecd21b9c2975"
   }
  }
 },
 "nbformat": 4,
 "nbformat_minor": 2
}
