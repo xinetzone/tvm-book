{
 "cells": [
  {
   "cell_type": "markdown",
   "metadata": {},
   "source": [
    "# VM"
   ]
  },
  {
   "cell_type": "code",
   "execution_count": null,
   "metadata": {},
   "outputs": [],
   "source": [
    "import numpy as np\n",
    "\n",
    "import tvm\n",
    "from tvm.ir import IRModule\n",
    "from tvm.runtime import vm as _vm\n",
    "from tvm.relay import vm as rly_vm\n",
    "from tvm import relay\n",
    "\n",
    "from tvm.relay import transform\n",
    "from tvm.relay.prelude import Prelude\n",
    "from tvm.contrib import utils\n",
    "from tvm.relay import testing\n",
    "\n",
    "\n",
    "def create_exec(f, target=\"llvm\", params=None):\n",
    "    if isinstance(f, relay.Expr):\n",
    "        mod = IRModule()\n",
    "        mod[\"main\"] = f\n",
    "        executable = rly_vm.compile(mod, target=target, params=params)\n",
    "        return executable\n",
    "    else:\n",
    "        assert isinstance(f, IRModule), \"expected mod as tvm.IRModule\"\n",
    "        executable = rly_vm.compile(f, target=target, params=params)\n",
    "        return executable\n",
    "\n",
    "\n",
    "def get_serialized_output(mod, *data, params=None, target=\"llvm\", device=tvm.cpu()):\n",
    "    exe = create_exec(mod, target, params=params)\n",
    "    code, lib = exe.save()\n",
    "    des_exec = _vm.Executable.load_exec(code, lib)\n",
    "    des_vm = _vm.VirtualMachine(des_exec, device)\n",
    "    result = des_vm.run(*data)\n",
    "    return result\n",
    "\n",
    "def run_network(mod, params, dtype=\"float32\"):\n",
    "    def get_vm_output(mod, data, params, target, device, dtype=\"float32\"):\n",
    "        result = relay.create_executor(\"vm\", mod=mod, device=device).evaluate()(data, **params)\n",
    "        return result.numpy().astype(dtype)\n",
    "\n",
    "    data_shape = [int(x) for x in mod[\"main\"].checked_type.arg_types[0].shape]\n",
    "    data = np.random.uniform(size=data_shape).astype(dtype)\n",
    "    target = \"llvm\"\n",
    "    dev = tvm.cpu(0)\n",
    "\n",
    "    tvm_out = get_vm_output(mod, tvm.nd.array(data.astype(dtype)), params, target, dev, dtype)\n",
    "    vm_out = get_serialized_output(\n",
    "        mod, tvm.nd.array(data.astype(dtype)), params=params, target=target, device=dev\n",
    "    )\n",
    "    tvm.testing.assert_allclose(vm_out.numpy().astype(dtype), tvm_out, rtol=1e-5, atol=1e-5)"
   ]
  },
  {
   "cell_type": "code",
   "execution_count": 13,
   "metadata": {},
   "outputs": [],
   "source": [
    "mod = IRModule()\n",
    "a = relay.const(1.0, \"float32\")\n",
    "x = relay.var(\"x\", shape=(10, 10), dtype=\"float32\")\n",
    "f1 = relay.Function([x], x + a)\n",
    "glb_f1 = relay.GlobalVar(\"f1\")\n",
    "mod[glb_f1] = f1\n",
    "\n",
    "# TODO(@jroesch): look into optimizing away the need to do this\n",
    "mod = transform.InferType()(mod)\n",
    "\n",
    "b = relay.const(2.0, \"float32\")\n",
    "y = relay.var(\"y\", shape=(10, 10), dtype=\"float32\")\n",
    "f2 = relay.Function([y], y - b)\n",
    "glb_f2 = relay.GlobalVar(\"f2\")\n",
    "mod[glb_f2] = f2\n",
    "\n",
    "# TODO(@jroesch): look into optimizing away the need to do this\n",
    "mod = transform.InferType()(mod)\n",
    "\n",
    "x1 = relay.var(\"x1\", shape=(10, 10), dtype=\"float32\")\n",
    "y1 = relay.var(\"y1\", shape=(10, 10), dtype=\"float32\")\n",
    "main = relay.Function([x1, y1], glb_f1(x1) * glb_f2(y1))\n",
    "mod[\"main\"] = main\n",
    "\n",
    "exe = create_exec(mod)\n",
    "glbs = exe.globals\n",
    "prim_ops = exe.primitive_ops\n",
    "code = exe.bytecode"
   ]
  },
  {
   "cell_type": "code",
   "execution_count": 10,
   "metadata": {},
   "outputs": [
    {
     "data": {
      "text/plain": [
       "['f1', 'main', 'f2']"
      ]
     },
     "execution_count": 10,
     "metadata": {},
     "output_type": "execute_result"
    }
   ],
   "source": [
    "glbs"
   ]
  },
  {
   "cell_type": "code",
   "execution_count": 12,
   "metadata": {},
   "outputs": [
    {
     "data": {
      "text/plain": [
       "['vm_mod_fused_multiply', 'vm_mod_fused_subtract', 'vm_mod_fused_add']"
      ]
     },
     "execution_count": 12,
     "metadata": {},
     "output_type": "execute_result"
    }
   ],
   "source": [
    "prim_ops"
   ]
  },
  {
   "cell_type": "code",
   "execution_count": 16,
   "metadata": {},
   "outputs": [],
   "source": [
    "code, lib = exe.save()"
   ]
  },
  {
   "cell_type": "code",
   "execution_count": 18,
   "metadata": {},
   "outputs": [
    {
     "data": {
      "text/plain": [
       "Module(llvm, 561537a0a558)"
      ]
     },
     "execution_count": 18,
     "metadata": {},
     "output_type": "execute_result"
    }
   ],
   "source": [
    "lib"
   ]
  },
  {
   "cell_type": "code",
   "execution_count": null,
   "metadata": {},
   "outputs": [],
   "source": []
  }
 ],
 "metadata": {
  "kernelspec": {
   "display_name": "Python 3.10.4 ('torch': conda)",
   "language": "python",
   "name": "python3"
  },
  "language_info": {
   "codemirror_mode": {
    "name": "ipython",
    "version": 3
   },
   "file_extension": ".py",
   "mimetype": "text/x-python",
   "name": "python",
   "nbconvert_exporter": "python",
   "pygments_lexer": "ipython3",
   "version": "3.10.4"
  },
  "orig_nbformat": 4,
  "vscode": {
   "interpreter": {
    "hash": "20e538bd0bbffa4ce75068aaf85df10d4944f3fdb705eeec6781a4702773116f"
   }
  }
 },
 "nbformat": 4,
 "nbformat_minor": 2
}
