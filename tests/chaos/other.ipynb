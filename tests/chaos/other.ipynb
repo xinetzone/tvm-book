{
 "cells": [
  {
   "cell_type": "markdown",
   "metadata": {},
   "source": [
    "# 测试 TVM 结构\n",
    "\n",
    "{func}`tvm.ir.base.structural_equal` 在 IRNodes 的 DAG 中递归地定义结构相等。\n",
    "\n",
    "节点有两种：\n",
    "\n",
    "- Graph 节点：lhs 中的 graph 节点只能映射为等于 rhs 中的且只能映射为一个 graph 节点。\n",
    "- 普通节点：相等是递归定义的，不受 graph 节点的限制。\n",
    "\n",
    "Vars(tir::Var, TypeVar) 和不是常量的 Relay 表达式节点是 Graph 节点。例如，在 Relay 中 `%1 = %x + %y; %1 + %1` 在结构上不等于 `%1 = %x + %y; %2 = %x + %y; %1 + %2`。\n",
    "\n",
    "如果下列条件之一成立，var-type 节点（如 tir::Var, TypeVar）可以被映射为与另一个相同类型的 Var 相等：\n",
    "\n",
    "- 它们出现在同一个定义点（例如：函数参数）。\n",
    "- 它们通过 same_as 关系指向相同的 VarNode。\n",
    "- 它们出现在同一个 usage 点，并且 map_free_vars 设置为 `True`。\n",
    "\n",
    "var 规则用于重新映射函数参数和 `let` 绑定中的变量。"
   ]
  },
  {
   "cell_type": "code",
   "execution_count": 1,
   "metadata": {},
   "outputs": [],
   "source": [
    "import numpy as np\n",
    "import tvm\n",
    "import tvm.testing\n",
    "from tvm import relay\n",
    "from tvm.relay.testing import run_opt_pass"
   ]
  },
  {
   "cell_type": "code",
   "execution_count": 3,
   "metadata": {},
   "outputs": [],
   "source": [
    "import pytest\n",
    "import numpy as np\n",
    "\n",
    "import tvm\n",
    "from tvm.runtime import vm as _vm\n",
    "from tvm.relay import vm as rly_vm\n",
    "from tvm import relay\n",
    "\n",
    "from tvm.relay.scope_builder import ScopeBuilder\n",
    "from tvm.relay import transform\n",
    "from tvm.relay.prelude import Prelude\n",
    "from tvm.contrib import utils\n",
    "from tvm.relay import testing"
   ]
  },
  {
   "cell_type": "code",
   "execution_count": null,
   "metadata": {},
   "outputs": [],
   "source": []
  }
 ],
 "metadata": {
  "kernelspec": {
   "display_name": "Python 3.10.4 ('torch': conda)",
   "language": "python",
   "name": "python3"
  },
  "language_info": {
   "codemirror_mode": {
    "name": "ipython",
    "version": 3
   },
   "file_extension": ".py",
   "mimetype": "text/x-python",
   "name": "python",
   "nbconvert_exporter": "python",
   "pygments_lexer": "ipython3",
   "version": "3.10.4"
  },
  "orig_nbformat": 4,
  "vscode": {
   "interpreter": {
    "hash": "20e538bd0bbffa4ce75068aaf85df10d4944f3fdb705eeec6781a4702773116f"
   }
  }
 },
 "nbformat": 4,
 "nbformat_minor": 2
}
