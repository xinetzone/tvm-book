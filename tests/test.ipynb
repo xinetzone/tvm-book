{
 "cells": [
  {
   "cell_type": "markdown",
   "metadata": {},
   "source": [
    "# 测试"
   ]
  },
  {
   "cell_type": "code",
   "execution_count": 1,
   "metadata": {},
   "outputs": [],
   "source": [
    "import numpy as np\n",
    "import tvm\n",
    "from tvm.topi import tag\n",
    "from tvm import tir as T, te, topi, relay"
   ]
  },
  {
   "cell_type": "code",
   "execution_count": 5,
   "metadata": {},
   "outputs": [],
   "source": [
    "# @tvm.te.tag_scope(tag=tag.ELEMWISE)\n",
    "# def round(x):\n",
    "#     \"\"\"Round elements of x to nearest integer.\n",
    "\n",
    "#     Parameters\n",
    "#     ----------\n",
    "#     x : tvm.te.Tensor\n",
    "#         Input argument.\n",
    "\n",
    "#     Returns\n",
    "#     -------\n",
    "#     y : tvm.te.Tensor\n",
    "#         The result.\n",
    "#     \"\"\"\n",
    "#     def _func(x):\n",
    "#         return te.round(x)\n",
    "#     return te.compute(x.shape, _func)"
   ]
  },
  {
   "cell_type": "code",
   "execution_count": 3,
   "metadata": {},
   "outputs": [],
   "source": [
    "# shape = 2,\n",
    "# dtype = \"float32\"\n",
    "# x = te.placeholder(shape, name=\"x\", dtype=dtype)\n",
    "# z = round(x)\n",
    "# s = te.create_schedule(z.op)\n",
    "# f = tvm.build(s, [x, z], \"llvm\")\n",
    "# dev = tvm.cpu(0)\n",
    "# x_np = np.array([2.3, 2.5], dtype=dtype)\n",
    "# x_nd = tvm.nd.array(x_np)\n",
    "# z_nd = tvm.nd.empty(shape, dtype=dtype, device=dev)\n",
    "# f(x_nd, z_nd)"
   ]
  },
  {
   "cell_type": "code",
   "execution_count": 6,
   "metadata": {},
   "outputs": [],
   "source": [
    "import numpy as np"
   ]
  },
  {
   "cell_type": "code",
   "execution_count": 10,
   "metadata": {},
   "outputs": [
    {
     "name": "stdout",
     "output_type": "stream",
     "text": [
      "[0 1 2 3 4 5 6 7 8] [0.    0.5   0.5   0.75  0.5   0.625 0.75  0.875 0.5  ] [0 1 2 2 3 3 3 3 4]\n"
     ]
    }
   ],
   "source": [
    "x = np.arange(9)\n",
    "y1, y2 = np.frexp(x)\n",
    "print(x, y1, y2)"
   ]
  },
  {
   "cell_type": "code",
   "execution_count": 12,
   "metadata": {},
   "outputs": [
    {
     "data": {
      "text/plain": [
       "array([ 5., 10., 20., 40.], dtype=float16)"
      ]
     },
     "execution_count": 12,
     "metadata": {},
     "output_type": "execute_result"
    }
   ],
   "source": [
    "np.ldexp(5, np.arange(4))"
   ]
  },
  {
   "cell_type": "code",
   "execution_count": 13,
   "metadata": {},
   "outputs": [
    {
     "data": {
      "text/plain": [
       "array([0., 1., 2., 3., 4., 5.])"
      ]
     },
     "execution_count": 13,
     "metadata": {},
     "output_type": "execute_result"
    }
   ],
   "source": [
    "x = np.arange(6)\n",
    "np.ldexp(*np.frexp(x))"
   ]
  },
  {
   "cell_type": "code",
   "execution_count": 16,
   "metadata": {},
   "outputs": [
    {
     "data": {
      "text/plain": [
       "(-0.9765625, 10)"
      ]
     },
     "execution_count": 16,
     "metadata": {},
     "output_type": "execute_result"
    }
   ],
   "source": [
    "np.frexp(-1000)"
   ]
  },
  {
   "cell_type": "code",
   "execution_count": 17,
   "metadata": {},
   "outputs": [
    {
     "data": {
      "text/plain": [
       "(-0.6, 1)"
      ]
     },
     "execution_count": 17,
     "metadata": {},
     "output_type": "execute_result"
    }
   ],
   "source": [
    "np.frexp(-1.2)"
   ]
  },
  {
   "cell_type": "code",
   "execution_count": null,
   "metadata": {},
   "outputs": [],
   "source": [
    "topi.f"
   ]
  }
 ],
 "metadata": {
  "kernelspec": {
   "display_name": "tvmz",
   "language": "python",
   "name": "python3"
  },
  "language_info": {
   "codemirror_mode": {
    "name": "ipython",
    "version": 3
   },
   "file_extension": ".py",
   "mimetype": "text/x-python",
   "name": "python",
   "nbconvert_exporter": "python",
   "pygments_lexer": "ipython3",
   "version": "3.10.13"
  }
 },
 "nbformat": 4,
 "nbformat_minor": 2
}
