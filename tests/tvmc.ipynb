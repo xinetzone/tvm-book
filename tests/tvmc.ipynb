{
 "cells": [
  {
   "attachments": {},
   "cell_type": "markdown",
   "metadata": {},
   "source": [
    "# tvmc"
   ]
  },
  {
   "cell_type": "code",
   "execution_count": 1,
   "metadata": {},
   "outputs": [],
   "source": [
    "import logging\n",
    "from mxnet.gluon.model_zoo.vision import get_model\n",
    "\n",
    "from tvm import relay\n",
    "from tvm.driver import tvmc\n",
    "from tvm.driver.tvmc import TVMCModel, TVMCPackage, TVMCResult"
   ]
  },
  {
   "cell_type": "code",
   "execution_count": 2,
   "metadata": {},
   "outputs": [
    {
     "name": "stderr",
     "output_type": "stream",
     "text": [
      "/media/pc/data/4tb/lxw/libs/anaconda3/envs/py38/lib/python3.8/site-packages/tvm/driver/build_module.py:267: UserWarning: target_host parameter is going to be deprecated. Please pass in tvm.target.Target(target, host=target_host) instead.\n",
      "  warnings.warn(\n",
      "2022-11-11 15:08:14.973 INFO load_module /tmp/tmpljccm42j/mod.so\n"
     ]
    },
    {
     "name": "stdout",
     "output_type": "stream",
     "text": [
      "Execution time summary:\n",
      " mean (ms)   median (ms)    max (ms)     min (ms)     std (ms)  \n",
      "   8.4161       8.4096       8.6203       8.2909       0.1058   \n",
      "               \n"
     ]
    }
   ],
   "source": [
    "pretrained = True\n",
    "shape_dict = {'data': (1, 3, 224, 224)}\n",
    "model_name = 'mobilenet1.0'\n",
    "out_dir = 'outputs'\n",
    "logging.basicConfig(filename=f'{out_dir}/{model_name}.log')\n",
    "logger = logging.getLogger(name='logger')\n",
    "logger.setLevel(logging.DEBUG)\n",
    "\n",
    "model = get_model(model_name, pretrained=pretrained)\n",
    "mod, params = relay.frontend.from_mxnet(model, shape_dict)\n",
    "model = TVMCModel(mod, params)\n",
    "tvmc.compile(model, target=\"llvm\", package_path=\"whatever\")\n",
    "new_package = TVMCPackage(package_path=\"whatever\")\n",
    "result = tvmc.run(new_package, device='cpu') #Step 3: Run\n",
    "logger.info(model.mod['main'].astext()) # 记录 mod\n",
    "print(result.format_times())\n",
    "result.save(f'{out_dir}/{model_name}_resluts')\n",
    "model.save(f\"{out_dir}/{model_name}.params\")"
   ]
  },
  {
   "cell_type": "code",
   "execution_count": 3,
   "metadata": {},
   "outputs": [
    {
     "name": "stdout",
     "output_type": "stream",
     "text": [
      "[Task  3/21]  Current/Best:   31.68/ 237.22 GFLOPS | Progress: (476/476) | 206.11 s Done.\n",
      "[Task  5/21]  Current/Best:    0.00/   0.00 GFLOPS | Progress: (0/476) | 0.00 s70 s Done.\n",
      "[Task  5/21]  Current/Best:   11.05/ 286.81 GFLOPS | Progress: (476/476) | 171.35 s Done.\n",
      "[Task  7/21]  Current/Best:   21.30/ 213.57 GFLOPS | Progress: (476/476) | 245.42 s Done.\n",
      "[Task  9/21]  Current/Best:   45.21/ 166.23 GFLOPS | Progress: (48/476) | 21.66 s s Done.\n",
      "[Task 10/21]  Current/Best:   10.10/  89.47 GFLOPS | Progress: (48/476) | 22.26 s s Done.\n",
      "[Task 11/21]  Current/Best:   80.05/ 222.75 GFLOPS | Progress: (48/476) | 22.69 s s Done.\n",
      " Done.\n",
      " Done.\n",
      "[Task 11/21]  Current/Best:   27.32/ 275.92 GFLOPS | Progress: (476/476) | 183.68 s Done.\n",
      "[Task 13/21]  Current/Best:    0.00/   0.00 GFLOPS | Progress: (0/476) | 0.00 s40 s Done.\n",
      "[Task 13/21]  Current/Best:   75.44/ 251.65 GFLOPS | Progress: (476/476) | 169.93 s Done.\n",
      "[Task 15/21]  Current/Best:    0.00/   0.00 GFLOPS | Progress: (0/476) | 0.00 s08 s Done.\n",
      "[Task 15/21]  Current/Best:   90.53/ 284.92 GFLOPS | Progress: (476/476) | 165.71 s Done.\n",
      "[Task 18/21]  Current/Best:    0.00/   0.00 GFLOPS | Progress: (0/476) | 0.00 s48 s Done.\n",
      "[Task 19/21]  Current/Best:    0.00/   0.00 GFLOPS | Progress: (0/476) | 0.00 s20 s Done.\n",
      "[Task 21/21]  Current/Best:   25.62/  59.45 GFLOPS | Progress: (48/476) | 22.36 sss Done.\n",
      "[Task 21/21]  Current/Best:    4.10/  79.64 GFLOPS | Progress: (476/476) | 202.96 s"
     ]
    }
   ],
   "source": [
    "tuning_records = tvmc.tune(model, target=\"llvm\")"
   ]
  },
  {
   "cell_type": "code",
   "execution_count": 4,
   "metadata": {},
   "outputs": [
    {
     "name": "stdout",
     "output_type": "stream",
     "text": [
      " Done.\n",
      " Done.\n",
      " Done.\n"
     ]
    },
    {
     "name": "stderr",
     "output_type": "stream",
     "text": [
      "2022-11-11 17:01:06.201 INFO load_module /tmp/tmpye2ahrm1/mod.so\n"
     ]
    },
    {
     "name": "stdout",
     "output_type": "stream",
     "text": [
      "Execution time summary:\n",
      " mean (ms)   median (ms)    max (ms)     min (ms)     std (ms)  \n",
      "   9.2291       8.9125      11.2151       7.5655       1.1698   \n",
      "               \n",
      "Output Names:\n",
      " ['output_0']\n"
     ]
    }
   ],
   "source": [
    "tvmc_package = tvmc.compile(model, target=\"llvm\", tuning_records=tuning_records)\n",
    "result = tvmc.run(tvmc_package, device=\"cpu\")\n",
    "print(result)"
   ]
  },
  {
   "cell_type": "code",
   "execution_count": null,
   "metadata": {},
   "outputs": [],
   "source": []
  }
 ],
 "metadata": {
  "kernelspec": {
   "display_name": "ai",
   "language": "python",
   "name": "python3"
  },
  "language_info": {
   "codemirror_mode": {
    "name": "ipython",
    "version": 3
   },
   "file_extension": ".py",
   "mimetype": "text/x-python",
   "name": "python",
   "nbconvert_exporter": "python",
   "pygments_lexer": "ipython3",
   "version": "3.10.9"
  },
  "orig_nbformat": 4,
  "vscode": {
   "interpreter": {
    "hash": "d0d307675f12182d62ca143bf4e5db321e57c24ab1edf40ce60a9751b29adda0"
   }
  }
 },
 "nbformat": 4,
 "nbformat_minor": 2
}
